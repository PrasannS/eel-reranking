{
 "cells": [
  {
   "cell_type": "code",
   "execution_count": 1,
   "id": "a2bc696d-e037-4ab8-beb0-b2917453b5c2",
   "metadata": {},
   "outputs": [],
   "source": [
    "import json\n",
    "import numpy as np\n",
    "from matplotlib import pyplot as plt\n",
    "from scipy import optimize"
   ]
  },
  {
   "cell_type": "code",
   "execution_count": 12,
   "id": "07651a78-03e7-4da8-a480-a1da77822bed",
   "metadata": {},
   "outputs": [],
   "source": [
    "fren = './rerank_outputs/post1post1explodedmtn1_fr-en_bfs_recom_4_-1_False_0.4_True_False_4_5_rcb_0.9_0.0_0.9.json'\n",
    "ende = './rerank_outputs/post1explodedmt1n_en-de_bfs_recom_4_80_False_0.4_True_False_4_5_rcb_0.9_0.0_0.9.json'\n",
    "# Opening JSON file\n",
    "with open(fren) as json_file:\n",
    "    lat4 = json.load(json_file)['data']\n",
    "    \n",
    "# was post1cpybeam4fr_en\n",
    "with open('./rerank_outputs/post2post1beam49fr_en.json') as json_file:\n",
    "    beam49 = json.load(json_file)['data']\n"
   ]
  },
  {
   "cell_type": "code",
   "execution_count": 13,
   "id": "748acf7c-1398-4cb7-9545-2c61d762305f",
   "metadata": {},
   "outputs": [],
   "source": [
    "def print_example(ex, topof=\"comet\"):\n",
    "    print(\"INPUT - \"+ex['src'])\n",
    "    print(\"REFERENCE - \"+ex['ref'])\n",
    "    print()\n",
    "    qebest = np.argsort(ex['qescores']).tolist()\n",
    "    combest = np.argsort(ex['cometscores']).tolist()\n",
    "    #rebest = np.argsort(ex['rescores']).tolist()\n",
    "    #mbartbest = np.argsort(ex['mbartqescores']).tolist()\n",
    "    #transqbest = np.argsort(ex['tquestscores']).tolist()\n",
    "    slen = len(ex['modelscores'])\n",
    "    try:\n",
    "        for i in range(0, 5):\n",
    "            ind = -1\n",
    "            if topof == \"cometscores\":\n",
    "                ind = combest[slen-i-1]\n",
    "            elif topof == \"qescores\":\n",
    "                ind = qebest[slen-i-1]\n",
    "            elif topof == \"rescores\":\n",
    "                ind = rebest[i]\n",
    "            elif topof == \"mbartqescores\":\n",
    "                ind = mbartbest[slen-i-1]\n",
    "            elif topof == \"tquestscores\":\n",
    "                ind = transqbest[slen-i-1]\n",
    "            else:\n",
    "                ind = i\n",
    "            print(\"QE: \"+str(ex['qescores'][ind])+\" | POST: \"+str(ex['rescores'][ind])+\" | MODEL: \"+str(ex[\"modelscores\"][ind])+\" | COMET: \"+str(ex[\"cometscores\"][ind]))\n",
    "            #print(\"MBART: \"+str(ex['mbartqescores'][ind])+\" | TRANS: \"+str(ex['tquestscores'][ind]))\n",
    "            print(ex['cands'][ind])\n",
    "            print()\n",
    "            \n",
    "    except:\n",
    "        \"\"\n",
    "        \n",
    "def topsco_avg(cand, n):\n",
    "    scores = cand['rescores']\n",
    "    if len(cand) > n:\n",
    "        scores = scores[:n]\n",
    "    return sum(scores)/len(scores)\n",
    "\n",
    "def all_topsco_distr(c_list, n):\n",
    "    topdistr = []\n",
    "    for c in c_list:\n",
    "        if len(str(c['ref']))>10 and len(str(c['src']))>10:\n",
    "            topdistr.append(topsco_avg(c, n))\n",
    "    return topdistr\n",
    "\n",
    "def print_several_examples(n, ranker):\n",
    "    for i in range(0, n):\n",
    "        print(\"LATTICE\")\n",
    "        print()\n",
    "        print_example(lat4[i], ranker)\n",
    "        print(\"BEAM\")\n",
    "        print()\n",
    "        print_example(beam49[i], ranker)\n",
    "        \n",
    "def get_pairs_complete(cands, k1, k2):\n",
    "    x = []\n",
    "    y = []\n",
    "    for c in cands:\n",
    "        x.extend(c[k1])\n",
    "        y.extend(c[k2])\n",
    "    return x, y\n",
    "\n",
    "# method returns the comet score (average for top-n) after re-ranking for an example\n",
    "def rerank_sco (ex, n, ranker):\n",
    "    rank_list = ex[ranker]\n",
    "    indlist = np.argsort(rank_list).tolist()\n",
    "    comdistr = []\n",
    "    if ranker=='rescores':\n",
    "        for i in range(0, n):\n",
    "            comdistr.append(ex['cometscores'][indlist[i]])\n",
    "    else:\n",
    "        assert len(indlist) == len(ex['cometscores'])\n",
    "        for i in range(0, n):\n",
    "            comdistr.append(ex['cometscores'][indlist[-(i+1)]])\n",
    "    return sum(comdistr)/len(comdistr)\n",
    "\n",
    "def rerank_all (cands, n, ranker):\n",
    "    rer_distr = []\n",
    "    for c in cands:\n",
    "        rer_distr.append(rerank_sco(c, n, ranker))\n",
    "    return rer_distr\n",
    "\n",
    "def get_comp_distr(before, after):\n",
    "    res = []\n",
    "    assert len(before) == len(after)\n",
    "    for i in range(0, len(before)):\n",
    "        res.append(after[i]-before[i])\n",
    "    return res"
   ]
  },
  {
   "cell_type": "code",
   "execution_count": 14,
   "id": "0f886216-ac8c-46ef-82b2-eb49c0e938fe",
   "metadata": {},
   "outputs": [],
   "source": [
    "def find_ref_match(cand, clist):\n",
    "    for c in clist:\n",
    "        if c['src'] == cand['src']:\n",
    "            assert c['ref'] == cand['ref']\n",
    "            return c\n",
    "    print(\"no match\")\n",
    "    return None\n",
    "\n",
    "def get_top_diff():\n",
    "    distr = []\n",
    "    latcands = []\n",
    "    bcands = []\n",
    "    lscos = []\n",
    "    bscos = []\n",
    "    for b in beam49:\n",
    "        m = find_ref_match(b, lat4)\n",
    "        val = find_ref_match(b, beam49)\n",
    "        if m is not None and val is not None:\n",
    "            mbest = min(m['rescores'])\n",
    "            bbest = min(b['rescores'])\n",
    "            if abs(mbest-bbest)<.5:\n",
    "                lscos.append(bbest)\n",
    "                bscos.append(mbest)\n",
    "                mind = m['rescores'].index(mbest)\n",
    "                bind = b['rescores'].index(bbest)\n",
    "                distr.append(mbest-bbest)\n",
    "                latcands.append(m['cands'][mind])\n",
    "                bcands.append(m['cands'][bind])\n",
    "        # print(b['src'])\n",
    "    print(len(distr))\n",
    "    return distr, latcands, bcands, lscos, bscos\n",
    "\n",
    "def print_big_diffs(d, l, b):\n",
    "    for i in range(0, len(d)):\n",
    "        if abs(d[i])>.05:\n",
    "            print()\n",
    "            print(\"Score diff\", d[i])\n",
    "            print(\"LATTICE: \", l[i])\n",
    "            print(\"BEAM SEARCH: \", b[i])\n",
    "    \n"
   ]
  },
  {
   "cell_type": "code",
   "execution_count": 5,
   "id": "11858d02-5492-4794-b2c9-e98e9c12eabd",
   "metadata": {},
   "outputs": [
    {
     "name": "stdout",
     "output_type": "stream",
     "text": [
      "101\n"
     ]
    },
    {
     "ename": "NameError",
     "evalue": "name 'mean' is not defined",
     "output_type": "error",
     "traceback": [
      "\u001b[0;31m---------------------------------------------------------------------------\u001b[0m",
      "\u001b[0;31mNameError\u001b[0m                                 Traceback (most recent call last)",
      "Input \u001b[0;32mIn [5]\u001b[0m, in \u001b[0;36m<module>\u001b[0;34m\u001b[0m\n\u001b[1;32m      2\u001b[0m d, l, b, latsco, bsco \u001b[38;5;241m=\u001b[39m get_top_diff()\n\u001b[1;32m      3\u001b[0m \u001b[38;5;66;03m#print_big_diffs(d, l, b)\u001b[39;00m\n\u001b[0;32m----> 4\u001b[0m \u001b[38;5;28mprint\u001b[39m(\u001b[43mmean\u001b[49m(latsco))\n\u001b[1;32m      5\u001b[0m \u001b[38;5;28mprint\u001b[39m(mean(bsco))\n",
      "\u001b[0;31mNameError\u001b[0m: name 'mean' is not defined"
     ]
    }
   ],
   "source": [
    "#get_top_diff()\n",
    "d, l, b, latsco, bsco = get_top_diff()\n",
    "#print_big_diffs(d, l, b)\n",
    "print(mean(latsco))\n",
    "print(mean(bsco))"
   ]
  },
  {
   "cell_type": "code",
   "execution_count": null,
   "id": "c36cb6e9-357c-4e54-a2a0-25aa68d8da97",
   "metadata": {},
   "outputs": [],
   "source": [
    "lat4[0]['cands']\n"
   ]
  },
  {
   "cell_type": "code",
   "execution_count": 15,
   "id": "e68c616a-fe5a-46b8-bfd3-75867165dcf1",
   "metadata": {},
   "outputs": [],
   "source": [
    "weights = {\n",
    "    'rescores':0,\n",
    "    'mbartqescores':0,\n",
    "    'tquestscores':0,\n",
    "    'qescores':0, \n",
    "    'distillscores':1,\n",
    "}\n",
    "\n",
    "scorer = \"modelscores\"\n",
    "# reranking approaches\n",
    "def rerank_thresh (ex, thresh):\n",
    "    rank_list = ex['qescores']\n",
    "    indlist = np.argsort(rank_list).tolist()\n",
    "    comdistr = []\n",
    "    assert len(indlist) == len(ex['cometscores'])\n",
    "    for i in range(0, len(indlist)):\n",
    "        if abs(ex[scorer][indlist[-(i+1)]])>thresh:\n",
    "            continue\n",
    "        return ex['cometscores'][indlist[-(i+1)]]\n",
    "    print(\"No values within thresh\")\n",
    "    return ex['cometscores'][indlist[-(i+1)]]\n",
    "\n",
    "def rerank_weighted (ex, weights):\n",
    "    \n",
    "    resultvec = []\n",
    "    for i in range(0, len(ex['cands'])):\n",
    "        score = 0\n",
    "        for w in weights.keys():\n",
    "            score+=ex[w][i]*weights[w]\n",
    "        resultvec.append(score)\n",
    "    indlist = np.argsort(resultvec).tolist()\n",
    "    return ex['cometscores'][indlist[-1]]\n",
    "\n",
    "def rerank_all_thresh (cands, thresh):\n",
    "    rer_distr = []\n",
    "    for c in cands:\n",
    "        rer_distr.append(rerank_thresh(c, thresh))\n",
    "    return rer_distr\n",
    "\n",
    "bad = []\n",
    "def rerank_all_weighted (cands, weights):\n",
    "    global bad\n",
    "    rer_distr = []\n",
    "    num = 0\n",
    "    ind = 0\n",
    "    for c in cands:\n",
    "        m = find_ref_match(c, beam49)\n",
    "        l = find_ref_match(c, lat4)\n",
    "        if m is not None and l is not None:\n",
    "            if len(str(c['src']))>10:\n",
    "                rer_distr.append(rerank_weighted(c, weights))\n",
    "                num+=1\n",
    "        ind+=1\n",
    "    print(num)\n",
    "    return rer_distr\n",
    "\n",
    "def mean(l):\n",
    "    return sum(l)/len(l)\n",
    "\n",
    "maxweights = []\n",
    "maxsco = 0\n",
    "def weights_rer_search(weightarr, *args):\n",
    "    global maxsco\n",
    "    global maxweights\n",
    "    weightvals = weights\n",
    "    i = 0\n",
    "    for w in weights.keys():\n",
    "        weightvals[w] = weightarr[i]\n",
    "        i+=1\n",
    "        if i==len(weightarr):\n",
    "            break\n",
    "    #print(args[0])\n",
    "    #print(len(args))\n",
    "    val = -1*mean(rerank_all_weighted(args[0], weightvals))\n",
    "    if val<maxsco:\n",
    "        maxsco = val\n",
    "        maxweights = weightarr\n",
    "    return val\n",
    "\n",
    "def manual_search(cands):\n",
    "    mval = -1\n",
    "    mweights = []\n",
    "    for i in range(0, 5):\n",
    "        for j in range(0, 5):\n",
    "            for k in range(0, 5):\n",
    "                weightvec = [-1.25, 0.0+0.1*i, 0.1*j, 0.5+0.1*k]\n",
    "                weightvals = weights\n",
    "                i = 0\n",
    "                for w in weights.keys():\n",
    "                    weightvals[w] = weightvec[i]\n",
    "                    i+=1\n",
    "                    if i==len(weightvec):\n",
    "                        break\n",
    "                val = mean(rerank_all_weighted(cands, weightvals))\n",
    "                if val > mval:\n",
    "                    mval = val\n",
    "                    mweights = weightvec\n",
    "                    print(mval)\n",
    "    return mval, mweights"
   ]
  },
  {
   "cell_type": "code",
   "execution_count": 9,
   "id": "c5a71269-051a-4e9b-bf21-2b806e83ff6b",
   "metadata": {},
   "outputs": [
    {
     "ename": "KeyError",
     "evalue": "'mbartqescores'",
     "output_type": "error",
     "traceback": [
      "\u001b[0;31m---------------------------------------------------------------------------\u001b[0m",
      "\u001b[0;31mKeyError\u001b[0m                                  Traceback (most recent call last)",
      "Input \u001b[0;32mIn [9]\u001b[0m, in \u001b[0;36m<module>\u001b[0;34m\u001b[0m\n\u001b[0;32m----> 1\u001b[0m bestsco, bestweights \u001b[38;5;241m=\u001b[39m \u001b[43mmanual_search\u001b[49m\u001b[43m(\u001b[49m\u001b[43mlat4\u001b[49m\u001b[43m)\u001b[49m\n",
      "Input \u001b[0;32mIn [8]\u001b[0m, in \u001b[0;36mmanual_search\u001b[0;34m(cands)\u001b[0m\n\u001b[1;32m     92\u001b[0m     \u001b[38;5;28;01mif\u001b[39;00m i\u001b[38;5;241m==\u001b[39m\u001b[38;5;28mlen\u001b[39m(weightvec):\n\u001b[1;32m     93\u001b[0m         \u001b[38;5;28;01mbreak\u001b[39;00m\n\u001b[0;32m---> 94\u001b[0m val \u001b[38;5;241m=\u001b[39m mean(\u001b[43mrerank_all_weighted\u001b[49m\u001b[43m(\u001b[49m\u001b[43mcands\u001b[49m\u001b[43m,\u001b[49m\u001b[43m \u001b[49m\u001b[43mweightvals\u001b[49m\u001b[43m)\u001b[49m)\n\u001b[1;32m     95\u001b[0m \u001b[38;5;28;01mif\u001b[39;00m val \u001b[38;5;241m>\u001b[39m mval:\n\u001b[1;32m     96\u001b[0m     mval \u001b[38;5;241m=\u001b[39m val\n",
      "Input \u001b[0;32mIn [8]\u001b[0m, in \u001b[0;36mrerank_all_weighted\u001b[0;34m(cands, weights)\u001b[0m\n\u001b[1;32m     49\u001b[0m \u001b[38;5;28;01mif\u001b[39;00m m \u001b[38;5;129;01mis\u001b[39;00m \u001b[38;5;129;01mnot\u001b[39;00m \u001b[38;5;28;01mNone\u001b[39;00m \u001b[38;5;129;01mand\u001b[39;00m l \u001b[38;5;129;01mis\u001b[39;00m \u001b[38;5;129;01mnot\u001b[39;00m \u001b[38;5;28;01mNone\u001b[39;00m:\n\u001b[1;32m     50\u001b[0m     \u001b[38;5;28;01mif\u001b[39;00m \u001b[38;5;28mlen\u001b[39m(\u001b[38;5;28mstr\u001b[39m(c[\u001b[38;5;124m'\u001b[39m\u001b[38;5;124msrc\u001b[39m\u001b[38;5;124m'\u001b[39m]))\u001b[38;5;241m>\u001b[39m\u001b[38;5;241m10\u001b[39m:\n\u001b[0;32m---> 51\u001b[0m         rer_distr\u001b[38;5;241m.\u001b[39mappend(\u001b[43mrerank_weighted\u001b[49m\u001b[43m(\u001b[49m\u001b[43mc\u001b[49m\u001b[43m,\u001b[49m\u001b[43m \u001b[49m\u001b[43mweights\u001b[49m\u001b[43m)\u001b[49m)\n\u001b[1;32m     52\u001b[0m         num\u001b[38;5;241m+\u001b[39m\u001b[38;5;241m=\u001b[39m\u001b[38;5;241m1\u001b[39m\n\u001b[1;32m     53\u001b[0m ind\u001b[38;5;241m+\u001b[39m\u001b[38;5;241m=\u001b[39m\u001b[38;5;241m1\u001b[39m\n",
      "Input \u001b[0;32mIn [8]\u001b[0m, in \u001b[0;36mrerank_weighted\u001b[0;34m(ex, weights)\u001b[0m\n\u001b[1;32m     27\u001b[0m     score \u001b[38;5;241m=\u001b[39m \u001b[38;5;241m0\u001b[39m\n\u001b[1;32m     28\u001b[0m     \u001b[38;5;28;01mfor\u001b[39;00m w \u001b[38;5;129;01min\u001b[39;00m weights\u001b[38;5;241m.\u001b[39mkeys():\n\u001b[0;32m---> 29\u001b[0m         score\u001b[38;5;241m+\u001b[39m\u001b[38;5;241m=\u001b[39m\u001b[43mex\u001b[49m\u001b[43m[\u001b[49m\u001b[43mw\u001b[49m\u001b[43m]\u001b[49m[i]\u001b[38;5;241m*\u001b[39mweights[w]\n\u001b[1;32m     30\u001b[0m     resultvec\u001b[38;5;241m.\u001b[39mappend(score)\n\u001b[1;32m     31\u001b[0m indlist \u001b[38;5;241m=\u001b[39m np\u001b[38;5;241m.\u001b[39margsort(resultvec)\u001b[38;5;241m.\u001b[39mtolist()\n",
      "\u001b[0;31mKeyError\u001b[0m: 'mbartqescores'"
     ]
    }
   ],
   "source": [
    "bestsco, bestweights = manual_search(beam49)"
   ]
  },
  {
   "cell_type": "code",
   "execution_count": 11,
   "id": "f810cd3f-24f0-44d1-977a-35055d06aa86",
   "metadata": {},
   "outputs": [
    {
     "ename": "NameError",
     "evalue": "name 'bestsco' is not defined",
     "output_type": "error",
     "traceback": [
      "\u001b[0;31m---------------------------------------------------------------------------\u001b[0m",
      "\u001b[0;31mNameError\u001b[0m                                 Traceback (most recent call last)",
      "Input \u001b[0;32mIn [11]\u001b[0m, in \u001b[0;36m<module>\u001b[0;34m\u001b[0m\n\u001b[0;32m----> 1\u001b[0m \u001b[43mbestsco\u001b[49m\n",
      "\u001b[0;31mNameError\u001b[0m: name 'bestsco' is not defined"
     ]
    }
   ],
   "source": [
    "bestsco"
   ]
  },
  {
   "cell_type": "code",
   "execution_count": 23,
   "id": "63d339f8-d404-44e2-8b93-25b327fd901f",
   "metadata": {},
   "outputs": [],
   "source": [
    "def average_greedy(cands):\n",
    "    cnt = 0\n",
    "    tot = 0\n",
    "    for c in cands:\n",
    "        if len(c['rescores'])>0:\n",
    "            tot+=c['rescores'][0]\n",
    "            cnt+=1\n",
    "    return tot/cnt"
   ]
  },
  {
   "cell_type": "code",
   "execution_count": 57,
   "id": "fb7d35c3-afab-451d-8a98-682e5404f8cb",
   "metadata": {},
   "outputs": [
    {
     "data": {
      "text/plain": [
       "0.34844683576375246"
      ]
     },
     "execution_count": 57,
     "metadata": {},
     "output_type": "execute_result"
    }
   ],
   "source": [
    "mean(all_topsco_distr(beam49, 1))"
   ]
  },
  {
   "cell_type": "code",
   "execution_count": 16,
   "id": "dfcf69c8-fa6e-4647-9cd7-23c148a87798",
   "metadata": {},
   "outputs": [
    {
     "ename": "KeyError",
     "evalue": "'distillscores'",
     "output_type": "error",
     "traceback": [
      "\u001b[0;31m---------------------------------------------------------------------------\u001b[0m",
      "\u001b[0;31mKeyError\u001b[0m                                  Traceback (most recent call last)",
      "Input \u001b[0;32mIn [16]\u001b[0m, in \u001b[0;36m<module>\u001b[0;34m\u001b[0m\n\u001b[1;32m      1\u001b[0m \u001b[38;5;66;03m#rranges = (slice(-2, 0, 0.5), slice(0, .5, 0.5), slice(0, .5, 0.5), slice(0, .5, 0.5), slice(0, 2, 0.5))\u001b[39;00m\n\u001b[1;32m      2\u001b[0m \u001b[38;5;66;03m#resbrute = optimize.brute(weights_rer_search, rranges, args=(lat4,), full_output=True, finish=optimize.fmin, disp=True)\u001b[39;00m\n\u001b[0;32m----> 4\u001b[0m mean(\u001b[43mrerank_all_weighted\u001b[49m\u001b[43m(\u001b[49m\u001b[43mlat4\u001b[49m\u001b[43m,\u001b[49m\u001b[43m \u001b[49m\u001b[43m{\u001b[49m\n\u001b[1;32m      5\u001b[0m \u001b[43m    \u001b[49m\u001b[38;5;124;43m'\u001b[39;49m\u001b[38;5;124;43mrescores\u001b[39;49m\u001b[38;5;124;43m'\u001b[39;49m\u001b[43m:\u001b[49m\u001b[38;5;241;43m0\u001b[39;49m\u001b[43m,\u001b[49m\n\u001b[1;32m      6\u001b[0m \u001b[43m    \u001b[49m\u001b[38;5;66;43;03m#'mbartqescores':0,\u001b[39;49;00m\n\u001b[1;32m      7\u001b[0m \u001b[43m    \u001b[49m\u001b[38;5;66;43;03m#'tquestscores':0,\u001b[39;49;00m\n\u001b[1;32m      8\u001b[0m \u001b[43m    \u001b[49m\u001b[38;5;124;43m'\u001b[39;49m\u001b[38;5;124;43mqescores\u001b[39;49m\u001b[38;5;124;43m'\u001b[39;49m\u001b[43m:\u001b[49m\u001b[38;5;241;43m0\u001b[39;49m\u001b[43m,\u001b[49m\u001b[43m \u001b[49m\n\u001b[1;32m      9\u001b[0m \u001b[43m    \u001b[49m\u001b[38;5;124;43m'\u001b[39;49m\u001b[38;5;124;43mcometscores\u001b[39;49m\u001b[38;5;124;43m'\u001b[39;49m\u001b[43m:\u001b[49m\u001b[38;5;241;43m0\u001b[39;49m\u001b[43m,\u001b[49m\n\u001b[1;32m     10\u001b[0m \u001b[43m    \u001b[49m\u001b[38;5;124;43m'\u001b[39;49m\u001b[38;5;124;43mmodelscores\u001b[39;49m\u001b[38;5;124;43m'\u001b[39;49m\u001b[43m:\u001b[49m\u001b[38;5;241;43m0\u001b[39;49m\u001b[43m,\u001b[49m\n\u001b[1;32m     11\u001b[0m \u001b[43m    \u001b[49m\u001b[38;5;124;43m'\u001b[39;49m\u001b[38;5;124;43mdistillscores\u001b[39;49m\u001b[38;5;124;43m'\u001b[39;49m\u001b[43m:\u001b[49m\u001b[38;5;241;43m1\u001b[39;49m\n\u001b[1;32m     12\u001b[0m \u001b[43m}\u001b[49m\u001b[43m)\u001b[49m)\n",
      "Input \u001b[0;32mIn [15]\u001b[0m, in \u001b[0;36mrerank_all_weighted\u001b[0;34m(cands, weights)\u001b[0m\n\u001b[1;32m     49\u001b[0m \u001b[38;5;28;01mif\u001b[39;00m m \u001b[38;5;129;01mis\u001b[39;00m \u001b[38;5;129;01mnot\u001b[39;00m \u001b[38;5;28;01mNone\u001b[39;00m \u001b[38;5;129;01mand\u001b[39;00m l \u001b[38;5;129;01mis\u001b[39;00m \u001b[38;5;129;01mnot\u001b[39;00m \u001b[38;5;28;01mNone\u001b[39;00m:\n\u001b[1;32m     50\u001b[0m     \u001b[38;5;28;01mif\u001b[39;00m \u001b[38;5;28mlen\u001b[39m(\u001b[38;5;28mstr\u001b[39m(c[\u001b[38;5;124m'\u001b[39m\u001b[38;5;124msrc\u001b[39m\u001b[38;5;124m'\u001b[39m]))\u001b[38;5;241m>\u001b[39m\u001b[38;5;241m10\u001b[39m:\n\u001b[0;32m---> 51\u001b[0m         rer_distr\u001b[38;5;241m.\u001b[39mappend(\u001b[43mrerank_weighted\u001b[49m\u001b[43m(\u001b[49m\u001b[43mc\u001b[49m\u001b[43m,\u001b[49m\u001b[43m \u001b[49m\u001b[43mweights\u001b[49m\u001b[43m)\u001b[49m)\n\u001b[1;32m     52\u001b[0m         num\u001b[38;5;241m+\u001b[39m\u001b[38;5;241m=\u001b[39m\u001b[38;5;241m1\u001b[39m\n\u001b[1;32m     53\u001b[0m ind\u001b[38;5;241m+\u001b[39m\u001b[38;5;241m=\u001b[39m\u001b[38;5;241m1\u001b[39m\n",
      "Input \u001b[0;32mIn [15]\u001b[0m, in \u001b[0;36mrerank_weighted\u001b[0;34m(ex, weights)\u001b[0m\n\u001b[1;32m     27\u001b[0m     score \u001b[38;5;241m=\u001b[39m \u001b[38;5;241m0\u001b[39m\n\u001b[1;32m     28\u001b[0m     \u001b[38;5;28;01mfor\u001b[39;00m w \u001b[38;5;129;01min\u001b[39;00m weights\u001b[38;5;241m.\u001b[39mkeys():\n\u001b[0;32m---> 29\u001b[0m         score\u001b[38;5;241m+\u001b[39m\u001b[38;5;241m=\u001b[39m\u001b[43mex\u001b[49m\u001b[43m[\u001b[49m\u001b[43mw\u001b[49m\u001b[43m]\u001b[49m[i]\u001b[38;5;241m*\u001b[39mweights[w]\n\u001b[1;32m     30\u001b[0m     resultvec\u001b[38;5;241m.\u001b[39mappend(score)\n\u001b[1;32m     31\u001b[0m indlist \u001b[38;5;241m=\u001b[39m np\u001b[38;5;241m.\u001b[39margsort(resultvec)\u001b[38;5;241m.\u001b[39mtolist()\n",
      "\u001b[0;31mKeyError\u001b[0m: 'distillscores'"
     ]
    }
   ],
   "source": [
    "#rranges = (slice(-2, 0, 0.5), slice(0, .5, 0.5), slice(0, .5, 0.5), slice(0, .5, 0.5), slice(0, 2, 0.5))\n",
    "#resbrute = optimize.brute(weights_rer_search, rranges, args=(lat4,), full_output=True, finish=optimize.fmin, disp=True)\n",
    "\n",
    "mean(rerank_all_weighted(lat4, {\n",
    "    'rescores':0,\n",
    "    #'mbartqescores':0,\n",
    "    #'tquestscores':0,\n",
    "    'qescores':0, \n",
    "    'cometscores':0,\n",
    "    'modelscores':0,\n",
    "    'distillscores':1\n",
    "}))"
   ]
  },
  {
   "cell_type": "code",
   "execution_count": 8,
   "id": "1f0aabbd-99da-49a5-9eeb-609ccdce149e",
   "metadata": {},
   "outputs": [
    {
     "data": {
      "text/plain": [
       "<matplotlib.collections.PathCollection at 0x7fdefdd01d30>"
      ]
     },
     "execution_count": 8,
     "metadata": {},
     "output_type": "execute_result"
    },
    {
     "data": {
      "image/png": "[encoded data removed]",
      "text/plain": [
       "<Figure size 432x288 with 1 Axes>"
      ]
     },
     "metadata": {
      "needs_background": "light"
     },
     "output_type": "display_data"
    }
   ],
   "source": [
    "adistill, acom = [], []\n",
    "for b in beam49:\n",
    "    adistill.extend(b['distillscores'] )\n",
    "    acom.extend(b['cometscores'])\n",
    "plt.scatter(adistill, acom)"
   ]
  },
  {
   "cell_type": "code",
   "execution_count": 67,
   "id": "1fac2368-ead5-431f-a4a3-938946f0ae08",
   "metadata": {},
   "outputs": [
    {
     "data": {
      "text/plain": [
       "array([-2.04e+00, -2.50e-04,  1.00e-04,  1.00e-04,  1.00e-04])"
      ]
     },
     "execution_count": 67,
     "metadata": {},
     "output_type": "execute_result"
    }
   ],
   "source": [
    "def manual_search():\n",
    "    global weights\n",
    "    for "
   ]
  },
  {
   "cell_type": "code",
   "execution_count": 83,
   "id": "1c236f93-b329-497c-844b-56f88907cf16",
   "metadata": {},
   "outputs": [
    {
     "data": {
      "text/plain": [
       "(array([15., 62., 15.,  6.,  1.,  0.,  0.,  1.,  0.,  0.,  0.,  0.,  0.,\n",
       "         0.,  0.,  0.,  0.,  0.,  0.,  1.]),\n",
       " array([-0.0917402 , -0.02910655,  0.03352709,  0.09616074,  0.15879438,\n",
       "         0.22142803,  0.28406168,  0.34669532,  0.40932897,  0.47196261,\n",
       "         0.53459626,  0.5972299 ,  0.65986355,  0.72249719,  0.78513084,\n",
       "         0.84776449,  0.91039813,  0.97303178,  1.03566542,  1.09829907,\n",
       "         1.16093271]),\n",
       " <BarContainer object of 20 artists>)"
      ]
     },
     "execution_count": 83,
     "metadata": {},
     "output_type": "execute_result"
    },
    {
     "data": {
      "image/png": "[encoded data removed]",
      "text/plain": [
       "<Figure size 432x288 with 1 Axes>"
      ]
     },
     "metadata": {
      "needs_background": "light"
     },
     "output_type": "display_data"
    }
   ],
   "source": [
    "a = rerank_all(beam49, 10, \"qescores\")\n",
    "b = rerank_all(beam49, 10, \"rescores\")\n",
    "comp = get_comp_distr(b, a)\n",
    "plt.hist(comp, bins =20)"
   ]
  },
  {
   "cell_type": "code",
   "execution_count": 84,
   "id": "7297dad6-2619-4f3e-aed8-4049ece2b250",
   "metadata": {},
   "outputs": [
    {
     "name": "stdout",
     "output_type": "stream",
     "text": [
      "0.027135396971929782\n"
     ]
    }
   ],
   "source": [
    "print(sum(comp)/len(comp))"
   ]
  },
  {
   "cell_type": "code",
   "execution_count": 9,
   "id": "7bdf6e62-5fff-4cf2-a12c-911833e777b9",
   "metadata": {},
   "outputs": [
    {
     "data": {
      "image/png": "[encoded data removed]",
      "text/plain": [
       "<Figure size 432x288 with 1 Axes>"
      ]
     },
     "metadata": {
      "needs_background": "light"
     },
     "output_type": "display_data"
    }
   ],
   "source": [
    "x, y = get_pairs_complete(lat4, \"modelscores\", \"rescores\")\n",
    "  \n",
    "plt.scatter(x, y)\n",
    "plt.show()"
   ]
  },
  {
   "cell_type": "code",
   "execution_count": 49,
   "id": "c0a600a8-b278-4301-97a6-853dd713810f",
   "metadata": {},
   "outputs": [
    {
     "data": {
      "image/png": "[encoded data removed]",
      "text/plain": [
       "<Figure size 432x288 with 1 Axes>"
      ]
     },
     "metadata": {
      "needs_background": "light"
     },
     "output_type": "display_data"
    }
   ],
   "source": [
    "#x, y = get_pairs_complete(beam49, \"modelscores\", \"cometscores\")\n",
    "\n",
    "heatmap, xedges, yedges = np.histogram2d(x, y, bins=(10, 10))\n",
    "extent = [xedges[0], xedges[-1], yedges[0], yedges[-1]]\n",
    "\n",
    "plt.clf()\n",
    "plt.imshow(heatmap.T, extent=extent, origin='lower')\n",
    "plt.show()"
   ]
  },
  {
   "cell_type": "code",
   "execution_count": 43,
   "id": "e8f76482-81c7-4a9f-9c3f-a0147c1ebf38",
   "metadata": {},
   "outputs": [
    {
     "data": {
      "text/plain": [
       "(array([16., 27., 22., 15.,  9.,  4.,  4.,  2.,  0.,  2.]),\n",
       " array([0.47536054, 0.56476725, 0.65417396, 0.74358066, 0.83298737,\n",
       "        0.92239407, 1.01180078, 1.10120748, 1.19061419, 1.2800209 ,\n",
       "        1.3694276 ]),\n",
       " <BarContainer object of 10 artists>)"
      ]
     },
     "execution_count": 43,
     "metadata": {},
     "output_type": "execute_result"
    },
    {
     "data": {
      "image/png": "[encoded data removed]",
      "text/plain": [
       "<Figure size 432x288 with 1 Axes>"
      ]
     },
     "metadata": {
      "needs_background": "light"
     },
     "output_type": "display_data"
    }
   ],
   "source": [
    "bdistr = all_topsco_distr(beam49, 20)\n",
    "latdistr = all_topsco_distr(lat4, 20)\n",
    "plt.hist(latdistr)"
   ]
  },
  {
   "cell_type": "code",
   "execution_count": 24,
   "id": "eebcfff2-27a9-49b0-b116-e97603cb99a2",
   "metadata": {},
   "outputs": [
    {
     "data": {
      "text/plain": [
       "0.7219551513372303"
      ]
     },
     "execution_count": 24,
     "metadata": {},
     "output_type": "execute_result"
    }
   ],
   "source": [
    "sum(latdistr)/len(latdistr)"
   ]
  },
  {
   "cell_type": "code",
   "execution_count": 25,
   "id": "20dce9e2-0991-4419-8148-e09ec3ddef35",
   "metadata": {},
   "outputs": [
    {
     "data": {
      "text/plain": [
       "0.4211500431189852"
      ]
     },
     "execution_count": 25,
     "metadata": {},
     "output_type": "execute_result"
    }
   ],
   "source": [
    "sum(bdistr)/len(bdistr)"
   ]
  },
  {
   "cell_type": "code",
   "execution_count": null,
   "id": "5bbba863-8735-4856-9f26-0eec861dc2f2",
   "metadata": {},
   "outputs": [],
   "source": [
    "from transformers import AutoTokenizer, AutoModelForSeq2SeqLM\n",
    "\n",
    "dev = \"cuda:2\"\n",
    "mname = \"facebook/mbart-large-50-one-to-many-mmt\"\n",
    "tokenizer = AutoTokenizer.from_pretrained(mname)\n",
    "model = AutoModelForSeq2SeqLM.from_pretrained(mname)\n",
    "tok = AutoTokenizer.from_pretrained(mname, src_lang='en_XX', tgt_lang='de_DE')\n",
    "model.to(dev)"
   ]
  },
  {
   "cell_type": "code",
   "execution_count": 108,
   "id": "fcfc7b42-a3a1-490c-bc8e-1fbb85a49f09",
   "metadata": {},
   "outputs": [],
   "source": [
    "def sanity_beam(ind, lcode='de_DE', beams=4, mlen=80):\n",
    "    \n",
    "    model_inputs = tokenizer([beam49[ind]['src']], return_tensors=\"pt\", truncation=True, padding=True).to(dev)\n",
    "    outs = model.generate(\n",
    "        **model_inputs,\n",
    "        forced_bos_token_id=tokenizer.lang_code_to_id[lcode],\n",
    "        num_beams=beams,\n",
    "        max_length=mlen, \n",
    "        num_return_sequences=beams,\n",
    "        return_dict_in_generate=True,\n",
    "        output_scores=True,\n",
    "    )\n",
    "    \n",
    "    print(outs.sequences_scores)\n",
    "    print(beam49[ind]['modelscores'])\n",
    "    print(beam49[ind]['rescores'])\n",
    "    inputs = tokenizer(beam49[ind]['src'], return_tensors=\"pt\").to(dev)\n",
    "    for c in beam49[ind]['cands']:\n",
    "        #print(inputs)\n",
    "        with tok.as_target_tokenizer():\n",
    "            labels = tok([c], return_tensors=\"pt\").to(dev)\n",
    "        output = model(**inputs, labels=labels.input_ids)\n",
    "        print(output.loss)\n",
    "    mis = 0\n",
    "    m = np.argsort(beam49[ind]['modelscores']).tolist()\n",
    "    print(m)\n",
    "    t = np.argsort(beam49[ind]['rescores']).tolist()\n",
    "    t.reverse()\n",
    "    print(t)\n",
    "    return t==m\n",
    "\n",
    "def sanity_lattice(ind, lcode='de_DE', beams=4, mlen=80):\n",
    "    \n",
    "    #print(outs.sequences_scores)\n",
    "    #print(lat4[ind]['modelscores'])\n",
    "    #print(lat4[ind]['rescores'])\n",
    "    inputs = tokenizer(lat4[ind]['src'], return_tensors=\"pt\").to(dev)\n",
    "    for c in lat4[ind]['cands'][:10]:\n",
    "        #print(inputs)\n",
    "        with tok.as_target_tokenizer():\n",
    "            labels = tok([c], return_tensors=\"pt\").to(dev)\n",
    "        output = model(**inputs, labels=labels.input_ids)\n",
    "        #print(output.loss)\n",
    "    m = np.argsort(lat4[ind]['modelscores']).tolist()\n",
    "    #print(m)\n",
    "    t = np.argsort(lat4[ind]['rescores']).tolist()\n",
    "    t.reverse()\n",
    "    #print(t)\n",
    "    print(t[:5])\n",
    "    print(m[-5:])\n",
    "    return t[:5]==m[-5:]\n",
    "    \n"
   ]
  },
  {
   "cell_type": "code",
   "execution_count": null,
   "id": "07513c24-13b1-45d3-bb42-2ec1a8efa736",
   "metadata": {},
   "outputs": [],
   "source": [
    "cnt = 0\n",
    "for i in range(0, len(lat4)):\n",
    "    print(i)\n",
    "    if sanity_lattice(i):\n",
    "            cnt+=1\n",
    "print(cnt)"
   ]
  },
  {
   "cell_type": "code",
   "execution_count": 98,
   "id": "23c91fc3-83cb-43e2-a97f-9bfadcafcf3a",
   "metadata": {},
   "outputs": [
    {
     "data": {
      "text/plain": [
       "[-0.4107227325439453,\n",
       " -0.4116992652416229,\n",
       " -0.41290998458862305,\n",
       " -0.4169265627861023]"
      ]
     },
     "execution_count": 98,
     "metadata": {},
     "output_type": "execute_result"
    }
   ],
   "source": [
    "beam49[3]['modelscores']"
   ]
  },
  {
   "cell_type": "code",
   "execution_count": null,
   "id": "4d9bb8e0-acdd-4dcc-944b-33a1c0eaa33f",
   "metadata": {},
   "outputs": [],
   "source": [
    "\n",
    "\n",
    "# forward pass\n"
   ]
  }
 ],
 "metadata": {
  "kernelspec": {
   "display_name": "Python 3 (ipykernel)",
   "language": "python",
   "name": "python3"
  },
  "language_info": {
   "codemirror_mode": {
    "name": "ipython",
    "version": 3
   },
   "file_extension": ".py",
   "mimetype": "text/x-python",
   "name": "python",
   "nbconvert_exporter": "python",
   "pygments_lexer": "ipython3",
   "version": "3.8.12"
  }
 },
 "nbformat": 4,
 "nbformat_minor": 5
}
