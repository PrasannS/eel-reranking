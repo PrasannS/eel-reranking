{
 "cells": [
  {
   "cell_type": "code",
   "execution_count": 1,
   "id": "a2bc696d-e037-4ab8-beb0-b2917453b5c2",
   "metadata": {},
   "outputs": [],
   "source": [
    "import json\n",
    "import numpy as np\n",
    "from matplotlib import pyplot as plt\n",
    "from scipy import optimize"
   ]
  },
  {
   "cell_type": "code",
   "execution_count": 2,
   "id": "07651a78-03e7-4da8-a480-a1da77822bed",
   "metadata": {},
   "outputs": [],
   "source": [
    "fren = './rerank_outputs/post1explodedmtn1_fr-en_bfs_recom_4_-1_False_0.4_True_False_4_5_rcb_0.9_0.0_0.9.json'\n",
    "ende = './rerank_outputs/post1explodedmt1n_en-de_bfs_recom_4_80_False_0.4_True_False_4_5_rcb_0.9_0.0_0.9.json'\n",
    "# Opening JSON file\n",
    "with open(fren) as json_file:\n",
    "    lat4 = json.load(json_file)['data']\n",
    "    \n",
    "with open('./rerank_outputs/post1cpybeam4fr_en.json') as json_file:\n",
    "    beam49 = json.load(json_file)['data']\n"
   ]
  },
  {
   "cell_type": "code",
   "execution_count": 3,
   "id": "748acf7c-1398-4cb7-9545-2c61d762305f",
   "metadata": {},
   "outputs": [],
   "source": [
    "def print_example(ex, topof=\"comet\"):\n",
    "    print(\"INPUT - \"+ex['src'])\n",
    "    print(\"REFERENCE - \"+ex['ref'])\n",
    "    print()\n",
    "    qebest = np.argsort(ex['qescores']).tolist()\n",
    "    combest = np.argsort(ex['cometscores']).tolist()\n",
    "    #rebest = np.argsort(ex['rescores']).tolist()\n",
    "    #mbartbest = np.argsort(ex['mbartqescores']).tolist()\n",
    "    #transqbest = np.argsort(ex['tquestscores']).tolist()\n",
    "    slen = len(ex['modelscores'])\n",
    "    try:\n",
    "        for i in range(0, 5):\n",
    "            ind = -1\n",
    "            if topof == \"cometscores\":\n",
    "                ind = combest[slen-i-1]\n",
    "            elif topof == \"qescores\":\n",
    "                ind = qebest[slen-i-1]\n",
    "            elif topof == \"rescores\":\n",
    "                ind = rebest[i]\n",
    "            elif topof == \"mbartqescores\":\n",
    "                ind = mbartbest[slen-i-1]\n",
    "            elif topof == \"tquestscores\":\n",
    "                ind = transqbest[slen-i-1]\n",
    "            else:\n",
    "                ind = i\n",
    "            print(\"QE: \"+str(ex['qescores'][ind])+\" | POST: \"+str(ex['rescores'][ind])+\" | MODEL: \"+str(ex[\"modelscores\"][ind])+\" | COMET: \"+str(ex[\"cometscores\"][ind]))\n",
    "            #print(\"MBART: \"+str(ex['mbartqescores'][ind])+\" | TRANS: \"+str(ex['tquestscores'][ind]))\n",
    "            print(ex['cands'][ind])\n",
    "            print()\n",
    "            \n",
    "    except:\n",
    "        \"\"\n",
    "        \n",
    "def topsco_avg(cand, n):\n",
    "    scores = cand['rescores']\n",
    "    if len(cand) > n:\n",
    "        scores = scores[:n]\n",
    "    return sum(scores)/len(scores)\n",
    "\n",
    "def all_topsco_distr(c_list, n):\n",
    "    topdistr = []\n",
    "    for c in c_list:\n",
    "        if len(str(c['ref']))>10 and len(str(c['src']))>10:\n",
    "            topdistr.append(topsco_avg(c, n))\n",
    "    return topdistr\n",
    "\n",
    "def print_several_examples(n, ranker):\n",
    "    for i in range(0, n):\n",
    "        print(\"LATTICE\")\n",
    "        print()\n",
    "        print_example(lat4[i], ranker)\n",
    "        print(\"BEAM\")\n",
    "        print()\n",
    "        print_example(beam49[i], ranker)\n",
    "        \n",
    "def get_pairs_complete(cands, k1, k2):\n",
    "    x = []\n",
    "    y = []\n",
    "    for c in cands:\n",
    "        x.extend(c[k1])\n",
    "        y.extend(c[k2])\n",
    "    return x, y\n",
    "\n",
    "# method returns the comet score (average for top-n) after re-ranking for an example\n",
    "def rerank_sco (ex, n, ranker):\n",
    "    rank_list = ex[ranker]\n",
    "    indlist = np.argsort(rank_list).tolist()\n",
    "    comdistr = []\n",
    "    if ranker=='rescores':\n",
    "        for i in range(0, n):\n",
    "            comdistr.append(ex['cometscores'][indlist[i]])\n",
    "    else:\n",
    "        assert len(indlist) == len(ex['cometscores'])\n",
    "        for i in range(0, n):\n",
    "            comdistr.append(ex['cometscores'][indlist[-(i+1)]])\n",
    "    return sum(comdistr)/len(comdistr)\n",
    "\n",
    "def rerank_all (cands, n, ranker):\n",
    "    rer_distr = []\n",
    "    for c in cands:\n",
    "        rer_distr.append(rerank_sco(c, n, ranker))\n",
    "    return rer_distr\n",
    "\n",
    "def get_comp_distr(before, after):\n",
    "    res = []\n",
    "    assert len(before) == len(after)\n",
    "    for i in range(0, len(before)):\n",
    "        res.append(after[i]-before[i])\n",
    "    return res"
   ]
  },
  {
   "cell_type": "code",
   "execution_count": 4,
   "id": "0f886216-ac8c-46ef-82b2-eb49c0e938fe",
   "metadata": {},
   "outputs": [],
   "source": [
    "def find_ref_match(cand, clist):\n",
    "    for c in clist:\n",
    "        if c['src'] == cand['src']:\n",
    "            assert c['ref'] == cand['ref']\n",
    "            return c\n",
    "    print(\"no match\")\n",
    "    return None\n",
    "\n",
    "def get_top_diff():\n",
    "    distr = []\n",
    "    latcands = []\n",
    "    bcands = []\n",
    "    lscos = []\n",
    "    bscos = []\n",
    "    for b in beam49:\n",
    "        m = find_ref_match(b, lat4)\n",
    "        val = find_ref_match(b, beam49)\n",
    "        if m is not None and val is not None:\n",
    "            mbest = min(m['rescores'])\n",
    "            bbest = min(b['rescores'])\n",
    "            if abs(mbest-bbest)<.5:\n",
    "                lscos.append(bbest)\n",
    "                bscos.append(mbest)\n",
    "                mind = m['rescores'].index(mbest)\n",
    "                bind = b['rescores'].index(bbest)\n",
    "                distr.append(mbest-bbest)\n",
    "                latcands.append(m['cands'][mind])\n",
    "                bcands.append(m['cands'][bind])\n",
    "        # print(b['src'])\n",
    "    print(len(distr))\n",
    "    return distr, latcands, bcands, lscos, bscos\n",
    "\n",
    "def print_big_diffs(d, l, b):\n",
    "    for i in range(0, len(d)):\n",
    "        if abs(d[i])>.05:\n",
    "            print()\n",
    "            print(\"Score diff\", d[i])\n",
    "            print(\"LATTICE: \", l[i])\n",
    "            print(\"BEAM SEARCH: \", b[i])\n",
    "    \n"
   ]
  },
  {
   "cell_type": "code",
   "execution_count": 69,
   "id": "11858d02-5492-4794-b2c9-e98e9c12eabd",
   "metadata": {},
   "outputs": [
    {
     "name": "stdout",
     "output_type": "stream",
     "text": [
      "96\n",
      "0.34295325850447017\n",
      "0.351233580460151\n"
     ]
    }
   ],
   "source": [
    "#get_top_diff()\n",
    "d, l, b, latsco, bsco = get_top_diff()\n",
    "#print_big_diffs(d, l, b)\n",
    "print(mean(latsco))\n",
    "print(mean(bsco))"
   ]
  },
  {
   "cell_type": "code",
   "execution_count": null,
   "id": "c36cb6e9-357c-4e54-a2a0-25aa68d8da97",
   "metadata": {},
   "outputs": [],
   "source": [
    "lat4[0]['cands']\n"
   ]
  },
  {
   "cell_type": "code",
   "execution_count": 5,
   "id": "e68c616a-fe5a-46b8-bfd3-75867165dcf1",
   "metadata": {},
   "outputs": [],
   "source": [
    "weights = {\n",
    "    'rescores':0,\n",
    "    'mbartqescores':0,\n",
    "    'tquestscores':0,\n",
    "    'qescores':0, \n",
    "}\n",
    "\n",
    "scorer = \"modelscores\"\n",
    "# reranking approaches\n",
    "def rerank_thresh (ex, thresh):\n",
    "    rank_list = ex['qescores']\n",
    "    indlist = np.argsort(rank_list).tolist()\n",
    "    comdistr = []\n",
    "    assert len(indlist) == len(ex['cometscores'])\n",
    "    for i in range(0, len(indlist)):\n",
    "        if abs(ex[scorer][indlist[-(i+1)]])>thresh:\n",
    "            continue\n",
    "        return ex['cometscores'][indlist[-(i+1)]]\n",
    "    print(\"No values within thresh\")\n",
    "    return ex['cometscores'][indlist[-(i+1)]]\n",
    "\n",
    "def rerank_weighted (ex, weights):\n",
    "    \n",
    "    resultvec = []\n",
    "    for i in range(0, len(ex['cands'])):\n",
    "        score = 0\n",
    "        for w in weights.keys():\n",
    "            score+=ex[w][i]*weights[w]\n",
    "        resultvec.append(score)\n",
    "    indlist = np.argsort(resultvec).tolist()\n",
    "    return ex['cometscores'][indlist[-1]]\n",
    "\n",
    "def rerank_all_thresh (cands, thresh):\n",
    "    rer_distr = []\n",
    "    for c in cands:\n",
    "        rer_distr.append(rerank_thresh(c, thresh))\n",
    "    return rer_distr\n",
    "\n",
    "bad = []\n",
    "def rerank_all_weighted (cands, weights):\n",
    "    global bad\n",
    "    rer_distr = []\n",
    "    num = 0\n",
    "    ind = 0\n",
    "    for c in cands:\n",
    "        m = find_ref_match(c, beam49)\n",
    "        l = find_ref_match(c, lat4)\n",
    "        if m is not None and l is not None:\n",
    "            if len(str(c['src']))>10:\n",
    "                rer_distr.append(rerank_weighted(c, weights))\n",
    "                num+=1\n",
    "        ind+=1\n",
    "    print(num)\n",
    "    return rer_distr\n",
    "\n",
    "def mean(l):\n",
    "    return sum(l)/len(l)\n",
    "\n",
    "maxweights = []\n",
    "maxsco = 0\n",
    "def weights_rer_search(weightarr, *args):\n",
    "    global maxsco\n",
    "    global maxweights\n",
    "    weightvals = weights\n",
    "    i = 0\n",
    "    for w in weights.keys():\n",
    "        weightvals[w] = weightarr[i]\n",
    "        i+=1\n",
    "        if i==len(weightarr):\n",
    "            break\n",
    "    #print(args[0])\n",
    "    #print(len(args))\n",
    "    val = -1*mean(rerank_all_weighted(args[0], weightvals))\n",
    "    if val<maxsco:\n",
    "        maxsco = val\n",
    "        maxweights = weightarr\n",
    "    return val\n",
    "\n",
    "def manual_search(cands):\n",
    "    mval = -1\n",
    "    mweights = []\n",
    "    for i in range(0, 5):\n",
    "        for j in range(0, 5):\n",
    "            for k in range(0, 5):\n",
    "                weightvec = [-1.25, 0.0+0.1*i, 0.1*j, 0.5+0.1*k]\n",
    "                weightvals = weights\n",
    "                i = 0\n",
    "                for w in weights.keys():\n",
    "                    weightvals[w] = weightvec[i]\n",
    "                    i+=1\n",
    "                    if i==len(weightvec):\n",
    "                        break\n",
    "                val = mean(rerank_all_weighted(cands, weightvals))\n",
    "                if val > mval:\n",
    "                    mval = val\n",
    "                    mweights = weightvec\n",
    "                    print(mval)\n",
    "    return mval, mweights"
   ]
  },
  {
   "cell_type": "code",
   "execution_count": null,
   "id": "c5a71269-051a-4e9b-bf21-2b806e83ff6b",
   "metadata": {},
   "outputs": [],
   "source": [
    "bestsco, bestweights = manual_search(lat4)"
   ]
  },
  {
   "cell_type": "code",
   "execution_count": 41,
   "id": "f810cd3f-24f0-44d1-977a-35055d06aa86",
   "metadata": {},
   "outputs": [
    {
     "data": {
      "text/plain": [
       "0.7735961552451153"
      ]
     },
     "execution_count": 41,
     "metadata": {},
     "output_type": "execute_result"
    }
   ],
   "source": [
    "bestsco"
   ]
  },
  {
   "cell_type": "code",
   "execution_count": 23,
   "id": "63d339f8-d404-44e2-8b93-25b327fd901f",
   "metadata": {},
   "outputs": [],
   "source": [
    "def average_greedy(cands):\n",
    "    cnt = 0\n",
    "    tot = 0\n",
    "    for c in cands:\n",
    "        if len(c['rescores'])>0:\n",
    "            tot+=c['rescores'][0]\n",
    "            cnt+=1\n",
    "    return tot/cnt"
   ]
  },
  {
   "cell_type": "code",
   "execution_count": 57,
   "id": "fb7d35c3-afab-451d-8a98-682e5404f8cb",
   "metadata": {},
   "outputs": [
    {
     "data": {
      "text/plain": [
       "0.34844683576375246"
      ]
     },
     "execution_count": 57,
     "metadata": {},
     "output_type": "execute_result"
    }
   ],
   "source": [
    "mean(all_topsco_distr(beam49, 1))"
   ]
  },
  {
   "cell_type": "code",
   "execution_count": 14,
   "id": "dfcf69c8-fa6e-4647-9cd7-23c148a87798",
   "metadata": {},
   "outputs": [
    {
     "name": "stdout",
     "output_type": "stream",
     "text": [
      "96\n"
     ]
    },
    {
     "data": {
      "text/plain": [
       "0.7791122259416928"
      ]
     },
     "execution_count": 14,
     "metadata": {},
     "output_type": "execute_result"
    }
   ],
   "source": [
    "#rranges = (slice(-2, 0, 0.5), slice(0, .5, 0.5), slice(0, .5, 0.5), slice(0, .5, 0.5), slice(0, 2, 0.5))\n",
    "#resbrute = optimize.brute(weights_rer_search, rranges, args=(lat4,), full_output=True, finish=optimize.fmin, disp=True)\n",
    "\n",
    "mean(rerank_all_weighted(beam49, {\n",
    "    'rescores':0,\n",
    "    #'mbartqescores':0,\n",
    "    #'tquestscores':0,\n",
    "    'qescores':1, \n",
    "    'cometscores':0,\n",
    "    'modelscores':0\n",
    "}))"
   ]
  },
  {
   "cell_type": "code",
   "execution_count": 67,
   "id": "1fac2368-ead5-431f-a4a3-938946f0ae08",
   "metadata": {},
   "outputs": [
    {
     "data": {
      "text/plain": [
       "array([-2.04e+00, -2.50e-04,  1.00e-04,  1.00e-04,  1.00e-04])"
      ]
     },
     "execution_count": 67,
     "metadata": {},
     "output_type": "execute_result"
    }
   ],
   "source": [
    "def manual_search():\n",
    "    global weights\n",
    "    for "
   ]
  },
  {
   "cell_type": "code",
   "execution_count": 83,
   "id": "1c236f93-b329-497c-844b-56f88907cf16",
   "metadata": {},
   "outputs": [
    {
     "data": {
      "text/plain": [
       "(array([15., 62., 15.,  6.,  1.,  0.,  0.,  1.,  0.,  0.,  0.,  0.,  0.,\n",
       "         0.,  0.,  0.,  0.,  0.,  0.,  1.]),\n",
       " array([-0.0917402 , -0.02910655,  0.03352709,  0.09616074,  0.15879438,\n",
       "         0.22142803,  0.28406168,  0.34669532,  0.40932897,  0.47196261,\n",
       "         0.53459626,  0.5972299 ,  0.65986355,  0.72249719,  0.78513084,\n",
       "         0.84776449,  0.91039813,  0.97303178,  1.03566542,  1.09829907,\n",
       "         1.16093271]),\n",
       " <BarContainer object of 20 artists>)"
      ]
     },
     "execution_count": 83,
     "metadata": {},
     "output_type": "execute_result"
    },
    {
     "data": {
      "image/png": "[encoded data removed]",
      "text/plain": [
       "<Figure size 432x288 with 1 Axes>"
      ]
     },
     "metadata": {
      "needs_background": "light"
     },
     "output_type": "display_data"
    }
   ],
   "source": [
    "a = rerank_all(beam49, 10, \"qescores\")\n",
    "b = rerank_all(beam49, 10, \"rescores\")\n",
    "comp = get_comp_distr(b, a)\n",
    "plt.hist(comp, bins =20)"
   ]
  },
  {
   "cell_type": "code",
   "execution_count": 84,
   "id": "7297dad6-2619-4f3e-aed8-4049ece2b250",
   "metadata": {},
   "outputs": [
    {
     "name": "stdout",
     "output_type": "stream",
     "text": [
      "0.027135396971929782\n"
     ]
    }
   ],
   "source": [
    "print(sum(comp)/len(comp))"
   ]
  },
  {
   "cell_type": "code",
   "execution_count": 52,
   "id": "7bdf6e62-5fff-4cf2-a12c-911833e777b9",
   "metadata": {},
   "outputs": [
    {
     "data": {
      "image/png": "[encoded data removed]",
      "text/plain": [
       "<Figure size 432x288 with 1 Axes>"
      ]
     },
     "metadata": {
      "needs_background": "light"
     },
     "output_type": "display_data"
    }
   ],
   "source": [
    "x, y = get_pairs_complete(lat4, \"modelscores\", \"rescores\")\n",
    "  \n",
    "plt.scatter(x, y)\n",
    "plt.show()"
   ]
  },
  {
   "cell_type": "code",
   "execution_count": 49,
   "id": "c0a600a8-b278-4301-97a6-853dd713810f",
   "metadata": {},
   "outputs": [
    {
     "data": {
      "image/png": "[encoded data removed]",
      "text/plain": [
       "<Figure size 432x288 with 1 Axes>"
      ]
     },
     "metadata": {
      "needs_background": "light"
     },
     "output_type": "display_data"
    }
   ],
   "source": [
    "#x, y = get_pairs_complete(beam49, \"modelscores\", \"cometscores\")\n",
    "\n",
    "heatmap, xedges, yedges = np.histogram2d(x, y, bins=(10, 10))\n",
    "extent = [xedges[0], xedges[-1], yedges[0], yedges[-1]]\n",
    "\n",
    "plt.clf()\n",
    "plt.imshow(heatmap.T, extent=extent, origin='lower')\n",
    "plt.show()"
   ]
  },
  {
   "cell_type": "code",
   "execution_count": 43,
   "id": "e8f76482-81c7-4a9f-9c3f-a0147c1ebf38",
   "metadata": {},
   "outputs": [
    {
     "data": {
      "text/plain": [
       "(array([16., 27., 22., 15.,  9.,  4.,  4.,  2.,  0.,  2.]),\n",
       " array([0.47536054, 0.56476725, 0.65417396, 0.74358066, 0.83298737,\n",
       "        0.92239407, 1.01180078, 1.10120748, 1.19061419, 1.2800209 ,\n",
       "        1.3694276 ]),\n",
       " <BarContainer object of 10 artists>)"
      ]
     },
     "execution_count": 43,
     "metadata": {},
     "output_type": "execute_result"
    },
    {
     "data": {
      "image/png": "[encoded data removed]",
      "text/plain": [
       "<Figure size 432x288 with 1 Axes>"
      ]
     },
     "metadata": {
      "needs_background": "light"
     },
     "output_type": "display_data"
    }
   ],
   "source": [
    "bdistr = all_topsco_distr(beam49, 20)\n",
    "latdistr = all_topsco_distr(lat4, 20)\n",
    "plt.hist(latdistr)"
   ]
  },
  {
   "cell_type": "code",
   "execution_count": 24,
   "id": "eebcfff2-27a9-49b0-b116-e97603cb99a2",
   "metadata": {},
   "outputs": [
    {
     "data": {
      "text/plain": [
       "0.7219551513372303"
      ]
     },
     "execution_count": 24,
     "metadata": {},
     "output_type": "execute_result"
    }
   ],
   "source": [
    "sum(latdistr)/len(latdistr)"
   ]
  },
  {
   "cell_type": "code",
   "execution_count": 25,
   "id": "20dce9e2-0991-4419-8148-e09ec3ddef35",
   "metadata": {},
   "outputs": [
    {
     "data": {
      "text/plain": [
       "0.4211500431189852"
      ]
     },
     "execution_count": 25,
     "metadata": {},
     "output_type": "execute_result"
    }
   ],
   "source": [
    "sum(bdistr)/len(bdistr)"
   ]
  },
  {
   "cell_type": "code",
   "execution_count": null,
   "id": "5bbba863-8735-4856-9f26-0eec861dc2f2",
   "metadata": {},
   "outputs": [],
   "source": [
    "from transformers import AutoTokenizer, AutoModelForSeq2SeqLM\n",
    "\n",
    "dev = \"cuda:3\"\n",
    "mname = \"facebook/mbart-large-50-one-to-many-mmt\"\n",
    "tokenizer = AutoTokenizer.from_pretrained(mname)\n",
    "model = AutoModelForSeq2SeqLM.from_pretrained(mname)\n",
    "tok = AutoTokenizer.from_pretrained(mname, src_lang='en_XX', tgt_lang='de_DE')\n",
    "model.to(dev)"
   ]
  },
  {
   "cell_type": "code",
   "execution_count": 108,
   "id": "fcfc7b42-a3a1-490c-bc8e-1fbb85a49f09",
   "metadata": {},
   "outputs": [],
   "source": [
    "def sanity_beam(ind, lcode='de_DE', beams=4, mlen=80):\n",
    "    \n",
    "    model_inputs = tokenizer([beam49[ind]['src']], return_tensors=\"pt\", truncation=True, padding=True).to(dev)\n",
    "    outs = model.generate(\n",
    "        **model_inputs,\n",
    "        forced_bos_token_id=tokenizer.lang_code_to_id[lcode],\n",
    "        num_beams=beams,\n",
    "        max_length=mlen, \n",
    "        num_return_sequences=beams,\n",
    "        return_dict_in_generate=True,\n",
    "        output_scores=True,\n",
    "    )\n",
    "    \n",
    "    print(outs.sequences_scores)\n",
    "    print(beam49[ind]['modelscores'])\n",
    "    print(beam49[ind]['rescores'])\n",
    "    inputs = tokenizer(beam49[ind]['src'], return_tensors=\"pt\").to(dev)\n",
    "    for c in beam49[ind]['cands']:\n",
    "        #print(inputs)\n",
    "        with tok.as_target_tokenizer():\n",
    "            labels = tok([c], return_tensors=\"pt\").to(dev)\n",
    "        output = model(**inputs, labels=labels.input_ids)\n",
    "        print(output.loss)\n",
    "    mis = 0\n",
    "    m = np.argsort(beam49[ind]['modelscores']).tolist()\n",
    "    print(m)\n",
    "    t = np.argsort(beam49[ind]['rescores']).tolist()\n",
    "    t.reverse()\n",
    "    print(t)\n",
    "    return t==m\n",
    "\n",
    "def sanity_lattice(ind, lcode='de_DE', beams=4, mlen=80):\n",
    "    \n",
    "    #print(outs.sequences_scores)\n",
    "    #print(lat4[ind]['modelscores'])\n",
    "    #print(lat4[ind]['rescores'])\n",
    "    inputs = tokenizer(lat4[ind]['src'], return_tensors=\"pt\").to(dev)\n",
    "    for c in lat4[ind]['cands'][:10]:\n",
    "        #print(inputs)\n",
    "        with tok.as_target_tokenizer():\n",
    "            labels = tok([c], return_tensors=\"pt\").to(dev)\n",
    "        output = model(**inputs, labels=labels.input_ids)\n",
    "        #print(output.loss)\n",
    "    m = np.argsort(lat4[ind]['modelscores']).tolist()\n",
    "    #print(m)\n",
    "    t = np.argsort(lat4[ind]['rescores']).tolist()\n",
    "    t.reverse()\n",
    "    #print(t)\n",
    "    print(t[:5])\n",
    "    print(m[-5:])\n",
    "    return t[:5]==m[-5:]\n",
    "    \n"
   ]
  },
  {
   "cell_type": "code",
   "execution_count": 109,
   "id": "07513c24-13b1-45d3-bb42-2ec1a8efa736",
   "metadata": {},
   "outputs": [
    {
     "name": "stdout",
     "output_type": "stream",
     "text": [
      "0\n",
      "[928, 1013, 1015, 891, 908]\n",
      "[4, 3, 2, 1, 0]\n",
      "1\n",
      "[4739, 4689, 4113, 4062, 4532]\n",
      "[4, 3, 2, 1, 0]\n",
      "2\n",
      "[112, 75, 68, 117, 116]\n",
      "[4, 3, 2, 1, 0]\n",
      "3\n",
      "[2873, 2872, 2795, 2764, 2871]\n",
      "[4, 3, 2, 1, 0]\n",
      "4\n",
      "[471, 462, 469, 458, 467]\n",
      "[4, 3, 2, 1, 0]\n",
      "5\n",
      "[4207, 4268, 4254, 2764, 3777]\n",
      "[4, 3, 2, 1, 0]\n",
      "6\n",
      "[1225, 1227, 1205, 1207, 1140]\n",
      "[4, 3, 2, 1, 0]\n",
      "7\n",
      "[835, 833, 834, 832, 831]\n",
      "[4, 3, 2, 1, 0]\n",
      "8\n",
      "[6190, 6178, 6139, 5635, 6106]\n",
      "[4, 3, 2, 1, 0]\n",
      "9\n",
      "[552, 423, 565, 578, 574]\n",
      "[4, 3, 2, 1, 0]\n",
      "10\n",
      "[1460, 1470, 1458, 1425, 1464]\n",
      "[4, 3, 2, 1, 0]\n",
      "11\n",
      "[641, 636, 643, 633, 607]\n",
      "[4, 3, 2, 1, 0]\n",
      "12\n",
      "[7369, 8375, 8096, 5174, 5430]\n",
      "[4, 3, 2, 1, 0]\n",
      "13\n",
      "[2036, 1819, 1785, 1806, 1752]\n",
      "[4, 3, 2, 1, 0]\n",
      "14\n",
      "[4590, 4406, 3818, 4157, 4545]\n",
      "[4, 3, 2, 1, 0]\n",
      "15\n",
      "[1608, 1590, 1587, 1564, 1434]\n",
      "[4, 3, 2, 1, 0]\n",
      "16\n",
      "[735, 972, 962, 838, 847]\n",
      "[4, 3, 2, 1, 0]\n",
      "17\n",
      "[3841, 3752, 5824, 3852, 5821]\n",
      "[4, 3, 2, 1, 0]\n",
      "18\n",
      "[1322, 1338, 1396, 1398, 1399]\n",
      "[4, 3, 2, 1, 0]\n",
      "19\n",
      "[419, 393, 263, 538, 487]\n",
      "[4, 3, 2, 1, 0]\n",
      "20\n",
      "[2353, 2319, 2371, 2282, 2129]\n",
      "[4, 3, 2, 1, 0]\n",
      "21\n",
      "[1804, 2415, 1668, 2360, 2271]\n",
      "[4, 3, 2, 1, 0]\n",
      "22\n",
      "[950, 986, 976, 975, 935]\n",
      "[4, 3, 2, 1, 0]\n",
      "23\n",
      "[868, 798, 835, 866, 856]\n",
      "[4, 3, 2, 1, 0]\n",
      "24\n",
      "[311, 305, 275, 292, 278]\n",
      "[4, 3, 2, 1, 0]\n",
      "25\n",
      "[2011, 2128, 2480, 1855, 1954]\n",
      "[4, 3, 2, 1, 0]\n",
      "26\n",
      "[5528, 5535, 5556, 5534, 5439]\n",
      "[4, 3, 2, 1, 0]\n",
      "27\n",
      "[318, 325, 319, 326, 304]\n",
      "[4, 3, 2, 1, 0]\n",
      "28\n",
      "[2027, 2067, 1687, 1965, 1878]\n",
      "[4, 3, 2, 1, 0]\n",
      "29\n",
      "[2374, 2711, 2639, 2212, 2863]\n",
      "[4, 3, 2, 1, 0]\n",
      "30\n",
      "[1610, 1620, 1592, 1533, 1520]\n",
      "[4, 3, 2, 1, 0]\n",
      "31\n",
      "[916, 898, 883, 851, 907]\n",
      "[4, 3, 2, 1, 0]\n",
      "32\n",
      "[501, 511, 504, 537, 543]\n",
      "[4, 3, 2, 1, 0]\n",
      "33\n",
      "[5798, 5795, 5792, 5799, 5793]\n",
      "[4, 3, 2, 1, 0]\n",
      "34\n",
      "[687, 686, 680, 679, 670]\n",
      "[4, 3, 2, 1, 0]\n",
      "35\n",
      "[3020, 3015, 2998, 2995, 2913]\n",
      "[4, 3, 2, 1, 0]\n",
      "36\n",
      "[1380, 1421, 1363, 1190, 1338]\n",
      "[4, 3, 2, 1, 0]\n",
      "37\n",
      "[1233, 1171, 1256, 1204, 1168]\n",
      "[4, 3, 2, 1, 0]\n",
      "38\n",
      "[1032, 1145, 1362, 1494, 1278]\n",
      "[4, 3, 2, 1, 0]\n",
      "39\n",
      "[277, 301, 276, 275, 298]\n",
      "[4, 3, 2, 1, 0]\n",
      "40\n",
      "[1630, 774, 1031, 1126, 1713]\n",
      "[4, 3, 2, 1, 0]\n",
      "41\n",
      "[515, 513, 506, 486, 489]\n",
      "[4, 3, 2, 1, 0]\n",
      "42\n",
      "[5529, 5519, 5135, 5594, 5126]\n",
      "[4, 3, 2, 1, 0]\n",
      "43\n",
      "[651, 559, 790, 864, 802]\n",
      "[4, 3, 2, 1, 0]\n",
      "44\n",
      "[8560, 8485, 8310, 8169, 8478]\n",
      "[4, 3, 2, 1, 0]\n",
      "45\n",
      "[1299, 932, 1279, 429, 1227]\n",
      "[4, 3, 2, 1, 0]\n",
      "46\n",
      "[673, 674, 672, 663, 669]\n",
      "[4, 3, 2, 1, 0]\n",
      "47\n",
      "[339, 238, 404, 646, 636]\n",
      "[4, 3, 2, 1, 0]\n",
      "48\n",
      "[810, 676, 806, 773, 587]\n",
      "[4, 3, 2, 1, 0]\n",
      "49\n",
      "[1676, 1675, 1674, 1673, 1671]\n",
      "[4, 3, 2, 1, 0]\n",
      "50\n",
      "[1021, 970, 874, 936, 906]\n",
      "[4, 3, 2, 1, 0]\n",
      "51\n",
      "[911, 1483, 1358, 1021, 726]\n",
      "[4, 3, 2, 1, 0]\n",
      "52\n",
      "[4675, 4139, 3956, 4190, 4853]\n",
      "[4, 3, 2, 1, 0]\n",
      "53\n",
      "[3115, 3114, 2771, 2774, 3342]\n",
      "[4, 3, 2, 1, 0]\n",
      "54\n",
      "[1833, 1812, 1784, 1097, 1801]\n",
      "[4, 3, 2, 1, 0]\n",
      "55\n",
      "[2200, 3042, 3024, 3049, 3031]\n",
      "[4, 3, 2, 1, 0]\n",
      "56\n",
      "[1505, 1504, 1495, 1498, 1501]\n",
      "[4, 3, 2, 1, 0]\n",
      "57\n",
      "[3887, 3899, 3624, 3564, 3836]\n",
      "[4, 3, 2, 1, 0]\n",
      "58\n",
      "[288, 294, 269, 270, 291]\n",
      "[4, 3, 2, 1, 0]\n",
      "59\n",
      "[703, 479, 463, 556, 375]\n",
      "[4, 3, 2, 1, 0]\n",
      "60\n",
      "[1123, 1132, 1131, 1120, 1005]\n",
      "[4, 3, 2, 1, 0]\n",
      "61\n",
      "[815, 767, 821, 748, 819]\n",
      "[4, 3, 2, 1, 0]\n",
      "62\n",
      "[73, 11, 5291, 5289, 5275]\n",
      "[4, 3, 2, 1, 0]\n",
      "63\n",
      "[128, 127, 126, 125, 123]\n",
      "[4, 3, 2, 1, 0]\n",
      "64\n",
      "[1062, 1444, 974, 987, 931]\n",
      "[4, 3, 2, 1, 0]\n",
      "65\n",
      "[987, 868, 1006, 1023, 886]\n",
      "[4, 3, 2, 1, 0]\n",
      "66\n",
      "[106, 102, 95, 66, 56]\n",
      "[4, 3, 2, 1, 0]\n",
      "67\n",
      "[2342, 2312, 2350, 2446, 2231]\n",
      "[4, 3, 2, 1, 0]\n",
      "68\n",
      "[151, 175, 192, 253, 255]\n",
      "[4, 3, 2, 1, 0]\n",
      "69\n",
      "[1591, 1590, 1589, 1587, 1588]\n",
      "[4, 3, 2, 1, 0]\n",
      "70\n",
      "[3060, 3059, 3058, 3028, 3015]\n",
      "[4, 3, 2, 1, 0]\n",
      "71\n",
      "[318, 293, 322, 200, 203]\n",
      "[4, 3, 2, 1, 0]\n",
      "72\n",
      "[876, 865, 871, 870, 808]\n",
      "[4, 3, 2, 1, 0]\n",
      "73\n",
      "[2941, 2903, 1773, 1451, 2934]\n",
      "[4, 3, 2, 1, 0]\n",
      "74\n",
      "[401, 431, 430, 429, 420]\n",
      "[4, 3, 2, 1, 0]\n",
      "75\n",
      "[1287, 1285, 1261, 1275, 1251]\n",
      "[4, 3, 2, 1, 0]\n",
      "76\n",
      "[4258, 4089, 3685, 4077, 4226]\n",
      "[4, 3, 2, 1, 0]\n",
      "77\n",
      "[1111, 1025, 1158, 1142, 802]\n",
      "[4, 3, 2, 1, 0]\n",
      "78\n",
      "[948, 799, 1046, 964, 1299]\n",
      "[4, 3, 2, 1, 0]\n",
      "79\n",
      "[333, 332, 326, 311, 324]\n",
      "[4, 3, 2, 1, 0]\n",
      "80\n",
      "[1075, 1071, 1079, 1070, 1072]\n",
      "[4, 3, 2, 1, 0]\n",
      "81\n"
     ]
    },
    {
     "ename": "KeyboardInterrupt",
     "evalue": "",
     "output_type": "error",
     "traceback": [
      "\u001b[0;31m---------------------------------------------------------------------------\u001b[0m",
      "\u001b[0;31mKeyboardInterrupt\u001b[0m                         Traceback (most recent call last)",
      "Input \u001b[0;32mIn [109]\u001b[0m, in \u001b[0;36m<module>\u001b[0;34m\u001b[0m\n\u001b[1;32m      2\u001b[0m \u001b[38;5;28;01mfor\u001b[39;00m i \u001b[38;5;129;01min\u001b[39;00m \u001b[38;5;28mrange\u001b[39m(\u001b[38;5;241m0\u001b[39m, \u001b[38;5;28mlen\u001b[39m(lat4)):\n\u001b[1;32m      3\u001b[0m     \u001b[38;5;28mprint\u001b[39m(i)\n\u001b[0;32m----> 4\u001b[0m     \u001b[38;5;28;01mif\u001b[39;00m \u001b[43msanity_lattice\u001b[49m\u001b[43m(\u001b[49m\u001b[43mi\u001b[49m\u001b[43m)\u001b[49m:\n\u001b[1;32m      5\u001b[0m             cnt\u001b[38;5;241m+\u001b[39m\u001b[38;5;241m=\u001b[39m\u001b[38;5;241m1\u001b[39m\n\u001b[1;32m      6\u001b[0m \u001b[38;5;28mprint\u001b[39m(cnt)\n",
      "Input \u001b[0;32mIn [108]\u001b[0m, in \u001b[0;36msanity_lattice\u001b[0;34m(ind, lcode, beams, mlen)\u001b[0m\n\u001b[1;32m     40\u001b[0m     \u001b[38;5;28;01mwith\u001b[39;00m tok\u001b[38;5;241m.\u001b[39mas_target_tokenizer():\n\u001b[1;32m     41\u001b[0m         labels \u001b[38;5;241m=\u001b[39m tok([c], return_tensors\u001b[38;5;241m=\u001b[39m\u001b[38;5;124m\"\u001b[39m\u001b[38;5;124mpt\u001b[39m\u001b[38;5;124m\"\u001b[39m)\u001b[38;5;241m.\u001b[39mto(dev)\n\u001b[0;32m---> 42\u001b[0m     output \u001b[38;5;241m=\u001b[39m \u001b[43mmodel\u001b[49m\u001b[43m(\u001b[49m\u001b[38;5;241;43m*\u001b[39;49m\u001b[38;5;241;43m*\u001b[39;49m\u001b[43minputs\u001b[49m\u001b[43m,\u001b[49m\u001b[43m \u001b[49m\u001b[43mlabels\u001b[49m\u001b[38;5;241;43m=\u001b[39;49m\u001b[43mlabels\u001b[49m\u001b[38;5;241;43m.\u001b[39;49m\u001b[43minput_ids\u001b[49m\u001b[43m)\u001b[49m\n\u001b[1;32m     43\u001b[0m     \u001b[38;5;66;03m#print(output.loss)\u001b[39;00m\n\u001b[1;32m     44\u001b[0m m \u001b[38;5;241m=\u001b[39m np\u001b[38;5;241m.\u001b[39margsort(lat4[ind][\u001b[38;5;124m'\u001b[39m\u001b[38;5;124mmodelscores\u001b[39m\u001b[38;5;124m'\u001b[39m])\u001b[38;5;241m.\u001b[39mtolist()\n",
      "File \u001b[0;32m~/miniconda3/envs/latenv/lib/python3.8/site-packages/torch/nn/modules/module.py:1102\u001b[0m, in \u001b[0;36mModule._call_impl\u001b[0;34m(self, *input, **kwargs)\u001b[0m\n\u001b[1;32m   1098\u001b[0m \u001b[38;5;66;03m# If we don't have any hooks, we want to skip the rest of the logic in\u001b[39;00m\n\u001b[1;32m   1099\u001b[0m \u001b[38;5;66;03m# this function, and just call forward.\u001b[39;00m\n\u001b[1;32m   1100\u001b[0m \u001b[38;5;28;01mif\u001b[39;00m \u001b[38;5;129;01mnot\u001b[39;00m (\u001b[38;5;28mself\u001b[39m\u001b[38;5;241m.\u001b[39m_backward_hooks \u001b[38;5;129;01mor\u001b[39;00m \u001b[38;5;28mself\u001b[39m\u001b[38;5;241m.\u001b[39m_forward_hooks \u001b[38;5;129;01mor\u001b[39;00m \u001b[38;5;28mself\u001b[39m\u001b[38;5;241m.\u001b[39m_forward_pre_hooks \u001b[38;5;129;01mor\u001b[39;00m _global_backward_hooks\n\u001b[1;32m   1101\u001b[0m         \u001b[38;5;129;01mor\u001b[39;00m _global_forward_hooks \u001b[38;5;129;01mor\u001b[39;00m _global_forward_pre_hooks):\n\u001b[0;32m-> 1102\u001b[0m     \u001b[38;5;28;01mreturn\u001b[39;00m \u001b[43mforward_call\u001b[49m\u001b[43m(\u001b[49m\u001b[38;5;241;43m*\u001b[39;49m\u001b[38;5;28;43minput\u001b[39;49m\u001b[43m,\u001b[49m\u001b[43m \u001b[49m\u001b[38;5;241;43m*\u001b[39;49m\u001b[38;5;241;43m*\u001b[39;49m\u001b[43mkwargs\u001b[49m\u001b[43m)\u001b[49m\n\u001b[1;32m   1103\u001b[0m \u001b[38;5;66;03m# Do not call functions when jit is used\u001b[39;00m\n\u001b[1;32m   1104\u001b[0m full_backward_hooks, non_full_backward_hooks \u001b[38;5;241m=\u001b[39m [], []\n",
      "File \u001b[0;32m~/miniconda3/envs/latenv/lib/python3.8/site-packages/transformers/models/mbart/modeling_mbart.py:1298\u001b[0m, in \u001b[0;36mMBartForConditionalGeneration.forward\u001b[0;34m(self, input_ids, attention_mask, decoder_input_ids, decoder_attention_mask, head_mask, decoder_head_mask, cross_attn_head_mask, encoder_outputs, past_key_values, inputs_embeds, decoder_inputs_embeds, labels, use_cache, output_attentions, output_hidden_states, return_dict)\u001b[0m\n\u001b[1;32m   1295\u001b[0m     \u001b[38;5;28;01mif\u001b[39;00m decoder_input_ids \u001b[38;5;129;01mis\u001b[39;00m \u001b[38;5;28;01mNone\u001b[39;00m:\n\u001b[1;32m   1296\u001b[0m         decoder_input_ids \u001b[38;5;241m=\u001b[39m shift_tokens_right(labels, \u001b[38;5;28mself\u001b[39m\u001b[38;5;241m.\u001b[39mconfig\u001b[38;5;241m.\u001b[39mpad_token_id)\n\u001b[0;32m-> 1298\u001b[0m outputs \u001b[38;5;241m=\u001b[39m \u001b[38;5;28;43mself\u001b[39;49m\u001b[38;5;241;43m.\u001b[39;49m\u001b[43mmodel\u001b[49m\u001b[43m(\u001b[49m\n\u001b[1;32m   1299\u001b[0m \u001b[43m    \u001b[49m\u001b[43minput_ids\u001b[49m\u001b[43m,\u001b[49m\n\u001b[1;32m   1300\u001b[0m \u001b[43m    \u001b[49m\u001b[43mattention_mask\u001b[49m\u001b[38;5;241;43m=\u001b[39;49m\u001b[43mattention_mask\u001b[49m\u001b[43m,\u001b[49m\n\u001b[1;32m   1301\u001b[0m \u001b[43m    \u001b[49m\u001b[43mdecoder_input_ids\u001b[49m\u001b[38;5;241;43m=\u001b[39;49m\u001b[43mdecoder_input_ids\u001b[49m\u001b[43m,\u001b[49m\n\u001b[1;32m   1302\u001b[0m \u001b[43m    \u001b[49m\u001b[43mencoder_outputs\u001b[49m\u001b[38;5;241;43m=\u001b[39;49m\u001b[43mencoder_outputs\u001b[49m\u001b[43m,\u001b[49m\n\u001b[1;32m   1303\u001b[0m \u001b[43m    \u001b[49m\u001b[43mdecoder_attention_mask\u001b[49m\u001b[38;5;241;43m=\u001b[39;49m\u001b[43mdecoder_attention_mask\u001b[49m\u001b[43m,\u001b[49m\n\u001b[1;32m   1304\u001b[0m \u001b[43m    \u001b[49m\u001b[43mhead_mask\u001b[49m\u001b[38;5;241;43m=\u001b[39;49m\u001b[43mhead_mask\u001b[49m\u001b[43m,\u001b[49m\n\u001b[1;32m   1305\u001b[0m \u001b[43m    \u001b[49m\u001b[43mdecoder_head_mask\u001b[49m\u001b[38;5;241;43m=\u001b[39;49m\u001b[43mdecoder_head_mask\u001b[49m\u001b[43m,\u001b[49m\n\u001b[1;32m   1306\u001b[0m \u001b[43m    \u001b[49m\u001b[43mcross_attn_head_mask\u001b[49m\u001b[38;5;241;43m=\u001b[39;49m\u001b[43mcross_attn_head_mask\u001b[49m\u001b[43m,\u001b[49m\n\u001b[1;32m   1307\u001b[0m \u001b[43m    \u001b[49m\u001b[43mpast_key_values\u001b[49m\u001b[38;5;241;43m=\u001b[39;49m\u001b[43mpast_key_values\u001b[49m\u001b[43m,\u001b[49m\n\u001b[1;32m   1308\u001b[0m \u001b[43m    \u001b[49m\u001b[43minputs_embeds\u001b[49m\u001b[38;5;241;43m=\u001b[39;49m\u001b[43minputs_embeds\u001b[49m\u001b[43m,\u001b[49m\n\u001b[1;32m   1309\u001b[0m \u001b[43m    \u001b[49m\u001b[43mdecoder_inputs_embeds\u001b[49m\u001b[38;5;241;43m=\u001b[39;49m\u001b[43mdecoder_inputs_embeds\u001b[49m\u001b[43m,\u001b[49m\n\u001b[1;32m   1310\u001b[0m \u001b[43m    \u001b[49m\u001b[43muse_cache\u001b[49m\u001b[38;5;241;43m=\u001b[39;49m\u001b[43muse_cache\u001b[49m\u001b[43m,\u001b[49m\n\u001b[1;32m   1311\u001b[0m \u001b[43m    \u001b[49m\u001b[43moutput_attentions\u001b[49m\u001b[38;5;241;43m=\u001b[39;49m\u001b[43moutput_attentions\u001b[49m\u001b[43m,\u001b[49m\n\u001b[1;32m   1312\u001b[0m \u001b[43m    \u001b[49m\u001b[43moutput_hidden_states\u001b[49m\u001b[38;5;241;43m=\u001b[39;49m\u001b[43moutput_hidden_states\u001b[49m\u001b[43m,\u001b[49m\n\u001b[1;32m   1313\u001b[0m \u001b[43m    \u001b[49m\u001b[43mreturn_dict\u001b[49m\u001b[38;5;241;43m=\u001b[39;49m\u001b[43mreturn_dict\u001b[49m\u001b[43m,\u001b[49m\n\u001b[1;32m   1314\u001b[0m \u001b[43m\u001b[49m\u001b[43m)\u001b[49m\n\u001b[1;32m   1315\u001b[0m lm_logits \u001b[38;5;241m=\u001b[39m \u001b[38;5;28mself\u001b[39m\u001b[38;5;241m.\u001b[39mlm_head(outputs[\u001b[38;5;241m0\u001b[39m]) \u001b[38;5;241m+\u001b[39m \u001b[38;5;28mself\u001b[39m\u001b[38;5;241m.\u001b[39mfinal_logits_bias\n\u001b[1;32m   1317\u001b[0m masked_lm_loss \u001b[38;5;241m=\u001b[39m \u001b[38;5;28;01mNone\u001b[39;00m\n",
      "File \u001b[0;32m~/miniconda3/envs/latenv/lib/python3.8/site-packages/torch/nn/modules/module.py:1102\u001b[0m, in \u001b[0;36mModule._call_impl\u001b[0;34m(self, *input, **kwargs)\u001b[0m\n\u001b[1;32m   1098\u001b[0m \u001b[38;5;66;03m# If we don't have any hooks, we want to skip the rest of the logic in\u001b[39;00m\n\u001b[1;32m   1099\u001b[0m \u001b[38;5;66;03m# this function, and just call forward.\u001b[39;00m\n\u001b[1;32m   1100\u001b[0m \u001b[38;5;28;01mif\u001b[39;00m \u001b[38;5;129;01mnot\u001b[39;00m (\u001b[38;5;28mself\u001b[39m\u001b[38;5;241m.\u001b[39m_backward_hooks \u001b[38;5;129;01mor\u001b[39;00m \u001b[38;5;28mself\u001b[39m\u001b[38;5;241m.\u001b[39m_forward_hooks \u001b[38;5;129;01mor\u001b[39;00m \u001b[38;5;28mself\u001b[39m\u001b[38;5;241m.\u001b[39m_forward_pre_hooks \u001b[38;5;129;01mor\u001b[39;00m _global_backward_hooks\n\u001b[1;32m   1101\u001b[0m         \u001b[38;5;129;01mor\u001b[39;00m _global_forward_hooks \u001b[38;5;129;01mor\u001b[39;00m _global_forward_pre_hooks):\n\u001b[0;32m-> 1102\u001b[0m     \u001b[38;5;28;01mreturn\u001b[39;00m \u001b[43mforward_call\u001b[49m\u001b[43m(\u001b[49m\u001b[38;5;241;43m*\u001b[39;49m\u001b[38;5;28;43minput\u001b[39;49m\u001b[43m,\u001b[49m\u001b[43m \u001b[49m\u001b[38;5;241;43m*\u001b[39;49m\u001b[38;5;241;43m*\u001b[39;49m\u001b[43mkwargs\u001b[49m\u001b[43m)\u001b[49m\n\u001b[1;32m   1103\u001b[0m \u001b[38;5;66;03m# Do not call functions when jit is used\u001b[39;00m\n\u001b[1;32m   1104\u001b[0m full_backward_hooks, non_full_backward_hooks \u001b[38;5;241m=\u001b[39m [], []\n",
      "File \u001b[0;32m~/miniconda3/envs/latenv/lib/python3.8/site-packages/transformers/models/mbart/modeling_mbart.py:1167\u001b[0m, in \u001b[0;36mMBartModel.forward\u001b[0;34m(self, input_ids, attention_mask, decoder_input_ids, decoder_attention_mask, head_mask, decoder_head_mask, cross_attn_head_mask, encoder_outputs, past_key_values, inputs_embeds, decoder_inputs_embeds, use_cache, output_attentions, output_hidden_states, return_dict)\u001b[0m\n\u001b[1;32m   1164\u001b[0m     decoder_input_ids \u001b[38;5;241m=\u001b[39m shift_tokens_right(input_ids, \u001b[38;5;28mself\u001b[39m\u001b[38;5;241m.\u001b[39mconfig\u001b[38;5;241m.\u001b[39mpad_token_id)\n\u001b[1;32m   1166\u001b[0m \u001b[38;5;28;01mif\u001b[39;00m encoder_outputs \u001b[38;5;129;01mis\u001b[39;00m \u001b[38;5;28;01mNone\u001b[39;00m:\n\u001b[0;32m-> 1167\u001b[0m     encoder_outputs \u001b[38;5;241m=\u001b[39m \u001b[38;5;28;43mself\u001b[39;49m\u001b[38;5;241;43m.\u001b[39;49m\u001b[43mencoder\u001b[49m\u001b[43m(\u001b[49m\n\u001b[1;32m   1168\u001b[0m \u001b[43m        \u001b[49m\u001b[43minput_ids\u001b[49m\u001b[38;5;241;43m=\u001b[39;49m\u001b[43minput_ids\u001b[49m\u001b[43m,\u001b[49m\n\u001b[1;32m   1169\u001b[0m \u001b[43m        \u001b[49m\u001b[43mattention_mask\u001b[49m\u001b[38;5;241;43m=\u001b[39;49m\u001b[43mattention_mask\u001b[49m\u001b[43m,\u001b[49m\n\u001b[1;32m   1170\u001b[0m \u001b[43m        \u001b[49m\u001b[43mhead_mask\u001b[49m\u001b[38;5;241;43m=\u001b[39;49m\u001b[43mhead_mask\u001b[49m\u001b[43m,\u001b[49m\n\u001b[1;32m   1171\u001b[0m \u001b[43m        \u001b[49m\u001b[43minputs_embeds\u001b[49m\u001b[38;5;241;43m=\u001b[39;49m\u001b[43minputs_embeds\u001b[49m\u001b[43m,\u001b[49m\n\u001b[1;32m   1172\u001b[0m \u001b[43m        \u001b[49m\u001b[43moutput_attentions\u001b[49m\u001b[38;5;241;43m=\u001b[39;49m\u001b[43moutput_attentions\u001b[49m\u001b[43m,\u001b[49m\n\u001b[1;32m   1173\u001b[0m \u001b[43m        \u001b[49m\u001b[43moutput_hidden_states\u001b[49m\u001b[38;5;241;43m=\u001b[39;49m\u001b[43moutput_hidden_states\u001b[49m\u001b[43m,\u001b[49m\n\u001b[1;32m   1174\u001b[0m \u001b[43m        \u001b[49m\u001b[43mreturn_dict\u001b[49m\u001b[38;5;241;43m=\u001b[39;49m\u001b[43mreturn_dict\u001b[49m\u001b[43m,\u001b[49m\n\u001b[1;32m   1175\u001b[0m \u001b[43m    \u001b[49m\u001b[43m)\u001b[49m\n\u001b[1;32m   1176\u001b[0m \u001b[38;5;66;03m# If the user passed a tuple for encoder_outputs, we wrap it in a BaseModelOutput when return_dict=True\u001b[39;00m\n\u001b[1;32m   1177\u001b[0m \u001b[38;5;28;01melif\u001b[39;00m return_dict \u001b[38;5;129;01mand\u001b[39;00m \u001b[38;5;129;01mnot\u001b[39;00m \u001b[38;5;28misinstance\u001b[39m(encoder_outputs, BaseModelOutput):\n",
      "File \u001b[0;32m~/miniconda3/envs/latenv/lib/python3.8/site-packages/torch/nn/modules/module.py:1102\u001b[0m, in \u001b[0;36mModule._call_impl\u001b[0;34m(self, *input, **kwargs)\u001b[0m\n\u001b[1;32m   1098\u001b[0m \u001b[38;5;66;03m# If we don't have any hooks, we want to skip the rest of the logic in\u001b[39;00m\n\u001b[1;32m   1099\u001b[0m \u001b[38;5;66;03m# this function, and just call forward.\u001b[39;00m\n\u001b[1;32m   1100\u001b[0m \u001b[38;5;28;01mif\u001b[39;00m \u001b[38;5;129;01mnot\u001b[39;00m (\u001b[38;5;28mself\u001b[39m\u001b[38;5;241m.\u001b[39m_backward_hooks \u001b[38;5;129;01mor\u001b[39;00m \u001b[38;5;28mself\u001b[39m\u001b[38;5;241m.\u001b[39m_forward_hooks \u001b[38;5;129;01mor\u001b[39;00m \u001b[38;5;28mself\u001b[39m\u001b[38;5;241m.\u001b[39m_forward_pre_hooks \u001b[38;5;129;01mor\u001b[39;00m _global_backward_hooks\n\u001b[1;32m   1101\u001b[0m         \u001b[38;5;129;01mor\u001b[39;00m _global_forward_hooks \u001b[38;5;129;01mor\u001b[39;00m _global_forward_pre_hooks):\n\u001b[0;32m-> 1102\u001b[0m     \u001b[38;5;28;01mreturn\u001b[39;00m \u001b[43mforward_call\u001b[49m\u001b[43m(\u001b[49m\u001b[38;5;241;43m*\u001b[39;49m\u001b[38;5;28;43minput\u001b[39;49m\u001b[43m,\u001b[49m\u001b[43m \u001b[49m\u001b[38;5;241;43m*\u001b[39;49m\u001b[38;5;241;43m*\u001b[39;49m\u001b[43mkwargs\u001b[49m\u001b[43m)\u001b[49m\n\u001b[1;32m   1103\u001b[0m \u001b[38;5;66;03m# Do not call functions when jit is used\u001b[39;00m\n\u001b[1;32m   1104\u001b[0m full_backward_hooks, non_full_backward_hooks \u001b[38;5;241m=\u001b[39m [], []\n",
      "File \u001b[0;32m~/miniconda3/envs/latenv/lib/python3.8/site-packages/transformers/models/mbart/modeling_mbart.py:798\u001b[0m, in \u001b[0;36mMBartEncoder.forward\u001b[0;34m(self, input_ids, attention_mask, head_mask, inputs_embeds, output_attentions, output_hidden_states, return_dict)\u001b[0m\n\u001b[1;32m    791\u001b[0m         layer_outputs \u001b[38;5;241m=\u001b[39m torch\u001b[38;5;241m.\u001b[39mutils\u001b[38;5;241m.\u001b[39mcheckpoint\u001b[38;5;241m.\u001b[39mcheckpoint(\n\u001b[1;32m    792\u001b[0m             create_custom_forward(encoder_layer),\n\u001b[1;32m    793\u001b[0m             hidden_states,\n\u001b[1;32m    794\u001b[0m             attention_mask,\n\u001b[1;32m    795\u001b[0m             (head_mask[idx] \u001b[38;5;28;01mif\u001b[39;00m head_mask \u001b[38;5;129;01mis\u001b[39;00m \u001b[38;5;129;01mnot\u001b[39;00m \u001b[38;5;28;01mNone\u001b[39;00m \u001b[38;5;28;01melse\u001b[39;00m \u001b[38;5;28;01mNone\u001b[39;00m),\n\u001b[1;32m    796\u001b[0m         )\n\u001b[1;32m    797\u001b[0m     \u001b[38;5;28;01melse\u001b[39;00m:\n\u001b[0;32m--> 798\u001b[0m         layer_outputs \u001b[38;5;241m=\u001b[39m \u001b[43mencoder_layer\u001b[49m\u001b[43m(\u001b[49m\n\u001b[1;32m    799\u001b[0m \u001b[43m            \u001b[49m\u001b[43mhidden_states\u001b[49m\u001b[43m,\u001b[49m\n\u001b[1;32m    800\u001b[0m \u001b[43m            \u001b[49m\u001b[43mattention_mask\u001b[49m\u001b[43m,\u001b[49m\n\u001b[1;32m    801\u001b[0m \u001b[43m            \u001b[49m\u001b[43mlayer_head_mask\u001b[49m\u001b[38;5;241;43m=\u001b[39;49m\u001b[43m(\u001b[49m\u001b[43mhead_mask\u001b[49m\u001b[43m[\u001b[49m\u001b[43midx\u001b[49m\u001b[43m]\u001b[49m\u001b[43m \u001b[49m\u001b[38;5;28;43;01mif\u001b[39;49;00m\u001b[43m \u001b[49m\u001b[43mhead_mask\u001b[49m\u001b[43m \u001b[49m\u001b[38;5;129;43;01mis\u001b[39;49;00m\u001b[43m \u001b[49m\u001b[38;5;129;43;01mnot\u001b[39;49;00m\u001b[43m \u001b[49m\u001b[38;5;28;43;01mNone\u001b[39;49;00m\u001b[43m \u001b[49m\u001b[38;5;28;43;01melse\u001b[39;49;00m\u001b[43m \u001b[49m\u001b[38;5;28;43;01mNone\u001b[39;49;00m\u001b[43m)\u001b[49m\u001b[43m,\u001b[49m\n\u001b[1;32m    802\u001b[0m \u001b[43m            \u001b[49m\u001b[43moutput_attentions\u001b[49m\u001b[38;5;241;43m=\u001b[39;49m\u001b[43moutput_attentions\u001b[49m\u001b[43m,\u001b[49m\n\u001b[1;32m    803\u001b[0m \u001b[43m        \u001b[49m\u001b[43m)\u001b[49m\n\u001b[1;32m    805\u001b[0m     hidden_states \u001b[38;5;241m=\u001b[39m layer_outputs[\u001b[38;5;241m0\u001b[39m]\n\u001b[1;32m    807\u001b[0m \u001b[38;5;28;01mif\u001b[39;00m output_attentions:\n",
      "File \u001b[0;32m~/miniconda3/envs/latenv/lib/python3.8/site-packages/torch/nn/modules/module.py:1102\u001b[0m, in \u001b[0;36mModule._call_impl\u001b[0;34m(self, *input, **kwargs)\u001b[0m\n\u001b[1;32m   1098\u001b[0m \u001b[38;5;66;03m# If we don't have any hooks, we want to skip the rest of the logic in\u001b[39;00m\n\u001b[1;32m   1099\u001b[0m \u001b[38;5;66;03m# this function, and just call forward.\u001b[39;00m\n\u001b[1;32m   1100\u001b[0m \u001b[38;5;28;01mif\u001b[39;00m \u001b[38;5;129;01mnot\u001b[39;00m (\u001b[38;5;28mself\u001b[39m\u001b[38;5;241m.\u001b[39m_backward_hooks \u001b[38;5;129;01mor\u001b[39;00m \u001b[38;5;28mself\u001b[39m\u001b[38;5;241m.\u001b[39m_forward_hooks \u001b[38;5;129;01mor\u001b[39;00m \u001b[38;5;28mself\u001b[39m\u001b[38;5;241m.\u001b[39m_forward_pre_hooks \u001b[38;5;129;01mor\u001b[39;00m _global_backward_hooks\n\u001b[1;32m   1101\u001b[0m         \u001b[38;5;129;01mor\u001b[39;00m _global_forward_hooks \u001b[38;5;129;01mor\u001b[39;00m _global_forward_pre_hooks):\n\u001b[0;32m-> 1102\u001b[0m     \u001b[38;5;28;01mreturn\u001b[39;00m \u001b[43mforward_call\u001b[49m\u001b[43m(\u001b[49m\u001b[38;5;241;43m*\u001b[39;49m\u001b[38;5;28;43minput\u001b[39;49m\u001b[43m,\u001b[49m\u001b[43m \u001b[49m\u001b[38;5;241;43m*\u001b[39;49m\u001b[38;5;241;43m*\u001b[39;49m\u001b[43mkwargs\u001b[49m\u001b[43m)\u001b[49m\n\u001b[1;32m   1103\u001b[0m \u001b[38;5;66;03m# Do not call functions when jit is used\u001b[39;00m\n\u001b[1;32m   1104\u001b[0m full_backward_hooks, non_full_backward_hooks \u001b[38;5;241m=\u001b[39m [], []\n",
      "File \u001b[0;32m~/miniconda3/envs/latenv/lib/python3.8/site-packages/transformers/models/mbart/modeling_mbart.py:307\u001b[0m, in \u001b[0;36mMBartEncoderLayer.forward\u001b[0;34m(self, hidden_states, attention_mask, layer_head_mask, output_attentions)\u001b[0m\n\u001b[1;32m    305\u001b[0m residual \u001b[38;5;241m=\u001b[39m hidden_states\n\u001b[1;32m    306\u001b[0m hidden_states \u001b[38;5;241m=\u001b[39m \u001b[38;5;28mself\u001b[39m\u001b[38;5;241m.\u001b[39mself_attn_layer_norm(hidden_states)\n\u001b[0;32m--> 307\u001b[0m hidden_states, attn_weights, _ \u001b[38;5;241m=\u001b[39m \u001b[38;5;28;43mself\u001b[39;49m\u001b[38;5;241;43m.\u001b[39;49m\u001b[43mself_attn\u001b[49m\u001b[43m(\u001b[49m\n\u001b[1;32m    308\u001b[0m \u001b[43m    \u001b[49m\u001b[43mhidden_states\u001b[49m\u001b[38;5;241;43m=\u001b[39;49m\u001b[43mhidden_states\u001b[49m\u001b[43m,\u001b[49m\n\u001b[1;32m    309\u001b[0m \u001b[43m    \u001b[49m\u001b[43mattention_mask\u001b[49m\u001b[38;5;241;43m=\u001b[39;49m\u001b[43mattention_mask\u001b[49m\u001b[43m,\u001b[49m\n\u001b[1;32m    310\u001b[0m \u001b[43m    \u001b[49m\u001b[43mlayer_head_mask\u001b[49m\u001b[38;5;241;43m=\u001b[39;49m\u001b[43mlayer_head_mask\u001b[49m\u001b[43m,\u001b[49m\n\u001b[1;32m    311\u001b[0m \u001b[43m    \u001b[49m\u001b[43moutput_attentions\u001b[49m\u001b[38;5;241;43m=\u001b[39;49m\u001b[43moutput_attentions\u001b[49m\u001b[43m,\u001b[49m\n\u001b[1;32m    312\u001b[0m \u001b[43m\u001b[49m\u001b[43m)\u001b[49m\n\u001b[1;32m    313\u001b[0m hidden_states \u001b[38;5;241m=\u001b[39m nn\u001b[38;5;241m.\u001b[39mfunctional\u001b[38;5;241m.\u001b[39mdropout(hidden_states, p\u001b[38;5;241m=\u001b[39m\u001b[38;5;28mself\u001b[39m\u001b[38;5;241m.\u001b[39mdropout, training\u001b[38;5;241m=\u001b[39m\u001b[38;5;28mself\u001b[39m\u001b[38;5;241m.\u001b[39mtraining)\n\u001b[1;32m    314\u001b[0m hidden_states \u001b[38;5;241m=\u001b[39m residual \u001b[38;5;241m+\u001b[39m hidden_states\n",
      "File \u001b[0;32m~/miniconda3/envs/latenv/lib/python3.8/site-packages/torch/nn/modules/module.py:1102\u001b[0m, in \u001b[0;36mModule._call_impl\u001b[0;34m(self, *input, **kwargs)\u001b[0m\n\u001b[1;32m   1098\u001b[0m \u001b[38;5;66;03m# If we don't have any hooks, we want to skip the rest of the logic in\u001b[39;00m\n\u001b[1;32m   1099\u001b[0m \u001b[38;5;66;03m# this function, and just call forward.\u001b[39;00m\n\u001b[1;32m   1100\u001b[0m \u001b[38;5;28;01mif\u001b[39;00m \u001b[38;5;129;01mnot\u001b[39;00m (\u001b[38;5;28mself\u001b[39m\u001b[38;5;241m.\u001b[39m_backward_hooks \u001b[38;5;129;01mor\u001b[39;00m \u001b[38;5;28mself\u001b[39m\u001b[38;5;241m.\u001b[39m_forward_hooks \u001b[38;5;129;01mor\u001b[39;00m \u001b[38;5;28mself\u001b[39m\u001b[38;5;241m.\u001b[39m_forward_pre_hooks \u001b[38;5;129;01mor\u001b[39;00m _global_backward_hooks\n\u001b[1;32m   1101\u001b[0m         \u001b[38;5;129;01mor\u001b[39;00m _global_forward_hooks \u001b[38;5;129;01mor\u001b[39;00m _global_forward_pre_hooks):\n\u001b[0;32m-> 1102\u001b[0m     \u001b[38;5;28;01mreturn\u001b[39;00m \u001b[43mforward_call\u001b[49m\u001b[43m(\u001b[49m\u001b[38;5;241;43m*\u001b[39;49m\u001b[38;5;28;43minput\u001b[39;49m\u001b[43m,\u001b[49m\u001b[43m \u001b[49m\u001b[38;5;241;43m*\u001b[39;49m\u001b[38;5;241;43m*\u001b[39;49m\u001b[43mkwargs\u001b[49m\u001b[43m)\u001b[49m\n\u001b[1;32m   1103\u001b[0m \u001b[38;5;66;03m# Do not call functions when jit is used\u001b[39;00m\n\u001b[1;32m   1104\u001b[0m full_backward_hooks, non_full_backward_hooks \u001b[38;5;241m=\u001b[39m [], []\n",
      "File \u001b[0;32m~/miniconda3/envs/latenv/lib/python3.8/site-packages/transformers/models/mbart/modeling_mbart.py:265\u001b[0m, in \u001b[0;36mMBartAttention.forward\u001b[0;34m(self, hidden_states, key_value_states, past_key_value, attention_mask, layer_head_mask, output_attentions)\u001b[0m\n\u001b[1;32m    262\u001b[0m attn_output \u001b[38;5;241m=\u001b[39m attn_output\u001b[38;5;241m.\u001b[39mtranspose(\u001b[38;5;241m1\u001b[39m, \u001b[38;5;241m2\u001b[39m)\n\u001b[1;32m    263\u001b[0m attn_output \u001b[38;5;241m=\u001b[39m attn_output\u001b[38;5;241m.\u001b[39mreshape(bsz, tgt_len, embed_dim)\n\u001b[0;32m--> 265\u001b[0m attn_output \u001b[38;5;241m=\u001b[39m \u001b[38;5;28;43mself\u001b[39;49m\u001b[38;5;241;43m.\u001b[39;49m\u001b[43mout_proj\u001b[49m\u001b[43m(\u001b[49m\u001b[43mattn_output\u001b[49m\u001b[43m)\u001b[49m\n\u001b[1;32m    267\u001b[0m \u001b[38;5;28;01mreturn\u001b[39;00m attn_output, attn_weights_reshaped, past_key_value\n",
      "File \u001b[0;32m~/miniconda3/envs/latenv/lib/python3.8/site-packages/torch/nn/modules/module.py:1102\u001b[0m, in \u001b[0;36mModule._call_impl\u001b[0;34m(self, *input, **kwargs)\u001b[0m\n\u001b[1;32m   1098\u001b[0m \u001b[38;5;66;03m# If we don't have any hooks, we want to skip the rest of the logic in\u001b[39;00m\n\u001b[1;32m   1099\u001b[0m \u001b[38;5;66;03m# this function, and just call forward.\u001b[39;00m\n\u001b[1;32m   1100\u001b[0m \u001b[38;5;28;01mif\u001b[39;00m \u001b[38;5;129;01mnot\u001b[39;00m (\u001b[38;5;28mself\u001b[39m\u001b[38;5;241m.\u001b[39m_backward_hooks \u001b[38;5;129;01mor\u001b[39;00m \u001b[38;5;28mself\u001b[39m\u001b[38;5;241m.\u001b[39m_forward_hooks \u001b[38;5;129;01mor\u001b[39;00m \u001b[38;5;28mself\u001b[39m\u001b[38;5;241m.\u001b[39m_forward_pre_hooks \u001b[38;5;129;01mor\u001b[39;00m _global_backward_hooks\n\u001b[1;32m   1101\u001b[0m         \u001b[38;5;129;01mor\u001b[39;00m _global_forward_hooks \u001b[38;5;129;01mor\u001b[39;00m _global_forward_pre_hooks):\n\u001b[0;32m-> 1102\u001b[0m     \u001b[38;5;28;01mreturn\u001b[39;00m \u001b[43mforward_call\u001b[49m\u001b[43m(\u001b[49m\u001b[38;5;241;43m*\u001b[39;49m\u001b[38;5;28;43minput\u001b[39;49m\u001b[43m,\u001b[49m\u001b[43m \u001b[49m\u001b[38;5;241;43m*\u001b[39;49m\u001b[38;5;241;43m*\u001b[39;49m\u001b[43mkwargs\u001b[49m\u001b[43m)\u001b[49m\n\u001b[1;32m   1103\u001b[0m \u001b[38;5;66;03m# Do not call functions when jit is used\u001b[39;00m\n\u001b[1;32m   1104\u001b[0m full_backward_hooks, non_full_backward_hooks \u001b[38;5;241m=\u001b[39m [], []\n",
      "\u001b[0;31mKeyboardInterrupt\u001b[0m: "
     ]
    }
   ],
   "source": [
    "cnt = 0\n",
    "for i in range(0, len(lat4)):\n",
    "    print(i)\n",
    "    if sanity_lattice(i):\n",
    "            cnt+=1\n",
    "print(cnt)"
   ]
  },
  {
   "cell_type": "code",
   "execution_count": 98,
   "id": "23c91fc3-83cb-43e2-a97f-9bfadcafcf3a",
   "metadata": {},
   "outputs": [
    {
     "data": {
      "text/plain": [
       "[-0.4107227325439453,\n",
       " -0.4116992652416229,\n",
       " -0.41290998458862305,\n",
       " -0.4169265627861023]"
      ]
     },
     "execution_count": 98,
     "metadata": {},
     "output_type": "execute_result"
    }
   ],
   "source": [
    "beam49[3]['modelscores']"
   ]
  },
  {
   "cell_type": "code",
   "execution_count": null,
   "id": "4d9bb8e0-acdd-4dcc-944b-33a1c0eaa33f",
   "metadata": {},
   "outputs": [],
   "source": [
    "\n",
    "\n",
    "# forward pass\n"
   ]
  }
 ],
 "metadata": {
  "kernelspec": {
   "display_name": "Python 3 (ipykernel)",
   "language": "python",
   "name": "python3"
  },
  "language_info": {
   "codemirror_mode": {
    "name": "ipython",
    "version": 3
   },
   "file_extension": ".py",
   "mimetype": "text/x-python",
   "name": "python",
   "nbconvert_exporter": "python",
   "pygments_lexer": "ipython3",
   "version": "3.8.12"
  }
 },
 "nbformat": 4,
 "nbformat_minor": 5
}
