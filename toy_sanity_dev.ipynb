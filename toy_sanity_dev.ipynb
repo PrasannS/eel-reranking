{
 "cells": [
  {
   "cell_type": "code",
   "execution_count": 1,
   "id": "d08cc2d4-f071-49a7-aee2-419f46a42521",
   "metadata": {},
   "outputs": [
    {
     "name": "stderr",
     "output_type": "stream",
     "text": [
      "2022-09-05 05:46:51.206401: W tensorflow/stream_executor/platform/default/dso_loader.cc:64] Could not load dynamic library 'libcudart.so.11.0'; dlerror: libcudart.so.11.0: cannot open shared object file: No such file or directory\n",
      "2022-09-05 05:46:51.206422: I tensorflow/stream_executor/cuda/cudart_stub.cc:29] Ignore above cudart dlerror if you do not have a GPU set up on your machine.\n"
     ]
    }
   ],
   "source": [
    "from src.recom_search.model.beam_node_reverse import ReverseNode\n",
    "from transformers import AutoTokenizer, AutoModel\n",
    "\n",
    "import flatten_lattice as fl\n",
    "import torch\n",
    "from bert_models import LinearLatticeBert, LinearPOSBert\n",
    "from encoding_utils import *\n",
    "import pickle\n",
    "import toy_helper as thelp\n",
    "\n",
    "import torch.nn as nn\n",
    "from transformers import AutoModel, AutoTokenizer, AutoConfig\n",
    "from latmask_bert_models import LatticeBertModel\n",
    "import json\n",
    "\n",
    "\n",
    "device = torch.device('cuda:2' if torch.cuda.is_available() else 'cpu')\n",
    "\n",
    "from mask_utils import *\n",
    "from encoding_utils import *\n",
    "\n",
    "\n",
    "bert_tok = AutoTokenizer.from_pretrained(\"bert-base-cased\")\n",
    "mbart_tok = AutoTokenizer.from_pretrained(\"facebook/mbart-large-50-many-to-one-mmt\")"
   ]
  },
  {
   "cell_type": "code",
   "execution_count": 2,
   "id": "0d571946-bf28-41bc-853e-897e78de7a27",
   "metadata": {},
   "outputs": [],
   "source": [
    "# Model Wrapper\n",
    "class LinearPOSBertV1(nn.Module):\n",
    "    def __init__(self, num_labels):\n",
    "        super().__init__()\n",
    "        self.bert = LatticeBertModel(AutoConfig.from_pretrained('bert-base-cased'))\n",
    "        self.probe = nn.Linear(self.bert.config.hidden_size, num_labels)\n",
    "        self.to(device)\n",
    "\n",
    "    def parameters(self):\n",
    "        return self.probe.parameters()\n",
    "  \n",
    "    def forward(self, sentences, pos_ids=None, attmasks=None):\n",
    "        with torch.no_grad(): # no training of BERT parameters\n",
    "            word_rep, sentence_rep = self.bert(sentences, position_ids=pos_ids, encoder_attention_mask=attmasks, attention_mask=attmasks, return_dict=False)\n",
    "        return self.probe(word_rep)\n",
    "    \n",
    "def prepare_dataset(resset):\n",
    "    x = []\n",
    "    y = []\n",
    "    for res in resset:\n",
    "        \n",
    "        cleaned = [clean_expanded(r) for r in res]\n",
    "        inputs = bert_tok(cleaned, padding=\"max_length\", max_length=500, return_tensors='pt').to(device)\n",
    "\n",
    "        y.append(posbmodel(inputs.input_ids, attmasks = inputs.attention_mask))\n",
    "        x.append(inputs.input_ids)\n",
    "        \n",
    "    return x, y\n",
    "\n",
    "def check_accuracy(setpred, setlabels):\n",
    "    cor = 0\n",
    "    tot = 0\n",
    "    for i in range(0, len(setpred)):\n",
    "        ex = setpred[i]\n",
    "        for j in range(0, len(ex)):\n",
    "            if sum(setlabels[i][j])==0:\n",
    "                continue\n",
    "            elif torch.argmax(setlabels[i][j])==0:\n",
    "                continue\n",
    "            tot+=1\n",
    "            if torch.argmax(ex[j])==torch.argmax(setlabels[i][j]):\n",
    "                cor+=1\n",
    "    return cor/tot\n",
    "\n",
    "# correct posids\n",
    "def mod_posids(pids):\n",
    "    cop = pids\n",
    "    for p in cop:\n",
    "        for i in range(0, len(p)):\n",
    "            if p[i]==0:\n",
    "                p[i] = i\n",
    "    return cop\n",
    "\n",
    "# set posids to default\n",
    "def def_posids(pids):\n",
    "    cop = pids\n",
    "    for p in cop:\n",
    "        for i in range(0, len(p)):\n",
    "            p[i] = i\n",
    "    return cop\n",
    "\n",
    "def show_labels (pred):\n",
    "    res = []\n",
    "    for p in pred:\n",
    "        res.append(lablist[torch.argmax(p)])\n",
    "    return res"
   ]
  },
  {
   "cell_type": "code",
   "execution_count": 3,
   "id": "2989ad54-31ac-4880-968f-53f169904dfa",
   "metadata": {},
   "outputs": [
    {
     "name": "stdout",
     "output_type": "stream",
     "text": [
      "867826688\n"
     ]
    }
   ],
   "source": [
    "# Load POS model, label vocabulary \n",
    "with open('./lab_vocab.json') as json_file:\n",
    "    labels = json.load(json_file)\n",
    "posbmodel = LinearPOSBertV1(len(list(labels.keys())))    \n",
    "t = torch.load(\"./a3distrib/ckpt/posbert1way.pth\")\n",
    "posbmodel.load_state_dict(t)\n",
    "posbmodel.eval()\n",
    "print(torch.cuda.memory_allocated(\"cuda:2\"))\n",
    "torch.cuda.empty_cache()\n"
   ]
  },
  {
   "cell_type": "code",
   "execution_count": null,
   "id": "fbca1055-e6e8-4bb5-a461-5f1599468e21",
   "metadata": {},
   "outputs": [],
   "source": []
  },
  {
   "cell_type": "code",
   "execution_count": 16,
   "id": "e65225c6-cc3e-4560-b4b7-a832af033642",
   "metadata": {},
   "outputs": [],
   "source": [
    "# method that makes padding equal to 1\n",
    "from mask_utils import ones_padding\n",
    "\n",
    "def run_pipeline(inplist, resarrs = None, flat = None):\n",
    "    # construct data structure for toy graph in format used on actual examples\n",
    "    if flat==None:\n",
    "        toygraph = thelp.create_toy_graph(inplist, mbart_tok)\n",
    "\n",
    "        # get list of exploded candidates using same algorithm from numbers\n",
    "        exploded = fl.get_all_possible_candidates(toygraph)\n",
    "\n",
    "        # get a flattened version of toy lattice (same method as on actual examples)\n",
    "        flat_toy = fl.flatten_lattice(toygraph)\n",
    "    else:\n",
    "        flat_toy = flat\n",
    "        exploded = resarrs\n",
    "\n",
    "    # generate mask (uses same method as actual examples), convert to -inf mask (seems to not do anything)\n",
    "    mask = connect_mat(flat_toy)\n",
    "    mask = torch.triu(mask)\n",
    "    #mask[mask==0] = -float('inf')\n",
    "    #mask = ones_padding(mask)\n",
    "    \n",
    "\n",
    "    # get gold labels for the exploded set\n",
    "    dsetx, dsety = prepare_dataset([exploded])\n",
    "\n",
    "    assert len(dsetx)==1\n",
    "\n",
    "    # from encoding utils, get posids and relevant tokens\n",
    "    sents, posids = create_inputs([flat_toy])\n",
    "    \n",
    "    # get gold label dictionaries for tokens in example, based on averages of tokens on dsety\n",
    "    _ , tmaps = lattice_pos_goldlabels(dsetx, dsety, sents)\n",
    "\n",
    "    # generate gold y labels using tmaps and \n",
    "    latposylabels = tmap_pos_goldlabels(tmaps, sents)\n",
    "\n",
    "    # get generated labels for flattened lattice, def_posids can be used for default posids\n",
    "    # params start as (sents.to(device), mod_posids(posids).to(device), torch.stack([mask]).to(device))\n",
    "    # posids, mask can be set to None to ablate to default\n",
    "    pred = posbmodel(sents.to(device), mod_posids(posids).to(device), torch.stack([mask]).to(device))\n",
    "    #pred = posbmodel(sents.to(device), None, None)\n",
    "    return pred, latposylabels, tmaps, sents, posids, dsetx, dsety, flat_toy, mask\n",
    "\n",
    "lablist = [k for k in labels.keys()]\n",
    "def print_results(CUTOFF):\n",
    "\n",
    "    # sanity check to look at flat lattice \n",
    "    p = flat_toy\n",
    "    tlist = fl.get_toklist(p)\n",
    "    res = \"\"\n",
    "    for s in tlist:\n",
    "        res = res+\" \"+bert_tok.decode(s)\n",
    "    decstr = res\n",
    "\n",
    "    # number of tokens, the tokens that are passed into model for lattice\n",
    "    print(\"INPUT\")\n",
    "    print(decstr)\n",
    "\n",
    "    print(\"PREDICTED\")\n",
    "    print(show_labels(pred[0])[:CUTOFF])\n",
    "    print(\"GOLD\")\n",
    "    print(show_labels(latposylabels[0])[:CUTOFF])\n",
    "    \n",
    "    # run explodeds through model\n",
    "    indivlabs = posbmodel(dsetx[0])\n",
    "    print(\"\")\n",
    "    print(\"Exploded paths\")\n",
    "    # show labels for s1, s2 when run through individually\n",
    "    for i in range(len(inputlist)):\n",
    "        print(inputlist[i])\n",
    "        print(show_labels(indivlabs[i])[:20])"
   ]
  },
  {
   "cell_type": "code",
   "execution_count": 17,
   "id": "6a628828-df45-46ab-992b-fe662c079a83",
   "metadata": {},
   "outputs": [
    {
     "name": "stdout",
     "output_type": "stream",
     "text": [
      "3\n",
      "0\n",
      "0\n",
      "Accuracy\n",
      "0.03\n",
      "INPUT\n",
      " The Fed raises interest rates . interest among the economists . the children of the future .\n",
      "PREDICTED\n",
      "['<cls>', 'DT', 'NNP', 'VBZ', 'NN', 'NNS', '.', 'NN', 'IN', 'DT', 'NNS', '.', 'DT', 'NNS', 'IN', 'DT', 'NN', '.', '<sep>', '<pad>', '<pad>', '<pad>', '<pad>', '<pad>', '<pad>', '<pad>']\n",
      "GOLD\n",
      "['<cls>', 'DT', 'NNP', 'VBZ', 'NN', 'NNS', 'NNP', 'NN', 'IN', 'DT', 'NNS', 'NNP', 'DT', 'NNS', 'IN', 'DT', 'NN', 'NNP', 'NNP', 'NNP', 'NNP', 'NNP', 'NNP', 'NNP', 'NNP', 'NNP']\n",
      "\n",
      "Exploded paths\n",
      "The Fed raises interest rates.\n",
      "['<cls>', 'DT', 'NNP', 'VBZ', 'NN', 'NNS', 'RB', '<pad>', '<pad>', '<pad>', '<pad>', '<pad>', '<pad>', '<pad>', '<pad>', '<pad>', '<pad>', '<pad>', '<pad>', '<pad>']\n",
      "The Fed raises interest among the economists .\n",
      "['<cls>', 'DT', 'NNP', 'VBZ', 'NN', 'IN', 'DT', 'NNS', 'RB', '<pad>', '<pad>', '<pad>', '<pad>', '<pad>', '<pad>', '<pad>', '<pad>', '<pad>', '<pad>', '<pad>']\n",
      "The Fed raises the children of the future .\n",
      "['<cls>', 'DT', 'NNP', 'VBZ', 'DT', 'NNS', 'IN', 'DT', 'NN', 'RB', '<pad>', '<pad>', '<pad>', '<pad>', '<pad>', '<pad>', '<pad>', '<pad>', '<pad>', '<pad>']\n"
     ]
    }
   ],
   "source": [
    "# get a list of input strings of the format where the start w/ the same pre-fix but have different endings\n",
    "inputlist = [\n",
    "    \"The Fed raises interest rates.\",\n",
    "    \"The Fed raises interest among the economists .\",\n",
    "    \"The Fed raises the children of the future .\"\n",
    "]\n",
    "\n",
    "pred, latposylabels, tmaps, sents, posids, dsetx, dsety, flat_toy, mask = run_pipeline(inputlist)\n",
    "#mask[mask==0] = -float('inf')\n",
    "\n",
    "# accuracy (assumes that gold is good, which isn't confirmed here)\n",
    "print(\"Accuracy\")\n",
    "print(check_accuracy(pred, latposylabels))\n",
    "# input is number of toks to print\n",
    "print_results(26)"
   ]
  },
  {
   "cell_type": "code",
   "execution_count": 13,
   "id": "0565317b-bb42-409e-8244-974844eb952d",
   "metadata": {},
   "outputs": [
    {
     "data": {
      "text/plain": [
       "'NNP'"
      ]
     },
     "execution_count": 13,
     "metadata": {},
     "output_type": "execute_result"
    }
   ],
   "source": [
    "lablist[torch.argmax(tmaps[0]['0'])]"
   ]
  },
  {
   "cell_type": "code",
   "execution_count": 9,
   "id": "83a78d2d-6bd7-4ab6-8f71-573fb9dcae76",
   "metadata": {},
   "outputs": [],
   "source": [
    "# construct data structure for toy graph in format used on actual examples\n",
    "toygraph = thelp.create_toy_graph(inputlist, mbart_tok)\n",
    "\n",
    "# get list of exploded candidates using same algorithm from numbers\n",
    "exploded = fl.get_all_possible_candidates(toygraph)\n",
    "\n",
    "# get a flattened version of toy lattice (same method as on actual examples)\n",
    "flat_toy = fl.flatten_lattice(toygraph)\n",
    "\n",
    "# generate mask (uses same method as actual examples), convert to -inf mask (seems to not do anything)\n",
    "mask = connect_mat(flat_toy)\n",
    "mask[mask==0] = -float('inf')\n",
    "mask = ones_padding(mask)\n",
    "\n",
    "\n",
    "# get gold labels for the exploded set\n",
    "dsetx, dsety = prepare_dataset([exploded])\n",
    "\n",
    "assert len(dsetx)==1\n",
    "\n",
    "# from encoding utils, get posids and relevant tokens\n",
    "sents, posids = create_inputs([flat_toy])"
   ]
  },
  {
   "cell_type": "code",
   "execution_count": 10,
   "id": "43b561c5-c577-496a-916d-36a6500b4fe9",
   "metadata": {},
   "outputs": [
    {
     "data": {
      "text/plain": [
       "tensor([  101,  1109, 26356, 13686,  2199,  5600,   119,  2199,  1621,  1103,\n",
       "        27705,   119,  1103,  1482,  1104,  1103,  2174,   119,   102],\n",
       "       device='cuda:2')"
      ]
     },
     "execution_count": 10,
     "metadata": {},
     "output_type": "execute_result"
    }
   ],
   "source": [
    "sents[0][:19]"
   ]
  },
  {
   "cell_type": "code",
   "execution_count": 11,
   "id": "23e5c128-0d18-4ba9-846d-563c4f82b98e",
   "metadata": {},
   "outputs": [
    {
     "name": "stdout",
     "output_type": "stream",
     "text": [
      "3\n",
      "0\n",
      "0\n"
     ]
    }
   ],
   "source": [
    "# get gold label dictionaries for tokens in example, based on averages of tokens on dsety\n",
    "_ , tmaps = lattice_pos_goldlabels(dsetx, dsety, sents)\n",
    "\n",
    "# generate gold y labels using tmaps and \n",
    "latposylabels = tmap_pos_goldlabels(tmaps, sents)\n",
    "\n",
    "# get generated labels for flattened lattice, def_posids can be used for default posids\n",
    "# params start as (sents.to(device), mod_posids(posids).to(device), torch.stack([mask]).to(device))\n",
    "# posids, mask can be set to None to ablate to default\n",
    "pred = posbmodel(sents.to(device), def_posids(posids).to(device), torch.stack([mask]).to(device))#, mod_posids(posids).to(device), torch.stack([mask]).to(device))\n",
    "#pred = posbmodel(sents.to(device), mod_posids(posids).to(device), None)"
   ]
  },
  {
   "cell_type": "code",
   "execution_count": 18,
   "id": "732c485f-26e2-496d-b193-6d5f321b022b",
   "metadata": {},
   "outputs": [],
   "source": [
    "shortsents = torch.stack([sents[0][:19]])"
   ]
  },
  {
   "cell_type": "code",
   "execution_count": 18,
   "id": "96a95e4e-2241-4ec6-9256-d4a29c474226",
   "metadata": {},
   "outputs": [],
   "source": [
    "pnobatch = posbmodel(shortsents.to(device))"
   ]
  },
  {
   "cell_type": "code",
   "execution_count": 19,
   "id": "08f40c95-3276-4802-b7a7-071ab921d5b2",
   "metadata": {},
   "outputs": [
    {
     "data": {
      "text/plain": [
       "tensor(18, device='cuda:2')"
      ]
     },
     "execution_count": 19,
     "metadata": {},
     "output_type": "execute_result"
    }
   ],
   "source": [
    "torch.argmax(pnobatch[0][3])"
   ]
  },
  {
   "cell_type": "code",
   "execution_count": 20,
   "id": "9fdbcdee-1d3d-4f2a-8e6c-01479038885e",
   "metadata": {},
   "outputs": [
    {
     "data": {
      "text/plain": [
       "tensor(18, device='cuda:2')"
      ]
     },
     "execution_count": 20,
     "metadata": {},
     "output_type": "execute_result"
    }
   ],
   "source": [
    "torch.argmax(pred[0][3])"
   ]
  },
  {
   "cell_type": "code",
   "execution_count": 21,
   "id": "f4797002-5274-4f73-b35a-6755f5a3f378",
   "metadata": {},
   "outputs": [],
   "source": [
    "pl = []\n",
    "for p in pred[0]:\n",
    "    pl.append(int(torch.argmax(p)))\n",
    "\n",
    "pnl = []\n",
    "for pn in pnobatch[0]:\n",
    "    pnl.append(int(torch.argmax(pn)))"
   ]
  },
  {
   "cell_type": "code",
   "execution_count": 19,
   "id": "6f67d9f6-67b1-4564-9fdf-4470b7ffae4c",
   "metadata": {},
   "outputs": [
    {
     "ename": "NameError",
     "evalue": "name 'pnl' is not defined",
     "output_type": "error",
     "traceback": [
      "\u001b[0;31m---------------------------------------------------------------------------\u001b[0m",
      "\u001b[0;31mNameError\u001b[0m                                 Traceback (most recent call last)",
      "Input \u001b[0;32mIn [19]\u001b[0m, in \u001b[0;36m<module>\u001b[0;34m\u001b[0m\n\u001b[1;32m      1\u001b[0m loss \u001b[38;5;241m=\u001b[39m torch\u001b[38;5;241m.\u001b[39mnn\u001b[38;5;241m.\u001b[39mMSELoss()\n\u001b[0;32m----> 2\u001b[0m \u001b[38;5;28;01mfor\u001b[39;00m i \u001b[38;5;129;01min\u001b[39;00m \u001b[38;5;28mrange\u001b[39m(\u001b[38;5;28mlen\u001b[39m(\u001b[43mpnl\u001b[49m)):\n\u001b[1;32m      3\u001b[0m     \u001b[38;5;28mprint\u001b[39m(loss(pred[\u001b[38;5;241m0\u001b[39m][i], pnobatch[\u001b[38;5;241m0\u001b[39m][i]))\n",
      "\u001b[0;31mNameError\u001b[0m: name 'pnl' is not defined"
     ]
    }
   ],
   "source": [
    "loss = torch.nn.MSELoss()\n",
    "for i in range(len(pnl)):\n",
    "    print(loss(pred[0][i], pnobatch[0][i]))"
   ]
  },
  {
   "cell_type": "code",
   "execution_count": 41,
   "id": "df0055fc-80f8-44bf-a554-e3a6aadab5c9",
   "metadata": {},
   "outputs": [
    {
     "name": "stdout",
     "output_type": "stream",
     "text": [
      "[(0, 0), (2, 2), (3, 3), (18, 18), (5, 5), (10, 10), (17, 27), (5, 5), (1, 1), (2, 2), (10, 10), (17, 27), (2, 2), (10, 10), (1, 1), (2, 2), (23, 5), (17, 17), (0, 0)]\n"
     ]
    }
   ],
   "source": [
    "print(list(zip(pl[:len(pnl)], pnl)))"
   ]
  },
  {
   "cell_type": "code",
   "execution_count": 42,
   "id": "f1bf0e14-2076-40ba-8bdb-678ef5f1a2bf",
   "metadata": {},
   "outputs": [
    {
     "data": {
      "text/plain": [
       "torch.Size([1, 500, 44])"
      ]
     },
     "execution_count": 42,
     "metadata": {},
     "output_type": "execute_result"
    }
   ],
   "source": [
    "pred.shape"
   ]
  },
  {
   "cell_type": "code",
   "execution_count": 12,
   "id": "a5352b2e-2d65-4476-816e-9ee2cc5c1c25",
   "metadata": {},
   "outputs": [],
   "source": [
    "loss = torch.nn.MSELoss()\n",
    "\n",
    "ids = bert_tok(\"How is it going my boy.\", padding=\"max_length\", max_length=500, return_tensors='pt').to(device)\n",
    "out = posbmodel(ids.input_ids, attmasks=ids.attention_mask)"
   ]
  },
  {
   "cell_type": "code",
   "execution_count": 13,
   "id": "cbb2ece0-6f75-4021-ae18-a7b28a915cba",
   "metadata": {},
   "outputs": [],
   "source": [
    "\n",
    "shids = bert_tok(\"How is it going my boy.\", return_tensors='pt').to(device)\n",
    "shout = posbmodel(shids.input_ids, attmasks=shids.attention_mask)\n"
   ]
  },
  {
   "cell_type": "code",
   "execution_count": 14,
   "id": "18966840-6b9e-4397-8bbd-6aa92f298c9c",
   "metadata": {},
   "outputs": [
    {
     "data": {
      "text/plain": [
       "tensor(6.9396e-12, device='cuda:2', grad_fn=<MseLossBackward0>)"
      ]
     },
     "execution_count": 14,
     "metadata": {},
     "output_type": "execute_result"
    }
   ],
   "source": [
    "loss(out[0][:9][0], shout[0][0])"
   ]
  },
  {
   "cell_type": "code",
   "execution_count": 5,
   "id": "218b54cf-8e76-4344-ae77-8900c01145cb",
   "metadata": {},
   "outputs": [
    {
     "ename": "NameError",
     "evalue": "name 'out' is not defined",
     "output_type": "error",
     "traceback": [
      "\u001b[0;31m---------------------------------------------------------------------------\u001b[0m",
      "\u001b[0;31mNameError\u001b[0m                                 Traceback (most recent call last)",
      "Input \u001b[0;32mIn [5]\u001b[0m, in \u001b[0;36m<module>\u001b[0;34m\u001b[0m\n\u001b[0;32m----> 1\u001b[0m \u001b[38;5;28mprint\u001b[39m(\u001b[43mout\u001b[49m[\u001b[38;5;241m0\u001b[39m][:\u001b[38;5;241m9\u001b[39m][\u001b[38;5;241m0\u001b[39m])\n\u001b[1;32m      2\u001b[0m \u001b[38;5;28mprint\u001b[39m(shout[\u001b[38;5;241m0\u001b[39m][\u001b[38;5;241m0\u001b[39m])\n",
      "\u001b[0;31mNameError\u001b[0m: name 'out' is not defined"
     ]
    }
   ],
   "source": [
    "print(out[0][:9][0])\n",
    "print(shout[0][0])"
   ]
  },
  {
   "cell_type": "code",
   "execution_count": 13,
   "id": "ec7088b5-1f39-47c6-b1b6-685a4688fee9",
   "metadata": {},
   "outputs": [
    {
     "data": {
      "text/plain": [
       "torch.Size([9, 44])"
      ]
     },
     "execution_count": 13,
     "metadata": {},
     "output_type": "execute_result"
    }
   ],
   "source": [
    "out[0][:9].shape"
   ]
  },
  {
   "cell_type": "code",
   "execution_count": 14,
   "id": "811237ae-7a7a-443b-9c78-03ec8b80894a",
   "metadata": {},
   "outputs": [
    {
     "data": {
      "text/plain": [
       "torch.Size([9, 44])"
      ]
     },
     "execution_count": 14,
     "metadata": {},
     "output_type": "execute_result"
    }
   ],
   "source": [
    "shout[0].shape"
   ]
  },
  {
   "cell_type": "code",
   "execution_count": 6,
   "id": "0c379182-8604-4e01-b488-2af1320b5c44",
   "metadata": {},
   "outputs": [],
   "source": [
    "import pickle\n",
    "\n",
    "pgraphs = None\n",
    "with open('./torchsaved/pgraphsall.pkl', 'rb') as file:\n",
    "    pgraphs = pickle.load(file)\n",
    "    \n",
    "resarrs = None\n",
    "with open('./torchsaved/resarrsall.pkl', 'rb') as file:\n",
    "    resarrs = pickle.load(file)"
   ]
  },
  {
   "cell_type": "code",
   "execution_count": 7,
   "id": "d3d3bbff-06e6-44d5-99e1-6de696c79218",
   "metadata": {},
   "outputs": [
    {
     "name": "stdout",
     "output_type": "stream",
     "text": [
      "298\n",
      "missing token\n",
      "missing token\n",
      "missing token\n",
      "missing token\n",
      "missing token\n",
      "missing token\n",
      "missing token\n",
      "missing token\n",
      "missing token\n",
      "missing token\n",
      "missing token\n",
      "missing token\n",
      "missing token\n",
      "missing token\n",
      "missing token\n",
      "missing token\n",
      "0\n",
      "missing token\n",
      "missing token\n",
      "missing token\n",
      "missing token\n",
      "missing token\n",
      "missing token\n",
      "missing token\n",
      "missing token\n",
      "missing token\n",
      "missing token\n",
      "missing token\n",
      "missing token\n",
      "missing token\n",
      "missing token\n",
      "missing token\n",
      "missing token\n",
      "0\n"
     ]
    }
   ],
   "source": [
    "IND = 87\n",
    "pred, latposylabels, tmaps, sents, posids, dsetx, dsety, flat_toy, mask = run_pipeline(None, resarrs[IND], pgraphs[IND])\n",
    "#mask[mask==0] = -float('inf')"
   ]
  },
  {
   "cell_type": "code",
   "execution_count": 8,
   "id": "d085be1d-1f8f-44b1-bd01-cfde19e367ec",
   "metadata": {},
   "outputs": [
    {
     "name": "stdout",
     "output_type": "stream",
     "text": [
      "Accuracy\n",
      "0.8381742738589212\n",
      "INPUT\n",
      " Two days before the trial of President Mohamed Mo ##rs ##i was to begin , they went down to the street . s . the street . s . , who has been deposed , they went ou ##sted President Mohamed Mo ##rs ##i began , the two men went down to the street . s . they were out on the street . s . went to the street . s . on the street . s . into the street . s . out on the took to the street . s . , the two men went down to they were out on the street . s . took to the street . s . went into the street . s . out on the the outgoing President Mohamed Mo ##rs ##i began , the , the two they were took went into out down to the the street . s . deposed President Mohamed Mo ##rs ##i opens , the two they have taken to the street . s . took went out was due to start , they took went open , they took went begin , the two they were took went out to open , they took went begin , the two opened , the two they were on the street . s . took went to on into out into the street . s . began they went down the street . s . , the outgoing deposed Mohamed Mo ##rs ##i , they went down President\n",
      "PREDICTED\n",
      "['<cls>', 'CD', 'NNS', 'IN', 'DT', 'NN', 'IN', 'NNP', 'NNP', 'NNP', 'NNP', 'NNP', 'VBD', 'TO', 'VB', ',', 'PRP', 'VBD', 'IN', 'TO', 'DT', 'NN', 'RB', 'RB', 'RB', 'DT', 'NN', '<sep>', 'RB', 'RB', ',', 'WP', 'VBZ', 'VBN', 'VBN', ',', 'PRP', 'VBD', 'NN', 'JJ', 'NNP', 'NNP', 'NNP', 'NNP', 'NNP', 'VBD', ',', 'DT', 'CD', 'NNS', 'VBD', 'IN', 'TO', 'DT', 'NN', '<sep>', 'RB', '.', 'PRP', 'VBD', 'IN', 'IN', 'DT', 'NN', 'RB', 'RB', 'RB', 'VBD', 'TO', 'DT', 'NN', '<sep>', 'RB', 'RB', 'IN', 'DT', 'NN', '<sep>', 'RB', 'RB', 'IN', 'DT', 'NN', '<sep>', 'RB', 'RB', 'IN', 'IN', 'DT', 'VBD', 'TO', 'DT', 'NN', '<sep>', 'RB', 'RB', ',', 'DT', 'CD', 'NNS', 'VBD', 'IN', 'TO', 'PRP', 'VBD', 'RP', 'IN', 'DT', 'NN', '<sep>', 'RB', 'RB', 'VBD', 'TO', 'DT', 'NN', '<sep>', '<pad>', '<sep>', 'VBD', 'IN', 'DT', 'NN', '<sep>', '<pad>', '<sep>', 'RP', 'IN', 'DT', 'DT', 'JJ', 'NNP', 'NNP', 'NNP', 'NNP', 'NNP', 'VBD', ',', 'DT', ',', 'DT', 'CD', 'PRP', 'VBD', 'VBD', 'VBD', 'IN', 'RB', 'IN', 'TO', 'DT', 'DT', 'NN', 'RB', 'RB', 'RB', 'JJ', 'NNP', 'NNP', 'NNP', 'NNP', 'NNP', 'VBZ', ',', 'DT', 'CD', 'PRP', 'VBP', 'VBN', 'TO', 'DT', 'NN', '<sep>', 'RB', '.', 'VBD', 'VBD', 'RB', 'VBD', 'JJ', 'TO', 'VB', ',', 'PRP', 'VBD', 'VBD', 'VB', ',', 'PRP', 'VBD', 'VBD', 'VB', ',', 'DT', 'CD', 'PRP', 'VBD', 'VBD', 'VBD', 'RB', 'TO', 'VB', ',', 'PRP', 'VBD', 'VBD', 'VB', ',', 'DT', 'CD', 'VBD', ',', 'DT', 'CD', 'PRP', 'VBD', 'IN', 'DT', 'NN', 'RB', 'RB', 'RB', 'VBD', 'VBD', 'TO', 'IN', 'IN', 'IN', 'IN', 'DT', 'NN', 'RB', 'NN', '<sep>', 'VBD', 'PRP', 'VBD', 'IN', 'DT', 'NN', '<sep>', 'RB', 'RB', ',', 'DT', 'JJ', 'JJ', 'NNP', 'NNP', 'NNP', 'NNP', ',', 'PRP', 'VBD', 'RB', 'NNP', '<sep>', '<pad>', '<pad>', '<pad>', '<pad>', '<pad>', '<pad>', '<pad>', '<pad>', '<pad>', '<pad>', '<pad>', '<pad>', '<pad>', '<pad>', '<pad>', '<pad>', '<pad>', '<pad>', '<pad>', '<pad>', '<pad>', '<pad>', '<pad>', '<pad>', '<pad>', '<pad>', '<pad>', '<pad>', '<pad>', '<pad>', '<pad>', '<pad>', '<pad>', '<pad>', '<pad>', '<pad>', '<pad>', '<pad>', '<pad>', '<pad>', '<pad>']\n",
      "GOLD\n",
      "['<cls>', 'CD', 'NNS', 'IN', 'DT', 'NN', 'IN', 'NNP', 'NNP', 'NNP', 'NNP', 'NNP', 'VBD', 'TO', 'VB', ',', 'PRP', 'VBD', 'IN', 'TO', 'DT', 'NN', '.', '<pad>', '.', 'DT', 'NN', '.', '<pad>', '.', ',', 'WP', 'VBZ', 'VBN', 'JJ', ',', 'PRP', 'VBD', 'NN', 'VBN', 'NNP', 'NNP', 'NNP', 'NNP', 'NNP', 'VBD', ',', 'DT', 'CD', 'NNS', 'VBD', 'IN', 'TO', 'DT', 'NN', '.', '<pad>', '.', 'PRP', 'VBD', 'IN', 'IN', 'DT', 'NN', '.', '<pad>', '.', 'VBD', 'TO', 'DT', 'NN', '.', '<pad>', '.', 'IN', 'DT', 'NN', '.', '<pad>', '.', 'IN', 'DT', 'NN', '.', '<pad>', '.', 'IN', 'IN', 'DT', 'VBD', 'TO', 'DT', 'NN', '.', '<pad>', '.', ',', 'DT', 'CD', 'NNS', 'VBD', 'IN', 'TO', 'PRP', 'VBD', 'IN', 'IN', 'DT', 'NN', '.', '<pad>', '.', 'VBD', 'TO', 'DT', 'NN', '.', '<pad>', '.', 'VBD', 'IN', 'DT', 'NN', '.', '<pad>', '.', 'IN', 'IN', 'DT', 'DT', 'JJ', 'NNP', 'NNP', 'NNP', 'NNP', 'NNP', 'VBD', ',', 'DT', ',', 'DT', 'CD', 'PRP', 'VBD', 'VBD', 'VBD', 'IN', 'IN', 'IN', 'TO', 'DT', 'DT', 'NN', '.', '<pad>', '.', 'JJ', 'NNP', 'NNP', 'NNP', 'NNP', 'NNP', 'VBZ', ',', 'DT', 'CD', 'PRP', 'VBP', 'VBN', 'TO', 'DT', 'NN', '.', '<pad>', '.', 'VBD', 'VBD', 'IN', 'VBD', 'VBG', 'TO', 'VB', ',', 'PRP', 'VBD', 'VBD', 'VB', ',', 'PRP', 'VBD', 'VBD', 'VB', ',', 'DT', 'CD', 'PRP', 'VBD', 'VBD', 'VBD', 'IN', 'TO', 'VB', ',', 'PRP', 'VBD', 'VBD', 'VB', ',', 'DT', 'CD', 'VBD', ',', 'DT', 'CD', 'PRP', 'VBD', 'IN', 'DT', 'NN', '.', '<pad>', '.', 'VBD', 'VBD', 'TO', 'IN', 'IN', 'IN', 'IN', 'DT', 'NN', '.', '<pad>', '.', 'VBD', 'PRP', 'VBD', 'IN', 'DT', 'NN', '.', '<pad>', '.', ',', 'DT', 'JJ', 'JJ', 'NNP', 'NNP', 'NNP', 'NNP', ',', 'PRP', 'VBD', 'IN', 'NNP', '<sep>', '<pad>', '<pad>', '<pad>', '<pad>', '<pad>', '<pad>', '<pad>', '<pad>', '<pad>', '<pad>', '<pad>', '<pad>', '<pad>', '<pad>', '<pad>', '<pad>', '<pad>', '<pad>', '<pad>', '<pad>', '<pad>', '<pad>', '<pad>', '<pad>', '<pad>', '<pad>', '<pad>', '<pad>', '<pad>', '<pad>', '<pad>', '<pad>', '<pad>', '<pad>', '<pad>', '<pad>', '<pad>', '<pad>', '<pad>', '<pad>', '<pad>']\n",
      "\n",
      "Exploded paths\n"
     ]
    },
    {
     "ename": "NameError",
     "evalue": "name 'inputlist' is not defined",
     "output_type": "error",
     "traceback": [
      "\u001b[0;31m---------------------------------------------------------------------------\u001b[0m",
      "\u001b[0;31mNameError\u001b[0m                                 Traceback (most recent call last)",
      "Input \u001b[0;32mIn [8]\u001b[0m, in \u001b[0;36m<module>\u001b[0;34m\u001b[0m\n\u001b[1;32m      3\u001b[0m \u001b[38;5;28mprint\u001b[39m(check_accuracy(pred, latposylabels))\n\u001b[1;32m      4\u001b[0m \u001b[38;5;66;03m# input is number of toks to print\u001b[39;00m\n\u001b[0;32m----> 5\u001b[0m \u001b[43mprint_results\u001b[49m\u001b[43m(\u001b[49m\u001b[38;5;241;43m298\u001b[39;49m\u001b[43m)\u001b[49m\n",
      "Input \u001b[0;32mIn [4]\u001b[0m, in \u001b[0;36mprint_results\u001b[0;34m(CUTOFF)\u001b[0m\n\u001b[1;32m     68\u001b[0m \u001b[38;5;28mprint\u001b[39m(\u001b[38;5;124m\"\u001b[39m\u001b[38;5;124mExploded paths\u001b[39m\u001b[38;5;124m\"\u001b[39m)\n\u001b[1;32m     69\u001b[0m \u001b[38;5;66;03m# show labels for s1, s2 when run through individually\u001b[39;00m\n\u001b[0;32m---> 70\u001b[0m \u001b[38;5;28;01mfor\u001b[39;00m i \u001b[38;5;129;01min\u001b[39;00m \u001b[38;5;28mrange\u001b[39m(\u001b[38;5;28mlen\u001b[39m(\u001b[43minputlist\u001b[49m)):\n\u001b[1;32m     71\u001b[0m     \u001b[38;5;28mprint\u001b[39m(inputlist[i])\n\u001b[1;32m     72\u001b[0m     \u001b[38;5;28mprint\u001b[39m(show_labels(indivlabs[i])[:\u001b[38;5;241m20\u001b[39m])\n",
      "\u001b[0;31mNameError\u001b[0m: name 'inputlist' is not defined"
     ]
    }
   ],
   "source": [
    "# accuracy (assumes that gold is good, which isn't confirmed here)\n",
    "print(\"Accuracy\")\n",
    "print(check_accuracy(pred, latposylabels))\n",
    "# input is number of toks to print\n",
    "print_results(298)"
   ]
  },
  {
   "cell_type": "code",
   "execution_count": 15,
   "id": "1086a8f0-e826-43d7-b556-61146594b9c1",
   "metadata": {},
   "outputs": [
    {
     "data": {
      "text/plain": [
       "'.'"
      ]
     },
     "execution_count": 15,
     "metadata": {},
     "output_type": "execute_result"
    }
   ],
   "source": [
    "lablist[torch.argmax(tmaps[0]['119'])]"
   ]
  },
  {
   "cell_type": "code",
   "execution_count": 17,
   "id": "7550a3eb-58ff-4f13-abb7-5fd07e617f53",
   "metadata": {},
   "outputs": [
    {
     "name": "stdout",
     "output_type": "stream",
     "text": [
      "[CLS]   <cls>\n",
      "Two   CD\n",
      "days   NNS\n",
      "before   IN\n",
      "the   DT\n",
      "trial   NN\n",
      "of   IN\n",
      "President   NNP\n",
      "Mohamed   NNP\n",
      "Mo   NNP\n",
      "##rs   NNP\n",
      "##i   NNP\n",
      "was   VBD\n",
      "to   TO\n",
      "begin   VB\n",
      ",   ,\n",
      "they   PRP\n",
      "went   VBD\n",
      "down   IN\n",
      "street   NN\n",
      ".   .\n",
      "[SEP]   <sep>\n",
      "[PAD]   <pad>\n",
      "streets   NNS\n",
      "who   WP\n",
      "has   VBZ\n",
      "been   VBN\n",
      "deposed   JJ\n",
      "ou   NN\n",
      "##sted   VBN\n",
      "began   VBD\n",
      "two   CD\n",
      "men   NNS\n",
      "were   VBD\n",
      "out   IN\n",
      "on   IN\n",
      "into   IN\n",
      "took   VBD\n",
      "outgoing   JJ\n",
      "opens   VBZ\n",
      "have   VBP\n",
      "taken   VBN\n",
      "due   VBG\n",
      "start   VB\n",
      "open   VB\n",
      "opened   VBD\n"
     ]
    }
   ],
   "source": [
    "for t in tmaps[0].keys():\n",
    "    print(bert_tok.decode(int(t)), \" \", lablist[torch.argmax(tmaps[0][t])])\n",
    "    "
   ]
  },
  {
   "cell_type": "code",
   "execution_count": 22,
   "id": "7c2bb74b-fcc0-4953-a800-ef5d18e6230e",
   "metadata": {},
   "outputs": [
    {
     "data": {
      "text/plain": [
       "'s'"
      ]
     },
     "execution_count": 22,
     "metadata": {},
     "output_type": "execute_result"
    }
   ],
   "source": []
  },
  {
   "cell_type": "code",
   "execution_count": 25,
   "id": "8066215a-ece9-4881-b3f1-2cde263e4e14",
   "metadata": {},
   "outputs": [
    {
     "name": "stdout",
     "output_type": "stream",
     "text": [
      "s\n",
      "s\n",
      "s\n",
      "s\n",
      "s\n",
      "s\n",
      "s\n",
      "s\n",
      "s\n",
      "s\n",
      "s\n",
      "s\n",
      "s\n",
      "s\n",
      "s\n",
      "s\n",
      "s\n",
      "s\n",
      "s\n",
      "s\n",
      "s\n",
      "s\n",
      "s\n",
      "s\n",
      "s\n",
      "s\n",
      "s\n",
      "s\n",
      "s\n",
      "s\n",
      "s\n",
      "s\n",
      "s\n",
      "s\n",
      "s\n",
      "s\n",
      "s\n",
      "s\n",
      "s\n",
      "s\n",
      "s\n",
      "s\n",
      "s\n",
      "s\n",
      "s\n",
      "s\n",
      "s\n",
      "s\n",
      "s\n",
      "s\n",
      "s\n",
      "s\n",
      "s\n",
      "s\n",
      "s\n",
      "s\n",
      "s\n",
      "s\n",
      "s\n",
      "s\n",
      "s\n",
      "s\n",
      "s\n",
      "s\n",
      "s\n",
      "s\n",
      "s\n",
      "s\n",
      "s\n",
      "s\n",
      "s\n",
      "s\n",
      "s\n",
      "s\n",
      "s\n",
      "s\n",
      "s\n",
      "s\n",
      "s\n",
      "s\n",
      "s\n",
      "s\n",
      "s\n",
      "s\n",
      "s\n",
      "s\n",
      "s\n",
      "s\n",
      "s\n",
      "s\n",
      "s\n",
      "s\n",
      "s\n",
      "s\n",
      "s\n",
      "s\n",
      "s\n",
      "s\n",
      "s\n",
      "s\n",
      "s\n",
      "s\n",
      "s\n",
      "s\n",
      "s\n",
      "s\n",
      "s\n",
      "s\n",
      "s\n",
      "s\n",
      "s\n",
      "s\n",
      "s\n",
      "s\n",
      "s\n",
      "s\n",
      "s\n",
      "s\n",
      "s\n",
      "s\n",
      "s\n",
      "s\n",
      "s\n",
      "s\n",
      "s\n",
      "s\n",
      "s\n",
      "s\n",
      "s\n",
      "s\n",
      "s\n",
      "s\n",
      "s\n",
      "s\n",
      "s\n",
      "s\n",
      "s\n",
      "s\n",
      "s\n",
      "s\n",
      "s\n",
      "s\n",
      "s\n",
      "s\n",
      "s\n",
      "s\n",
      "s\n",
      "s\n",
      "s\n",
      "s\n",
      "s\n",
      "s\n",
      "s\n",
      "s\n",
      "s\n",
      "s\n",
      "s\n",
      "s\n",
      "s\n",
      "s\n",
      "s\n",
      "s\n",
      "s\n",
      "s\n",
      "s\n",
      "s\n",
      "s\n",
      "s\n",
      "s\n",
      "s\n",
      "s\n",
      "s\n",
      "s\n",
      "s\n",
      "s\n",
      "s\n",
      "s\n",
      "s\n",
      "s\n",
      "s\n",
      "s\n",
      "s\n",
      "s\n",
      "s\n",
      "s\n",
      "s\n",
      "s\n",
      "s\n",
      "s\n",
      "s\n",
      "s\n",
      "s\n",
      "s\n",
      "s\n",
      "s\n",
      "s\n",
      "s\n",
      "s\n",
      "s\n",
      "s\n",
      "s\n",
      "s\n",
      "s\n",
      "s\n",
      "s\n",
      "s\n",
      "s\n",
      "s\n",
      "s\n",
      "s\n",
      "s\n",
      "s\n",
      "s\n",
      "s\n",
      "s\n",
      "s\n",
      "s\n",
      "s\n",
      "s\n",
      "s\n",
      "s\n",
      "s\n",
      "s\n",
      "s\n",
      "s\n",
      "s\n",
      "s\n",
      "s\n",
      "s\n",
      "s\n",
      "s\n",
      "s\n",
      "s\n",
      "s\n",
      "s\n",
      "s\n",
      "s\n",
      "s\n",
      "s\n",
      "s\n",
      "s\n",
      "s\n",
      "s\n",
      "s\n",
      "s\n",
      "s\n",
      "s\n",
      "s\n",
      "s\n",
      "s\n",
      "s\n",
      "s\n",
      "s\n",
      "s\n",
      "s\n",
      "s\n",
      "s\n",
      "s\n",
      "s\n"
     ]
    }
   ],
   "source": [
    "cnt = 0\n",
    "for l in latposylabels[0]:\n",
    "    \n",
    "    \n",
    "    #print(cnt, \" \", lablist[torch.argmax(l)] )\n",
    "    if torch.argmax(l)==0:\n",
    "        print(bert_tok.decode(sents[0][23]))\n",
    "    cnt+=1"
   ]
  },
  {
   "cell_type": "code",
   "execution_count": null,
   "id": "307a812b-18df-4846-9704-3c7f4e494d27",
   "metadata": {},
   "outputs": [],
   "source": []
  }
 ],
 "metadata": {
  "kernelspec": {
   "display_name": "Python 3 (ipykernel)",
   "language": "python",
   "name": "python3"
  },
  "language_info": {
   "codemirror_mode": {
    "name": "ipython",
    "version": 3
   },
   "file_extension": ".py",
   "mimetype": "text/x-python",
   "name": "python",
   "nbconvert_exporter": "python",
   "pygments_lexer": "ipython3",
   "version": "3.8.12"
  }
 },
 "nbformat": 4,
 "nbformat_minor": 5
}
