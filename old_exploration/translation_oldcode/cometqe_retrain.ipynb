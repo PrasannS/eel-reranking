{
 "cells": [
  {
   "cell_type": "code",
   "execution_count": 1,
   "id": "c5db7838-52dc-4c8d-b142-c3c3c43f501a",
   "metadata": {},
   "outputs": [
    {
     "name": "stderr",
     "output_type": "stream",
     "text": [
      "2022-10-14 19:49:20.272043: W tensorflow/stream_executor/platform/default/dso_loader.cc:64] Could not load dynamic library 'libcudart.so.11.0'; dlerror: libcudart.so.11.0: cannot open shared object file: No such file or directory\n",
      "2022-10-14 19:49:20.272064: I tensorflow/stream_executor/cuda/cudart_stub.cc:29] Ignore above cudart dlerror if you do not have a GPU set up on your machine.\n"
     ]
    },
    {
     "data": {
      "text/plain": [
       "131072"
      ]
     },
     "execution_count": 1,
     "metadata": {},
     "output_type": "execute_result"
    }
   ],
   "source": [
    "from transformers import AutoModel, AutoTokenizer\n",
    "import torch\n",
    "import torch.nn as nn\n",
    "import csv\n",
    "device = torch.device('cuda:1' if torch.cuda.is_available() else 'cpu')\n",
    "import sys\n",
    "import random\n",
    "import pandas as pd\n",
    "from rerank_score_cands_new import load_cands\n",
    "import numpy as np\n",
    "from comet import download_model, load_from_checkpoint\n",
    "import pickle\n",
    "\n",
    "csv.field_size_limit(sys.maxsize)\n"
   ]
  },
  {
   "cell_type": "code",
   "execution_count": 2,
   "id": "f1e0b26d-0f6a-44e7-9627-4a41ad612ca8",
   "metadata": {},
   "outputs": [],
   "source": [
    "import os"
   ]
  },
  {
   "cell_type": "code",
   "execution_count": 3,
   "id": "5ddd38e6-5d9e-4750-b2a0-ac83bf51392c",
   "metadata": {},
   "outputs": [],
   "source": [
    "os.environ[\"CUDA_VISIBLE_DEVICES\"] = \"1\"\n",
    "torch.cuda.set_device(1)"
   ]
  },
  {
   "cell_type": "code",
   "execution_count": null,
   "id": "0dd94743-a64c-4355-b6f4-8fb09a072098",
   "metadata": {},
   "outputs": [
    {
     "name": "stderr",
     "output_type": "stream",
     "text": [
      "Predicting:  38%|█████████████████████████████████                                                       | 6/16 [00:53<01:28,  8.85s/it]\n"
     ]
    }
   ],
   "source": [
    "# Encoder-Decoder Model Embedding, Add a Weighted Layer at the end that leads to regression\n",
    "class XLMCometRegressor(nn.Module):\n",
    "    \n",
    "    def __init__(self, drop_rate=0.2):\n",
    "        # TODO should we be freezing layers?\n",
    "        super().__init__()\n",
    "        \n",
    "        self.xlmroberta = AutoModel.from_pretrained('xlm-roberta-base')\n",
    "        # Num labels 1 should just indicate regression (?)\n",
    "        self.regressor = nn.Sequential(\n",
    "            nn.Dropout(drop_rate),\n",
    "            nn.Linear(self.xlmroberta.config.hidden_size, 1))\n",
    "        self.to(device)\n",
    "        \n",
    "    def forward(self, input_ids, attention_masks):\n",
    "        # don't finetune xlmroberta model\n",
    "        with torch.no_grad():\n",
    "            outputs = self.xlmroberta(input_ids, attention_mask=attention_masks, encoder_attention_mask=attention_masks)\n",
    "        class_label_output = outputs[1]\n",
    "        outputs = self.regressor(class_label_output)\n",
    "        return outputs\n",
    "    \n",
    "model = XLMCometRegressor(drop_rate=0.2)"
   ]
  },
  {
   "cell_type": "code",
   "execution_count": null,
   "id": "8a57c2ee-7ac5-490b-86e7-23eb0c049e39",
   "metadata": {},
   "outputs": [],
   "source": [
    "model.load_state_dict(torch.load(\"./torchsaved/comestim8.pt\"))"
   ]
  },
  {
   "cell_type": "code",
   "execution_count": 2,
   "id": "79df2fa1-cba8-4c99-9bd2-01b1c01c12db",
   "metadata": {},
   "outputs": [],
   "source": [
    "# loads in a lot of french->english data\n",
    "def load_lpair_data():\n",
    "    fr_raw = []\n",
    "    en_raw = []\n",
    "    with open('translation_data/news-commentary-v9.fr-en.fr') as f:\n",
    "        for i in range(0, 80000):\n",
    "            fr_raw.append(f.readline())\n",
    "        #fr_raw.remove(\"\")\n",
    "    with open('translation_data/news-commentary-v9.fr-en.en') as f:\n",
    "        for i in range(0, 80000):\n",
    "            en_raw.append(f.readline())\n",
    "        #en_raw.remove(\"\")\n",
    "    res = []\n",
    "    for fr, en in zip(fr_raw, en_raw):\n",
    "        tmp = {}\n",
    "        tmp['fr'] = fr\n",
    "        tmp['en'] = en\n",
    "        res.append(tmp)\n",
    "    random.shuffle(res)\n",
    "    tmpdf = pd.DataFrame(res)\n",
    "    return tmpdf"
   ]
  },
  {
   "cell_type": "code",
   "execution_count": 4,
   "id": "3d0ba599-49f9-46d8-8c7e-51b56d6167d9",
   "metadata": {},
   "outputs": [],
   "source": [
    "golddf = load_lpair_data()"
   ]
  },
  {
   "cell_type": "code",
   "execution_count": 6,
   "id": "55e58895-2c81-4bf1-aa33-14703545b9c1",
   "metadata": {},
   "outputs": [
    {
     "data": {
      "text/html": [
       "<div>\n",
       "<style scoped>\n",
       "    .dataframe tbody tr th:only-of-type {\n",
       "        vertical-align: middle;\n",
       "    }\n",
       "\n",
       "    .dataframe tbody tr th {\n",
       "        vertical-align: top;\n",
       "    }\n",
       "\n",
       "    .dataframe thead th {\n",
       "        text-align: right;\n",
       "    }\n",
       "</style>\n",
       "<table border=\"1\" class=\"dataframe\">\n",
       "  <thead>\n",
       "    <tr style=\"text-align: right;\">\n",
       "      <th></th>\n",
       "      <th>fr</th>\n",
       "      <th>en</th>\n",
       "    </tr>\n",
       "  </thead>\n",
       "  <tbody>\n",
       "    <tr>\n",
       "      <th>0</th>\n",
       "      <td>Puisque les États ne pourront agir seuls et ne...</td>\n",
       "      <td>But as the states won’t be able to do everythi...</td>\n",
       "    </tr>\n",
       "    <tr>\n",
       "      <th>1</th>\n",
       "      <td>A ces éléments déjà anciens, s'est ajouté ce q...</td>\n",
       "      <td>To this old brew, new ingredients have been ad...</td>\n",
       "    </tr>\n",
       "    <tr>\n",
       "      <th>2</th>\n",
       "      <td>Selon cette hypothèse, si le taux d'inflation ...</td>\n",
       "      <td>Second, reformers should not presume that offi...</td>\n",
       "    </tr>\n",
       "    <tr>\n",
       "      <th>3</th>\n",
       "      <td>NEW HAVEN – Une fois encore, la Chine s’est jo...</td>\n",
       "      <td>Large buffers of saving (53% of GDP) and forei...</td>\n",
       "    </tr>\n",
       "    <tr>\n",
       "      <th>4</th>\n",
       "      <td>Mais l'absence d'une opposition forte a favori...</td>\n",
       "      <td>Although the current governing coalition, cons...</td>\n",
       "    </tr>\n",
       "    <tr>\n",
       "      <th>...</th>\n",
       "      <td>...</td>\n",
       "      <td>...</td>\n",
       "    </tr>\n",
       "    <tr>\n",
       "      <th>79995</th>\n",
       "      <td>Au moins une partie du problème tient au fait ...</td>\n",
       "      <td>At least part of the problem is that it is dea...</td>\n",
       "    </tr>\n",
       "    <tr>\n",
       "      <th>79996</th>\n",
       "      <td>Mais, personne ne les oblige à accepter cet ar...</td>\n",
       "      <td>The special master would not be a fellow Calif...</td>\n",
       "    </tr>\n",
       "    <tr>\n",
       "      <th>79997</th>\n",
       "      <td>Car Chypre reste une île divisée.\\n</td>\n",
       "      <td>This is because Cyprus remains a divided islan...</td>\n",
       "    </tr>\n",
       "    <tr>\n",
       "      <th>79998</th>\n",
       "      <td>Nourrir la population mondiale, la protéger d’...</td>\n",
       "      <td>The challenges of feeding the world, keeping i...</td>\n",
       "    </tr>\n",
       "    <tr>\n",
       "      <th>79999</th>\n",
       "      <td>L’Union européenne voit les choses sous un aut...</td>\n",
       "      <td>Uribe may not deserve such a fate, but history...</td>\n",
       "    </tr>\n",
       "  </tbody>\n",
       "</table>\n",
       "<p>80000 rows × 2 columns</p>\n",
       "</div>"
      ],
      "text/plain": [
       "                                                      fr  \\\n",
       "0      Puisque les États ne pourront agir seuls et ne...   \n",
       "1      A ces éléments déjà anciens, s'est ajouté ce q...   \n",
       "2      Selon cette hypothèse, si le taux d'inflation ...   \n",
       "3      NEW HAVEN – Une fois encore, la Chine s’est jo...   \n",
       "4      Mais l'absence d'une opposition forte a favori...   \n",
       "...                                                  ...   \n",
       "79995  Au moins une partie du problème tient au fait ...   \n",
       "79996  Mais, personne ne les oblige à accepter cet ar...   \n",
       "79997                Car Chypre reste une île divisée.\\n   \n",
       "79998  Nourrir la population mondiale, la protéger d’...   \n",
       "79999  L’Union européenne voit les choses sous un aut...   \n",
       "\n",
       "                                                      en  \n",
       "0      But as the states won’t be able to do everythi...  \n",
       "1      To this old brew, new ingredients have been ad...  \n",
       "2      Second, reformers should not presume that offi...  \n",
       "3      Large buffers of saving (53% of GDP) and forei...  \n",
       "4      Although the current governing coalition, cons...  \n",
       "...                                                  ...  \n",
       "79995  At least part of the problem is that it is dea...  \n",
       "79996  The special master would not be a fellow Calif...  \n",
       "79997  This is because Cyprus remains a divided islan...  \n",
       "79998  The challenges of feeding the world, keeping i...  \n",
       "79999  Uribe may not deserve such a fate, but history...  \n",
       "\n",
       "[80000 rows x 2 columns]"
      ]
     },
     "execution_count": 6,
     "metadata": {},
     "output_type": "execute_result"
    }
   ],
   "source": [
    "golddf"
   ]
  },
  {
   "cell_type": "code",
   "execution_count": 6,
   "id": "fef4b7ef-1a06-432d-834d-cffe3cec8b6e",
   "metadata": {},
   "outputs": [],
   "source": [
    "d1 = pd.read_csv('./crit_err_data/goldlabels.txt', sep='\\t')"
   ]
  },
  {
   "cell_type": "code",
   "execution_count": 7,
   "id": "7556cc22-aa9f-4955-bc18-abbd2bc5dd75",
   "metadata": {},
   "outputs": [
    {
     "data": {
      "text/html": [
       "<div>\n",
       "<style scoped>\n",
       "    .dataframe tbody tr th:only-of-type {\n",
       "        vertical-align: middle;\n",
       "    }\n",
       "\n",
       "    .dataframe tbody tr th {\n",
       "        vertical-align: top;\n",
       "    }\n",
       "\n",
       "    .dataframe thead th {\n",
       "        text-align: right;\n",
       "    }\n",
       "</style>\n",
       "<table border=\"1\" class=\"dataframe\">\n",
       "  <thead>\n",
       "    <tr style=\"text-align: right;\">\n",
       "      <th></th>\n",
       "      <th>en-de</th>\n",
       "      <th>REFERENCE</th>\n",
       "      <th>2407</th>\n",
       "      <th>NOT</th>\n",
       "    </tr>\n",
       "  </thead>\n",
       "  <tbody>\n",
       "    <tr>\n",
       "      <th>0</th>\n",
       "      <td>en-de</td>\n",
       "      <td>REFERENCE</td>\n",
       "      <td>7270</td>\n",
       "      <td>ERR</td>\n",
       "    </tr>\n",
       "    <tr>\n",
       "      <th>1</th>\n",
       "      <td>en-de</td>\n",
       "      <td>REFERENCE</td>\n",
       "      <td>3532</td>\n",
       "      <td>NOT</td>\n",
       "    </tr>\n",
       "    <tr>\n",
       "      <th>2</th>\n",
       "      <td>en-de</td>\n",
       "      <td>REFERENCE</td>\n",
       "      <td>374</td>\n",
       "      <td>NOT</td>\n",
       "    </tr>\n",
       "    <tr>\n",
       "      <th>3</th>\n",
       "      <td>en-de</td>\n",
       "      <td>REFERENCE</td>\n",
       "      <td>4876</td>\n",
       "      <td>ERR</td>\n",
       "    </tr>\n",
       "    <tr>\n",
       "      <th>4</th>\n",
       "      <td>en-de</td>\n",
       "      <td>REFERENCE</td>\n",
       "      <td>5419</td>\n",
       "      <td>ERR</td>\n",
       "    </tr>\n",
       "    <tr>\n",
       "      <th>...</th>\n",
       "      <td>...</td>\n",
       "      <td>...</td>\n",
       "      <td>...</td>\n",
       "      <td>...</td>\n",
       "    </tr>\n",
       "    <tr>\n",
       "      <th>994</th>\n",
       "      <td>en-de</td>\n",
       "      <td>REFERENCE</td>\n",
       "      <td>8507</td>\n",
       "      <td>NOT</td>\n",
       "    </tr>\n",
       "    <tr>\n",
       "      <th>995</th>\n",
       "      <td>en-de</td>\n",
       "      <td>REFERENCE</td>\n",
       "      <td>934</td>\n",
       "      <td>NOT</td>\n",
       "    </tr>\n",
       "    <tr>\n",
       "      <th>996</th>\n",
       "      <td>en-de</td>\n",
       "      <td>REFERENCE</td>\n",
       "      <td>6717</td>\n",
       "      <td>ERR</td>\n",
       "    </tr>\n",
       "    <tr>\n",
       "      <th>997</th>\n",
       "      <td>en-de</td>\n",
       "      <td>REFERENCE</td>\n",
       "      <td>6708</td>\n",
       "      <td>NOT</td>\n",
       "    </tr>\n",
       "    <tr>\n",
       "      <th>998</th>\n",
       "      <td>en-de</td>\n",
       "      <td>REFERENCE</td>\n",
       "      <td>45</td>\n",
       "      <td>NOT</td>\n",
       "    </tr>\n",
       "  </tbody>\n",
       "</table>\n",
       "<p>999 rows × 4 columns</p>\n",
       "</div>"
      ],
      "text/plain": [
       "     en-de  REFERENCE  2407  NOT\n",
       "0    en-de  REFERENCE  7270  ERR\n",
       "1    en-de  REFERENCE  3532  NOT\n",
       "2    en-de  REFERENCE   374  NOT\n",
       "3    en-de  REFERENCE  4876  ERR\n",
       "4    en-de  REFERENCE  5419  ERR\n",
       "..     ...        ...   ...  ...\n",
       "994  en-de  REFERENCE  8507  NOT\n",
       "995  en-de  REFERENCE   934  NOT\n",
       "996  en-de  REFERENCE  6717  ERR\n",
       "997  en-de  REFERENCE  6708  NOT\n",
       "998  en-de  REFERENCE    45  NOT\n",
       "\n",
       "[999 rows x 4 columns]"
      ]
     },
     "execution_count": 7,
     "metadata": {},
     "output_type": "execute_result"
    }
   ],
   "source": [
    "d1"
   ]
  },
  {
   "cell_type": "code",
   "execution_count": 3,
   "id": "1acf3c57-1b90-41b8-be65-ab82958d843a",
   "metadata": {},
   "outputs": [],
   "source": [
    "golddf = pd.read_csv('./processeddata/golddata.csv')"
   ]
  },
  {
   "cell_type": "code",
   "execution_count": 4,
   "id": "aa79b1d5-b7a7-4cee-9053-4c7463096615",
   "metadata": {},
   "outputs": [
    {
     "data": {
      "text/html": [
       "<div>\n",
       "<style scoped>\n",
       "    .dataframe tbody tr th:only-of-type {\n",
       "        vertical-align: middle;\n",
       "    }\n",
       "\n",
       "    .dataframe tbody tr th {\n",
       "        vertical-align: top;\n",
       "    }\n",
       "\n",
       "    .dataframe thead th {\n",
       "        text-align: right;\n",
       "    }\n",
       "</style>\n",
       "<table border=\"1\" class=\"dataframe\">\n",
       "  <thead>\n",
       "    <tr style=\"text-align: right;\">\n",
       "      <th></th>\n",
       "      <th>Unnamed: 0</th>\n",
       "      <th>fr</th>\n",
       "      <th>en</th>\n",
       "      <th>scores</th>\n",
       "    </tr>\n",
       "  </thead>\n",
       "  <tbody>\n",
       "    <tr>\n",
       "      <th>0</th>\n",
       "      <td>0</td>\n",
       "      <td>Puisque les États ne pourront agir seuls et ne...</td>\n",
       "      <td>But as the states won’t be able to do everythi...</td>\n",
       "      <td>0.969682</td>\n",
       "    </tr>\n",
       "    <tr>\n",
       "      <th>1</th>\n",
       "      <td>1</td>\n",
       "      <td>A ces éléments déjà anciens, s'est ajouté ce q...</td>\n",
       "      <td>To this old brew, new ingredients have been ad...</td>\n",
       "      <td>1.015768</td>\n",
       "    </tr>\n",
       "    <tr>\n",
       "      <th>2</th>\n",
       "      <td>2</td>\n",
       "      <td>Selon cette hypothèse, si le taux d'inflation ...</td>\n",
       "      <td>Second, reformers should not presume that offi...</td>\n",
       "      <td>0.954492</td>\n",
       "    </tr>\n",
       "    <tr>\n",
       "      <th>3</th>\n",
       "      <td>3</td>\n",
       "      <td>NEW HAVEN – Une fois encore, la Chine s’est jo...</td>\n",
       "      <td>Large buffers of saving (53% of GDP) and forei...</td>\n",
       "      <td>0.911272</td>\n",
       "    </tr>\n",
       "    <tr>\n",
       "      <th>4</th>\n",
       "      <td>4</td>\n",
       "      <td>Mais l'absence d'une opposition forte a favori...</td>\n",
       "      <td>Although the current governing coalition, cons...</td>\n",
       "      <td>0.893119</td>\n",
       "    </tr>\n",
       "    <tr>\n",
       "      <th>...</th>\n",
       "      <td>...</td>\n",
       "      <td>...</td>\n",
       "      <td>...</td>\n",
       "      <td>...</td>\n",
       "    </tr>\n",
       "    <tr>\n",
       "      <th>49995</th>\n",
       "      <td>49995</td>\n",
       "      <td>Les négociations sur le changement climatique ...</td>\n",
       "      <td>The engineering solution is to keep a large am...</td>\n",
       "      <td>0.894210</td>\n",
       "    </tr>\n",
       "    <tr>\n",
       "      <th>49996</th>\n",
       "      <td>49996</td>\n",
       "      <td>Mettant en évidence l'inadéquation du Traité d...</td>\n",
       "      <td>So a concerted effort is needed by outside pow...</td>\n",
       "      <td>0.910272</td>\n",
       "    </tr>\n",
       "    <tr>\n",
       "      <th>49997</th>\n",
       "      <td>49997</td>\n",
       "      <td>Nous devons mettre fin à nos anciennes animosi...</td>\n",
       "      <td>We should put our ancient animosities behind u...</td>\n",
       "      <td>1.036713</td>\n",
       "    </tr>\n",
       "    <tr>\n",
       "      <th>49998</th>\n",
       "      <td>49998</td>\n",
       "      <td>Des points de vue différents sur la manière de...</td>\n",
       "      <td>In Germany, the Mohn family dismissed the lead...</td>\n",
       "      <td>0.926789</td>\n",
       "    </tr>\n",
       "    <tr>\n",
       "      <th>49999</th>\n",
       "      <td>49999</td>\n",
       "      <td>Ces deux auteurs estiment que la montée en pui...</td>\n",
       "      <td>That is how it should be: India is a fractious...</td>\n",
       "      <td>1.019823</td>\n",
       "    </tr>\n",
       "  </tbody>\n",
       "</table>\n",
       "<p>50000 rows × 4 columns</p>\n",
       "</div>"
      ],
      "text/plain": [
       "       Unnamed: 0                                                 fr  \\\n",
       "0               0  Puisque les États ne pourront agir seuls et ne...   \n",
       "1               1  A ces éléments déjà anciens, s'est ajouté ce q...   \n",
       "2               2  Selon cette hypothèse, si le taux d'inflation ...   \n",
       "3               3  NEW HAVEN – Une fois encore, la Chine s’est jo...   \n",
       "4               4  Mais l'absence d'une opposition forte a favori...   \n",
       "...           ...                                                ...   \n",
       "49995       49995  Les négociations sur le changement climatique ...   \n",
       "49996       49996  Mettant en évidence l'inadéquation du Traité d...   \n",
       "49997       49997  Nous devons mettre fin à nos anciennes animosi...   \n",
       "49998       49998  Des points de vue différents sur la manière de...   \n",
       "49999       49999  Ces deux auteurs estiment que la montée en pui...   \n",
       "\n",
       "                                                      en    scores  \n",
       "0      But as the states won’t be able to do everythi...  0.969682  \n",
       "1      To this old brew, new ingredients have been ad...  1.015768  \n",
       "2      Second, reformers should not presume that offi...  0.954492  \n",
       "3      Large buffers of saving (53% of GDP) and forei...  0.911272  \n",
       "4      Although the current governing coalition, cons...  0.893119  \n",
       "...                                                  ...       ...  \n",
       "49995  The engineering solution is to keep a large am...  0.894210  \n",
       "49996  So a concerted effort is needed by outside pow...  0.910272  \n",
       "49997  We should put our ancient animosities behind u...  1.036713  \n",
       "49998  In Germany, the Mohn family dismissed the lead...  0.926789  \n",
       "49999  That is how it should be: India is a fractious...  1.019823  \n",
       "\n",
       "[50000 rows x 4 columns]"
      ]
     },
     "execution_count": 4,
     "metadata": {},
     "output_type": "execute_result"
    }
   ],
   "source": [
    "golddf"
   ]
  },
  {
   "cell_type": "code",
   "execution_count": 4,
   "id": "79f9f601-970b-480d-bdbd-b0333a37933b",
   "metadata": {},
   "outputs": [
    {
     "name": "stderr",
     "output_type": "stream",
     "text": [
      "wmt20-comet-da is already in cache.\n",
      "Some weights of the model checkpoint at xlm-roberta-large were not used when initializing XLMRobertaModel: ['lm_head.dense.weight', 'lm_head.bias', 'lm_head.dense.bias', 'roberta.pooler.dense.weight', 'lm_head.layer_norm.bias', 'lm_head.layer_norm.weight', 'roberta.pooler.dense.bias', 'lm_head.decoder.weight']\n",
      "- This IS expected if you are initializing XLMRobertaModel from the checkpoint of a model trained on another task or with another architecture (e.g. initializing a BertForSequenceClassification model from a BertForPreTraining model).\n",
      "- This IS NOT expected if you are initializing XLMRobertaModel from the checkpoint of a model that you expect to be exactly identical (initializing a BertForSequenceClassification model from a BertForSequenceClassification model).\n",
      "Encoder model frozen.\n"
     ]
    }
   ],
   "source": [
    "# Load data with COMET scores that we can regress on\n",
    "#df = load_lpair_data()\n",
    "cometmodel = \"wmt20-comet-da\"\n",
    "comet_path = download_model(cometmodel, \"./cometmodel\")\n",
    "comet = load_from_checkpoint(comet_path).to(device)"
   ]
  },
  {
   "cell_type": "code",
   "execution_count": 5,
   "id": "e17e1fc0-0b23-4569-9244-51e697d5c198",
   "metadata": {},
   "outputs": [],
   "source": [
    "def make_com_inputs(cands):\n",
    "    alldata = []\n",
    "    for c in cands:\n",
    "        ind = 0\n",
    "        for cand in c['cands']:\n",
    "            tmp = {}\n",
    "            tmp['inp'] = c['src']\n",
    "            tmp['ref'] = c['ref']\n",
    "            tmp['hyp'] = cand\n",
    "            tmp['scores'] = c['cometscores'][ind]\n",
    "            alldata.append(tmp)\n",
    "            ind+=1\n",
    "    return alldata\n",
    "\n",
    "def get_comet_scores(hyps, srcs, refs):\n",
    "    cometqe_input = [{\"src\": src, \"mt\": mt, \"ref\":ref} for src, mt, ref in zip(srcs, hyps, refs)]\n",
    "    # sentence-level and corpus-level COMET\n",
    "    outs = []\n",
    "    for i in range(0, int(len(srcs)/2048)):\n",
    "        p = comet.predict(\n",
    "            cometqe_input[i*2048:(i+1)*2048], batch_size=128, progress_bar=True,\n",
    "            gpus=1\n",
    "        )\n",
    "        outs.extend(p[0])\n",
    "        del p\n",
    "        torch.cuda.empty_cache()\n",
    "    return outputs    "
   ]
  },
  {
   "cell_type": "code",
   "execution_count": 6,
   "id": "b05d0dc6-333a-4d6b-87b5-6f52389f6483",
   "metadata": {},
   "outputs": [],
   "source": [
    "frdata = pd.read_csv(\"processeddata/cpfdata.csv\")"
   ]
  },
  {
   "cell_type": "code",
   "execution_count": 7,
   "id": "309164f0-f50f-4d25-b286-bc2ff6cb7f10",
   "metadata": {},
   "outputs": [],
   "source": [
    "frdata = frdata.dropna()"
   ]
  },
  {
   "cell_type": "code",
   "execution_count": 8,
   "id": "06efeb7a-9d09-4435-80b0-92660409abfe",
   "metadata": {},
   "outputs": [],
   "source": [
    "a=torch.rand(100).cuda() "
   ]
  },
  {
   "cell_type": "code",
   "execution_count": null,
   "id": "0b7514be-92d4-45dd-8f36-b0124e225dea",
   "metadata": {},
   "outputs": [],
   "source": [
    "sco = get_comet_scores(frdata['hyp'], frdata['src'], frdata['ref'])\n",
    "frdata['score'] = sco\n",
    "frdata.to_csv(\"processeddata/cpfdata.csv\")"
   ]
  },
  {
   "cell_type": "code",
   "execution_count": null,
   "id": "e8c3815c-18ea-4374-be33-62c5f5289ea7",
   "metadata": {},
   "outputs": [],
   "source": [
    "gdata = pd.read_csv(\"processeddata/cpgdata.csv\")"
   ]
  },
  {
   "cell_type": "code",
   "execution_count": null,
   "id": "3b01d37c-944f-4e10-9d5d-71d5e35b2db9",
   "metadata": {},
   "outputs": [],
   "source": [
    "gdata = gdatata.dropna()"
   ]
  },
  {
   "cell_type": "code",
   "execution_count": null,
   "id": "efc48bdf-1fc9-4724-8129-705185247476",
   "metadata": {},
   "outputs": [],
   "source": [
    "sco = get_comet_scores(gdata['hyp'], gdata['src'], gdata['ref'])\n",
    "gdata['score'] = sco\n",
    "gdata.to_csv(\"processeddata/cpgdata.csv\")"
   ]
  },
  {
   "cell_type": "code",
   "execution_count": null,
   "id": "92e314ed-2788-43a8-bb7b-ca3caa1ce9fa",
   "metadata": {},
   "outputs": [],
   "source": [
    "import json"
   ]
  },
  {
   "cell_type": "code",
   "execution_count": 8,
   "id": "905fa346-b829-4c86-a623-161f351bb09d",
   "metadata": {},
   "outputs": [],
   "source": [
    "with open(\"rerank_outputs/post2post1explodedmtn1_fr-en_bfs_recom_4_-1_False_0.4_True_False_4_5_rcb_0.9_0.0_0.9.json\", \"r\") as f:\n",
    "    ldata = json.load(f)"
   ]
  },
  {
   "cell_type": "code",
   "execution_count": null,
   "id": "3de1febc-3c94-48ba-8958-0312fe7d3685",
   "metadata": {},
   "outputs": [],
   "source": [
    "ldata['data'][0]['cometscores']"
   ]
  },
  {
   "cell_type": "code",
   "execution_count": 20,
   "id": "2674f56d-3d18-4ea7-8a28-c13b872eef4b",
   "metadata": {},
   "outputs": [],
   "source": [
    "cominputs = make_com_inputs(ldata['data'])"
   ]
  },
  {
   "cell_type": "code",
   "execution_count": 21,
   "id": "0efc82f9-35f3-47e3-8c10-56ac16550fdf",
   "metadata": {},
   "outputs": [],
   "source": [
    "inpdf = pd.DataFrame(cominputs)"
   ]
  },
  {
   "cell_type": "code",
   "execution_count": 22,
   "id": "f0fc2e21-6885-4cdd-a2b3-40298cdc2222",
   "metadata": {},
   "outputs": [
    {
     "data": {
      "text/html": [
       "<div>\n",
       "<style scoped>\n",
       "    .dataframe tbody tr th:only-of-type {\n",
       "        vertical-align: middle;\n",
       "    }\n",
       "\n",
       "    .dataframe tbody tr th {\n",
       "        vertical-align: top;\n",
       "    }\n",
       "\n",
       "    .dataframe thead th {\n",
       "        text-align: right;\n",
       "    }\n",
       "</style>\n",
       "<table border=\"1\" class=\"dataframe\">\n",
       "  <thead>\n",
       "    <tr style=\"text-align: right;\">\n",
       "      <th></th>\n",
       "      <th>inp</th>\n",
       "      <th>ref</th>\n",
       "      <th>hyp</th>\n",
       "      <th>scores</th>\n",
       "    </tr>\n",
       "  </thead>\n",
       "  <tbody>\n",
       "    <tr>\n",
       "      <th>0</th>\n",
       "      <td>La police française arrêtera les supporters d'...</td>\n",
       "      <td>French Police to Arrest Anderlecht Supporters ...</td>\n",
       "      <td>French police to arrest Anderlecht supporters ...</td>\n",
       "      <td>0.637964</td>\n",
       "    </tr>\n",
       "    <tr>\n",
       "      <th>1</th>\n",
       "      <td>La police française arrêtera les supporters d'...</td>\n",
       "      <td>French Police to Arrest Anderlecht Supporters ...</td>\n",
       "      <td>French police to arrest Anderlecht supporters ...</td>\n",
       "      <td>0.618924</td>\n",
       "    </tr>\n",
       "    <tr>\n",
       "      <th>2</th>\n",
       "      <td>La police française arrêtera les supporters d'...</td>\n",
       "      <td>French Police to Arrest Anderlecht Supporters ...</td>\n",
       "      <td>French police to arrest Anderlecht supporters ...</td>\n",
       "      <td>0.302696</td>\n",
       "    </tr>\n",
       "    <tr>\n",
       "      <th>3</th>\n",
       "      <td>La police française arrêtera les supporters d'...</td>\n",
       "      <td>French Police to Arrest Anderlecht Supporters ...</td>\n",
       "      <td>French police to arrest Anderlecht supporters ...</td>\n",
       "      <td>0.257949</td>\n",
       "    </tr>\n",
       "    <tr>\n",
       "      <th>4</th>\n",
       "      <td>La police française arrêtera les supporters d'...</td>\n",
       "      <td>French Police to Arrest Anderlecht Supporters ...</td>\n",
       "      <td>French police to arrest Anderlecht supporters ...</td>\n",
       "      <td>0.756469</td>\n",
       "    </tr>\n",
       "    <tr>\n",
       "      <th>...</th>\n",
       "      <td>...</td>\n",
       "      <td>...</td>\n",
       "      <td>...</td>\n",
       "      <td>...</td>\n",
       "    </tr>\n",
       "    <tr>\n",
       "      <th>237836</th>\n",
       "      <td>Des scientifiques britanniques ont déclaré que...</td>\n",
       "      <td>British scientists said the results were inter...</td>\n",
       "      <td>British scientists said the results are intere...</td>\n",
       "      <td>0.838725</td>\n",
       "    </tr>\n",
       "    <tr>\n",
       "      <th>237837</th>\n",
       "      <td>Des scientifiques britanniques ont déclaré que...</td>\n",
       "      <td>British scientists said the results were inter...</td>\n",
       "      <td>British scientists stated that the results are...</td>\n",
       "      <td>0.335234</td>\n",
       "    </tr>\n",
       "    <tr>\n",
       "      <th>237838</th>\n",
       "      <td>Des scientifiques britanniques ont déclaré que...</td>\n",
       "      <td>British scientists said the results were inter...</td>\n",
       "      <td>British scientists have said that the results ...</td>\n",
       "      <td>0.504879</td>\n",
       "    </tr>\n",
       "    <tr>\n",
       "      <th>237839</th>\n",
       "      <td>Des scientifiques britanniques ont déclaré que...</td>\n",
       "      <td>British scientists said the results were inter...</td>\n",
       "      <td>British scientists said that the results are i...</td>\n",
       "      <td>0.444502</td>\n",
       "    </tr>\n",
       "    <tr>\n",
       "      <th>237840</th>\n",
       "      <td>Des scientifiques britanniques ont déclaré que...</td>\n",
       "      <td>British scientists said the results were inter...</td>\n",
       "      <td>British scientists said the results are intere...</td>\n",
       "      <td>0.412156</td>\n",
       "    </tr>\n",
       "  </tbody>\n",
       "</table>\n",
       "<p>237841 rows × 4 columns</p>\n",
       "</div>"
      ],
      "text/plain": [
       "                                                      inp  \\\n",
       "0       La police française arrêtera les supporters d'...   \n",
       "1       La police française arrêtera les supporters d'...   \n",
       "2       La police française arrêtera les supporters d'...   \n",
       "3       La police française arrêtera les supporters d'...   \n",
       "4       La police française arrêtera les supporters d'...   \n",
       "...                                                   ...   \n",
       "237836  Des scientifiques britanniques ont déclaré que...   \n",
       "237837  Des scientifiques britanniques ont déclaré que...   \n",
       "237838  Des scientifiques britanniques ont déclaré que...   \n",
       "237839  Des scientifiques britanniques ont déclaré que...   \n",
       "237840  Des scientifiques britanniques ont déclaré que...   \n",
       "\n",
       "                                                      ref  \\\n",
       "0       French Police to Arrest Anderlecht Supporters ...   \n",
       "1       French Police to Arrest Anderlecht Supporters ...   \n",
       "2       French Police to Arrest Anderlecht Supporters ...   \n",
       "3       French Police to Arrest Anderlecht Supporters ...   \n",
       "4       French Police to Arrest Anderlecht Supporters ...   \n",
       "...                                                   ...   \n",
       "237836  British scientists said the results were inter...   \n",
       "237837  British scientists said the results were inter...   \n",
       "237838  British scientists said the results were inter...   \n",
       "237839  British scientists said the results were inter...   \n",
       "237840  British scientists said the results were inter...   \n",
       "\n",
       "                                                      hyp    scores  \n",
       "0       French police to arrest Anderlecht supporters ...  0.637964  \n",
       "1       French police to arrest Anderlecht supporters ...  0.618924  \n",
       "2       French police to arrest Anderlecht supporters ...  0.302696  \n",
       "3       French police to arrest Anderlecht supporters ...  0.257949  \n",
       "4       French police to arrest Anderlecht supporters ...  0.756469  \n",
       "...                                                   ...       ...  \n",
       "237836  British scientists said the results are intere...  0.838725  \n",
       "237837  British scientists stated that the results are...  0.335234  \n",
       "237838  British scientists have said that the results ...  0.504879  \n",
       "237839  British scientists said that the results are i...  0.444502  \n",
       "237840  British scientists said the results are intere...  0.412156  \n",
       "\n",
       "[237841 rows x 4 columns]"
      ]
     },
     "execution_count": 22,
     "metadata": {},
     "output_type": "execute_result"
    }
   ],
   "source": [
    "inpdf"
   ]
  },
  {
   "cell_type": "code",
   "execution_count": null,
   "id": "2556ec6a-72cc-476a-a78a-63603866ee8f",
   "metadata": {},
   "outputs": [
    {
     "name": "stderr",
     "output_type": "stream",
     "text": [
      "GPU available: True, used: True\n",
      "TPU available: False, using: 0 TPU cores\n",
      "LOCAL_RANK: 0 - CUDA_VISIBLE_DEVICES: [0,1,2,3]\n",
      "Predicting:  97%|████████████████████████████████████████████████████████████████████████████████████▌  | 380/391 [15:18<00:26,  2.42s/it]"
     ]
    }
   ],
   "source": [
    "with torch.no_grad():\n",
    "    scores = get_comet_scores(golddf['en'], golddf['fr'], golddf['en'])"
   ]
  },
  {
   "cell_type": "code",
   "execution_count": 23,
   "id": "87d219c7-9912-4bf1-aa56-16cec8284b48",
   "metadata": {},
   "outputs": [],
   "source": [
    "#golddf['scores']=scores\n",
    "inpdf.to_csv('processeddata/testinpdata.csv')"
   ]
  },
  {
   "cell_type": "code",
   "execution_count": null,
   "id": "5ab4950f-dcb7-4953-8a1e-d0e4bb7f5d73",
   "metadata": {},
   "outputs": [],
   "source": [
    "#com_inps = make_com_inputs(bcands)\n",
    "#com_inps.extend(make_com_inputs(lcands)[:40000])"
   ]
  },
  {
   "cell_type": "code",
   "execution_count": 5,
   "id": "327fddf4-8e5c-42ba-95cd-5aae8f0dd42a",
   "metadata": {},
   "outputs": [],
   "source": [
    "distill_df = pd.read_csv('distill_cometdata_1.csv')\n",
    "#rand_df = pd.read_csv('distill_cometdata_rand.csv')\n",
    "#distill_df = distill_df.append(rand_df, ignore_index=True)\n"
   ]
  },
  {
   "cell_type": "code",
   "execution_count": 6,
   "id": "81a72556-6a65-4c54-a493-cb7619f4574d",
   "metadata": {},
   "outputs": [
    {
     "data": {
      "text/html": [
       "<div>\n",
       "<style scoped>\n",
       "    .dataframe tbody tr th:only-of-type {\n",
       "        vertical-align: middle;\n",
       "    }\n",
       "\n",
       "    .dataframe tbody tr th {\n",
       "        vertical-align: top;\n",
       "    }\n",
       "\n",
       "    .dataframe thead th {\n",
       "        text-align: right;\n",
       "    }\n",
       "</style>\n",
       "<table border=\"1\" class=\"dataframe\">\n",
       "  <thead>\n",
       "    <tr style=\"text-align: right;\">\n",
       "      <th></th>\n",
       "      <th>Unnamed: 0</th>\n",
       "      <th>inp</th>\n",
       "      <th>ref</th>\n",
       "      <th>hyp</th>\n",
       "      <th>scores</th>\n",
       "    </tr>\n",
       "  </thead>\n",
       "  <tbody>\n",
       "    <tr>\n",
       "      <th>0</th>\n",
       "      <td>0</td>\n",
       "      <td>Manquant de ce type de menaces externes, les l...</td>\n",
       "      <td>Lacking such external threats, the ties betwee...</td>\n",
       "      <td>In the absence of such external threats, the l...</td>\n",
       "      <td>-0.349685</td>\n",
       "    </tr>\n",
       "    <tr>\n",
       "      <th>1</th>\n",
       "      <td>1</td>\n",
       "      <td>Manquant de ce type de menaces externes, les l...</td>\n",
       "      <td>Lacking such external threats, the ties betwee...</td>\n",
       "      <td>In the absence of such external threats, the l...</td>\n",
       "      <td>-0.609029</td>\n",
       "    </tr>\n",
       "    <tr>\n",
       "      <th>2</th>\n",
       "      <td>2</td>\n",
       "      <td>Manquant de ce type de menaces externes, les l...</td>\n",
       "      <td>Lacking such external threats, the ties betwee...</td>\n",
       "      <td>In the absence of such external threats, the l...</td>\n",
       "      <td>-0.344984</td>\n",
       "    </tr>\n",
       "    <tr>\n",
       "      <th>3</th>\n",
       "      <td>3</td>\n",
       "      <td>Manquant de ce type de menaces externes, les l...</td>\n",
       "      <td>Lacking such external threats, the ties betwee...</td>\n",
       "      <td>In the absence of such external threats, the l...</td>\n",
       "      <td>-0.205078</td>\n",
       "    </tr>\n",
       "    <tr>\n",
       "      <th>4</th>\n",
       "      <td>4</td>\n",
       "      <td>Manquant de ce type de menaces externes, les l...</td>\n",
       "      <td>Lacking such external threats, the ties betwee...</td>\n",
       "      <td>In the absence of such external threats, the l...</td>\n",
       "      <td>-0.323497</td>\n",
       "    </tr>\n",
       "    <tr>\n",
       "      <th>...</th>\n",
       "      <td>...</td>\n",
       "      <td>...</td>\n",
       "      <td>...</td>\n",
       "      <td>...</td>\n",
       "      <td>...</td>\n",
       "    </tr>\n",
       "    <tr>\n",
       "      <th>79995</th>\n",
       "      <td>79995</td>\n",
       "      <td>Des hommes sont abattus en pleine rue ou même ...</td>\n",
       "      <td>People are attacked in the street and even at ...</td>\n",
       "      <td>Men are being killed in the street or even at ...</td>\n",
       "      <td>0.556703</td>\n",
       "    </tr>\n",
       "    <tr>\n",
       "      <th>79996</th>\n",
       "      <td>79996</td>\n",
       "      <td>Des hommes sont abattus en pleine rue ou même ...</td>\n",
       "      <td>People are attacked in the street and even at ...</td>\n",
       "      <td>Men are killed on the streets or even at home,...</td>\n",
       "      <td>0.774939</td>\n",
       "    </tr>\n",
       "    <tr>\n",
       "      <th>79997</th>\n",
       "      <td>79997</td>\n",
       "      <td>Des hommes sont abattus en pleine rue ou même ...</td>\n",
       "      <td>People are attacked in the street and even at ...</td>\n",
       "      <td>Men are being killed in the streets or even at...</td>\n",
       "      <td>0.754243</td>\n",
       "    </tr>\n",
       "    <tr>\n",
       "      <th>79998</th>\n",
       "      <td>79998</td>\n",
       "      <td>Des hommes sont abattus en pleine rue ou même ...</td>\n",
       "      <td>People are attacked in the street and even at ...</td>\n",
       "      <td>Men are being killed in the streets or even at...</td>\n",
       "      <td>0.730451</td>\n",
       "    </tr>\n",
       "    <tr>\n",
       "      <th>79999</th>\n",
       "      <td>79999</td>\n",
       "      <td>Des hommes sont abattus en pleine rue ou même ...</td>\n",
       "      <td>People are attacked in the street and even at ...</td>\n",
       "      <td>Men were killed in the streets or even at home...</td>\n",
       "      <td>0.718579</td>\n",
       "    </tr>\n",
       "  </tbody>\n",
       "</table>\n",
       "<p>80000 rows × 5 columns</p>\n",
       "</div>"
      ],
      "text/plain": [
       "       Unnamed: 0                                                inp  \\\n",
       "0               0  Manquant de ce type de menaces externes, les l...   \n",
       "1               1  Manquant de ce type de menaces externes, les l...   \n",
       "2               2  Manquant de ce type de menaces externes, les l...   \n",
       "3               3  Manquant de ce type de menaces externes, les l...   \n",
       "4               4  Manquant de ce type de menaces externes, les l...   \n",
       "...           ...                                                ...   \n",
       "79995       79995  Des hommes sont abattus en pleine rue ou même ...   \n",
       "79996       79996  Des hommes sont abattus en pleine rue ou même ...   \n",
       "79997       79997  Des hommes sont abattus en pleine rue ou même ...   \n",
       "79998       79998  Des hommes sont abattus en pleine rue ou même ...   \n",
       "79999       79999  Des hommes sont abattus en pleine rue ou même ...   \n",
       "\n",
       "                                                     ref  \\\n",
       "0      Lacking such external threats, the ties betwee...   \n",
       "1      Lacking such external threats, the ties betwee...   \n",
       "2      Lacking such external threats, the ties betwee...   \n",
       "3      Lacking such external threats, the ties betwee...   \n",
       "4      Lacking such external threats, the ties betwee...   \n",
       "...                                                  ...   \n",
       "79995  People are attacked in the street and even at ...   \n",
       "79996  People are attacked in the street and even at ...   \n",
       "79997  People are attacked in the street and even at ...   \n",
       "79998  People are attacked in the street and even at ...   \n",
       "79999  People are attacked in the street and even at ...   \n",
       "\n",
       "                                                     hyp    scores  \n",
       "0      In the absence of such external threats, the l... -0.349685  \n",
       "1      In the absence of such external threats, the l... -0.609029  \n",
       "2      In the absence of such external threats, the l... -0.344984  \n",
       "3      In the absence of such external threats, the l... -0.205078  \n",
       "4      In the absence of such external threats, the l... -0.323497  \n",
       "...                                                  ...       ...  \n",
       "79995  Men are being killed in the street or even at ...  0.556703  \n",
       "79996  Men are killed on the streets or even at home,...  0.774939  \n",
       "79997  Men are being killed in the streets or even at...  0.754243  \n",
       "79998  Men are being killed in the streets or even at...  0.730451  \n",
       "79999  Men were killed in the streets or even at home...  0.718579  \n",
       "\n",
       "[80000 rows x 5 columns]"
      ]
     },
     "execution_count": 6,
     "metadata": {},
     "output_type": "execute_result"
    }
   ],
   "source": [
    "distill_df"
   ]
  },
  {
   "cell_type": "code",
   "execution_count": 3,
   "id": "4da5e4f2-0b44-4d64-8773-de8fb1ab3921",
   "metadata": {},
   "outputs": [],
   "source": [
    "xlm_tok = AutoTokenizer.from_pretrained('xlm-roberta-base')"
   ]
  },
  {
   "cell_type": "code",
   "execution_count": 4,
   "id": "2b4ac347-fbed-4455-9771-50854df7e82b",
   "metadata": {},
   "outputs": [
    {
     "data": {
      "text/plain": [
       "{'input_ids': [0, 1572, 44764, 8, 405, 10644, 8, 195395, 7, 85309, 7, 4, 199, 144045, 1148, 4, 45, 42182, 4, 199, 384, 57753, 7162, 82, 199, 132702, 7162, 15, 122061, 108, 15324, 5365, 224, 5406, 7438, 82, 224, 24727, 63614, 6, 94416, 2045, 9044, 106747, 7, 578, 38747, 51, 17019, 15889, 60013, 8, 59539, 5, 2], 'attention_mask': [1, 1, 1, 1, 1, 1, 1, 1, 1, 1, 1, 1, 1, 1, 1, 1, 1, 1, 1, 1, 1, 1, 1, 1, 1, 1, 1, 1, 1, 1, 1, 1, 1, 1, 1, 1, 1, 1, 1, 1, 1, 1, 1, 1, 1, 1, 1, 1, 1, 1, 1, 1, 1, 1, 1]}"
      ]
     },
     "execution_count": 4,
     "metadata": {},
     "output_type": "execute_result"
    }
   ],
   "source": [
    "xlm_tok(distill_df['inp'][0])"
   ]
  },
  {
   "cell_type": "code",
   "execution_count": 4,
   "id": "438dd529-9467-4ef6-81a4-ad26ccd8b816",
   "metadata": {},
   "outputs": [],
   "source": [
    "# construct inputs from dataframe\n",
    "def get_inputs(inpdf):\n",
    "    xinp = []\n",
    "    yinp = []\n",
    "    maskinp = []\n",
    "    \n",
    "    for index, row in inpdf.iterrows():\n",
    "        if index%1000==0:\n",
    "            print(index)\n",
    "        #print(row['c1'], row['c2'])\n",
    "        # will need to make a custom mask (maybe) so that inputs from both languages are encoded separately\n",
    "        toktmp = xlm_tok(row['inp']).input_ids\n",
    "        lent = len(toktmp)\n",
    "        hyptmp = xlm_tok(row['hyp']).input_ids\n",
    "        toktmp.extend(hyptmp)\n",
    "        mask = torch.zeros(len(toktmp), len(toktmp))\n",
    "        # should set upper left and bottom right quadrants to 1, mask other stuff\n",
    "        # TODO make different types of masks. \n",
    "        mask[:lent, :lent] = 1\n",
    "        mask[lent:, lent:] = 1\n",
    "        xinp.append(toktmp)\n",
    "        maskinp.append(mask)\n",
    "        yinp.append(row['scores'])\n",
    "    return xinp, yinp, maskinp"
   ]
  },
  {
   "cell_type": "code",
   "execution_count": 6,
   "id": "2e249a9c-2805-4721-9ab2-da3d40706db4",
   "metadata": {},
   "outputs": [],
   "source": [
    "from sklearn.utils import shuffle\n",
    "distill_df = shuffle(distill_df)\n",
    "distill_df = distill_df.reset_index(drop=True)"
   ]
  },
  {
   "cell_type": "code",
   "execution_count": null,
   "id": "b5d96732-7f39-4109-aa4c-0b90b27706a0",
   "metadata": {},
   "outputs": [],
   "source": [
    "#inps = pd.DataFrame(com_inps)\n",
    "xdata, ydata, mdata = get_inputs(distill_df)"
   ]
  },
  {
   "cell_type": "code",
   "execution_count": 6,
   "id": "95bd965b-a32b-466f-b7d6-4e1bf7d1e6f9",
   "metadata": {},
   "outputs": [],
   "source": [
    "cut = int(len(xdata)*.9)\n",
    "xtrain, ytrain, mtrain = xdata[:cut], ydata[:cut], mdata[:cut]\n",
    "xtest, ytest, mtest = xdata[cut:], ydata[cut:], mdata[cut:]"
   ]
  },
  {
   "cell_type": "code",
   "execution_count": 7,
   "id": "9f668123-9c60-4dba-a84a-f3f7e3b087c5",
   "metadata": {},
   "outputs": [],
   "source": [
    "from torch.utils.data import DataLoader\n",
    "from torch.utils.data import Dataset\n",
    "\n",
    "class RegressionDataset(Dataset):\n",
    "    def __init__(self, sentences, labels, masks):\n",
    "        assert len(sentences) == len(labels)\n",
    "        self.sentences = sentences\n",
    "        self.labels = labels\n",
    "        self.masks = masks\n",
    "\n",
    "    def __getitem__(self, i):\n",
    "        return self.sentences[i], self.labels[i], self.masks[i]\n",
    "\n",
    "    def __len__(self):\n",
    "        return len(self.sentences)\n",
    "\n",
    "def collate_custom(datafull):\n",
    "    #print(len(datafull[0]))\n",
    "    data = [torch.tensor(d[0]) for d in datafull]\n",
    "    masdata=  [d[2] for d in datafull]\n",
    "    labels = [d[1] for d in datafull]\n",
    "    max_len = max([x.squeeze().numel() for x in data])\n",
    "    data = [torch.nn.functional.pad(x, pad=(0, max_len - x.numel()), mode='constant', value=0) for x in data]\n",
    "    data = torch.stack(data).to(device)\n",
    "    masdata = [torch.nn.functional.pad(x, pad=(0, max_len - x[0].numel(), 0, max_len - x[0].numel()), mode='constant', value=0) for x in masdata]\n",
    "    masdata = torch.stack(masdata).to(device)\n",
    "    return data, torch.tensor(labels).to(device), masdata\n",
    "\n",
    "testloader = DataLoader(RegressionDataset(xtest, ytest, mtest), batch_size=32, shuffle=False, collate_fn=collate_custom)\n",
    "trainloader = DataLoader(RegressionDataset(xtrain, ytrain, mtrain), batch_size=32, shuffle=False, collate_fn=collate_custom)"
   ]
  },
  {
   "cell_type": "code",
   "execution_count": 7,
   "id": "cea81f54-8dd3-41a8-9704-a2fabb6e63c8",
   "metadata": {},
   "outputs": [
    {
     "ename": "NameError",
     "evalue": "name 'trainloader' is not defined",
     "output_type": "error",
     "traceback": [
      "\u001b[0;31m---------------------------------------------------------------------------\u001b[0m",
      "\u001b[0;31mNameError\u001b[0m                                 Traceback (most recent call last)",
      "Input \u001b[0;32mIn [7]\u001b[0m, in \u001b[0;36m<module>\u001b[0;34m\u001b[0m\n\u001b[0;32m----> 1\u001b[0m iter_loader \u001b[38;5;241m=\u001b[39m \u001b[38;5;28miter\u001b[39m(\u001b[43mtrainloader\u001b[49m)\n\u001b[1;32m      2\u001b[0m batch1 \u001b[38;5;241m=\u001b[39m \u001b[38;5;28mnext\u001b[39m(iter_loader)\n",
      "\u001b[0;31mNameError\u001b[0m: name 'trainloader' is not defined"
     ]
    }
   ],
   "source": [
    "iter_loader = iter(trainloader)\n",
    "batch1 = next(iter_loader)"
   ]
  },
  {
   "cell_type": "code",
   "execution_count": 65,
   "id": "97183156-56a4-4bff-996b-df04105d613b",
   "metadata": {},
   "outputs": [
    {
     "data": {
      "text/plain": [
       "3"
      ]
     },
     "execution_count": 65,
     "metadata": {},
     "output_type": "execute_result"
    }
   ],
   "source": [
    "batch1[1].dim()"
   ]
  },
  {
   "cell_type": "code",
   "execution_count": 11,
   "id": "9dd31a97-9d7d-43c7-972f-3d52ce18369b",
   "metadata": {},
   "outputs": [],
   "source": [
    "from transformers import AdamW\n",
    "optimizer = AdamW(model.parameters(),\n",
    "                  lr=5e-5,\n",
    "                  eps=1e-8)\n",
    "\n",
    "from transformers import get_linear_schedule_with_warmup\n",
    "epochs = 5\n",
    "total_steps = len(trainloader) * epochs\n",
    "scheduler = get_linear_schedule_with_warmup(optimizer,       \n",
    "                 num_warmup_steps=0, num_training_steps=total_steps)\n",
    "\n",
    "loss_function = nn.MSELoss()\n",
    "\n"
   ]
  },
  {
   "cell_type": "code",
   "execution_count": 8,
   "id": "a9a081bb-b945-4c87-8fc0-07056e2a5601",
   "metadata": {},
   "outputs": [],
   "source": [
    "from torch.nn.utils.clip_grad import clip_grad_norm\n",
    "def train(model, optimizer, scheduler, loss_function, epochs,       \n",
    "          train_dataloader, device, clip_value=2):\n",
    "    print(\"Total steps :\", total_steps)\n",
    "    for epoch in range(epochs):\n",
    "        print(\"EPOCH \", epoch)\n",
    "        print(\"-----\")\n",
    "        best_loss = 1e10\n",
    "        model.train()\n",
    "        for step, batch in enumerate(train_dataloader): \n",
    "            batch_inputs, batch_labels, batch_masks = \\\n",
    "                               tuple(b.to(device) for b in batch)\n",
    "            model.zero_grad()\n",
    "            outputs = model(batch_inputs, batch_masks)           \n",
    "            loss = loss_function(outputs.squeeze(), \n",
    "                             batch_labels.squeeze())\n",
    "            if step%500==0:\n",
    "                print(loss)  \n",
    "            loss.backward()\n",
    "            clip_grad_norm(model.parameters(), clip_value)\n",
    "            optimizer.step()\n",
    "            scheduler.step()\n",
    "                \n",
    "    return model"
   ]
  },
  {
   "cell_type": "code",
   "execution_count": 22,
   "id": "e5b10c46-edec-4a89-bed0-23a53e564520",
   "metadata": {},
   "outputs": [],
   "source": [
    "def evaluate(model, loss_function, test_dataloader, device):\n",
    "    model.eval()\n",
    "    test_loss, test_r2 = [], []\n",
    "    pdistr = []\n",
    "    for batch in test_dataloader:\n",
    "        batch_inputs, batch_labels, batch_masks = \\\n",
    "                                 tuple(b.to(device) for b in batch)\n",
    "        with torch.no_grad():\n",
    "            outputs = model(batch_inputs, batch_masks)\n",
    "        pdistr.extend(outputs)\n",
    "        loss = loss_function(outputs.squeeze(), \n",
    "                             batch_labels.squeeze())\n",
    "        test_loss.append(loss.item())\n",
    "        r2 = r2_score(outputs, batch_labels)\n",
    "        test_r2.append(r2.item())\n",
    "    return test_loss, test_r2, outputs\n",
    "\n",
    "def r2_score(outputs, labels):\n",
    "    labels_mean = torch.mean(labels)\n",
    "    ss_tot = torch.sum((labels - labels_mean) ** 2)\n",
    "    ss_res = torch.sum((labels - outputs) ** 2)\n",
    "    r2 = 1 - ss_res / ss_tot\n",
    "    return r2"
   ]
  },
  {
   "cell_type": "code",
   "execution_count": 25,
   "id": "a9e94f7a-821f-4aaa-aaf5-9aa1ae699ed9",
   "metadata": {},
   "outputs": [
    {
     "name": "stdout",
     "output_type": "stream",
     "text": [
      "Total steps : 22500\n",
      "EPOCH  0\n",
      "-----\n",
      "tensor(0.8062, device='cuda:1', grad_fn=<MseLossBackward0>)\n"
     ]
    },
    {
     "name": "stderr",
     "output_type": "stream",
     "text": [
      "/tmp/ipykernel_3425469/3592679433.py:20: UserWarning: torch.nn.utils.clip_grad_norm is now deprecated in favor of torch.nn.utils.clip_grad_norm_.\n",
      "  clip_grad_norm(model.parameters(), clip_value)\n"
     ]
    },
    {
     "name": "stdout",
     "output_type": "stream",
     "text": [
      "tensor(0.6436, device='cuda:1', grad_fn=<MseLossBackward0>)\n"
     ]
    },
    {
     "ename": "KeyboardInterrupt",
     "evalue": "",
     "output_type": "error",
     "traceback": [
      "\u001b[0;31m---------------------------------------------------------------------------\u001b[0m",
      "\u001b[0;31mKeyboardInterrupt\u001b[0m                         Traceback (most recent call last)",
      "Input \u001b[0;32mIn [25]\u001b[0m, in \u001b[0;36m<module>\u001b[0;34m\u001b[0m\n\u001b[0;32m----> 1\u001b[0m model \u001b[38;5;241m=\u001b[39m \u001b[43mtrain\u001b[49m\u001b[43m(\u001b[49m\u001b[43mmodel\u001b[49m\u001b[43m,\u001b[49m\u001b[43m \u001b[49m\u001b[43moptimizer\u001b[49m\u001b[43m,\u001b[49m\u001b[43m \u001b[49m\u001b[43mscheduler\u001b[49m\u001b[43m,\u001b[49m\u001b[43m \u001b[49m\u001b[43mloss_function\u001b[49m\u001b[43m,\u001b[49m\u001b[43m \u001b[49m\u001b[43mepochs\u001b[49m\u001b[43m,\u001b[49m\u001b[43m \u001b[49m\n\u001b[1;32m      2\u001b[0m \u001b[43m              \u001b[49m\u001b[43mtrainloader\u001b[49m\u001b[43m,\u001b[49m\u001b[43m \u001b[49m\u001b[43mdevice\u001b[49m\u001b[43m,\u001b[49m\u001b[43m \u001b[49m\u001b[43mclip_value\u001b[49m\u001b[38;5;241;43m=\u001b[39;49m\u001b[38;5;241;43m2\u001b[39;49m\u001b[43m)\u001b[49m\n",
      "Input \u001b[0;32mIn [10]\u001b[0m, in \u001b[0;36mtrain\u001b[0;34m(model, optimizer, scheduler, loss_function, epochs, train_dataloader, device, clip_value)\u001b[0m\n\u001b[1;32m      8\u001b[0m best_loss \u001b[38;5;241m=\u001b[39m \u001b[38;5;241m1e10\u001b[39m\n\u001b[1;32m      9\u001b[0m model\u001b[38;5;241m.\u001b[39mtrain()\n\u001b[0;32m---> 10\u001b[0m \u001b[38;5;28;01mfor\u001b[39;00m step, batch \u001b[38;5;129;01min\u001b[39;00m \u001b[38;5;28menumerate\u001b[39m(train_dataloader): \n\u001b[1;32m     11\u001b[0m     batch_inputs, batch_labels, batch_masks \u001b[38;5;241m=\u001b[39m \\\n\u001b[1;32m     12\u001b[0m                        \u001b[38;5;28mtuple\u001b[39m(b\u001b[38;5;241m.\u001b[39mto(device) \u001b[38;5;28;01mfor\u001b[39;00m b \u001b[38;5;129;01min\u001b[39;00m batch)\n\u001b[1;32m     13\u001b[0m     model\u001b[38;5;241m.\u001b[39mzero_grad()\n",
      "File \u001b[0;32m~/miniconda3/envs/latenv/lib/python3.8/site-packages/torch/utils/data/dataloader.py:521\u001b[0m, in \u001b[0;36m_BaseDataLoaderIter.__next__\u001b[0;34m(self)\u001b[0m\n\u001b[1;32m    519\u001b[0m \u001b[38;5;28;01mif\u001b[39;00m \u001b[38;5;28mself\u001b[39m\u001b[38;5;241m.\u001b[39m_sampler_iter \u001b[38;5;129;01mis\u001b[39;00m \u001b[38;5;28;01mNone\u001b[39;00m:\n\u001b[1;32m    520\u001b[0m     \u001b[38;5;28mself\u001b[39m\u001b[38;5;241m.\u001b[39m_reset()\n\u001b[0;32m--> 521\u001b[0m data \u001b[38;5;241m=\u001b[39m \u001b[38;5;28;43mself\u001b[39;49m\u001b[38;5;241;43m.\u001b[39;49m\u001b[43m_next_data\u001b[49m\u001b[43m(\u001b[49m\u001b[43m)\u001b[49m\n\u001b[1;32m    522\u001b[0m \u001b[38;5;28mself\u001b[39m\u001b[38;5;241m.\u001b[39m_num_yielded \u001b[38;5;241m+\u001b[39m\u001b[38;5;241m=\u001b[39m \u001b[38;5;241m1\u001b[39m\n\u001b[1;32m    523\u001b[0m \u001b[38;5;28;01mif\u001b[39;00m \u001b[38;5;28mself\u001b[39m\u001b[38;5;241m.\u001b[39m_dataset_kind \u001b[38;5;241m==\u001b[39m _DatasetKind\u001b[38;5;241m.\u001b[39mIterable \u001b[38;5;129;01mand\u001b[39;00m \\\n\u001b[1;32m    524\u001b[0m         \u001b[38;5;28mself\u001b[39m\u001b[38;5;241m.\u001b[39m_IterableDataset_len_called \u001b[38;5;129;01mis\u001b[39;00m \u001b[38;5;129;01mnot\u001b[39;00m \u001b[38;5;28;01mNone\u001b[39;00m \u001b[38;5;129;01mand\u001b[39;00m \\\n\u001b[1;32m    525\u001b[0m         \u001b[38;5;28mself\u001b[39m\u001b[38;5;241m.\u001b[39m_num_yielded \u001b[38;5;241m>\u001b[39m \u001b[38;5;28mself\u001b[39m\u001b[38;5;241m.\u001b[39m_IterableDataset_len_called:\n",
      "File \u001b[0;32m~/miniconda3/envs/latenv/lib/python3.8/site-packages/torch/utils/data/dataloader.py:561\u001b[0m, in \u001b[0;36m_SingleProcessDataLoaderIter._next_data\u001b[0;34m(self)\u001b[0m\n\u001b[1;32m    559\u001b[0m \u001b[38;5;28;01mdef\u001b[39;00m \u001b[38;5;21m_next_data\u001b[39m(\u001b[38;5;28mself\u001b[39m):\n\u001b[1;32m    560\u001b[0m     index \u001b[38;5;241m=\u001b[39m \u001b[38;5;28mself\u001b[39m\u001b[38;5;241m.\u001b[39m_next_index()  \u001b[38;5;66;03m# may raise StopIteration\u001b[39;00m\n\u001b[0;32m--> 561\u001b[0m     data \u001b[38;5;241m=\u001b[39m \u001b[38;5;28;43mself\u001b[39;49m\u001b[38;5;241;43m.\u001b[39;49m\u001b[43m_dataset_fetcher\u001b[49m\u001b[38;5;241;43m.\u001b[39;49m\u001b[43mfetch\u001b[49m\u001b[43m(\u001b[49m\u001b[43mindex\u001b[49m\u001b[43m)\u001b[49m  \u001b[38;5;66;03m# may raise StopIteration\u001b[39;00m\n\u001b[1;32m    562\u001b[0m     \u001b[38;5;28;01mif\u001b[39;00m \u001b[38;5;28mself\u001b[39m\u001b[38;5;241m.\u001b[39m_pin_memory:\n\u001b[1;32m    563\u001b[0m         data \u001b[38;5;241m=\u001b[39m _utils\u001b[38;5;241m.\u001b[39mpin_memory\u001b[38;5;241m.\u001b[39mpin_memory(data)\n",
      "File \u001b[0;32m~/miniconda3/envs/latenv/lib/python3.8/site-packages/torch/utils/data/_utils/fetch.py:52\u001b[0m, in \u001b[0;36m_MapDatasetFetcher.fetch\u001b[0;34m(self, possibly_batched_index)\u001b[0m\n\u001b[1;32m     50\u001b[0m \u001b[38;5;28;01melse\u001b[39;00m:\n\u001b[1;32m     51\u001b[0m     data \u001b[38;5;241m=\u001b[39m \u001b[38;5;28mself\u001b[39m\u001b[38;5;241m.\u001b[39mdataset[possibly_batched_index]\n\u001b[0;32m---> 52\u001b[0m \u001b[38;5;28;01mreturn\u001b[39;00m \u001b[38;5;28;43mself\u001b[39;49m\u001b[38;5;241;43m.\u001b[39;49m\u001b[43mcollate_fn\u001b[49m\u001b[43m(\u001b[49m\u001b[43mdata\u001b[49m\u001b[43m)\u001b[49m\n",
      "Input \u001b[0;32mIn [8]\u001b[0m, in \u001b[0;36mcollate_custom\u001b[0;34m(datafull)\u001b[0m\n\u001b[1;32m     22\u001b[0m max_len \u001b[38;5;241m=\u001b[39m \u001b[38;5;28mmax\u001b[39m([x\u001b[38;5;241m.\u001b[39msqueeze()\u001b[38;5;241m.\u001b[39mnumel() \u001b[38;5;28;01mfor\u001b[39;00m x \u001b[38;5;129;01min\u001b[39;00m data])\n\u001b[1;32m     23\u001b[0m data \u001b[38;5;241m=\u001b[39m [torch\u001b[38;5;241m.\u001b[39mnn\u001b[38;5;241m.\u001b[39mfunctional\u001b[38;5;241m.\u001b[39mpad(x, pad\u001b[38;5;241m=\u001b[39m(\u001b[38;5;241m0\u001b[39m, max_len \u001b[38;5;241m-\u001b[39m x\u001b[38;5;241m.\u001b[39mnumel()), mode\u001b[38;5;241m=\u001b[39m\u001b[38;5;124m'\u001b[39m\u001b[38;5;124mconstant\u001b[39m\u001b[38;5;124m'\u001b[39m, value\u001b[38;5;241m=\u001b[39m\u001b[38;5;241m0\u001b[39m) \u001b[38;5;28;01mfor\u001b[39;00m x \u001b[38;5;129;01min\u001b[39;00m data]\n\u001b[0;32m---> 24\u001b[0m data \u001b[38;5;241m=\u001b[39m \u001b[43mtorch\u001b[49m\u001b[38;5;241;43m.\u001b[39;49m\u001b[43mstack\u001b[49m\u001b[43m(\u001b[49m\u001b[43mdata\u001b[49m\u001b[43m)\u001b[49m\u001b[38;5;241;43m.\u001b[39;49m\u001b[43mto\u001b[49m\u001b[43m(\u001b[49m\u001b[43mdevice\u001b[49m\u001b[43m)\u001b[49m\n\u001b[1;32m     25\u001b[0m masdata \u001b[38;5;241m=\u001b[39m [torch\u001b[38;5;241m.\u001b[39mnn\u001b[38;5;241m.\u001b[39mfunctional\u001b[38;5;241m.\u001b[39mpad(x, pad\u001b[38;5;241m=\u001b[39m(\u001b[38;5;241m0\u001b[39m, max_len \u001b[38;5;241m-\u001b[39m x[\u001b[38;5;241m0\u001b[39m]\u001b[38;5;241m.\u001b[39mnumel(), \u001b[38;5;241m0\u001b[39m, max_len \u001b[38;5;241m-\u001b[39m x[\u001b[38;5;241m0\u001b[39m]\u001b[38;5;241m.\u001b[39mnumel()), mode\u001b[38;5;241m=\u001b[39m\u001b[38;5;124m'\u001b[39m\u001b[38;5;124mconstant\u001b[39m\u001b[38;5;124m'\u001b[39m, value\u001b[38;5;241m=\u001b[39m\u001b[38;5;241m0\u001b[39m) \u001b[38;5;28;01mfor\u001b[39;00m x \u001b[38;5;129;01min\u001b[39;00m masdata]\n\u001b[1;32m     26\u001b[0m masdata \u001b[38;5;241m=\u001b[39m torch\u001b[38;5;241m.\u001b[39mstack(masdata)\u001b[38;5;241m.\u001b[39mto(device)\n",
      "\u001b[0;31mKeyboardInterrupt\u001b[0m: "
     ]
    }
   ],
   "source": [
    "model = train(model, optimizer, scheduler, loss_function, epochs, \n",
    "              trainloader, device, clip_value=2)"
   ]
  },
  {
   "cell_type": "code",
   "execution_count": 78,
   "id": "088728f3-aeb2-4fa1-a22d-b38b6c6e6da2",
   "metadata": {},
   "outputs": [],
   "source": [
    "torch.save(model.state_dict(), \"torchsaved/mv1.pt\")"
   ]
  },
  {
   "cell_type": "code",
   "execution_count": 23,
   "id": "565d89ba-1a2b-4a67-b67b-ce6cedfaf92b",
   "metadata": {},
   "outputs": [],
   "source": [
    "with torch.no_grad():\n",
    "    distr, r2, outpreds = evaluate(model, loss_function, testloader, device)"
   ]
  },
  {
   "cell_type": "code",
   "execution_count": null,
   "id": "4a01b0a8-1b42-49b9-ac0c-d4e8e62034d9",
   "metadata": {},
   "outputs": [],
   "source": [
    "distr[:100]"
   ]
  },
  {
   "cell_type": "code",
   "execution_count": 17,
   "id": "21d77366-476e-487c-a509-519376e900b6",
   "metadata": {},
   "outputs": [],
   "source": [
    "import matplotlib.pyplot as plt"
   ]
  },
  {
   "cell_type": "code",
   "execution_count": 18,
   "id": "3cce8da0-ce4a-44d7-aff1-6d8f5fb0ecd9",
   "metadata": {},
   "outputs": [
    {
     "data": {
      "text/plain": [
       "(array([ 13.,  45., 120., 111.,  97.,  68.,  28.,  15.,   2.,   1.]),\n",
       " array([0.50940275, 0.58492422, 0.66044569, 0.73596716, 0.81148863,\n",
       "        0.8870101 , 0.96253157, 1.03805304, 1.1135745 , 1.18909597,\n",
       "        1.26461744]),\n",
       " <BarContainer object of 10 artists>)"
      ]
     },
     "execution_count": 18,
     "metadata": {},
     "output_type": "execute_result"
    },
    {
     "data": {
      "image/png": "[encoded data removed]",
      "text/plain": [
       "<Figure size 432x288 with 1 Axes>"
      ]
     },
     "metadata": {
      "needs_background": "light"
     },
     "output_type": "display_data"
    }
   ],
   "source": [
    "import matplotlib.pyplot as plt\n",
    "plt.hist(distr)"
   ]
  },
  {
   "cell_type": "code",
   "execution_count": 5,
   "id": "7b17a074-b387-40ec-881b-86e24ff12e28",
   "metadata": {},
   "outputs": [],
   "source": [
    " ### ### Older code, TODO clean up this notebook ### ###\n",
    "def save_cometqe_data(md, xd, yd):\n",
    "    # save data into a pickle file\n",
    "    with open('processeddata/commasks.pkl', 'wb') as f:\n",
    "        pickle.dump(md, f)\n",
    "\n",
    "    with open('processeddata/cominps.pkl', 'wb') as f:\n",
    "        pickle.dump(xd, f)\n",
    "\n",
    "    with open('processeddata/comlabels.pkl', 'wb') as f:\n",
    "        pickle.dump(yd, f)\n",
    "\n",
    "def load_cometqe_data():\n",
    "    with open('processeddata/commasks.pkl', 'rb') as f:\n",
    "        masks = pickle.load(f)\n",
    "\n",
    "    with open('processeddata/cominps.pkl', 'rb') as f:\n",
    "        xinps = pickle.load(f)\n",
    "\n",
    "    with open('processeddata/comlabels.pkl', 'rb') as f:\n",
    "        yinps = pickle.load(f)\n",
    "    return masks, xinps, yinps\n",
    "\n",
    "mdata, xdata, ydata = load_cometqe_data()"
   ]
  },
  {
   "cell_type": "code",
   "execution_count": 1,
   "id": "d3112cb0-4d09-4cc5-b56c-3428f9d07495",
   "metadata": {},
   "outputs": [
    {
     "ename": "NameError",
     "evalue": "name 'xdata' is not defined",
     "output_type": "error",
     "traceback": [
      "\u001b[0;31m---------------------------------------------------------------------------\u001b[0m",
      "\u001b[0;31mNameError\u001b[0m                                 Traceback (most recent call last)",
      "Input \u001b[0;32mIn [1]\u001b[0m, in \u001b[0;36m<module>\u001b[0;34m\u001b[0m\n\u001b[0;32m----> 1\u001b[0m \u001b[43mxdata\u001b[49m\n",
      "\u001b[0;31mNameError\u001b[0m: name 'xdata' is not defined"
     ]
    }
   ],
   "source": [
    "xdata"
   ]
  },
  {
   "cell_type": "code",
   "execution_count": 6,
   "id": "8f8dde3f-1ee6-48d8-aa23-d372eeb0540f",
   "metadata": {},
   "outputs": [],
   "source": [
    "xdata = [torch.tensor(x) for x in xdata]"
   ]
  },
  {
   "cell_type": "code",
   "execution_count": null,
   "id": "42eeb703-054f-4b4b-8f6a-87d1084d5a94",
   "metadata": {},
   "outputs": [],
   "source": [
    "torch.save(xdata, 'processeddata/comet_x.pt')\n",
    "torch.save(mdata, 'processeddata/comet_m.pt')\n",
    "torch.save(torch.tensor(ydata), 'processeddata/comet_y.pt')"
   ]
  },
  {
   "cell_type": "code",
   "execution_count": 19,
   "id": "835405fa-bd20-42b7-b878-fd0bd04ad527",
   "metadata": {},
   "outputs": [
    {
     "data": {
      "text/plain": [
       "'<pad>'"
      ]
     },
     "execution_count": 19,
     "metadata": {},
     "output_type": "execute_result"
    }
   ],
   "source": [
    "xlm_tok.decode(1)"
   ]
  },
  {
   "cell_type": "code",
   "execution_count": 9,
   "id": "e314bd2b-49e2-4c3f-b1c1-183422a35ef0",
   "metadata": {},
   "outputs": [
    {
     "data": {
      "text/plain": [
       "tensor([[1., 1., 1., 0.],\n",
       "        [1., 1., 1., 0.],\n",
       "        [1., 1., 1., 0.],\n",
       "        [0., 0., 0., 0.]])"
      ]
     },
     "execution_count": 9,
     "metadata": {},
     "output_type": "execute_result"
    }
   ],
   "source": [
    "m = torch.ones(3, 3)\n",
    "nn.functional.pad(m, (0, 1, 0, 1))"
   ]
  },
  {
   "cell_type": "code",
   "execution_count": 41,
   "id": "5815a6b7-a39e-47c8-a01e-6879ac7e623b",
   "metadata": {},
   "outputs": [
    {
     "ename": "ValueError",
     "evalue": "expected sequence of length 70 at dim 1 (got 111)",
     "output_type": "error",
     "traceback": [
      "\u001b[0;31m---------------------------------------------------------------------------\u001b[0m",
      "\u001b[0;31mValueError\u001b[0m                                Traceback (most recent call last)",
      "Input \u001b[0;32mIn [41]\u001b[0m, in \u001b[0;36m<module>\u001b[0;34m\u001b[0m\n\u001b[0;32m----> 1\u001b[0m input_tensor \u001b[38;5;241m=\u001b[39m \u001b[43mtorch\u001b[49m\u001b[38;5;241;43m.\u001b[39;49m\u001b[43mtensor\u001b[49m\u001b[43m(\u001b[49m\u001b[43mxdata\u001b[49m\u001b[43m)\u001b[49m\n\u001b[1;32m      2\u001b[0m mask_tensor \u001b[38;5;241m=\u001b[39m torch\u001b[38;5;241m.\u001b[39mtensor(mdata)\n\u001b[1;32m      3\u001b[0m labels_tensor \u001b[38;5;241m=\u001b[39m torch\u001b[38;5;241m.\u001b[39mtensor(ydata)\n",
      "\u001b[0;31mValueError\u001b[0m: expected sequence of length 70 at dim 1 (got 111)"
     ]
    }
   ],
   "source": [
    "input_tensor = torch.tensor(xdata)\n",
    "mask_tensor = torch.tensor(mdata)\n",
    "labels_tensor = torch.tensor(ydata)\n",
    "dataset = TensorDataset(input_tensor, mask_tensor, \n",
    "                        labels_tensor)"
   ]
  },
  {
   "cell_type": "code",
   "execution_count": 33,
   "id": "cfa51332-6244-43a7-987b-732ad600cdfc",
   "metadata": {},
   "outputs": [
    {
     "data": {
      "text/plain": [
       "tensor([[1., 1., 1.,  ..., 0., 0., 0.],\n",
       "        [1., 1., 1.,  ..., 0., 0., 0.],\n",
       "        [1., 1., 1.,  ..., 0., 0., 0.],\n",
       "        ...,\n",
       "        [0., 0., 0.,  ..., 1., 1., 1.],\n",
       "        [0., 0., 0.,  ..., 1., 1., 1.],\n",
       "        [0., 0., 0.,  ..., 1., 1., 1.]])"
      ]
     },
     "execution_count": 33,
     "metadata": {},
     "output_type": "execute_result"
    }
   ],
   "source": [
    "# do train test split\n",
    "splitval = 0.8*xdata\n",
    "tr_xd, tr_yd, tr_mask = xdata[]\n",
    "# make dataloaders\n",
    "batch_size = 32\n",
    "def create_dataloaders(inputs, masks, labels, batch_size):\n",
    "    input_tensor = torch.tensor(inputs)\n",
    "    mask_tensor = torch.tensor(masks)\n",
    "    labels_tensor = torch.tensor(labels)\n",
    "    dataset = TensorDataset(input_tensor, mask_tensor, \n",
    "                            labels_tensor)\n",
    "    dataloader = DataLoader(dataset, batch_size=batch_size, \n",
    "                            shuffle=True)\n",
    "    return dataloader\n",
    "\n"
   ]
  },
  {
   "cell_type": "code",
   "execution_count": 25,
   "id": "8e4c9063-b5b5-41a0-bd0b-3e4a123e9a75",
   "metadata": {},
   "outputs": [
    {
     "data": {
      "text/plain": [
       "'<s> Manquant de ce type de menaces externes, les liens entre, disons, les Tchèques et les Slovaques (pour ne rien dire des Serbes et des Croates!), sont trop faibles pour garantir un niveau national commun de gouvernement.</s><s> In the absence of such external threats, the links between, say, the Czechs and Slovaks (not to mention the Serbs and Croats</s>'"
      ]
     },
     "execution_count": 25,
     "metadata": {},
     "output_type": "execute_result"
    }
   ],
   "source": [
    "xlm_tok.decode(xdata[0])"
   ]
  },
  {
   "cell_type": "code",
   "execution_count": 22,
   "id": "50dbc115-f127-4e32-8c45-9a15abc94769",
   "metadata": {},
   "outputs": [],
   "source": [
    "inps['hyp'] = np.random.permutation(inps['hyp'])"
   ]
  },
  {
   "cell_type": "code",
   "execution_count": 20,
   "id": "809b4966-8398-4f1a-9544-d20124bee6df",
   "metadata": {},
   "outputs": [
    {
     "data": {
      "text/html": [
       "<div>\n",
       "<style scoped>\n",
       "    .dataframe tbody tr th:only-of-type {\n",
       "        vertical-align: middle;\n",
       "    }\n",
       "\n",
       "    .dataframe tbody tr th {\n",
       "        vertical-align: top;\n",
       "    }\n",
       "\n",
       "    .dataframe thead th {\n",
       "        text-align: right;\n",
       "    }\n",
       "</style>\n",
       "<table border=\"1\" class=\"dataframe\">\n",
       "  <thead>\n",
       "    <tr style=\"text-align: right;\">\n",
       "      <th></th>\n",
       "      <th>Unnamed: 0</th>\n",
       "      <th>inp</th>\n",
       "      <th>ref</th>\n",
       "      <th>hyp</th>\n",
       "      <th>scores</th>\n",
       "    </tr>\n",
       "  </thead>\n",
       "  <tbody>\n",
       "    <tr>\n",
       "      <th>0</th>\n",
       "      <td>0</td>\n",
       "      <td>Manquant de ce type de menaces externes, les l...</td>\n",
       "      <td>Lacking such external threats, the ties betwee...</td>\n",
       "      <td>In the absence of such external threats, the l...</td>\n",
       "      <td>-0.349685</td>\n",
       "    </tr>\n",
       "    <tr>\n",
       "      <th>1</th>\n",
       "      <td>1</td>\n",
       "      <td>Manquant de ce type de menaces externes, les l...</td>\n",
       "      <td>Lacking such external threats, the ties betwee...</td>\n",
       "      <td>In the absence of such external threats, the l...</td>\n",
       "      <td>-0.609029</td>\n",
       "    </tr>\n",
       "    <tr>\n",
       "      <th>2</th>\n",
       "      <td>2</td>\n",
       "      <td>Manquant de ce type de menaces externes, les l...</td>\n",
       "      <td>Lacking such external threats, the ties betwee...</td>\n",
       "      <td>In the absence of such external threats, the l...</td>\n",
       "      <td>-0.344984</td>\n",
       "    </tr>\n",
       "    <tr>\n",
       "      <th>3</th>\n",
       "      <td>3</td>\n",
       "      <td>Manquant de ce type de menaces externes, les l...</td>\n",
       "      <td>Lacking such external threats, the ties betwee...</td>\n",
       "      <td>In the absence of such external threats, the l...</td>\n",
       "      <td>-0.205078</td>\n",
       "    </tr>\n",
       "    <tr>\n",
       "      <th>4</th>\n",
       "      <td>4</td>\n",
       "      <td>Manquant de ce type de menaces externes, les l...</td>\n",
       "      <td>Lacking such external threats, the ties betwee...</td>\n",
       "      <td>In the absence of such external threats, the l...</td>\n",
       "      <td>-0.323497</td>\n",
       "    </tr>\n",
       "    <tr>\n",
       "      <th>...</th>\n",
       "      <td>...</td>\n",
       "      <td>...</td>\n",
       "      <td>...</td>\n",
       "      <td>...</td>\n",
       "      <td>...</td>\n",
       "    </tr>\n",
       "    <tr>\n",
       "      <th>159995</th>\n",
       "      <td>79995</td>\n",
       "      <td>Des hommes sont abattus en pleine rue ou même ...</td>\n",
       "      <td>People are attacked in the street and even at ...</td>\n",
       "      <td>In less turbulent times than today, nobody was...</td>\n",
       "      <td>-1.177833</td>\n",
       "    </tr>\n",
       "    <tr>\n",
       "      <th>159996</th>\n",
       "      <td>79996</td>\n",
       "      <td>Des hommes sont abattus en pleine rue ou même ...</td>\n",
       "      <td>People are attacked in the street and even at ...</td>\n",
       "      <td>\"We really hope that this type of vaccine stra...</td>\n",
       "      <td>-1.197750</td>\n",
       "    </tr>\n",
       "    <tr>\n",
       "      <th>159997</th>\n",
       "      <td>79997</td>\n",
       "      <td>Des hommes sont abattus en pleine rue ou même ...</td>\n",
       "      <td>People are attacked in the street and even at ...</td>\n",
       "      <td>On Monday, 20,000 police will be deployed befo...</td>\n",
       "      <td>-1.263306</td>\n",
       "    </tr>\n",
       "    <tr>\n",
       "      <th>159998</th>\n",
       "      <td>79998</td>\n",
       "      <td>Des hommes sont abattus en pleine rue ou même ...</td>\n",
       "      <td>People are attacked in the street and even at ...</td>\n",
       "      <td>The United Nations is there to protect States ...</td>\n",
       "      <td>-1.213348</td>\n",
       "    </tr>\n",
       "    <tr>\n",
       "      <th>159999</th>\n",
       "      <td>79999</td>\n",
       "      <td>Des hommes sont abattus en pleine rue ou même ...</td>\n",
       "      <td>People are attacked in the street and even at ...</td>\n",
       "      <td>The violence is increasingly deadly despite th...</td>\n",
       "      <td>-1.206504</td>\n",
       "    </tr>\n",
       "  </tbody>\n",
       "</table>\n",
       "<p>160000 rows × 5 columns</p>\n",
       "</div>"
      ],
      "text/plain": [
       "        Unnamed: 0                                                inp  \\\n",
       "0                0  Manquant de ce type de menaces externes, les l...   \n",
       "1                1  Manquant de ce type de menaces externes, les l...   \n",
       "2                2  Manquant de ce type de menaces externes, les l...   \n",
       "3                3  Manquant de ce type de menaces externes, les l...   \n",
       "4                4  Manquant de ce type de menaces externes, les l...   \n",
       "...            ...                                                ...   \n",
       "159995       79995  Des hommes sont abattus en pleine rue ou même ...   \n",
       "159996       79996  Des hommes sont abattus en pleine rue ou même ...   \n",
       "159997       79997  Des hommes sont abattus en pleine rue ou même ...   \n",
       "159998       79998  Des hommes sont abattus en pleine rue ou même ...   \n",
       "159999       79999  Des hommes sont abattus en pleine rue ou même ...   \n",
       "\n",
       "                                                      ref  \\\n",
       "0       Lacking such external threats, the ties betwee...   \n",
       "1       Lacking such external threats, the ties betwee...   \n",
       "2       Lacking such external threats, the ties betwee...   \n",
       "3       Lacking such external threats, the ties betwee...   \n",
       "4       Lacking such external threats, the ties betwee...   \n",
       "...                                                   ...   \n",
       "159995  People are attacked in the street and even at ...   \n",
       "159996  People are attacked in the street and even at ...   \n",
       "159997  People are attacked in the street and even at ...   \n",
       "159998  People are attacked in the street and even at ...   \n",
       "159999  People are attacked in the street and even at ...   \n",
       "\n",
       "                                                      hyp    scores  \n",
       "0       In the absence of such external threats, the l... -0.349685  \n",
       "1       In the absence of such external threats, the l... -0.609029  \n",
       "2       In the absence of such external threats, the l... -0.344984  \n",
       "3       In the absence of such external threats, the l... -0.205078  \n",
       "4       In the absence of such external threats, the l... -0.323497  \n",
       "...                                                   ...       ...  \n",
       "159995  In less turbulent times than today, nobody was... -1.177833  \n",
       "159996  \"We really hope that this type of vaccine stra... -1.197750  \n",
       "159997  On Monday, 20,000 police will be deployed befo... -1.263306  \n",
       "159998  The United Nations is there to protect States ... -1.213348  \n",
       "159999  The violence is increasingly deadly despite th... -1.206504  \n",
       "\n",
       "[160000 rows x 5 columns]"
      ]
     },
     "execution_count": 20,
     "metadata": {},
     "output_type": "execute_result"
    }
   ],
   "source": [
    "distill_df"
   ]
  },
  {
   "cell_type": "code",
   "execution_count": 20,
   "id": "6a53bd6a-a82a-47b0-a530-2fdd6da4c430",
   "metadata": {},
   "outputs": [
    {
     "name": "stderr",
     "output_type": "stream",
     "text": [
      "\n",
      "KeyboardInterrupt\n",
      "\n"
     ]
    }
   ],
   "source": [
    "random.shuffle(randhyps)"
   ]
  },
  {
   "cell_type": "code",
   "execution_count": null,
   "id": "10110a02-8765-4201-81f7-952595934332",
   "metadata": {},
   "outputs": [],
   "source": [
    "inps['hyp'] = randhyps"
   ]
  },
  {
   "cell_type": "code",
   "execution_count": 24,
   "id": "ab102bbb-efe1-4ad2-8458-bf9c651f12c0",
   "metadata": {},
   "outputs": [
    {
     "name": "stderr",
     "output_type": "stream",
     "text": [
      "GPU available: True, used: True\n",
      "TPU available: False, using: 0 TPU cores\n",
      "LOCAL_RANK: 0 - CUDA_VISIBLE_DEVICES: [0,1,2,3]\n",
      "Predicting: 100%|███████████████████████████████████████████████████████████████████████████████████████| 625/625 [14:01<00:00,  1.35s/it]\n"
     ]
    }
   ],
   "source": [
    "scores = get_comet_scores(inps['hyp'], inps['inp'], inps['ref'])"
   ]
  },
  {
   "cell_type": "code",
   "execution_count": 25,
   "id": "83f504ad-0087-413a-9b5c-f838ac1258c6",
   "metadata": {},
   "outputs": [],
   "source": [
    "inps['scores'] = scores[0]"
   ]
  },
  {
   "cell_type": "code",
   "execution_count": 26,
   "id": "da8d7397-f6d1-4b4e-9f24-a66ad2a011f9",
   "metadata": {},
   "outputs": [],
   "source": [
    "inps.to_csv('distill_cometdata_rand.csv')"
   ]
  },
  {
   "cell_type": "code",
   "execution_count": 21,
   "id": "4b8f4d04-2b68-4538-af85-324eea9d76df",
   "metadata": {},
   "outputs": [],
   "source": [
    "#df.to_csv(\"translation_data/processed/en_de_10000.csv\")"
   ]
  },
  {
   "cell_type": "code",
   "execution_count": 9,
   "id": "b6590287-eb8c-4d04-b5e7-cca9873cde27",
   "metadata": {},
   "outputs": [],
   "source": [
    "# Maybe introduce contrastive data that's completely unrelated"
   ]
  },
  {
   "cell_type": "code",
   "execution_count": 14,
   "id": "9d0be8fa-5489-4c04-a173-99d562743db3",
   "metadata": {},
   "outputs": [
    {
     "data": {
      "text/html": [
       "<div>\n",
       "<style scoped>\n",
       "    .dataframe tbody tr th:only-of-type {\n",
       "        vertical-align: middle;\n",
       "    }\n",
       "\n",
       "    .dataframe tbody tr th {\n",
       "        vertical-align: top;\n",
       "    }\n",
       "\n",
       "    .dataframe thead th {\n",
       "        text-align: right;\n",
       "    }\n",
       "</style>\n",
       "<table border=\"1\" class=\"dataframe\">\n",
       "  <thead>\n",
       "    <tr style=\"text-align: right;\">\n",
       "      <th></th>\n",
       "      <th>inp</th>\n",
       "      <th>ref</th>\n",
       "      <th>hyp</th>\n",
       "    </tr>\n",
       "  </thead>\n",
       "  <tbody>\n",
       "    <tr>\n",
       "      <th>0</th>\n",
       "      <td>Manquant de ce type de menaces externes, les l...</td>\n",
       "      <td>Lacking such external threats, the ties betwee...</td>\n",
       "      <td>In the absence of such external threats, the l...</td>\n",
       "    </tr>\n",
       "    <tr>\n",
       "      <th>1</th>\n",
       "      <td>Manquant de ce type de menaces externes, les l...</td>\n",
       "      <td>Lacking such external threats, the ties betwee...</td>\n",
       "      <td>In the absence of such external threats, the l...</td>\n",
       "    </tr>\n",
       "    <tr>\n",
       "      <th>2</th>\n",
       "      <td>Manquant de ce type de menaces externes, les l...</td>\n",
       "      <td>Lacking such external threats, the ties betwee...</td>\n",
       "      <td>In the absence of such external threats, the l...</td>\n",
       "    </tr>\n",
       "    <tr>\n",
       "      <th>3</th>\n",
       "      <td>Manquant de ce type de menaces externes, les l...</td>\n",
       "      <td>Lacking such external threats, the ties betwee...</td>\n",
       "      <td>In the absence of such external threats, the l...</td>\n",
       "    </tr>\n",
       "    <tr>\n",
       "      <th>4</th>\n",
       "      <td>Manquant de ce type de menaces externes, les l...</td>\n",
       "      <td>Lacking such external threats, the ties betwee...</td>\n",
       "      <td>In the absence of such external threats, the l...</td>\n",
       "    </tr>\n",
       "    <tr>\n",
       "      <th>...</th>\n",
       "      <td>...</td>\n",
       "      <td>...</td>\n",
       "      <td>...</td>\n",
       "    </tr>\n",
       "    <tr>\n",
       "      <th>79995</th>\n",
       "      <td>Des hommes sont abattus en pleine rue ou même ...</td>\n",
       "      <td>People are attacked in the street and even at ...</td>\n",
       "      <td>Men are being killed in the street or even at ...</td>\n",
       "    </tr>\n",
       "    <tr>\n",
       "      <th>79996</th>\n",
       "      <td>Des hommes sont abattus en pleine rue ou même ...</td>\n",
       "      <td>People are attacked in the street and even at ...</td>\n",
       "      <td>Men are killed on the streets or even at home,...</td>\n",
       "    </tr>\n",
       "    <tr>\n",
       "      <th>79997</th>\n",
       "      <td>Des hommes sont abattus en pleine rue ou même ...</td>\n",
       "      <td>People are attacked in the street and even at ...</td>\n",
       "      <td>Men are being killed in the streets or even at...</td>\n",
       "    </tr>\n",
       "    <tr>\n",
       "      <th>79998</th>\n",
       "      <td>Des hommes sont abattus en pleine rue ou même ...</td>\n",
       "      <td>People are attacked in the street and even at ...</td>\n",
       "      <td>Men are being killed in the streets or even at...</td>\n",
       "    </tr>\n",
       "    <tr>\n",
       "      <th>79999</th>\n",
       "      <td>Des hommes sont abattus en pleine rue ou même ...</td>\n",
       "      <td>People are attacked in the street and even at ...</td>\n",
       "      <td>Men were killed in the streets or even at home...</td>\n",
       "    </tr>\n",
       "  </tbody>\n",
       "</table>\n",
       "<p>80000 rows × 3 columns</p>\n",
       "</div>"
      ],
      "text/plain": [
       "                                                     inp  \\\n",
       "0      Manquant de ce type de menaces externes, les l...   \n",
       "1      Manquant de ce type de menaces externes, les l...   \n",
       "2      Manquant de ce type de menaces externes, les l...   \n",
       "3      Manquant de ce type de menaces externes, les l...   \n",
       "4      Manquant de ce type de menaces externes, les l...   \n",
       "...                                                  ...   \n",
       "79995  Des hommes sont abattus en pleine rue ou même ...   \n",
       "79996  Des hommes sont abattus en pleine rue ou même ...   \n",
       "79997  Des hommes sont abattus en pleine rue ou même ...   \n",
       "79998  Des hommes sont abattus en pleine rue ou même ...   \n",
       "79999  Des hommes sont abattus en pleine rue ou même ...   \n",
       "\n",
       "                                                     ref  \\\n",
       "0      Lacking such external threats, the ties betwee...   \n",
       "1      Lacking such external threats, the ties betwee...   \n",
       "2      Lacking such external threats, the ties betwee...   \n",
       "3      Lacking such external threats, the ties betwee...   \n",
       "4      Lacking such external threats, the ties betwee...   \n",
       "...                                                  ...   \n",
       "79995  People are attacked in the street and even at ...   \n",
       "79996  People are attacked in the street and even at ...   \n",
       "79997  People are attacked in the street and even at ...   \n",
       "79998  People are attacked in the street and even at ...   \n",
       "79999  People are attacked in the street and even at ...   \n",
       "\n",
       "                                                     hyp  \n",
       "0      In the absence of such external threats, the l...  \n",
       "1      In the absence of such external threats, the l...  \n",
       "2      In the absence of such external threats, the l...  \n",
       "3      In the absence of such external threats, the l...  \n",
       "4      In the absence of such external threats, the l...  \n",
       "...                                                  ...  \n",
       "79995  Men are being killed in the street or even at ...  \n",
       "79996  Men are killed on the streets or even at home,...  \n",
       "79997  Men are being killed in the streets or even at...  \n",
       "79998  Men are being killed in the streets or even at...  \n",
       "79999  Men were killed in the streets or even at home...  \n",
       "\n",
       "[80000 rows x 3 columns]"
      ]
     },
     "execution_count": 14,
     "metadata": {},
     "output_type": "execute_result"
    }
   ],
   "source": [
    "# Finetune data on DataLoader Set\n",
    "inps"
   ]
  },
  {
   "cell_type": "code",
   "execution_count": 13,
   "id": "e59b14c5-c61a-4318-963d-e2973ea4afb3",
   "metadata": {},
   "outputs": [],
   "source": [
    "# Test model\n"
   ]
  },
  {
   "cell_type": "code",
   "execution_count": null,
   "id": "41bdb9fb-007f-4889-b574-6c9ee801e596",
   "metadata": {},
   "outputs": [],
   "source": []
  }
 ],
 "metadata": {
  "kernelspec": {
   "display_name": "Python 3 (ipykernel)",
   "language": "python",
   "name": "python3"
  },
  "language_info": {
   "codemirror_mode": {
    "name": "ipython",
    "version": 3
   },
   "file_extension": ".py",
   "mimetype": "text/x-python",
   "name": "python",
   "nbconvert_exporter": "python",
   "pygments_lexer": "ipython3",
   "version": "3.8.12"
  },
  "vscode": {
   "interpreter": {
    "hash": "c2f77846b0243d2dee26bbaa6fd0a0b34a7adea800a5063b4b91f2f98ac96800"
   }
  }
 },
 "nbformat": 4,
 "nbformat_minor": 5
}
