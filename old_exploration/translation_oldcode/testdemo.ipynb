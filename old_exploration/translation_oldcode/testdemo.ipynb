{
 "cells": [
  {
   "cell_type": "code",
   "execution_count": 1,
   "id": "d783f0f0-056e-46d9-bf0f-d397ed43efd6",
   "metadata": {},
   "outputs": [
    {
     "name": "stderr",
     "output_type": "stream",
     "text": [
      "2022-11-15 16:48:16.853587: W tensorflow/stream_executor/platform/default/dso_loader.cc:64] Could not load dynamic library 'libcudart.so.11.0'; dlerror: libcudart.so.11.0: cannot open shared object file: No such file or directory\n",
      "2022-11-15 16:48:16.853608: I tensorflow/stream_executor/cuda/cudart_stub.cc:29] Ignore above cudart dlerror if you do not have a GPU set up on your machine.\n"
     ]
    }
   ],
   "source": [
    "from transformers import AutoModelForSequenceClassification, AutoTokenizer\n",
    "import torch\n",
    "import warnings\n",
    "warnings.filterwarnings('ignore')\n",
    "import pandas as pd"
   ]
  },
  {
   "cell_type": "code",
   "execution_count": 3,
   "id": "1d939cea-6c43-4c05-ac1e-b8fad34c9deb",
   "metadata": {},
   "outputs": [],
   "source": [
    "conc = pd.read_csv('torchsaved/fr_enbleurtconcat.csv')"
   ]
  },
  {
   "cell_type": "code",
   "execution_count": 11,
   "id": "a0b975a1-6c1d-43b4-b4c6-7e98f742ed00",
   "metadata": {},
   "outputs": [
    {
     "data": {
      "text/plain": [
       "Unnamed: 0                                                   63\n",
       "src           Les stigmatiser pour en faire des parias risqu...\n",
       "hyp           (China must learn to behave “responsibly,” McC...\n",
       "ref           (China must learn to behave “responsibly,” McC...\n",
       "score                                                  0.954767\n",
       "qbin                                                        NaN\n",
       "Name: 39, dtype: object"
      ]
     },
     "execution_count": 11,
     "metadata": {},
     "output_type": "execute_result"
    }
   ],
   "source": [
    "conc.iloc[39]"
   ]
  },
  {
   "cell_type": "code",
   "execution_count": null,
   "id": "215ee170-e838-4bb2-8ec6-1809c8be54bb",
   "metadata": {},
   "outputs": [],
   "source": [
    "tokenizer = AutoTokenizer.from_pretrained(\"Elron/bleurt-base-512\")\n",
    "model = AutoModelForSequenceClassification.from_pretrained(\"Elron/bleurt-base-512\").to(\"cuda:0\")\n",
    "model.eval()"
   ]
  },
  {
   "cell_type": "code",
   "execution_count": 2,
   "id": "ff57a226-3fc4-4afe-90f5-6453e930a28a",
   "metadata": {},
   "outputs": [],
   "source": [
    "# 8 example thing seems to mess up the dataset btw\n",
    "testset = pd.read_csv(\"/mnt/data1/prasann/latticegen/lattice-generation/torchsaved/bleurtfr_entrain.csv\")"
   ]
  },
  {
   "cell_type": "code",
   "execution_count": 3,
   "id": "aa3c301b-0a5e-4f21-9964-721491c4ca10",
   "metadata": {},
   "outputs": [],
   "source": [
    "\n",
    "import matplotlib.pyplot as plt"
   ]
  },
  {
   "cell_type": "code",
   "execution_count": 4,
   "id": "41d16e40-f392-42cf-89cf-818569c99e90",
   "metadata": {},
   "outputs": [
    {
     "ename": "SyntaxError",
     "evalue": "unexpected EOF while parsing (4010794027.py, line 3)",
     "output_type": "error",
     "traceback": [
      "\u001b[0;36m  Input \u001b[0;32mIn [4]\u001b[0;36m\u001b[0m\n\u001b[0;31m    \u001b[0m\n\u001b[0m    ^\u001b[0m\n\u001b[0;31mSyntaxError\u001b[0m\u001b[0;31m:\u001b[0m unexpected EOF while parsing\n"
     ]
    }
   ],
   "source": [
    "# algorithm that takes in distribution, returns widely spaced sample\n",
    "def get_distrib_bins(inputs):\n",
    "    "
   ]
  },
  {
   "cell_type": "code",
   "execution_count": null,
   "id": "8e918a9f-ec80-453e-981b-a7d68c4cd8eb",
   "metadata": {},
   "outputs": [],
   "source": [
    "testset['score'][tind*32:(tind+1)*32]"
   ]
  },
  {
   "cell_type": "code",
   "execution_count": 6,
   "id": "4bc5ffae-ff89-4290-9aa6-e2df0fac8d70",
   "metadata": {
    "tags": []
   },
   "outputs": [],
   "source": [
    "# let's say we want to get 4 batches from 32 (including ref, which is gold)\n",
    "def get_bin_sample(subdf):\n",
    "    #print(subdf)\n",
    "    bins = pd.qcut(subdf['score'], 4, precision=1)\n",
    "    ref = subdf.iloc[-1]\n",
    "    subdf['qbin'] = bins\n",
    "    ubins = bins.unique()\n",
    "    res = []\n",
    "    for i in range(0, len(ubins)-1):\n",
    "        tmp = subdf[subdf['qbin']==ubins[i]].sample(replace=True)\n",
    "        res.append(tmp.iloc[-1])\n",
    "    res.append(ref)\n",
    "    return pd.DataFrame(res).drop(columns=['Unnamed: 0'])\n",
    "\n",
    "def convert_bin_sample(fulldf):\n",
    "    assert len(fulldf)%32==0\n",
    "    \n",
    "    print(len(fulldf)/32)\n",
    "    newdf = pd.DataFrame()\n",
    "    fullres = []\n",
    "    for i in range(int(len(fulldf)/32)):\n",
    "        for j in range(8):\n",
    "            fullres.append(get_bin_sample(fulldf.iloc[i*32: (i+1)*32]))\n",
    "        if i%500==0:\n",
    "            print(i)\n",
    "    return pd.concat(fullres, axis=0)\n",
    "    "
   ]
  },
  {
   "cell_type": "code",
   "execution_count": 7,
   "id": "a4bdcedb-a3ef-4290-9369-d41df5cb50fc",
   "metadata": {
    "tags": []
   },
   "outputs": [
    {
     "name": "stdout",
     "output_type": "stream",
     "text": [
      "4666.0\n",
      "0\n",
      "500\n",
      "1000\n",
      "1500\n",
      "2000\n",
      "2500\n",
      "3000\n",
      "3500\n",
      "4000\n",
      "4500\n"
     ]
    }
   ],
   "source": [
    "concatdata = convert_bin_sample(testset)\n",
    "concatdata.to_csv('torchsaved/bleurtfr_enex8train.csv')"
   ]
  },
  {
   "cell_type": "code",
   "execution_count": 11,
   "id": "d502855c-10c4-48b2-836d-5ad99b4b8eef",
   "metadata": {},
   "outputs": [
    {
     "data": {
      "text/html": [
       "<div>\n",
       "<style scoped>\n",
       "    .dataframe tbody tr th:only-of-type {\n",
       "        vertical-align: middle;\n",
       "    }\n",
       "\n",
       "    .dataframe tbody tr th {\n",
       "        vertical-align: top;\n",
       "    }\n",
       "\n",
       "    .dataframe thead th {\n",
       "        text-align: right;\n",
       "    }\n",
       "</style>\n",
       "<table border=\"1\" class=\"dataframe\">\n",
       "  <thead>\n",
       "    <tr style=\"text-align: right;\">\n",
       "      <th></th>\n",
       "      <th>src</th>\n",
       "      <th>hyp</th>\n",
       "      <th>ref</th>\n",
       "      <th>score</th>\n",
       "      <th>qbin</th>\n",
       "    </tr>\n",
       "  </thead>\n",
       "  <tbody>\n",
       "    <tr>\n",
       "      <th>34</th>\n",
       "      <td>Les stigmatiser pour en faire des parias risqu...</td>\n",
       "      <td>In fact, Russia has almost cooperated with the...</td>\n",
       "      <td>(China must learn to behave “responsibly,” McC...</td>\n",
       "      <td>-0.238013</td>\n",
       "      <td>(-0.4, -0.2]</td>\n",
       "    </tr>\n",
       "    <tr>\n",
       "      <th>47</th>\n",
       "      <td>Les stigmatiser pour en faire des parias risqu...</td>\n",
       "      <td>In fact, Russia has almost cooperated with the...</td>\n",
       "      <td>(China must learn to behave “responsibly,” McC...</td>\n",
       "      <td>-0.146433</td>\n",
       "      <td>(-0.2, -0.1]</td>\n",
       "    </tr>\n",
       "    <tr>\n",
       "      <th>50</th>\n",
       "      <td>Les stigmatiser pour en faire des parias risqu...</td>\n",
       "      <td>In fact, Russia has almost cooperated with the...</td>\n",
       "      <td>(China must learn to behave “responsibly,” McC...</td>\n",
       "      <td>-0.082636</td>\n",
       "      <td>(-0.1, -0.04]</td>\n",
       "    </tr>\n",
       "    <tr>\n",
       "      <th>63</th>\n",
       "      <td>Les stigmatiser pour en faire des parias risqu...</td>\n",
       "      <td>(China must learn to behave “responsibly,” McC...</td>\n",
       "      <td>(China must learn to behave “responsibly,” McC...</td>\n",
       "      <td>0.954767</td>\n",
       "      <td>NaN</td>\n",
       "    </tr>\n",
       "    <tr>\n",
       "      <th>34</th>\n",
       "      <td>Les stigmatiser pour en faire des parias risqu...</td>\n",
       "      <td>In fact, Russia has almost cooperated with the...</td>\n",
       "      <td>(China must learn to behave “responsibly,” McC...</td>\n",
       "      <td>-0.238013</td>\n",
       "      <td>(-0.4, -0.2]</td>\n",
       "    </tr>\n",
       "    <tr>\n",
       "      <th>45</th>\n",
       "      <td>Les stigmatiser pour en faire des parias risqu...</td>\n",
       "      <td>In fact, Russia has almost cooperated with the...</td>\n",
       "      <td>(China must learn to behave “responsibly,” McC...</td>\n",
       "      <td>-0.150359</td>\n",
       "      <td>(-0.2, -0.1]</td>\n",
       "    </tr>\n",
       "    <tr>\n",
       "      <th>50</th>\n",
       "      <td>Les stigmatiser pour en faire des parias risqu...</td>\n",
       "      <td>In fact, Russia has almost cooperated with the...</td>\n",
       "      <td>(China must learn to behave “responsibly,” McC...</td>\n",
       "      <td>-0.082636</td>\n",
       "      <td>(-0.1, -0.04]</td>\n",
       "    </tr>\n",
       "    <tr>\n",
       "      <th>63</th>\n",
       "      <td>Les stigmatiser pour en faire des parias risqu...</td>\n",
       "      <td>(China must learn to behave “responsibly,” McC...</td>\n",
       "      <td>(China must learn to behave “responsibly,” McC...</td>\n",
       "      <td>0.954767</td>\n",
       "      <td>NaN</td>\n",
       "    </tr>\n",
       "  </tbody>\n",
       "</table>\n",
       "</div>"
      ],
      "text/plain": [
       "                                                  src  \\\n",
       "34  Les stigmatiser pour en faire des parias risqu...   \n",
       "47  Les stigmatiser pour en faire des parias risqu...   \n",
       "50  Les stigmatiser pour en faire des parias risqu...   \n",
       "63  Les stigmatiser pour en faire des parias risqu...   \n",
       "34  Les stigmatiser pour en faire des parias risqu...   \n",
       "45  Les stigmatiser pour en faire des parias risqu...   \n",
       "50  Les stigmatiser pour en faire des parias risqu...   \n",
       "63  Les stigmatiser pour en faire des parias risqu...   \n",
       "\n",
       "                                                  hyp  \\\n",
       "34  In fact, Russia has almost cooperated with the...   \n",
       "47  In fact, Russia has almost cooperated with the...   \n",
       "50  In fact, Russia has almost cooperated with the...   \n",
       "63  (China must learn to behave “responsibly,” McC...   \n",
       "34  In fact, Russia has almost cooperated with the...   \n",
       "45  In fact, Russia has almost cooperated with the...   \n",
       "50  In fact, Russia has almost cooperated with the...   \n",
       "63  (China must learn to behave “responsibly,” McC...   \n",
       "\n",
       "                                                  ref     score           qbin  \n",
       "34  (China must learn to behave “responsibly,” McC... -0.238013   (-0.4, -0.2]  \n",
       "47  (China must learn to behave “responsibly,” McC... -0.146433   (-0.2, -0.1]  \n",
       "50  (China must learn to behave “responsibly,” McC... -0.082636  (-0.1, -0.04]  \n",
       "63  (China must learn to behave “responsibly,” McC...  0.954767            NaN  \n",
       "34  (China must learn to behave “responsibly,” McC... -0.238013   (-0.4, -0.2]  \n",
       "45  (China must learn to behave “responsibly,” McC... -0.150359   (-0.2, -0.1]  \n",
       "50  (China must learn to behave “responsibly,” McC... -0.082636  (-0.1, -0.04]  \n",
       "63  (China must learn to behave “responsibly,” McC...  0.954767            NaN  "
      ]
     },
     "execution_count": 11,
     "metadata": {},
     "output_type": "execute_result"
    }
   ],
   "source": [
    "concatdata.iloc[32:40]"
   ]
  },
  {
   "cell_type": "code",
   "execution_count": 8,
   "id": "859532fc-4532-4f51-8c49-9391e2614779",
   "metadata": {},
   "outputs": [
    {
     "data": {
      "text/html": [
       "<div>\n",
       "<style scoped>\n",
       "    .dataframe tbody tr th:only-of-type {\n",
       "        vertical-align: middle;\n",
       "    }\n",
       "\n",
       "    .dataframe tbody tr th {\n",
       "        vertical-align: top;\n",
       "    }\n",
       "\n",
       "    .dataframe thead th {\n",
       "        text-align: right;\n",
       "    }\n",
       "</style>\n",
       "<table border=\"1\" class=\"dataframe\">\n",
       "  <thead>\n",
       "    <tr style=\"text-align: right;\">\n",
       "      <th></th>\n",
       "      <th>src</th>\n",
       "      <th>hyp</th>\n",
       "      <th>ref</th>\n",
       "      <th>score</th>\n",
       "      <th>qbin</th>\n",
       "    </tr>\n",
       "  </thead>\n",
       "  <tbody>\n",
       "    <tr>\n",
       "      <th>6</th>\n",
       "      <td>« La médecine clinique est-elle corrompue ? » ...</td>\n",
       "      <td>\"Is clinical medicine corrupt?\" an editorial i...</td>\n",
       "      <td>\"Just how tainted has clinical medicine become...</td>\n",
       "      <td>-0.045865</td>\n",
       "      <td>(-0.30000000000000004, 0.01]</td>\n",
       "    </tr>\n",
       "    <tr>\n",
       "      <th>12</th>\n",
       "      <td>« La médecine clinique est-elle corrompue ? » ...</td>\n",
       "      <td>\"Is clinical medicine corrupt?\" asked an edito...</td>\n",
       "      <td>\"Just how tainted has clinical medicine become...</td>\n",
       "      <td>0.035191</td>\n",
       "      <td>(0.01, 0.08]</td>\n",
       "    </tr>\n",
       "    <tr>\n",
       "      <th>22</th>\n",
       "      <td>« La médecine clinique est-elle corrompue ? » ...</td>\n",
       "      <td>\"Is clinical medicine corrupt?\" an editorial i...</td>\n",
       "      <td>\"Just how tainted has clinical medicine become...</td>\n",
       "      <td>0.218525</td>\n",
       "      <td>(0.08, 0.2]</td>\n",
       "    </tr>\n",
       "    <tr>\n",
       "      <th>31</th>\n",
       "      <td>« La médecine clinique est-elle corrompue ? » ...</td>\n",
       "      <td>\"Just how tainted has clinical medicine become...</td>\n",
       "      <td>\"Just how tainted has clinical medicine become...</td>\n",
       "      <td>0.981153</td>\n",
       "      <td>NaN</td>\n",
       "    </tr>\n",
       "  </tbody>\n",
       "</table>\n",
       "</div>"
      ],
      "text/plain": [
       "                                                  src  \\\n",
       "6   « La médecine clinique est-elle corrompue ? » ...   \n",
       "12  « La médecine clinique est-elle corrompue ? » ...   \n",
       "22  « La médecine clinique est-elle corrompue ? » ...   \n",
       "31  « La médecine clinique est-elle corrompue ? » ...   \n",
       "\n",
       "                                                  hyp  \\\n",
       "6   \"Is clinical medicine corrupt?\" an editorial i...   \n",
       "12  \"Is clinical medicine corrupt?\" asked an edito...   \n",
       "22  \"Is clinical medicine corrupt?\" an editorial i...   \n",
       "31  \"Just how tainted has clinical medicine become...   \n",
       "\n",
       "                                                  ref     score  \\\n",
       "6   \"Just how tainted has clinical medicine become... -0.045865   \n",
       "12  \"Just how tainted has clinical medicine become...  0.035191   \n",
       "22  \"Just how tainted has clinical medicine become...  0.218525   \n",
       "31  \"Just how tainted has clinical medicine become...  0.981153   \n",
       "\n",
       "                            qbin  \n",
       "6   (-0.30000000000000004, 0.01]  \n",
       "12                  (0.01, 0.08]  \n",
       "22                   (0.08, 0.2]  \n",
       "31                           NaN  "
      ]
     },
     "execution_count": 8,
     "metadata": {},
     "output_type": "execute_result"
    }
   ],
   "source": [
    "get_bin_sample(testset.iloc[0*32: (0+1)*32])"
   ]
  },
  {
   "cell_type": "code",
   "execution_count": 134,
   "id": "ae5d71a1-5295-4835-8b49-0627196c7585",
   "metadata": {},
   "outputs": [
    {
     "data": {
      "text/html": [
       "<div>\n",
       "<style scoped>\n",
       "    .dataframe tbody tr th:only-of-type {\n",
       "        vertical-align: middle;\n",
       "    }\n",
       "\n",
       "    .dataframe tbody tr th {\n",
       "        vertical-align: top;\n",
       "    }\n",
       "\n",
       "    .dataframe thead th {\n",
       "        text-align: right;\n",
       "    }\n",
       "</style>\n",
       "<table border=\"1\" class=\"dataframe\">\n",
       "  <thead>\n",
       "    <tr style=\"text-align: right;\">\n",
       "      <th></th>\n",
       "      <th>Unnamed: 0</th>\n",
       "      <th>src</th>\n",
       "      <th>hyp</th>\n",
       "      <th>ref</th>\n",
       "      <th>score</th>\n",
       "      <th>qbin</th>\n",
       "    </tr>\n",
       "  </thead>\n",
       "  <tbody>\n",
       "    <tr>\n",
       "      <th>2</th>\n",
       "      <td>5250</td>\n",
       "      <td>« La médecine clinique est-elle corrompue ? » ...</td>\n",
       "      <td>\"Is clinical medicine corrupt?\" an editorial i...</td>\n",
       "      <td>\"Just how tainted has clinical medicine become...</td>\n",
       "      <td>-0.103205</td>\n",
       "      <td>(-0.4, -0.1]</td>\n",
       "    </tr>\n",
       "    <tr>\n",
       "      <th>7</th>\n",
       "      <td>5255</td>\n",
       "      <td>« La médecine clinique est-elle corrompue ? » ...</td>\n",
       "      <td>\"Is clinical medicine corrupt?\" asked an edito...</td>\n",
       "      <td>\"Just how tainted has clinical medicine become...</td>\n",
       "      <td>-0.000347</td>\n",
       "      <td>(-0.1, -0.0003]</td>\n",
       "    </tr>\n",
       "    <tr>\n",
       "      <th>10</th>\n",
       "      <td>5258</td>\n",
       "      <td>« La médecine clinique est-elle corrompue ? » ...</td>\n",
       "      <td>\"Is clinical medicine corrupt?\" asked an edito...</td>\n",
       "      <td>\"Just how tainted has clinical medicine become...</td>\n",
       "      <td>0.027366</td>\n",
       "      <td>(-0.0003, 0.03]</td>\n",
       "    </tr>\n",
       "    <tr>\n",
       "      <th>13</th>\n",
       "      <td>5261</td>\n",
       "      <td>« La médecine clinique est-elle corrompue ? » ...</td>\n",
       "      <td>\"Is clinical medicine corrupt?\" asked an edito...</td>\n",
       "      <td>\"Just how tainted has clinical medicine become...</td>\n",
       "      <td>0.049029</td>\n",
       "      <td>(0.03, 0.08]</td>\n",
       "    </tr>\n",
       "    <tr>\n",
       "      <th>19</th>\n",
       "      <td>5267</td>\n",
       "      <td>« La médecine clinique est-elle corrompue ? » ...</td>\n",
       "      <td>\"Is clinical medicine corrupt?\" an editorial i...</td>\n",
       "      <td>\"Just how tainted has clinical medicine become...</td>\n",
       "      <td>0.132007</td>\n",
       "      <td>(0.08, 0.1]</td>\n",
       "    </tr>\n",
       "    <tr>\n",
       "      <th>22</th>\n",
       "      <td>5270</td>\n",
       "      <td>« La médecine clinique est-elle corrompue ? » ...</td>\n",
       "      <td>\"Is clinical medicine corrupt?\" an editorial i...</td>\n",
       "      <td>\"Just how tainted has clinical medicine become...</td>\n",
       "      <td>0.218525</td>\n",
       "      <td>(0.1, 0.2]</td>\n",
       "    </tr>\n",
       "    <tr>\n",
       "      <th>27</th>\n",
       "      <td>5275</td>\n",
       "      <td>« La médecine clinique est-elle corrompue ? » ...</td>\n",
       "      <td>\"Is clinical medicine corrupt?\" asked an edito...</td>\n",
       "      <td>\"Just how tainted has clinical medicine become...</td>\n",
       "      <td>0.316283</td>\n",
       "      <td>(0.2, 0.3]</td>\n",
       "    </tr>\n",
       "    <tr>\n",
       "      <th>32</th>\n",
       "      <td>5312</td>\n",
       "      <td>Les stigmatiser pour en faire des parias risqu...</td>\n",
       "      <td>In fact, Russia has almost cooperated with the...</td>\n",
       "      <td>(China must learn to behave “responsibly,” McC...</td>\n",
       "      <td>-0.289452</td>\n",
       "      <td>(-0.4, -0.1]</td>\n",
       "    </tr>\n",
       "  </tbody>\n",
       "</table>\n",
       "</div>"
      ],
      "text/plain": [
       "    Unnamed: 0                                                src  \\\n",
       "2         5250  « La médecine clinique est-elle corrompue ? » ...   \n",
       "7         5255  « La médecine clinique est-elle corrompue ? » ...   \n",
       "10        5258  « La médecine clinique est-elle corrompue ? » ...   \n",
       "13        5261  « La médecine clinique est-elle corrompue ? » ...   \n",
       "19        5267  « La médecine clinique est-elle corrompue ? » ...   \n",
       "22        5270  « La médecine clinique est-elle corrompue ? » ...   \n",
       "27        5275  « La médecine clinique est-elle corrompue ? » ...   \n",
       "32        5312  Les stigmatiser pour en faire des parias risqu...   \n",
       "\n",
       "                                                  hyp  \\\n",
       "2   \"Is clinical medicine corrupt?\" an editorial i...   \n",
       "7   \"Is clinical medicine corrupt?\" asked an edito...   \n",
       "10  \"Is clinical medicine corrupt?\" asked an edito...   \n",
       "13  \"Is clinical medicine corrupt?\" asked an edito...   \n",
       "19  \"Is clinical medicine corrupt?\" an editorial i...   \n",
       "22  \"Is clinical medicine corrupt?\" an editorial i...   \n",
       "27  \"Is clinical medicine corrupt?\" asked an edito...   \n",
       "32  In fact, Russia has almost cooperated with the...   \n",
       "\n",
       "                                                  ref     score  \\\n",
       "2   \"Just how tainted has clinical medicine become... -0.103205   \n",
       "7   \"Just how tainted has clinical medicine become... -0.000347   \n",
       "10  \"Just how tainted has clinical medicine become...  0.027366   \n",
       "13  \"Just how tainted has clinical medicine become...  0.049029   \n",
       "19  \"Just how tainted has clinical medicine become...  0.132007   \n",
       "22  \"Just how tainted has clinical medicine become...  0.218525   \n",
       "27  \"Just how tainted has clinical medicine become...  0.316283   \n",
       "32  (China must learn to behave “responsibly,” McC... -0.289452   \n",
       "\n",
       "               qbin  \n",
       "2      (-0.4, -0.1]  \n",
       "7   (-0.1, -0.0003]  \n",
       "10  (-0.0003, 0.03]  \n",
       "13     (0.03, 0.08]  \n",
       "19      (0.08, 0.1]  \n",
       "22       (0.1, 0.2]  \n",
       "27       (0.2, 0.3]  \n",
       "32     (-0.4, -0.1]  "
      ]
     },
     "execution_count": 134,
     "metadata": {},
     "output_type": "execute_result"
    }
   ],
   "source": [
    "concatdata.iloc[:8]"
   ]
  },
  {
   "cell_type": "code",
   "execution_count": null,
   "id": "2774c9c8-79d4-4fed-959a-0da7a246263f",
   "metadata": {},
   "outputs": [],
   "source": [
    "tind = 21\n",
    "pd.qcut(testset['score'][tind*32:(tind+1)*32], 8, precision=0)"
   ]
  },
  {
   "cell_type": "code",
   "execution_count": null,
   "id": "43dde0bd-fb63-4014-a32e-f3e89d11b983",
   "metadata": {},
   "outputs": [],
   "source": [
    "testset.iloc[31]['ref']"
   ]
  },
  {
   "cell_type": "code",
   "execution_count": null,
   "id": "9210458c-04da-4ec6-9f68-fed60449bf3c",
   "metadata": {},
   "outputs": [],
   "source": [
    "references = ['\"Just how tainted has clinical medicine become,\" asked an editorial in the British medical journal The Lancet in 2002; the answer was \"heavily and damagingly so.\" ']\n",
    "candidates = ['\"Is clinical medicine corrupt?\" an editorial in the British medical journal The Lancet asked in 2002, with only one answer: strongly, not harmlessly.']\n",
    "\n",
    "with torch.no_grad():\n",
    "    inputs = tokenizer(references, candidates, return_tensors='pt').to(\"cuda:0\")\n",
    "    scores = model(**inputs)[0].squeeze()\n",
    "\n",
    "#print(list(scores)) # tensor([1.0327, 0.2055])"
   ]
  },
  {
   "cell_type": "code",
   "execution_count": null,
   "id": "31ea8760-9216-403b-906b-a4ccedda6f61",
   "metadata": {},
   "outputs": [],
   "source": [
    "scores"
   ]
  },
  {
   "cell_type": "code",
   "execution_count": null,
   "id": "ff8a4923-af28-42c9-843a-d3626c753b55",
   "metadata": {},
   "outputs": [],
   "source": []
  }
 ],
 "metadata": {
  "kernelspec": {
   "display_name": "Python 3 (ipykernel)",
   "language": "python",
   "name": "python3"
  },
  "language_info": {
   "codemirror_mode": {
    "name": "ipython",
    "version": 3
   },
   "file_extension": ".py",
   "mimetype": "text/x-python",
   "name": "python",
   "nbconvert_exporter": "python",
   "pygments_lexer": "ipython3",
   "version": "3.8.12"
  }
 },
 "nbformat": 4,
 "nbformat_minor": 5
}
