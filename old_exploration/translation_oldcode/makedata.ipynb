{
 "cells": [
  {
   "cell_type": "code",
   "execution_count": 2,
   "id": "892206fd-6183-49ef-9db1-335e4b521e05",
   "metadata": {},
   "outputs": [],
   "source": [
    "import random\n",
    "import csv\n",
    "import sys\n",
    "csv.field_size_limit(sys.maxsize)\n",
    "import pandas as pd\n",
    "import baseline_cands as bc\n",
    "import torch"
   ]
  },
  {
   "cell_type": "code",
   "execution_count": null,
   "id": "ea03e5ce-e44f-4042-8841-bc4a9c1daa31",
   "metadata": {},
   "outputs": [],
   "source": [
    "# get data for baselines (Beam Search, Beam Size 1, 10, 50)\n",
    "testpreds = pd.read_csv(\"scontcompresseddef.csv\")"
   ]
  },
  {
   "cell_type": "code",
   "execution_count": null,
   "id": "665459f2-d13e-40b6-a8fb-0d7ed80bd9a4",
   "metadata": {},
   "outputs": [],
   "source": [
    "btok, bmodel = bc.load_model(\"fr_en\", \"cuda:2\")\n",
    "bmodel.eval()"
   ]
  },
  {
   "cell_type": "code",
   "execution_count": null,
   "id": "51c07a50-56b1-4e03-bd39-49afd76094ec",
   "metadata": {},
   "outputs": [],
   "source": [
    "with torch.no_grad():\n",
    "    bscands = bc.get_generate_candidates(bc.beam_generate, testpreds['src'], testpreds['ref']\n",
    "                , btok, bmodel, 10, 1, \"fr_en\", \"cuda:2\", \"beam\", 80)"
   ]
  },
  {
   "cell_type": "code",
   "execution_count": 25,
   "id": "fddcd194-25dd-4724-a95c-27a15153a5f5",
   "metadata": {},
   "outputs": [
    {
     "data": {
      "text/plain": [
       "tensor([[-1., -1., -1.,  ..., -1., -1., -1.],\n",
       "        [ 1., -1., -1.,  ..., -1., -1., -1.],\n",
       "        [ 1.,  1., -1.,  ..., -1., -1., -1.],\n",
       "        ...,\n",
       "        [ 1.,  1.,  1.,  ..., -1., -1., -1.],\n",
       "        [ 1.,  1.,  1.,  ...,  1., -1., -1.],\n",
       "        [ 1.,  1.,  1.,  ...,  1.,  1., -1.]])"
      ]
     },
     "execution_count": 25,
     "metadata": {},
     "output_type": "execute_result"
    }
   ],
   "source": [
    "(torch.triu(torch.ones(32, 32))*2-torch.ones(32, 32))*-1"
   ]
  },
  {
   "cell_type": "code",
   "execution_count": 10,
   "id": "a08a2171-a0fd-49c0-9df7-646f0a4300df",
   "metadata": {},
   "outputs": [
    {
     "data": {
      "text/plain": [
       "0.9539082969432306"
      ]
     },
     "execution_count": 10,
     "metadata": {},
     "output_type": "execute_result"
    }
   ],
   "source": [
    "sum(bscands[1])/len(bscands[1])"
   ]
  },
  {
   "cell_type": "code",
   "execution_count": 23,
   "id": "d93ac8ca-e722-4458-bbb2-73dd2990b6b4",
   "metadata": {},
   "outputs": [],
   "source": [
    "a = torch.tensor([[10, 20,0, 30.], [10, 20, 3, 30.]])/10"
   ]
  },
  {
   "cell_type": "code",
   "execution_count": 24,
   "id": "ca934acd-0211-46a0-b298-4299f1d7bfb1",
   "metadata": {},
   "outputs": [
    {
     "data": {
      "text/plain": [
       "tensor(7)"
      ]
     },
     "execution_count": 24,
     "metadata": {},
     "output_type": "execute_result"
    }
   ],
   "source": [
    "torch.sum(a>0)"
   ]
  },
  {
   "cell_type": "code",
   "execution_count": 4,
   "id": "6ee1193c-0cbb-448b-b6da-a7691104de3e",
   "metadata": {},
   "outputs": [],
   "source": [
    "import json"
   ]
  },
  {
   "cell_type": "code",
   "execution_count": 5,
   "id": "edcd2a02-021f-4746-96b0-b3598d99c75d",
   "metadata": {},
   "outputs": [],
   "source": [
    "def convert_wmt ():\n",
    "    #TODO there's definetely a way to clean this up\n",
    "    with open(\"translation_data/news-commentary-v15.en-fr.tsv\") as file:\n",
    "        tsv_file = csv.reader(file, delimiter=\"\\t\")\n",
    "        i = 0\n",
    "        res = []\n",
    "        # generate data for everything, shuffle and sample later\n",
    "        for f in tsv_file:\n",
    "            if i == 100000:\n",
    "                break\n",
    "            res.append(f)\n",
    "            i = i+1\n",
    "    random.shuffle(res)\n",
    "    print(\"GOT HERE SOMEHOW\")\n",
    "    res = res[:10000]\n",
    "    tmpdf = pd.DataFrame(res)\n",
    "    tmpdf['en'] = tmpdf[0]\n",
    "    tmpdf['fr'] = tmpdf[1]\n",
    "    del tmpdf[0]\n",
    "    del tmpdf[1]\n",
    "    with open('mt-data/use/fr-en.fr', 'w') as f:\n",
    "        for line in tmpdf['fr']:\n",
    "            f.write(line)\n",
    "            f.write('\\n')\n",
    "    with open('mt-data/use/fr-en.en', 'w') as f:\n",
    "        for line in tmpdf['en']:\n",
    "            f.write(line)\n",
    "            f.write('\\n')\n",
    "    \n",
    "    return tmpdf"
   ]
  },
  {
   "cell_type": "code",
   "execution_count": 6,
   "id": "ad9d9371-92db-44b1-9936-7006c17db492",
   "metadata": {},
   "outputs": [],
   "source": [
    "def load_cands(fname):\n",
    "    data = []\n",
    "    with open(fname, 'r') as file:\n",
    "        while True:\n",
    "            line = file.readline()\n",
    "            # if line is empty\n",
    "            # end of file is reached\n",
    "            if not line or len(line)<3:\n",
    "                break\n",
    "\n",
    "            data.append(json.loads(line))\n",
    "    return data"
   ]
  },
  {
   "cell_type": "code",
   "execution_count": 7,
   "id": "faeec8fb-1709-440f-8002-e6c0d9d0f6d0",
   "metadata": {},
   "outputs": [],
   "source": [
    "german= load_cands(\"./candoutputs/explodedmt1n_en-de_bfs_recom_4_80_False_0.4_True_False_4_5_rcb_0.904_0.0_0.9.jsonl\")"
   ]
  },
  {
   "cell_type": "code",
   "execution_count": 5,
   "id": "fd1d27e2-7a73-4c03-8f33-76e36e9772c7",
   "metadata": {},
   "outputs": [],
   "source": [
    "french = load_cands(\"./candoutputs/explodedmtn1_fr-en_bfs_recom_4_-1_False_0.4_True_False_4_5_rcb_0.904_0.0_0.9.jsonl\")"
   ]
  },
  {
   "cell_type": "code",
   "execution_count": 9,
   "id": "80a149d0-1106-4ddd-9954-7d07167eb72a",
   "metadata": {},
   "outputs": [],
   "source": [
    "def lset_tocominp(lset):\n",
    "    res = []\n",
    "    for g in lset:\n",
    "        if len(g['cands'])<32:\n",
    "            continue\n",
    "        samp = random.sample(g['cands'], 32)+[g['ref']]\n",
    "        for s in samp:\n",
    "            tmp = {}\n",
    "            tmp['src'] = g['inp']\n",
    "            tmp['hyp'] = s\n",
    "            tmp['ref'] = g['ref']\n",
    "            res.append(tmp)\n",
    "    return res"
   ]
  },
  {
   "cell_type": "code",
   "execution_count": 10,
   "id": "3a57e2c9-5657-4d30-944f-6ecb5b6b346a",
   "metadata": {},
   "outputs": [],
   "source": [
    "cominpde = lset_tocominp(german)"
   ]
  },
  {
   "cell_type": "code",
   "execution_count": 12,
   "id": "a12c434e-7b3a-4021-baf3-968aaaceb433",
   "metadata": {},
   "outputs": [],
   "source": [
    "cpfr = pd.DataFrame(cominpde)"
   ]
  },
  {
   "cell_type": "code",
   "execution_count": 14,
   "id": "d48b34af-5369-44e4-8daa-320ab0a9cadb",
   "metadata": {},
   "outputs": [],
   "source": [
    "cpfr.to_csv(\"./processeddata/cpgdata.csv\")"
   ]
  },
  {
   "cell_type": "code",
   "execution_count": 18,
   "id": "25853d5c-55d7-405c-be82-600585f17d3a",
   "metadata": {},
   "outputs": [
    {
     "data": {
      "text/plain": [
       "0     After all, as an investigative reporter in the...\n",
       "1     After all, as a field investigative journalist...\n",
       "2     After all, as an investigative reporter in the...\n",
       "3     After all, as a journalist investigating the c...\n",
       "4     After all, as a journalist investigating in th...\n",
       "                            ...                        \n",
       "59    After all, as a journalist investigating the c...\n",
       "60    After all, as an investigative reporter in the...\n",
       "61    After all, as an investigative journalist in t...\n",
       "62    After all, as an investigative reporter in the...\n",
       "63    After all, as an investigative journalist on t...\n",
       "Name: hyp, Length: 64, dtype: object"
      ]
     },
     "execution_count": 18,
     "metadata": {},
     "output_type": "execute_result"
    }
   ],
   "source": [
    "cpfr[:64]['hyp']"
   ]
  },
  {
   "cell_type": "code",
   "execution_count": 4,
   "id": "5803c8df-6276-4e19-a67c-ce70c1b21808",
   "metadata": {},
   "outputs": [],
   "source": [
    "cpfr = pd.read_csv(\"./processeddata/cpgdata1.csv\")"
   ]
  },
  {
   "cell_type": "code",
   "execution_count": 2,
   "id": "7555f808-1774-425f-a314-93a19b69178f",
   "metadata": {},
   "outputs": [],
   "source": [
    "import pandas as pd"
   ]
  },
  {
   "cell_type": "code",
   "execution_count": 5,
   "id": "fc3f3623-345b-434e-90aa-7c47e842d6c0",
   "metadata": {},
   "outputs": [],
   "source": [
    "cpfr = cpfr.drop(columns=['Unnamed: 0', 'Unnamed: 0.1'])"
   ]
  },
  {
   "cell_type": "code",
   "execution_count": 6,
   "id": "c1cfadca-ab48-45bd-b8b5-04db819b5a9a",
   "metadata": {},
   "outputs": [
    {
     "data": {
      "text/html": [
       "<div>\n",
       "<style scoped>\n",
       "    .dataframe tbody tr th:only-of-type {\n",
       "        vertical-align: middle;\n",
       "    }\n",
       "\n",
       "    .dataframe tbody tr th {\n",
       "        vertical-align: top;\n",
       "    }\n",
       "\n",
       "    .dataframe thead th {\n",
       "        text-align: right;\n",
       "    }\n",
       "</style>\n",
       "<table border=\"1\" class=\"dataframe\">\n",
       "  <thead>\n",
       "    <tr style=\"text-align: right;\">\n",
       "      <th></th>\n",
       "      <th>src</th>\n",
       "      <th>hyp</th>\n",
       "      <th>ref</th>\n",
       "      <th>score</th>\n",
       "    </tr>\n",
       "  </thead>\n",
       "  <tbody>\n",
       "    <tr>\n",
       "      <th>0</th>\n",
       "      <td>But it is also dangerous, because it derives f...</td>\n",
       "      <td>Aber es ist auch gefährlich, da es eher von de...</td>\n",
       "      <td>Doch ist sie auch gefährlich, da sie sich aus ...</td>\n",
       "      <td>0.639357</td>\n",
       "    </tr>\n",
       "    <tr>\n",
       "      <th>1</th>\n",
       "      <td>But it is also dangerous, because it derives f...</td>\n",
       "      <td>Aber es ist auch gefährlich, da es eher von de...</td>\n",
       "      <td>Doch ist sie auch gefährlich, da sie sich aus ...</td>\n",
       "      <td>0.195403</td>\n",
       "    </tr>\n",
       "    <tr>\n",
       "      <th>2</th>\n",
       "      <td>But it is also dangerous, because it derives f...</td>\n",
       "      <td>Doch es ist auch gefährlich, da es eher von de...</td>\n",
       "      <td>Doch ist sie auch gefährlich, da sie sich aus ...</td>\n",
       "      <td>0.427241</td>\n",
       "    </tr>\n",
       "    <tr>\n",
       "      <th>3</th>\n",
       "      <td>But it is also dangerous, because it derives f...</td>\n",
       "      <td>Doch es ist auch gefährlich, weil es sich eher...</td>\n",
       "      <td>Doch ist sie auch gefährlich, da sie sich aus ...</td>\n",
       "      <td>0.164425</td>\n",
       "    </tr>\n",
       "    <tr>\n",
       "      <th>4</th>\n",
       "      <td>But it is also dangerous, because it derives f...</td>\n",
       "      <td>Aber es ist auch gefährlich, weil es sich eher...</td>\n",
       "      <td>Doch ist sie auch gefährlich, da sie sich aus ...</td>\n",
       "      <td>0.183543</td>\n",
       "    </tr>\n",
       "    <tr>\n",
       "      <th>...</th>\n",
       "      <td>...</td>\n",
       "      <td>...</td>\n",
       "      <td>...</td>\n",
       "      <td>...</td>\n",
       "    </tr>\n",
       "    <tr>\n",
       "      <th>370321</th>\n",
       "      <td>Second, all countries have the right to the pe...</td>\n",
       "      <td>Zweitens haben alle Länder das Recht auf die f...</td>\n",
       "      <td>Zweitens haben alle Länder das Recht auf die f...</td>\n",
       "      <td>0.931637</td>\n",
       "    </tr>\n",
       "    <tr>\n",
       "      <th>370322</th>\n",
       "      <td>Second, all countries have the right to the pe...</td>\n",
       "      <td>Zweitens haben alle Länder Recht auf die fried...</td>\n",
       "      <td>Zweitens haben alle Länder das Recht auf die f...</td>\n",
       "      <td>0.925203</td>\n",
       "    </tr>\n",
       "    <tr>\n",
       "      <th>370323</th>\n",
       "      <td>Second, all countries have the right to the pe...</td>\n",
       "      <td>Zweitens haben alle Länder das Recht auf fried...</td>\n",
       "      <td>Zweitens haben alle Länder das Recht auf die f...</td>\n",
       "      <td>0.907322</td>\n",
       "    </tr>\n",
       "    <tr>\n",
       "      <th>370324</th>\n",
       "      <td>Second, all countries have the right to the pe...</td>\n",
       "      <td>Zweitens haben alle Länder das Recht auf eine ...</td>\n",
       "      <td>Zweitens haben alle Länder das Recht auf die f...</td>\n",
       "      <td>0.802918</td>\n",
       "    </tr>\n",
       "    <tr>\n",
       "      <th>370325</th>\n",
       "      <td>Second, all countries have the right to the pe...</td>\n",
       "      <td>Zweitens haben alle Länder das Recht auf die f...</td>\n",
       "      <td>Zweitens haben alle Länder das Recht auf die f...</td>\n",
       "      <td>1.066536</td>\n",
       "    </tr>\n",
       "  </tbody>\n",
       "</table>\n",
       "<p>370326 rows × 4 columns</p>\n",
       "</div>"
      ],
      "text/plain": [
       "                                                      src  \\\n",
       "0       But it is also dangerous, because it derives f...   \n",
       "1       But it is also dangerous, because it derives f...   \n",
       "2       But it is also dangerous, because it derives f...   \n",
       "3       But it is also dangerous, because it derives f...   \n",
       "4       But it is also dangerous, because it derives f...   \n",
       "...                                                   ...   \n",
       "370321  Second, all countries have the right to the pe...   \n",
       "370322  Second, all countries have the right to the pe...   \n",
       "370323  Second, all countries have the right to the pe...   \n",
       "370324  Second, all countries have the right to the pe...   \n",
       "370325  Second, all countries have the right to the pe...   \n",
       "\n",
       "                                                      hyp  \\\n",
       "0       Aber es ist auch gefährlich, da es eher von de...   \n",
       "1       Aber es ist auch gefährlich, da es eher von de...   \n",
       "2       Doch es ist auch gefährlich, da es eher von de...   \n",
       "3       Doch es ist auch gefährlich, weil es sich eher...   \n",
       "4       Aber es ist auch gefährlich, weil es sich eher...   \n",
       "...                                                   ...   \n",
       "370321  Zweitens haben alle Länder das Recht auf die f...   \n",
       "370322  Zweitens haben alle Länder Recht auf die fried...   \n",
       "370323  Zweitens haben alle Länder das Recht auf fried...   \n",
       "370324  Zweitens haben alle Länder das Recht auf eine ...   \n",
       "370325  Zweitens haben alle Länder das Recht auf die f...   \n",
       "\n",
       "                                                      ref     score  \n",
       "0       Doch ist sie auch gefährlich, da sie sich aus ...  0.639357  \n",
       "1       Doch ist sie auch gefährlich, da sie sich aus ...  0.195403  \n",
       "2       Doch ist sie auch gefährlich, da sie sich aus ...  0.427241  \n",
       "3       Doch ist sie auch gefährlich, da sie sich aus ...  0.164425  \n",
       "4       Doch ist sie auch gefährlich, da sie sich aus ...  0.183543  \n",
       "...                                                   ...       ...  \n",
       "370321  Zweitens haben alle Länder das Recht auf die f...  0.931637  \n",
       "370322  Zweitens haben alle Länder das Recht auf die f...  0.925203  \n",
       "370323  Zweitens haben alle Länder das Recht auf die f...  0.907322  \n",
       "370324  Zweitens haben alle Länder das Recht auf die f...  0.802918  \n",
       "370325  Zweitens haben alle Länder das Recht auf die f...  1.066536  \n",
       "\n",
       "[370326 rows x 4 columns]"
      ]
     },
     "execution_count": 6,
     "metadata": {},
     "output_type": "execute_result"
    }
   ],
   "source": [
    "cpfr"
   ]
  },
  {
   "cell_type": "code",
   "execution_count": 7,
   "id": "66cda5ef-c80c-4708-ae44-2fd2c42714d3",
   "metadata": {},
   "outputs": [
    {
     "name": "stderr",
     "output_type": "stream",
     "text": [
      "2022-10-22 10:34:01.435530: W tensorflow/stream_executor/platform/default/dso_loader.cc:64] Could not load dynamic library 'libcudart.so.11.0'; dlerror: libcudart.so.11.0: cannot open shared object file: No such file or directory\n",
      "2022-10-22 10:34:01.435556: I tensorflow/stream_executor/cuda/cudart_stub.cc:29] Ignore above cudart dlerror if you do not have a GPU set up on your machine.\n"
     ]
    }
   ],
   "source": [
    "import torch\n",
    "from transformers import AutoTokenizer, AutoModelForSeq2SeqLM"
   ]
  },
  {
   "cell_type": "code",
   "execution_count": 8,
   "id": "d7c04e9a-cdb8-45b8-9a77-ecc01c41bfb7",
   "metadata": {},
   "outputs": [],
   "source": [
    "device = \"cuda:1\" if torch.cuda.is_available() else \"cpu\"\n"
   ]
  },
  {
   "cell_type": "code",
   "execution_count": null,
   "id": "d375df91-885b-439c-9fff-ceda3bcf78b6",
   "metadata": {},
   "outputs": [],
   "source": []
  },
  {
   "cell_type": "code",
   "execution_count": 9,
   "id": "fc252b68-1d0e-4bce-bdcd-697221ff40cd",
   "metadata": {},
   "outputs": [],
   "source": [
    "def get_mbart_nll(inp, out, inptok, labtok, mod, dev):\n",
    "\n",
    "    inputs = inptok(inp, return_tensors=\"pt\").to(dev)\n",
    "    with labtok.as_target_tokenizer():\n",
    "        labels = labtok(out, return_tensors=\"pt\").to(dev)\n",
    "\n",
    "    # forward pass\n",
    "    output = mod(**inputs, labels=labels.input_ids)\n",
    "    #print(type(labels))\n",
    "    #print(labels.attention_mask)\n",
    "    return output.loss\n",
    "\n",
    "def rescore_cands(dset, hyplist, srclist):\n",
    "    device = \"cuda:1\" if torch.cuda.is_available() else \"cpu\"\n",
    "    if \"de\" in dset:\n",
    "        mname = \"facebook/mbart-large-50-one-to-many-mmt\"\n",
    "        src_l = \"en_XX\"\n",
    "        tgt_l = \"de_DE\"\n",
    "    else:\n",
    "        mname = \"facebook/mbart-large-50-many-to-one-mmt\"\n",
    "        src_l = \"fr_XX\"\n",
    "        tgt_l = \"en_XX\"\n",
    "    inptok = AutoTokenizer.from_pretrained(mname)\n",
    "    labtok = AutoTokenizer.from_pretrained(mname, src_lang=src_l, tgt_lang=tgt_l)\n",
    "    mod = AutoModelForSeq2SeqLM.from_pretrained(mname)\n",
    "    mod.to(device)\n",
    "    print(\"rescoring candidates\")\n",
    "    i = 0\n",
    "    result = []\n",
    "    for i in range(0, len(hyplist)):\n",
    "        if i%500==0:\n",
    "            print(i)\n",
    "        try:\n",
    "            result.append(float(get_mbart_nll(srclist[i], hyplist[i], inptok, labtok, mod, device)))\n",
    "        except:\n",
    "            result.append(0)\n",
    "            continue\n",
    "        #print(i)\n",
    "        i+=1\n",
    "    del inptok\n",
    "    del labtok\n",
    "    del mod\n",
    "    torch.cuda.empty_cache()\n",
    "    return result"
   ]
  },
  {
   "cell_type": "code",
   "execution_count": 10,
   "id": "585fcee8-5597-48e7-ab31-7ba633dcb290",
   "metadata": {},
   "outputs": [],
   "source": [
    "# cache dir for cometqe model\n",
    "cometqe_dir = \"./cometqemodel\"\n",
    "# can alternatively use wmt21-comet-qe-mqm\n",
    "cometqe_model = \"wmt20-comet-qe-da\"\n",
    "\n",
    "def get_cometqe_scores(hyps, srcs, commodel):\n",
    "    cometqe_input = [{\"src\": src, \"mt\": mt} for src, mt in zip(srcs, hyps)]\n",
    "    # sentence-level and corpus-level COMET\n",
    "    outputs = commodel.predict(\n",
    "        cometqe_input, batch_size=32, progress_bar=True\n",
    "    )\n",
    "    torch.cuda.empty_cache()\n",
    "    return outputs"
   ]
  },
  {
   "cell_type": "code",
   "execution_count": 11,
   "id": "b5df34a0-ebba-4f1e-b285-a6f249e0aafb",
   "metadata": {},
   "outputs": [
    {
     "name": "stderr",
     "output_type": "stream",
     "text": [
      "wmt20-comet-qe-da is already in cache.\n",
      "Some weights of the model checkpoint at xlm-roberta-large were not used when initializing XLMRobertaModel: ['roberta.pooler.dense.weight', 'lm_head.dense.bias', 'lm_head.decoder.weight', 'lm_head.layer_norm.bias', 'lm_head.bias', 'roberta.pooler.dense.bias', 'lm_head.layer_norm.weight', 'lm_head.dense.weight']\n",
      "- This IS expected if you are initializing XLMRobertaModel from the checkpoint of a model trained on another task or with another architecture (e.g. initializing a BertForSequenceClassification model from a BertForPreTraining model).\n",
      "- This IS NOT expected if you are initializing XLMRobertaModel from the checkpoint of a model that you expect to be exactly identical (initializing a BertForSequenceClassification model from a BertForSequenceClassification model).\n",
      "Encoder model frozen.\n"
     ]
    }
   ],
   "source": [
    "from comet import download_model, load_from_checkpoint\n",
    "\n",
    "cometqe_path = download_model(cometqe_model, cometqe_dir)\n",
    "model = load_from_checkpoint(cometqe_path).to(device)"
   ]
  },
  {
   "cell_type": "code",
   "execution_count": 13,
   "id": "1f5e7e97-0eae-497b-8e06-8efbf675bf42",
   "metadata": {},
   "outputs": [
    {
     "name": "stderr",
     "output_type": "stream",
     "text": [
      "GPU available: True, used: True\n",
      "TPU available: False, using: 0 TPU cores\n",
      "LOCAL_RANK: 0 - CUDA_VISIBLE_DEVICES: [0,1,2,3]\n",
      "Predicting: 100%|████████████████████████████████████████████████████████████████████████████████████████| 11573/11573 [41:02<00:00,  4.70it/s]\n"
     ]
    }
   ],
   "source": [
    "qescores = get_cometqe_scores(cpfr['hyp'], cpfr['src'], model)"
   ]
  },
  {
   "cell_type": "code",
   "execution_count": 14,
   "id": "977363a2-7558-4756-a25e-2e78b6d28c9d",
   "metadata": {},
   "outputs": [
    {
     "data": {
      "text/plain": [
       "370326"
      ]
     },
     "execution_count": 14,
     "metadata": {},
     "output_type": "execute_result"
    }
   ],
   "source": [
    "len(qescores[0])"
   ]
  },
  {
   "cell_type": "code",
   "execution_count": 15,
   "id": "07afdbd7-0491-4e41-a662-d94053f32bb6",
   "metadata": {},
   "outputs": [],
   "source": [
    "cpfr['comscores'] = qescores[0]"
   ]
  },
  {
   "cell_type": "code",
   "execution_count": 16,
   "id": "f992ac8e-419d-4e7c-8fcf-7f168e91449b",
   "metadata": {},
   "outputs": [],
   "source": [
    "del model \n",
    "del cometqe_path"
   ]
  },
  {
   "cell_type": "code",
   "execution_count": null,
   "id": "6cfda722-3d36-431d-b9c2-4596adee54b4",
   "metadata": {},
   "outputs": [],
   "source": [
    "res = rescore_cands('fr-en', cpfr['hyp'], cpfr['src'])\n",
    "cpfr['posthoc'] = res"
   ]
  },
  {
   "cell_type": "code",
   "execution_count": 18,
   "id": "d646062c-cd2b-48d1-93db-1ea4add38967",
   "metadata": {},
   "outputs": [],
   "source": [
    "cpfr.to_csv(\"./processeddata/cpgdata2.csv\")"
   ]
  },
  {
   "cell_type": "code",
   "execution_count": 19,
   "id": "f16bb544-2647-4c82-a7c7-0d8b0f837ea0",
   "metadata": {},
   "outputs": [
    {
     "data": {
      "text/html": [
       "<div>\n",
       "<style scoped>\n",
       "    .dataframe tbody tr th:only-of-type {\n",
       "        vertical-align: middle;\n",
       "    }\n",
       "\n",
       "    .dataframe tbody tr th {\n",
       "        vertical-align: top;\n",
       "    }\n",
       "\n",
       "    .dataframe thead th {\n",
       "        text-align: right;\n",
       "    }\n",
       "</style>\n",
       "<table border=\"1\" class=\"dataframe\">\n",
       "  <thead>\n",
       "    <tr style=\"text-align: right;\">\n",
       "      <th></th>\n",
       "      <th>src</th>\n",
       "      <th>hyp</th>\n",
       "      <th>ref</th>\n",
       "      <th>score</th>\n",
       "      <th>comscores</th>\n",
       "      <th>posthoc</th>\n",
       "    </tr>\n",
       "  </thead>\n",
       "  <tbody>\n",
       "    <tr>\n",
       "      <th>0</th>\n",
       "      <td>But it is also dangerous, because it derives f...</td>\n",
       "      <td>Aber es ist auch gefährlich, da es eher von de...</td>\n",
       "      <td>Doch ist sie auch gefährlich, da sie sich aus ...</td>\n",
       "      <td>0.639357</td>\n",
       "      <td>0.622835</td>\n",
       "      <td>5.242762</td>\n",
       "    </tr>\n",
       "    <tr>\n",
       "      <th>1</th>\n",
       "      <td>But it is also dangerous, because it derives f...</td>\n",
       "      <td>Aber es ist auch gefährlich, da es eher von de...</td>\n",
       "      <td>Doch ist sie auch gefährlich, da sie sich aus ...</td>\n",
       "      <td>0.195403</td>\n",
       "      <td>0.492898</td>\n",
       "      <td>4.967160</td>\n",
       "    </tr>\n",
       "    <tr>\n",
       "      <th>2</th>\n",
       "      <td>But it is also dangerous, because it derives f...</td>\n",
       "      <td>Doch es ist auch gefährlich, da es eher von de...</td>\n",
       "      <td>Doch ist sie auch gefährlich, da sie sich aus ...</td>\n",
       "      <td>0.427241</td>\n",
       "      <td>0.493221</td>\n",
       "      <td>5.173780</td>\n",
       "    </tr>\n",
       "    <tr>\n",
       "      <th>3</th>\n",
       "      <td>But it is also dangerous, because it derives f...</td>\n",
       "      <td>Doch es ist auch gefährlich, weil es sich eher...</td>\n",
       "      <td>Doch ist sie auch gefährlich, da sie sich aus ...</td>\n",
       "      <td>0.164425</td>\n",
       "      <td>0.159874</td>\n",
       "      <td>5.311586</td>\n",
       "    </tr>\n",
       "    <tr>\n",
       "      <th>4</th>\n",
       "      <td>But it is also dangerous, because it derives f...</td>\n",
       "      <td>Aber es ist auch gefährlich, weil es sich eher...</td>\n",
       "      <td>Doch ist sie auch gefährlich, da sie sich aus ...</td>\n",
       "      <td>0.183543</td>\n",
       "      <td>0.328871</td>\n",
       "      <td>5.030740</td>\n",
       "    </tr>\n",
       "    <tr>\n",
       "      <th>...</th>\n",
       "      <td>...</td>\n",
       "      <td>...</td>\n",
       "      <td>...</td>\n",
       "      <td>...</td>\n",
       "      <td>...</td>\n",
       "      <td>...</td>\n",
       "    </tr>\n",
       "    <tr>\n",
       "      <th>370321</th>\n",
       "      <td>Second, all countries have the right to the pe...</td>\n",
       "      <td>Zweitens haben alle Länder das Recht auf die f...</td>\n",
       "      <td>Zweitens haben alle Länder das Recht auf die f...</td>\n",
       "      <td>0.931637</td>\n",
       "      <td>0.866125</td>\n",
       "      <td>4.463050</td>\n",
       "    </tr>\n",
       "    <tr>\n",
       "      <th>370322</th>\n",
       "      <td>Second, all countries have the right to the pe...</td>\n",
       "      <td>Zweitens haben alle Länder Recht auf die fried...</td>\n",
       "      <td>Zweitens haben alle Länder das Recht auf die f...</td>\n",
       "      <td>0.925203</td>\n",
       "      <td>0.873090</td>\n",
       "      <td>4.635678</td>\n",
       "    </tr>\n",
       "    <tr>\n",
       "      <th>370323</th>\n",
       "      <td>Second, all countries have the right to the pe...</td>\n",
       "      <td>Zweitens haben alle Länder das Recht auf fried...</td>\n",
       "      <td>Zweitens haben alle Länder das Recht auf die f...</td>\n",
       "      <td>0.907322</td>\n",
       "      <td>0.877118</td>\n",
       "      <td>4.922931</td>\n",
       "    </tr>\n",
       "    <tr>\n",
       "      <th>370324</th>\n",
       "      <td>Second, all countries have the right to the pe...</td>\n",
       "      <td>Zweitens haben alle Länder das Recht auf eine ...</td>\n",
       "      <td>Zweitens haben alle Länder das Recht auf die f...</td>\n",
       "      <td>0.802918</td>\n",
       "      <td>0.788950</td>\n",
       "      <td>5.055133</td>\n",
       "    </tr>\n",
       "    <tr>\n",
       "      <th>370325</th>\n",
       "      <td>Second, all countries have the right to the pe...</td>\n",
       "      <td>Zweitens haben alle Länder das Recht auf die f...</td>\n",
       "      <td>Zweitens haben alle Länder das Recht auf die f...</td>\n",
       "      <td>1.066536</td>\n",
       "      <td>0.913185</td>\n",
       "      <td>4.524448</td>\n",
       "    </tr>\n",
       "  </tbody>\n",
       "</table>\n",
       "<p>370326 rows × 6 columns</p>\n",
       "</div>"
      ],
      "text/plain": [
       "                                                      src  \\\n",
       "0       But it is also dangerous, because it derives f...   \n",
       "1       But it is also dangerous, because it derives f...   \n",
       "2       But it is also dangerous, because it derives f...   \n",
       "3       But it is also dangerous, because it derives f...   \n",
       "4       But it is also dangerous, because it derives f...   \n",
       "...                                                   ...   \n",
       "370321  Second, all countries have the right to the pe...   \n",
       "370322  Second, all countries have the right to the pe...   \n",
       "370323  Second, all countries have the right to the pe...   \n",
       "370324  Second, all countries have the right to the pe...   \n",
       "370325  Second, all countries have the right to the pe...   \n",
       "\n",
       "                                                      hyp  \\\n",
       "0       Aber es ist auch gefährlich, da es eher von de...   \n",
       "1       Aber es ist auch gefährlich, da es eher von de...   \n",
       "2       Doch es ist auch gefährlich, da es eher von de...   \n",
       "3       Doch es ist auch gefährlich, weil es sich eher...   \n",
       "4       Aber es ist auch gefährlich, weil es sich eher...   \n",
       "...                                                   ...   \n",
       "370321  Zweitens haben alle Länder das Recht auf die f...   \n",
       "370322  Zweitens haben alle Länder Recht auf die fried...   \n",
       "370323  Zweitens haben alle Länder das Recht auf fried...   \n",
       "370324  Zweitens haben alle Länder das Recht auf eine ...   \n",
       "370325  Zweitens haben alle Länder das Recht auf die f...   \n",
       "\n",
       "                                                      ref     score  \\\n",
       "0       Doch ist sie auch gefährlich, da sie sich aus ...  0.639357   \n",
       "1       Doch ist sie auch gefährlich, da sie sich aus ...  0.195403   \n",
       "2       Doch ist sie auch gefährlich, da sie sich aus ...  0.427241   \n",
       "3       Doch ist sie auch gefährlich, da sie sich aus ...  0.164425   \n",
       "4       Doch ist sie auch gefährlich, da sie sich aus ...  0.183543   \n",
       "...                                                   ...       ...   \n",
       "370321  Zweitens haben alle Länder das Recht auf die f...  0.931637   \n",
       "370322  Zweitens haben alle Länder das Recht auf die f...  0.925203   \n",
       "370323  Zweitens haben alle Länder das Recht auf die f...  0.907322   \n",
       "370324  Zweitens haben alle Länder das Recht auf die f...  0.802918   \n",
       "370325  Zweitens haben alle Länder das Recht auf die f...  1.066536   \n",
       "\n",
       "        comscores   posthoc  \n",
       "0        0.622835  5.242762  \n",
       "1        0.492898  4.967160  \n",
       "2        0.493221  5.173780  \n",
       "3        0.159874  5.311586  \n",
       "4        0.328871  5.030740  \n",
       "...           ...       ...  \n",
       "370321   0.866125  4.463050  \n",
       "370322   0.873090  4.635678  \n",
       "370323   0.877118  4.922931  \n",
       "370324   0.788950  5.055133  \n",
       "370325   0.913185  4.524448  \n",
       "\n",
       "[370326 rows x 6 columns]"
      ]
     },
     "execution_count": 19,
     "metadata": {},
     "output_type": "execute_result"
    }
   ],
   "source": [
    "cpfr"
   ]
  },
  {
   "cell_type": "code",
   "execution_count": null,
   "id": "35ead92d-9e35-48f2-84fa-4e58921dcc6b",
   "metadata": {},
   "outputs": [],
   "source": []
  }
 ],
 "metadata": {
  "kernelspec": {
   "display_name": "Python 3 (ipykernel)",
   "language": "python",
   "name": "python3"
  },
  "language_info": {
   "codemirror_mode": {
    "name": "ipython",
    "version": 3
   },
   "file_extension": ".py",
   "mimetype": "text/x-python",
   "name": "python",
   "nbconvert_exporter": "python",
   "pygments_lexer": "ipython3",
   "version": "3.8.12"
  },
  "vscode": {
   "interpreter": {
    "hash": "c2f77846b0243d2dee26bbaa6fd0a0b34a7adea800a5063b4b91f2f98ac96800"
   }
  }
 },
 "nbformat": 4,
 "nbformat_minor": 5
}
