{
 "cells": [
  {
   "cell_type": "code",
   "execution_count": 1,
   "id": "c0f88ae2-39f9-408e-8bcc-20bf57d6984a",
   "metadata": {},
   "outputs": [],
   "source": [
    "import torch\n",
    "from torch.nn import MarginRankingLoss"
   ]
  },
  {
   "cell_type": "code",
   "execution_count": 9,
   "id": "dc5214a2-f608-4b8b-833e-2a5f294ebe60",
   "metadata": {},
   "outputs": [],
   "source": [
    "a = torch.tensor([0, .1, .2, .3])"
   ]
  },
  {
   "cell_type": "code",
   "execution_count": 55,
   "id": "03ca309e-4e61-438e-97d3-fa06c17adf7a",
   "metadata": {},
   "outputs": [
    {
     "data": {
      "text/plain": [
       "tensor([ 0.0000,  0.1000,  0.2000, -0.1000])"
      ]
     },
     "execution_count": 55,
     "metadata": {},
     "output_type": "execute_result"
    }
   ],
   "source": [
    "a.contiguous().view(-1)"
   ]
  },
  {
   "cell_type": "code",
   "execution_count": 11,
   "id": "6424819f-f0b6-4682-8a00-3070deed1fcf",
   "metadata": {},
   "outputs": [
    {
     "data": {
      "text/plain": [
       "tensor([[0, 0, 0],\n",
       "        [1, 1, 1],\n",
       "        [2, 2, 2]])"
      ]
     },
     "execution_count": 11,
     "metadata": {},
     "output_type": "execute_result"
    }
   ],
   "source": [
    "a.unsqueeze(-1).expand_as(torch.ones(3, 3))"
   ]
  },
  {
   "cell_type": "code",
   "execution_count": 13,
   "id": "831eb993-8cbc-4072-9b7b-b1d656f84834",
   "metadata": {},
   "outputs": [
    {
     "data": {
      "text/plain": [
       "tensor([2, 0, 1])"
      ]
     },
     "execution_count": 13,
     "metadata": {},
     "output_type": "execute_result"
    }
   ],
   "source": [
    "torch.roll(a, 1)"
   ]
  },
  {
   "cell_type": "code",
   "execution_count": 25,
   "id": "8b558f2d-2d97-4886-b526-04571312ea5a",
   "metadata": {},
   "outputs": [],
   "source": [
    "val = 4\n"
   ]
  },
  {
   "cell_type": "code",
   "execution_count": 29,
   "id": "7459f36e-90a9-4752-ae6f-ee395920a84e",
   "metadata": {},
   "outputs": [],
   "source": [
    "loss = MarginRankingLoss(0)"
   ]
  },
  {
   "cell_type": "code",
   "execution_count": 26,
   "id": "77d2760f-06df-444a-9f21-3e9ca391dfe3",
   "metadata": {},
   "outputs": [
    {
     "data": {
      "text/plain": [
       "tensor([-1., -1., -1., -1.])"
      ]
     },
     "execution_count": 33,
     "metadata": {},
     "output_type": "execute_result"
    }
   ],
   "source": [
    "vmask[2]"
   ]
  },
  {
   "cell_type": "code",
   "execution_count": 20,
   "id": "fe936b31-1a93-4614-ae46-d125fac52b0a",
   "metadata": {},
   "outputs": [],
   "source": [
    "vmask = (torch.triu(torch.ones(4, 4))*2-torch.ones(4, 4))*-1\n",
    "\n",
    "mse = torch.nn.MSELoss()\n",
    "def rank_loss(preds, golds):\n",
    "    totloss = 0\n",
    "    for i in range(1, min(len(preds), 16)):\n",
    "        # for margin\n",
    "        margin = (golds - torch.roll(golds, i))*vmask[i]\n",
    "        diff = (preds - torch.roll(preds, i)-margin)*vmask[i]\n",
    "        diff[diff<0] = 0\n",
    "        totloss+=torch.sum(diff)\n",
    "    return totloss #+ mse(preds, golds)"
   ]
  },
  {
   "cell_type": "code",
   "execution_count": 22,
   "id": "a34b75bb-3852-470a-8330-510254217e97",
   "metadata": {},
   "outputs": [],
   "source": [
    "b = torch.tensor([0.15, .2, .3, .4])"
   ]
  },
  {
   "cell_type": "code",
   "execution_count": 11,
   "id": "b4a5e729-bb81-4ccf-aab8-074b4c9d2f79",
   "metadata": {},
   "outputs": [],
   "source": [
    "marg = a -torch.roll(a, 1)"
   ]
  },
  {
   "cell_type": "code",
   "execution_count": 23,
   "id": "21e0fe32-4ce5-4b88-8d8f-039b4b63a8a0",
   "metadata": {},
   "outputs": [
    {
     "data": {
      "text/plain": [
       "tensor(0.1500)"
      ]
     },
     "execution_count": 23,
     "metadata": {},
     "output_type": "execute_result"
    }
   ],
   "source": [
    "rank_loss(b, a)"
   ]
  },
  {
   "cell_type": "code",
   "execution_count": 13,
   "id": "47f30d83-36d9-42b9-8243-61a948d3e8ae",
   "metadata": {},
   "outputs": [
    {
     "data": {
      "text/plain": [
       "tensor([ 1., -1., -1., -1., -1., -1., -1., -1., -1., -1., -1., -1., -1., -1.,\n",
       "        -1., -1., -1., -1., -1., -1., -1., -1., -1., -1., -1., -1., -1., -1.,\n",
       "        -1., -1., -1., -1.])"
      ]
     },
     "execution_count": 13,
     "metadata": {},
     "output_type": "execute_result"
    }
   ],
   "source": [
    "vmask[1]"
   ]
  },
  {
   "cell_type": "code",
   "execution_count": null,
   "id": "a8788fb6-c6ba-42a6-b170-8063e54dfa68",
   "metadata": {},
   "outputs": [],
   "source": []
  }
 ],
 "metadata": {
  "kernelspec": {
   "display_name": "Python 3 (ipykernel)",
   "language": "python",
   "name": "python3"
  },
  "language_info": {
   "codemirror_mode": {
    "name": "ipython",
    "version": 3
   },
   "file_extension": ".py",
   "mimetype": "text/x-python",
   "name": "python",
   "nbconvert_exporter": "python",
   "pygments_lexer": "ipython3",
   "version": "3.8.12"
  }
 },
 "nbformat": 4,
 "nbformat_minor": 5
}
