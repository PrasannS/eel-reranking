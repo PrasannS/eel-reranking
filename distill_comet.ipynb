{
 "cells": [
  {
   "cell_type": "code",
   "execution_count": 3,
   "id": "1dbdfd6d-d718-4eec-88b0-77789bf845d8",
   "metadata": {},
   "outputs": [],
   "source": [
    "from transformers import AutoModel, AutoTokenizer\n",
    "import torch\n",
    "import torch.nn as nn\n",
    "import csv\n",
    "device = torch.device('cuda:1' if torch.cuda.is_available() else 'cpu')\n",
    "import sys\n",
    "import random\n",
    "import pandas as pd\n",
    "from rerank_score_cands_new import load_cands\n",
    "import numpy as np\n",
    "from comet import download_model, load_from_checkpoint\n",
    "import pickle\n",
    "from sklearn.utils import shuffle\n",
    "#from distill_comet import XLMCometRegressor\n",
    "\n",
    "csv.field_size_limit(sys.maxsize)\n",
    "xlm_tok = AutoTokenizer.from_pretrained('xlm-roberta-base')\n"
   ]
  },
  {
   "cell_type": "code",
   "execution_count": 4,
   "id": "6cd4f3f2-85c7-452f-84f9-74205cb8627a",
   "metadata": {},
   "outputs": [],
   "source": [
    "class XLMCometRegressor(nn.Module):\n",
    "    \n",
    "    def __init__(self, drop_rate=0.1):\n",
    "        # TODO should we be freezing layers?\n",
    "        super().__init__()\n",
    "        \n",
    "        self.xlmroberta = AutoModel.from_pretrained('xlm-roberta-base')\n",
    "        # Num labels 1 should just indicate regression (?)\n",
    "        self.regressor = nn.Sequential(\n",
    "            nn.Dropout(drop_rate),\n",
    "            nn.Linear(self.xlmroberta.config.hidden_size, 1), \n",
    "        )\n",
    "        self.to(device)\n",
    "        \n",
    "    def forward(self, input_ids, attention_masks):\n",
    "        # don't finetune xlmroberta model\n",
    "        #with torch.no_grad():\n",
    "        word_rep, sentence_rep = self.xlmroberta(input_ids, attention_mask=attention_masks, encoder_attention_mask=attention_masks, return_dict=False)\n",
    "        # use the first <s> token as a CLS token, TODO experiment with using the sum of \n",
    "        # ensure padding not factored in\n",
    "        word_rep = word_rep*(input_ids>0).unsqueeze(-1)\n",
    "        outputs = self.regressor(torch.sum(word_rep, 1))\n",
    "        #print(\"Shape: \", outputs.shape)\n",
    "        return outputs"
   ]
  },
  {
   "cell_type": "code",
   "execution_count": null,
   "id": "959f8b23-872a-4e36-81f5-5ade199f12bb",
   "metadata": {},
   "outputs": [],
   "source": [
    "# nothing is everything\n",
    "# 1 is with distilled data lattice + beam\n",
    "# 2 is with just beam data? \n",
    "# ordered is the clean ranking ready set\n",
    "def load_cometqe_data(ind):\n",
    "    with open('processeddata/orderedmasks.pkl', 'rb') as f:\n",
    "        masks = pickle.load(f)\n",
    "\n",
    "    with open('processeddata/orderedinps.pkl', 'rb') as f:\n",
    "        xinps = pickle.load(f)\n",
    "\n",
    "    with open('processeddata/orderedlabels.pkl', 'rb') as f:\n",
    "        yinps = pickle.load(f)\n",
    "    return masks, xinps, yinps\n",
    "\n",
    "mdata, xdata, ydata = load_cometqe_data(1)"
   ]
  },
  {
   "cell_type": "code",
   "execution_count": 3,
   "id": "24f07e35-1994-485e-ba44-c6fef5c57d87",
   "metadata": {},
   "outputs": [
    {
     "ename": "NameError",
     "evalue": "name 'xdata' is not defined",
     "output_type": "error",
     "traceback": [
      "\u001b[0;31m---------------------------------------------------------------------------\u001b[0m",
      "\u001b[0;31mNameError\u001b[0m                                 Traceback (most recent call last)",
      "Input \u001b[0;32mIn [3]\u001b[0m, in \u001b[0;36m<module>\u001b[0;34m\u001b[0m\n\u001b[1;32m      1\u001b[0m \u001b[38;5;66;03m# train test split\u001b[39;00m\n\u001b[0;32m----> 2\u001b[0m cut \u001b[38;5;241m=\u001b[39m \u001b[38;5;28mint\u001b[39m(\u001b[38;5;28mlen\u001b[39m(\u001b[43mxdata\u001b[49m)\u001b[38;5;241m*\u001b[39m\u001b[38;5;241m.9\u001b[39m)\u001b[38;5;241m-\u001b[39m \u001b[38;5;28mint\u001b[39m(\u001b[38;5;28mlen\u001b[39m(xdata)\u001b[38;5;241m*\u001b[39m\u001b[38;5;241m.9\u001b[39m)\u001b[38;5;241m%\u001b[39m\u001b[38;5;241m32\u001b[39m\n\u001b[1;32m      3\u001b[0m xtrain, ytrain, mtrain \u001b[38;5;241m=\u001b[39m xdata[:cut], ydata[:cut], mdata[:cut]\n\u001b[1;32m      4\u001b[0m xtest, ytest, mtest \u001b[38;5;241m=\u001b[39m xdata[cut:], ydata[cut:], mdata[cut:]\n",
      "\u001b[0;31mNameError\u001b[0m: name 'xdata' is not defined"
     ]
    }
   ],
   "source": [
    "# train test split\n",
    "cut = int(len(xdata)*.9)- int(len(xdata)*.9)%32\n",
    "xtrain, ytrain, mtrain = xdata[:cut], ydata[:cut], mdata[:cut]\n",
    "xtest, ytest, mtest = xdata[cut:], ydata[cut:], mdata[cut:]"
   ]
  },
  {
   "cell_type": "code",
   "execution_count": 4,
   "id": "1a419403-ff57-4583-9f69-ee14771f2f79",
   "metadata": {},
   "outputs": [
    {
     "ename": "NameError",
     "evalue": "name 'mdata' is not defined",
     "output_type": "error",
     "traceback": [
      "\u001b[0;31m---------------------------------------------------------------------------\u001b[0m",
      "\u001b[0;31mNameError\u001b[0m                                 Traceback (most recent call last)",
      "Input \u001b[0;32mIn [4]\u001b[0m, in \u001b[0;36m<module>\u001b[0;34m\u001b[0m\n\u001b[0;32m----> 1\u001b[0m \u001b[38;5;28;01mdel\u001b[39;00m mdata, xdata, ydata\n\u001b[1;32m      2\u001b[0m torch\u001b[38;5;241m.\u001b[39mcuda\u001b[38;5;241m.\u001b[39mempty_cache()\n",
      "\u001b[0;31mNameError\u001b[0m: name 'mdata' is not defined"
     ]
    }
   ],
   "source": [
    "del mdata, xdata, ydata\n",
    "torch.cuda.empty_cache()"
   ]
  },
  {
   "cell_type": "code",
   "execution_count": null,
   "id": "c4729652-ffdb-4ce6-803c-15e17833f409",
   "metadata": {},
   "outputs": [],
   "source": [
    "testset = torch.tensor(ytrain[:31]+[.8]).to(device)"
   ]
  },
  {
   "cell_type": "code",
   "execution_count": 24,
   "id": "987705a3-5c97-47a4-903c-e3d0583f5a3d",
   "metadata": {},
   "outputs": [
    {
     "data": {
      "text/plain": [
       "145728"
      ]
     },
     "execution_count": 24,
     "metadata": {},
     "output_type": "execute_result"
    }
   ],
   "source": [
    "len(xtrain)"
   ]
  },
  {
   "cell_type": "code",
   "execution_count": 7,
   "id": "012d84f1-5654-45e1-8691-4af5ece2ed51",
   "metadata": {},
   "outputs": [],
   "source": [
    "from torch.utils.data import DataLoader\n",
    "from torch.utils.data import Dataset\n",
    "\n",
    "class RegressionDataset(Dataset):\n",
    "    def __init__(self, sentences, labels, masks):\n",
    "        assert len(sentences) == len(labels)\n",
    "        self.sentences = sentences\n",
    "        self.labels = labels\n",
    "        self.masks = masks\n",
    "\n",
    "    def __getitem__(self, i):\n",
    "        return self.sentences[i], self.labels[i], self.masks[i]\n",
    "\n",
    "    def __len__(self):\n",
    "        return len(self.sentences)\n",
    "\n",
    "def collate_custom(datafull):\n",
    "    #print(len(datafull[0]))\n",
    "    data = [torch.tensor(d[0]) for d in datafull]\n",
    "    masdata=  [d[2] for d in datafull]\n",
    "    labels = [d[1] for d in datafull]\n",
    "    max_len = max([x.squeeze().numel() for x in data])\n",
    "    data = [torch.nn.functional.pad(x, pad=(0, max_len - x.numel()), mode='constant', value=0) for x in data]\n",
    "    data = torch.stack(data).to(device)\n",
    "    # TODO just a normal mask for now\n",
    "    #masdata = [torch.ones_like(m) for m in masdata]\n",
    "    masdata = [torch.nn.functional.pad(x, pad=(0, max_len - x[0].numel(), 0, max_len - x[0].numel()), mode='constant', value=0) for x in masdata]\n",
    "    masdata = torch.stack(masdata).to(device)\n",
    "    return data, torch.tensor(labels).to(device), masdata\n",
    "    "
   ]
  },
  {
   "cell_type": "code",
   "execution_count": 6,
   "id": "a69ce8cc-6284-41a8-bef7-a3733e8e317f",
   "metadata": {},
   "outputs": [
    {
     "ename": "NameError",
     "evalue": "name 'xtest' is not defined",
     "output_type": "error",
     "traceback": [
      "\u001b[0;31m---------------------------------------------------------------------------\u001b[0m",
      "\u001b[0;31mNameError\u001b[0m                                 Traceback (most recent call last)",
      "Input \u001b[0;32mIn [6]\u001b[0m, in \u001b[0;36m<module>\u001b[0;34m\u001b[0m\n\u001b[0;32m----> 1\u001b[0m testloader \u001b[38;5;241m=\u001b[39m DataLoader(RegressionDataset(\u001b[43mxtest\u001b[49m, ytest, mtest), batch_size\u001b[38;5;241m=\u001b[39m\u001b[38;5;241m32\u001b[39m, shuffle\u001b[38;5;241m=\u001b[39m\u001b[38;5;28;01mFalse\u001b[39;00m, collate_fn\u001b[38;5;241m=\u001b[39mcollate_custom)\n\u001b[1;32m      2\u001b[0m trainloader \u001b[38;5;241m=\u001b[39m DataLoader(RegressionDataset(xtrain, ytrain, mtrain), batch_size\u001b[38;5;241m=\u001b[39m\u001b[38;5;241m32\u001b[39m, shuffle\u001b[38;5;241m=\u001b[39m\u001b[38;5;28;01mFalse\u001b[39;00m, collate_fn\u001b[38;5;241m=\u001b[39mcollate_custom)\n",
      "\u001b[0;31mNameError\u001b[0m: name 'xtest' is not defined"
     ]
    }
   ],
   "source": [
    "testloader = DataLoader(RegressionDataset(xtest, ytest, mtest), batch_size=32, shuffle=False, collate_fn=collate_custom)\n",
    "trainloader = DataLoader(RegressionDataset(xtrain, ytrain, mtrain), batch_size=32, shuffle=False, collate_fn=collate_custom)"
   ]
  },
  {
   "cell_type": "code",
   "execution_count": null,
   "id": "79d91005-836e-415c-b943-a3b425e6b3b3",
   "metadata": {},
   "outputs": [],
   "source": [
    "tinmax = 100000\n",
    "xtiny, ytiny, mtiny = xtrain[:tinmax], ytrain[:tinmax], mtrain[:tinmax]\n",
    "tinyloader = DataLoader(RegressionDataset(xtiny, ytiny, mtiny), batch_size=32, shuffle=True, collate_fn=collate_custom)"
   ]
  },
  {
   "cell_type": "code",
   "execution_count": null,
   "id": "daee20ab-5811-4500-abad-aa9eb20983ec",
   "metadata": {},
   "outputs": [],
   "source": [
    "it = iter(testloader)"
   ]
  },
  {
   "cell_type": "code",
   "execution_count": 8,
   "id": "cfe13842-e550-4128-840f-09615ce82dfc",
   "metadata": {},
   "outputs": [],
   "source": [
    "# hyperparams\n",
    "from transformers import AdamW, get_linear_schedule_with_warmup"
   ]
  },
  {
   "cell_type": "code",
   "execution_count": 9,
   "id": "b1a03299-cb46-4488-bbc4-2baafc36fd6d",
   "metadata": {},
   "outputs": [],
   "source": [
    "from torch.nn.utils.clip_grad import clip_grad_norm_\n",
    "def train(model, optimizer, scheduler, loss_function, epochs,       \n",
    "          train_dataloader, device, clip_value=2):\n",
    "    print(\"Total steps :\", epochs*len(train_dataloader))\n",
    "    best_loss = 1e10\n",
    "    for epoch in range(epochs):\n",
    "        if epoch%1==0:\n",
    "            print(\"EPOCH \", epoch)\n",
    "            print(\"-----\")\n",
    "            print(best_loss)\n",
    "        model.train()\n",
    "        cbest = 1e10\n",
    "        lostot = 0\n",
    "        loscnt = 0\n",
    "        for step, batch in enumerate(train_dataloader): \n",
    "            batch_inputs, batch_labels, batch_masks = \\\n",
    "                               tuple(b.to(device) for b in batch)\n",
    "            model.zero_grad()\n",
    "            outputs = model(batch_inputs, batch_masks)\n",
    "            loss = loss_function(outputs.squeeze(), \n",
    "                             batch_labels.squeeze())\n",
    "            lostot+=loss\n",
    "            loscnt+=1\n",
    "            if step%500==0:\n",
    "                #print(loss)  \n",
    "                if loscnt>0:\n",
    "                    print(lostot/loscnt)\n",
    "                    cbest = min(float(lostot/loscnt), cbest)\n",
    "                    best_loss = min(best_loss, cbest)\n",
    "                    print(\"cbest, \", cbest)\n",
    "            loss.backward()\n",
    "            clip_grad_norm_(model.parameters(), clip_value)\n",
    "            optimizer.step()\n",
    "            scheduler.step()\n",
    "        cbest = min(float(lostot/loscnt), cbest)\n",
    "        best_loss = min(best_loss, cbest)\n",
    "        print(\"cbest, \", cbest)\n",
    "        \n",
    "        torch.save(model.state_dict(), \"torchsaved/divlat\"+str(epoch)+\".pt\")\n",
    "    return model\n",
    "\n",
    "def evaluate(model, loss_function, tdataloader, device):\n",
    "    model.eval()\n",
    "    test_loss, test_r2 = [], []\n",
    "    preds = []\n",
    "    ind = 0\n",
    "    for batch in tdataloader:\n",
    "        if ind%100==0:\n",
    "            print(ind)\n",
    "        try:\n",
    "            batch_inputs, batch_labels,batch_masks = \\\n",
    "                                     tuple(b.to(device) for b in batch)\n",
    "            with torch.no_grad():\n",
    "                outputs = model(batch_inputs, batch_masks)\n",
    "            loss = loss_function(outputs.squeeze(), \n",
    "                                 batch_labels.squeeze())\n",
    "            preds.append(list(outputs.squeeze()))\n",
    "            test_loss.append(loss.item())\n",
    "            #r2 = r2_score(outputs, batch_labels)\n",
    "            #test_r2.append(r2.item())\n",
    "            if ind==10:\n",
    "                print(batch_labels)\n",
    "                print(outputs)\n",
    "            ind+=1\n",
    "        except:\n",
    "            preds.append([0.5]*32)\n",
    "            test_loss.append(0)\n",
    "            \n",
    "    return test_loss, preds"
   ]
  },
  {
   "cell_type": "code",
   "execution_count": 41,
   "id": "61daad59-70ee-4804-86c3-61b7c68a9055",
   "metadata": {},
   "outputs": [],
   "source": [
    "#torch.save(model.state_dict(), \"torchsaved/maskedtestcomestimdone.pt\")"
   ]
  },
  {
   "cell_type": "code",
   "execution_count": 10,
   "id": "c13f0fd3-f0e5-4494-8ac0-a017ccb71618",
   "metadata": {},
   "outputs": [
    {
     "name": "stderr",
     "output_type": "stream",
     "text": [
      "Some weights of the model checkpoint at xlm-roberta-base were not used when initializing XLMRobertaModel: ['lm_head.layer_norm.weight', 'lm_head.layer_norm.bias', 'lm_head.dense.bias', 'lm_head.bias', 'lm_head.decoder.weight', 'lm_head.dense.weight']\n",
      "- This IS expected if you are initializing XLMRobertaModel from the checkpoint of a model trained on another task or with another architecture (e.g. initializing a BertForSequenceClassification model from a BertForPreTraining model).\n",
      "- This IS NOT expected if you are initializing XLMRobertaModel from the checkpoint of a model that you expect to be exactly identical (initializing a BertForSequenceClassification model from a BertForSequenceClassification model).\n"
     ]
    },
    {
     "data": {
      "text/plain": [
       "<All keys matched successfully>"
      ]
     },
     "execution_count": 10,
     "metadata": {},
     "output_type": "execute_result"
    }
   ],
   "source": [
    "model = XLMCometRegressor(drop_rate=0.1)\n",
    "model.load_state_dict(torch.load(\"./torchsaved/germanlat0.pt\"))"
   ]
  },
  {
   "cell_type": "code",
   "execution_count": null,
   "id": "74b47870-ca7b-4f6c-915f-42e5d09332b4",
   "metadata": {},
   "outputs": [],
   "source": [
    "model.eval()"
   ]
  },
  {
   "cell_type": "code",
   "execution_count": 12,
   "id": "218d3e10-6a44-4909-97c1-ddbf3ad796f2",
   "metadata": {},
   "outputs": [],
   "source": [
    "# maskedcont1 has first round of optimizing loss\n",
    "# maskedcont2 more contrastive learning\n",
    "# maskedcont3 full on contrastive \n",
    "# torch.save(model.state_dict(), \"torchsaved/maskedcont4.pt\")"
   ]
  },
  {
   "cell_type": "code",
   "execution_count": 13,
   "id": "784319d1-d9ac-4524-9fc5-748f2d119255",
   "metadata": {},
   "outputs": [],
   "source": [
    "torch.cuda.empty_cache()"
   ]
  },
  {
   "cell_type": "code",
   "execution_count": 14,
   "id": "1918c74d-5efb-4a45-ba35-0fb4bb665fc3",
   "metadata": {},
   "outputs": [],
   "source": [
    "vmask = (torch.triu(torch.ones(32, 32))*2-torch.ones(32, 32))*-1\n",
    "vmask = vmask.to(device)\n",
    "mse = nn.MSELoss()\n",
    "def rank_loss(preds, golds):\n",
    "    totloss = 0\n",
    "    for i in range(1, len(preds)):\n",
    "        # for margin\n",
    "        margin = (golds - torch.roll(golds, i))*vmask[i]\n",
    "        diff = (preds - torch.roll(preds, i)-margin)*vmask[i]\n",
    "        diff[diff<0] = 0\n",
    "        totloss+=torch.sum(diff)\n",
    "    return totloss + mse(preds, golds)"
   ]
  },
  {
   "cell_type": "code",
   "execution_count": 15,
   "id": "c9c5376b-786f-483d-9560-d8c3fd8006db",
   "metadata": {},
   "outputs": [],
   "source": [
    "vmask = (torch.triu(torch.ones(32, 32))*2-torch.ones(32, 32))*-1\n",
    "vmask = vmask.to(device)\n",
    "mse = nn.MSELoss()\n",
    "def nomarg_rank_loss(preds, golds):\n",
    "    totloss = 0\n",
    "    for i in range(1, len(preds)):\n",
    "        # for margin\n",
    "        # margin = (golds - torch.roll(golds, i))*vmask[i]\n",
    "        diff = (preds - torch.roll(preds, i))*vmask[i]\n",
    "        diff[diff<0] = 0\n",
    "        totloss+=torch.sum(diff)\n",
    "    return totloss + mse(preds, golds)"
   ]
  },
  {
   "cell_type": "code",
   "execution_count": 16,
   "id": "09d02e9c-2aed-4ab3-949b-45e56b64c3ad",
   "metadata": {},
   "outputs": [],
   "source": [
    "def run_model_train_params(learn_r, epochs, loader, mod):\n",
    "    optimizer = AdamW(mod.parameters(),\n",
    "                      lr=learn_r,\n",
    "                      eps=1e-8)\n",
    "    scheduler = get_linear_schedule_with_warmup(optimizer,       \n",
    "                     num_warmup_steps=0, num_training_steps=epochs*len(loader))\n",
    "    model = train(mod, optimizer, scheduler, rank_loss, epochs, \n",
    "                  loader, device, clip_value=2)"
   ]
  },
  {
   "cell_type": "code",
   "execution_count": 53,
   "id": "c16f43a4-da47-478d-9872-f721771e4e95",
   "metadata": {},
   "outputs": [
    {
     "name": "stdout",
     "output_type": "stream",
     "text": [
      "Total steps : 16516\n",
      "EPOCH  0\n",
      "-----\n",
      "10000000000.0\n",
      "tensor(26.8449, device='cuda:1', grad_fn=<DivBackward0>)\n",
      "cbest,  26.84491729736328\n",
      "tensor(62.9235, device='cuda:1', grad_fn=<DivBackward0>)\n",
      "cbest,  26.84491729736328\n"
     ]
    },
    {
     "ename": "RuntimeError",
     "evalue": "The expanded size of the tensor (553) must match the existing size (514) at non-singleton dimension 1.  Target sizes: [32, 553].  Tensor sizes: [1, 514]",
     "output_type": "error",
     "traceback": [
      "\u001b[0;31m---------------------------------------------------------------------------\u001b[0m",
      "\u001b[0;31mRuntimeError\u001b[0m                              Traceback (most recent call last)",
      "Input \u001b[0;32mIn [53]\u001b[0m, in \u001b[0;36m<module>\u001b[0;34m\u001b[0m\n\u001b[0;32m----> 1\u001b[0m \u001b[43mrun_model_train_params\u001b[49m\u001b[43m(\u001b[49m\u001b[38;5;241;43m1e-4\u001b[39;49m\u001b[43m,\u001b[49m\u001b[43m \u001b[49m\u001b[38;5;241;43m2\u001b[39;49m\u001b[43m,\u001b[49m\u001b[43m \u001b[49m\u001b[43mbigloader\u001b[49m\u001b[43m,\u001b[49m\u001b[43m \u001b[49m\u001b[43mmodel\u001b[49m\u001b[43m)\u001b[49m\n\u001b[1;32m      2\u001b[0m run_model_train_params(\u001b[38;5;241m1e-5\u001b[39m, \u001b[38;5;241m10\u001b[39m, bigloader, model)\n\u001b[1;32m      3\u001b[0m run_model_train_params(\u001b[38;5;241m1e-6\u001b[39m, \u001b[38;5;241m20\u001b[39m, bigloader, model)\n",
      "Input \u001b[0;32mIn [46]\u001b[0m, in \u001b[0;36mrun_model_train_params\u001b[0;34m(learn_r, epochs, loader, mod)\u001b[0m\n\u001b[1;32m      2\u001b[0m optimizer \u001b[38;5;241m=\u001b[39m AdamW(mod\u001b[38;5;241m.\u001b[39mparameters(),\n\u001b[1;32m      3\u001b[0m                   lr\u001b[38;5;241m=\u001b[39mlearn_r,\n\u001b[1;32m      4\u001b[0m                   eps\u001b[38;5;241m=\u001b[39m\u001b[38;5;241m1e-8\u001b[39m)\n\u001b[1;32m      5\u001b[0m scheduler \u001b[38;5;241m=\u001b[39m get_linear_schedule_with_warmup(optimizer,       \n\u001b[1;32m      6\u001b[0m                  num_warmup_steps\u001b[38;5;241m=\u001b[39m\u001b[38;5;241m0\u001b[39m, num_training_steps\u001b[38;5;241m=\u001b[39mepochs\u001b[38;5;241m*\u001b[39m\u001b[38;5;28mlen\u001b[39m(loader))\n\u001b[0;32m----> 7\u001b[0m model \u001b[38;5;241m=\u001b[39m \u001b[43mtrain\u001b[49m\u001b[43m(\u001b[49m\u001b[43mmod\u001b[49m\u001b[43m,\u001b[49m\u001b[43m \u001b[49m\u001b[43moptimizer\u001b[49m\u001b[43m,\u001b[49m\u001b[43m \u001b[49m\u001b[43mscheduler\u001b[49m\u001b[43m,\u001b[49m\u001b[43m \u001b[49m\u001b[43mrank_loss\u001b[49m\u001b[43m,\u001b[49m\u001b[43m \u001b[49m\u001b[43mepochs\u001b[49m\u001b[43m,\u001b[49m\u001b[43m \u001b[49m\n\u001b[1;32m      8\u001b[0m \u001b[43m              \u001b[49m\u001b[43mloader\u001b[49m\u001b[43m,\u001b[49m\u001b[43m \u001b[49m\u001b[43mdevice\u001b[49m\u001b[43m,\u001b[49m\u001b[43m \u001b[49m\u001b[43mclip_value\u001b[49m\u001b[38;5;241;43m=\u001b[39;49m\u001b[38;5;241;43m2\u001b[39;49m\u001b[43m)\u001b[49m\n",
      "Input \u001b[0;32mIn [44]\u001b[0m, in \u001b[0;36mtrain\u001b[0;34m(model, optimizer, scheduler, loss_function, epochs, train_dataloader, device, clip_value)\u001b[0m\n\u001b[1;32m     16\u001b[0m batch_inputs, batch_labels, batch_masks \u001b[38;5;241m=\u001b[39m \\\n\u001b[1;32m     17\u001b[0m                    \u001b[38;5;28mtuple\u001b[39m(b\u001b[38;5;241m.\u001b[39mto(device) \u001b[38;5;28;01mfor\u001b[39;00m b \u001b[38;5;129;01min\u001b[39;00m batch)\n\u001b[1;32m     18\u001b[0m model\u001b[38;5;241m.\u001b[39mzero_grad()\n\u001b[0;32m---> 19\u001b[0m outputs \u001b[38;5;241m=\u001b[39m \u001b[43mmodel\u001b[49m\u001b[43m(\u001b[49m\u001b[43mbatch_inputs\u001b[49m\u001b[43m,\u001b[49m\u001b[43m \u001b[49m\u001b[43mbatch_masks\u001b[49m\u001b[43m)\u001b[49m\n\u001b[1;32m     20\u001b[0m loss \u001b[38;5;241m=\u001b[39m loss_function(outputs\u001b[38;5;241m.\u001b[39msqueeze(), \n\u001b[1;32m     21\u001b[0m                  batch_labels\u001b[38;5;241m.\u001b[39msqueeze())\n\u001b[1;32m     22\u001b[0m lostot\u001b[38;5;241m+\u001b[39m\u001b[38;5;241m=\u001b[39mloss\n",
      "File \u001b[0;32m~/miniconda3/envs/latenv/lib/python3.8/site-packages/torch/nn/modules/module.py:1102\u001b[0m, in \u001b[0;36mModule._call_impl\u001b[0;34m(self, *input, **kwargs)\u001b[0m\n\u001b[1;32m   1098\u001b[0m \u001b[38;5;66;03m# If we don't have any hooks, we want to skip the rest of the logic in\u001b[39;00m\n\u001b[1;32m   1099\u001b[0m \u001b[38;5;66;03m# this function, and just call forward.\u001b[39;00m\n\u001b[1;32m   1100\u001b[0m \u001b[38;5;28;01mif\u001b[39;00m \u001b[38;5;129;01mnot\u001b[39;00m (\u001b[38;5;28mself\u001b[39m\u001b[38;5;241m.\u001b[39m_backward_hooks \u001b[38;5;129;01mor\u001b[39;00m \u001b[38;5;28mself\u001b[39m\u001b[38;5;241m.\u001b[39m_forward_hooks \u001b[38;5;129;01mor\u001b[39;00m \u001b[38;5;28mself\u001b[39m\u001b[38;5;241m.\u001b[39m_forward_pre_hooks \u001b[38;5;129;01mor\u001b[39;00m _global_backward_hooks\n\u001b[1;32m   1101\u001b[0m         \u001b[38;5;129;01mor\u001b[39;00m _global_forward_hooks \u001b[38;5;129;01mor\u001b[39;00m _global_forward_pre_hooks):\n\u001b[0;32m-> 1102\u001b[0m     \u001b[38;5;28;01mreturn\u001b[39;00m \u001b[43mforward_call\u001b[49m\u001b[43m(\u001b[49m\u001b[38;5;241;43m*\u001b[39;49m\u001b[38;5;28;43minput\u001b[39;49m\u001b[43m,\u001b[49m\u001b[43m \u001b[49m\u001b[38;5;241;43m*\u001b[39;49m\u001b[38;5;241;43m*\u001b[39;49m\u001b[43mkwargs\u001b[49m\u001b[43m)\u001b[49m\n\u001b[1;32m   1103\u001b[0m \u001b[38;5;66;03m# Do not call functions when jit is used\u001b[39;00m\n\u001b[1;32m   1104\u001b[0m full_backward_hooks, non_full_backward_hooks \u001b[38;5;241m=\u001b[39m [], []\n",
      "Input \u001b[0;32mIn [2]\u001b[0m, in \u001b[0;36mXLMCometRegressor.forward\u001b[0;34m(self, input_ids, attention_masks)\u001b[0m\n\u001b[1;32m     15\u001b[0m \u001b[38;5;28;01mdef\u001b[39;00m \u001b[38;5;21mforward\u001b[39m(\u001b[38;5;28mself\u001b[39m, input_ids, attention_masks):\n\u001b[1;32m     16\u001b[0m     \u001b[38;5;66;03m# don't finetune xlmroberta model\u001b[39;00m\n\u001b[1;32m     17\u001b[0m     \u001b[38;5;66;03m#with torch.no_grad():\u001b[39;00m\n\u001b[0;32m---> 18\u001b[0m     word_rep, sentence_rep \u001b[38;5;241m=\u001b[39m \u001b[38;5;28;43mself\u001b[39;49m\u001b[38;5;241;43m.\u001b[39;49m\u001b[43mxlmroberta\u001b[49m\u001b[43m(\u001b[49m\u001b[43minput_ids\u001b[49m\u001b[43m,\u001b[49m\u001b[43m \u001b[49m\u001b[43mattention_mask\u001b[49m\u001b[38;5;241;43m=\u001b[39;49m\u001b[43mattention_masks\u001b[49m\u001b[43m,\u001b[49m\u001b[43m \u001b[49m\u001b[43mencoder_attention_mask\u001b[49m\u001b[38;5;241;43m=\u001b[39;49m\u001b[43mattention_masks\u001b[49m\u001b[43m,\u001b[49m\u001b[43m \u001b[49m\u001b[43mreturn_dict\u001b[49m\u001b[38;5;241;43m=\u001b[39;49m\u001b[38;5;28;43;01mFalse\u001b[39;49;00m\u001b[43m)\u001b[49m\n\u001b[1;32m     19\u001b[0m     \u001b[38;5;66;03m# use the first <s> token as a CLS token, TODO experiment with using the sum of \u001b[39;00m\n\u001b[1;32m     20\u001b[0m     \u001b[38;5;66;03m# ensure padding not factored in\u001b[39;00m\n\u001b[1;32m     21\u001b[0m     word_rep \u001b[38;5;241m=\u001b[39m word_rep\u001b[38;5;241m*\u001b[39m(input_ids\u001b[38;5;241m>\u001b[39m\u001b[38;5;241m0\u001b[39m)\u001b[38;5;241m.\u001b[39munsqueeze(\u001b[38;5;241m-\u001b[39m\u001b[38;5;241m1\u001b[39m)\n",
      "File \u001b[0;32m~/miniconda3/envs/latenv/lib/python3.8/site-packages/torch/nn/modules/module.py:1102\u001b[0m, in \u001b[0;36mModule._call_impl\u001b[0;34m(self, *input, **kwargs)\u001b[0m\n\u001b[1;32m   1098\u001b[0m \u001b[38;5;66;03m# If we don't have any hooks, we want to skip the rest of the logic in\u001b[39;00m\n\u001b[1;32m   1099\u001b[0m \u001b[38;5;66;03m# this function, and just call forward.\u001b[39;00m\n\u001b[1;32m   1100\u001b[0m \u001b[38;5;28;01mif\u001b[39;00m \u001b[38;5;129;01mnot\u001b[39;00m (\u001b[38;5;28mself\u001b[39m\u001b[38;5;241m.\u001b[39m_backward_hooks \u001b[38;5;129;01mor\u001b[39;00m \u001b[38;5;28mself\u001b[39m\u001b[38;5;241m.\u001b[39m_forward_hooks \u001b[38;5;129;01mor\u001b[39;00m \u001b[38;5;28mself\u001b[39m\u001b[38;5;241m.\u001b[39m_forward_pre_hooks \u001b[38;5;129;01mor\u001b[39;00m _global_backward_hooks\n\u001b[1;32m   1101\u001b[0m         \u001b[38;5;129;01mor\u001b[39;00m _global_forward_hooks \u001b[38;5;129;01mor\u001b[39;00m _global_forward_pre_hooks):\n\u001b[0;32m-> 1102\u001b[0m     \u001b[38;5;28;01mreturn\u001b[39;00m \u001b[43mforward_call\u001b[49m\u001b[43m(\u001b[49m\u001b[38;5;241;43m*\u001b[39;49m\u001b[38;5;28;43minput\u001b[39;49m\u001b[43m,\u001b[49m\u001b[43m \u001b[49m\u001b[38;5;241;43m*\u001b[39;49m\u001b[38;5;241;43m*\u001b[39;49m\u001b[43mkwargs\u001b[49m\u001b[43m)\u001b[49m\n\u001b[1;32m   1103\u001b[0m \u001b[38;5;66;03m# Do not call functions when jit is used\u001b[39;00m\n\u001b[1;32m   1104\u001b[0m full_backward_hooks, non_full_backward_hooks \u001b[38;5;241m=\u001b[39m [], []\n",
      "File \u001b[0;32m~/miniconda3/envs/latenv/lib/python3.8/site-packages/transformers/models/roberta/modeling_roberta.py:809\u001b[0m, in \u001b[0;36mRobertaModel.forward\u001b[0;34m(self, input_ids, attention_mask, token_type_ids, position_ids, head_mask, inputs_embeds, encoder_hidden_states, encoder_attention_mask, past_key_values, use_cache, output_attentions, output_hidden_states, return_dict)\u001b[0m\n\u001b[1;32m    807\u001b[0m \u001b[38;5;28;01mif\u001b[39;00m \u001b[38;5;28mhasattr\u001b[39m(\u001b[38;5;28mself\u001b[39m\u001b[38;5;241m.\u001b[39membeddings, \u001b[38;5;124m\"\u001b[39m\u001b[38;5;124mtoken_type_ids\u001b[39m\u001b[38;5;124m\"\u001b[39m):\n\u001b[1;32m    808\u001b[0m     buffered_token_type_ids \u001b[38;5;241m=\u001b[39m \u001b[38;5;28mself\u001b[39m\u001b[38;5;241m.\u001b[39membeddings\u001b[38;5;241m.\u001b[39mtoken_type_ids[:, :seq_length]\n\u001b[0;32m--> 809\u001b[0m     buffered_token_type_ids_expanded \u001b[38;5;241m=\u001b[39m \u001b[43mbuffered_token_type_ids\u001b[49m\u001b[38;5;241;43m.\u001b[39;49m\u001b[43mexpand\u001b[49m\u001b[43m(\u001b[49m\u001b[43mbatch_size\u001b[49m\u001b[43m,\u001b[49m\u001b[43m \u001b[49m\u001b[43mseq_length\u001b[49m\u001b[43m)\u001b[49m\n\u001b[1;32m    810\u001b[0m     token_type_ids \u001b[38;5;241m=\u001b[39m buffered_token_type_ids_expanded\n\u001b[1;32m    811\u001b[0m \u001b[38;5;28;01melse\u001b[39;00m:\n",
      "\u001b[0;31mRuntimeError\u001b[0m: The expanded size of the tensor (553) must match the existing size (514) at non-singleton dimension 1.  Target sizes: [32, 553].  Tensor sizes: [1, 514]"
     ]
    }
   ],
   "source": [
    "#run_model_train_params(1e-4, 2, bigloader, model)\n",
    "run_model_train_params(1e-5, 10, bigloader, model)\n",
    "run_model_train_params(1e-6, 20, bigloader, model)\n"
   ]
  },
  {
   "cell_type": "code",
   "execution_count": 50,
   "id": "0b8c02b8-def2-4017-a91f-aaec8eec261f",
   "metadata": {},
   "outputs": [],
   "source": [
    "ittest = iter(bigloader)"
   ]
  },
  {
   "cell_type": "code",
   "execution_count": null,
   "id": "404c6094-5aab-42b5-9eb5-2f5a3ec50d29",
   "metadata": {},
   "outputs": [],
   "source": [
    "for t in trainloader:\n",
    "    #print(t[1])\n",
    "    assert t[1][-1] == max(t[1])"
   ]
  },
  {
   "cell_type": "code",
   "execution_count": 77,
   "id": "2cf629fb-072b-4326-8af1-ccec6f11bb9d",
   "metadata": {},
   "outputs": [
    {
     "name": "stderr",
     "output_type": "stream",
     "text": [
      "Some weights of the model checkpoint at xlm-roberta-base were not used when initializing XLMRobertaModel: ['lm_head.dense.bias', 'lm_head.dense.weight', 'lm_head.layer_norm.bias', 'lm_head.layer_norm.weight', 'lm_head.decoder.weight', 'lm_head.bias']\n",
      "- This IS expected if you are initializing XLMRobertaModel from the checkpoint of a model trained on another task or with another architecture (e.g. initializing a BertForSequenceClassification model from a BertForPreTraining model).\n",
      "- This IS NOT expected if you are initializing XLMRobertaModel from the checkpoint of a model that you expect to be exactly identical (initializing a BertForSequenceClassification model from a BertForSequenceClassification model).\n"
     ]
    },
    {
     "data": {
      "text/plain": [
       "<All keys matched successfully>"
      ]
     },
     "execution_count": 77,
     "metadata": {},
     "output_type": "execute_result"
    }
   ],
   "source": [
    "del model \n",
    "model = XLMCometRegressor(drop_rate=0.1)\n",
    "model.load_state_dict(torch.load(\"./torchsaved/maskedcont4.pt\"))"
   ]
  },
  {
   "cell_type": "code",
   "execution_count": 42,
   "id": "46c96ce7-5520-4b13-92bf-58a2de69a7f9",
   "metadata": {},
   "outputs": [
    {
     "name": "stdout",
     "output_type": "stream",
     "text": [
      "100\n",
      "200\n",
      "300\n",
      "400\n",
      "500\n"
     ]
    }
   ],
   "source": [
    "loss = evaluate(model, rank_loss, testloader, device)"
   ]
  },
  {
   "cell_type": "code",
   "execution_count": 12,
   "id": "35907783-1f6f-4801-8ae5-d8e05bb80ad5",
   "metadata": {},
   "outputs": [],
   "source": [
    "import math\n",
    "import matplotlib.pyplot as plt"
   ]
  },
  {
   "cell_type": "code",
   "execution_count": null,
   "id": "1dede517-a94b-4e4e-a037-dac55a310ee7",
   "metadata": {},
   "outputs": [],
   "source": [
    "len(xtrain)"
   ]
  },
  {
   "cell_type": "code",
   "execution_count": null,
   "id": "28abafa5-bf6a-45b4-b5c2-37d76474cadf",
   "metadata": {},
   "outputs": [],
   "source": [
    "sloss = [math.sqrt(l) for l in loss[0]]"
   ]
  },
  {
   "cell_type": "code",
   "execution_count": null,
   "id": "ce4792d4-8a3b-4413-aef2-8c6ce3fa83af",
   "metadata": {},
   "outputs": [],
   "source": [
    "nval = [float(l) for l in loss[1]]"
   ]
  },
  {
   "cell_type": "code",
   "execution_count": null,
   "id": "68853bf4-ea68-4eb3-ab3e-6a6c6608c3d3",
   "metadata": {},
   "outputs": [],
   "source": [
    "mind = []\n",
    "for l in loss[1]:\n",
    "    mind+=[l.index(max(l))]\n",
    "\n",
    "sum(mind)/len(mind)"
   ]
  },
  {
   "cell_type": "code",
   "execution_count": 2,
   "id": "0028c47e-4fc8-4089-bf00-693ed030a883",
   "metadata": {},
   "outputs": [],
   "source": [
    "import matplotlib.pyplot as plt"
   ]
  },
  {
   "cell_type": "code",
   "execution_count": null,
   "id": "c97e6578-01b4-4ab4-87f0-69b68885ca16",
   "metadata": {},
   "outputs": [],
   "source": [
    "plt.hist(alldf['scores'])"
   ]
  },
  {
   "cell_type": "code",
   "execution_count": 80,
   "id": "d1b1d335-f94b-4fd5-bd69-7f86d9e7269c",
   "metadata": {},
   "outputs": [],
   "source": [
    "# old data loading stuff\n",
    "\n",
    "# data comes from WMT 2019 [I think], TODO validate exact year being used\n",
    "# data generated with gold reference given as hyp\n",
    "#golddf = pd.read_csv('./processeddata/golddata.csv')\n",
    "#golddf['inp'] = golddf['fr']\n",
    "#golddf['hyp'] = golddf['en']\n",
    "# data generated on candidates from beam search 50 and lattice (lots of bad)\n",
    "distill_df = pd.read_csv('processeddata/cpfdata2.csv')\n",
    "# data generated between random / unrelated sentences \n",
    "#rand_df = pd.read_csv('distill_cometdata_rand.csv')[:30000]\n",
    "# combine\n",
    "alldf = distill_df#.append(rand_df, ignore_index=True)"
   ]
  },
  {
   "cell_type": "code",
   "execution_count": 81,
   "id": "96e3ef86-e21e-4c81-950b-2666932380c7",
   "metadata": {},
   "outputs": [
    {
     "data": {
      "text/html": [
       "<div>\n",
       "<style scoped>\n",
       "    .dataframe tbody tr th:only-of-type {\n",
       "        vertical-align: middle;\n",
       "    }\n",
       "\n",
       "    .dataframe tbody tr th {\n",
       "        vertical-align: top;\n",
       "    }\n",
       "\n",
       "    .dataframe thead th {\n",
       "        text-align: right;\n",
       "    }\n",
       "</style>\n",
       "<table border=\"1\" class=\"dataframe\">\n",
       "  <thead>\n",
       "    <tr style=\"text-align: right;\">\n",
       "      <th></th>\n",
       "      <th>Unnamed: 0</th>\n",
       "      <th>src</th>\n",
       "      <th>hyp</th>\n",
       "      <th>ref</th>\n",
       "      <th>score</th>\n",
       "      <th>comscores</th>\n",
       "      <th>posthoc</th>\n",
       "    </tr>\n",
       "  </thead>\n",
       "  <tbody>\n",
       "    <tr>\n",
       "      <th>0</th>\n",
       "      <td>0</td>\n",
       "      <td>Après tout, en tant que journaliste d'investig...</td>\n",
       "      <td>After all, as an investigative reporter in the...</td>\n",
       "      <td>After all, as a campaigning investigative jour...</td>\n",
       "      <td>0.423756</td>\n",
       "      <td>0.001024</td>\n",
       "      <td>0.534086</td>\n",
       "    </tr>\n",
       "    <tr>\n",
       "      <th>1</th>\n",
       "      <td>1</td>\n",
       "      <td>Après tout, en tant que journaliste d'investig...</td>\n",
       "      <td>After all, as a field investigative journalist...</td>\n",
       "      <td>After all, as a campaigning investigative jour...</td>\n",
       "      <td>0.500724</td>\n",
       "      <td>0.187095</td>\n",
       "      <td>0.493034</td>\n",
       "    </tr>\n",
       "    <tr>\n",
       "      <th>2</th>\n",
       "      <td>2</td>\n",
       "      <td>Après tout, en tant que journaliste d'investig...</td>\n",
       "      <td>After all, as an investigative reporter in the...</td>\n",
       "      <td>After all, as a campaigning investigative jour...</td>\n",
       "      <td>0.377539</td>\n",
       "      <td>0.009930</td>\n",
       "      <td>0.544490</td>\n",
       "    </tr>\n",
       "    <tr>\n",
       "      <th>3</th>\n",
       "      <td>3</td>\n",
       "      <td>Après tout, en tant que journaliste d'investig...</td>\n",
       "      <td>After all, as a journalist investigating the c...</td>\n",
       "      <td>After all, as a campaigning investigative jour...</td>\n",
       "      <td>0.240281</td>\n",
       "      <td>0.006175</td>\n",
       "      <td>0.509931</td>\n",
       "    </tr>\n",
       "    <tr>\n",
       "      <th>4</th>\n",
       "      <td>4</td>\n",
       "      <td>Après tout, en tant que journaliste d'investig...</td>\n",
       "      <td>After all, as a journalist investigating in th...</td>\n",
       "      <td>After all, as a campaigning investigative jour...</td>\n",
       "      <td>0.253478</td>\n",
       "      <td>0.000042</td>\n",
       "      <td>0.760619</td>\n",
       "    </tr>\n",
       "    <tr>\n",
       "      <th>...</th>\n",
       "      <td>...</td>\n",
       "      <td>...</td>\n",
       "      <td>...</td>\n",
       "      <td>...</td>\n",
       "      <td>...</td>\n",
       "      <td>...</td>\n",
       "      <td>...</td>\n",
       "    </tr>\n",
       "    <tr>\n",
       "      <th>309135</th>\n",
       "      <td>309135</td>\n",
       "      <td>De grosses erreurs ont été commises qui ont en...</td>\n",
       "      <td>Large errors were committed which further fuel...</td>\n",
       "      <td>Big mistakes were made, fueling further violen...</td>\n",
       "      <td>0.798258</td>\n",
       "      <td>0.331076</td>\n",
       "      <td>0.684784</td>\n",
       "    </tr>\n",
       "    <tr>\n",
       "      <th>309136</th>\n",
       "      <td>309136</td>\n",
       "      <td>De grosses erreurs ont été commises qui ont en...</td>\n",
       "      <td>Major mistakes were made and the violence was ...</td>\n",
       "      <td>Big mistakes were made, fueling further violen...</td>\n",
       "      <td>0.803969</td>\n",
       "      <td>0.414651</td>\n",
       "      <td>0.797772</td>\n",
       "    </tr>\n",
       "    <tr>\n",
       "      <th>309137</th>\n",
       "      <td>309137</td>\n",
       "      <td>De grosses erreurs ont été commises qui ont en...</td>\n",
       "      <td>Big mistakes have been made and the violence c...</td>\n",
       "      <td>Big mistakes were made, fueling further violen...</td>\n",
       "      <td>0.747567</td>\n",
       "      <td>0.365663</td>\n",
       "      <td>0.942066</td>\n",
       "    </tr>\n",
       "    <tr>\n",
       "      <th>309138</th>\n",
       "      <td>309138</td>\n",
       "      <td>De grosses erreurs ont été commises qui ont en...</td>\n",
       "      <td>Big mistakes have been made and they have furt...</td>\n",
       "      <td>Big mistakes were made, fueling further violen...</td>\n",
       "      <td>0.864925</td>\n",
       "      <td>0.487513</td>\n",
       "      <td>0.732962</td>\n",
       "    </tr>\n",
       "    <tr>\n",
       "      <th>309139</th>\n",
       "      <td>309139</td>\n",
       "      <td>De grosses erreurs ont été commises qui ont en...</td>\n",
       "      <td>Big mistakes were made, fueling further violen...</td>\n",
       "      <td>Big mistakes were made, fueling further violen...</td>\n",
       "      <td>1.137886</td>\n",
       "      <td>0.431999</td>\n",
       "      <td>1.575130</td>\n",
       "    </tr>\n",
       "  </tbody>\n",
       "</table>\n",
       "<p>309140 rows × 7 columns</p>\n",
       "</div>"
      ],
      "text/plain": [
       "        Unnamed: 0                                                src  \\\n",
       "0                0  Après tout, en tant que journaliste d'investig...   \n",
       "1                1  Après tout, en tant que journaliste d'investig...   \n",
       "2                2  Après tout, en tant que journaliste d'investig...   \n",
       "3                3  Après tout, en tant que journaliste d'investig...   \n",
       "4                4  Après tout, en tant que journaliste d'investig...   \n",
       "...            ...                                                ...   \n",
       "309135      309135  De grosses erreurs ont été commises qui ont en...   \n",
       "309136      309136  De grosses erreurs ont été commises qui ont en...   \n",
       "309137      309137  De grosses erreurs ont été commises qui ont en...   \n",
       "309138      309138  De grosses erreurs ont été commises qui ont en...   \n",
       "309139      309139  De grosses erreurs ont été commises qui ont en...   \n",
       "\n",
       "                                                      hyp  \\\n",
       "0       After all, as an investigative reporter in the...   \n",
       "1       After all, as a field investigative journalist...   \n",
       "2       After all, as an investigative reporter in the...   \n",
       "3       After all, as a journalist investigating the c...   \n",
       "4       After all, as a journalist investigating in th...   \n",
       "...                                                   ...   \n",
       "309135  Large errors were committed which further fuel...   \n",
       "309136  Major mistakes were made and the violence was ...   \n",
       "309137  Big mistakes have been made and the violence c...   \n",
       "309138  Big mistakes have been made and they have furt...   \n",
       "309139  Big mistakes were made, fueling further violen...   \n",
       "\n",
       "                                                      ref     score  \\\n",
       "0       After all, as a campaigning investigative jour...  0.423756   \n",
       "1       After all, as a campaigning investigative jour...  0.500724   \n",
       "2       After all, as a campaigning investigative jour...  0.377539   \n",
       "3       After all, as a campaigning investigative jour...  0.240281   \n",
       "4       After all, as a campaigning investigative jour...  0.253478   \n",
       "...                                                   ...       ...   \n",
       "309135  Big mistakes were made, fueling further violen...  0.798258   \n",
       "309136  Big mistakes were made, fueling further violen...  0.803969   \n",
       "309137  Big mistakes were made, fueling further violen...  0.747567   \n",
       "309138  Big mistakes were made, fueling further violen...  0.864925   \n",
       "309139  Big mistakes were made, fueling further violen...  1.137886   \n",
       "\n",
       "        comscores   posthoc  \n",
       "0        0.001024  0.534086  \n",
       "1        0.187095  0.493034  \n",
       "2        0.009930  0.544490  \n",
       "3        0.006175  0.509931  \n",
       "4        0.000042  0.760619  \n",
       "...           ...       ...  \n",
       "309135   0.331076  0.684784  \n",
       "309136   0.414651  0.797772  \n",
       "309137   0.365663  0.942066  \n",
       "309138   0.487513  0.732962  \n",
       "309139   0.431999  1.575130  \n",
       "\n",
       "[309140 rows x 7 columns]"
      ]
     },
     "execution_count": 81,
     "metadata": {},
     "output_type": "execute_result"
    }
   ],
   "source": [
    "alldf"
   ]
  },
  {
   "cell_type": "code",
   "execution_count": 82,
   "id": "fe10bb4a-76b0-4ffd-af5d-7ad859d86a51",
   "metadata": {},
   "outputs": [],
   "source": [
    "sorted3 = alldf.sort_values(['ref', 'score']).reset_index().drop(columns=['index', 'Unnamed: 0'])\n",
    "sorted3 = sorted3[sorted3[\"src\"].str.contains(\"&#\")==False]\n",
    "sorted3 = sorted3[sorted3['src'].str.len()>40]\n",
    "sorted3 = sorted3[sorted3['ref'].str.len()>40]"
   ]
  },
  {
   "cell_type": "code",
   "execution_count": 83,
   "id": "13043736-015b-4143-a38a-6d4876d63f0e",
   "metadata": {},
   "outputs": [
    {
     "data": {
      "text/html": [
       "<div>\n",
       "<style scoped>\n",
       "    .dataframe tbody tr th:only-of-type {\n",
       "        vertical-align: middle;\n",
       "    }\n",
       "\n",
       "    .dataframe tbody tr th {\n",
       "        vertical-align: top;\n",
       "    }\n",
       "\n",
       "    .dataframe thead th {\n",
       "        text-align: right;\n",
       "    }\n",
       "</style>\n",
       "<table border=\"1\" class=\"dataframe\">\n",
       "  <thead>\n",
       "    <tr style=\"text-align: right;\">\n",
       "      <th></th>\n",
       "      <th>src</th>\n",
       "      <th>hyp</th>\n",
       "      <th>ref</th>\n",
       "      <th>score</th>\n",
       "      <th>comscores</th>\n",
       "      <th>posthoc</th>\n",
       "    </tr>\n",
       "  </thead>\n",
       "  <tbody>\n",
       "    <tr>\n",
       "      <th>0</th>\n",
       "      <td>« La médecine clinique est-elle corrompue ? » ...</td>\n",
       "      <td>\"Is clinical medicine corrupt?\" asked an edito...</td>\n",
       "      <td>\"Just how tainted has clinical medicine become...</td>\n",
       "      <td>0.104513</td>\n",
       "      <td>0.290672</td>\n",
       "      <td>0.564603</td>\n",
       "    </tr>\n",
       "    <tr>\n",
       "      <th>1</th>\n",
       "      <td>« La médecine clinique est-elle corrompue ? » ...</td>\n",
       "      <td>\"Is clinical medicine corrupt?\" asked an edito...</td>\n",
       "      <td>\"Just how tainted has clinical medicine become...</td>\n",
       "      <td>0.152255</td>\n",
       "      <td>0.299467</td>\n",
       "      <td>0.566226</td>\n",
       "    </tr>\n",
       "    <tr>\n",
       "      <th>2</th>\n",
       "      <td>« La médecine clinique est-elle corrompue ? » ...</td>\n",
       "      <td>\"Is clinical medicine corrupt?\" an editorial i...</td>\n",
       "      <td>\"Just how tainted has clinical medicine become...</td>\n",
       "      <td>0.178602</td>\n",
       "      <td>0.273248</td>\n",
       "      <td>0.531792</td>\n",
       "    </tr>\n",
       "    <tr>\n",
       "      <th>3</th>\n",
       "      <td>« La médecine clinique est-elle corrompue ? » ...</td>\n",
       "      <td>\"Is clinical medicine corrupt?\" asked an edito...</td>\n",
       "      <td>\"Just how tainted has clinical medicine become...</td>\n",
       "      <td>0.183225</td>\n",
       "      <td>0.298458</td>\n",
       "      <td>0.597017</td>\n",
       "    </tr>\n",
       "  </tbody>\n",
       "</table>\n",
       "</div>"
      ],
      "text/plain": [
       "                                                 src  \\\n",
       "0  « La médecine clinique est-elle corrompue ? » ...   \n",
       "1  « La médecine clinique est-elle corrompue ? » ...   \n",
       "2  « La médecine clinique est-elle corrompue ? » ...   \n",
       "3  « La médecine clinique est-elle corrompue ? » ...   \n",
       "\n",
       "                                                 hyp  \\\n",
       "0  \"Is clinical medicine corrupt?\" asked an edito...   \n",
       "1  \"Is clinical medicine corrupt?\" asked an edito...   \n",
       "2  \"Is clinical medicine corrupt?\" an editorial i...   \n",
       "3  \"Is clinical medicine corrupt?\" asked an edito...   \n",
       "\n",
       "                                                 ref     score  comscores  \\\n",
       "0  \"Just how tainted has clinical medicine become...  0.104513   0.290672   \n",
       "1  \"Just how tainted has clinical medicine become...  0.152255   0.299467   \n",
       "2  \"Just how tainted has clinical medicine become...  0.178602   0.273248   \n",
       "3  \"Just how tainted has clinical medicine become...  0.183225   0.298458   \n",
       "\n",
       "    posthoc  \n",
       "0  0.564603  \n",
       "1  0.566226  \n",
       "2  0.531792  \n",
       "3  0.597017  "
      ]
     },
     "execution_count": 83,
     "metadata": {},
     "output_type": "execute_result"
    }
   ],
   "source": [
    "#sorted3.to_csv(\"processeddata/cpfdata0\")\n",
    "stind = 9\n",
    "sorted3[:4]"
   ]
  },
  {
   "cell_type": "code",
   "execution_count": 84,
   "id": "8e382e31-5a97-4bbb-9944-030b227d6450",
   "metadata": {},
   "outputs": [],
   "source": [
    "sorted3['weighted'] = (-1.25)*sorted3['posthoc']+(0.9)*sorted3['comscores']"
   ]
  },
  {
   "cell_type": "code",
   "execution_count": 85,
   "id": "9b2f4f26-6305-4f95-a617-513f80cc2930",
   "metadata": {},
   "outputs": [],
   "source": [
    "# go through dataframe, get sets of size BATCH that are ranked by score\n",
    "dlists = []\n",
    "prevs = sorted3['src'].iloc[0]\n",
    "sofar = []\n",
    "for index, row in sorted3.iterrows():\n",
    "    if row['src']==prevs:\n",
    "        sofar.append(row)\n",
    "    else:\n",
    "        dlists.append(sofar)\n",
    "        sofar = []\n",
    "        prevs = row['src']"
   ]
  },
  {
   "cell_type": "code",
   "execution_count": 86,
   "id": "14e7897b-f48d-4919-8c01-6eefa2c439d8",
   "metadata": {},
   "outputs": [
    {
     "data": {
      "text/plain": [
       "4587"
      ]
     },
     "execution_count": 86,
     "metadata": {},
     "output_type": "execute_result"
    }
   ],
   "source": [
    "len(dlists)"
   ]
  },
  {
   "cell_type": "code",
   "execution_count": 87,
   "id": "21ba8908-c845-4912-b923-2d485dc29fcf",
   "metadata": {},
   "outputs": [],
   "source": [
    "# get the last 90% as set to work with\n",
    "dls = dlists[:int(len(dlists)/10)]"
   ]
  },
  {
   "cell_type": "code",
   "execution_count": 88,
   "id": "63874e51-fe5a-4ca1-9e84-d5b8ce20d1ba",
   "metadata": {},
   "outputs": [],
   "source": [
    "allvals = []\n",
    "for d in dls:\n",
    "    allvals.extend(d)"
   ]
  },
  {
   "cell_type": "code",
   "execution_count": 89,
   "id": "1ca10ad6-ac72-4443-b2a3-d7e41d44fb66",
   "metadata": {},
   "outputs": [],
   "source": [
    "import random"
   ]
  },
  {
   "cell_type": "code",
   "execution_count": null,
   "id": "f0990b05-3a04-49d7-bd0f-9a771a947a28",
   "metadata": {},
   "outputs": [],
   "source": [
    "batch = 32\n",
    "# sample from stuff, 32 at a time\n",
    "def get_samples(dlist, best, batch):\n",
    "    nbatches = int(len(dlist)/batch)+1\n",
    "    res = []\n",
    "    for i in range(nbatches):\n",
    "        print(len(dlist))\n",
    "        # get a random sorted sample, make sure best is in each batch\n",
    "        indices = random.sample(range(len(dlist)), batch-1)\n",
    "        res.append([dlist[i] for i in sorted(indices)]+[best])\n",
    "    return res\n",
    "\n",
    "def all_samples(dls, batch):\n",
    "    done = []\n",
    "    for d in dls:\n",
    "        done.extend(get_samples(d[:-1], d[-1], batch))\n",
    "    return done\n",
    "\n",
    "asamps = all_samples(dls, 32)"
   ]
  },
  {
   "cell_type": "code",
   "execution_count": 91,
   "id": "8a10d548-b10a-4dee-81f1-9a1e566260f4",
   "metadata": {},
   "outputs": [],
   "source": [
    "random.shuffle(asamps)"
   ]
  },
  {
   "cell_type": "code",
   "execution_count": 92,
   "id": "98760b9f-95a4-4523-a063-83e96237a0c2",
   "metadata": {},
   "outputs": [],
   "source": [
    "done = []\n",
    "for a in asamps:\n",
    "    done.extend(a)"
   ]
  },
  {
   "cell_type": "code",
   "execution_count": 93,
   "id": "0a161adb-f536-4d9d-a683-3dc8b8efca7e",
   "metadata": {},
   "outputs": [],
   "source": [
    "done = pd.DataFrame(done)"
   ]
  },
  {
   "cell_type": "code",
   "execution_count": 94,
   "id": "b6162d52-44f2-4f79-9fe6-22e0c7b4338c",
   "metadata": {},
   "outputs": [],
   "source": [
    "done = done.reset_index().drop(columns= ['index'])"
   ]
  },
  {
   "cell_type": "code",
   "execution_count": 36,
   "id": "a4b68d5c-3664-4105-af4c-929c771e09e4",
   "metadata": {},
   "outputs": [
    {
     "data": {
      "text/plain": [
       "src          But that seems unlikely: since the Democrats’ ...\n",
       "hyp          Aber das scheint unwahrscheinlich: Seit der gr...\n",
       "ref          Aber das scheint unwahrscheinlich: Seit der gr...\n",
       "score                                                 0.835206\n",
       "comscores                                             0.560319\n",
       "posthoc                                                5.20967\n",
       "weighted                                               -6.0078\n",
       "Name: 63, dtype: object"
      ]
     },
     "execution_count": 36,
     "metadata": {},
     "output_type": "execute_result"
    }
   ],
   "source": [
    "done.loc[31+32]"
   ]
  },
  {
   "cell_type": "code",
   "execution_count": 95,
   "id": "e7f350f2-6407-464a-ad05-4d71433f4c49",
   "metadata": {},
   "outputs": [],
   "source": [
    "MAXTOKS =512\n",
    "# construct inputs from dataframe\n",
    "def get_inputs(inpdf):\n",
    "    xinp = []\n",
    "    yinp = []\n",
    "    maskinp = []\n",
    "    \n",
    "    for index, row in inpdf.iterrows():\n",
    "        if index%1000==0:\n",
    "            print(index)\n",
    "        #print(row['c1'], row['c2'])\n",
    "        # will need to make a custom mask (maybe) so that inputs from both languages are encoded separately\n",
    "        toktmp = xlm_tok(row['src']).input_ids\n",
    "        lent = len(toktmp)\n",
    "        hyptmp = xlm_tok(row['hyp']).input_ids\n",
    "        toktmp.extend(hyptmp)\n",
    "        tlen = min(len(toktmp), MAXTOKS)\n",
    "        toktmp = toktmp[:tlen]\n",
    "        mask = torch.ones(tlen, tlen)\n",
    "        # should set upper left and bottom right quadrants to 1, mask other stuff\n",
    "        # TODO make different types of masks. \n",
    "        # make causal encoder-decoder mask\n",
    "        mask[:lent, lent:] = 0\n",
    "        mask[lent:, lent:] = torch.tril(mask[lent:, lent:])\n",
    "        xinp.append(toktmp)\n",
    "        maskinp.append(mask)\n",
    "        yinp.append(row['score'])\n",
    "    return xinp, yinp, maskinp"
   ]
  },
  {
   "cell_type": "code",
   "execution_count": 96,
   "id": "36fa1228-da1f-4d64-8058-1c9c27abcdb4",
   "metadata": {},
   "outputs": [
    {
     "name": "stdout",
     "output_type": "stream",
     "text": [
      "0\n",
      "1000\n",
      "2000\n",
      "3000\n",
      "4000\n",
      "5000\n",
      "6000\n",
      "7000\n",
      "8000\n",
      "9000\n",
      "10000\n"
     ]
    },
    {
     "name": "stderr",
     "output_type": "stream",
     "text": [
      "Token indices sequence length is longer than the specified maximum sequence length for this model (789 > 512). Running this sequence through the model will result in indexing errors\n"
     ]
    },
    {
     "name": "stdout",
     "output_type": "stream",
     "text": [
      "11000\n",
      "12000\n",
      "13000\n",
      "14000\n",
      "15000\n",
      "16000\n",
      "17000\n",
      "18000\n",
      "19000\n",
      "20000\n",
      "21000\n",
      "22000\n",
      "23000\n",
      "24000\n",
      "25000\n",
      "26000\n",
      "27000\n",
      "28000\n",
      "29000\n"
     ]
    }
   ],
   "source": [
    "xdata, ydata, mdata = get_inputs(done)"
   ]
  },
  {
   "cell_type": "code",
   "execution_count": 39,
   "id": "4f1b777a-2c47-4853-b65e-a27602e67567",
   "metadata": {},
   "outputs": [],
   "source": [
    "bigloader = DataLoader(RegressionDataset(xdata, ydata, mdata), batch_size=32, shuffle=False, collate_fn=collate_custom)"
   ]
  },
  {
   "cell_type": "code",
   "execution_count": 39,
   "id": "fd7bf22f-646d-484f-9c71-b090beba71ea",
   "metadata": {},
   "outputs": [],
   "source": [
    "iterbig = iter(bigloader)"
   ]
  },
  {
   "cell_type": "code",
   "execution_count": 40,
   "id": "ba600370-c398-4b20-ad8a-ad747b7b2b88",
   "metadata": {},
   "outputs": [],
   "source": [
    "inext = iterbig.next()"
   ]
  },
  {
   "cell_type": "code",
   "execution_count": 41,
   "id": "c2b5dec7-4f06-42e0-94ad-384b04ffb992",
   "metadata": {},
   "outputs": [
    {
     "data": {
      "text/plain": [
       "'<s> Après tout, les taux d’intérêt en Europe du Sud dépassaient largement les 10 % au cours de la décennie précédant l’introduction de l’euro.</s><s> After all, interest rates in southern Europe far exceeded 10% in the decade leading up to the euro.</s><s><s><s><s><s>'"
      ]
     },
     "execution_count": 41,
     "metadata": {},
     "output_type": "execute_result"
    }
   ],
   "source": [
    "xlm_tok.decode(inext[0][0])"
   ]
  },
  {
   "cell_type": "code",
   "execution_count": 65,
   "id": "9b170d24-f7cc-4fef-b250-c72877fc86d5",
   "metadata": {},
   "outputs": [],
   "source": [
    "srcs = list(set(done['src']))"
   ]
  },
  {
   "cell_type": "code",
   "execution_count": 66,
   "id": "168766bd-3b6c-4ac9-aadf-5711f2afab52",
   "metadata": {},
   "outputs": [
    {
     "data": {
      "text/plain": [
       "1042"
      ]
     },
     "execution_count": 66,
     "metadata": {},
     "output_type": "execute_result"
    }
   ],
   "source": [
    "len(srcs)"
   ]
  },
  {
   "cell_type": "code",
   "execution_count": 69,
   "id": "ea42a977-db7c-485f-8ab3-ff03eaa55e1b",
   "metadata": {},
   "outputs": [],
   "source": [
    "import flatten_lattice as fl\n",
    "import os"
   ]
  },
  {
   "cell_type": "code",
   "execution_count": 102,
   "id": "b92f64da-92f9-4b03-990a-23b37a72530c",
   "metadata": {},
   "outputs": [
    {
     "data": {
      "text/plain": [
       "3027"
      ]
     },
     "execution_count": 102,
     "metadata": {},
     "output_type": "execute_result"
    }
   ],
   "source": [
    "len(os.listdir(fren))"
   ]
  },
  {
   "cell_type": "code",
   "execution_count": 97,
   "id": "78cc5ba9-1512-482b-ace6-9cd1fda0d211",
   "metadata": {},
   "outputs": [],
   "source": [
    "done.to_csv(\"french_test.csv\")"
   ]
  },
  {
   "cell_type": "code",
   "execution_count": 101,
   "id": "a9e4ff73-92db-4a8e-bbb9-25da8fddd9e4",
   "metadata": {},
   "outputs": [],
   "source": [
    "ende = \"custom_output/data/mt1n_en-de_bfs_recom_4_80_False_0.4_True_False_4_5_rcb_0.904_0.0_0.9/\"\n",
    "fren = \"custom_output/data/mtn1_fr-en_bfs_recom_4_-1_False_0.4_True_False_4_5_rcb_0.903_0.0_0.9/\"\n",
    "def lattice_test_names(folder, srcnames):\n",
    "    for name in os.listdir(folder):\n",
    "        g = pickle.load(open(folder+name))\n",
    "        "
   ]
  },
  {
   "cell_type": "code",
   "execution_count": 71,
   "id": "b67b30c3-5acc-4c1c-9d2b-8f178ef1d538",
   "metadata": {},
   "outputs": [
    {
     "data": {
      "text/plain": [
       "11577"
      ]
     },
     "execution_count": 71,
     "metadata": {},
     "output_type": "execute_result"
    }
   ],
   "source": [
    "l = os.listdir(\"custom_output/data/mt1n_en-de_bfs_recom_4_80_False_0.4_True_False_4_5_rcb_0.904_0.0_0.9\")\n",
    "len(l)"
   ]
  },
  {
   "cell_type": "code",
   "execution_count": 76,
   "id": "f2608422-b5eb-4dcb-b2d8-e27ccc1783a5",
   "metadata": {},
   "outputs": [
    {
     "data": {
      "text/plain": [
       "'custom_output/data/mt1n_en-de_bfs_recom_4_80_False_0.4_True_False_4_5_rcb_0.904_0.0_0.9/mt1n_en-de_bfs_recom_4_80_False_0.4_True_False_4_5_rcb_0.904_0.0_0.9_305_But-it-is-.pkl'"
      ]
     },
     "execution_count": 76,
     "metadata": {},
     "output_type": "execute_result"
    }
   ],
   "source": [
    "ende+os.listdir(ende)[0]"
   ]
  },
  {
   "cell_type": "code",
   "execution_count": 78,
   "id": "6634941a-6ac6-4960-b84c-3727a5aa1cb2",
   "metadata": {},
   "outputs": [
    {
     "name": "stderr",
     "output_type": "stream",
     "text": [
      "usage: ipykernel_launcher.py [-h] [-exploded EXPLODED] [-device DEVICE]\n",
      "                             [-model {dbs,bs,greedy,topp,temp,bs_recom,sample_recom,bfs,bfs_recom}]\n",
      "                             [-beam_size BEAM_SIZE] [-nexample NEXAMPLE]\n",
      "                             [-task {sum,mt1n,mtn1,custom}] [-dataset DATASET]\n",
      "                             [-hf_model_name HF_MODEL_NAME]\n",
      "                             [-path_output PATH_OUTPUT] [-top_p TOP_P]\n",
      "                             [-temp TEMP] [-beam_group BEAM_GROUP]\n",
      "                             [-hamming_penalty HAMMING_PENALTY]\n",
      "                             [-extra_steps EXTRA_STEPS] [-min_len MIN_LEN]\n",
      "                             [-max_len MAX_LEN]\n",
      "                             [-num_beam_hyps_to_keep NUM_BEAM_HYPS_TO_KEEP]\n",
      "                             [-ngram_suffix NGRAM_SUFFIX] [-len_diff LEN_DIFF]\n",
      "                             [-k_best K_BEST] [-avg_score AVG_SCORE]\n",
      "                             [-use_heu [USE_HEU]] [-post [POST]]\n",
      "                             [-dfs_expand [DFS_EXPAND]]\n",
      "                             [-post_ratio POST_RATIO]\n",
      "                             [-heu_seq_score HEU_SEQ_SCORE]\n",
      "                             [-heu_seq_score_len_rwd HEU_SEQ_SCORE_LEN_RWD]\n",
      "                             [-heu_pos HEU_POS] [-heu_ent HEU_ENT]\n",
      "                             [-heu_word HEU_WORD] [-merge {zip,rcb,none}]\n",
      "ipykernel_launcher.py: error: unrecognized arguments: -f /home/prasann/.local/share/jupyter/runtime/kernel-c7da4496-5b5d-4dd0-a419-b551d1cc1c91.json\n"
     ]
    },
    {
     "ename": "SystemExit",
     "evalue": "2",
     "output_type": "error",
     "traceback": [
      "An exception has occurred, use %tb to see the full traceback.\n",
      "\u001b[0;31mSystemExit\u001b[0m\u001b[0;31m:\u001b[0m 2\n"
     ]
    }
   ],
   "source": [
    "g = pickle.load(open(ende+os.listdir(ende)[0], 'rb'))"
   ]
  },
  {
   "cell_type": "code",
   "execution_count": 77,
   "id": "6c2a00cc-0e95-4166-b7a1-63a69e3f72fe",
   "metadata": {},
   "outputs": [
    {
     "ename": "NameError",
     "evalue": "name 'g' is not defined",
     "output_type": "error",
     "traceback": [
      "\u001b[0;31m---------------------------------------------------------------------------\u001b[0m",
      "\u001b[0;31mNameError\u001b[0m                                 Traceback (most recent call last)",
      "Input \u001b[0;32mIn [77]\u001b[0m, in \u001b[0;36m<module>\u001b[0;34m\u001b[0m\n\u001b[0;32m----> 1\u001b[0m \u001b[43mg\u001b[49m\n",
      "\u001b[0;31mNameError\u001b[0m: name 'g' is not defined"
     ]
    }
   ],
   "source": [
    "g"
   ]
  },
  {
   "cell_type": "code",
   "execution_count": 40,
   "id": "8b6bc26b-230b-44b7-ace6-d7ef7ddacf35",
   "metadata": {},
   "outputs": [
    {
     "name": "stdout",
     "output_type": "stream",
     "text": [
      "100\n",
      "200\n",
      "300\n",
      "400\n",
      "500\n",
      "600\n",
      "700\n",
      "800\n",
      "900\n",
      "1000\n"
     ]
    }
   ],
   "source": [
    "loss = evaluate(model, nomarg_rank_loss, bigloader, device)"
   ]
  },
  {
   "cell_type": "code",
   "execution_count": null,
   "id": "d83e3f92-ad26-4ef9-9131-8f006bb3b70f",
   "metadata": {},
   "outputs": [],
   "source": [
    "loss[1]"
   ]
  },
  {
   "cell_type": "code",
   "execution_count": 41,
   "id": "de863d80-86aa-4da2-95aa-b730e01064a6",
   "metadata": {},
   "outputs": [],
   "source": [
    "import pickle"
   ]
  },
  {
   "cell_type": "code",
   "execution_count": 27,
   "id": "d85322e1-18d0-4d58-9614-d069287a304d",
   "metadata": {},
   "outputs": [],
   "source": [
    "with open(\"testpreds.pkl\", \"wb\") as f:\n",
    "    pickle.dump(loss, f)"
   ]
  },
  {
   "cell_type": "code",
   "execution_count": 42,
   "id": "cc262d23-e982-4b2b-b93a-04e165c897d2",
   "metadata": {},
   "outputs": [],
   "source": [
    "allpreds = []\n",
    "for l in loss[1]:\n",
    "    allpreds.extend(l)"
   ]
  },
  {
   "cell_type": "code",
   "execution_count": 43,
   "id": "909127a7-f053-4305-a935-c32571b5fcd5",
   "metadata": {},
   "outputs": [],
   "source": [
    "avals = [a['score'] for a in allvals]"
   ]
  },
  {
   "cell_type": "code",
   "execution_count": 45,
   "id": "79e3ff18-e2c7-4e9f-9206-bcb30975ab6d",
   "metadata": {},
   "outputs": [],
   "source": [
    "lens = [len(d) for d in asamps]"
   ]
  },
  {
   "cell_type": "code",
   "execution_count": 38,
   "id": "b6d95520-0c1d-4c34-bf93-919446a7b78a",
   "metadata": {},
   "outputs": [],
   "source": [
    "avsplit = []\n",
    "apsplit = []\n",
    "cur = 0\n",
    "for l in lens:\n",
    "    avsplit.append(avals[cur:cur+l])\n",
    "    apsplit.append(allpreds[cur:cur+l])\n",
    "    cur = cur+l"
   ]
  },
  {
   "cell_type": "code",
   "execution_count": 46,
   "id": "d56fdfba-1bdc-46a5-905b-65cf3526dbda",
   "metadata": {},
   "outputs": [],
   "source": [
    "import numpy as np\n",
    "import matplotlib.pyplot as plt"
   ]
  },
  {
   "cell_type": "code",
   "execution_count": 47,
   "id": "516e0438-afab-420b-92ca-7a8da7601e3d",
   "metadata": {},
   "outputs": [],
   "source": [
    "tmpsamps = [a[:-1] for a in asamps]"
   ]
  },
  {
   "cell_type": "code",
   "execution_count": 48,
   "id": "351165f3-41ab-4607-9fa8-17c420b85647",
   "metadata": {},
   "outputs": [
    {
     "data": {
      "text/plain": [
       "31"
      ]
     },
     "execution_count": 48,
     "metadata": {},
     "output_type": "execute_result"
    }
   ],
   "source": [
    "len(tmpsamps[3])"
   ]
  },
  {
   "cell_type": "code",
   "execution_count": null,
   "id": "59b8c918-4542-46ec-bc15-accd0ef97027",
   "metadata": {},
   "outputs": [],
   "source": [
    "# get stuff using our lattice encoding pipeline\n"
   ]
  },
  {
   "cell_type": "code",
   "execution_count": 62,
   "id": "ff4f4db1-bd6b-4476-a5b4-1b6ee40191c2",
   "metadata": {},
   "outputs": [],
   "source": [
    "def max_by_metric(metr, samps, ifmax):\n",
    "    mlist = [float(f[metr]) for f in samps]\n",
    "    if ifmax:\n",
    "        index_max = np.argmax(mlist) \n",
    "    else:\n",
    "        index_max = np.argmin(mlist) \n",
    "    return samps[int(index_max)]['score']\n",
    "\n",
    "def update_values(sampstuff):\n",
    "    tot = 0\n",
    "    mval = 0 \n",
    "    cnt = 0\n",
    "    pred_dist = []\n",
    "    gold_dist = []\n",
    "    com_dist = []\n",
    "    ph_dist = []\n",
    "    weight_dist = []\n",
    "    ourweight_dist = []\n",
    "    for i in range(0, len(sampstuff)):\n",
    "        index_max = np.argmax([float(f) for f in loss[1][i][:len(sampstuff[i])]])\n",
    "        pred_dist.append(sampstuff[i][int(index_max)]['score'])\n",
    "        tmpw = [float(loss[1][i][j])*0.9+sampstuff[i][j]['posthoc']*(-.5) for j in range(len(sampstuff[i]))]\n",
    "        index_max = np.argmax(tmpw)\n",
    "        ourweight_dist.append(sampstuff[i][int(index_max)]['score'])\n",
    "        tot+=pred_dist[-1]\n",
    "        m = -5\n",
    "        for val in sampstuff[i]:\n",
    "            m = max(m, val['score'])\n",
    "        com_dist.append(max_by_metric('comscores', sampstuff[i], True))\n",
    "        ph_dist.append(max_by_metric('posthoc', sampstuff[i], False))\n",
    "        weight_dist.append(max_by_metric('weighted', sampstuff[i], True))\n",
    "        gold_dist.append(m)\n",
    "        mval+=m\n",
    "        cnt+=1\n",
    "    print(\"Our model \", tot/cnt)\n",
    "    print(\"Gold \", mval/cnt)\n",
    "    print(\"Just COMET\", sum(weight_dist)/len(weight_dist))\n",
    "    print(\"Just post-hoc\", sum(ph_dist)/len(ph_dist))\n",
    "    print(\"Weighted COMET+post-hoc\", sum(com_dist)/len(com_dist))\n",
    "    print(\"Our weighted \", sum(ourweight_dist)/len(ourweight_dist))\n",
    "    "
   ]
  },
  {
   "cell_type": "code",
   "execution_count": 103,
   "id": "9815071a-ca86-4ae4-93fb-ed0f57d8b22e",
   "metadata": {},
   "outputs": [
    {
     "name": "stdout",
     "output_type": "stream",
     "text": [
      "Our model  0.3314042544963317\n",
      "Gold  0.6495842319274538\n",
      "Just COMET 0.47004136759891085\n",
      "Just post-hoc 0.40897692126340734\n",
      "Weighted COMET+post-hoc 0.5748562992975639\n",
      "Our weighted  0.40923807891120173\n"
     ]
    }
   ],
   "source": [
    "update_values(tmpsamps)"
   ]
  },
  {
   "cell_type": "code",
   "execution_count": 109,
   "id": "573f4f98-b09b-454e-90f9-bea625be0899",
   "metadata": {},
   "outputs": [],
   "source": [
    "res = []\n",
    "for lo in loss[1]:\n",
    "    for l in lo:\n",
    "        res.append(float(l))"
   ]
  },
  {
   "cell_type": "code",
   "execution_count": 110,
   "id": "a3b1a894-61cc-4e77-becc-da8270b15e1f",
   "metadata": {},
   "outputs": [
    {
     "data": {
      "text/plain": [
       "(array([6.0840e+03, 1.3725e+04, 9.4040e+03, 3.7160e+03, 1.3470e+03,\n",
       "        2.5100e+02, 6.4000e+01, 1.5000e+01, 1.5000e+01, 3.0000e+00]),\n",
       " array([0.44550452, 0.44874629, 0.45198807, 0.45522984, 0.45847161,\n",
       "        0.46171339, 0.46495516, 0.46819694, 0.47143871, 0.47468049,\n",
       "        0.47792226]),\n",
       " <BarContainer object of 10 artists>)"
      ]
     },
     "execution_count": 110,
     "metadata": {},
     "output_type": "execute_result"
    },
    {
     "data": {
      "image/png": "[encoded data removed]",
      "text/plain": [
       "<Figure size 432x288 with 1 Axes>"
      ]
     },
     "metadata": {
      "needs_background": "light"
     },
     "output_type": "display_data"
    }
   ],
   "source": [
    "plt.hist(res)"
   ]
  },
  {
   "cell_type": "code",
   "execution_count": 117,
   "id": "d6168353-74ea-4124-9397-149c5795e223",
   "metadata": {},
   "outputs": [],
   "source": [
    "for alist in tmpsamps:\n",
    "    for a in alist:\n",
    "        a['weighted'] = (-1.25)*a['posthoc']+(1)*a['comscores']"
   ]
  },
  {
   "cell_type": "code",
   "execution_count": 102,
   "id": "54573a82-5c9e-4e8e-bdc5-a010052fc6fc",
   "metadata": {},
   "outputs": [],
   "source": [
    "#sorted3['weighted'] = (-1.25)*sorted3['posthoc']+(.9)*sorted3['comscores']"
   ]
  },
  {
   "cell_type": "code",
   "execution_count": 57,
   "id": "f34c8540-4c73-4507-9614-aa50feb76ee0",
   "metadata": {},
   "outputs": [
    {
     "data": {
      "text/plain": [
       "0.6869075171600706"
      ]
     },
     "execution_count": 57,
     "metadata": {},
     "output_type": "execute_result"
    }
   ],
   "source": [
    "sum(weight_dist)/len(weight_dist)"
   ]
  },
  {
   "cell_type": "code",
   "execution_count": 94,
   "id": "27cde108-4a12-4916-ad22-e3bcd5efc36b",
   "metadata": {},
   "outputs": [
    {
     "data": {
      "text/plain": [
       "<matplotlib.collections.PathCollection at 0x7f311a85efd0>"
      ]
     },
     "execution_count": 94,
     "metadata": {},
     "output_type": "execute_result"
    },
    {
     "data": {
      "image/png": "[encoded data removed]",
      "text/plain": [
       "<Figure size 432x288 with 1 Axes>"
      ]
     },
     "metadata": {
      "needs_background": "light"
     },
     "output_type": "display_data"
    }
   ],
   "source": [
    "plt.scatter(gold_dist, pred_dist)"
   ]
  },
  {
   "cell_type": "code",
   "execution_count": 95,
   "id": "4c5d7f7d-bf14-4875-86cf-871bcfe4b61f",
   "metadata": {},
   "outputs": [
    {
     "data": {
      "text/plain": [
       "(array([  2.,   1.,   7.,   9.,  15.,  55.,  60., 332., 305., 131.]),\n",
       " array([-0.92208248, -0.70902837, -0.49597425, -0.28292014, -0.06986603,\n",
       "         0.14318809,  0.3562422 ,  0.56929632,  0.78235043,  0.99540455,\n",
       "         1.20845866]),\n",
       " <BarContainer object of 10 artists>)"
      ]
     },
     "execution_count": 95,
     "metadata": {},
     "output_type": "execute_result"
    },
    {
     "data": {
      "image/png": "[encoded data removed]",
      "text/plain": [
       "<Figure size 432x288 with 1 Axes>"
      ]
     },
     "metadata": {
      "needs_background": "light"
     },
     "output_type": "display_data"
    }
   ],
   "source": [
    "plt.hist(pred_dist)"
   ]
  },
  {
   "cell_type": "code",
   "execution_count": 96,
   "id": "edc77acf-5423-4c58-a3a7-f6a31faba388",
   "metadata": {},
   "outputs": [
    {
     "data": {
      "text/plain": [
       "(array([ 14.,  42., 110., 163., 180., 190., 116.,  54.,  36.,  12.]),\n",
       " array([0.85879219, 0.89463915, 0.93048611, 0.96633307, 1.00218003,\n",
       "        1.03802699, 1.07387395, 1.10972091, 1.14556787, 1.18141483,\n",
       "        1.21726179]),\n",
       " <BarContainer object of 10 artists>)"
      ]
     },
     "execution_count": 96,
     "metadata": {},
     "output_type": "execute_result"
    },
    {
     "data": {
      "image/png": "[encoded data removed]",
      "text/plain": [
       "<Figure size 432x288 with 1 Axes>"
      ]
     },
     "metadata": {
      "needs_background": "light"
     },
     "output_type": "display_data"
    }
   ],
   "source": [
    "plt.hist(gold_dist)"
   ]
  },
  {
   "cell_type": "code",
   "execution_count": 42,
   "id": "ca69c1e3-012b-442c-a3a6-f3b54127e723",
   "metadata": {},
   "outputs": [
    {
     "name": "stderr",
     "output_type": "stream",
     "text": [
      "/tmp/ipykernel_2281265/1805698635.py:11: UserWarning: To copy construct from a tensor, it is recommended to use sourceTensor.clone().detach() or sourceTensor.clone().detach().requires_grad_(True), rather than torch.tensor(sourceTensor).\n",
      "  apdistr.append(vtmp[int(torch.argmax(torch.tensor(ptmp)))])\n",
      "/tmp/ipykernel_2281265/1805698635.py:12: UserWarning: To copy construct from a tensor, it is recommended to use sourceTensor.clone().detach() or sourceTensor.clone().detach().requires_grad_(True), rather than torch.tensor(sourceTensor).\n",
      "  avdistr.append(vtmp[int(torch.argmax(torch.tensor(vtmp)))])\n"
     ]
    }
   ],
   "source": [
    "def get_top_avgs():\n",
    "    avdistr = []\n",
    "    apdistr = []\n",
    "    for i in range(len(avsplit)):\n",
    "        try:\n",
    "            vtmp = torch.tensor(avsplit[i])\n",
    "            ptmp = torch.tensor(apsplit[i])\n",
    "            if vtmp[-1]<0.5:\n",
    "                continue\n",
    "            #print(ptmp)\n",
    "            apdistr.append(vtmp[int(torch.argmax(torch.tensor(ptmp)))])\n",
    "            avdistr.append(vtmp[int(torch.argmax(torch.tensor(vtmp)))])\n",
    "        except:\n",
    "            print(\"something wrong\")\n",
    "            print(i)\n",
    "    return avdistr, apdistr\n",
    "\n",
    "av_distr, ap_distr = get_top_avgs()"
   ]
  },
  {
   "cell_type": "code",
   "execution_count": 46,
   "id": "9f68c158-90e4-40df-a074-73db624d3184",
   "metadata": {},
   "outputs": [
    {
     "data": {
      "text/plain": [
       "tensor(0.8024)"
      ]
     },
     "execution_count": 46,
     "metadata": {},
     "output_type": "execute_result"
    }
   ],
   "source": [
    "sum(ap_distr)/len(ap_distr)"
   ]
  },
  {
   "cell_type": "code",
   "execution_count": 47,
   "id": "15d43eac-1081-48f7-9b0b-31a26a7c94b5",
   "metadata": {},
   "outputs": [
    {
     "data": {
      "text/plain": [
       "tensor(0.8291)"
      ]
     },
     "execution_count": 47,
     "metadata": {},
     "output_type": "execute_result"
    }
   ],
   "source": [
    "sum(av_distr)/len(ap_distr)"
   ]
  },
  {
   "cell_type": "code",
   "execution_count": 40,
   "id": "2dbad7f4-d609-45fb-9888-c28bd2d5d523",
   "metadata": {},
   "outputs": [],
   "source": [
    "import matplotlib.pyplot as plt"
   ]
  },
  {
   "cell_type": "code",
   "execution_count": 43,
   "id": "e5f84622-0d4a-41fa-a9e6-588d549df8c0",
   "metadata": {},
   "outputs": [
    {
     "data": {
      "text/plain": [
       "(array([ 2.,  4.,  6., 13., 15.,  3.,  5.,  1.,  0.,  1.]),\n",
       " array([0.49793291, 0.57491657, 0.65190022, 0.72888387, 0.80586753,\n",
       "        0.88285118, 0.95983484, 1.03681849, 1.11380215, 1.1907858 ,\n",
       "        1.26776946]),\n",
       " <BarContainer object of 10 artists>)"
      ]
     },
     "execution_count": 43,
     "metadata": {},
     "output_type": "execute_result"
    },
    {
     "data": {
      "image/png": "[encoded data removed]",
      "text/plain": [
       "<Figure size 432x288 with 1 Axes>"
      ]
     },
     "metadata": {
      "needs_background": "light"
     },
     "output_type": "display_data"
    }
   ],
   "source": [
    "plt.hist([float(f) for f in ap_distr])"
   ]
  },
  {
   "cell_type": "code",
   "execution_count": 120,
   "id": "0bd700a2-73c1-47e0-be3d-d9c70c8ef0d7",
   "metadata": {},
   "outputs": [
    {
     "data": {
      "text/plain": [
       "tensor(0.9036)"
      ]
     },
     "execution_count": 120,
     "metadata": {},
     "output_type": "execute_result"
    }
   ],
   "source": [
    "sum(av_distr) / len(ap_distr)"
   ]
  },
  {
   "cell_type": "code",
   "execution_count": 104,
   "id": "a454d341-5855-4c85-974d-dfac7428efbe",
   "metadata": {},
   "outputs": [
    {
     "data": {
      "text/plain": [
       "(array([2., 4., 0., 4., 1., 1., 0., 1., 1., 1.]),\n",
       " array([0.73842299, 0.78217971, 0.82593644, 0.86969316, 0.91344988,\n",
       "        0.95720661, 1.00096333, 1.04472005, 1.08847678, 1.1322335 ,\n",
       "        1.17599022]),\n",
       " <BarContainer object of 10 artists>)"
      ]
     },
     "execution_count": 104,
     "metadata": {},
     "output_type": "execute_result"
    },
    {
     "data": {
      "image/png": "[encoded data removed]",
      "text/plain": [
       "<Figure size 432x288 with 1 Axes>"
      ]
     },
     "metadata": {
      "needs_background": "light"
     },
     "output_type": "display_data"
    }
   ],
   "source": [
    "plt.hist([float(f) for f in av_distr])"
   ]
  },
  {
   "cell_type": "code",
   "execution_count": 33,
   "id": "2333ab69-47f1-4840-a4f9-758f167bcd7e",
   "metadata": {},
   "outputs": [],
   "source": [
    "for i in range(0, len(xdata)):\n",
    "    if len(xdata[i])>500:\n",
    "        del xdata[i]\n",
    "        del ydata[i]\n",
    "        del mdata[i]"
   ]
  },
  {
   "cell_type": "code",
   "execution_count": 40,
   "id": "d840b719-e6fd-4818-afa6-10b3dbd9c53e",
   "metadata": {},
   "outputs": [],
   "source": [
    "# save all as precaution\n",
    "def save_cometqe_data(md, xd, yd):\n",
    "    # save data into a pickle file\n",
    "    with open('processeddata/germanlatmasks.pkl', 'wb') as f:\n",
    "        pickle.dump(md, f)\n",
    "\n",
    "    with open('processeddata/germanlatinps.pkl', 'wb') as f:\n",
    "        pickle.dump(xd, f)\n",
    "\n",
    "    with open('processeddata/germanlatlabels.pkl', 'wb') as f:\n",
    "        pickle.dump(yd, f)\n",
    "        \n",
    "#mdata, xdata, ydata = load_cometqe_data()\n",
    "        \n",
    "save_cometqe_data(mdata, xdata, ydata)"
   ]
  },
  {
   "cell_type": "code",
   "execution_count": 79,
   "id": "9bcd62a3-6a2d-463d-b89e-3379adcfe921",
   "metadata": {},
   "outputs": [],
   "source": [
    "import json\n",
    "fren = './rerank_outputs/post1explodedmtn1_fr-en_bfs_recom_4_-1_False_0.4_True_False_4_5_rcb_0.9_0.0_0.9.json'\n",
    "ende = './rerank_outputs/post1explodedmt1n_en-de_bfs_recom_4_80_False_0.4_True_False_4_5_rcb_0.9_0.0_0.9.json'\n",
    "# Opening JSON file\n",
    "with open(fren) as json_file:\n",
    "    lat4 = json.load(json_file)['data']\n",
    "    \n",
    "# was post1cpybeam4fr_en\n",
    "with open('./rerank_outputs/post2post1beam49fr_en.json') as json_file:\n",
    "    beam49 = json.load(json_file)['data']\n",
    "    \n",
    "def json_to_df(inputs):\n",
    "    res = []\n",
    "    for inp in inputs:\n",
    "        tlist = []\n",
    "        for i in range(len(inp['cands'])):\n",
    "            tmp = {}\n",
    "            tmp['src'] = inp['src']\n",
    "            tmp['ref'] = inp['ref']\n",
    "            tmp['hyp'] = inp['cands'][i]\n",
    "            tmp['scores'] = inp['cometscores'][i]\n",
    "            tlist.append(tmp)\n",
    "        res.append(tlist)\n",
    "    return res\n",
    "\n",
    "dlists = json_to_df(lat4)"
   ]
  },
  {
   "cell_type": "code",
   "execution_count": null,
   "id": "4aef4635-96bf-460c-934c-51fcae180201",
   "metadata": {},
   "outputs": [],
   "source": []
  }
 ],
 "metadata": {
  "kernelspec": {
   "display_name": "Python 3.8.12 ('latenv')",
   "language": "python",
   "name": "python3"
  },
  "language_info": {
   "codemirror_mode": {
    "name": "ipython",
    "version": 3
   },
   "file_extension": ".py",
   "mimetype": "text/x-python",
   "name": "python",
   "nbconvert_exporter": "python",
   "pygments_lexer": "ipython3",
   "version": "3.8.12"
  },
  "vscode": {
   "interpreter": {
    "hash": "c2f77846b0243d2dee26bbaa6fd0a0b34a7adea800a5063b4b91f2f98ac96800"
   }
  }
 },
 "nbformat": 4,
 "nbformat_minor": 5
}
