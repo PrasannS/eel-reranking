{
 "cells": [
  {
   "cell_type": "code",
   "execution_count": 13,
   "metadata": {},
   "outputs": [],
   "source": [
    "import torch\n",
    "import json \n",
    "from transformers import T5Tokenizer, T5ForConditionalGeneration\n"
   ]
  },
  {
   "cell_type": "code",
   "execution_count": 14,
   "metadata": {},
   "outputs": [
    {
     "name": "stdout",
     "output_type": "stream",
     "text": [
      "Requirement already satisfied: sentencepiece==0.1.91 in /home/prasann/miniconda3/envs/latenv/lib/python3.8/site-packages (0.1.91)\n",
      "Note: you may need to restart the kernel to use updated packages.\n"
     ]
    }
   ],
   "source": [
    "%pip install sentencepiece==0.1.91\n",
    "\n",
    "model = T5ForConditionalGeneration.from_pretrained('t5-base')\n",
    "tokenizer = T5Tokenizer.from_pretrained('t5-base')\n",
    "device = torch.device('cpu')\n"
   ]
  },
  {
   "cell_type": "code",
   "execution_count": 15,
   "metadata": {},
   "outputs": [],
   "source": [
    "\n",
    "\n",
    "def get_summarization(text):\n",
    "    preprocess_text = text.strip().replace(\"\\n\",\"\")\n",
    "    t5_prepared_Text = \"summarize: \"+preprocess_text\n",
    "    print (\"original text preprocessed: \\n\", preprocess_text)\n",
    "    tokenized_text = tokenizer.encode(t5_prepared_Text, return_tensors=\"pt\").to(device)\n",
    "    # summmarize \n",
    "    summary_ids = model.generate(tokenized_text,\n",
    "                                        num_beams=4,\n",
    "                                        no_repeat_ngram_size=2,\n",
    "                                        min_length=30,\n",
    "                                        max_length=100,\n",
    "                                        early_stopping=True)\n",
    "\n",
    "    output = tokenizer.decode(summary_ids[0], skip_special_tokens=True)\n",
    "\n",
    "    return output"
   ]
  },
  {
   "cell_type": "code",
   "execution_count": 16,
   "metadata": {},
   "outputs": [
    {
     "name": "stdout",
     "output_type": "stream",
     "text": [
      "original text preprocessed: \n",
      " The polls are currently neck-and-neck between the left-wing Syriza, led by former Prime Minister Alexis Tsipras, and the right-wing New Democracy, led by Vangelis Meimarakis.The vote was called by Mr Tsipras last month in an attempt to give him a popular mandate following his controversial agreement with European creditors in exchange for a vital third bailout package.However, with any future Greek government now committed to those agreed austerity measures, the main feature of this election is indifference and confusion among the electorate.The elections are also taking place in a climate of economic malaise, with the economy having suffered substantially in the first half of 2015 due to political uncertainty and consumer anticipation of further austerity.This election, organised by a caretaker government, will take place under a closed-list system, meaning individual candidates do not campaign, since the order of preference in constituency lists is determined by party leaders.Under Greek electoral law, 250 of the 300 seats in parliament are allocated, according to proportional representation, to each party that clears a 3% threshold, with the winning party receiving a 50-seat bonus.If all parties running were to clear the threshold, a vote share of about 40% would be needed to gain an outright majority (151 seats).But the share needed for a majority drops according to how many parties fail to enter parliament.Based on previous Greek elections, it is expected that about 10% of votes will go to parties that remain outside parliament, reducing the majority vote share to about 36%.It seems very unlikely that any of the two major parties will manage to cross this threshold.Polls close at 19:00 local time (17:00 BST), after which all major Greek TV stations will broadcast their exit polls.Unless results are very close, it will be safe to gauge the critical aspects of the result (which party comes first, which parties enter parliament, distribution of seats)\n"
     ]
    },
    {
     "data": {
      "text/plain": [
       "'the election will take place under a closed-list system, meaning individual candidates do not campaign. under Greek electoral law, 250 of the 300 seats in parliament are allocated to each party that clears 3% threshold, with winning party receiving 50-seat bonuses. the main feature of this election is indifference and confusion among the electorate.'"
      ]
     },
     "execution_count": 16,
     "metadata": {},
     "output_type": "execute_result"
    }
   ],
   "source": [
    "\n",
    "txt =\"\"\"\n",
    "The polls are currently neck-and-neck between the left-wing Syriza, led by former Prime Minister Alexis Tsipras, and the right-wing New Democracy, led by Vangelis Meimarakis.\n",
    "The vote was called by Mr Tsipras last month in an attempt to give him a popular mandate following his controversial agreement with European creditors in exchange for a vital third bailout package.\n",
    "However, with any future Greek government now committed to those agreed austerity measures, the main feature of this election is indifference and confusion among the electorate.\n",
    "The elections are also taking place in a climate of economic malaise, with the economy having suffered substantially in the first half of 2015 due to political uncertainty and consumer anticipation of further austerity.\n",
    "This election, organised by a caretaker government, will take place under a closed-list system, meaning individual candidates do not campaign, since the order of preference in constituency lists is determined by party leaders.\n",
    "Under Greek electoral law, 250 of the 300 seats in parliament are allocated, according to proportional representation, to each party that clears a 3% threshold, with the winning party receiving a 50-seat bonus.\n",
    "If all parties running were to clear the threshold, a vote share of about 40% would be needed to gain an outright majority (151 seats).\n",
    "But the share needed for a majority drops according to how many parties fail to enter parliament.\n",
    "Based on previous Greek elections, it is expected that about 10% of votes will go to parties that remain outside parliament, reducing the majority vote share to about 36%.\n",
    "It seems very unlikely that any of the two major parties will manage to cross this threshold.\n",
    "Polls close at 19:00 local time (17:00 BST), after which all major Greek TV stations will broadcast their exit polls.\n",
    "Unless results are very close, it will be safe to gauge the critical aspects of the result (which party comes first, which parties enter parliament, distribution of seats)\n",
    "\"\"\"\n",
    "\n",
    "get_summarization(txt)"
   ]
  },
  {
   "cell_type": "code",
   "execution_count": 1,
   "metadata": {},
   "outputs": [
    {
     "name": "stderr",
     "output_type": "stream",
     "text": [
      "2022-03-03 08:14:50.180964: W tensorflow/stream_executor/platform/default/dso_loader.cc:64] Could not load dynamic library 'libcudart.so.11.0'; dlerror: libcudart.so.11.0: cannot open shared object file: No such file or directory\n",
      "2022-03-03 08:14:50.180985: I tensorflow/stream_executor/cuda/cudart_stub.cc:29] Ignore above cudart dlerror if you do not have a GPU set up on your machine.\n"
     ]
    }
   ],
   "source": [
    "from transformers import PegasusTokenizer, TFPegasusForConditionalGeneration\n"
   ]
  },
  {
   "cell_type": "code",
   "execution_count": 2,
   "metadata": {},
   "outputs": [
    {
     "data": {
      "application/vnd.jupyter.widget-view+json": {
       "model_id": "d2473b43c2c942f08740485105a76454",
       "version_major": 2,
       "version_minor": 0
      },
      "text/plain": [
       "Downloading:   0%|          | 0.00/1.36k [00:00<?, ?B/s]"
      ]
     },
     "metadata": {},
     "output_type": "display_data"
    },
    {
     "data": {
      "application/vnd.jupyter.widget-view+json": {
       "model_id": "9a0a7ce056fa4e218a161f4698ab8658",
       "version_major": 2,
       "version_minor": 0
      },
      "text/plain": [
       "Downloading:   0%|          | 0.00/2.12G [00:00<?, ?B/s]"
      ]
     },
     "metadata": {},
     "output_type": "display_data"
    },
    {
     "name": "stderr",
     "output_type": "stream",
     "text": [
      "2022-03-03 08:16:01.141688: W tensorflow/stream_executor/platform/default/dso_loader.cc:64] Could not load dynamic library 'libcudart.so.11.0'; dlerror: libcudart.so.11.0: cannot open shared object file: No such file or directory\n",
      "2022-03-03 08:16:01.141752: W tensorflow/stream_executor/platform/default/dso_loader.cc:64] Could not load dynamic library 'libcublas.so.11'; dlerror: libcublas.so.11: cannot open shared object file: No such file or directory\n",
      "2022-03-03 08:16:01.141788: W tensorflow/stream_executor/platform/default/dso_loader.cc:64] Could not load dynamic library 'libcublasLt.so.11'; dlerror: libcublasLt.so.11: cannot open shared object file: No such file or directory\n",
      "2022-03-03 08:16:01.205892: W tensorflow/stream_executor/platform/default/dso_loader.cc:64] Could not load dynamic library 'libcusolver.so.11'; dlerror: libcusolver.so.11: cannot open shared object file: No such file or directory\n",
      "2022-03-03 08:16:01.206021: W tensorflow/stream_executor/platform/default/dso_loader.cc:64] Could not load dynamic library 'libcusparse.so.11'; dlerror: libcusparse.so.11: cannot open shared object file: No such file or directory\n",
      "2022-03-03 08:16:01.208293: W tensorflow/core/common_runtime/gpu/gpu_device.cc:1850] Cannot dlopen some GPU libraries. Please make sure the missing libraries mentioned above are installed properly if you would like to use GPU. Follow the guide at https://www.tensorflow.org/install/gpu for how to download and setup the required libraries for your platform.\n",
      "Skipping registering GPU devices...\n",
      "2022-03-03 08:16:01.209878: I tensorflow/core/platform/cpu_feature_guard.cc:151] This TensorFlow binary is optimized with oneAPI Deep Neural Network Library (oneDNN) to use the following CPU instructions in performance-critical operations:  AVX2 AVX512F FMA\n",
      "To enable them in other operations, rebuild TensorFlow with the appropriate compiler flags.\n",
      "All model checkpoint layers were used when initializing TFPegasusForConditionalGeneration.\n",
      "\n",
      "All the layers of TFPegasusForConditionalGeneration were initialized from the model checkpoint at google/pegasus-xsum.\n",
      "If your task is similar to the task the model of the checkpoint was trained on, you can already use TFPegasusForConditionalGeneration for predictions without further training.\n"
     ]
    },
    {
     "data": {
      "application/vnd.jupyter.widget-view+json": {
       "model_id": "cdec71adb7d84f76a425950135699be6",
       "version_major": 2,
       "version_minor": 0
      },
      "text/plain": [
       "Downloading:   0%|          | 0.00/1.82M [00:00<?, ?B/s]"
      ]
     },
     "metadata": {},
     "output_type": "display_data"
    },
    {
     "data": {
      "application/vnd.jupyter.widget-view+json": {
       "model_id": "69176d5517784babb04162f02d9a8e91",
       "version_major": 2,
       "version_minor": 0
      },
      "text/plain": [
       "Downloading:   0%|          | 0.00/65.0 [00:00<?, ?B/s]"
      ]
     },
     "metadata": {},
     "output_type": "display_data"
    },
    {
     "data": {
      "application/vnd.jupyter.widget-view+json": {
       "model_id": "755e12c03ffa481eb92f768000dc6057",
       "version_major": 2,
       "version_minor": 0
      },
      "text/plain": [
       "Downloading:   0%|          | 0.00/87.0 [00:00<?, ?B/s]"
      ]
     },
     "metadata": {},
     "output_type": "display_data"
    },
    {
     "data": {
      "application/vnd.jupyter.widget-view+json": {
       "model_id": "4731e83309ab467198341f5c7ef9d084",
       "version_major": 2,
       "version_minor": 0
      },
      "text/plain": [
       "Downloading:   0%|          | 0.00/3.36M [00:00<?, ?B/s]"
      ]
     },
     "metadata": {},
     "output_type": "display_data"
    }
   ],
   "source": [
    "\n",
    "model = TFPegasusForConditionalGeneration.from_pretrained(\"google/pegasus-xsum\")\n",
    "tokenizer = PegasusTokenizer.from_pretrained(\"google/pegasus-xsum\")\n"
   ]
  },
  {
   "cell_type": "code",
   "execution_count": 4,
   "metadata": {},
   "outputs": [
    {
     "name": "stderr",
     "output_type": "stream",
     "text": [
      "Truncation was not explicitly activated but `max_length` is provided a specific value, please use `truncation=True` to explicitly truncate examples to max length. Defaulting to 'longest_first' truncation strategy. If you encode pairs of sequences (GLUE-style) with the tokenizer you can select this strategy more precisely by providing a specific strategy to `truncation`.\n"
     ]
    },
    {
     "name": "stdout",
     "output_type": "stream",
     "text": [
      "[\"The people of Greece go to the polls on Sunday to elect a new parliament in a vote overshadowed by the country's ongoing debt crisis.\"]\n"
     ]
    }
   ],
   "source": [
    "\n",
    "ARTICLE_TO_SUMMARIZE = (\n",
    "    \"PG&E stated it scheduled the blackouts in response to forecasts for high winds \"\n",
    "    \"amid dry conditions. The aim is to reduce the risk of wildfires. Nearly 800 thousand customers were \"\n",
    "    \"scheduled to be affected by the shutoffs which were expected to last through at least midday tomorrow.\"\n",
    ")\n",
    "\n",
    "txt =\"\"\"\n",
    "The polls are currently neck-and-neck between the left-wing Syriza, led by former Prime Minister Alexis Tsipras, and the right-wing New Democracy, led by Vangelis Meimarakis.\n",
    "The vote was called by Mr Tsipras last month in an attempt to give him a popular mandate following his controversial agreement with European creditors in exchange for a vital third bailout package.\n",
    "However, with any future Greek government now committed to those agreed austerity measures, the main feature of this election is indifference and confusion among the electorate.\n",
    "The elections are also taking place in a climate of economic malaise, with the economy having suffered substantially in the first half of 2015 due to political uncertainty and consumer anticipation of further austerity.\n",
    "This election, organised by a caretaker government, will take place under a closed-list system, meaning individual candidates do not campaign, since the order of preference in constituency lists is determined by party leaders.\n",
    "Under Greek electoral law, 250 of the 300 seats in parliament are allocated, according to proportional representation, to each party that clears a 3% threshold, with the winning party receiving a 50-seat bonus.\n",
    "If all parties running were to clear the threshold, a vote share of about 40% would be needed to gain an outright majority (151 seats).\n",
    "But the share needed for a majority drops according to how many parties fail to enter parliament.\n",
    "Based on previous Greek elections, it is expected that about 10% of votes will go to parties that remain outside parliament, reducing the majority vote share to about 36%.\n",
    "It seems very unlikely that any of the two major parties will manage to cross this threshold.\n",
    "Polls close at 19:00 local time (17:00 BST), after which all major Greek TV stations will broadcast their exit polls.\n",
    "Unless results are very close, it will be safe to gauge the critical aspects of the result (which party comes first, which parties enter parliament, distribution of seats)\n",
    "\"\"\"\n",
    "inputs = tokenizer(txt, max_length=1024, return_tensors=\"tf\")\n",
    "\n",
    "# Generate Summary\n",
    "summary_ids = model.generate(inputs[\"input_ids\"])\n",
    "print(tokenizer.batch_decode(summary_ids, skip_special_tokens=True, clean_up_tokenization_spaces=False))"
   ]
  },
  {
   "cell_type": "code",
   "execution_count": null,
   "metadata": {},
   "outputs": [],
   "source": []
  }
 ],
 "metadata": {
  "interpreter": {
   "hash": "c2f77846b0243d2dee26bbaa6fd0a0b34a7adea800a5063b4b91f2f98ac96800"
  },
  "kernelspec": {
   "display_name": "Python 3.8.12 ('latenv')",
   "language": "python",
   "name": "python3"
  },
  "language_info": {
   "codemirror_mode": {
    "name": "ipython",
    "version": 3
   },
   "file_extension": ".py",
   "mimetype": "text/x-python",
   "name": "python",
   "nbconvert_exporter": "python",
   "pygments_lexer": "ipython3",
   "version": "3.8.12"
  },
  "orig_nbformat": 4
 },
 "nbformat": 4,
 "nbformat_minor": 2
}
