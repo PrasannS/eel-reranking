{
 "cells": [
  {
   "cell_type": "code",
   "execution_count": 1,
   "id": "c2ead7b8-bddb-4f7e-8e57-053d17491265",
   "metadata": {},
   "outputs": [
    {
     "name": "stderr",
     "output_type": "stream",
     "text": [
      "2022-12-31 11:36:31.856009: W tensorflow/stream_executor/platform/default/dso_loader.cc:64] Could not load dynamic library 'libcudart.so.11.0'; dlerror: libcudart.so.11.0: cannot open shared object file: No such file or directory\n",
      "2022-12-31 11:36:31.856032: I tensorflow/stream_executor/cuda/cudart_stub.cc:29] Ignore above cudart dlerror if you do not have a GPU set up on your machine.\n"
     ]
    }
   ],
   "source": [
    "import pickle\n",
    "from encode_utils.rerank_data import rerank_dist, rerank_single\n",
    "from encode_utils.efficient_rerank import get_effrerank_model, run_comstyle\n",
    "from encode_utils.sco_funct import weightaddprob, default_scofunct\n",
    "from encode_utils.mt_scores import get_scores_auto\n",
    "from transformers import AutoTokenizer\n",
    "import pandas as pd\n",
    "import numpy as np\n",
    "import torch\n",
    "import random\n",
    "import os\n",
    "import re\n",
    "from encode_utils.new_mask_utils import randomsingle, useall\n",
    "from encode_utils.eval_utils import all_lattice_multi, mean, all_unnoun_multi\n",
    "from generate_tables import metrics_mapping\n",
    "from encode_utils.rerank_data import rerank_df, rerank_single, rerank_rand, rerank_weighted\n",
    "device = torch.device('cuda:2' if torch.cuda.is_available() else 'cpu')"
   ]
  },
  {
   "cell_type": "code",
   "execution_count": 2,
   "id": "500ae169-1de3-48b0-8b1b-6d2c57a09dc5",
   "metadata": {},
   "outputs": [],
   "source": [
    "# run pipeline for generating lattice preds, using different parameters"
   ]
  },
  {
   "cell_type": "code",
   "execution_count": 17,
   "id": "cd21ecef-5b03-42de-ab2c-2261b4e5e9be",
   "metadata": {},
   "outputs": [],
   "source": [
    "# set up information for set\n",
    "col = {\n",
    "    \"noun_xsum\": [\"nounsum_reversed/\", \"nounxsumlargeexplodev2.csv\"],\n",
    "    \"noun_fren\": [\"frtest_reversed/\", \"nounlargeexplodev1.csv\"],\n",
    "    \"mt_fren\": [\"frtest_reversed/\", \"frenchlargeexplodev1.csv\"],\n",
    "    \"mt_ende\": [\"detest_reversed/\", \"germanlargeexplodev1.csv\"],\n",
    "    \"mt_ende_b12\": [\"reversed_mtende_beam12/\", \"mtendebeam12.csv\"],\n",
    "    \"mt_ende_b50\": [\"reversed_mtende_beam50/\", \"mtendebeam50.csv\"],\n",
    "    \"mt_enru\": [\"rutest_reversed/\", \"russianlargeexplodev1.csv\"],\n",
    "    \"mt_enru_b12\": [\"reversed_mtenru_beam12/\", \"mtenrubeam12.csv\"],\n",
    "    \"mt_enru_b50\": [\"reversed_mtenru_beam50/\", \"mtenrubeam50.csv\"],\n",
    "    \"mt_fren_b12\": ['reversed_mtfren_beam12/', 'mtfrenbeam12v2.csv'],\n",
    "    \"mt_fren_b50\": ['reversed_mtfren_beam50/', 'mtfrenbeam50v2.csv'],\n",
    "    \"noun_fren_b12\": ['reversed_mtfren_beam12/', 'nounfrenbeam12v2.csv'],\n",
    "    \"noun_fren_b50\": ['reversed_mtfren_beam50/', 'nounfrenbeam50v2.csv'],\n",
    "    \"noun_xsum_b12\": ['reversed_xsum_beam12/', 'nounxsumbeam12v2.csv'],\n",
    "    \"noun_xsum_b50\": ['reversed_xsum_beam50/', 'nounxsumbeam50v2.csv'],\n",
    "}\n",
    "curcol = \"mt_enru_b50\"\n",
    "gsuffix = col[curcol][0]\n",
    "expl_fname = col[curcol][1]\n",
    "base = \"outputs/graph_pickles/\"+gsuffix\n",
    "if \"noun\" in curcol:\n",
    "    goldmetric = \"utnoun\"\n",
    "else:\n",
    "    goldmetric = \"dupcqe\"\n",
    "explode_df = pd.read_csv(\"outputs/score_csvs/\"+expl_fname)\n",
    "#TODO switch back for french-english\n",
    "if \"fren\" in curcol:\n",
    "    SETLEN = len(os.listdir(base))\n",
    "else:\n",
    "    SETLEN = int(len(os.listdir(base))/2)"
   ]
  },
  {
   "cell_type": "code",
   "execution_count": 18,
   "id": "71555d17-77ec-46fb-a0c8-f8ed39048570",
   "metadata": {},
   "outputs": [],
   "source": [
    "explode_df['weightsco'] = explode_df['dupcqe']*0 - explode_df['posthoc']*1.25"
   ]
  },
  {
   "cell_type": "code",
   "execution_count": 20,
   "id": "065caf02-4d16-4ec1-b0ec-cdddf57e84ee",
   "metadata": {},
   "outputs": [
    {
     "data": {
      "text/plain": [
       "0.7023660698857231"
      ]
     },
     "execution_count": 20,
     "metadata": {},
     "output_type": "execute_result"
    }
   ],
   "source": [
    "rerank_df(explode_df, rerank_single, ['comet', 'comet'])"
   ]
  },
  {
   "cell_type": "code",
   "execution_count": 19,
   "id": "af9ff32c-de25-42f9-8a0d-f8b5a60eab57",
   "metadata": {},
   "outputs": [
    {
     "data": {
      "text/plain": [
       "453"
      ]
     },
     "execution_count": 19,
     "metadata": {},
     "output_type": "execute_result"
    }
   ],
   "source": [
    "len(explode_df['ref'].unique())"
   ]
  },
  {
   "cell_type": "code",
   "execution_count": 5,
   "id": "d32d0661-9622-4e0a-a273-8ff869fd9103",
   "metadata": {},
   "outputs": [
    {
     "name": "stderr",
     "output_type": "stream",
     "text": [
      "Some weights of the model checkpoint at xlm-roberta-large were not used when initializing XLMRobertaModel: ['lm_head.bias', 'lm_head.dense.weight', 'lm_head.layer_norm.weight', 'roberta.pooler.dense.bias', 'roberta.pooler.dense.weight', 'lm_head.dense.bias', 'lm_head.layer_norm.bias', 'lm_head.decoder.weight']\n",
      "- This IS expected if you are initializing XLMRobertaModel from the checkpoint of a model trained on another task or with another architecture (e.g. initializing a BertForSequenceClassification model from a BertForPreTraining model).\n",
      "- This IS NOT expected if you are initializing XLMRobertaModel from the checkpoint of a model that you expect to be exactly identical (initializing a BertForSequenceClassification model from a BertForSequenceClassification model).\n",
      "Encoder model frozen.\n",
      "Loading weights from /mnt/data1/prasann/latticegen/lattice-generation/COMET/lightning_logs/version_44/checkpoints/epoch=9-step=40000.ckpt.\n"
     ]
    },
    {
     "name": "stdout",
     "output_type": "stream",
     "text": [
      "freeze embeds\n"
     ]
    }
   ],
   "source": [
    "# use noun model\n",
    "if \"noun\" in expl_fname:\n",
    "    encodemod = get_effrerank_model(\"noun\")\n",
    "# use mt model (causal)\n",
    "else:\n",
    "    encodemod = get_effrerank_model(\"comstyle\")\n",
    "xlm_tok = AutoTokenizer.from_pretrained(\"xlm-roberta-base\")"
   ]
  },
  {
   "cell_type": "code",
   "execution_count": 6,
   "id": "15280f8f-e8c8-4a75-b58d-0def378d295a",
   "metadata": {},
   "outputs": [],
   "source": [
    "SETLEN = len(os.listdir(base))"
   ]
  },
  {
   "cell_type": "code",
   "execution_count": 7,
   "id": "4b93a1eb-f91b-49eb-bd3c-39cfdbf4b8b3",
   "metadata": {},
   "outputs": [],
   "source": [
    "args = {\n",
    "    'setlen':int(SETLEN),\n",
    "    'tok':xlm_tok, \n",
    "    'dev':device,\n",
    "    'model':encodemod,\n",
    "    'explode_df':explode_df,\n",
    "    'base':base,\n",
    "    'goldmetric':goldmetric,\n",
    "    'device':device, \n",
    "    'efficient':False,\n",
    "    'noregen':False\n",
    "}"
   ]
  },
  {
   "cell_type": "code",
   "execution_count": null,
   "id": "84f2cd0a-5cad-46d8-830e-a3326073e4bb",
   "metadata": {},
   "outputs": [],
   "source": [
    "apreds = rand_robust(-1, 100, \"unique_nouns\")"
   ]
  },
  {
   "cell_type": "code",
   "execution_count": 16,
   "id": "0c539e15-c0c3-4255-8a4b-64114a300b17",
   "metadata": {},
   "outputs": [
    {
     "data": {
      "text/plain": [
       "11.401666666666667"
      ]
     },
     "execution_count": 16,
     "metadata": {},
     "output_type": "execute_result"
    }
   ],
   "source": [
    "mean(apreds)"
   ]
  },
  {
   "cell_type": "code",
   "execution_count": 24,
   "id": "7b20602d-cdaf-45e5-b7ef-157855b3fef0",
   "metadata": {},
   "outputs": [
    {
     "data": {
      "text/plain": [
       "8.251655629139073"
      ]
     },
     "execution_count": 24,
     "metadata": {},
     "output_type": "execute_result"
    }
   ],
   "source": [
    "rerank_df(explode_df, rerank_single, ['utnoun', 'unique_nouns'])"
   ]
  },
  {
   "cell_type": "code",
   "execution_count": 8,
   "id": "08b4dfed-71a9-4546-8ef4-eadda9bb69bd",
   "metadata": {},
   "outputs": [],
   "source": [
    "def get_eval_df(pred_df, tfr, gold):\n",
    "    tmp = []\n",
    "    # get dataframe with all appropriate predictions\n",
    "    for ind, row in pred_df.iterrows():\n",
    "        hyplist = literal_eval(row['ahyps'])\n",
    "        scolist = literal_eval(row['ascos'])\n",
    "        assert len(hyplist)==len(scolist)\n",
    "        for i in range(len(hyplist)):\n",
    "            tmp.append({\n",
    "                'ref':row['ref'],\n",
    "                'src':row['src'],\n",
    "                'hyp':hyplist[i],\n",
    "                tfr:scolist[i]\n",
    "            })\n",
    "    evaldf = pd.DataFrame(tmp)\n",
    "    # get gold score for the new stuff\n",
    "    metrics_mapping(gold, evaldf)\n",
    "    return evaldf    "
   ]
  },
  {
   "cell_type": "code",
   "execution_count": null,
   "id": "f8d02192-1e2c-49cd-8a54-fc3d157022b0",
   "metadata": {},
   "outputs": [],
   "source": [
    "latpreds = all_lattice_multi(1, default_scofunct, randomsingle, args)"
   ]
  },
  {
   "cell_type": "code",
   "execution_count": 10,
   "id": "07b55502-4899-4feb-8271-4b561e6a6312",
   "metadata": {},
   "outputs": [],
   "source": [
    "metrics_mapping(\"unique_nouns\", latpreds)"
   ]
  },
  {
   "cell_type": "code",
   "execution_count": 11,
   "id": "1f643efa-1000-45e0-b822-8a3d8c44c5bb",
   "metadata": {},
   "outputs": [
    {
     "data": {
      "text/plain": [
       "8.20309050772627"
      ]
     },
     "execution_count": 11,
     "metadata": {},
     "output_type": "execute_result"
    }
   ],
   "source": [
    "mean(latpreds['unique_nouns'])"
   ]
  },
  {
   "cell_type": "code",
   "execution_count": 12,
   "id": "b4355fef-c509-4913-ba86-eebd17427b0e",
   "metadata": {},
   "outputs": [
    {
     "name": "stdout",
     "output_type": "stream",
     "text": [
      "0.8548662506915612\n",
      "0.8488538848445905\n",
      "0.006012365846970735\n"
     ]
    }
   ],
   "source": [
    "print(mean(latpreds['goldsco']))\n",
    "print(mean(latpreds['hypsco']))\n",
    "print(mean(latpreds['goldsco'])-mean(latpreds['hypsco']))"
   ]
  },
  {
   "cell_type": "code",
   "execution_count": 16,
   "id": "fccfcedd-d1bd-4860-bcac-e3b5957b3bdb",
   "metadata": {},
   "outputs": [
    {
     "data": {
      "text/plain": [
       "7.008333333333334"
      ]
     },
     "execution_count": 16,
     "metadata": {},
     "output_type": "execute_result"
    }
   ],
   "source": [
    "rerank_df(explode_df, rerank_rand, ['unique_nouns', 'unique_nouns'])"
   ]
  },
  {
   "cell_type": "code",
   "execution_count": 46,
   "id": "0610882d-029e-470f-b125-ebb9c3a26e8b",
   "metadata": {},
   "outputs": [],
   "source": [
    "latpreds.to_csv(\"outputs/predcsvs/mtenru_16_valid.csv\")"
   ]
  },
  {
   "cell_type": "code",
   "execution_count": 33,
   "id": "bc7b283b-2c26-4089-9ae4-73902c0a102c",
   "metadata": {},
   "outputs": [
    {
     "data": {
      "text/plain": [
       "12"
      ]
     },
     "execution_count": 33,
     "metadata": {},
     "output_type": "execute_result"
    }
   ],
   "source": [
    "len(explode_df[explode_df['ref']==worseuns[7]])"
   ]
  },
  {
   "cell_type": "code",
   "execution_count": 42,
   "id": "151bcbc9-98cf-44b1-906b-1745f78bd4a4",
   "metadata": {},
   "outputs": [
    {
     "data": {
      "text/plain": [
       "'Portsmouth moved into the League Two play-off places with victory at Notts County thanks to two goals from Luke Bennett.'"
      ]
     },
     "execution_count": 42,
     "metadata": {},
     "output_type": "execute_result"
    }
   ],
   "source": [
    "latpreds['gold'][0] # maybe there's a tokenization mismatch? "
   ]
  },
  {
   "cell_type": "code",
   "execution_count": 8,
   "id": "c109270e-a15e-45e1-a9a9-8f8d35495daf",
   "metadata": {},
   "outputs": [
    {
     "name": "stdout",
     "output_type": "stream",
     "text": [
      "A simplified CAP would promote cleaner, more productive and more efficient farming.   0.8747031688690186\n",
      "A simplified CAP would promote cleaner, more productive and more efficient farming.   0.8747031688690186\n"
     ]
    }
   ],
   "source": [
    "ind = 6\n",
    "print(latpreds['gold'][ind], \" \", latpreds['goldsco'][ind])\n",
    "print(latpreds['hyp'][ind], \" \", latpreds['hypsco'][ind])"
   ]
  },
  {
   "cell_type": "code",
   "execution_count": null,
   "id": "78c0040e-a951-498b-95ae-8b629fe9f100",
   "metadata": {},
   "outputs": [],
   "source": [
    "for l in list(latpreds['hyp']):\n",
    "    if l not in explode_df['hyp']:\n",
    "        print(\"o\")\n",
    "    else:\n",
    "        printn(\"i\")"
   ]
  },
  {
   "cell_type": "code",
   "execution_count": 30,
   "id": "138d7b71-faf3-4939-a529-09fa4418a397",
   "metadata": {},
   "outputs": [],
   "source": [
    "worseuns = latpreds[latpreds['hypsco']<latpreds['goldsco']]['ref'].unique()"
   ]
  },
  {
   "cell_type": "code",
   "execution_count": null,
   "id": "3714fea9-2d68-498e-b3f9-c8381feb0f00",
   "metadata": {},
   "outputs": [],
   "source": [
    "graph = pickle.load(open(base+str(0), 'rb'))"
   ]
  },
  {
   "cell_type": "code",
   "execution_count": 27,
   "id": "cba1ab1d-ef24-4385-8ac4-eb12e55d39c5",
   "metadata": {},
   "outputs": [
    {
     "data": {
      "text/plain": [
       "'Two'"
      ]
     },
     "execution_count": 27,
     "metadata": {},
     "output_type": "execute_result"
    }
   ],
   "source": [
    "graph['root'].nextlist[1].token_str"
   ]
  },
  {
   "cell_type": "code",
   "execution_count": null,
   "id": "c61dd50b-1e50-4894-8c8d-304df81f215b",
   "metadata": {},
   "outputs": [],
   "source": [
    "graph[3]"
   ]
  },
  {
   "cell_type": "code",
   "execution_count": 16,
   "id": "14368c2e-c4fd-4891-bcbf-bfdb23bd8d6a",
   "metadata": {},
   "outputs": [
    {
     "data": {
      "text/plain": [
       "4.2108125"
      ]
     },
     "execution_count": 16,
     "metadata": {},
     "output_type": "execute_result"
    }
   ],
   "source": [
    "(len(explode_df)/1000)/(5*32)"
   ]
  },
  {
   "cell_type": "code",
   "execution_count": 18,
   "id": "6e336565-9922-4ebf-8326-9e1b165348b6",
   "metadata": {},
   "outputs": [
    {
     "name": "stdout",
     "output_type": "stream",
     "text": [
      "hyp         Negotiations with Iran on its nuclear programm...\n",
      "hypsco      tensor(0.7139, device='cuda:2', grad_fn=<SumBa...\n",
      "gold        Negotiations with Iran on its nuclear programm...\n",
      "goldsco     tensor(0.7139, device='cuda:2', grad_fn=<SumBa...\n",
      "ascos                                    [0.7138539552688599]\n",
      "ahyps       [Negotiations with Iran on its nuclear program...\n",
      "numnodes                                                  174\n",
      "src         Les négociations avec l’Iran sur son programme...\n",
      "ref         As a result, the negotiations with Iran over i...\n",
      "Name: 1, dtype: object\n"
     ]
    },
    {
     "data": {
      "text/html": [
       "<div>\n",
       "<style scoped>\n",
       "    .dataframe tbody tr th:only-of-type {\n",
       "        vertical-align: middle;\n",
       "    }\n",
       "\n",
       "    .dataframe tbody tr th {\n",
       "        vertical-align: top;\n",
       "    }\n",
       "\n",
       "    .dataframe thead th {\n",
       "        text-align: right;\n",
       "    }\n",
       "</style>\n",
       "<table border=\"1\" class=\"dataframe\">\n",
       "  <thead>\n",
       "    <tr style=\"text-align: right;\">\n",
       "      <th></th>\n",
       "      <th>Unnamed: 0</th>\n",
       "      <th>src</th>\n",
       "      <th>ref</th>\n",
       "      <th>hyp</th>\n",
       "      <th>dcqeold</th>\n",
       "      <th>comet</th>\n",
       "      <th>cqe</th>\n",
       "      <th>posthoc</th>\n",
       "      <th>dupcqe</th>\n",
       "    </tr>\n",
       "  </thead>\n",
       "  <tbody>\n",
       "    <tr>\n",
       "      <th>4946</th>\n",
       "      <td>4946</td>\n",
       "      <td>Les négociations avec l’Iran sur son programme...</td>\n",
       "      <td>As a result, the negotiations with Iran over i...</td>\n",
       "      <td>Negotiations with Iran on its nuclear programm...</td>\n",
       "      <td>0.787222</td>\n",
       "      <td>0.807614</td>\n",
       "      <td>0.641687</td>\n",
       "      <td>0.347093</td>\n",
       "      <td>0.764838</td>\n",
       "    </tr>\n",
       "  </tbody>\n",
       "</table>\n",
       "</div>"
      ],
      "text/plain": [
       "      Unnamed: 0                                                src  \\\n",
       "4946        4946  Les négociations avec l’Iran sur son programme...   \n",
       "\n",
       "                                                    ref  \\\n",
       "4946  As a result, the negotiations with Iran over i...   \n",
       "\n",
       "                                                    hyp   dcqeold     comet  \\\n",
       "4946  Negotiations with Iran on its nuclear programm...  0.787222  0.807614   \n",
       "\n",
       "           cqe   posthoc    dupcqe  \n",
       "4946  0.641687  0.347093  0.764838  "
      ]
     },
     "execution_count": 18,
     "metadata": {},
     "output_type": "execute_result"
    }
   ],
   "source": [
    "tind = 1\n",
    "print(latpreds.loc[tind])\n",
    "explode_df[explode_df['hyp']==latpreds['gold'][tind]]"
   ]
  },
  {
   "cell_type": "code",
   "execution_count": 14,
   "id": "24e44b80-adb6-44c3-b0b8-d9163f183838",
   "metadata": {},
   "outputs": [
    {
     "name": "stdout",
     "output_type": "stream",
     "text": [
      "0.7068876639732199\n",
      "0.7001804783446899\n",
      "0.00670718562853001\n"
     ]
    }
   ],
   "source": [
    "print(mean(latpreds['goldsco']))\n",
    "print(mean(latpreds['hypsco']))\n",
    "print(mean(latpreds['goldsco'])-mean(latpreds['hypsco']))"
   ]
  },
  {
   "cell_type": "code",
   "execution_count": null,
   "id": "d409a86a-51c0-4c22-931b-c9d05a24de20",
   "metadata": {},
   "outputs": [],
   "source": [
    "goldsco"
   ]
  },
  {
   "cell_type": "code",
   "execution_count": 6,
   "id": "9f78779f-75c3-4b7a-8eb6-9d63c501c072",
   "metadata": {},
   "outputs": [
    {
     "name": "stderr",
     "output_type": "stream",
     "text": [
      "wmt20-comet-da is already in cache.\n",
      "Some weights of the model checkpoint at xlm-roberta-large were not used when initializing XLMRobertaModel: ['roberta.pooler.dense.bias', 'lm_head.dense.bias', 'lm_head.bias', 'roberta.pooler.dense.weight', 'lm_head.dense.weight', 'lm_head.layer_norm.weight', 'lm_head.layer_norm.bias', 'lm_head.decoder.weight']\n",
      "- This IS expected if you are initializing XLMRobertaModel from the checkpoint of a model trained on another task or with another architecture (e.g. initializing a BertForSequenceClassification model from a BertForPreTraining model).\n",
      "- This IS NOT expected if you are initializing XLMRobertaModel from the checkpoint of a model that you expect to be exactly identical (initializing a BertForSequenceClassification model from a BertForSequenceClassification model).\n",
      "Encoder model frozen.\n"
     ]
    },
    {
     "name": "stdout",
     "output_type": "stream",
     "text": [
      "freeze embeds\n"
     ]
    },
    {
     "name": "stderr",
     "output_type": "stream",
     "text": [
      "GPU available: True, used: True\n",
      "TPU available: False, using: 0 TPU cores\n",
      "IPU available: False, using: 0 IPUs\n",
      "HPU available: False, using: 0 HPUs\n",
      "LOCAL_RANK: 0 - CUDA_VISIBLE_DEVICES: [0,1,2,3]\n",
      "Predicting DataLoader 0: 100%|████████████████████████████████████████████████████████████████████████████████████| 15/15 [00:04<00:00,  3.28it/s]\n"
     ]
    },
    {
     "name": "stdout",
     "output_type": "stream",
     "text": [
      "TOOK TIME  8.24\n"
     ]
    }
   ],
   "source": [
    "metrics_mapping(\"comet\", lpredstmp)"
   ]
  },
  {
   "cell_type": "code",
   "execution_count": 7,
   "id": "3915a4e7-4384-44ee-ac9a-c040fc448540",
   "metadata": {},
   "outputs": [
    {
     "data": {
      "text/plain": [
       "0.6508571936298679"
      ]
     },
     "execution_count": 7,
     "metadata": {},
     "output_type": "execute_result"
    }
   ],
   "source": [
    "mean(lpredstmp['comet'])"
   ]
  },
  {
   "cell_type": "code",
   "execution_count": 49,
   "id": "ecc9f05c-033e-4768-a301-2d2622610ddb",
   "metadata": {},
   "outputs": [],
   "source": [
    "lpredstmp = pd.read_csv(\"outputs/predcsvs/noun_comstyle_xsum_randsing_8shot.csv\")"
   ]
  },
  {
   "cell_type": "code",
   "execution_count": 41,
   "id": "9d30218b-32cb-40c2-a773-808b04c9dfa1",
   "metadata": {},
   "outputs": [],
   "source": [
    "luns = latpreds['ref'].unique()"
   ]
  },
  {
   "cell_type": "code",
   "execution_count": 42,
   "id": "e4667188-e792-4295-afbb-81a5d4fda085",
   "metadata": {},
   "outputs": [],
   "source": [
    "edf = explode_df[explode_df['ref'].isin(luns)]"
   ]
  },
  {
   "cell_type": "code",
   "execution_count": null,
   "id": "55fb543b-633f-4cda-b3f9-1c5225295e1e",
   "metadata": {},
   "outputs": [],
   "source": [
    "olatpreds = pd.read_csv()"
   ]
  },
  {
   "cell_type": "code",
   "execution_count": 12,
   "id": "90d8aef7-3347-44d9-9e08-28b1c2dfcede",
   "metadata": {},
   "outputs": [
    {
     "data": {
      "text/plain": [
       "0.7609684539601108"
      ]
     },
     "execution_count": 12,
     "metadata": {},
     "output_type": "execute_result"
    }
   ],
   "source": [
    "rerank_df(explode_df, rerank_single, ['comet', 'comet'])"
   ]
  },
  {
   "cell_type": "code",
   "execution_count": 9,
   "id": "00220418-7f13-4b63-b167-7bd7b204742a",
   "metadata": {},
   "outputs": [],
   "source": [
    "gs = list(latpreds['hypsco'])\n",
    "hs = list(latpreds['goldsco'])"
   ]
  },
  {
   "cell_type": "code",
   "execution_count": 10,
   "id": "c714a8e0-554d-49b8-9555-845fc8a13f69",
   "metadata": {},
   "outputs": [
    {
     "data": {
      "text/plain": [
       "tensor(0.7450, device='cuda:2', grad_fn=<DivBackward0>)"
      ]
     },
     "execution_count": 10,
     "metadata": {},
     "output_type": "execute_result"
    }
   ],
   "source": [
    "mean([max(gs[i], hs[i]) for i in range(len(latpreds))])"
   ]
  },
  {
   "cell_type": "code",
   "execution_count": null,
   "id": "5215d9f2-39da-4df8-838b-0671342dc33d",
   "metadata": {},
   "outputs": [],
   "source": [
    "metrics_mapping"
   ]
  },
  {
   "cell_type": "code",
   "execution_count": 9,
   "id": "cb186146-fff1-4396-b538-d4566f116a5d",
   "metadata": {},
   "outputs": [],
   "source": [
    "outfile = \"mt_fren_eelb501shotweighted.csv\"\n",
    "latpreds.to_csv(\"outputs/predcsvs/\"+outfile)"
   ]
  },
  {
   "cell_type": "code",
   "execution_count": 10,
   "id": "d4f965c6-9e6f-4bcd-8ae2-f403accbca09",
   "metadata": {},
   "outputs": [],
   "source": [
    "lpredstmp = pd.read_csv(\"outputs/predcsvs/\"+\"nounfren_32_valid.csv\")"
   ]
  },
  {
   "cell_type": "code",
   "execution_count": 22,
   "id": "e1cd203a-6616-4fc4-8e63-0da299335252",
   "metadata": {},
   "outputs": [
    {
     "data": {
      "text/plain": [
       "'[1.053318738937378, 1.053318738937378, 1.053318738937378, 1.0222697257995605, 1.053318738937378, 1.053318738937378, 1.053318738937378, 1.053318738937378, 1.053318738937378, 1.053318738937378, 1.053318738937378, 1.053318738937378, 1.053318738937378, 1.053318738937378, 1.053318738937378, 1.053318738937378, 1.053318738937378, 1.053318738937378, 1.053318738937378, 1.0222697257995605, 1.053318738937378, 1.053318738937378, 1.053318738937378, 1.053318738937378, 1.053318738937378, 1.053318738937378, 1.053318738937378, 1.053318738937378, 1.053318738937378, 1.053318738937378, 1.053318738937378, 1.0846971273422241]'"
      ]
     },
     "execution_count": 22,
     "metadata": {},
     "output_type": "execute_result"
    }
   ],
   "source": [
    "lpredstmp.loc[0]['ascos']"
   ]
  },
  {
   "cell_type": "code",
   "execution_count": 14,
   "id": "186a06d7-d03f-4b2a-98c8-362fce72fc7c",
   "metadata": {},
   "outputs": [],
   "source": [
    "downstream = get_eval_df(lpredstmp, \"utnoun\", \"unique_nouns\")"
   ]
  },
  {
   "cell_type": "code",
   "execution_count": 15,
   "id": "c2feda85-9ef6-4b8f-a78a-65dec5967268",
   "metadata": {},
   "outputs": [],
   "source": [
    "def robust_rerank_preds(rermet, goldmet, rerdf, samp_n, runs):\n",
    "    alluns = rerdf['ref'].unique()\n",
    "    scodist = []\n",
    "    for a in alluns:\n",
    "        tmpdf = rerdf[rerdf['ref']==a]\n",
    "        rerl = list(zip(tmpdf[rermet], tmpdf[goldmet]))\n",
    "        tot = 0\n",
    "        for r in range(runs):\n",
    "            samp = random.choices(rerl, k=samp_n)\n",
    "            bind = np.argmax([s[0] for s in samp])\n",
    "            tot+= samp[bind][1]\n",
    "        scodist.append(tot/runs)\n",
    "    return scodist"
   ]
  },
  {
   "cell_type": "code",
   "execution_count": 17,
   "id": "88e1b106-4754-4912-8a3c-0e32f88ae574",
   "metadata": {},
   "outputs": [
    {
     "data": {
      "text/plain": [
       "9.085687089715538"
      ]
     },
     "execution_count": 17,
     "metadata": {},
     "output_type": "execute_result"
    }
   ],
   "source": [
    "mean(robust_rerank_preds('utnoun', 'unique_nouns', downstream, 8, 1000))"
   ]
  },
  {
   "cell_type": "code",
   "execution_count": 25,
   "id": "b04d1438-978c-4d53-918c-a4128af3de04",
   "metadata": {},
   "outputs": [
    {
     "data": {
      "text/html": [
       "<div>\n",
       "<style scoped>\n",
       "    .dataframe tbody tr th:only-of-type {\n",
       "        vertical-align: middle;\n",
       "    }\n",
       "\n",
       "    .dataframe tbody tr th {\n",
       "        vertical-align: top;\n",
       "    }\n",
       "\n",
       "    .dataframe thead th {\n",
       "        text-align: right;\n",
       "    }\n",
       "</style>\n",
       "<table border=\"1\" class=\"dataframe\">\n",
       "  <thead>\n",
       "    <tr style=\"text-align: right;\">\n",
       "      <th></th>\n",
       "      <th>ref</th>\n",
       "      <th>src</th>\n",
       "      <th>hyp</th>\n",
       "      <th>utnoun</th>\n",
       "      <th>unique_nouns</th>\n",
       "    </tr>\n",
       "  </thead>\n",
       "  <tbody>\n",
       "    <tr>\n",
       "      <th>0</th>\n",
       "      <td>Everton's ambition to build a new Â£300m stadi...</td>\n",
       "      <td>Liverpool Mayor Joe Anderson said it was a gre...</td>\n",
       "      <td>Liverpool City Council has said it is \"job don...</td>\n",
       "      <td>1.053319</td>\n",
       "      <td>11</td>\n",
       "    </tr>\n",
       "    <tr>\n",
       "      <th>1</th>\n",
       "      <td>Everton's ambition to build a new Â£300m stadi...</td>\n",
       "      <td>Liverpool Mayor Joe Anderson said it was a gre...</td>\n",
       "      <td>Liverpool City Council has said it is \"job don...</td>\n",
       "      <td>1.053319</td>\n",
       "      <td>11</td>\n",
       "    </tr>\n",
       "    <tr>\n",
       "      <th>2</th>\n",
       "      <td>Everton's ambition to build a new Â£300m stadi...</td>\n",
       "      <td>Liverpool Mayor Joe Anderson said it was a gre...</td>\n",
       "      <td>Liverpool City Council has said it is \"job don...</td>\n",
       "      <td>1.053319</td>\n",
       "      <td>11</td>\n",
       "    </tr>\n",
       "    <tr>\n",
       "      <th>3</th>\n",
       "      <td>Everton's ambition to build a new Â£300m stadi...</td>\n",
       "      <td>Liverpool Mayor Joe Anderson said it was a gre...</td>\n",
       "      <td>Liverpool City Council has said it is \"job don...</td>\n",
       "      <td>1.022270</td>\n",
       "      <td>11</td>\n",
       "    </tr>\n",
       "    <tr>\n",
       "      <th>4</th>\n",
       "      <td>Everton's ambition to build a new Â£300m stadi...</td>\n",
       "      <td>Liverpool Mayor Joe Anderson said it was a gre...</td>\n",
       "      <td>Liverpool City Council has said it is \"job don...</td>\n",
       "      <td>1.053319</td>\n",
       "      <td>11</td>\n",
       "    </tr>\n",
       "    <tr>\n",
       "      <th>...</th>\n",
       "      <td>...</td>\n",
       "      <td>...</td>\n",
       "      <td>...</td>\n",
       "      <td>...</td>\n",
       "      <td>...</td>\n",
       "    </tr>\n",
       "    <tr>\n",
       "      <th>19195</th>\n",
       "      <td>Over the last week, I've had a taste of our mo...</td>\n",
       "      <td>I've downloaded an episode of David Attenborou...</td>\n",
       "      <td>I've been using a mobile phone to watch TV for...</td>\n",
       "      <td>0.720445</td>\n",
       "      <td>7</td>\n",
       "    </tr>\n",
       "    <tr>\n",
       "      <th>19196</th>\n",
       "      <td>Over the last week, I've had a taste of our mo...</td>\n",
       "      <td>I've downloaded an episode of David Attenborou...</td>\n",
       "      <td>I've been using a mobile phone to watch TV for...</td>\n",
       "      <td>0.720445</td>\n",
       "      <td>7</td>\n",
       "    </tr>\n",
       "    <tr>\n",
       "      <th>19197</th>\n",
       "      <td>Over the last week, I've had a taste of our mo...</td>\n",
       "      <td>I've downloaded an episode of David Attenborou...</td>\n",
       "      <td>I've been able to watch TV shows and movies at...</td>\n",
       "      <td>0.633280</td>\n",
       "      <td>5</td>\n",
       "    </tr>\n",
       "    <tr>\n",
       "      <th>19198</th>\n",
       "      <td>Over the last week, I've had a taste of our mo...</td>\n",
       "      <td>I've downloaded an episode of David Attenborou...</td>\n",
       "      <td>I've been able to watch TV shows and movies at...</td>\n",
       "      <td>0.633280</td>\n",
       "      <td>5</td>\n",
       "    </tr>\n",
       "    <tr>\n",
       "      <th>19199</th>\n",
       "      <td>Over the last week, I've had a taste of our mo...</td>\n",
       "      <td>I've downloaded an episode of David Attenborou...</td>\n",
       "      <td>I've been able to watch TV shows and movies at...</td>\n",
       "      <td>0.633280</td>\n",
       "      <td>5</td>\n",
       "    </tr>\n",
       "  </tbody>\n",
       "</table>\n",
       "<p>19200 rows × 5 columns</p>\n",
       "</div>"
      ],
      "text/plain": [
       "                                                     ref  \\\n",
       "0      Everton's ambition to build a new Â£300m stadi...   \n",
       "1      Everton's ambition to build a new Â£300m stadi...   \n",
       "2      Everton's ambition to build a new Â£300m stadi...   \n",
       "3      Everton's ambition to build a new Â£300m stadi...   \n",
       "4      Everton's ambition to build a new Â£300m stadi...   \n",
       "...                                                  ...   \n",
       "19195  Over the last week, I've had a taste of our mo...   \n",
       "19196  Over the last week, I've had a taste of our mo...   \n",
       "19197  Over the last week, I've had a taste of our mo...   \n",
       "19198  Over the last week, I've had a taste of our mo...   \n",
       "19199  Over the last week, I've had a taste of our mo...   \n",
       "\n",
       "                                                     src  \\\n",
       "0      Liverpool Mayor Joe Anderson said it was a gre...   \n",
       "1      Liverpool Mayor Joe Anderson said it was a gre...   \n",
       "2      Liverpool Mayor Joe Anderson said it was a gre...   \n",
       "3      Liverpool Mayor Joe Anderson said it was a gre...   \n",
       "4      Liverpool Mayor Joe Anderson said it was a gre...   \n",
       "...                                                  ...   \n",
       "19195  I've downloaded an episode of David Attenborou...   \n",
       "19196  I've downloaded an episode of David Attenborou...   \n",
       "19197  I've downloaded an episode of David Attenborou...   \n",
       "19198  I've downloaded an episode of David Attenborou...   \n",
       "19199  I've downloaded an episode of David Attenborou...   \n",
       "\n",
       "                                                     hyp    utnoun  \\\n",
       "0      Liverpool City Council has said it is \"job don...  1.053319   \n",
       "1      Liverpool City Council has said it is \"job don...  1.053319   \n",
       "2      Liverpool City Council has said it is \"job don...  1.053319   \n",
       "3      Liverpool City Council has said it is \"job don...  1.022270   \n",
       "4      Liverpool City Council has said it is \"job don...  1.053319   \n",
       "...                                                  ...       ...   \n",
       "19195  I've been using a mobile phone to watch TV for...  0.720445   \n",
       "19196  I've been using a mobile phone to watch TV for...  0.720445   \n",
       "19197  I've been able to watch TV shows and movies at...  0.633280   \n",
       "19198  I've been able to watch TV shows and movies at...  0.633280   \n",
       "19199  I've been able to watch TV shows and movies at...  0.633280   \n",
       "\n",
       "       unique_nouns  \n",
       "0                11  \n",
       "1                11  \n",
       "2                11  \n",
       "3                11  \n",
       "4                11  \n",
       "...             ...  \n",
       "19195             7  \n",
       "19196             7  \n",
       "19197             5  \n",
       "19198             5  \n",
       "19199             5  \n",
       "\n",
       "[19200 rows x 5 columns]"
      ]
     },
     "execution_count": 25,
     "metadata": {},
     "output_type": "execute_result"
    }
   ],
   "source": [
    "downstream"
   ]
  },
  {
   "cell_type": "code",
   "execution_count": 12,
   "id": "848bee65-7943-44f2-9350-1a8d04f97d8d",
   "metadata": {},
   "outputs": [],
   "source": [
    "import time\n",
    "import random\n",
    "from ast import literal_eval"
   ]
  },
  {
   "cell_type": "code",
   "execution_count": 13,
   "id": "357f81e1-5f48-4c47-afdf-2a8427b385f1",
   "metadata": {},
   "outputs": [],
   "source": [
    "def rand_robust(samp_n, numruns, metric):\n",
    "    alluns = explode_df['ref'].unique()\n",
    "    avg_preds = []\n",
    "    # repeat for everything in explode_df\n",
    "    for a in alluns:\n",
    "        if type(a) is not str:\n",
    "            continue\n",
    "        if len(a)>5:\n",
    "            scolist = explode_df[explode_df['ref']==a]\n",
    "            totsco = 0\n",
    "            if samp_n>0:\n",
    "                for n in range(numruns):\n",
    "                    samp = scolist.sample(samp_n, replace=True)\n",
    "                    totsco+=max(list(samp[metric]))\n",
    "                avg_preds.append(totsco/numruns)\n",
    "                #print(totsco/numruns)\n",
    "            else:\n",
    "                avg_preds.append(max(list(scolist[metric])))\n",
    "            if len(avg_preds)%30==0:\n",
    "                print(avg_preds[-1])\n",
    "                \n",
    "    return avg_preds\n",
    "        \n",
    "def eel_robust(samp_n, numruns, df):\n",
    "    total = []\n",
    "    for index, row in df.iterrows():\n",
    "        l = literal_eval(row['ascos'])\n",
    "        tot = 0\n",
    "        for n in range(numruns):\n",
    "            tot+=max(random.choices(l, k=samp_n))\n",
    "        total.append(tot/numruns)\n",
    "    return total\n",
    "            "
   ]
  },
  {
   "cell_type": "code",
   "execution_count": 61,
   "id": "41521521-38cf-4ebd-92b2-c7923c02ce19",
   "metadata": {},
   "outputs": [],
   "source": [
    "lpredstmp = pd.read_csv(\"outputs/predcsvs/\"+\"mtenru_16_valid.csv\")"
   ]
  },
  {
   "cell_type": "code",
   "execution_count": 63,
   "id": "f42244ec-cce8-46b3-8159-1a1deb885448",
   "metadata": {},
   "outputs": [
    {
     "data": {
      "text/plain": [
       "0.8361491533353252"
      ]
     },
     "execution_count": 63,
     "metadata": {},
     "output_type": "execute_result"
    }
   ],
   "source": [
    "mean(eel_robust(1, 1000, lpredstmp))"
   ]
  },
  {
   "cell_type": "code",
   "execution_count": 17,
   "id": "0725a87a-c963-41a6-992c-dd48580ac9d7",
   "metadata": {},
   "outputs": [
    {
     "name": "stdout",
     "output_type": "stream",
     "text": [
      "0.8044666165113449\n",
      "0.4537063679099083\n",
      "0.6423397800326347\n",
      "0.3611555516719818\n",
      "0.7103223258256912\n",
      "0.69183228880167\n",
      "0.7604464161396026\n",
      "0.5041212370991707\n",
      "0.6260834765434266\n",
      "0.7240940070152283\n",
      "0.7586746138334274\n",
      "0.7200856566429138\n",
      "0.5755285555124283\n",
      "0.7995218813419342\n",
      "0.6039111384749413\n",
      "0.6667162621021271\n",
      "0.5659683099389077\n",
      "0.664055059850216\n",
      "0.6100616631656886\n",
      "0.6489359080791474\n",
      "0.8611379724740982\n",
      "0.6631572848558426\n",
      "0.5775548872351647\n",
      "0.5935747650265694\n",
      "0.13072008468210697\n",
      "0.6354189884662628\n",
      "0.49711788311600685\n",
      "0.6884044453501701\n",
      "0.7324190041422844\n",
      "0.6834666362404823\n",
      "0.11586612567305565\n",
      "0.5432203797996045\n"
     ]
    }
   ],
   "source": [
    "apreds = rand_robust(1, 100, \"dupcqe\")"
   ]
  },
  {
   "cell_type": "code",
   "execution_count": 18,
   "id": "67854519-14fe-4e6e-8f9d-29bed047f704",
   "metadata": {},
   "outputs": [
    {
     "data": {
      "text/plain": [
       "0.5816642331320379"
      ]
     },
     "execution_count": 18,
     "metadata": {},
     "output_type": "execute_result"
    }
   ],
   "source": [
    "mean(apreds)"
   ]
  },
  {
   "cell_type": "code",
   "execution_count": 9,
   "id": "ec6f8f6d-591b-4c72-8e4e-d732b17a8b33",
   "metadata": {},
   "outputs": [
    {
     "data": {
      "text/html": [
       "<div>\n",
       "<style scoped>\n",
       "    .dataframe tbody tr th:only-of-type {\n",
       "        vertical-align: middle;\n",
       "    }\n",
       "\n",
       "    .dataframe tbody tr th {\n",
       "        vertical-align: top;\n",
       "    }\n",
       "\n",
       "    .dataframe thead th {\n",
       "        text-align: right;\n",
       "    }\n",
       "</style>\n",
       "<table border=\"1\" class=\"dataframe\">\n",
       "  <thead>\n",
       "    <tr style=\"text-align: right;\">\n",
       "      <th></th>\n",
       "      <th>Unnamed: 0</th>\n",
       "      <th>src</th>\n",
       "      <th>ref</th>\n",
       "      <th>hyp</th>\n",
       "      <th>utnounprev</th>\n",
       "      <th>unique_nouns</th>\n",
       "      <th>utnoun</th>\n",
       "    </tr>\n",
       "  </thead>\n",
       "  <tbody>\n",
       "    <tr>\n",
       "      <th>0</th>\n",
       "      <td>0</td>\n",
       "      <td>The gunmen had approached the restaurant from ...</td>\n",
       "      <td>Somali security forces have retaken control of...</td>\n",
       "      <td>Somali troops have killed all the militants wh...</td>\n",
       "      <td>0.512872</td>\n",
       "      <td>6</td>\n",
       "      <td>0.542059</td>\n",
       "    </tr>\n",
       "    <tr>\n",
       "      <th>1</th>\n",
       "      <td>1</td>\n",
       "      <td>The gunmen had approached the restaurant from ...</td>\n",
       "      <td>Somali security forces have retaken control of...</td>\n",
       "      <td>Somalia's security forces have killed all the ...</td>\n",
       "      <td>0.682395</td>\n",
       "      <td>7</td>\n",
       "      <td>0.720953</td>\n",
       "    </tr>\n",
       "    <tr>\n",
       "      <th>2</th>\n",
       "      <td>2</td>\n",
       "      <td>The gunmen had approached the restaurant from ...</td>\n",
       "      <td>Somali security forces have retaken control of...</td>\n",
       "      <td>Somali security forces have killed all the mil...</td>\n",
       "      <td>0.633267</td>\n",
       "      <td>7</td>\n",
       "      <td>0.672587</td>\n",
       "    </tr>\n",
       "    <tr>\n",
       "      <th>3</th>\n",
       "      <td>3</td>\n",
       "      <td>The gunmen had approached the restaurant from ...</td>\n",
       "      <td>Somali security forces have retaken control of...</td>\n",
       "      <td>Somali forces have killed all the militants wh...</td>\n",
       "      <td>0.540708</td>\n",
       "      <td>6</td>\n",
       "      <td>0.573508</td>\n",
       "    </tr>\n",
       "    <tr>\n",
       "      <th>4</th>\n",
       "      <td>4</td>\n",
       "      <td>The gunmen had approached the restaurant from ...</td>\n",
       "      <td>Somali security forces have retaken control of...</td>\n",
       "      <td>Somali security forces say they have killed al...</td>\n",
       "      <td>0.642842</td>\n",
       "      <td>7</td>\n",
       "      <td>0.678187</td>\n",
       "    </tr>\n",
       "    <tr>\n",
       "      <th>...</th>\n",
       "      <td>...</td>\n",
       "      <td>...</td>\n",
       "      <td>...</td>\n",
       "      <td>...</td>\n",
       "      <td>...</td>\n",
       "      <td>...</td>\n",
       "      <td>...</td>\n",
       "    </tr>\n",
       "    <tr>\n",
       "      <th>673725</th>\n",
       "      <td>673725</td>\n",
       "      <td>The Canadian singer told BBC Radio 4's Desert ...</td>\n",
       "      <td>Michael Buble has revealed how he went from ba...</td>\n",
       "      <td>Michael Buble has revealed that a Warner Bros ...</td>\n",
       "      <td>0.574919</td>\n",
       "      <td>6</td>\n",
       "      <td>0.613741</td>\n",
       "    </tr>\n",
       "    <tr>\n",
       "      <th>673726</th>\n",
       "      <td>673726</td>\n",
       "      <td>The Canadian singer told BBC Radio 4's Desert ...</td>\n",
       "      <td>Michael Buble has revealed how he went from ba...</td>\n",
       "      <td>Michael Buble has revealed how a Warner Bros e...</td>\n",
       "      <td>0.577802</td>\n",
       "      <td>6</td>\n",
       "      <td>0.618353</td>\n",
       "    </tr>\n",
       "    <tr>\n",
       "      <th>673727</th>\n",
       "      <td>673727</td>\n",
       "      <td>The Canadian singer told BBC Radio 4's Desert ...</td>\n",
       "      <td>Michael Buble has revealed how he went from ba...</td>\n",
       "      <td>Michael Buble has told how a Warner Bros execu...</td>\n",
       "      <td>0.586550</td>\n",
       "      <td>6</td>\n",
       "      <td>0.630084</td>\n",
       "    </tr>\n",
       "    <tr>\n",
       "      <th>673728</th>\n",
       "      <td>673728</td>\n",
       "      <td>The Canadian singer told BBC Radio 4's Desert ...</td>\n",
       "      <td>Michael Buble has revealed how he went from ba...</td>\n",
       "      <td>Michael Buble has described how a Warner Bros ...</td>\n",
       "      <td>0.575857</td>\n",
       "      <td>6</td>\n",
       "      <td>0.618203</td>\n",
       "    </tr>\n",
       "    <tr>\n",
       "      <th>673729</th>\n",
       "      <td>673729</td>\n",
       "      <td>The Canadian singer told BBC Radio 4's Desert ...</td>\n",
       "      <td>Michael Buble has revealed how he went from ba...</td>\n",
       "      <td>Michael Buble has revealed that a Warner Bros ...</td>\n",
       "      <td>0.739764</td>\n",
       "      <td>8</td>\n",
       "      <td>0.789125</td>\n",
       "    </tr>\n",
       "  </tbody>\n",
       "</table>\n",
       "<p>673730 rows × 7 columns</p>\n",
       "</div>"
      ],
      "text/plain": [
       "        Unnamed: 0                                                src  \\\n",
       "0                0  The gunmen had approached the restaurant from ...   \n",
       "1                1  The gunmen had approached the restaurant from ...   \n",
       "2                2  The gunmen had approached the restaurant from ...   \n",
       "3                3  The gunmen had approached the restaurant from ...   \n",
       "4                4  The gunmen had approached the restaurant from ...   \n",
       "...            ...                                                ...   \n",
       "673725      673725  The Canadian singer told BBC Radio 4's Desert ...   \n",
       "673726      673726  The Canadian singer told BBC Radio 4's Desert ...   \n",
       "673727      673727  The Canadian singer told BBC Radio 4's Desert ...   \n",
       "673728      673728  The Canadian singer told BBC Radio 4's Desert ...   \n",
       "673729      673729  The Canadian singer told BBC Radio 4's Desert ...   \n",
       "\n",
       "                                                      ref  \\\n",
       "0       Somali security forces have retaken control of...   \n",
       "1       Somali security forces have retaken control of...   \n",
       "2       Somali security forces have retaken control of...   \n",
       "3       Somali security forces have retaken control of...   \n",
       "4       Somali security forces have retaken control of...   \n",
       "...                                                   ...   \n",
       "673725  Michael Buble has revealed how he went from ba...   \n",
       "673726  Michael Buble has revealed how he went from ba...   \n",
       "673727  Michael Buble has revealed how he went from ba...   \n",
       "673728  Michael Buble has revealed how he went from ba...   \n",
       "673729  Michael Buble has revealed how he went from ba...   \n",
       "\n",
       "                                                      hyp  utnounprev  \\\n",
       "0       Somali troops have killed all the militants wh...    0.512872   \n",
       "1       Somalia's security forces have killed all the ...    0.682395   \n",
       "2       Somali security forces have killed all the mil...    0.633267   \n",
       "3       Somali forces have killed all the militants wh...    0.540708   \n",
       "4       Somali security forces say they have killed al...    0.642842   \n",
       "...                                                   ...         ...   \n",
       "673725  Michael Buble has revealed that a Warner Bros ...    0.574919   \n",
       "673726  Michael Buble has revealed how a Warner Bros e...    0.577802   \n",
       "673727  Michael Buble has told how a Warner Bros execu...    0.586550   \n",
       "673728  Michael Buble has described how a Warner Bros ...    0.575857   \n",
       "673729  Michael Buble has revealed that a Warner Bros ...    0.739764   \n",
       "\n",
       "        unique_nouns    utnoun  \n",
       "0                  6  0.542059  \n",
       "1                  7  0.720953  \n",
       "2                  7  0.672587  \n",
       "3                  6  0.573508  \n",
       "4                  7  0.678187  \n",
       "...              ...       ...  \n",
       "673725             6  0.613741  \n",
       "673726             6  0.618353  \n",
       "673727             6  0.630084  \n",
       "673728             6  0.618203  \n",
       "673729             8  0.789125  \n",
       "\n",
       "[673730 rows x 7 columns]"
      ]
     },
     "execution_count": 9,
     "metadata": {},
     "output_type": "execute_result"
    }
   ],
   "source": [
    "explode_df"
   ]
  },
  {
   "cell_type": "code",
   "execution_count": null,
   "id": "1e959e55-264c-4c30-88e2-836bd2254477",
   "metadata": {},
   "outputs": [],
   "source": [
    "phoc = all_unnoun_multi(32, \"dupcqe\", args)\n",
    "print(mean(phoc))"
   ]
  },
  {
   "cell_type": "code",
   "execution_count": null,
   "id": "6ebd7e64-a228-40fe-980d-e680fddb4e33",
   "metadata": {},
   "outputs": [],
   "source": [
    "s = time.time()\n",
    "args['noregen'] = True\n",
    "args['setlen'] = 100\n",
    "phoc = all_unnoun_multi(1, \"utnoun\", args)\n",
    "print(mean(phoc))\n",
    "e = time.time()"
   ]
  },
  {
   "cell_type": "code",
   "execution_count": 11,
   "id": "595618f6-20ff-4b3b-9a73-3790bf8f13af",
   "metadata": {},
   "outputs": [
    {
     "data": {
      "text/plain": [
       "0.9002537321537099"
      ]
     },
     "execution_count": 11,
     "metadata": {},
     "output_type": "execute_result"
    }
   ],
   "source": [
    "(e-s)/len(phoc)"
   ]
  },
  {
   "cell_type": "code",
   "execution_count": null,
   "id": "07e41107-943e-4d77-a242-bb39954225a1",
   "metadata": {},
   "outputs": [],
   "source": [
    "args['explode_df']"
   ]
  },
  {
   "cell_type": "code",
   "execution_count": 37,
   "id": "f9f8c470-ad28-42a1-b490-9e0f8aabd0c5",
   "metadata": {},
   "outputs": [],
   "source": [
    "explode_df['phocrank'] = explode_df['posthoc']*-1\n",
    "#rand = all_unnoun_multi(32)"
   ]
  },
  {
   "cell_type": "code",
   "execution_count": 32,
   "id": "4757ee2e-82e0-4d05-87ec-554fee2b2b45",
   "metadata": {},
   "outputs": [
    {
     "data": {
      "text/plain": [
       "tensor(0.8749, device='cuda:2', grad_fn=<DivBackward0>)"
      ]
     },
     "execution_count": 32,
     "metadata": {},
     "output_type": "execute_result"
    }
   ],
   "source": [
    "mean(rand)"
   ]
  },
  {
   "cell_type": "code",
   "execution_count": 49,
   "id": "7175ce6a-7330-4c3c-ae19-ac4761620510",
   "metadata": {},
   "outputs": [
    {
     "data": {
      "text/html": [
       "<div>\n",
       "<style scoped>\n",
       "    .dataframe tbody tr th:only-of-type {\n",
       "        vertical-align: middle;\n",
       "    }\n",
       "\n",
       "    .dataframe tbody tr th {\n",
       "        vertical-align: top;\n",
       "    }\n",
       "\n",
       "    .dataframe thead th {\n",
       "        text-align: right;\n",
       "    }\n",
       "</style>\n",
       "<table border=\"1\" class=\"dataframe\">\n",
       "  <thead>\n",
       "    <tr style=\"text-align: right;\">\n",
       "      <th></th>\n",
       "      <th>hyp</th>\n",
       "      <th>hypsco</th>\n",
       "      <th>gold</th>\n",
       "      <th>goldsco</th>\n",
       "      <th>ascos</th>\n",
       "      <th>ahyps</th>\n",
       "      <th>numnodes</th>\n",
       "    </tr>\n",
       "  </thead>\n",
       "  <tbody>\n",
       "    <tr>\n",
       "      <th>7</th>\n",
       "      <td>Немецкие и французские стороны явно нуждались ...</td>\n",
       "      <td>tensor(0.3987, device='cuda:2', grad_fn=&lt;SumBa...</td>\n",
       "      <td>Германия и Франция явно нуждались во взаимном ...</td>\n",
       "      <td>tensor(0.9256, device='cuda:2', grad_fn=&lt;SumBa...</td>\n",
       "      <td>[0.3987096846103668]</td>\n",
       "      <td>[Немецкие и французские стороны явно нуждались...</td>\n",
       "      <td>385</td>\n",
       "    </tr>\n",
       "    <tr>\n",
       "      <th>13</th>\n",
       "      <td>Небольшая часть населения Индии не имеет ни од...</td>\n",
       "      <td>tensor(0.6347, device='cuda:2', grad_fn=&lt;SumBa...</td>\n",
       "      <td>Сложно понять низкую позицию Индии.</td>\n",
       "      <td>tensor(0.9250, device='cuda:2', grad_fn=&lt;SumBa...</td>\n",
       "      <td>[0.6347033977508545]</td>\n",
       "      <td>[Небольшая часть населения Индии не имеет ни о...</td>\n",
       "      <td>501</td>\n",
       "    </tr>\n",
       "    <tr>\n",
       "      <th>19</th>\n",
       "      <td>Так много о предсказках Кругмана.</td>\n",
       "      <td>tensor(0.2668, device='cuda:2', grad_fn=&lt;SumBa...</td>\n",
       "      <td>Это все, что предсказывал Кругман.</td>\n",
       "      <td>tensor(0.7456, device='cuda:2', grad_fn=&lt;SumBa...</td>\n",
       "      <td>[0.2667738199234009]</td>\n",
       "      <td>[Так много о предсказках Кругмана.]</td>\n",
       "      <td>554</td>\n",
       "    </tr>\n",
       "    <tr>\n",
       "      <th>31</th>\n",
       "      <td>Мы узнали, что это была просто воздушная пузыр...</td>\n",
       "      <td>tensor(0.8288, device='cuda:2', grad_fn=&lt;SumBa...</td>\n",
       "      <td>Мы поняли, что это было просто кружево.</td>\n",
       "      <td>tensor(1.0661, device='cuda:2', grad_fn=&lt;SumBa...</td>\n",
       "      <td>[0.8288499116897583]</td>\n",
       "      <td>[Мы узнали, что это была просто воздушная пузы...</td>\n",
       "      <td>558</td>\n",
       "    </tr>\n",
       "    <tr>\n",
       "      <th>71</th>\n",
       "      <td>В некоторых странах до 30% более оптимистичных...</td>\n",
       "      <td>tensor(0.7622, device='cuda:2', grad_fn=&lt;SumBa...</td>\n",
       "      <td>До 30% наиболее оптимистичных потребителей в н...</td>\n",
       "      <td>tensor(1.0325, device='cuda:2', grad_fn=&lt;SumBa...</td>\n",
       "      <td>[0.7622228264808655]</td>\n",
       "      <td>[В некоторых странах до 30% более оптимистичны...</td>\n",
       "      <td>381</td>\n",
       "    </tr>\n",
       "  </tbody>\n",
       "</table>\n",
       "</div>"
      ],
      "text/plain": [
       "                                                  hyp  \\\n",
       "7   Немецкие и французские стороны явно нуждались ...   \n",
       "13  Небольшая часть населения Индии не имеет ни од...   \n",
       "19                  Так много о предсказках Кругмана.   \n",
       "31  Мы узнали, что это была просто воздушная пузыр...   \n",
       "71  В некоторых странах до 30% более оптимистичных...   \n",
       "\n",
       "                                               hypsco  \\\n",
       "7   tensor(0.3987, device='cuda:2', grad_fn=<SumBa...   \n",
       "13  tensor(0.6347, device='cuda:2', grad_fn=<SumBa...   \n",
       "19  tensor(0.2668, device='cuda:2', grad_fn=<SumBa...   \n",
       "31  tensor(0.8288, device='cuda:2', grad_fn=<SumBa...   \n",
       "71  tensor(0.7622, device='cuda:2', grad_fn=<SumBa...   \n",
       "\n",
       "                                                 gold  \\\n",
       "7   Германия и Франция явно нуждались во взаимном ...   \n",
       "13                Сложно понять низкую позицию Индии.   \n",
       "19                 Это все, что предсказывал Кругман.   \n",
       "31            Мы поняли, что это было просто кружево.   \n",
       "71  До 30% наиболее оптимистичных потребителей в н...   \n",
       "\n",
       "                                              goldsco                 ascos  \\\n",
       "7   tensor(0.9256, device='cuda:2', grad_fn=<SumBa...  [0.3987096846103668]   \n",
       "13  tensor(0.9250, device='cuda:2', grad_fn=<SumBa...  [0.6347033977508545]   \n",
       "19  tensor(0.7456, device='cuda:2', grad_fn=<SumBa...  [0.2667738199234009]   \n",
       "31  tensor(1.0661, device='cuda:2', grad_fn=<SumBa...  [0.8288499116897583]   \n",
       "71  tensor(1.0325, device='cuda:2', grad_fn=<SumBa...  [0.7622228264808655]   \n",
       "\n",
       "                                                ahyps  numnodes  \n",
       "7   [Немецкие и французские стороны явно нуждались...       385  \n",
       "13  [Небольшая часть населения Индии не имеет ни о...       501  \n",
       "19                [Так много о предсказках Кругмана.]       554  \n",
       "31  [Мы узнали, что это была просто воздушная пузы...       558  \n",
       "71  [В некоторых странах до 30% более оптимистичны...       381  "
      ]
     },
     "execution_count": 49,
     "metadata": {},
     "output_type": "execute_result"
    }
   ],
   "source": [
    "latpreds[latpreds['goldsco']-latpreds['hypsco']>.2]"
   ]
  },
  {
   "cell_type": "code",
   "execution_count": null,
   "id": "d74b0471-5f9d-403a-850f-e27892c45841",
   "metadata": {},
   "outputs": [],
   "source": [
    "# code for getting comparable sets for lattice generation\n",
    "#frset = pd.read_csv(\"outputs/score_csvs/frenchlargeexplodev1.csv\")\n",
    "#xsumset = pd.read_csv(\"outputs/score_csvs/nounxsumlargeexplodev2.csv\")\n",
    "#frset = frset.drop_duplicates(subset='ref')\n",
    "#xsumset = xsumset.drop_duplicates(subset='ref')\n",
    "#xsumset.to_csv(\"sumexamps.csv\")\n",
    "#frset.to_csv(\"frset.csv\")"
   ]
  }
 ],
 "metadata": {
  "kernelspec": {
   "display_name": "Python 3 (ipykernel)",
   "language": "python",
   "name": "python3"
  },
  "language_info": {
   "codemirror_mode": {
    "name": "ipython",
    "version": 3
   },
   "file_extension": ".py",
   "mimetype": "text/x-python",
   "name": "python",
   "nbconvert_exporter": "python",
   "pygments_lexer": "ipython3",
   "version": "3.8.12"
  }
 },
 "nbformat": 4,
 "nbformat_minor": 5
}
