{
 "cells": [
  {
   "cell_type": "code",
   "execution_count": 1,
   "id": "e69178f6-7f5d-4023-b9d5-6f89d6db3e02",
   "metadata": {},
   "outputs": [],
   "source": [
    "import pandas as pd"
   ]
  },
  {
   "cell_type": "code",
   "execution_count": 2,
   "id": "74360ab4-d158-4ea0-921b-bce0eb337f25",
   "metadata": {},
   "outputs": [],
   "source": [
    "df = pd.read_csv(\"outputs/predcsvs/fren_comstyle_v2.csv\", index_col=0)"
   ]
  },
  {
   "cell_type": "code",
   "execution_count": 12,
   "id": "9adc1f5e-e20d-46d6-9ce7-9aeb6164d0bb",
   "metadata": {},
   "outputs": [
    {
     "name": "stdout",
     "output_type": "stream",
     "text": [
      "A fairer, more prosperous future for all three countries demands that we take a bold step forward. \n",
      "A more just and prosperous future for these three countries requires courageous measures on our part.\n",
      "0.635282576084137\n"
     ]
    }
   ],
   "source": [
    "print(df.loc[7]['ref'])\n",
    "print(df.loc[7]['ahyp'])\n",
    "print(df.loc[7]['comet'])"
   ]
  },
  {
   "cell_type": "code",
   "execution_count": 22,
   "id": "e1846ba3-b5a2-4d09-9ef9-05efc8d708d6",
   "metadata": {},
   "outputs": [
    {
     "name": "stdout",
     "output_type": "stream",
     "text": [
      "At one end of its spectrum of meanings, conservatism has (over the last two decades) come to be viewed as promoting too much of a civic life of greed and grab. \n",
      "At one end of the spectrum it is seen (for about 20 years) as the expression of social selfishness (for the last twenty years or so) as an expression of social selfishness, at the other, in many European countries it has sometimes dangerously moved closer to the extreme right in many European countries, it has come dangerously close to the far right.\n"
     ]
    }
   ],
   "source": [
    "ind = 3\n",
    "print(df[df['comet']<0].iloc[ind]['ref'])\n",
    "print(df[df['comet']<0].iloc[ind]['ahyp'])\n"
   ]
  },
  {
   "cell_type": "code",
   "execution_count": 3,
   "id": "767a93a8-6230-494b-b312-87beb35fcf83",
   "metadata": {},
   "outputs": [
    {
     "data": {
      "text/plain": [
       "0.6067640129884366"
      ]
     },
     "execution_count": 3,
     "metadata": {},
     "output_type": "execute_result"
    }
   ],
   "source": [
    "sum(df[df['comet']>-1]['comet'])/len(df[df['comet']>-1])"
   ]
  },
  {
   "cell_type": "code",
   "execution_count": null,
   "id": "012f7505-bdb5-40fd-a308-26bbdb50cb8f",
   "metadata": {},
   "outputs": [],
   "source": []
  }
 ],
 "metadata": {
  "kernelspec": {
   "display_name": "Python 3 (ipykernel)",
   "language": "python",
   "name": "python3"
  },
  "language_info": {
   "codemirror_mode": {
    "name": "ipython",
    "version": 3
   },
   "file_extension": ".py",
   "mimetype": "text/x-python",
   "name": "python",
   "nbconvert_exporter": "python",
   "pygments_lexer": "ipython3",
   "version": "3.8.12"
  }
 },
 "nbformat": 4,
 "nbformat_minor": 5
}
