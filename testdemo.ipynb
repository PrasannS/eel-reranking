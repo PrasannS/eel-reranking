{
 "cells": [
  {
   "cell_type": "code",
   "execution_count": 1,
   "id": "d783f0f0-056e-46d9-bf0f-d397ed43efd6",
   "metadata": {},
   "outputs": [
    {
     "name": "stderr",
     "output_type": "stream",
     "text": [
      "2022-11-11 08:55:43.496833: W tensorflow/stream_executor/platform/default/dso_loader.cc:64] Could not load dynamic library 'libcudart.so.11.0'; dlerror: libcudart.so.11.0: cannot open shared object file: No such file or directory\n",
      "2022-11-11 08:55:43.496853: I tensorflow/stream_executor/cuda/cudart_stub.cc:29] Ignore above cudart dlerror if you do not have a GPU set up on your machine.\n"
     ]
    }
   ],
   "source": [
    "from transformers import AutoModelForSequenceClassification, AutoTokenizer\n",
    "import torch"
   ]
  },
  {
   "cell_type": "code",
   "execution_count": null,
   "id": "215ee170-e838-4bb2-8ec6-1809c8be54bb",
   "metadata": {},
   "outputs": [],
   "source": [
    "tokenizer = AutoTokenizer.from_pretrained(\"Elron/bleurt-base-512\")\n",
    "model = AutoModelForSequenceClassification.from_pretrained(\"Elron/bleurt-base-512\").to(\"cuda:2\")\n",
    "model.eval()"
   ]
  },
  {
   "cell_type": "code",
   "execution_count": null,
   "id": "9210458c-04da-4ec6-9f68-fed60449bf3c",
   "metadata": {},
   "outputs": [],
   "source": [
    "references = [\"hello world\", \"hello world\"]*10000\n",
    "candidates = [\"hi universe\", \"bye world\"]*10000\n",
    "\n",
    "with torch.no_grad():\n",
    "    inputs = tokenizer(references, candidates, return_tensors='pt').to(\"cuda:2\")\n",
    "    scores = model(**inputs)[0].squeeze()\n",
    "\n",
    "#print(list(scores)) # tensor([1.0327, 0.2055])"
   ]
  },
  {
   "cell_type": "code",
   "execution_count": null,
   "id": "31ea8760-9216-403b-906b-a4ccedda6f61",
   "metadata": {},
   "outputs": [],
   "source": []
  },
  {
   "cell_type": "code",
   "execution_count": null,
   "id": "ff8a4923-af28-42c9-843a-d3626c753b55",
   "metadata": {},
   "outputs": [],
   "source": []
  }
 ],
 "metadata": {
  "kernelspec": {
   "display_name": "Python 3 (ipykernel)",
   "language": "python",
   "name": "python3"
  },
  "language_info": {
   "codemirror_mode": {
    "name": "ipython",
    "version": 3
   },
   "file_extension": ".py",
   "mimetype": "text/x-python",
   "name": "python",
   "nbconvert_exporter": "python",
   "pygments_lexer": "ipython3",
   "version": "3.8.12"
  }
 },
 "nbformat": 4,
 "nbformat_minor": 5
}
