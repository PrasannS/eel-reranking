{
 "cells": [
  {
   "cell_type": "code",
   "execution_count": 1,
   "id": "77b33fc0-6d93-4f8f-8413-57dde477187d",
   "metadata": {},
   "outputs": [],
   "source": [
    "# notebook to pinpoint degradation, rapid fire some more ideas"
   ]
  },
  {
   "cell_type": "code",
   "execution_count": 42,
   "id": "20c34654-f958-4105-9e1b-e54e2b40ee88",
   "metadata": {},
   "outputs": [],
   "source": [
    "import pandas as pd\n",
    "from encode_utils.rerank_data import rerank_dist, rerank_single\n",
    "from encode_utils.efficient_rerank import get_effrerank_model, run_comstyle\n",
    "from encode_utils.mt_scores import get_scores_auto\n",
    "from encode_utils.sco_funct import weightaddprob, default_scofunct\n",
    "\n",
    "from test_efficient_rerank import test_graph_ind"
   ]
  },
  {
   "cell_type": "code",
   "execution_count": 14,
   "id": "6c1bcd8b-0f9a-408d-88c8-a60ff09e4e9f",
   "metadata": {},
   "outputs": [],
   "source": [
    "def mean(l):\n",
    "    return sum(l)/len(l)"
   ]
  },
  {
   "cell_type": "code",
   "execution_count": 3,
   "id": "5a9d32ca-5164-4d35-897f-2eaffbe2c047",
   "metadata": {},
   "outputs": [],
   "source": [
    "noun_explode = pd.read_csv(\"outputs/score_csvs/nounexplodev1.csv\")"
   ]
  },
  {
   "cell_type": "code",
   "execution_count": 6,
   "id": "9674f4d7-7a26-4da6-b198-465ac65f1a6c",
   "metadata": {},
   "outputs": [],
   "source": [
    "gold_vals = rerank_dist(noun_explode, rerank_single, ['utnoun', 'utnoun'])"
   ]
  },
  {
   "cell_type": "code",
   "execution_count": 40,
   "id": "53279b60-3433-4b01-893d-2c8fec2e1a63",
   "metadata": {},
   "outputs": [
    {
     "name": "stderr",
     "output_type": "stream",
     "text": [
      "Some weights of the model checkpoint at xlm-roberta-large were not used when initializing XLMRobertaModel: ['lm_head.layer_norm.bias', 'lm_head.dense.bias', 'lm_head.dense.weight', 'roberta.pooler.dense.bias', 'lm_head.bias', 'lm_head.decoder.weight', 'roberta.pooler.dense.weight', 'lm_head.layer_norm.weight']\n",
      "- This IS expected if you are initializing XLMRobertaModel from the checkpoint of a model trained on another task or with another architecture (e.g. initializing a BertForSequenceClassification model from a BertForPreTraining model).\n",
      "- This IS NOT expected if you are initializing XLMRobertaModel from the checkpoint of a model that you expect to be exactly identical (initializing a BertForSequenceClassification model from a BertForSequenceClassification model).\n",
      "Encoder model frozen.\n",
      "Loading weights from /mnt/data1/prasann/latticegen/lattice-generation/COMET/lightning_logs/version_44/checkpoints/epoch=9-step=40000.ckpt.\n"
     ]
    }
   ],
   "source": [
    "# get model \n",
    "encodemod = get_effrerank_model(\"noun\")"
   ]
  },
  {
   "cell_type": "code",
   "execution_count": 45,
   "id": "3cfa9a73-bf14-4d57-a275-556998f9d5ea",
   "metadata": {},
   "outputs": [],
   "source": [
    "res = test_graph_ind(\"outputs/graph_pickles/frtest_reversed/\", 0, encodemod, default_scofunct, \"noun\")"
   ]
  },
  {
   "cell_type": "code",
   "execution_count": 46,
   "id": "494602b3-f9f6-458b-818e-e7502b0417bc",
   "metadata": {},
   "outputs": [
    {
     "data": {
      "text/plain": [
       "{'hyp': '<s> After all, as a field investigative journalist, she has instilled in many people besides Putin, including the current Chechen Prime Minister Ramzan Kadyrov, not the least of whom she has accused of conducting a policy of abduction for ransom.',\n",
       " 'ref': 'After all, as a campaigning investigative journalist she made many people angry besides Putin, not least of which is the current Chechen Prime Minister, Ramzan Kadyrov, whom she accused of a policy of kidnapping for ransom. ',\n",
       " 'src': \"Après tout, en tant que journaliste d'investigation en campagne, elle a enragé beaucoup d'autres gens outre Poutine, parmi lesquels l'actuel Premier ministre tchétchène Ramzan Kadyrov n'est pas des moindres, qu'elle a accusé de mener une politique d'enlèvements contre rançons. \"}"
      ]
     },
     "execution_count": 46,
     "metadata": {},
     "output_type": "execute_result"
    }
   ],
   "source": [
    "res"
   ]
  },
  {
   "cell_type": "code",
   "execution_count": null,
   "id": "f15b5000-f40e-4d1c-99fc-fd5b8825e57f",
   "metadata": {},
   "outputs": [
    {
     "name": "stdout",
     "output_type": "stream",
     "text": [
      "\t- Explicitly set the environment variable TOKENIZERS_PARALLELISM=(true | false)\n"
     ]
    }
   ],
   "source": [
    "get_scores_auto([res['hyp'][4:]], [\"noun\"], [], \"utnoun\", \"comstyle\")"
   ]
  },
  {
   "cell_type": "code",
   "execution_count": 10,
   "id": "1cb72abd-9e21-48f9-8938-027af396c06c",
   "metadata": {},
   "outputs": [],
   "source": [
    "npreds = pd.read_csv(\"outputs/predcsvs/noun_comstyle_v2.csv\")"
   ]
  },
  {
   "cell_type": "code",
   "execution_count": 21,
   "id": "2f8e9635-b32a-48da-a640-069d7037fab3",
   "metadata": {},
   "outputs": [],
   "source": [
    "uns = list(noun_explode['ref'].unique())"
   ]
  },
  {
   "cell_type": "code",
   "execution_count": 49,
   "id": "a207c98a-3d08-485f-9ba5-24442d3dcc71",
   "metadata": {},
   "outputs": [],
   "source": [
    "res = []\n",
    "for u in uns: \n",
    "    res.append(float(npreds[npreds['ref']==u]['utnoun']))"
   ]
  },
  {
   "cell_type": "code",
   "execution_count": 50,
   "id": "588f3005-f446-4b5b-b033-52773fced2f2",
   "metadata": {},
   "outputs": [
    {
     "data": {
      "text/plain": [
       "0.8628873924911022"
      ]
     },
     "execution_count": 50,
     "metadata": {},
     "output_type": "execute_result"
    }
   ],
   "source": [
    "mean(res)"
   ]
  },
  {
   "cell_type": "code",
   "execution_count": 56,
   "id": "46bec18c-887d-4321-93d5-181b2397da7e",
   "metadata": {},
   "outputs": [],
   "source": [
    "diffs = [gold_vals[i] - res[i] for i in range(len(res))]"
   ]
  },
  {
   "cell_type": "code",
   "execution_count": 58,
   "id": "43322d9e-ad1f-41d2-ad0c-8ad98bd61897",
   "metadata": {},
   "outputs": [
    {
     "data": {
      "text/plain": [
       "0.08779214024543762"
      ]
     },
     "execution_count": 58,
     "metadata": {},
     "output_type": "execute_result"
    }
   ],
   "source": [
    "mean(diffs)"
   ]
  },
  {
   "cell_type": "code",
   "execution_count": 59,
   "id": "2aa2f2d3-1eb1-4b2b-91bd-57efc3c7ae87",
   "metadata": {},
   "outputs": [],
   "source": [
    "import matplotlib.pyplot as plt"
   ]
  },
  {
   "cell_type": "code",
   "execution_count": 60,
   "id": "35abaad2-ca21-4f3c-8a3e-f6400f733df2",
   "metadata": {},
   "outputs": [
    {
     "data": {
      "text/plain": [
       "(array([ 1.,  1.,  1., 21., 17., 32., 15.,  8.,  3.,  1.]),\n",
       " array([-0.16788018, -0.11897451, -0.07006885, -0.02116318,  0.02774248,\n",
       "         0.07664815,  0.12555381,  0.17445948,  0.22336514,  0.2722708 ,\n",
       "         0.32117647]),\n",
       " <BarContainer object of 10 artists>)"
      ]
     },
     "execution_count": 60,
     "metadata": {},
     "output_type": "execute_result"
    },
    {
     "data": {
      "image/png": "[encoded data removed]",
      "text/plain": [
       "<Figure size 432x288 with 1 Axes>"
      ]
     },
     "metadata": {
      "needs_background": "light"
     },
     "output_type": "display_data"
    }
   ],
   "source": [
    "plt.hist(diffs)"
   ]
  },
  {
   "cell_type": "code",
   "execution_count": 62,
   "id": "1869be46-386f-4077-be92-7d8f971fd890",
   "metadata": {},
   "outputs": [
    {
     "name": "stdout",
     "output_type": "stream",
     "text": [
      "13\n",
      "24\n",
      "29\n",
      "30\n",
      "75\n"
     ]
    }
   ],
   "source": [
    "for i in range(len(diffs)):\n",
    "    if diffs[i]<0:\n",
    "        print(i)"
   ]
  },
  {
   "cell_type": "code",
   "execution_count": 75,
   "id": "e20b56f8-3949-4fd7-8a9f-d57f04a9ed34",
   "metadata": {},
   "outputs": [],
   "source": [
    "hyp = npreds[npreds['ref']==uns[13]]['ahyp'].iloc[0]"
   ]
  },
  {
   "cell_type": "code",
   "execution_count": 79,
   "id": "2719e3fb-0c51-4072-911e-b90b57cd39de",
   "metadata": {},
   "outputs": [
    {
     "data": {
      "text/html": [
       "<div>\n",
       "<style scoped>\n",
       "    .dataframe tbody tr th:only-of-type {\n",
       "        vertical-align: middle;\n",
       "    }\n",
       "\n",
       "    .dataframe tbody tr th {\n",
       "        vertical-align: top;\n",
       "    }\n",
       "\n",
       "    .dataframe thead th {\n",
       "        text-align: right;\n",
       "    }\n",
       "</style>\n",
       "<table border=\"1\" class=\"dataframe\">\n",
       "  <thead>\n",
       "    <tr style=\"text-align: right;\">\n",
       "      <th></th>\n",
       "      <th>Unnamed: 0</th>\n",
       "      <th>src</th>\n",
       "      <th>ref</th>\n",
       "      <th>hyp</th>\n",
       "      <th>utnoun</th>\n",
       "      <th>unique_nouns</th>\n",
       "    </tr>\n",
       "  </thead>\n",
       "  <tbody>\n",
       "    <tr>\n",
       "      <th>27070</th>\n",
       "      <td>27070</td>\n",
       "      <td>En l’absence d'une voie claire vers une union ...</td>\n",
       "      <td>Absent a clear path to a much tighter fiscal a...</td>\n",
       "      <td>In the absence of a clear path towards much mo...</td>\n",
       "      <td>0.393927</td>\n",
       "      <td>5</td>\n",
       "    </tr>\n",
       "    <tr>\n",
       "      <th>27071</th>\n",
       "      <td>27071</td>\n",
       "      <td>En l’absence d'une voie claire vers une union ...</td>\n",
       "      <td>Absent a clear path to a much tighter fiscal a...</td>\n",
       "      <td>In the absence of a clear path to much more re...</td>\n",
       "      <td>0.383695</td>\n",
       "      <td>4</td>\n",
       "    </tr>\n",
       "    <tr>\n",
       "      <th>27072</th>\n",
       "      <td>27072</td>\n",
       "      <td>En l’absence d'une voie claire vers une union ...</td>\n",
       "      <td>Absent a clear path to a much tighter fiscal a...</td>\n",
       "      <td>In the absence of a clear path to a much more ...</td>\n",
       "      <td>0.398260</td>\n",
       "      <td>4</td>\n",
       "    </tr>\n",
       "    <tr>\n",
       "      <th>27073</th>\n",
       "      <td>27073</td>\n",
       "      <td>En l’absence d'une voie claire vers une union ...</td>\n",
       "      <td>Absent a clear path to a much tighter fiscal a...</td>\n",
       "      <td>In the absence of a clear path towards a much ...</td>\n",
       "      <td>0.409214</td>\n",
       "      <td>4</td>\n",
       "    </tr>\n",
       "    <tr>\n",
       "      <th>27074</th>\n",
       "      <td>27074</td>\n",
       "      <td>En l’absence d'une voie claire vers une union ...</td>\n",
       "      <td>Absent a clear path to a much tighter fiscal a...</td>\n",
       "      <td>In the absence of a clear path towards far mor...</td>\n",
       "      <td>0.390841</td>\n",
       "      <td>5</td>\n",
       "    </tr>\n",
       "    <tr>\n",
       "      <th>...</th>\n",
       "      <td>...</td>\n",
       "      <td>...</td>\n",
       "      <td>...</td>\n",
       "      <td>...</td>\n",
       "      <td>...</td>\n",
       "      <td>...</td>\n",
       "    </tr>\n",
       "    <tr>\n",
       "      <th>28342</th>\n",
       "      <td>28342</td>\n",
       "      <td>En l’absence d'une voie claire vers une union ...</td>\n",
       "      <td>Absent a clear path to a much tighter fiscal a...</td>\n",
       "      <td>In the absence of a clear path towards far mor...</td>\n",
       "      <td>0.621482</td>\n",
       "      <td>8</td>\n",
       "    </tr>\n",
       "    <tr>\n",
       "      <th>28343</th>\n",
       "      <td>28343</td>\n",
       "      <td>En l’absence d'une voie claire vers une union ...</td>\n",
       "      <td>Absent a clear path to a much tighter fiscal a...</td>\n",
       "      <td>In the absence of a clear path toward much mor...</td>\n",
       "      <td>0.623692</td>\n",
       "      <td>7</td>\n",
       "    </tr>\n",
       "    <tr>\n",
       "      <th>28344</th>\n",
       "      <td>28344</td>\n",
       "      <td>En l’absence d'une voie claire vers une union ...</td>\n",
       "      <td>Absent a clear path to a much tighter fiscal a...</td>\n",
       "      <td>In the absence of a clear path to far more res...</td>\n",
       "      <td>0.606072</td>\n",
       "      <td>7</td>\n",
       "    </tr>\n",
       "    <tr>\n",
       "      <th>28345</th>\n",
       "      <td>28345</td>\n",
       "      <td>En l’absence d'une voie claire vers une union ...</td>\n",
       "      <td>Absent a clear path to a much tighter fiscal a...</td>\n",
       "      <td>In the absence of a clear path towards much mo...</td>\n",
       "      <td>0.623454</td>\n",
       "      <td>8</td>\n",
       "    </tr>\n",
       "    <tr>\n",
       "      <th>28346</th>\n",
       "      <td>28346</td>\n",
       "      <td>En l’absence d'une voie claire vers une union ...</td>\n",
       "      <td>Absent a clear path to a much tighter fiscal a...</td>\n",
       "      <td>In the absence of a clear path to much more re...</td>\n",
       "      <td>0.609591</td>\n",
       "      <td>7</td>\n",
       "    </tr>\n",
       "  </tbody>\n",
       "</table>\n",
       "<p>1277 rows × 6 columns</p>\n",
       "</div>"
      ],
      "text/plain": [
       "       Unnamed: 0                                                src  \\\n",
       "27070       27070  En l’absence d'une voie claire vers une union ...   \n",
       "27071       27071  En l’absence d'une voie claire vers une union ...   \n",
       "27072       27072  En l’absence d'une voie claire vers une union ...   \n",
       "27073       27073  En l’absence d'une voie claire vers une union ...   \n",
       "27074       27074  En l’absence d'une voie claire vers une union ...   \n",
       "...           ...                                                ...   \n",
       "28342       28342  En l’absence d'une voie claire vers une union ...   \n",
       "28343       28343  En l’absence d'une voie claire vers une union ...   \n",
       "28344       28344  En l’absence d'une voie claire vers une union ...   \n",
       "28345       28345  En l’absence d'une voie claire vers une union ...   \n",
       "28346       28346  En l’absence d'une voie claire vers une union ...   \n",
       "\n",
       "                                                     ref  \\\n",
       "27070  Absent a clear path to a much tighter fiscal a...   \n",
       "27071  Absent a clear path to a much tighter fiscal a...   \n",
       "27072  Absent a clear path to a much tighter fiscal a...   \n",
       "27073  Absent a clear path to a much tighter fiscal a...   \n",
       "27074  Absent a clear path to a much tighter fiscal a...   \n",
       "...                                                  ...   \n",
       "28342  Absent a clear path to a much tighter fiscal a...   \n",
       "28343  Absent a clear path to a much tighter fiscal a...   \n",
       "28344  Absent a clear path to a much tighter fiscal a...   \n",
       "28345  Absent a clear path to a much tighter fiscal a...   \n",
       "28346  Absent a clear path to a much tighter fiscal a...   \n",
       "\n",
       "                                                     hyp    utnoun  \\\n",
       "27070  In the absence of a clear path towards much mo...  0.393927   \n",
       "27071  In the absence of a clear path to much more re...  0.383695   \n",
       "27072  In the absence of a clear path to a much more ...  0.398260   \n",
       "27073  In the absence of a clear path towards a much ...  0.409214   \n",
       "27074  In the absence of a clear path towards far mor...  0.390841   \n",
       "...                                                  ...       ...   \n",
       "28342  In the absence of a clear path towards far mor...  0.621482   \n",
       "28343  In the absence of a clear path toward much mor...  0.623692   \n",
       "28344  In the absence of a clear path to far more res...  0.606072   \n",
       "28345  In the absence of a clear path towards much mo...  0.623454   \n",
       "28346  In the absence of a clear path to much more re...  0.609591   \n",
       "\n",
       "       unique_nouns  \n",
       "27070             5  \n",
       "27071             4  \n",
       "27072             4  \n",
       "27073             4  \n",
       "27074             5  \n",
       "...             ...  \n",
       "28342             8  \n",
       "28343             7  \n",
       "28344             7  \n",
       "28345             8  \n",
       "28346             7  \n",
       "\n",
       "[1277 rows x 6 columns]"
      ]
     },
     "execution_count": 79,
     "metadata": {},
     "output_type": "execute_result"
    }
   ],
   "source": [
    "noun_explode[noun_explode['ref']==uns[13]]"
   ]
  },
  {
   "cell_type": "code",
   "execution_count": 80,
   "id": "6a8b4b49-3785-43a7-b70c-e67dd7167e8f",
   "metadata": {},
   "outputs": [
    {
     "data": {
      "text/plain": [
       "'In the absence of a clear path towards a much more restrictive financial and political union, which can only be achieved by means of a constitutional change, the euro system’s current “transition house\" of the euro system looks increasingly unsustainable.'"
      ]
     },
     "execution_count": 80,
     "metadata": {},
     "output_type": "execute_result"
    }
   ],
   "source": [
    "hyp"
   ]
  },
  {
   "cell_type": "code",
   "execution_count": null,
   "id": "3649ee2d-7959-439e-8d5c-0540846e3662",
   "metadata": {},
   "outputs": [],
   "source": []
  }
 ],
 "metadata": {
  "kernelspec": {
   "display_name": "Python 3 (ipykernel)",
   "language": "python",
   "name": "python3"
  },
  "language_info": {
   "codemirror_mode": {
    "name": "ipython",
    "version": 3
   },
   "file_extension": ".py",
   "mimetype": "text/x-python",
   "name": "python",
   "nbconvert_exporter": "python",
   "pygments_lexer": "ipython3",
   "version": "3.8.12"
  }
 },
 "nbformat": 4,
 "nbformat_minor": 5
}
