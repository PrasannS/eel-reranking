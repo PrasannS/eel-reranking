{
 "cells": [
  {
   "cell_type": "code",
   "execution_count": 6,
   "id": "cfc22724-2b2f-466c-97dd-6e3d360c25ee",
   "metadata": {},
   "outputs": [],
   "source": [
    "from encode_utils.process_traindata import lset_to_explodeddf, load_cands, create_sortedbatch_data\n",
    "#from new_mt_train import XLMCometRegressorAvg, XLMCometRegressor\n",
    "from encode_utils.mt_scores import get_scores_auto\n",
    "import torch\n",
    "import pandas as pd\n",
    "from os.path import exists\n",
    "import generate_utils.baseline_cands as bc\n",
    "#from rerank_data import rerank_df, rerank_nogold, rerank_single"
   ]
  },
  {
   "cell_type": "code",
   "execution_count": 7,
   "id": "7c26ba23-70b6-4d34-b550-a0d007e773af",
   "metadata": {},
   "outputs": [],
   "source": [
    "# STEPS TO GENERATING COMPLETE SET OF TABLES - \n",
    "\n",
    "device = torch.device('cuda:3' if torch.cuda.is_available() else 'cpu')\n",
    "# 1. Get a distilled causal model\n",
    "BESTMODS = {\n",
    "    'en_de_comet': 'derlcausalfine45.pt',\n",
    "    'fr_en_comet': 'maskedcont4.pt',\n",
    "    'fr_en_bleurt': 'frenbleurtfine5.pt'\n",
    "}\n",
    "SETTING = 'en_de_comet'"
   ]
  },
  {
   "cell_type": "code",
   "execution_count": 8,
   "id": "56d8b7d5-7b23-41c8-a7a1-8970c4861f5d",
   "metadata": {},
   "outputs": [
    {
     "name": "stderr",
     "output_type": "stream",
     "text": [
      "Some weights of the model checkpoint at xlm-roberta-base were not used when initializing XLMRobertaModel: ['lm_head.dense.bias', 'lm_head.decoder.weight', 'lm_head.layer_norm.bias', 'lm_head.bias', 'lm_head.dense.weight', 'lm_head.layer_norm.weight']\n",
      "- This IS expected if you are initializing XLMRobertaModel from the checkpoint of a model trained on another task or with another architecture (e.g. initializing a BertForSequenceClassification model from a BertForPreTraining model).\n",
      "- This IS NOT expected if you are initializing XLMRobertaModel from the checkpoint of a model that you expect to be exactly identical (initializing a BertForSequenceClassification model from a BertForSequenceClassification model).\n"
     ]
    }
   ],
   "source": [
    "if SETTING == 'fr_en_comet':\n",
    "    model = XLMCometRegressor(drop_rate=0.1).to(device)\n",
    "else:\n",
    "    model = XLMCometRegressorAvg(drop_rate=0.1).to(device)\n",
    "model.load_state_dict(torch.load('torchsaved/'+BESTMODS[SETTING]))\n",
    "model.eval()\n",
    "torch.cuda.empty_cache()"
   ]
  },
  {
   "cell_type": "code",
   "execution_count": 8,
   "id": "7af344e8-b0d2-4cd1-94b7-5aed8c4063b7",
   "metadata": {},
   "outputs": [
    {
     "ename": "FileNotFoundError",
     "evalue": "[Errno 2] No such file or directory: 'torchsaved/cometen_detrain.csv'",
     "output_type": "error",
     "traceback": [
      "\u001b[0;31m---------------------------------------------------------------------------\u001b[0m",
      "\u001b[0;31mFileNotFoundError\u001b[0m                         Traceback (most recent call last)",
      "Input \u001b[0;32mIn [8]\u001b[0m, in \u001b[0;36m<module>\u001b[0;34m\u001b[0m\n\u001b[1;32m     28\u001b[0m     testset \u001b[38;5;241m=\u001b[39m pd\u001b[38;5;241m.\u001b[39mread_csv(\u001b[38;5;124m\"\u001b[39m\u001b[38;5;124mtorchsaved/testdata\u001b[39m\u001b[38;5;124m\"\u001b[39m\u001b[38;5;241m+\u001b[39mPAIR\u001b[38;5;241m+\u001b[39mSCORER\u001b[38;5;241m+\u001b[39m\u001b[38;5;124m\"\u001b[39m\u001b[38;5;124m.csv\u001b[39m\u001b[38;5;124m\"\u001b[39m)\n\u001b[1;32m     29\u001b[0m \u001b[38;5;28;01melse\u001b[39;00m:\n\u001b[0;32m---> 31\u001b[0m     testset \u001b[38;5;241m=\u001b[39m \u001b[43mload_dset_existing\u001b[49m\u001b[43m(\u001b[49m\u001b[43mPAIR\u001b[49m\u001b[43m,\u001b[49m\u001b[43m \u001b[49m\u001b[43mSCORER\u001b[49m\u001b[43m)\u001b[49m\n\u001b[1;32m     32\u001b[0m     testset \u001b[38;5;241m=\u001b[39m testset\u001b[38;5;241m.\u001b[39miloc[\u001b[38;5;28mint\u001b[39m(\u001b[38;5;28mlen\u001b[39m(testset)\u001b[38;5;241m*\u001b[39mSPLIT\u001b[38;5;241m/\u001b[39m\u001b[38;5;241m32\u001b[39m)\u001b[38;5;241m*\u001b[39m\u001b[38;5;241m32\u001b[39m:]\n\u001b[1;32m     34\u001b[0m     hyps, srcs, refs \u001b[38;5;241m=\u001b[39m \u001b[38;5;28mlist\u001b[39m(testset[\u001b[38;5;124m'\u001b[39m\u001b[38;5;124mhyp\u001b[39m\u001b[38;5;124m'\u001b[39m]), \u001b[38;5;28mlist\u001b[39m(testset[\u001b[38;5;124m'\u001b[39m\u001b[38;5;124msrc\u001b[39m\u001b[38;5;124m'\u001b[39m]), \u001b[38;5;28mlist\u001b[39m(testset[\u001b[38;5;124m'\u001b[39m\u001b[38;5;124mref\u001b[39m\u001b[38;5;124m'\u001b[39m])\n",
      "Input \u001b[0;32mIn [8]\u001b[0m, in \u001b[0;36mload_dset_existing\u001b[0;34m(pairname, goldsco)\u001b[0m\n\u001b[1;32m      5\u001b[0m datacsv \u001b[38;5;241m=\u001b[39m \u001b[38;5;28;01mNone\u001b[39;00m\n\u001b[1;32m      6\u001b[0m \u001b[38;5;28;01mif\u001b[39;00m goldsco\u001b[38;5;241m==\u001b[39m \u001b[38;5;124m\"\u001b[39m\u001b[38;5;124mcomet\u001b[39m\u001b[38;5;124m\"\u001b[39m:\n\u001b[0;32m----> 7\u001b[0m     datacsv \u001b[38;5;241m=\u001b[39m \u001b[43mpd\u001b[49m\u001b[38;5;241;43m.\u001b[39;49m\u001b[43mread_csv\u001b[49m\u001b[43m(\u001b[49m\u001b[38;5;124;43m\"\u001b[39;49m\u001b[38;5;124;43mtorchsaved/cometen_detrain.csv\u001b[39;49m\u001b[38;5;124;43m\"\u001b[39;49m\u001b[43m)\u001b[49m\n\u001b[1;32m      8\u001b[0m     \u001b[38;5;66;03m#extracsv = pd.read_csv(\"torchsaved/cqeen_detrain.csv\")\u001b[39;00m\n\u001b[1;32m      9\u001b[0m     \u001b[38;5;66;03m# since we have for comet and for cqe\u001b[39;00m\n\u001b[1;32m     10\u001b[0m     datacsv[\u001b[38;5;124m'\u001b[39m\u001b[38;5;124mcomet\u001b[39m\u001b[38;5;124m'\u001b[39m] \u001b[38;5;241m=\u001b[39m datacsv[\u001b[38;5;124m'\u001b[39m\u001b[38;5;124mscore\u001b[39m\u001b[38;5;124m'\u001b[39m]\n",
      "File \u001b[0;32m~/miniconda3/envs/latclone/lib/python3.8/site-packages/pandas/util/_decorators.py:211\u001b[0m, in \u001b[0;36mdeprecate_kwarg.<locals>._deprecate_kwarg.<locals>.wrapper\u001b[0;34m(*args, **kwargs)\u001b[0m\n\u001b[1;32m    209\u001b[0m     \u001b[38;5;28;01melse\u001b[39;00m:\n\u001b[1;32m    210\u001b[0m         kwargs[new_arg_name] \u001b[38;5;241m=\u001b[39m new_arg_value\n\u001b[0;32m--> 211\u001b[0m \u001b[38;5;28;01mreturn\u001b[39;00m \u001b[43mfunc\u001b[49m\u001b[43m(\u001b[49m\u001b[38;5;241;43m*\u001b[39;49m\u001b[43margs\u001b[49m\u001b[43m,\u001b[49m\u001b[43m \u001b[49m\u001b[38;5;241;43m*\u001b[39;49m\u001b[38;5;241;43m*\u001b[39;49m\u001b[43mkwargs\u001b[49m\u001b[43m)\u001b[49m\n",
      "File \u001b[0;32m~/miniconda3/envs/latclone/lib/python3.8/site-packages/pandas/util/_decorators.py:331\u001b[0m, in \u001b[0;36mdeprecate_nonkeyword_arguments.<locals>.decorate.<locals>.wrapper\u001b[0;34m(*args, **kwargs)\u001b[0m\n\u001b[1;32m    325\u001b[0m \u001b[38;5;28;01mif\u001b[39;00m \u001b[38;5;28mlen\u001b[39m(args) \u001b[38;5;241m>\u001b[39m num_allow_args:\n\u001b[1;32m    326\u001b[0m     warnings\u001b[38;5;241m.\u001b[39mwarn(\n\u001b[1;32m    327\u001b[0m         msg\u001b[38;5;241m.\u001b[39mformat(arguments\u001b[38;5;241m=\u001b[39m_format_argument_list(allow_args)),\n\u001b[1;32m    328\u001b[0m         \u001b[38;5;167;01mFutureWarning\u001b[39;00m,\n\u001b[1;32m    329\u001b[0m         stacklevel\u001b[38;5;241m=\u001b[39mfind_stack_level(),\n\u001b[1;32m    330\u001b[0m     )\n\u001b[0;32m--> 331\u001b[0m \u001b[38;5;28;01mreturn\u001b[39;00m \u001b[43mfunc\u001b[49m\u001b[43m(\u001b[49m\u001b[38;5;241;43m*\u001b[39;49m\u001b[43margs\u001b[49m\u001b[43m,\u001b[49m\u001b[43m \u001b[49m\u001b[38;5;241;43m*\u001b[39;49m\u001b[38;5;241;43m*\u001b[39;49m\u001b[43mkwargs\u001b[49m\u001b[43m)\u001b[49m\n",
      "File \u001b[0;32m~/miniconda3/envs/latclone/lib/python3.8/site-packages/pandas/io/parsers/readers.py:950\u001b[0m, in \u001b[0;36mread_csv\u001b[0;34m(filepath_or_buffer, sep, delimiter, header, names, index_col, usecols, squeeze, prefix, mangle_dupe_cols, dtype, engine, converters, true_values, false_values, skipinitialspace, skiprows, skipfooter, nrows, na_values, keep_default_na, na_filter, verbose, skip_blank_lines, parse_dates, infer_datetime_format, keep_date_col, date_parser, dayfirst, cache_dates, iterator, chunksize, compression, thousands, decimal, lineterminator, quotechar, quoting, doublequote, escapechar, comment, encoding, encoding_errors, dialect, error_bad_lines, warn_bad_lines, on_bad_lines, delim_whitespace, low_memory, memory_map, float_precision, storage_options)\u001b[0m\n\u001b[1;32m    935\u001b[0m kwds_defaults \u001b[38;5;241m=\u001b[39m _refine_defaults_read(\n\u001b[1;32m    936\u001b[0m     dialect,\n\u001b[1;32m    937\u001b[0m     delimiter,\n\u001b[0;32m   (...)\u001b[0m\n\u001b[1;32m    946\u001b[0m     defaults\u001b[38;5;241m=\u001b[39m{\u001b[38;5;124m\"\u001b[39m\u001b[38;5;124mdelimiter\u001b[39m\u001b[38;5;124m\"\u001b[39m: \u001b[38;5;124m\"\u001b[39m\u001b[38;5;124m,\u001b[39m\u001b[38;5;124m\"\u001b[39m},\n\u001b[1;32m    947\u001b[0m )\n\u001b[1;32m    948\u001b[0m kwds\u001b[38;5;241m.\u001b[39mupdate(kwds_defaults)\n\u001b[0;32m--> 950\u001b[0m \u001b[38;5;28;01mreturn\u001b[39;00m \u001b[43m_read\u001b[49m\u001b[43m(\u001b[49m\u001b[43mfilepath_or_buffer\u001b[49m\u001b[43m,\u001b[49m\u001b[43m \u001b[49m\u001b[43mkwds\u001b[49m\u001b[43m)\u001b[49m\n",
      "File \u001b[0;32m~/miniconda3/envs/latclone/lib/python3.8/site-packages/pandas/io/parsers/readers.py:605\u001b[0m, in \u001b[0;36m_read\u001b[0;34m(filepath_or_buffer, kwds)\u001b[0m\n\u001b[1;32m    602\u001b[0m _validate_names(kwds\u001b[38;5;241m.\u001b[39mget(\u001b[38;5;124m\"\u001b[39m\u001b[38;5;124mnames\u001b[39m\u001b[38;5;124m\"\u001b[39m, \u001b[38;5;28;01mNone\u001b[39;00m))\n\u001b[1;32m    604\u001b[0m \u001b[38;5;66;03m# Create the parser.\u001b[39;00m\n\u001b[0;32m--> 605\u001b[0m parser \u001b[38;5;241m=\u001b[39m \u001b[43mTextFileReader\u001b[49m\u001b[43m(\u001b[49m\u001b[43mfilepath_or_buffer\u001b[49m\u001b[43m,\u001b[49m\u001b[43m \u001b[49m\u001b[38;5;241;43m*\u001b[39;49m\u001b[38;5;241;43m*\u001b[39;49m\u001b[43mkwds\u001b[49m\u001b[43m)\u001b[49m\n\u001b[1;32m    607\u001b[0m \u001b[38;5;28;01mif\u001b[39;00m chunksize \u001b[38;5;129;01mor\u001b[39;00m iterator:\n\u001b[1;32m    608\u001b[0m     \u001b[38;5;28;01mreturn\u001b[39;00m parser\n",
      "File \u001b[0;32m~/miniconda3/envs/latclone/lib/python3.8/site-packages/pandas/io/parsers/readers.py:1442\u001b[0m, in \u001b[0;36mTextFileReader.__init__\u001b[0;34m(self, f, engine, **kwds)\u001b[0m\n\u001b[1;32m   1439\u001b[0m     \u001b[38;5;28mself\u001b[39m\u001b[38;5;241m.\u001b[39moptions[\u001b[38;5;124m\"\u001b[39m\u001b[38;5;124mhas_index_names\u001b[39m\u001b[38;5;124m\"\u001b[39m] \u001b[38;5;241m=\u001b[39m kwds[\u001b[38;5;124m\"\u001b[39m\u001b[38;5;124mhas_index_names\u001b[39m\u001b[38;5;124m\"\u001b[39m]\n\u001b[1;32m   1441\u001b[0m \u001b[38;5;28mself\u001b[39m\u001b[38;5;241m.\u001b[39mhandles: IOHandles \u001b[38;5;241m|\u001b[39m \u001b[38;5;28;01mNone\u001b[39;00m \u001b[38;5;241m=\u001b[39m \u001b[38;5;28;01mNone\u001b[39;00m\n\u001b[0;32m-> 1442\u001b[0m \u001b[38;5;28mself\u001b[39m\u001b[38;5;241m.\u001b[39m_engine \u001b[38;5;241m=\u001b[39m \u001b[38;5;28;43mself\u001b[39;49m\u001b[38;5;241;43m.\u001b[39;49m\u001b[43m_make_engine\u001b[49m\u001b[43m(\u001b[49m\u001b[43mf\u001b[49m\u001b[43m,\u001b[49m\u001b[43m \u001b[49m\u001b[38;5;28;43mself\u001b[39;49m\u001b[38;5;241;43m.\u001b[39;49m\u001b[43mengine\u001b[49m\u001b[43m)\u001b[49m\n",
      "File \u001b[0;32m~/miniconda3/envs/latclone/lib/python3.8/site-packages/pandas/io/parsers/readers.py:1735\u001b[0m, in \u001b[0;36mTextFileReader._make_engine\u001b[0;34m(self, f, engine)\u001b[0m\n\u001b[1;32m   1733\u001b[0m     \u001b[38;5;28;01mif\u001b[39;00m \u001b[38;5;124m\"\u001b[39m\u001b[38;5;124mb\u001b[39m\u001b[38;5;124m\"\u001b[39m \u001b[38;5;129;01mnot\u001b[39;00m \u001b[38;5;129;01min\u001b[39;00m mode:\n\u001b[1;32m   1734\u001b[0m         mode \u001b[38;5;241m+\u001b[39m\u001b[38;5;241m=\u001b[39m \u001b[38;5;124m\"\u001b[39m\u001b[38;5;124mb\u001b[39m\u001b[38;5;124m\"\u001b[39m\n\u001b[0;32m-> 1735\u001b[0m \u001b[38;5;28mself\u001b[39m\u001b[38;5;241m.\u001b[39mhandles \u001b[38;5;241m=\u001b[39m \u001b[43mget_handle\u001b[49m\u001b[43m(\u001b[49m\n\u001b[1;32m   1736\u001b[0m \u001b[43m    \u001b[49m\u001b[43mf\u001b[49m\u001b[43m,\u001b[49m\n\u001b[1;32m   1737\u001b[0m \u001b[43m    \u001b[49m\u001b[43mmode\u001b[49m\u001b[43m,\u001b[49m\n\u001b[1;32m   1738\u001b[0m \u001b[43m    \u001b[49m\u001b[43mencoding\u001b[49m\u001b[38;5;241;43m=\u001b[39;49m\u001b[38;5;28;43mself\u001b[39;49m\u001b[38;5;241;43m.\u001b[39;49m\u001b[43moptions\u001b[49m\u001b[38;5;241;43m.\u001b[39;49m\u001b[43mget\u001b[49m\u001b[43m(\u001b[49m\u001b[38;5;124;43m\"\u001b[39;49m\u001b[38;5;124;43mencoding\u001b[39;49m\u001b[38;5;124;43m\"\u001b[39;49m\u001b[43m,\u001b[49m\u001b[43m \u001b[49m\u001b[38;5;28;43;01mNone\u001b[39;49;00m\u001b[43m)\u001b[49m\u001b[43m,\u001b[49m\n\u001b[1;32m   1739\u001b[0m \u001b[43m    \u001b[49m\u001b[43mcompression\u001b[49m\u001b[38;5;241;43m=\u001b[39;49m\u001b[38;5;28;43mself\u001b[39;49m\u001b[38;5;241;43m.\u001b[39;49m\u001b[43moptions\u001b[49m\u001b[38;5;241;43m.\u001b[39;49m\u001b[43mget\u001b[49m\u001b[43m(\u001b[49m\u001b[38;5;124;43m\"\u001b[39;49m\u001b[38;5;124;43mcompression\u001b[39;49m\u001b[38;5;124;43m\"\u001b[39;49m\u001b[43m,\u001b[49m\u001b[43m \u001b[49m\u001b[38;5;28;43;01mNone\u001b[39;49;00m\u001b[43m)\u001b[49m\u001b[43m,\u001b[49m\n\u001b[1;32m   1740\u001b[0m \u001b[43m    \u001b[49m\u001b[43mmemory_map\u001b[49m\u001b[38;5;241;43m=\u001b[39;49m\u001b[38;5;28;43mself\u001b[39;49m\u001b[38;5;241;43m.\u001b[39;49m\u001b[43moptions\u001b[49m\u001b[38;5;241;43m.\u001b[39;49m\u001b[43mget\u001b[49m\u001b[43m(\u001b[49m\u001b[38;5;124;43m\"\u001b[39;49m\u001b[38;5;124;43mmemory_map\u001b[39;49m\u001b[38;5;124;43m\"\u001b[39;49m\u001b[43m,\u001b[49m\u001b[43m \u001b[49m\u001b[38;5;28;43;01mFalse\u001b[39;49;00m\u001b[43m)\u001b[49m\u001b[43m,\u001b[49m\n\u001b[1;32m   1741\u001b[0m \u001b[43m    \u001b[49m\u001b[43mis_text\u001b[49m\u001b[38;5;241;43m=\u001b[39;49m\u001b[43mis_text\u001b[49m\u001b[43m,\u001b[49m\n\u001b[1;32m   1742\u001b[0m \u001b[43m    \u001b[49m\u001b[43merrors\u001b[49m\u001b[38;5;241;43m=\u001b[39;49m\u001b[38;5;28;43mself\u001b[39;49m\u001b[38;5;241;43m.\u001b[39;49m\u001b[43moptions\u001b[49m\u001b[38;5;241;43m.\u001b[39;49m\u001b[43mget\u001b[49m\u001b[43m(\u001b[49m\u001b[38;5;124;43m\"\u001b[39;49m\u001b[38;5;124;43mencoding_errors\u001b[39;49m\u001b[38;5;124;43m\"\u001b[39;49m\u001b[43m,\u001b[49m\u001b[43m \u001b[49m\u001b[38;5;124;43m\"\u001b[39;49m\u001b[38;5;124;43mstrict\u001b[39;49m\u001b[38;5;124;43m\"\u001b[39;49m\u001b[43m)\u001b[49m\u001b[43m,\u001b[49m\n\u001b[1;32m   1743\u001b[0m \u001b[43m    \u001b[49m\u001b[43mstorage_options\u001b[49m\u001b[38;5;241;43m=\u001b[39;49m\u001b[38;5;28;43mself\u001b[39;49m\u001b[38;5;241;43m.\u001b[39;49m\u001b[43moptions\u001b[49m\u001b[38;5;241;43m.\u001b[39;49m\u001b[43mget\u001b[49m\u001b[43m(\u001b[49m\u001b[38;5;124;43m\"\u001b[39;49m\u001b[38;5;124;43mstorage_options\u001b[39;49m\u001b[38;5;124;43m\"\u001b[39;49m\u001b[43m,\u001b[49m\u001b[43m \u001b[49m\u001b[38;5;28;43;01mNone\u001b[39;49;00m\u001b[43m)\u001b[49m\u001b[43m,\u001b[49m\n\u001b[1;32m   1744\u001b[0m \u001b[43m\u001b[49m\u001b[43m)\u001b[49m\n\u001b[1;32m   1745\u001b[0m \u001b[38;5;28;01massert\u001b[39;00m \u001b[38;5;28mself\u001b[39m\u001b[38;5;241m.\u001b[39mhandles \u001b[38;5;129;01mis\u001b[39;00m \u001b[38;5;129;01mnot\u001b[39;00m \u001b[38;5;28;01mNone\u001b[39;00m\n\u001b[1;32m   1746\u001b[0m f \u001b[38;5;241m=\u001b[39m \u001b[38;5;28mself\u001b[39m\u001b[38;5;241m.\u001b[39mhandles\u001b[38;5;241m.\u001b[39mhandle\n",
      "File \u001b[0;32m~/miniconda3/envs/latclone/lib/python3.8/site-packages/pandas/io/common.py:856\u001b[0m, in \u001b[0;36mget_handle\u001b[0;34m(path_or_buf, mode, encoding, compression, memory_map, is_text, errors, storage_options)\u001b[0m\n\u001b[1;32m    851\u001b[0m \u001b[38;5;28;01melif\u001b[39;00m \u001b[38;5;28misinstance\u001b[39m(handle, \u001b[38;5;28mstr\u001b[39m):\n\u001b[1;32m    852\u001b[0m     \u001b[38;5;66;03m# Check whether the filename is to be opened in binary mode.\u001b[39;00m\n\u001b[1;32m    853\u001b[0m     \u001b[38;5;66;03m# Binary mode does not support 'encoding' and 'newline'.\u001b[39;00m\n\u001b[1;32m    854\u001b[0m     \u001b[38;5;28;01mif\u001b[39;00m ioargs\u001b[38;5;241m.\u001b[39mencoding \u001b[38;5;129;01mand\u001b[39;00m \u001b[38;5;124m\"\u001b[39m\u001b[38;5;124mb\u001b[39m\u001b[38;5;124m\"\u001b[39m \u001b[38;5;129;01mnot\u001b[39;00m \u001b[38;5;129;01min\u001b[39;00m ioargs\u001b[38;5;241m.\u001b[39mmode:\n\u001b[1;32m    855\u001b[0m         \u001b[38;5;66;03m# Encoding\u001b[39;00m\n\u001b[0;32m--> 856\u001b[0m         handle \u001b[38;5;241m=\u001b[39m \u001b[38;5;28;43mopen\u001b[39;49m\u001b[43m(\u001b[49m\n\u001b[1;32m    857\u001b[0m \u001b[43m            \u001b[49m\u001b[43mhandle\u001b[49m\u001b[43m,\u001b[49m\n\u001b[1;32m    858\u001b[0m \u001b[43m            \u001b[49m\u001b[43mioargs\u001b[49m\u001b[38;5;241;43m.\u001b[39;49m\u001b[43mmode\u001b[49m\u001b[43m,\u001b[49m\n\u001b[1;32m    859\u001b[0m \u001b[43m            \u001b[49m\u001b[43mencoding\u001b[49m\u001b[38;5;241;43m=\u001b[39;49m\u001b[43mioargs\u001b[49m\u001b[38;5;241;43m.\u001b[39;49m\u001b[43mencoding\u001b[49m\u001b[43m,\u001b[49m\n\u001b[1;32m    860\u001b[0m \u001b[43m            \u001b[49m\u001b[43merrors\u001b[49m\u001b[38;5;241;43m=\u001b[39;49m\u001b[43merrors\u001b[49m\u001b[43m,\u001b[49m\n\u001b[1;32m    861\u001b[0m \u001b[43m            \u001b[49m\u001b[43mnewline\u001b[49m\u001b[38;5;241;43m=\u001b[39;49m\u001b[38;5;124;43m\"\u001b[39;49m\u001b[38;5;124;43m\"\u001b[39;49m\u001b[43m,\u001b[49m\n\u001b[1;32m    862\u001b[0m \u001b[43m        \u001b[49m\u001b[43m)\u001b[49m\n\u001b[1;32m    863\u001b[0m     \u001b[38;5;28;01melse\u001b[39;00m:\n\u001b[1;32m    864\u001b[0m         \u001b[38;5;66;03m# Binary mode\u001b[39;00m\n\u001b[1;32m    865\u001b[0m         handle \u001b[38;5;241m=\u001b[39m \u001b[38;5;28mopen\u001b[39m(handle, ioargs\u001b[38;5;241m.\u001b[39mmode)\n",
      "\u001b[0;31mFileNotFoundError\u001b[0m: [Errno 2] No such file or directory: 'torchsaved/cometen_detrain.csv'"
     ]
    }
   ],
   "source": [
    "# 2. Have a test set with post-hoc, distilled model score, gold score, 32 samples per example\n",
    "\n",
    "# ASSUME that we'vePAIRalled create_sortedbatch_data for our data\n",
    "def load_dset_existing(pairname, goldsco):\n",
    "    datacsv = None\n",
    "    if goldsco== \"comet\":\n",
    "        datacsv = pd.read_csv(\"torchsaved/cometen_detrain.csv\")\n",
    "        #extracsv = pd.read_csv(\"torchsaved/cqeen_detrain.csv\")\n",
    "        # since we have for comet and for cqe\n",
    "        datacsv['comet'] = datacsv['score']\n",
    "        #datacsv['cqe'] = extracsv['score']\n",
    "    elif goldsco == \"bleurt\":\n",
    "        datacsv = pd.read_csv(\"torchsaved/bleurten_detrain.csv\")\n",
    "    \n",
    "    return datacsv.drop(columns=['score', 'Unnamed: 0'])\n",
    "        \n",
    "TRAINSET_NAMES = {\n",
    "    'en_de_comet': 'cometen_detrain.csv',\n",
    "    'fr_en_comet': 'cometfr_entrain.pt',\n",
    "    'fr_en_bleurt': 'frenbleurtfine5.pt'\n",
    "}\n",
    "\n",
    "PAIR = 'fr_en'\n",
    "SCORER = 'comet'\n",
    "SPLIT = .9\n",
    "\n",
    "if exists(\"torchsaved/testdata\"+PAIR+SCORER+\".csv\"):\n",
    "    testset = pd.read_csv(\"torchsaved/testdata\"+PAIR+SCORER+\".csv\")\n",
    "else:\n",
    "\n",
    "    testset = load_dset_existing(PAIR, SCORER)\n",
    "    testset = testset.iloc[int(len(testset)*SPLIT/32)*32:]\n",
    "\n",
    "    hyps, srcs, refs = list(testset['hyp']), list(testset['src']), list(testset['ref'])\n",
    "    # get cqe, post-hoc score, distilled model score (already have gold)\n",
    "    with torch.no_grad():\n",
    "        utmod = get_scores_auto(hyps, srcs, refs, \"custom\", model)\n",
    "        cqe = get_scores_auto(hyps, srcs, refs, \"cqe\", \"\")\n",
    "        posthoc = get_scores_auto(hyps, srcs, refs, \"posthoc\", PAIR)\n",
    "\n",
    "    testset['utscore'] = utmod\n",
    "    testset['cqe'] = cqe\n",
    "    testset['posthoc'] = posthoc\n",
    "    testset.to_csv(\"torchsaved/testdata\"+PAIR+SCORER+\".csv\")"
   ]
  },
  {
   "cell_type": "code",
   "execution_count": 2,
   "id": "9db740bc-6d01-4389-9aa1-88f3724b2fb9",
   "metadata": {},
   "outputs": [],
   "source": [
    "import numpy as np\n",
    "import random"
   ]
  },
  {
   "cell_type": "code",
   "execution_count": 3,
   "id": "8c775c90-84b2-4160-9b25-fd665eace5b0",
   "metadata": {},
   "outputs": [],
   "source": [
    "# rerank batch based on some metric\n",
    "def rerank_single(selected, metric, target):\n",
    "    if metric==\"posthoc\":\n",
    "        mbind = np.argmin(selected[metric])\n",
    "    else:\n",
    "        mbind = np.argmax(selected[metric])\n",
    "    return list(selected[target])[mbind]\n",
    "\n",
    "# rerank single but ignore last thing in each batch\n",
    "def rerank_nogold(selected, metric, target):\n",
    "    if metric==\"posthoc\":\n",
    "        mbind = np.argmin(list(selected[metric])[:-1])\n",
    "    else:\n",
    "        mbind = np.argmax(list(selected[metric])[:-1])\n",
    "    return list(selected[target])[mbind]\n",
    "\n",
    "# rerank single but ignore last thing in each batch\n",
    "def rerank_nogweight(selected, metric, target):\n",
    "    met = list(selected[metric])\n",
    "    phoc = list(selected['posthoc'])\n",
    "    newvec = [met[i]*.9-phoc[i]*1.25 for i in range(len(met))]\n",
    "    mbind = np.argmax(newvec[:-1])\n",
    "    return list(selected[target])[mbind]\n",
    "\n",
    "# TODO changes for with / without gold\n",
    "def rerank_weighted(selected, metric, target):\n",
    "    met = list(selected[metric])\n",
    "    phoc = list(selected['posthoc'])\n",
    "    newvec = [met[i]*.9-phoc[i]*1.25 for i in range(len(met))]\n",
    "    mbind = np.argmax(newvec)\n",
    "    return list(selected[target])[mbind]\n",
    "\n",
    "def rerank_rand(selected, metric, target):\n",
    "    return random.choice(list(selected[target])[:-1])\n",
    "\n",
    "def rerank_df(df, scofunct, scoparam):\n",
    "    reflist = list(df['ref'].unique())\n",
    "    rrdf = []\n",
    "    for r in reflist:\n",
    "        # extract dataframe corresponding to smth\n",
    "        exsamps = df[df['ref']==r]\n",
    "        rrdf.append(scofunct(exsamps, scoparam[0], scoparam[1]))\n",
    "    return sum(rrdf)/len(rrdf)"
   ]
  },
  {
   "cell_type": "code",
   "execution_count": 4,
   "id": "fca0d24b-8a2a-4b6f-8f73-95e84512f591",
   "metadata": {},
   "outputs": [],
   "source": [
    "#bcdf50 = pd.read_csv(\"torchsaved/bc50en_decomet.csv\")\n",
    "bcdf50 = pd.read_csv(\"testbeam50fr_en.csv\")"
   ]
  },
  {
   "cell_type": "code",
   "execution_count": 55,
   "id": "f9db4288-a96a-46c2-9e8b-7922ce30c54e",
   "metadata": {},
   "outputs": [],
   "source": [
    "#latencheck = pd.read_csv(\"torchsaved/testdataen_decomet.csv\")\n",
    "frtest = pd.read_csv(\"torchsaved/testdatafr_encomet.csv\")"
   ]
  },
  {
   "cell_type": "code",
   "execution_count": 6,
   "id": "b76d14ee-843d-4be6-b012-1182975a653b",
   "metadata": {},
   "outputs": [
    {
     "data": {
      "text/plain": [
       "Index(['Unnamed: 0.6', 'Unnamed: 0.5', 'Unnamed: 0.4', 'Unnamed: 0.3',\n",
       "       'level_0', 'Unnamed: 0.2', 'index', 'Unnamed: 0.1', 'Unnamed: 0', 'src',\n",
       "       'hyp', 'ref', 'utscore', 'cqe', 'posthoc', 'comet', 'dupcqe'],\n",
       "      dtype='object')"
      ]
     },
     "execution_count": 6,
     "metadata": {},
     "output_type": "execute_result"
    }
   ],
   "source": [
    "bcdf50.keys()"
   ]
  },
  {
   "cell_type": "code",
   "execution_count": 11,
   "id": "e81f272f-6628-4e66-9877-25df401af583",
   "metadata": {},
   "outputs": [
    {
     "data": {
      "text/plain": [
       "0.6923318155736187"
      ]
     },
     "execution_count": 11,
     "metadata": {},
     "output_type": "execute_result"
    }
   ],
   "source": [
    "rerank_df(bcdf50, rerank_weighted, ['cqe', 'comet'])"
   ]
  },
  {
   "cell_type": "code",
   "execution_count": 10,
   "id": "1d613156-e2a6-4fe1-82d7-95804d248a89",
   "metadata": {},
   "outputs": [],
   "source": [
    "# 3. For a smaller set, get exploded stuff and run stuff from above on that\n",
    "MINISET = 100\n",
    "exploded_dirs = {\n",
    "    \"en_de\":\"./candoutputs/explodedmt1n_en-de_bfs_recom_4_80_False_0.4_True_False_4_5_rcb_0.904_0.0_0.9.jsonl\",\n",
    "    \"fr_en\":\"./candoutputs/explodedmtn1_fr-en_bfs_recom_4_-1_False_0.4_True_False_4_5_rcb_0.904_0.0_0.9.jsonl\",\n",
    "    \"en_deb1\":\"./candoutputs/testbeam1en_de.jsonl\",\n",
    "    \"en_deb50\":\"./candoutputs/testbeam50en_de.jsonl\"\n",
    "}"
   ]
  },
  {
   "cell_type": "code",
   "execution_count": null,
   "id": "081af570-1c8a-4927-80d3-9093bb667536",
   "metadata": {},
   "outputs": [],
   "source": []
  },
  {
   "cell_type": "code",
   "execution_count": null,
   "id": "cf1c7a3c-9819-4c26-abc1-da020bb2e8e0",
   "metadata": {},
   "outputs": [],
   "source": [
    "if exists(\"torchsaved/exlpodedmini\"+PAIR+SCORER+\".csv\"):\n",
    "    expdf = pd.read_csv(\"torchsaved/exlpodedmini\"+PAIR+SCORER+\".csv\")\n",
    "else:\n",
    "    lcands = load_cands(exploded_dirs[PAIR])\n",
    "    lcands = lcands[-100:]\n",
    "    len(lcands)\n",
    "    expdf = lset_to_explodeddf(lcands)\n",
    "\n",
    "    hyps, srcs, refs = list(expdf['hyp']), list(expdf['src']), list(expdf['ref'])\n",
    "    # get cqe, post-hoc score, distilled model score (already have gold)\n",
    "    with torch.no_grad():\n",
    "        utmode = get_scores_auto(hyps, srcs, refs, \"custom\", model)\n",
    "        golde = get_scores_auto(hyps, srcs, refs, \"comet\", \"\")\n",
    "        cqee = get_scores_auto(hyps, srcs, refs, \"cqe\", \"\")\n",
    "        posthoce = get_scores_auto(hyps, srcs, refs, \"posthoc\", PAIR)\n",
    "\n",
    "    expdf['utscore'] = utmode\n",
    "    expdf['cqe'] = cqee\n",
    "    expdf['posthoc'] = posthoce\n",
    "    expdf['comet'] = golde\n",
    "\n",
    "    expdf.to_csv(\"torchsaved/exlpodedmini\"+PAIR+SCORER+\".csv\")"
   ]
  },
  {
   "cell_type": "code",
   "execution_count": 24,
   "id": "871c428d-4acb-4548-a7e9-553a8815506d",
   "metadata": {},
   "outputs": [
    {
     "data": {
      "text/plain": [
       "1050"
      ]
     },
     "execution_count": 24,
     "metadata": {},
     "output_type": "execute_result"
    }
   ],
   "source": [
    "len(testset['src'].unique())"
   ]
  },
  {
   "cell_type": "code",
   "execution_count": 18,
   "id": "a49557a7-351a-4328-b805-666e0e90902d",
   "metadata": {},
   "outputs": [],
   "source": [
    "del model"
   ]
  },
  {
   "cell_type": "code",
   "execution_count": null,
   "id": "4a8727e4-2915-4b54-bc1a-e49443f6b9b9",
   "metadata": {},
   "outputs": [],
   "source": [
    "import baseline_cands as bc\n",
    "# 4. Get beam search 1 and beam search 50 for these\n",
    "if exists(\"./candoutputs/testbeam\"+str(50)+PAIR+\".jsonl\"):\n",
    "    print(\"already generated\")\n",
    "else:\n",
    "    btok, bmodel = bc.load_model(PAIR, \"cuda:1\")\n",
    "    bmodel.eval()\n",
    "    with torch.no_grad():\n",
    "        bscands = bc.get_generate_candidates(bc.beam_generate, list(testset['src'].unique()), list(testset['ref'].unique())\n",
    "                    , btok, bmodel, 50, 1, PAIR, \"cuda:1\", \"beam\", 80)\n",
    "        bscands = bc.get_generate_candidates(bc.beam_generate, list(testset['src'].unique()), list(testset['ref'].unique())\n",
    "                    , btok, bmodel, 1, 1, PAIR, \"cuda:1\", \"beam\", 80)"
   ]
  },
  {
   "cell_type": "code",
   "execution_count": 9,
   "id": "1206c642-9616-4536-a3b0-2b1f43dae43c",
   "metadata": {},
   "outputs": [],
   "source": [
    "def generate_scores(inpdf):\n",
    "    hyps, srcs, refs = list(inpdf['hyp']), list(inpdf['src']), list(inpdf['ref'])\n",
    "    # get cqe, post-hoc score, distilled model score (already have gold)\n",
    "    with torch.no_grad():\n",
    "        utmode = get_scores_auto(hyps, srcs, refs, \"custom\", model)\n",
    "        golde = get_scores_auto(hyps, srcs, refs, \"comet\", \"\")\n",
    "        cqee = get_scores_auto(hyps, srcs, refs, \"cqe\", \"\")\n",
    "        posthoce = get_scores_auto(hyps, srcs, refs, \"posthoc\", PAIR)\n",
    "\n",
    "    inpdf['utscore'] = utmode\n",
    "    inpdf['cqe'] = cqee\n",
    "    inpdf['posthoc'] = posthoce\n",
    "    inpdf['comet'] = golde\n",
    "    return inpdf\n",
    "\n",
    "# 4.5 Generate appropriate scores for these candidates\n",
    "bcdf1 = lset_to_explodeddf(load_cands(exploded_dirs[PAIR+\"b1\"]))\n",
    "bcdf50 = lset_to_explodeddf(load_cands(exploded_dirs[PAIR+\"b50\"]))\n",
    "# generate suite of scores\n",
    "bcdf50 = generate_scores(bcdf50)"
   ]
  },
  {
   "cell_type": "code",
   "execution_count": 10,
   "id": "bcf5602e-0588-4de6-bfce-474d31777177",
   "metadata": {},
   "outputs": [
    {
     "name": "stdout",
     "output_type": "stream",
     "text": [
      "rescoring candidates\n",
      "0\n",
      "500\n",
      "1000\n",
      "TOTAL TIME  16.95\n"
     ]
    }
   ],
   "source": [
    "bcdf50.to_csv(\"torchsaved/bc50\"+PAIR+SCORER+\".csv\")\n",
    "bcdf1 = generate_scores(bcdf1)\n",
    "bcdf1.to_csv(\"torchsaved/bc1\"+PAIR+SCORER+\".csv\")"
   ]
  },
  {
   "cell_type": "code",
   "execution_count": null,
   "id": "8d625692-97da-4a97-9ceb-24bc0bf3e796",
   "metadata": {},
   "outputs": [],
   "source": [
    "# 5. Run lattice pipeline on the whole thing, evaluate generated options\n",
    "\n",
    "# TODO for german pinpoint the right lattices"
   ]
  },
  {
   "cell_type": "code",
   "execution_count": 9,
   "id": "40f5816a-cb3b-4a67-a8d5-51745c4d1241",
   "metadata": {},
   "outputs": [],
   "source": [
    "import pandas as pd"
   ]
  },
  {
   "cell_type": "code",
   "execution_count": 10,
   "id": "b3548b51-c64a-490f-8eb8-f2a57205c395",
   "metadata": {},
   "outputs": [],
   "source": [
    "out = pd.read_csv(\"outputs/predcsvs/noun_comstyle_v2.csv\")"
   ]
  },
  {
   "cell_type": "code",
   "execution_count": 14,
   "id": "7f211e7d-efcd-4a1c-b28d-3bcf477765d3",
   "metadata": {},
   "outputs": [
    {
     "data": {
      "text/plain": [
       "0.8948440941932955"
      ]
     },
     "execution_count": 14,
     "metadata": {},
     "output_type": "execute_result"
    }
   ],
   "source": [
    "out['utnoun'].loc[:75].mean()"
   ]
  },
  {
   "cell_type": "code",
   "execution_count": 15,
   "id": "c914c781-285f-4161-b787-e77b2b7a4c5c",
   "metadata": {},
   "outputs": [],
   "source": [
    "ru = pd.read_csv(\"outputs/score_csvs/enruexplodev1.csv\")"
   ]
  },
  {
   "cell_type": "code",
   "execution_count": 16,
   "id": "8679f0c0-52c8-4d41-b145-5b81ab8412c1",
   "metadata": {},
   "outputs": [
    {
     "data": {
      "text/html": [
       "<div>\n",
       "<style scoped>\n",
       "    .dataframe tbody tr th:only-of-type {\n",
       "        vertical-align: middle;\n",
       "    }\n",
       "\n",
       "    .dataframe tbody tr th {\n",
       "        vertical-align: top;\n",
       "    }\n",
       "\n",
       "    .dataframe thead th {\n",
       "        text-align: right;\n",
       "    }\n",
       "</style>\n",
       "<table border=\"1\" class=\"dataframe\">\n",
       "  <thead>\n",
       "    <tr style=\"text-align: right;\">\n",
       "      <th></th>\n",
       "      <th>Unnamed: 0</th>\n",
       "      <th>src</th>\n",
       "      <th>ref</th>\n",
       "      <th>hyp</th>\n",
       "      <th>comet</th>\n",
       "      <th>cqe</th>\n",
       "      <th>posthoc</th>\n",
       "    </tr>\n",
       "  </thead>\n",
       "  <tbody>\n",
       "    <tr>\n",
       "      <th>0</th>\n",
       "      <td>0</td>\n",
       "      <td>There is, however, another way of looking at t...</td>\n",
       "      <td>Однако существует и другой взгляд на трагедию ...</td>\n",
       "      <td>Тем не менее, существует другой способ взгляну...</td>\n",
       "      <td>0.896544</td>\n",
       "      <td>0.931036</td>\n",
       "      <td>0.648493</td>\n",
       "    </tr>\n",
       "    <tr>\n",
       "      <th>1</th>\n",
       "      <td>1</td>\n",
       "      <td>There is, however, another way of looking at t...</td>\n",
       "      <td>Однако существует и другой взгляд на трагедию ...</td>\n",
       "      <td>Однако есть и другой способ взглянуть на арген...</td>\n",
       "      <td>0.919838</td>\n",
       "      <td>0.943584</td>\n",
       "      <td>0.616375</td>\n",
       "    </tr>\n",
       "    <tr>\n",
       "      <th>2</th>\n",
       "      <td>2</td>\n",
       "      <td>There is, however, another way of looking at t...</td>\n",
       "      <td>Однако существует и другой взгляд на трагедию ...</td>\n",
       "      <td>Но есть и другой способ взглянуть на аргентинс...</td>\n",
       "      <td>0.898480</td>\n",
       "      <td>0.923129</td>\n",
       "      <td>0.632078</td>\n",
       "    </tr>\n",
       "    <tr>\n",
       "      <th>3</th>\n",
       "      <td>3</td>\n",
       "      <td>There is, however, another way of looking at t...</td>\n",
       "      <td>Однако существует и другой взгляд на трагедию ...</td>\n",
       "      <td>Тем не менее, есть и другой способ взглянуть н...</td>\n",
       "      <td>0.882656</td>\n",
       "      <td>0.927104</td>\n",
       "      <td>0.618035</td>\n",
       "    </tr>\n",
       "    <tr>\n",
       "      <th>4</th>\n",
       "      <td>4</td>\n",
       "      <td>There is, however, another way of looking at t...</td>\n",
       "      <td>Однако существует и другой взгляд на трагедию ...</td>\n",
       "      <td>В то же время, есть и другой способ взглянуть ...</td>\n",
       "      <td>0.842235</td>\n",
       "      <td>0.858793</td>\n",
       "      <td>0.767284</td>\n",
       "    </tr>\n",
       "    <tr>\n",
       "      <th>...</th>\n",
       "      <td>...</td>\n",
       "      <td>...</td>\n",
       "      <td>...</td>\n",
       "      <td>...</td>\n",
       "      <td>...</td>\n",
       "      <td>...</td>\n",
       "      <td>...</td>\n",
       "    </tr>\n",
       "    <tr>\n",
       "      <th>70408</th>\n",
       "      <td>70408</td>\n",
       "      <td>And Merkel was at the height of her power on t...</td>\n",
       "      <td>Между тем, Меркель находилась тогда на вершине...</td>\n",
       "      <td>А Меркель находилась на вершине своей власти н...</td>\n",
       "      <td>0.567574</td>\n",
       "      <td>0.285237</td>\n",
       "      <td>0.567430</td>\n",
       "    </tr>\n",
       "    <tr>\n",
       "      <th>70409</th>\n",
       "      <td>70409</td>\n",
       "      <td>And Merkel was at the height of her power on t...</td>\n",
       "      <td>Между тем, Меркель находилась тогда на вершине...</td>\n",
       "      <td>А Меркель была на высоте своей власти на между...</td>\n",
       "      <td>0.532058</td>\n",
       "      <td>0.249894</td>\n",
       "      <td>0.564214</td>\n",
       "    </tr>\n",
       "    <tr>\n",
       "      <th>70410</th>\n",
       "      <td>70410</td>\n",
       "      <td>And Merkel was at the height of her power on t...</td>\n",
       "      <td>Между тем, Меркель находилась тогда на вершине...</td>\n",
       "      <td>А Меркель находилась на высоте своей власти на...</td>\n",
       "      <td>0.537476</td>\n",
       "      <td>0.261602</td>\n",
       "      <td>0.550736</td>\n",
       "    </tr>\n",
       "    <tr>\n",
       "      <th>70411</th>\n",
       "      <td>70411</td>\n",
       "      <td>And Merkel was at the height of her power on t...</td>\n",
       "      <td>Между тем, Меркель находилась тогда на вершине...</td>\n",
       "      <td>А Меркель оказалась на высоте своей власти на ...</td>\n",
       "      <td>0.568201</td>\n",
       "      <td>0.254108</td>\n",
       "      <td>0.572541</td>\n",
       "    </tr>\n",
       "    <tr>\n",
       "      <th>70412</th>\n",
       "      <td>70412</td>\n",
       "      <td>And Merkel was at the height of her power on t...</td>\n",
       "      <td>Между тем, Меркель находилась тогда на вершине...</td>\n",
       "      <td>А Меркель находилась на вершине своей власти н...</td>\n",
       "      <td>0.568819</td>\n",
       "      <td>0.297613</td>\n",
       "      <td>0.567840</td>\n",
       "    </tr>\n",
       "  </tbody>\n",
       "</table>\n",
       "<p>70413 rows × 7 columns</p>\n",
       "</div>"
      ],
      "text/plain": [
       "       Unnamed: 0                                                src  \\\n",
       "0               0  There is, however, another way of looking at t...   \n",
       "1               1  There is, however, another way of looking at t...   \n",
       "2               2  There is, however, another way of looking at t...   \n",
       "3               3  There is, however, another way of looking at t...   \n",
       "4               4  There is, however, another way of looking at t...   \n",
       "...           ...                                                ...   \n",
       "70408       70408  And Merkel was at the height of her power on t...   \n",
       "70409       70409  And Merkel was at the height of her power on t...   \n",
       "70410       70410  And Merkel was at the height of her power on t...   \n",
       "70411       70411  And Merkel was at the height of her power on t...   \n",
       "70412       70412  And Merkel was at the height of her power on t...   \n",
       "\n",
       "                                                     ref  \\\n",
       "0      Однако существует и другой взгляд на трагедию ...   \n",
       "1      Однако существует и другой взгляд на трагедию ...   \n",
       "2      Однако существует и другой взгляд на трагедию ...   \n",
       "3      Однако существует и другой взгляд на трагедию ...   \n",
       "4      Однако существует и другой взгляд на трагедию ...   \n",
       "...                                                  ...   \n",
       "70408  Между тем, Меркель находилась тогда на вершине...   \n",
       "70409  Между тем, Меркель находилась тогда на вершине...   \n",
       "70410  Между тем, Меркель находилась тогда на вершине...   \n",
       "70411  Между тем, Меркель находилась тогда на вершине...   \n",
       "70412  Между тем, Меркель находилась тогда на вершине...   \n",
       "\n",
       "                                                     hyp     comet       cqe  \\\n",
       "0      Тем не менее, существует другой способ взгляну...  0.896544  0.931036   \n",
       "1      Однако есть и другой способ взглянуть на арген...  0.919838  0.943584   \n",
       "2      Но есть и другой способ взглянуть на аргентинс...  0.898480  0.923129   \n",
       "3      Тем не менее, есть и другой способ взглянуть н...  0.882656  0.927104   \n",
       "4      В то же время, есть и другой способ взглянуть ...  0.842235  0.858793   \n",
       "...                                                  ...       ...       ...   \n",
       "70408  А Меркель находилась на вершине своей власти н...  0.567574  0.285237   \n",
       "70409  А Меркель была на высоте своей власти на между...  0.532058  0.249894   \n",
       "70410  А Меркель находилась на высоте своей власти на...  0.537476  0.261602   \n",
       "70411  А Меркель оказалась на высоте своей власти на ...  0.568201  0.254108   \n",
       "70412  А Меркель находилась на вершине своей власти н...  0.568819  0.297613   \n",
       "\n",
       "        posthoc  \n",
       "0      0.648493  \n",
       "1      0.616375  \n",
       "2      0.632078  \n",
       "3      0.618035  \n",
       "4      0.767284  \n",
       "...         ...  \n",
       "70408  0.567430  \n",
       "70409  0.564214  \n",
       "70410  0.550736  \n",
       "70411  0.572541  \n",
       "70412  0.567840  \n",
       "\n",
       "[70413 rows x 7 columns]"
      ]
     },
     "execution_count": 16,
     "metadata": {},
     "output_type": "execute_result"
    }
   ],
   "source": [
    "ru"
   ]
  },
  {
   "cell_type": "code",
   "execution_count": null,
   "id": "d7329aa1-ab66-47ac-a4c6-5bf81e2d6e53",
   "metadata": {},
   "outputs": [],
   "source": []
  }
 ],
 "metadata": {
  "kernelspec": {
   "display_name": "Python 3 (ipykernel)",
   "language": "python",
   "name": "python3"
  },
  "language_info": {
   "codemirror_mode": {
    "name": "ipython",
    "version": 3
   },
   "file_extension": ".py",
   "mimetype": "text/x-python",
   "name": "python",
   "nbconvert_exporter": "python",
   "pygments_lexer": "ipython3",
   "version": "3.8.12"
  }
 },
 "nbformat": 4,
 "nbformat_minor": 5
}
