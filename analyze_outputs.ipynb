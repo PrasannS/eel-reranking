{
 "cells": [
  {
   "cell_type": "code",
   "execution_count": null,
   "id": "a7403237-4abe-4b50-9669-6c2575ac73b0",
   "metadata": {},
   "outputs": [],
   "source": [
    "import torch\n",
    "import pickle\n",
    "\n",
    "from encoding_utils import *\n",
    "from flatten_lattice import *\n",
    "from model_construct import *"
   ]
  },
  {
   "cell_type": "code",
   "execution_count": null,
   "id": "c3dcd8c2-f679-4d12-8b1f-a065095cba73",
   "metadata": {},
   "outputs": [],
   "source": [
    "def submask_help(words):\n",
    "    msk = []\n",
    "    for i in range(len(words)-1):\n",
    "        if \"#\" in words[i+1]:\n",
    "            msk.append(0)\n",
    "        else:\n",
    "            msk.append(1)\n",
    "    msk.append(1)\n",
    "    return torch.tensor(msk)\n",
    "\n",
    "def subword_mask_all ():\n",
    "    msk = torch.ones_like(sents)\n",
    "    for i in range(0, len(sents)):\n",
    "        tmp = [tok.decode(s) for s in sents[i]]\n",
    "        msk[i] = submask_help(tmp)\n",
    "    return msk\n",
    "\n",
    "def get_acc():\n",
    "    # simplify prediction tensors\n",
    "    ysimp = torch.clone(ylabels)\n",
    "    psimp = torch.argmax(pred1, dim=2)\n",
    "    # clean up labels\n",
    "    sm = subword_mask_all()\n",
    "    ysimp[sents==0] = 0\n",
    "    ysimp[sents==102] = 0\n",
    "    ysimp[sm==0] = 0\n",
    "    ysimp[:, 0] = 0\n",
    "    # apply cleanaup to x \n",
    "    psimp[ysimp==0] = 0\n",
    "    # apply cleanaup to x \n",
    "    psimp[ysimp==0] = 0\n",
    "    # compute accuracy\n",
    "    acc = 1 - ((ysimp-psimp).count_nonzero())/ysimp.count_nonzero()\n",
    "    return acc, ysimp, psimp\n",
    "\n",
    "def get_tmap_acc(tmaps, sents):\n",
    "    a, ysmp, p = get_acc()\n",
    "    assert len(tmaps)==len(ysmp)\n",
    "    cor = 0\n",
    "    tot = 0\n",
    "    for a in ysmp.nonzero():\n",
    "        if int(p[a[0], a[1]]) in tmaps[a[0]][str(int(sents[a[0], a[1]]))]:\n",
    "            #print(int(ysmp[a[0], a[1]]), \" \",  tmaps[a[0]][str(int(sents[a[0], a[1]]))])\n",
    "            cor+=1\n",
    "        else:\n",
    "            print(int(ysmp[a[0], a[1]]))\n",
    "            print(int(p[a[0], a[1]]), \" \",tmaps[a[0]][str(int(sents[a[0], a[1]]))] )\n",
    "        tot+=1\n",
    "    print(cor/tot)\n",
    "    print(cor)\n",
    "    print(tot)\n",
    "    return cor/tot\n",
    "            \n",
    "\n",
    "def get_err_tensors():\n",
    "    diff = ysimp-psimp\n",
    "    diff = diff.abs().bool().int()\n",
    "    errg = ysimp\n",
    "    errp = psimp\n",
    "    errg[diff==0] = 0\n",
    "    errp[diff==0] = 0\n",
    "    return errg, errp\n",
    "\n",
    "\n",
    "def print_decoded(toks):\n",
    "    nt = []\n",
    "    for t in toks:\n",
    "        if t==100 or t==101 or t==102 or t==0:\n",
    "            continue\n",
    "        nt.append(t)\n",
    "    print(tok.decode(nt))\n",
    "    return tok.decode(nt)\n",
    "    \n",
    "# \n",
    "def error_vis(ind):\n",
    "    nt = print_decoded(sents[ind])\n",
    "    p = [lablist[int(errp[ind][i])] for i in errp[ind].nonzero()]\n",
    "    g = [lablist[int(errg[ind][i])] for i in errp[ind].nonzero()]\n",
    "    s = [tok.decode(int(sents[ind][i])) for i in errp[ind].nonzero()]\n",
    "    print(\"ERRORS : \")\n",
    "    print(\"(predicted, gold, token)\")\n",
    "    print(list(zip(p, g, s)))\n",
    "    return nt\n",
    "    \n",
    "def vis_model_pred(strinp):\n",
    "    tokinps = tok(strinp, return_tensors='pt').input_ids.to(device)\n",
    "    msk = torch.tril(torch.ones((len(tokinps[0]), len(tokinps[0]))))\n",
    "    preds = bmodel(tokinps, attmasks=torch.stack([msk]).to(device))\n",
    "    preds = torch.argmax(preds, dim=2)\n",
    "    labs = [lablist[int(p)] for p in preds[0]]\n",
    "    tinps = [tok.decode(int(t))for t in tokinps[0]]\n",
    "    #print(list(zip(labs, tinps)))"
   ]
  },
  {
   "cell_type": "code",
   "execution_count": null,
   "id": "ea09515e-1dfb-4bdd-80b0-662ee00316f5",
   "metadata": {},
   "outputs": [],
   "source": [
    "accuracy, ysimp, psimp = get_acc()\n"
   ]
  },
  {
   "cell_type": "code",
   "execution_count": null,
   "id": "fe2c8183-0289-49d7-8a5c-85107994cec2",
   "metadata": {},
   "outputs": [],
   "source": [
    "len(ysimp.nonzero())"
   ]
  },
  {
   "cell_type": "code",
   "execution_count": null,
   "id": "ecd5943c-9b18-4ab3-ac99-7381e272e347",
   "metadata": {},
   "outputs": [],
   "source": [
    "tok = fl.bert_tok\n",
    "\n",
    "# loads in odata with keys: tmaps, masks, pgraphs\n",
    "with open('torchsaved/outputv7.pkl', 'rb') as file:\n",
    "    odata = pickle.load(file)\n",
    "    \n",
    "with open('./a3distrib/lab_vocab.json') as json_file:\n",
    "    labels = json.load(json_file)\n",
    "    \n",
    "# load in other metadata\n",
    "bmodel = load_model(labels)\n",
    "sents, posids = create_inputs(odata['pgraphs'])"
   ]
  },
  {
   "cell_type": "code",
   "execution_count": null,
   "id": "ce80274a-5f7f-4106-8ca9-0e4f8d887297",
   "metadata": {},
   "outputs": [],
   "source": [
    "ylabels = tmap_pos_goldlabels(odata['tmaps'], sents)   \n",
    "lablist = [l for l in labels.keys()]\n",
    "torch.cuda.empty_cache()\n",
    "\n",
    "pg = odata['pgraphs']"
   ]
  },
  {
   "cell_type": "code",
   "execution_count": null,
   "id": "c686dc87-95c8-4d81-81e2-6d1d8d11da8d",
   "metadata": {},
   "outputs": [],
   "source": [
    "sents, posids = create_inputs(odata['pgraphs'])\n",
    "pred1 = bmodel(sents, mod_posids(posids), odata['masks'])\n",
    "accuracy, ysimp, psimp = get_acc()\n",
    "\n",
    "print(\"accuracy: \", accuracy)\n",
    "\n",
    "errg, errp = get_err_tensors()"
   ]
  },
  {
   "cell_type": "code",
   "execution_count": null,
   "id": "a06605e7-8d7e-4b79-92ea-5ad4e467fd5b",
   "metadata": {},
   "outputs": [],
   "source": [
    "ysimp[0]"
   ]
  },
  {
   "cell_type": "code",
   "execution_count": null,
   "id": "9d4b559c-5ba3-4d69-bdc7-6dc77998a3f9",
   "metadata": {},
   "outputs": [],
   "source": [
    "# can put any number between 0-100 and it will show an example and errors with the example\n",
    "INP = 9\n",
    "for i in range(0, 100):\n",
    "    vis_model_pred(error_vis(i))"
   ]
  },
  {
   "cell_type": "code",
   "execution_count": null,
   "id": "e2dbcf96-c0d0-4c07-89f6-b0be3ababd8c",
   "metadata": {},
   "outputs": [],
   "source": [
    "len((ysimp-psimp).nonzero())"
   ]
  },
  {
   "cell_type": "code",
   "execution_count": null,
   "id": "fe0ab4c2-a22b-4c31-99ec-77304745a915",
   "metadata": {},
   "outputs": [],
   "source": [
    "len(ysimp.nonzero())"
   ]
  },
  {
   "cell_type": "code",
   "execution_count": null,
   "id": "fe237ad8-1616-4002-802c-acb1a31d8c82",
   "metadata": {},
   "outputs": [],
   "source": [
    "#################### BEYOND THIS IS RANDOM SANITY CHECKING ########################################"
   ]
  },
  {
   "cell_type": "code",
   "execution_count": null,
   "id": "41262adf-233e-42d3-835e-6025759af0fd",
   "metadata": {},
   "outputs": [],
   "source": [
    "ta = get_tmap_acc(odata['tmaps'], sents)"
   ]
  },
  {
   "cell_type": "code",
   "execution_count": 30,
   "id": "8bb62b0e-e8fc-4968-a471-26760f1ede14",
   "metadata": {},
   "outputs": [
    {
     "data": {
      "text/plain": [
       "tensor(0.9391, device='cuda:3')"
      ]
     },
     "execution_count": 30,
     "metadata": {},
     "output_type": "execute_result"
    }
   ],
   "source": [
    "accuracy"
   ]
  },
  {
   "cell_type": "code",
   "execution_count": null,
   "id": "288865bd-bd23-43bb-a401-ca65dc84db2b",
   "metadata": {},
   "outputs": [],
   "source": [
    "goldlist = []\n",
    "predlist = []\n",
    "toklist = []\n",
    "for e in errg.nonzero():\n",
    "    goldlist.append(lablist[int(errg[e[0], e[1]])])\n",
    "    predlist.append(lablist[int(errp[e[0], e[1]])])\n",
    "    toklist.append(tok.decode(int(sents[e[0], e[1]])))\n",
    "    \n",
    "zipped = list(zip(goldlist, predlist, toklist))\n",
    "zipcln = []\n",
    "cnt = 0\n",
    "for z in zipped:\n",
    "    if z[1]==z[2]:\n",
    "        cnt+=1\n",
    "        continue\n",
    "    zipcln.append(z)\n",
    "    "
   ]
  },
  {
   "cell_type": "code",
   "execution_count": null,
   "id": "b6af233c-0509-4fe6-b206-e36c1223efb8",
   "metadata": {},
   "outputs": [],
   "source": [
    "# sanity check masking \n",
    "sents.shape"
   ]
  },
  {
   "cell_type": "code",
   "execution_count": null,
   "id": "de6baedd-5b4f-48ca-9f19-f71e503b3566",
   "metadata": {},
   "outputs": [],
   "source": [
    "odata['masks'].shape"
   ]
  },
  {
   "cell_type": "code",
   "execution_count": null,
   "id": "4bc72c18-3032-4004-82cb-07174b36d410",
   "metadata": {},
   "outputs": [],
   "source": [
    "def print_mask_leadup(ind):\n",
    "    msk = odata['masks'][ind]\n",
    "    smat = torch.zeros_like(msk)\n",
    "    smat[:, :] = sents[ind]\n",
    "    assert msk.shape == smat.shape\n",
    "    return smat, msk"
   ]
  },
  {
   "cell_type": "code",
   "execution_count": null,
   "id": "4e0d5e23-c281-4bef-a3de-c8f87cd50221",
   "metadata": {},
   "outputs": [],
   "source": [
    "sm, m = print_mask_leadup(0)"
   ]
  },
  {
   "cell_type": "code",
   "execution_count": null,
   "id": "9e467f88-eba6-4366-b924-674d77fbae6f",
   "metadata": {},
   "outputs": [],
   "source": [
    "sm[m==0]=0"
   ]
  },
  {
   "cell_type": "code",
   "execution_count": null,
   "id": "231027a3-0ede-48d8-8bd0-bcc58b055b90",
   "metadata": {},
   "outputs": [],
   "source": [
    "inps = tok.batch_decode(sm.int())"
   ]
  },
  {
   "cell_type": "code",
   "execution_count": null,
   "id": "f6b3a408-bfc4-494f-a63d-175c05f3deda",
   "metadata": {},
   "outputs": [],
   "source": [
    "inps = [txt.replace(\" [PAD]\", \"\") for txt in inps]"
   ]
  },
  {
   "cell_type": "code",
   "execution_count": null,
   "id": "8cba68b3-260d-4f0a-896a-1bc38e7e88ce",
   "metadata": {},
   "outputs": [],
   "source": [
    "posids[0]"
   ]
  },
  {
   "cell_type": "code",
   "execution_count": null,
   "id": "71194890-0f05-4132-99af-8d1001cc9c4a",
   "metadata": {},
   "outputs": [],
   "source": [
    "a = torch.zeros(5, 5)\n",
    "a[:3, :3] = torch.ones(3, 3)"
   ]
  },
  {
   "cell_type": "code",
   "execution_count": null,
   "id": "e0dd1aa2-9477-4146-b2b4-3907e775af50",
   "metadata": {},
   "outputs": [],
   "source": [
    "torch.tril(a)"
   ]
  },
  {
   "cell_type": "code",
   "execution_count": null,
   "id": "75cbd37a-9de3-4b5f-8e57-044f41c92c18",
   "metadata": {},
   "outputs": [],
   "source": []
  }
 ],
 "metadata": {
  "kernelspec": {
   "display_name": "Python 3 (ipykernel)",
   "language": "python",
   "name": "python3"
  },
  "language_info": {
   "codemirror_mode": {
    "name": "ipython",
    "version": 3
   },
   "file_extension": ".py",
   "mimetype": "text/x-python",
   "name": "python",
   "nbconvert_exporter": "python",
   "pygments_lexer": "ipython3",
   "version": "3.8.12"
  }
 },
 "nbformat": 4,
 "nbformat_minor": 5
}
