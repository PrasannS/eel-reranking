{
 "cells": [
  {
   "cell_type": "code",
   "execution_count": 1,
   "id": "838e4cc4-284a-40fc-ae93-4749f2b271ac",
   "metadata": {},
   "outputs": [],
   "source": [
    "import pandas as pd\n",
    "import encode_utils.rerank_data as rd\n",
    "import pickle"
   ]
  },
  {
   "cell_type": "code",
   "execution_count": 17,
   "id": "918f4c9f-8a53-4b90-a698-605470490c9f",
   "metadata": {},
   "outputs": [],
   "source": [
    "fname = \"outputs/graph_pickles/exploded_tabtotext_lattice/5\"\n",
    "with open(fname, \"rb\") as file:\n",
    "    explvals = pickle.load(file)"
   ]
  },
  {
   "cell_type": "code",
   "execution_count": 2,
   "id": "1b6cfbec-142a-48e0-a4da-fef636b9a186",
   "metadata": {},
   "outputs": [],
   "source": [
    "score_df = pd.read_csv(\"outputs/torchsaved/testdatafr_encomet.csv\")"
   ]
  },
  {
   "cell_type": "code",
   "execution_count": 16,
   "id": "14a63442-86be-487e-8478-5addf743ecb0",
   "metadata": {},
   "outputs": [],
   "source": [
    "def make_nog_table(df, target):\n",
    "    #print(\"COMET \",rd.rerank_df(df, rd.rerank_nogold, ['comet', target]))\n",
    "    print(\"target \",rd.rerank_df(df, rd.rerank_nogold, [target, target]))"
   ]
  },
  {
   "cell_type": "code",
   "execution_count": 17,
   "id": "8d85ff49-a2a9-4c71-9cfd-db98e2865907",
   "metadata": {},
   "outputs": [
    {
     "name": "stdout",
     "output_type": "stream",
     "text": [
      "target  0.7499382152449932\n"
     ]
    }
   ],
   "source": [
    "make_nog_table(score_df, \"dupcqe\")"
   ]
  },
  {
   "cell_type": "code",
   "execution_count": 23,
   "id": "c11c285a-481c-4548-9348-fb568d28e3be",
   "metadata": {},
   "outputs": [
    {
     "name": "stdout",
     "output_type": "stream",
     "text": [
      "target  0.6619270655722257\n"
     ]
    }
   ],
   "source": [
    "print(\"target \",rd.rerank_df(score_df, rd.rerank_nogold, [\"posthoc\", \"dupcqe\"]))"
   ]
  },
  {
   "cell_type": "code",
   "execution_count": 24,
   "id": "2d5c4442-e696-4385-81a2-048a07fdabf0",
   "metadata": {},
   "outputs": [
    {
     "name": "stdout",
     "output_type": "stream",
     "text": [
      "target  0.6541258052414733\n"
     ]
    }
   ],
   "source": [
    "print(\"target \",rd.rerank_df(score_df, rd.rerank_rand, [\"posthoc\", \"dupcqe\"]))\n"
   ]
  },
  {
   "cell_type": "code",
   "execution_count": null,
   "id": "5ec10c4d-be65-4b79-9010-e2d169936993",
   "metadata": {},
   "outputs": [],
   "source": []
  }
 ],
 "metadata": {
  "kernelspec": {
   "display_name": "Python 3 (ipykernel)",
   "language": "python",
   "name": "python3"
  },
  "language_info": {
   "codemirror_mode": {
    "name": "ipython",
    "version": 3
   },
   "file_extension": ".py",
   "mimetype": "text/x-python",
   "name": "python",
   "nbconvert_exporter": "python",
   "pygments_lexer": "ipython3",
   "version": "3.8.12"
  }
 },
 "nbformat": 4,
 "nbformat_minor": 5
}
