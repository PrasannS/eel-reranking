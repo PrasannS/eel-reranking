{
 "cells": [
  {
   "cell_type": "code",
   "execution_count": 1,
   "id": "f7ffe039-f47a-4d63-b73f-032bf8b5d55b",
   "metadata": {},
   "outputs": [],
   "source": [
    "import json"
   ]
  },
  {
   "cell_type": "code",
   "execution_count": 3,
   "id": "461b3742-7c6b-4cdc-b6a0-1d2699b11f2f",
   "metadata": {},
   "outputs": [],
   "source": [
    "beam50 = json.load(open('rerankdata/beam50fr_en.json'))\n",
    "lat2sum = json.load(open('rerankdata/fr-en_bfs_recom_2_-.json'))"
   ]
  },
  {
   "cell_type": "code",
   "execution_count": 15,
   "id": "c6c7c05f-26a7-44bd-b675-11bcbd807d65",
   "metadata": {},
   "outputs": [
    {
     "name": "stdout",
     "output_type": "stream",
     "text": [
      "topinitial: 0.18045616146250099\n",
      "rerankqe : -0.21851422955446384\n",
      "oracle: -0.06018384783437439\n"
     ]
    }
   ],
   "source": [
    "def get_avg_comet(data):\n",
    "    print(\"topinitial: \"+str(data['topinitial'][1]))\n",
    "    print(\"rerankqe : \"+str(data['qererank'][1]))\n",
    "    print(\"oracle: \"+str(data['oracle'][1]))\n",
    "    \n",
    "    \n",
    "\n",
    "get_avg_comet(lat2sum)"
   ]
  },
  {
   "cell_type": "code",
   "execution_count": 12,
   "id": "9116f915-caa1-4c1a-9e03-07c902cd389d",
   "metadata": {},
   "outputs": [
    {
     "data": {
      "text/plain": [
       "0.3852648685872555"
      ]
     },
     "execution_count": 12,
     "metadata": {},
     "output_type": "execute_result"
    }
   ],
   "source": []
  },
  {
   "cell_type": "code",
   "execution_count": null,
   "id": "4fd0e0ed-1158-4291-9164-2dce33823fa5",
   "metadata": {},
   "outputs": [],
   "source": []
  }
 ],
 "metadata": {
  "kernelspec": {
   "display_name": "Python 3 (ipykernel)",
   "language": "python",
   "name": "python3"
  },
  "language_info": {
   "codemirror_mode": {
    "name": "ipython",
    "version": 3
   },
   "file_extension": ".py",
   "mimetype": "text/x-python",
   "name": "python",
   "nbconvert_exporter": "python",
   "pygments_lexer": "ipython3",
   "version": "3.8.12"
  }
 },
 "nbformat": 4,
 "nbformat_minor": 5
}
