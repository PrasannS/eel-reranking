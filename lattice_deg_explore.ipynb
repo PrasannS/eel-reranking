{
 "cells": [
  {
   "cell_type": "code",
   "execution_count": 1,
   "id": "954d53ab-1ea3-458b-adb9-efdeef550512",
   "metadata": {},
   "outputs": [
    {
     "name": "stderr",
     "output_type": "stream",
     "text": [
      "2022-11-07 07:34:08.775601: W tensorflow/stream_executor/platform/default/dso_loader.cc:64] Could not load dynamic library 'libcudart.so.11.0'; dlerror: libcudart.so.11.0: cannot open shared object file: No such file or directory\n",
      "2022-11-07 07:34:08.775620: I tensorflow/stream_executor/cuda/cudart_stub.cc:29] Ignore above cudart dlerror if you do not have a GPU set up on your machine.\n"
     ]
    }
   ],
   "source": [
    "from mt_scores import get_scores_auto\n",
    "import pandas as pd\n",
    "import pickle\n",
    "import matplotlib.pyplot as plt\n",
    "import random as rand"
   ]
  },
  {
   "cell_type": "code",
   "execution_count": 2,
   "id": "2692267f-3e1f-40ff-af6c-4cb168d7eab6",
   "metadata": {},
   "outputs": [],
   "source": [
    "def mean(listvals):\n",
    "    return sum(listvals)/len(listvals)"
   ]
  },
  {
   "cell_type": "code",
   "execution_count": 3,
   "id": "d8de34cd-c42c-43d5-a545-83474810cdc4",
   "metadata": {
    "tags": []
   },
   "outputs": [],
   "source": [
    "# This is a notebook to examine errors in the selection process of our efficient lattice with CQEUT\n",
    "# We'll look at a couple of examples specifically to get our insights\n",
    "def get_pickle(fname):\n",
    "    f = open(fname, 'rb')\n",
    "    return pickle.load(f)\n",
    "\n",
    "# Load in necessary data for a given graph\n",
    "def init_data(lang, chosen):\n",
    "    gbase = \"detest_reversed/\"\n",
    "    lpbase = \"germanlatpreds\"\n",
    "    expldir = \"germantest_exploded/\"\n",
    "    if lang=='fr-en':\n",
    "        gbase = \"frtest_reversed/\"\n",
    "        lpbase = \"frenchlatpreds\"\n",
    "        expldir = \"frenchtest_exploded/\"\n",
    "        \n",
    "    graph = get_pickle(gbase+str(chosen))\n",
    "    lpredsall = pd.read_csv(lpbase)\n",
    "    # tuple in the format of scores, cands, ref, source\n",
    "    explvals = get_pickle(expldir+str(chosen))\n",
    "    # TODO this is probably wrong\n",
    "    return graph, lpredsall.loc[chosen], explvals\n",
    "\n",
    "CHOSEN = 0\n",
    "LANG = \"fr-en\"\n",
    "\n",
    "def gendata_scores(hyps, srcs, refs, mname, lang):\n",
    "    cqeut = get_scores_auto(hyps, srcs, refs, \"cqeut\", mname)\n",
    "    cqe = get_scores_auto(hyps, srcs, refs, \"cqe\", \"\")\n",
    "    posthoc = get_scores_auto(hyps, srcs, refs, \"posthoc\", lang)\n",
    "    comet = get_scores_auto(hyps, srcs, refs, \"comet\", \"\")\n",
    "    return cqe, posthoc, comet, cqeut\n",
    "\n",
    "    \n",
    "# Get all the appropriate scores based on the data that we got\n",
    "def generate_scores(lang, chosen):\n",
    "    g, lp, explode = init_data(lang, chosen)\n",
    "    # get inputs to pass into stuff, last index is one selected by lattice\n",
    "    hyps = explode[1]+[lp['ahyp']]\n",
    "    refs = [explode[2]]*len(hyps)\n",
    "    srcs = [explode[3]]*len(hyps)\n",
    "    if lang==\"fr-en\":\n",
    "        mname = \"./torchsaved/maskedcont4.pt\"\n",
    "    cqe, posthoc, comet, cqeut = gendata_scores(hyps, srcs, refs, mname, lang )\n",
    "    return hyps, cqe, posthoc, comet, cqeut"
   ]
  },
  {
   "cell_type": "code",
   "execution_count": null,
   "id": "4c67fad8-3c56-4e19-8e95-ee26761e33e6",
   "metadata": {},
   "outputs": [],
   "source": []
  },
  {
   "cell_type": "code",
   "execution_count": null,
   "id": "720d212e-033f-491b-92ba-a055fb055af5",
   "metadata": {},
   "outputs": [],
   "source": [
    "comsco = get_scores_auto(lpreds['ahyp'], lpreds['src'], lpreds['ref'], \"comet\", \"\")"
   ]
  },
  {
   "cell_type": "code",
   "execution_count": 8,
   "id": "468ca9c3-da9d-4b62-b3bd-ed17754d2631",
   "metadata": {},
   "outputs": [
    {
     "data": {
      "text/plain": [
       "0.628337462774303"
      ]
     },
     "execution_count": 8,
     "metadata": {},
     "output_type": "execute_result"
    }
   ],
   "source": [
    "mean(comsco)"
   ]
  },
  {
   "cell_type": "code",
   "execution_count": 22,
   "id": "ad1129dd-07ec-41ed-ada6-dc6bec23b225",
   "metadata": {},
   "outputs": [],
   "source": [
    "testpreds = pd.read_csv(\"scontcompresseddef.csv\")"
   ]
  },
  {
   "cell_type": "code",
   "execution_count": null,
   "id": "52d9fef3-4a79-4312-bdc0-d949eeed5e65",
   "metadata": {},
   "outputs": [],
   "source": []
  },
  {
   "cell_type": "code",
   "execution_count": 23,
   "id": "a55c06b3-4448-4b37-994b-767fefc58c65",
   "metadata": {},
   "outputs": [
    {
     "data": {
      "text/html": [
       "<div>\n",
       "<style scoped>\n",
       "    .dataframe tbody tr th:only-of-type {\n",
       "        vertical-align: middle;\n",
       "    }\n",
       "\n",
       "    .dataframe tbody tr th {\n",
       "        vertical-align: top;\n",
       "    }\n",
       "\n",
       "    .dataframe thead th {\n",
       "        text-align: right;\n",
       "    }\n",
       "</style>\n",
       "<table border=\"1\" class=\"dataframe\">\n",
       "  <thead>\n",
       "    <tr style=\"text-align: right;\">\n",
       "      <th></th>\n",
       "      <th>Unnamed: 0</th>\n",
       "      <th>src</th>\n",
       "      <th>hyp</th>\n",
       "      <th>ref</th>\n",
       "    </tr>\n",
       "  </thead>\n",
       "  <tbody>\n",
       "  </tbody>\n",
       "</table>\n",
       "</div>"
      ],
      "text/plain": [
       "Empty DataFrame\n",
       "Columns: [Unnamed: 0, src, hyp, ref]\n",
       "Index: []"
      ]
     },
     "execution_count": 23,
     "metadata": {},
     "output_type": "execute_result"
    }
   ],
   "source": [
    "testpreds[testpreds.isna().any(axis=1)]\n"
   ]
  },
  {
   "cell_type": "code",
   "execution_count": 7,
   "id": "da5dac4c-bbff-48f2-a530-689fa86b7270",
   "metadata": {},
   "outputs": [],
   "source": [
    "def get_act_hyps(hyplist, cutoff):\n",
    "    res = []\n",
    "    for h in hyplist:\n",
    "        cind = h.index(cutoff)+len(cutoff)\n",
    "        res.append(h[cind:])\n",
    "    return res\n",
    "\n",
    "def get_process_lpreds(filename):\n",
    "    lpreds = pd.read_csv(filename)\n",
    "    lpreds['ind'] = lpreds['Unnamed: 0']\n",
    "    lpreds = lpreds.dropna()\n",
    "    lpreds['ahyp'] = get_act_hyps(lpreds['hyp'], \"</s>\")\n",
    "    frname = \"./torchsaved/maskedcont4.pt\"\n",
    "    cqe, comet, posthoc, cqeut = gendata_scores(lpreds['ahyp'], lpreds['src'], lpreds['ref'], frname, \"fr-en\")\n",
    "    lpreds['cqe'] = cqe\n",
    "    lpreds['cqeut'] = cqeut\n",
    "    lpreds['posthoc'] = posthoc\n",
    "    lpreds['comet'] = comet\n",
    "    comsco = get_scores_auto(lpreds['ahyp'], lpreds['src'], lpreds['ref'], \"comet\", \"\")\n",
    "    lpreds['comet'] = comsco\n",
    "    return lpreds\n",
    "\n",
    "def get_justcomet(filename):\n",
    "    lpreds = pd.read_csv(filename)\n",
    "    lpreds['ind'] = lpreds['Unnamed: 0']\n",
    "    lpreds = lpreds.dropna()\n",
    "    lpreds['ahyp'] = get_act_hyps(lpreds['hyp'], \"</s>\")\n",
    "    comsco = get_scores_auto(lpreds['ahyp'], lpreds['src'], lpreds['ref'], \"comet\", \"\")\n",
    "    lpreds['comet'] = comsco\n",
    "    return lpreds\n",
    "#GFILE = 'frenchlatpreds3.csv'\n"
   ]
  },
  {
   "cell_type": "code",
   "execution_count": 28,
   "id": "6754c519-ffc0-41d7-bc7d-bf60c75031f1",
   "metadata": {},
   "outputs": [
    {
     "name": "stderr",
     "output_type": "stream",
     "text": [
      "Predicting: 100%|█████████████████████████████████████████████████████████████████████████████████████████████████████████████████████████████████████| 15/15 [00:08<00:00,  1.75it/s]"
     ]
    },
    {
     "name": "stdout",
     "output_type": "stream",
     "text": [
      "\t- Explicitly set the environment variable TOKENIZERS_PARALLELISM=(true | false)\n",
      "\t- Explicitly set the environment variable TOKENIZERS_PARALLELISM=(true | false)\n",
      "\t- Avoid using `tokenizers` before the fork if possible\n",
      "\t- Explicitly set the environment variable TOKENIZERS_PARALLELISM=(true | false)\n",
      "\t- Avoid using `tokenizers` before the fork if possible\n",
      "\t- Explicitly set the environment variable TOKENIZERS_PARALLELISM=(true | false)\n",
      "To disable this warning, you can either:\n",
      "\t- Avoid using `tokenizers` before the fork if possible\n",
      "\t- Explicitly set the environment variable TOKENIZERS_PARALLELISM=(true | false)\n"
     ]
    },
    {
     "name": "stderr",
     "output_type": "stream",
     "text": [
      "Predicting: 100%|█████████████████████████████████████████████████████████████████████████████████████████████████████████████████████████████████████| 15/15 [00:08<00:00,  1.70it/s]\n"
     ]
    },
    {
     "data": {
      "text/plain": [
       "0.5216934347492703"
      ]
     },
     "execution_count": 28,
     "metadata": {},
     "output_type": "execute_result"
    }
   ],
   "source": [
    "#defpreds = get_process_lpreds(\"defpreds.csv\")\n",
    "#multpreds = get_process_lpreds(\"multpreds.csv\")\n",
    "#10 - 0.6608\n",
    "#15 - 0.6604\n",
    "#20 - 0.663\n",
    "#30 - 0.662\n",
    "#22 - 0.665\n",
    "#24 - 0.666\n",
    "waddpreds = get_process_lpreds(\"scontcompressedwadd.csv\")\n",
    "mean(waddpreds['comet'])"
   ]
  },
  {
   "cell_type": "code",
   "execution_count": 29,
   "id": "bcaeb572-f001-415c-98f8-2e801e43b666",
   "metadata": {},
   "outputs": [
    {
     "data": {
      "text/plain": [
       "0.5298235041922644"
      ]
     },
     "execution_count": 29,
     "metadata": {},
     "output_type": "execute_result"
    }
   ],
   "source": [
    "mean(waddpreds['comet'][:76])"
   ]
  },
  {
   "cell_type": "code",
   "execution_count": 61,
   "id": "6d62d437-0c6e-475e-add9-0e797176f082",
   "metadata": {},
   "outputs": [
    {
     "name": "stdout",
     "output_type": "stream",
     "text": [
      " However, a strong president would not necessarily bring about negative changes for Ukraine.\n"
     ]
    }
   ],
   "source": [
    "print(waddpreds[waddpreds['comet']<0].iloc[0]['ahyp'])\n",
    "print(waddpreds[waddpreds['comet']<0].iloc[0]['ref'])\n"
   ]
  },
  {
   "cell_type": "code",
   "execution_count": 25,
   "id": "8d005ec5-60a4-42e9-8093-5a41d1b5fec5",
   "metadata": {},
   "outputs": [
    {
     "data": {
      "text/plain": [
       "0.8662311658447172"
      ]
     },
     "execution_count": 25,
     "metadata": {},
     "output_type": "execute_result"
    }
   ],
   "source": [
    "mean(waddpreds['cqeut'])"
   ]
  },
  {
   "cell_type": "code",
   "execution_count": 27,
   "id": "ff9d2999-410f-4621-938f-db00efb57419",
   "metadata": {},
   "outputs": [
    {
     "data": {
      "text/plain": [
       "0.6847649658719699"
      ]
     },
     "execution_count": 27,
     "metadata": {},
     "output_type": "execute_result"
    }
   ],
   "source": [
    "mean(waddpreds['comet'][:75])"
   ]
  },
  {
   "cell_type": "code",
   "execution_count": 12,
   "id": "e8aa1bba-0921-4956-8143-516afb634cb7",
   "metadata": {},
   "outputs": [],
   "source": [
    "#w3 = waddpreds"
   ]
  },
  {
   "cell_type": "code",
   "execution_count": 13,
   "id": "91d7d1ed-5d70-4db3-b0e6-f076452ec802",
   "metadata": {},
   "outputs": [],
   "source": [
    "wp100 = waddpreds"
   ]
  },
  {
   "cell_type": "code",
   "execution_count": 27,
   "id": "5816e4ec-b82f-47f0-a9ea-d151147acc2b",
   "metadata": {},
   "outputs": [
    {
     "data": {
      "text/html": [
       "<div>\n",
       "<style scoped>\n",
       "    .dataframe tbody tr th:only-of-type {\n",
       "        vertical-align: middle;\n",
       "    }\n",
       "\n",
       "    .dataframe tbody tr th {\n",
       "        vertical-align: top;\n",
       "    }\n",
       "\n",
       "    .dataframe thead th {\n",
       "        text-align: right;\n",
       "    }\n",
       "</style>\n",
       "<table border=\"1\" class=\"dataframe\">\n",
       "  <thead>\n",
       "    <tr style=\"text-align: right;\">\n",
       "      <th></th>\n",
       "      <th>Unnamed: 0</th>\n",
       "      <th>src</th>\n",
       "      <th>hyp</th>\n",
       "      <th>ref</th>\n",
       "      <th>ind</th>\n",
       "      <th>ahyp</th>\n",
       "      <th>cqe</th>\n",
       "      <th>cqeut</th>\n",
       "      <th>posthoc</th>\n",
       "      <th>comet</th>\n",
       "    </tr>\n",
       "  </thead>\n",
       "  <tbody>\n",
       "    <tr>\n",
       "      <th>0</th>\n",
       "      <td>0</td>\n",
       "      <td>Après tout, en tant que journaliste d'investig...</td>\n",
       "      <td>&lt;/s&gt; After all, as a journalist investigative ...</td>\n",
       "      <td>After all, as a campaigning investigative jour...</td>\n",
       "      <td>0</td>\n",
       "      <td>After all, as a journalist investigative jour...</td>\n",
       "      <td>0.000041</td>\n",
       "      <td>0.767481</td>\n",
       "      <td>-0.182959</td>\n",
       "      <td>-0.182959</td>\n",
       "    </tr>\n",
       "    <tr>\n",
       "      <th>27</th>\n",
       "      <td>27</td>\n",
       "      <td>Toutefois, un président puissant n'entraînerai...</td>\n",
       "      <td>&lt;/s&gt; But a strong president would not necessar...</td>\n",
       "      <td>A powerful president, however, is not necessar...</td>\n",
       "      <td>27</td>\n",
       "      <td>But a strong president would not necessarily ...</td>\n",
       "      <td>0.696644</td>\n",
       "      <td>0.837980</td>\n",
       "      <td>-0.197129</td>\n",
       "      <td>-0.197129</td>\n",
       "    </tr>\n",
       "    <tr>\n",
       "      <th>31</th>\n",
       "      <td>31</td>\n",
       "      <td>Pour se justifier, les partisans de cette appr...</td>\n",
       "      <td>&lt;/s&gt; To justify this, proponents of climate ch...</td>\n",
       "      <td>Adherents of this view point first and foremos...</td>\n",
       "      <td>31</td>\n",
       "      <td>To justify this, proponents of climate change...</td>\n",
       "      <td>0.000041</td>\n",
       "      <td>0.998692</td>\n",
       "      <td>-0.254409</td>\n",
       "      <td>-0.254409</td>\n",
       "    </tr>\n",
       "    <tr>\n",
       "      <th>35</th>\n",
       "      <td>35</td>\n",
       "      <td>Ainsi que l'a formulé Kosti Manibe, le ministr...</td>\n",
       "      <td>&lt;/s&gt; As Kosti Manibe, Sudan's finance minister...</td>\n",
       "      <td>As Kosti Manibe Ngai, South Sudan’s finance mi...</td>\n",
       "      <td>35</td>\n",
       "      <td>As Kosti Manibe, Sudan's finance minister, pu...</td>\n",
       "      <td>0.297187</td>\n",
       "      <td>1.126941</td>\n",
       "      <td>-0.132664</td>\n",
       "      <td>-0.132664</td>\n",
       "    </tr>\n",
       "    <tr>\n",
       "      <th>46</th>\n",
       "      <td>46</td>\n",
       "      <td>Une démarche fiscale prudente mise en place al...</td>\n",
       "      <td>&lt;/s&gt; A prudent fiscal policy approach, introdu...</td>\n",
       "      <td>A prudent fiscal stance, pursued while the eco...</td>\n",
       "      <td>46</td>\n",
       "      <td>A prudent fiscal policy approach, introduces ...</td>\n",
       "      <td>0.191098</td>\n",
       "      <td>1.097140</td>\n",
       "      <td>-0.178400</td>\n",
       "      <td>-0.178400</td>\n",
       "    </tr>\n",
       "    <tr>\n",
       "      <th>49</th>\n",
       "      <td>49</td>\n",
       "      <td>Et que dira notre refus d’en prendre sur notre...</td>\n",
       "      <td>&lt;/s&gt; And what will our refusal to take moralit...</td>\n",
       "      <td>And what does it say about us if we won’t?</td>\n",
       "      <td>49</td>\n",
       "      <td>And what will our refusal to take morality say?.</td>\n",
       "      <td>0.000041</td>\n",
       "      <td>0.899202</td>\n",
       "      <td>-0.394035</td>\n",
       "      <td>-0.394035</td>\n",
       "    </tr>\n",
       "    <tr>\n",
       "      <th>54</th>\n",
       "      <td>54</td>\n",
       "      <td>Tandis que l'Amérique débat de l'invasion de l...</td>\n",
       "      <td>&lt;/s&gt; As America debates the invasion of Iraq, ...</td>\n",
       "      <td>As America debates whether or not to invade Ir...</td>\n",
       "      <td>54</td>\n",
       "      <td>As America debates the invasion of Iraq, conc...</td>\n",
       "      <td>0.126833</td>\n",
       "      <td>0.893762</td>\n",
       "      <td>-0.017531</td>\n",
       "      <td>-0.017531</td>\n",
       "    </tr>\n",
       "    <tr>\n",
       "      <th>70</th>\n",
       "      <td>70</td>\n",
       "      <td>A une extrémité du spectre, on le considère (d...</td>\n",
       "      <td>&lt;/s&gt; On one end of the spectrum it is seen as ...</td>\n",
       "      <td>At one end of its spectrum of meanings, conser...</td>\n",
       "      <td>70</td>\n",
       "      <td>On one end of the spectrum it is seen as an e...</td>\n",
       "      <td>0.000504</td>\n",
       "      <td>0.489469</td>\n",
       "      <td>-0.348860</td>\n",
       "      <td>-0.348860</td>\n",
       "    </tr>\n",
       "    <tr>\n",
       "      <th>80</th>\n",
       "      <td>80</td>\n",
       "      <td>En supposant une entrée dans l'UE et les MTC I...</td>\n",
       "      <td>&lt;/s&gt; Assuming EU and TCM II entry in 2004, the...</td>\n",
       "      <td>Assuming entry into both the EU and ERM II in ...</td>\n",
       "      <td>80</td>\n",
       "      <td>Assuming EU and TCM II entry in 2004, the new...</td>\n",
       "      <td>0.120087</td>\n",
       "      <td>0.985925</td>\n",
       "      <td>-0.241076</td>\n",
       "      <td>-0.241076</td>\n",
       "    </tr>\n",
       "    <tr>\n",
       "      <th>89</th>\n",
       "      <td>89</td>\n",
       "      <td>Autochtone dont les frères servent la même équ...</td>\n",
       "      <td>&lt;/s&gt; Crowley was an Aboriginal man with brothe...</td>\n",
       "      <td>A local man whose brothers all serve in the po...</td>\n",
       "      <td>89</td>\n",
       "      <td>Crowley was an Aboriginal man with brothers w...</td>\n",
       "      <td>0.000041</td>\n",
       "      <td>0.526540</td>\n",
       "      <td>-0.145944</td>\n",
       "      <td>-0.145944</td>\n",
       "    </tr>\n",
       "    <tr>\n",
       "      <th>100</th>\n",
       "      <td>100</td>\n",
       "      <td>Pour un contrôle efficace, il est indispensabl...</td>\n",
       "      <td>&lt;/s&gt; Effective control requires that the contr...</td>\n",
       "      <td>A prerequisite of effective control of the med...</td>\n",
       "      <td>100</td>\n",
       "      <td>Effective control requires that the controlle...</td>\n",
       "      <td>0.127462</td>\n",
       "      <td>0.654221</td>\n",
       "      <td>-0.039480</td>\n",
       "      <td>-0.039480</td>\n",
       "    </tr>\n",
       "    <tr>\n",
       "      <th>116</th>\n",
       "      <td>116</td>\n",
       "      <td>Malgré le consensus désormais atteint sur le f...</td>\n",
       "      <td>&lt;/s&gt; Despite the consensus now that it works t...</td>\n",
       "      <td>A consensus has now been reached on the need t...</td>\n",
       "      <td>116</td>\n",
       "      <td>Despite the consensus now that it works to he...</td>\n",
       "      <td>0.000041</td>\n",
       "      <td>0.996466</td>\n",
       "      <td>-0.020452</td>\n",
       "      <td>-0.020452</td>\n",
       "    </tr>\n",
       "    <tr>\n",
       "      <th>123</th>\n",
       "      <td>123</td>\n",
       "      <td>Et la réaction des puissances nucléaires à la ...</td>\n",
       "      <td>&lt;/s&gt; And the reaction of the nuclear powers to...</td>\n",
       "      <td>And, of course, the reactions of the nuclear p...</td>\n",
       "      <td>123</td>\n",
       "      <td>And the reaction of the nuclear powers to the...</td>\n",
       "      <td>0.166951</td>\n",
       "      <td>0.911129</td>\n",
       "      <td>-0.065406</td>\n",
       "      <td>-0.065406</td>\n",
       "    </tr>\n",
       "    <tr>\n",
       "      <th>142</th>\n",
       "      <td>142</td>\n",
       "      <td>Une enquête d'opinion menée de longue date à t...</td>\n",
       "      <td>&lt;/s&gt; A long-standing survey of opinion survey ...</td>\n",
       "      <td>A pan-European opinion survey, which has been ...</td>\n",
       "      <td>142</td>\n",
       "      <td>A long-standing survey of opinion survey link...</td>\n",
       "      <td>0.000760</td>\n",
       "      <td>0.696034</td>\n",
       "      <td>-0.037428</td>\n",
       "      <td>-0.037428</td>\n",
       "    </tr>\n",
       "    <tr>\n",
       "      <th>151</th>\n",
       "      <td>151</td>\n",
       "      <td>Et, en tant qu’icône de droite, elle est parfa...</td>\n",
       "      <td>&lt;/s&gt; Asi icon of the right, it is well that sh...</td>\n",
       "      <td>And, as an icon of the right, she is well awar...</td>\n",
       "      <td>151</td>\n",
       "      <td>Asi icon of the right, it is well that she ca...</td>\n",
       "      <td>0.000042</td>\n",
       "      <td>0.795785</td>\n",
       "      <td>-0.242388</td>\n",
       "      <td>-0.242388</td>\n",
       "    </tr>\n",
       "    <tr>\n",
       "      <th>180</th>\n",
       "      <td>180</td>\n",
       "      <td>Quel meilleur moyen pour créer la société mult...</td>\n",
       "      <td>&lt;/s&gt; What better way to create a multicultural...</td>\n",
       "      <td>A stronger European identity is the soundest b...</td>\n",
       "      <td>180</td>\n",
       "      <td>What better way to create a multicultural soc...</td>\n",
       "      <td>0.542335</td>\n",
       "      <td>0.945977</td>\n",
       "      <td>-0.358900</td>\n",
       "      <td>-0.358900</td>\n",
       "    </tr>\n",
       "    <tr>\n",
       "      <th>182</th>\n",
       "      <td>182</td>\n",
       "      <td>Ce dernier en choisirait un qui retournerait d...</td>\n",
       "      <td>&lt;/s&gt; The President would choose one of them an...</td>\n",
       "      <td>Alternatively, the General Assembly might prop...</td>\n",
       "      <td>182</td>\n",
       "      <td>The President would choose one of them and re...</td>\n",
       "      <td>0.425976</td>\n",
       "      <td>0.763450</td>\n",
       "      <td>-0.154209</td>\n",
       "      <td>-0.154209</td>\n",
       "    </tr>\n",
       "    <tr>\n",
       "      <th>202</th>\n",
       "      <td>202</td>\n",
       "      <td>Ce sont les USA et l'Europe qui s'avancent cha...</td>\n",
       "      <td>&lt;/s&gt; The US and Europe are making progress on ...</td>\n",
       "      <td>And it is Europe and America that are marching...</td>\n",
       "      <td>202</td>\n",
       "      <td>The US and Europe are making progress on each...</td>\n",
       "      <td>0.225702</td>\n",
       "      <td>0.669182</td>\n",
       "      <td>-0.240498</td>\n",
       "      <td>-0.240498</td>\n",
       "    </tr>\n",
       "    <tr>\n",
       "      <th>207</th>\n",
       "      <td>207</td>\n",
       "      <td>De même que l'Ukraine, elle rejoindra peut-êtr...</td>\n",
       "      <td>&lt;/s&gt; Like Ukraine, Ukraine may eventually join...</td>\n",
       "      <td>As for Ukraine, it may one day become part of ...</td>\n",
       "      <td>207</td>\n",
       "      <td>Like Ukraine, Ukraine may eventually join the...</td>\n",
       "      <td>0.108765</td>\n",
       "      <td>1.078847</td>\n",
       "      <td>-0.266103</td>\n",
       "      <td>-0.266103</td>\n",
       "    </tr>\n",
       "    <tr>\n",
       "      <th>208</th>\n",
       "      <td>208</td>\n",
       "      <td>L’Allemagne et les Allemands sont méconnaissab...</td>\n",
       "      <td>&lt;/s&gt; Germany and the Germans were unknowable.</td>\n",
       "      <td>As for Germany and the Germans, one hardly rec...</td>\n",
       "      <td>208</td>\n",
       "      <td>Germany and the Germans were unknowable.</td>\n",
       "      <td>0.000136</td>\n",
       "      <td>0.783960</td>\n",
       "      <td>-1.080565</td>\n",
       "      <td>-1.080565</td>\n",
       "    </tr>\n",
       "    <tr>\n",
       "      <th>225</th>\n",
       "      <td>225</td>\n",
       "      <td>Après tout, elle a légèrement hésité quelques ...</td>\n",
       "      <td>&lt;/s&gt; After all, a few years ago it had been sl...</td>\n",
       "      <td>After all, it hesitated little a few years ago...</td>\n",
       "      <td>225</td>\n",
       "      <td>After all, a few years ago it had been slight...</td>\n",
       "      <td>0.203013</td>\n",
       "      <td>0.607900</td>\n",
       "      <td>-0.055166</td>\n",
       "      <td>-0.055166</td>\n",
       "    </tr>\n",
       "    <tr>\n",
       "      <th>244</th>\n",
       "      <td>244</td>\n",
       "      <td>Continuer comme si de rien n’était constituera...</td>\n",
       "      <td>&lt;/s&gt; To continue as if nothing had happened wo...</td>\n",
       "      <td>Any decision to continue as before would send ...</td>\n",
       "      <td>244</td>\n",
       "      <td>To continue as if nothing had happened would ...</td>\n",
       "      <td>0.000041</td>\n",
       "      <td>0.393276</td>\n",
       "      <td>-0.041624</td>\n",
       "      <td>-0.041624</td>\n",
       "    </tr>\n",
       "    <tr>\n",
       "      <th>255</th>\n",
       "      <td>255</td>\n",
       "      <td>On a coutume de dire que “ plus la cause est j...</td>\n",
       "      <td>&lt;/s&gt; The more the cause is just, the more supp...</td>\n",
       "      <td>According to an old Chinese saying, “a just ca...</td>\n",
       "      <td>255</td>\n",
       "      <td>The more the cause is just, the more support ...</td>\n",
       "      <td>0.000042</td>\n",
       "      <td>0.888189</td>\n",
       "      <td>-1.294039</td>\n",
       "      <td>-1.294039</td>\n",
       "    </tr>\n",
       "    <tr>\n",
       "      <th>263</th>\n",
       "      <td>263</td>\n",
       "      <td>Un rachat de dette tient du cercle vicieux sin...</td>\n",
       "      <td>&lt;/s&gt; A debt buyback is a vicious circle or a d...</td>\n",
       "      <td>A debt buyback is something of a Catch 22: to ...</td>\n",
       "      <td>263</td>\n",
       "      <td>A debt buyback is a vicious circle or a dead ...</td>\n",
       "      <td>0.000041</td>\n",
       "      <td>1.181120</td>\n",
       "      <td>-0.366765</td>\n",
       "      <td>-0.366765</td>\n",
       "    </tr>\n",
       "    <tr>\n",
       "      <th>284</th>\n",
       "      <td>284</td>\n",
       "      <td>Les pays africains sont sans cesse, et souvent...</td>\n",
       "      <td>&lt;/s&gt; African countries are constantly, often i...</td>\n",
       "      <td>African countries search endlessly, and mostly...</td>\n",
       "      <td>284</td>\n",
       "      <td>African countries are constantly, often in va...</td>\n",
       "      <td>0.000064</td>\n",
       "      <td>1.083256</td>\n",
       "      <td>-0.396625</td>\n",
       "      <td>-0.396625</td>\n",
       "    </tr>\n",
       "    <tr>\n",
       "      <th>285</th>\n",
       "      <td>285</td>\n",
       "      <td>Suite aux cinglants assauts littéraires sur le...</td>\n",
       "      <td>&lt;/s&gt; Following the spectacular literary attack...</td>\n",
       "      <td>After withering literary assaults on the Almig...</td>\n",
       "      <td>285</td>\n",
       "      <td>Following the spectacular literary attacks on...</td>\n",
       "      <td>0.000493</td>\n",
       "      <td>0.702571</td>\n",
       "      <td>-0.152887</td>\n",
       "      <td>-0.152887</td>\n",
       "    </tr>\n",
       "    <tr>\n",
       "      <th>302</th>\n",
       "      <td>302</td>\n",
       "      <td>A ce stade, les Américains eux-mêmes placent l...</td>\n",
       "      <td>&lt;/s&gt; At this stage, the Americans themselves a...</td>\n",
       "      <td>At that point, Americans will join the stamped...</td>\n",
       "      <td>302</td>\n",
       "      <td>At this stage, the Americans themselves are p...</td>\n",
       "      <td>0.162078</td>\n",
       "      <td>0.782827</td>\n",
       "      <td>-1.061218</td>\n",
       "      <td>-1.061218</td>\n",
       "    </tr>\n",
       "    <tr>\n",
       "      <th>328</th>\n",
       "      <td>328</td>\n",
       "      <td>Et il défend le programme nucléaire iranien.</td>\n",
       "      <td>&lt;/s&gt; It defends Iran’s nuclear programme.</td>\n",
       "      <td>And, of course, he backs Iran’s nuclear program.</td>\n",
       "      <td>328</td>\n",
       "      <td>It defends Iran’s nuclear programme.</td>\n",
       "      <td>0.414551</td>\n",
       "      <td>0.781500</td>\n",
       "      <td>-0.599771</td>\n",
       "      <td>-0.599771</td>\n",
       "    </tr>\n",
       "    <tr>\n",
       "      <th>345</th>\n",
       "      <td>345</td>\n",
       "      <td>Bien que ces déclarations ne s'apparentaient u...</td>\n",
       "      <td>&lt;/s&gt; Although these statements were once again...</td>\n",
       "      <td>Although this was still merely verbiage, it wa...</td>\n",
       "      <td>345</td>\n",
       "      <td>Although these statements were once again a m...</td>\n",
       "      <td>0.000041</td>\n",
       "      <td>0.309820</td>\n",
       "      <td>-0.273639</td>\n",
       "      <td>-0.273639</td>\n",
       "    </tr>\n",
       "    <tr>\n",
       "      <th>358</th>\n",
       "      <td>358</td>\n",
       "      <td>Par la déclaration de Doha, les USA se sont au...</td>\n",
       "      <td>&lt;/s&gt; The Doha Declaration also committed the U...</td>\n",
       "      <td>America also promised--in the Doha Declaration...</td>\n",
       "      <td>358</td>\n",
       "      <td>The Doha Declaration also committed the US al...</td>\n",
       "      <td>0.000042</td>\n",
       "      <td>0.736075</td>\n",
       "      <td>-0.377786</td>\n",
       "      <td>-0.377786</td>\n",
       "    </tr>\n",
       "    <tr>\n",
       "      <th>361</th>\n",
       "      <td>361</td>\n",
       "      <td>Quant à l’État-providence social-démocrate d’a...</td>\n",
       "      <td>&lt;/s&gt; The post-war Social Democratic Prosperity...</td>\n",
       "      <td>And the post-war social-democratic welfare sta...</td>\n",
       "      <td>361</td>\n",
       "      <td>The post-war Social Democratic Prosperity Sta...</td>\n",
       "      <td>0.000042</td>\n",
       "      <td>0.819448</td>\n",
       "      <td>-0.706719</td>\n",
       "      <td>-0.706719</td>\n",
       "    </tr>\n",
       "    <tr>\n",
       "      <th>364</th>\n",
       "      <td>364</td>\n",
       "      <td>Les stigmatiser pour en faire des parias risqu...</td>\n",
       "      <td>&lt;/s&gt; In fact, Russia has almost cooperated wit...</td>\n",
       "      <td>(China must learn to behave “responsibly,” McC...</td>\n",
       "      <td>364</td>\n",
       "      <td>In fact, Russia has almost cooperated with th...</td>\n",
       "      <td>0.000229</td>\n",
       "      <td>0.770664</td>\n",
       "      <td>-0.426952</td>\n",
       "      <td>-0.426952</td>\n",
       "    </tr>\n",
       "    <tr>\n",
       "      <th>376</th>\n",
       "      <td>376</td>\n",
       "      <td>Et l’on peut douter de notre altruisme véritab...</td>\n",
       "      <td>&lt;/s&gt; And there is doubt our true altruism or o...</td>\n",
       "      <td>And it is doubtful that we really care enough ...</td>\n",
       "      <td>376</td>\n",
       "      <td>And there is doubt our true altruism or our d...</td>\n",
       "      <td>0.369139</td>\n",
       "      <td>1.075431</td>\n",
       "      <td>-0.055515</td>\n",
       "      <td>-0.055515</td>\n",
       "    </tr>\n",
       "    <tr>\n",
       "      <th>400</th>\n",
       "      <td>400</td>\n",
       "      <td>Toute étude cherchant à déterminer si une mala...</td>\n",
       "      <td>&lt;/s&gt; Any study of whether a mental illness is ...</td>\n",
       "      <td>Any study seeking to determine whether a psych...</td>\n",
       "      <td>400</td>\n",
       "      <td>Any study of whether a mental illness is over...</td>\n",
       "      <td>0.167528</td>\n",
       "      <td>1.038462</td>\n",
       "      <td>-0.029775</td>\n",
       "      <td>-0.029775</td>\n",
       "    </tr>\n",
       "    <tr>\n",
       "      <th>409</th>\n",
       "      <td>409</td>\n",
       "      <td>Les Etats se débarrassent d'une grande partie ...</td>\n",
       "      <td>&lt;/s&gt; States are disposing of a large part of t...</td>\n",
       "      <td>As a result, sovereign risk is now becoming ba...</td>\n",
       "      <td>409</td>\n",
       "      <td>States are disposing of a large part of their...</td>\n",
       "      <td>0.280768</td>\n",
       "      <td>1.060849</td>\n",
       "      <td>-0.123719</td>\n",
       "      <td>-0.123719</td>\n",
       "    </tr>\n",
       "    <tr>\n",
       "      <th>411</th>\n",
       "      <td>411</td>\n",
       "      <td>La sagesse populaire dit qu'il ne faut pas ven...</td>\n",
       "      <td>&lt;/s&gt; Popular wisdom says you should not sell b...</td>\n",
       "      <td>As the old saying goes: Don't count your chick...</td>\n",
       "      <td>411</td>\n",
       "      <td>Popular wisdom says you should not sell bear ...</td>\n",
       "      <td>0.307826</td>\n",
       "      <td>0.979967</td>\n",
       "      <td>-0.284024</td>\n",
       "      <td>-0.284024</td>\n",
       "    </tr>\n",
       "    <tr>\n",
       "      <th>416</th>\n",
       "      <td>416</td>\n",
       "      <td>L'Amérique devient encore moins attractive et ...</td>\n",
       "      <td>&lt;/s&gt; America is getting even more.comfortable ...</td>\n",
       "      <td>As the dollar weakens, America looks even less...</td>\n",
       "      <td>416</td>\n",
       "      <td>America is getting even more.comfortable and ...</td>\n",
       "      <td>0.000041</td>\n",
       "      <td>0.914344</td>\n",
       "      <td>-0.970122</td>\n",
       "      <td>-0.970122</td>\n",
       "    </tr>\n",
       "    <tr>\n",
       "      <th>420</th>\n",
       "      <td>420</td>\n",
       "      <td>Après tout, l’or ne rapporte aucun intérêt et ...</td>\n",
       "      <td>&lt;/s&gt; After all, there is worth nothing and you...</td>\n",
       "      <td>After all, gold pays no interest and even cost...</td>\n",
       "      <td>420</td>\n",
       "      <td>After all, there is worth nothing and you eve...</td>\n",
       "      <td>0.000041</td>\n",
       "      <td>1.038147</td>\n",
       "      <td>-0.245024</td>\n",
       "      <td>-0.245024</td>\n",
       "    </tr>\n",
       "  </tbody>\n",
       "</table>\n",
       "</div>"
      ],
      "text/plain": [
       "     Unnamed: 0                                                src  \\\n",
       "0             0  Après tout, en tant que journaliste d'investig...   \n",
       "27           27  Toutefois, un président puissant n'entraînerai...   \n",
       "31           31  Pour se justifier, les partisans de cette appr...   \n",
       "35           35  Ainsi que l'a formulé Kosti Manibe, le ministr...   \n",
       "46           46  Une démarche fiscale prudente mise en place al...   \n",
       "49           49  Et que dira notre refus d’en prendre sur notre...   \n",
       "54           54  Tandis que l'Amérique débat de l'invasion de l...   \n",
       "70           70  A une extrémité du spectre, on le considère (d...   \n",
       "80           80  En supposant une entrée dans l'UE et les MTC I...   \n",
       "89           89  Autochtone dont les frères servent la même équ...   \n",
       "100         100  Pour un contrôle efficace, il est indispensabl...   \n",
       "116         116  Malgré le consensus désormais atteint sur le f...   \n",
       "123         123  Et la réaction des puissances nucléaires à la ...   \n",
       "142         142  Une enquête d'opinion menée de longue date à t...   \n",
       "151         151  Et, en tant qu’icône de droite, elle est parfa...   \n",
       "180         180  Quel meilleur moyen pour créer la société mult...   \n",
       "182         182  Ce dernier en choisirait un qui retournerait d...   \n",
       "202         202  Ce sont les USA et l'Europe qui s'avancent cha...   \n",
       "207         207  De même que l'Ukraine, elle rejoindra peut-êtr...   \n",
       "208         208  L’Allemagne et les Allemands sont méconnaissab...   \n",
       "225         225  Après tout, elle a légèrement hésité quelques ...   \n",
       "244         244  Continuer comme si de rien n’était constituera...   \n",
       "255         255  On a coutume de dire que “ plus la cause est j...   \n",
       "263         263  Un rachat de dette tient du cercle vicieux sin...   \n",
       "284         284  Les pays africains sont sans cesse, et souvent...   \n",
       "285         285  Suite aux cinglants assauts littéraires sur le...   \n",
       "302         302  A ce stade, les Américains eux-mêmes placent l...   \n",
       "328         328      Et il défend le programme nucléaire iranien.    \n",
       "345         345  Bien que ces déclarations ne s'apparentaient u...   \n",
       "358         358  Par la déclaration de Doha, les USA se sont au...   \n",
       "361         361  Quant à l’État-providence social-démocrate d’a...   \n",
       "364         364  Les stigmatiser pour en faire des parias risqu...   \n",
       "376         376  Et l’on peut douter de notre altruisme véritab...   \n",
       "400         400  Toute étude cherchant à déterminer si une mala...   \n",
       "409         409  Les Etats se débarrassent d'une grande partie ...   \n",
       "411         411  La sagesse populaire dit qu'il ne faut pas ven...   \n",
       "416         416  L'Amérique devient encore moins attractive et ...   \n",
       "420         420  Après tout, l’or ne rapporte aucun intérêt et ...   \n",
       "\n",
       "                                                   hyp  \\\n",
       "0    </s> After all, as a journalist investigative ...   \n",
       "27   </s> But a strong president would not necessar...   \n",
       "31   </s> To justify this, proponents of climate ch...   \n",
       "35   </s> As Kosti Manibe, Sudan's finance minister...   \n",
       "46   </s> A prudent fiscal policy approach, introdu...   \n",
       "49   </s> And what will our refusal to take moralit...   \n",
       "54   </s> As America debates the invasion of Iraq, ...   \n",
       "70   </s> On one end of the spectrum it is seen as ...   \n",
       "80   </s> Assuming EU and TCM II entry in 2004, the...   \n",
       "89   </s> Crowley was an Aboriginal man with brothe...   \n",
       "100  </s> Effective control requires that the contr...   \n",
       "116  </s> Despite the consensus now that it works t...   \n",
       "123  </s> And the reaction of the nuclear powers to...   \n",
       "142  </s> A long-standing survey of opinion survey ...   \n",
       "151  </s> Asi icon of the right, it is well that sh...   \n",
       "180  </s> What better way to create a multicultural...   \n",
       "182  </s> The President would choose one of them an...   \n",
       "202  </s> The US and Europe are making progress on ...   \n",
       "207  </s> Like Ukraine, Ukraine may eventually join...   \n",
       "208      </s> Germany and the Germans were unknowable.   \n",
       "225  </s> After all, a few years ago it had been sl...   \n",
       "244  </s> To continue as if nothing had happened wo...   \n",
       "255  </s> The more the cause is just, the more supp...   \n",
       "263  </s> A debt buyback is a vicious circle or a d...   \n",
       "284  </s> African countries are constantly, often i...   \n",
       "285  </s> Following the spectacular literary attack...   \n",
       "302  </s> At this stage, the Americans themselves a...   \n",
       "328          </s> It defends Iran’s nuclear programme.   \n",
       "345  </s> Although these statements were once again...   \n",
       "358  </s> The Doha Declaration also committed the U...   \n",
       "361  </s> The post-war Social Democratic Prosperity...   \n",
       "364  </s> In fact, Russia has almost cooperated wit...   \n",
       "376  </s> And there is doubt our true altruism or o...   \n",
       "400  </s> Any study of whether a mental illness is ...   \n",
       "409  </s> States are disposing of a large part of t...   \n",
       "411  </s> Popular wisdom says you should not sell b...   \n",
       "416  </s> America is getting even more.comfortable ...   \n",
       "420  </s> After all, there is worth nothing and you...   \n",
       "\n",
       "                                                   ref  ind  \\\n",
       "0    After all, as a campaigning investigative jour...    0   \n",
       "27   A powerful president, however, is not necessar...   27   \n",
       "31   Adherents of this view point first and foremos...   31   \n",
       "35   As Kosti Manibe Ngai, South Sudan’s finance mi...   35   \n",
       "46   A prudent fiscal stance, pursued while the eco...   46   \n",
       "49         And what does it say about us if we won’t?    49   \n",
       "54   As America debates whether or not to invade Ir...   54   \n",
       "70   At one end of its spectrum of meanings, conser...   70   \n",
       "80   Assuming entry into both the EU and ERM II in ...   80   \n",
       "89   A local man whose brothers all serve in the po...   89   \n",
       "100  A prerequisite of effective control of the med...  100   \n",
       "116  A consensus has now been reached on the need t...  116   \n",
       "123  And, of course, the reactions of the nuclear p...  123   \n",
       "142  A pan-European opinion survey, which has been ...  142   \n",
       "151  And, as an icon of the right, she is well awar...  151   \n",
       "180  A stronger European identity is the soundest b...  180   \n",
       "182  Alternatively, the General Assembly might prop...  182   \n",
       "202  And it is Europe and America that are marching...  202   \n",
       "207  As for Ukraine, it may one day become part of ...  207   \n",
       "208  As for Germany and the Germans, one hardly rec...  208   \n",
       "225  After all, it hesitated little a few years ago...  225   \n",
       "244  Any decision to continue as before would send ...  244   \n",
       "255  According to an old Chinese saying, “a just ca...  255   \n",
       "263  A debt buyback is something of a Catch 22: to ...  263   \n",
       "284  African countries search endlessly, and mostly...  284   \n",
       "285  After withering literary assaults on the Almig...  285   \n",
       "302  At that point, Americans will join the stamped...  302   \n",
       "328  And, of course, he backs Iran’s nuclear program.   328   \n",
       "345  Although this was still merely verbiage, it wa...  345   \n",
       "358  America also promised--in the Doha Declaration...  358   \n",
       "361  And the post-war social-democratic welfare sta...  361   \n",
       "364  (China must learn to behave “responsibly,” McC...  364   \n",
       "376  And it is doubtful that we really care enough ...  376   \n",
       "400  Any study seeking to determine whether a psych...  400   \n",
       "409  As a result, sovereign risk is now becoming ba...  409   \n",
       "411  As the old saying goes: Don't count your chick...  411   \n",
       "416  As the dollar weakens, America looks even less...  416   \n",
       "420  After all, gold pays no interest and even cost...  420   \n",
       "\n",
       "                                                  ahyp       cqe     cqeut  \\\n",
       "0     After all, as a journalist investigative jour...  0.000041  0.767481   \n",
       "27    But a strong president would not necessarily ...  0.696644  0.837980   \n",
       "31    To justify this, proponents of climate change...  0.000041  0.998692   \n",
       "35    As Kosti Manibe, Sudan's finance minister, pu...  0.297187  1.126941   \n",
       "46    A prudent fiscal policy approach, introduces ...  0.191098  1.097140   \n",
       "49    And what will our refusal to take morality say?.  0.000041  0.899202   \n",
       "54    As America debates the invasion of Iraq, conc...  0.126833  0.893762   \n",
       "70    On one end of the spectrum it is seen as an e...  0.000504  0.489469   \n",
       "80    Assuming EU and TCM II entry in 2004, the new...  0.120087  0.985925   \n",
       "89    Crowley was an Aboriginal man with brothers w...  0.000041  0.526540   \n",
       "100   Effective control requires that the controlle...  0.127462  0.654221   \n",
       "116   Despite the consensus now that it works to he...  0.000041  0.996466   \n",
       "123   And the reaction of the nuclear powers to the...  0.166951  0.911129   \n",
       "142   A long-standing survey of opinion survey link...  0.000760  0.696034   \n",
       "151   Asi icon of the right, it is well that she ca...  0.000042  0.795785   \n",
       "180   What better way to create a multicultural soc...  0.542335  0.945977   \n",
       "182   The President would choose one of them and re...  0.425976  0.763450   \n",
       "202   The US and Europe are making progress on each...  0.225702  0.669182   \n",
       "207   Like Ukraine, Ukraine may eventually join the...  0.108765  1.078847   \n",
       "208           Germany and the Germans were unknowable.  0.000136  0.783960   \n",
       "225   After all, a few years ago it had been slight...  0.203013  0.607900   \n",
       "244   To continue as if nothing had happened would ...  0.000041  0.393276   \n",
       "255   The more the cause is just, the more support ...  0.000042  0.888189   \n",
       "263   A debt buyback is a vicious circle or a dead ...  0.000041  1.181120   \n",
       "284   African countries are constantly, often in va...  0.000064  1.083256   \n",
       "285   Following the spectacular literary attacks on...  0.000493  0.702571   \n",
       "302   At this stage, the Americans themselves are p...  0.162078  0.782827   \n",
       "328               It defends Iran’s nuclear programme.  0.414551  0.781500   \n",
       "345   Although these statements were once again a m...  0.000041  0.309820   \n",
       "358   The Doha Declaration also committed the US al...  0.000042  0.736075   \n",
       "361   The post-war Social Democratic Prosperity Sta...  0.000042  0.819448   \n",
       "364   In fact, Russia has almost cooperated with th...  0.000229  0.770664   \n",
       "376   And there is doubt our true altruism or our d...  0.369139  1.075431   \n",
       "400   Any study of whether a mental illness is over...  0.167528  1.038462   \n",
       "409   States are disposing of a large part of their...  0.280768  1.060849   \n",
       "411   Popular wisdom says you should not sell bear ...  0.307826  0.979967   \n",
       "416   America is getting even more.comfortable and ...  0.000041  0.914344   \n",
       "420   After all, there is worth nothing and you eve...  0.000041  1.038147   \n",
       "\n",
       "      posthoc     comet  \n",
       "0   -0.182959 -0.182959  \n",
       "27  -0.197129 -0.197129  \n",
       "31  -0.254409 -0.254409  \n",
       "35  -0.132664 -0.132664  \n",
       "46  -0.178400 -0.178400  \n",
       "49  -0.394035 -0.394035  \n",
       "54  -0.017531 -0.017531  \n",
       "70  -0.348860 -0.348860  \n",
       "80  -0.241076 -0.241076  \n",
       "89  -0.145944 -0.145944  \n",
       "100 -0.039480 -0.039480  \n",
       "116 -0.020452 -0.020452  \n",
       "123 -0.065406 -0.065406  \n",
       "142 -0.037428 -0.037428  \n",
       "151 -0.242388 -0.242388  \n",
       "180 -0.358900 -0.358900  \n",
       "182 -0.154209 -0.154209  \n",
       "202 -0.240498 -0.240498  \n",
       "207 -0.266103 -0.266103  \n",
       "208 -1.080565 -1.080565  \n",
       "225 -0.055166 -0.055166  \n",
       "244 -0.041624 -0.041624  \n",
       "255 -1.294039 -1.294039  \n",
       "263 -0.366765 -0.366765  \n",
       "284 -0.396625 -0.396625  \n",
       "285 -0.152887 -0.152887  \n",
       "302 -1.061218 -1.061218  \n",
       "328 -0.599771 -0.599771  \n",
       "345 -0.273639 -0.273639  \n",
       "358 -0.377786 -0.377786  \n",
       "361 -0.706719 -0.706719  \n",
       "364 -0.426952 -0.426952  \n",
       "376 -0.055515 -0.055515  \n",
       "400 -0.029775 -0.029775  \n",
       "409 -0.123719 -0.123719  \n",
       "411 -0.284024 -0.284024  \n",
       "416 -0.970122 -0.970122  \n",
       "420 -0.245024 -0.245024  "
      ]
     },
     "execution_count": 27,
     "metadata": {},
     "output_type": "execute_result"
    }
   ],
   "source": [
    "waddpreds[waddpreds['comet']<0]"
   ]
  },
  {
   "cell_type": "code",
   "execution_count": 8,
   "id": "e3a5f9c5-6f33-4e74-86da-9c8d578254dd",
   "metadata": {},
   "outputs": [
    {
     "data": {
      "text/plain": [
       "0.6659205672549613"
      ]
     },
     "execution_count": 8,
     "metadata": {},
     "output_type": "execute_result"
    }
   ],
   "source": [
    "mean(waddpreds['comet'])"
   ]
  },
  {
   "cell_type": "code",
   "execution_count": 5,
   "id": "5f5fcd47-5f21-4697-9341-af58d0f2a9da",
   "metadata": {},
   "outputs": [],
   "source": [
    "#Slpreds.to_csv(\"torchsaved/lpreds1updated.csv\")"
   ]
  },
  {
   "cell_type": "code",
   "execution_count": 18,
   "id": "267d1b38-963f-4141-ab77-a07b5ccd06b1",
   "metadata": {},
   "outputs": [
    {
     "data": {
      "text/html": [
       "<div>\n",
       "<style scoped>\n",
       "    .dataframe tbody tr th:only-of-type {\n",
       "        vertical-align: middle;\n",
       "    }\n",
       "\n",
       "    .dataframe tbody tr th {\n",
       "        vertical-align: top;\n",
       "    }\n",
       "\n",
       "    .dataframe thead th {\n",
       "        text-align: right;\n",
       "    }\n",
       "</style>\n",
       "<table border=\"1\" class=\"dataframe\">\n",
       "  <thead>\n",
       "    <tr style=\"text-align: right;\">\n",
       "      <th></th>\n",
       "      <th>Unnamed: 0</th>\n",
       "      <th>src</th>\n",
       "      <th>hyp</th>\n",
       "      <th>ref</th>\n",
       "      <th>ind</th>\n",
       "      <th>ahyp</th>\n",
       "      <th>cqe</th>\n",
       "      <th>cqeut</th>\n",
       "      <th>posthoc</th>\n",
       "      <th>comet</th>\n",
       "    </tr>\n",
       "  </thead>\n",
       "  <tbody>\n",
       "    <tr>\n",
       "      <th>0</th>\n",
       "      <td>0</td>\n",
       "      <td>Après tout, en tant que journaliste d'investig...</td>\n",
       "      <td>&lt;s&gt; Après tout, en tant que journaliste d'inve...</td>\n",
       "      <td>After all, as a campaigning investigative jour...</td>\n",
       "      <td>0</td>\n",
       "      <td>After all, as a field investigative journalis...</td>\n",
       "      <td>0.000042</td>\n",
       "      <td>0.308231</td>\n",
       "      <td>-1.598737</td>\n",
       "      <td>-1.598737</td>\n",
       "    </tr>\n",
       "    <tr>\n",
       "      <th>1</th>\n",
       "      <td>1</td>\n",
       "      <td>Au fur et à mesure que l’Iran a cherché à éten...</td>\n",
       "      <td>&lt;s&gt; Au fur et à mesure que l’Iran a cherché à ...</td>\n",
       "      <td>As Iran seeks to assert its influence and inte...</td>\n",
       "      <td>1</td>\n",
       "      <td></td>\n",
       "      <td>0.000043</td>\n",
       "      <td>0.418360</td>\n",
       "      <td>-1.575180</td>\n",
       "      <td>-1.575180</td>\n",
       "    </tr>\n",
       "    <tr>\n",
       "      <th>2</th>\n",
       "      <td>2</td>\n",
       "      <td>Une autre variable réside dans la question de ...</td>\n",
       "      <td>&lt;s&gt; Une autre variable réside dans la question...</td>\n",
       "      <td>Another variable is how much easier monetary p...</td>\n",
       "      <td>2</td>\n",
       "      <td>Another variable is the extent to which monet...</td>\n",
       "      <td>0.540214</td>\n",
       "      <td>0.913978</td>\n",
       "      <td>0.723724</td>\n",
       "      <td>0.723724</td>\n",
       "    </tr>\n",
       "    <tr>\n",
       "      <th>3</th>\n",
       "      <td>3</td>\n",
       "      <td>Il nous faut négocier un nouvel accord de part...</td>\n",
       "      <td>&lt;s&gt; Il nous faut négocier un nouvel accord de ...</td>\n",
       "      <td>A new Partnership and Cooperation Agreement (P...</td>\n",
       "      <td>3</td>\n",
       "      <td>We</td>\n",
       "      <td>0.000042</td>\n",
       "      <td>0.412032</td>\n",
       "      <td>-1.872160</td>\n",
       "      <td>-1.872160</td>\n",
       "    </tr>\n",
       "    <tr>\n",
       "      <th>4</th>\n",
       "      <td>4</td>\n",
       "      <td>Et lorsqu’une région du monde conçoit une meil...</td>\n",
       "      <td>&lt;s&gt; Et lorsqu’une région du monde conçoit une ...</td>\n",
       "      <td>And as one region in one part of the world des...</td>\n",
       "      <td>4</td>\n",
       "      <td>And when a region</td>\n",
       "      <td>0.000042</td>\n",
       "      <td>0.368198</td>\n",
       "      <td>-1.888161</td>\n",
       "      <td>-1.888161</td>\n",
       "    </tr>\n",
       "    <tr>\n",
       "      <th>...</th>\n",
       "      <td>...</td>\n",
       "      <td>...</td>\n",
       "      <td>...</td>\n",
       "      <td>...</td>\n",
       "      <td>...</td>\n",
       "      <td>...</td>\n",
       "      <td>...</td>\n",
       "      <td>...</td>\n",
       "      <td>...</td>\n",
       "      <td>...</td>\n",
       "    </tr>\n",
       "    <tr>\n",
       "      <th>453</th>\n",
       "      <td>453</td>\n",
       "      <td>Au moment même de lire ces lignes, des personn...</td>\n",
       "      <td>&lt;s&gt; Au moment même de lire ces lignes, des per...</td>\n",
       "      <td>As you read this, perfectly ordinary people so...</td>\n",
       "      <td>453</td>\n",
       "      <td></td>\n",
       "      <td>0.000054</td>\n",
       "      <td>0.502047</td>\n",
       "      <td>-1.430372</td>\n",
       "      <td>-1.430372</td>\n",
       "    </tr>\n",
       "    <tr>\n",
       "      <th>454</th>\n",
       "      <td>454</td>\n",
       "      <td>C’est ainsi que les médias traditionnels se so...</td>\n",
       "      <td>&lt;s&gt; C’est ainsi que les médias traditionnels s...</td>\n",
       "      <td>As a result, mainstream media are being margin...</td>\n",
       "      <td>454</td>\n",
       "      <td>Thus, traditional media have gradually become...</td>\n",
       "      <td>0.317182</td>\n",
       "      <td>1.127003</td>\n",
       "      <td>0.752720</td>\n",
       "      <td>0.752720</td>\n",
       "    </tr>\n",
       "    <tr>\n",
       "      <th>455</th>\n",
       "      <td>455</td>\n",
       "      <td>Un troisième impératif est de construire un mo...</td>\n",
       "      <td>&lt;s&gt; Un troisième impératif est de construire u...</td>\n",
       "      <td>A third imperative is building a safer and mor...</td>\n",
       "      <td>455</td>\n",
       "      <td>A third imperative is to build a safer and mo...</td>\n",
       "      <td>0.663081</td>\n",
       "      <td>1.027931</td>\n",
       "      <td>0.813004</td>\n",
       "      <td>0.813004</td>\n",
       "    </tr>\n",
       "    <tr>\n",
       "      <th>456</th>\n",
       "      <td>456</td>\n",
       "      <td>Une approche « portefeuille » du changement cl...</td>\n",
       "      <td>&lt;s&gt; Une approche « portefeuille » du changemen...</td>\n",
       "      <td>A “Portfolio” Approach to Climate Change</td>\n",
       "      <td>456</td>\n",
       "      <td>A Portfolio Approach to Climate Change&lt;/s&gt;</td>\n",
       "      <td>0.177992</td>\n",
       "      <td>1.088847</td>\n",
       "      <td>0.701523</td>\n",
       "      <td>0.701523</td>\n",
       "    </tr>\n",
       "    <tr>\n",
       "      <th>457</th>\n",
       "      <td>457</td>\n",
       "      <td>Au plan intérieur également, une méfiance géné...</td>\n",
       "      <td>&lt;s&gt; Au plan intérieur également, une méfiance ...</td>\n",
       "      <td>At home, too, massive distrust will further co...</td>\n",
       "      <td>457</td>\n",
       "      <td>Internally, too, widespread mistrust will com...</td>\n",
       "      <td>0.242593</td>\n",
       "      <td>1.121280</td>\n",
       "      <td>0.817117</td>\n",
       "      <td>0.817117</td>\n",
       "    </tr>\n",
       "  </tbody>\n",
       "</table>\n",
       "<p>458 rows × 10 columns</p>\n",
       "</div>"
      ],
      "text/plain": [
       "     Unnamed: 0                                                src  \\\n",
       "0             0  Après tout, en tant que journaliste d'investig...   \n",
       "1             1  Au fur et à mesure que l’Iran a cherché à éten...   \n",
       "2             2  Une autre variable réside dans la question de ...   \n",
       "3             3  Il nous faut négocier un nouvel accord de part...   \n",
       "4             4  Et lorsqu’une région du monde conçoit une meil...   \n",
       "..          ...                                                ...   \n",
       "453         453  Au moment même de lire ces lignes, des personn...   \n",
       "454         454  C’est ainsi que les médias traditionnels se so...   \n",
       "455         455  Un troisième impératif est de construire un mo...   \n",
       "456         456  Une approche « portefeuille » du changement cl...   \n",
       "457         457  Au plan intérieur également, une méfiance géné...   \n",
       "\n",
       "                                                   hyp  \\\n",
       "0    <s> Après tout, en tant que journaliste d'inve...   \n",
       "1    <s> Au fur et à mesure que l’Iran a cherché à ...   \n",
       "2    <s> Une autre variable réside dans la question...   \n",
       "3    <s> Il nous faut négocier un nouvel accord de ...   \n",
       "4    <s> Et lorsqu’une région du monde conçoit une ...   \n",
       "..                                                 ...   \n",
       "453  <s> Au moment même de lire ces lignes, des per...   \n",
       "454  <s> C’est ainsi que les médias traditionnels s...   \n",
       "455  <s> Un troisième impératif est de construire u...   \n",
       "456  <s> Une approche « portefeuille » du changemen...   \n",
       "457  <s> Au plan intérieur également, une méfiance ...   \n",
       "\n",
       "                                                   ref  ind  \\\n",
       "0    After all, as a campaigning investigative jour...    0   \n",
       "1    As Iran seeks to assert its influence and inte...    1   \n",
       "2    Another variable is how much easier monetary p...    2   \n",
       "3    A new Partnership and Cooperation Agreement (P...    3   \n",
       "4    And as one region in one part of the world des...    4   \n",
       "..                                                 ...  ...   \n",
       "453  As you read this, perfectly ordinary people so...  453   \n",
       "454  As a result, mainstream media are being margin...  454   \n",
       "455  A third imperative is building a safer and mor...  455   \n",
       "456          A “Portfolio” Approach to Climate Change   456   \n",
       "457  At home, too, massive distrust will further co...  457   \n",
       "\n",
       "                                                  ahyp       cqe     cqeut  \\\n",
       "0     After all, as a field investigative journalis...  0.000042  0.308231   \n",
       "1                                                       0.000043  0.418360   \n",
       "2     Another variable is the extent to which monet...  0.540214  0.913978   \n",
       "3                                                   We  0.000042  0.412032   \n",
       "4                                    And when a region  0.000042  0.368198   \n",
       "..                                                 ...       ...       ...   \n",
       "453                                                     0.000054  0.502047   \n",
       "454   Thus, traditional media have gradually become...  0.317182  1.127003   \n",
       "455   A third imperative is to build a safer and mo...  0.663081  1.027931   \n",
       "456         A Portfolio Approach to Climate Change</s>  0.177992  1.088847   \n",
       "457   Internally, too, widespread mistrust will com...  0.242593  1.121280   \n",
       "\n",
       "      posthoc     comet  \n",
       "0   -1.598737 -1.598737  \n",
       "1   -1.575180 -1.575180  \n",
       "2    0.723724  0.723724  \n",
       "3   -1.872160 -1.872160  \n",
       "4   -1.888161 -1.888161  \n",
       "..        ...       ...  \n",
       "453 -1.430372 -1.430372  \n",
       "454  0.752720  0.752720  \n",
       "455  0.813004  0.813004  \n",
       "456  0.701523  0.701523  \n",
       "457  0.817117  0.817117  \n",
       "\n",
       "[458 rows x 10 columns]"
      ]
     },
     "execution_count": 18,
     "metadata": {},
     "output_type": "execute_result"
    }
   ],
   "source": [
    "waddpreds"
   ]
  },
  {
   "cell_type": "code",
   "execution_count": null,
   "id": "47b8aac6-5b21-4783-a083-65a857294ae9",
   "metadata": {},
   "outputs": [],
   "source": []
  },
  {
   "cell_type": "code",
   "execution_count": 15,
   "id": "edf55b94-88c5-45cc-a238-031f6ef44f39",
   "metadata": {},
   "outputs": [],
   "source": [
    "lpreds['comet'] = comsco"
   ]
  },
  {
   "cell_type": "code",
   "execution_count": 20,
   "id": "39e3f3de-39e6-4576-8235-260d74c7857d",
   "metadata": {},
   "outputs": [
    {
     "data": {
      "text/plain": [
       "0.2974159495221801"
      ]
     },
     "execution_count": 20,
     "metadata": {},
     "output_type": "execute_result"
    }
   ],
   "source": [
    "mean(waddpreds['comet'])"
   ]
  },
  {
   "cell_type": "code",
   "execution_count": 29,
   "id": "b7d1f91c-fa68-4413-b9b6-475ca26de757",
   "metadata": {},
   "outputs": [
    {
     "data": {
      "text/plain": [
       "0.7019382138699293"
      ]
     },
     "execution_count": 29,
     "metadata": {},
     "output_type": "execute_result"
    }
   ],
   "source": [
    "oversum = 0 \n",
    "overcnt = 0\n",
    "for w in waddpreds['comet']:\n",
    "    if w>0:\n",
    "        oversum+=w\n",
    "        overcnt+=1\n",
    "oversum/overcnt"
   ]
  },
  {
   "cell_type": "code",
   "execution_count": 30,
   "id": "39e145c9-5585-4dfe-b9e9-7e4ad7456b9d",
   "metadata": {},
   "outputs": [
    {
     "data": {
      "text/plain": [
       "375"
      ]
     },
     "execution_count": 30,
     "metadata": {},
     "output_type": "execute_result"
    }
   ],
   "source": [
    "overcnt"
   ]
  },
  {
   "cell_type": "code",
   "execution_count": 21,
   "id": "cfb3c672-6334-4716-8310-93ede01ee497",
   "metadata": {},
   "outputs": [
    {
     "data": {
      "text/plain": [
       "0     -1.762260\n",
       "1      0.793844\n",
       "2      0.462848\n",
       "3      0.641571\n",
       "4     -1.819548\n",
       "         ...   \n",
       "453    0.491833\n",
       "454    0.752053\n",
       "455    0.804547\n",
       "456    0.610206\n",
       "457    0.817129\n",
       "Name: comet, Length: 458, dtype: float64"
      ]
     },
     "execution_count": 21,
     "metadata": {},
     "output_type": "execute_result"
    }
   ],
   "source": [
    "waddpreds['comet']"
   ]
  },
  {
   "cell_type": "code",
   "execution_count": 48,
   "id": "2cf93b0d-e904-43eb-b9ce-093fd41b82f9",
   "metadata": {},
   "outputs": [
    {
     "ename": "NameError",
     "evalue": "name 'defpreds' is not defined",
     "output_type": "error",
     "traceback": [
      "\u001b[0;31m---------------------------------------------------------------------------\u001b[0m",
      "\u001b[0;31mNameError\u001b[0m                                 Traceback (most recent call last)",
      "Input \u001b[0;32mIn [48]\u001b[0m, in \u001b[0;36m<module>\u001b[0;34m\u001b[0m\n\u001b[0;32m----> 1\u001b[0m mean(\u001b[43mdefpreds\u001b[49m[\u001b[38;5;124m'\u001b[39m\u001b[38;5;124mcqeut\u001b[39m\u001b[38;5;124m'\u001b[39m][:\u001b[38;5;241m75\u001b[39m])\n",
      "\u001b[0;31mNameError\u001b[0m: name 'defpreds' is not defined"
     ]
    }
   ],
   "source": [
    "mean(defpreds['cqeut'][:75])"
   ]
  },
  {
   "cell_type": "code",
   "execution_count": 51,
   "id": "6bee34de-c094-4c8a-b2cc-634a61f3acbd",
   "metadata": {},
   "outputs": [
    {
     "data": {
      "text/plain": [
       "0.6847649658719699"
      ]
     },
     "execution_count": 51,
     "metadata": {},
     "output_type": "execute_result"
    }
   ],
   "source": [
    "mean(waddpreds['comet'][:75])"
   ]
  },
  {
   "cell_type": "code",
   "execution_count": 31,
   "id": "d578a2b9-dc07-4653-acac-d2b314795d46",
   "metadata": {},
   "outputs": [],
   "source": [
    "tpreds = waddpreds[waddpreds['ind']<75]\n",
    "tuns = tpreds['ind'].unique()"
   ]
  },
  {
   "cell_type": "code",
   "execution_count": 5,
   "id": "b327be7a-e540-455c-80c9-5b33c1c005f2",
   "metadata": {},
   "outputs": [],
   "source": [
    "# Get all the appropriate scores based on the data that we got\n",
    "def genmany(lang):\n",
    "    ahyps, arefs, asrcs = [], [], []\n",
    "    ind = 0\n",
    "    lens = []\n",
    "    while ind<76:\n",
    "        try:\n",
    "            g, lp, explode = init_data(lang, ind)\n",
    "            # get inputs to pass into stuff, last index is one selected by lattice\n",
    "            hyps = explode[1]+[lp['ahyp']]\n",
    "            refs = [explode[2]]*len(hyps)\n",
    "            srcs = [explode[3]]*len(hyps)\n",
    "            lens.append(len(hyps))\n",
    "            ahyps.extend(hyps)\n",
    "            arefs.extend(refs)\n",
    "            asrcs.extend(srcs)\n",
    "            ind+=1\n",
    "        except:\n",
    "            continue\n",
    "    if lang==\"fr-en\":\n",
    "        mname = \"./torchsaved/maskedcont4.pt\"\n",
    "    cqeut = get_scores_auto(ahyps, asrcs, arefs, \"cqeut\", mname)\n",
    "    with open('bigcqeut.pickle', 'wb') as handle:\n",
    "        pickle.dump(cqeut, handle)\n",
    "    cqe = get_scores_auto(ahyps, asrcs, arefs, \"cqe\", \"\")\n",
    "    with open('bigcqe.pickle', 'wb') as handle:\n",
    "        pickle.dump(cqe, handle)\n",
    "    posthoc = get_scores_auto(ahyps, asrcs, arefs, \"posthoc\", lang)\n",
    "    with open('bigposthoc.pickle', 'wb') as handle:\n",
    "        pickle.dump(posthoc, handle)\n",
    "    comet = get_scores_auto(ahyps, asrcs, arefs, \"comet\", \"\")\n",
    "    with open('bigcomet.pickle', 'wb') as handle:\n",
    "        pickle.dump(comet, handle)\n",
    "    return ahyps, cqe, posthoc, comet, cqeut, lens\n",
    "\n",
    "# get a specific ind from all the generated stuff\n",
    "def extract_bg_ind(bgres, ind, asdict=True):\n",
    "    ahyps, cqe, posthoc, comet, cqeut, lens = bigres\n",
    "    sind = sum(lens[:ind])\n",
    "    end = sind+lens[ind]\n",
    "    # TODO watch out this is kind of hardcoded\n",
    "    lp = lpredsall.loc[ind]\n",
    "    # consolidate as a dict\n",
    "    if asdict:\n",
    "        res = {\n",
    "            \"hyps\": ahyps[sind:end],\n",
    "            \"cqe\": cqe[sind:end],\n",
    "            \"posthoc\": posthoc[sind:end],\n",
    "            \"comet\": comet[sind:end],\n",
    "            \"cqeut\": cqeut[sind:end],\n",
    "            \"src\": lp[\"src\"],\n",
    "            \"ref\": lp[\"ref\"]\n",
    "        }\n",
    "        return res\n",
    "    return ahyps[sind:end], cqe[sind:end], posthoc[sind:end], comet[sind:end], cqeut[sind:end]\n",
    "\n",
    "# Compare what's selected by the algorithm vs what exploded paths have\n",
    "# TODO add in params\n",
    "# we can visualize where lattice is vs distrib of actual stuff, should run \n",
    "# whole pipeline for an entire lattice / generate stuff\n",
    "def compare_latselect(bgres, ind, terms, old=False):\n",
    "    lat = extract_bg_ind(bgres, ind)\n",
    "    res = {}\n",
    "    for t in terms:\n",
    "        res[t+\"mean\"] = sum(lat[t])/len(lat[t])\n",
    "        res[t+\"select\"] = lat[t][-1]\n",
    "        res[t+\"max\"] = max(lat[t])\n",
    "        res[t+\"random\"] = rand.choice(lat[t])\n",
    "    return res\n",
    "\n",
    "def rercompare(bgres, ind, terms):\n",
    "    lat = extract_bg_ind(bgres, ind)\n",
    "    res = {}\n",
    "    for t in terms:\n",
    "        ind = lat[t].index(max(lat[t]))\n",
    "        if t=='posthoc':\n",
    "            ind = lat[t].index(min(lat[t]))\n",
    "        res[t+\"rerank\"] = lat[\"comet\"][ind]\n",
    "        res[t+\"cand\"] = lat[\"hyps\"][ind]\n",
    "    res[\"effcand\"] = lat[\"hyps\"][-1]\n",
    "    return res\n",
    "\n",
    "def getrer_scatter(bgres, terms, xterm, yterm, lfilter=None, useinds = False):\n",
    "    allens = len(bgres[-1])\n",
    "    xres = []\n",
    "    yres = []\n",
    "    rang = range(0, allens)\n",
    "    if useinds:\n",
    "        rang = tuns\n",
    "    for a in rang:\n",
    "        if lfilter:\n",
    "            # function to ignore lengths that meet certain conditions\n",
    "            if lfilter(bgres[-1][a]):\n",
    "                continue\n",
    "        lstats = rercompare(bgres, a, terms)\n",
    "        xres.append(lstats[xterm])\n",
    "        yres.append(lstats[yterm])\n",
    "    return xres, yres\n",
    "\n",
    "def getcomp_scatter(bgres, terms, xterm, yterm, lfilter=None, useinds = False):\n",
    "    allens = len(bgres[-1])\n",
    "    xres = []\n",
    "    yres = []\n",
    "    rang = range(0, allens)\n",
    "    if useinds:\n",
    "        rang = tuns\n",
    "    for a in rang:\n",
    "        if lfilter:\n",
    "            # function to ignore lengths that meet certain conditions\n",
    "            if lfilter(bgres[-1][a]):\n",
    "                continue\n",
    "        lstats = compare_latselect(bgres, a, terms)\n",
    "        xres.append(lstats[xterm])\n",
    "        yres.append(lstats[yterm])\n",
    "    return xres, yres\n",
    "\n",
    "# TODO try above pipeline on like 50 lattices, get the data / vis for each of those\n",
    "# Answer questions or expand analysis\n",
    "lpredsall = pd.read_csv(\"torchsaved/frenchlatpreds\")"
   ]
  },
  {
   "cell_type": "code",
   "execution_count": 6,
   "id": "cc067d4e-745c-4749-a32a-03462fcd2249",
   "metadata": {},
   "outputs": [
    {
     "ename": "NameError",
     "evalue": "name 'bigres' is not defined",
     "output_type": "error",
     "traceback": [
      "\u001b[0;31m---------------------------------------------------------------------------\u001b[0m",
      "\u001b[0;31mNameError\u001b[0m                                 Traceback (most recent call last)",
      "Input \u001b[0;32mIn [6]\u001b[0m, in \u001b[0;36m<module>\u001b[0;34m\u001b[0m\n\u001b[0;32m----> 1\u001b[0m utbest, qebest \u001b[38;5;241m=\u001b[39m getrer_scatter(\u001b[43mbigres\u001b[49m, [\u001b[38;5;124m\"\u001b[39m\u001b[38;5;124mcqeut\u001b[39m\u001b[38;5;124m\"\u001b[39m, \u001b[38;5;124m\"\u001b[39m\u001b[38;5;124mcqe\u001b[39m\u001b[38;5;124m\"\u001b[39m], \u001b[38;5;124m\"\u001b[39m\u001b[38;5;124mcqeutrerank\u001b[39m\u001b[38;5;124m\"\u001b[39m, \u001b[38;5;124m\"\u001b[39m\u001b[38;5;124mcqererank\u001b[39m\u001b[38;5;124m\"\u001b[39m)\n\u001b[1;32m      2\u001b[0m utbest, bbest \u001b[38;5;241m=\u001b[39m getrer_scatter(bigres, [\u001b[38;5;124m\"\u001b[39m\u001b[38;5;124mcqeut\u001b[39m\u001b[38;5;124m\"\u001b[39m, \u001b[38;5;124m\"\u001b[39m\u001b[38;5;124mcqe\u001b[39m\u001b[38;5;124m\"\u001b[39m, \u001b[38;5;124m\"\u001b[39m\u001b[38;5;124mcomet\u001b[39m\u001b[38;5;124m\"\u001b[39m], \u001b[38;5;124m\"\u001b[39m\u001b[38;5;124mcqeutrerank\u001b[39m\u001b[38;5;124m\"\u001b[39m, \u001b[38;5;124m\"\u001b[39m\u001b[38;5;124mcometrerank\u001b[39m\u001b[38;5;124m\"\u001b[39m)\n",
      "\u001b[0;31mNameError\u001b[0m: name 'bigres' is not defined"
     ]
    }
   ],
   "source": [
    "utbest, qebest = getrer_scatter(bigres, [\"cqeut\", \"cqe\"], \"cqeutrerank\", \"cqererank\")\n",
    "utbest, bbest = getrer_scatter(bigres, [\"cqeut\", \"cqe\", \"comet\"], \"cqeutrerank\", \"cometrerank\")"
   ]
  },
  {
   "cell_type": "code",
   "execution_count": 24,
   "id": "71391b1c-345b-4768-9edf-cf0901d46940",
   "metadata": {},
   "outputs": [],
   "source": [
    "utcands, effcands = getrer_scatter(bigres, [\"cqeut\", \"cqe\"], \"cqeutcand\", \"effcand\")"
   ]
  },
  {
   "cell_type": "code",
   "execution_count": 7,
   "id": "4293e37f-ad58-4d18-9153-a852839eadfa",
   "metadata": {},
   "outputs": [],
   "source": [
    "def mean(l):\n",
    "    return sum(l)/len(l)"
   ]
  },
  {
   "cell_type": "code",
   "execution_count": 25,
   "id": "c5af4ab0-304a-40a0-b43e-a1dbaea79c0c",
   "metadata": {},
   "outputs": [
    {
     "data": {
      "text/plain": [
       "0.6797885943302199"
      ]
     },
     "execution_count": 25,
     "metadata": {},
     "output_type": "execute_result"
    }
   ],
   "source": [
    "mean(qebest)"
   ]
  },
  {
   "cell_type": "code",
   "execution_count": 6,
   "id": "207fde64-105d-4874-bace-f83f7b3bba0c",
   "metadata": {},
   "outputs": [
    {
     "ename": "NameError",
     "evalue": "name 'utcands' is not defined",
     "output_type": "error",
     "traceback": [
      "\u001b[0;31m---------------------------------------------------------------------------\u001b[0m",
      "\u001b[0;31mNameError\u001b[0m                                 Traceback (most recent call last)",
      "Input \u001b[0;32mIn [6]\u001b[0m, in \u001b[0;36m<module>\u001b[0;34m\u001b[0m\n\u001b[1;32m      2\u001b[0m     \u001b[38;5;28mprint\u001b[39m(utc[ind])\n\u001b[1;32m      3\u001b[0m     \u001b[38;5;28mprint\u001b[39m(effc[ind])\n\u001b[0;32m----> 5\u001b[0m printdiff(\u001b[38;5;241m2\u001b[39m, \u001b[43mutcands\u001b[49m, effcands)\n",
      "\u001b[0;31mNameError\u001b[0m: name 'utcands' is not defined"
     ]
    }
   ],
   "source": [
    "def printdiff(ind, utc, effc):\n",
    "    print(utc[ind])\n",
    "    print(effc[ind])\n",
    "\n",
    "printdiff(2, utcands, effcands)"
   ]
  },
  {
   "cell_type": "code",
   "execution_count": 7,
   "id": "b5d82572-a380-4bc0-b577-41500d19fc6b",
   "metadata": {},
   "outputs": [],
   "source": [
    "# leaves only if len less than 1000\n",
    "def under1000(lenval):\n",
    "    #print(lenval)\n",
    "    return lenval>1000\n",
    "\n",
    "# leaves only if len ge than 1000\n",
    "def over1000(lenval):\n",
    "    return lenval<=1000"
   ]
  },
  {
   "cell_type": "code",
   "execution_count": 8,
   "id": "f2b1aea4-4222-409f-a6a3-999920856b29",
   "metadata": {},
   "outputs": [
    {
     "ename": "NameError",
     "evalue": "name 'bigres' is not defined",
     "output_type": "error",
     "traceback": [
      "\u001b[0;31m---------------------------------------------------------------------------\u001b[0m",
      "\u001b[0;31mNameError\u001b[0m                                 Traceback (most recent call last)",
      "Input \u001b[0;32mIn [8]\u001b[0m, in \u001b[0;36m<module>\u001b[0;34m\u001b[0m\n\u001b[1;32m      1\u001b[0m filt \u001b[38;5;241m=\u001b[39m \u001b[38;5;28;01mNone\u001b[39;00m\n\u001b[0;32m----> 2\u001b[0m means, selected \u001b[38;5;241m=\u001b[39m getcomp_scatter(\u001b[43mbigres\u001b[49m, [\u001b[38;5;124m\"\u001b[39m\u001b[38;5;124mcqeut\u001b[39m\u001b[38;5;124m\"\u001b[39m], \u001b[38;5;124m\"\u001b[39m\u001b[38;5;124mcqeutmean\u001b[39m\u001b[38;5;124m\"\u001b[39m, \u001b[38;5;124m\"\u001b[39m\u001b[38;5;124mcqeutselect\u001b[39m\u001b[38;5;124m\"\u001b[39m, filt, \u001b[38;5;28;01mTrue\u001b[39;00m)\n\u001b[1;32m      3\u001b[0m means, randlist \u001b[38;5;241m=\u001b[39m getcomp_scatter(bigres, [\u001b[38;5;124m\"\u001b[39m\u001b[38;5;124mcqeut\u001b[39m\u001b[38;5;124m\"\u001b[39m], \u001b[38;5;124m\"\u001b[39m\u001b[38;5;124mcqeutmean\u001b[39m\u001b[38;5;124m\"\u001b[39m, \u001b[38;5;124m\"\u001b[39m\u001b[38;5;124mcqeutrandom\u001b[39m\u001b[38;5;124m\"\u001b[39m, filt, \u001b[38;5;28;01mTrue\u001b[39;00m)\n\u001b[1;32m      4\u001b[0m means, maxes \u001b[38;5;241m=\u001b[39m getcomp_scatter(bigres, [\u001b[38;5;124m\"\u001b[39m\u001b[38;5;124mcqeut\u001b[39m\u001b[38;5;124m\"\u001b[39m], \u001b[38;5;124m\"\u001b[39m\u001b[38;5;124mcqeutmean\u001b[39m\u001b[38;5;124m\"\u001b[39m, \u001b[38;5;124m\"\u001b[39m\u001b[38;5;124mcqeutmax\u001b[39m\u001b[38;5;124m\"\u001b[39m, filt, \u001b[38;5;28;01mTrue\u001b[39;00m)\n",
      "\u001b[0;31mNameError\u001b[0m: name 'bigres' is not defined"
     ]
    }
   ],
   "source": [
    "filt = None\n",
    "means, selected = getcomp_scatter(bigres, [\"cqeut\"], \"cqeutmean\", \"cqeutselect\", filt, True)\n",
    "means, randlist = getcomp_scatter(bigres, [\"cqeut\"], \"cqeutmean\", \"cqeutrandom\", filt, True)\n",
    "means, maxes = getcomp_scatter(bigres, [\"cqeut\"], \"cqeutmean\", \"cqeutmax\", filt, True)\n",
    "diffs = [maxes[i]-tpreds.iloc[i]['cqeut'] for i in range(len(maxes))]\n",
    "rdiffs = [maxes[i]-randlist[i] for i in range(len(maxes))]"
   ]
  },
  {
   "cell_type": "code",
   "execution_count": 38,
   "id": "ea33d760-64aa-4579-9d18-ca9a937e8c20",
   "metadata": {},
   "outputs": [
    {
     "data": {
      "text/plain": [
       "1.0202623808925801"
      ]
     },
     "execution_count": 40,
     "metadata": {},
     "output_type": "execute_result"
    }
   ],
   "source": [
    "mean(maxes)"
   ]
  },
  {
   "cell_type": "code",
   "execution_count": 43,
   "id": "b7a47692-c975-4a33-ba5f-f16b12e88648",
   "metadata": {},
   "outputs": [
    {
     "data": {
      "text/html": [
       "<div>\n",
       "<style scoped>\n",
       "    .dataframe tbody tr th:only-of-type {\n",
       "        vertical-align: middle;\n",
       "    }\n",
       "\n",
       "    .dataframe tbody tr th {\n",
       "        vertical-align: top;\n",
       "    }\n",
       "\n",
       "    .dataframe thead th {\n",
       "        text-align: right;\n",
       "    }\n",
       "</style>\n",
       "<table border=\"1\" class=\"dataframe\">\n",
       "  <thead>\n",
       "    <tr style=\"text-align: right;\">\n",
       "      <th></th>\n",
       "      <th>Unnamed: 0</th>\n",
       "      <th>src</th>\n",
       "      <th>hyp</th>\n",
       "      <th>ref</th>\n",
       "      <th>ind</th>\n",
       "      <th>ahyp</th>\n",
       "      <th>cqe</th>\n",
       "      <th>cqeut</th>\n",
       "      <th>posthoc</th>\n",
       "      <th>comet</th>\n",
       "    </tr>\n",
       "  </thead>\n",
       "  <tbody>\n",
       "    <tr>\n",
       "      <th>0</th>\n",
       "      <td>0</td>\n",
       "      <td>Après tout, en tant que journaliste d'investig...</td>\n",
       "      <td>&lt;/s&gt; After all, as a field investigative journ...</td>\n",
       "      <td>After all, as a campaigning investigative jour...</td>\n",
       "      <td>0</td>\n",
       "      <td>After all, as a field investigative journalis...</td>\n",
       "      <td>0.002331</td>\n",
       "      <td>0.343722</td>\n",
       "      <td>0.349243</td>\n",
       "      <td>0.349243</td>\n",
       "    </tr>\n",
       "    <tr>\n",
       "      <th>3</th>\n",
       "      <td>3</td>\n",
       "      <td>Il nous faut négocier un nouvel accord de part...</td>\n",
       "      <td>&lt;/s&gt; We need to negotiate a new Partnership an...</td>\n",
       "      <td>A new Partnership and Cooperation Agreement (P...</td>\n",
       "      <td>3</td>\n",
       "      <td>We need to negotiate a new Partnership and Co...</td>\n",
       "      <td>0.567276</td>\n",
       "      <td>0.600899</td>\n",
       "      <td>0.641358</td>\n",
       "      <td>0.641358</td>\n",
       "    </tr>\n",
       "    <tr>\n",
       "      <th>4</th>\n",
       "      <td>4</td>\n",
       "      <td>Et lorsqu’une région du monde conçoit une meil...</td>\n",
       "      <td>&lt;/s&gt; And when a region of the world is devisin...</td>\n",
       "      <td>And as one region in one part of the world des...</td>\n",
       "      <td>4</td>\n",
       "      <td>And when a region of the world is devising a ...</td>\n",
       "      <td>0.547092</td>\n",
       "      <td>0.882390</td>\n",
       "      <td>0.781565</td>\n",
       "      <td>0.781565</td>\n",
       "    </tr>\n",
       "    <tr>\n",
       "      <th>5</th>\n",
       "      <td>5</td>\n",
       "      <td>Il y a de bonnes raisons de craindre que ces d...</td>\n",
       "      <td>&lt;/s&gt; There are good reasons to fear that these...</td>\n",
       "      <td>And there is good reason to fear that these wi...</td>\n",
       "      <td>5</td>\n",
       "      <td>There are good reasons to fear that these gro...</td>\n",
       "      <td>0.535429</td>\n",
       "      <td>1.134527</td>\n",
       "      <td>0.752431</td>\n",
       "      <td>0.752431</td>\n",
       "    </tr>\n",
       "    <tr>\n",
       "      <th>6</th>\n",
       "      <td>6</td>\n",
       "      <td>Et en Irak, les sunnites se sentent assiégés p...</td>\n",
       "      <td>&lt;/s&gt; And in Iraq, Sunnis now feel under siege ...</td>\n",
       "      <td>And in Iraq, Sunni Muslims feel under siege fr...</td>\n",
       "      <td>6</td>\n",
       "      <td>And in Iraq, Sunnis now feel under siege by t...</td>\n",
       "      <td>0.641120</td>\n",
       "      <td>0.849577</td>\n",
       "      <td>0.709956</td>\n",
       "      <td>0.709956</td>\n",
       "    </tr>\n",
       "    <tr>\n",
       "      <th>...</th>\n",
       "      <td>...</td>\n",
       "      <td>...</td>\n",
       "      <td>...</td>\n",
       "      <td>...</td>\n",
       "      <td>...</td>\n",
       "      <td>...</td>\n",
       "      <td>...</td>\n",
       "      <td>...</td>\n",
       "      <td>...</td>\n",
       "      <td>...</td>\n",
       "    </tr>\n",
       "    <tr>\n",
       "      <th>69</th>\n",
       "      <td>69</td>\n",
       "      <td>Il se trouve que les plaintes ont dûment été a...</td>\n",
       "      <td>&lt;/s&gt; It turns out that the complaints were dul...</td>\n",
       "      <td>As it happens, the charges were duly dropped, ...</td>\n",
       "      <td>69</td>\n",
       "      <td>It turns out that the complaints were duly dr...</td>\n",
       "      <td>0.290808</td>\n",
       "      <td>0.430844</td>\n",
       "      <td>0.736537</td>\n",
       "      <td>0.736537</td>\n",
       "    </tr>\n",
       "    <tr>\n",
       "      <th>70</th>\n",
       "      <td>70</td>\n",
       "      <td>A une extrémité du spectre, on le considère (d...</td>\n",
       "      <td>&lt;/s&gt; At one end of the spectrum it is seen (fo...</td>\n",
       "      <td>At one end of its spectrum of meanings, conser...</td>\n",
       "      <td>70</td>\n",
       "      <td>At one end of the spectrum it is seen (for so...</td>\n",
       "      <td>0.000050</td>\n",
       "      <td>0.346155</td>\n",
       "      <td>-0.269179</td>\n",
       "      <td>-0.269179</td>\n",
       "    </tr>\n",
       "    <tr>\n",
       "      <th>71</th>\n",
       "      <td>71</td>\n",
       "      <td>Et, parce que les Républicains au Congrès ont ...</td>\n",
       "      <td>&lt;/s&gt; And, because Republicans in Congress are ...</td>\n",
       "      <td>And, because the Republicans in Congress have ...</td>\n",
       "      <td>71</td>\n",
       "      <td>And, because Republicans in Congress are equa...</td>\n",
       "      <td>0.293616</td>\n",
       "      <td>0.687225</td>\n",
       "      <td>0.765934</td>\n",
       "      <td>0.765934</td>\n",
       "    </tr>\n",
       "    <tr>\n",
       "      <th>72</th>\n",
       "      <td>72</td>\n",
       "      <td>Ainsi le risque systémique a proliféré au-delà...</td>\n",
       "      <td>&lt;/s&gt; So systemic risk has proliferated beyond ...</td>\n",
       "      <td>As a result, systemic risk proliferated beyond...</td>\n",
       "      <td>72</td>\n",
       "      <td>So systemic risk has proliferated beyond the ...</td>\n",
       "      <td>0.188689</td>\n",
       "      <td>1.097037</td>\n",
       "      <td>0.701336</td>\n",
       "      <td>0.701336</td>\n",
       "    </tr>\n",
       "    <tr>\n",
       "      <th>74</th>\n",
       "      <td>74</td>\n",
       "      <td>Après son arrivée au pouvoir, les leaders de l...</td>\n",
       "      <td>&lt;/s&gt; After he came to power, the AKP leaders, ...</td>\n",
       "      <td>After coming to power, the AKP's leaders, form...</td>\n",
       "      <td>74</td>\n",
       "      <td>After he came to power, the AKP leaders, form...</td>\n",
       "      <td>0.656424</td>\n",
       "      <td>0.184028</td>\n",
       "      <td>0.764183</td>\n",
       "      <td>0.764183</td>\n",
       "    </tr>\n",
       "  </tbody>\n",
       "</table>\n",
       "<p>66 rows × 10 columns</p>\n",
       "</div>"
      ],
      "text/plain": [
       "    Unnamed: 0                                                src  \\\n",
       "0            0  Après tout, en tant que journaliste d'investig...   \n",
       "3            3  Il nous faut négocier un nouvel accord de part...   \n",
       "4            4  Et lorsqu’une région du monde conçoit une meil...   \n",
       "5            5  Il y a de bonnes raisons de craindre que ces d...   \n",
       "6            6  Et en Irak, les sunnites se sentent assiégés p...   \n",
       "..         ...                                                ...   \n",
       "69          69  Il se trouve que les plaintes ont dûment été a...   \n",
       "70          70  A une extrémité du spectre, on le considère (d...   \n",
       "71          71  Et, parce que les Républicains au Congrès ont ...   \n",
       "72          72  Ainsi le risque systémique a proliféré au-delà...   \n",
       "74          74  Après son arrivée au pouvoir, les leaders de l...   \n",
       "\n",
       "                                                  hyp  \\\n",
       "0   </s> After all, as a field investigative journ...   \n",
       "3   </s> We need to negotiate a new Partnership an...   \n",
       "4   </s> And when a region of the world is devisin...   \n",
       "5   </s> There are good reasons to fear that these...   \n",
       "6   </s> And in Iraq, Sunnis now feel under siege ...   \n",
       "..                                                ...   \n",
       "69  </s> It turns out that the complaints were dul...   \n",
       "70  </s> At one end of the spectrum it is seen (fo...   \n",
       "71  </s> And, because Republicans in Congress are ...   \n",
       "72  </s> So systemic risk has proliferated beyond ...   \n",
       "74  </s> After he came to power, the AKP leaders, ...   \n",
       "\n",
       "                                                  ref  ind  \\\n",
       "0   After all, as a campaigning investigative jour...    0   \n",
       "3   A new Partnership and Cooperation Agreement (P...    3   \n",
       "4   And as one region in one part of the world des...    4   \n",
       "5   And there is good reason to fear that these wi...    5   \n",
       "6   And in Iraq, Sunni Muslims feel under siege fr...    6   \n",
       "..                                                ...  ...   \n",
       "69  As it happens, the charges were duly dropped, ...   69   \n",
       "70  At one end of its spectrum of meanings, conser...   70   \n",
       "71  And, because the Republicans in Congress have ...   71   \n",
       "72  As a result, systemic risk proliferated beyond...   72   \n",
       "74  After coming to power, the AKP's leaders, form...   74   \n",
       "\n",
       "                                                 ahyp       cqe     cqeut  \\\n",
       "0    After all, as a field investigative journalis...  0.002331  0.343722   \n",
       "3    We need to negotiate a new Partnership and Co...  0.567276  0.600899   \n",
       "4    And when a region of the world is devising a ...  0.547092  0.882390   \n",
       "5    There are good reasons to fear that these gro...  0.535429  1.134527   \n",
       "6    And in Iraq, Sunnis now feel under siege by t...  0.641120  0.849577   \n",
       "..                                                ...       ...       ...   \n",
       "69   It turns out that the complaints were duly dr...  0.290808  0.430844   \n",
       "70   At one end of the spectrum it is seen (for so...  0.000050  0.346155   \n",
       "71   And, because Republicans in Congress are equa...  0.293616  0.687225   \n",
       "72   So systemic risk has proliferated beyond the ...  0.188689  1.097037   \n",
       "74   After he came to power, the AKP leaders, form...  0.656424  0.184028   \n",
       "\n",
       "     posthoc     comet  \n",
       "0   0.349243  0.349243  \n",
       "3   0.641358  0.641358  \n",
       "4   0.781565  0.781565  \n",
       "5   0.752431  0.752431  \n",
       "6   0.709956  0.709956  \n",
       "..       ...       ...  \n",
       "69  0.736537  0.736537  \n",
       "70 -0.269179 -0.269179  \n",
       "71  0.765934  0.765934  \n",
       "72  0.701336  0.701336  \n",
       "74  0.764183  0.764183  \n",
       "\n",
       "[66 rows x 10 columns]"
      ]
     },
     "execution_count": 43,
     "metadata": {},
     "output_type": "execute_result"
    }
   ],
   "source": [
    "tpreds"
   ]
  },
  {
   "cell_type": "markdown",
   "id": "4ce8a045-3918-4e86-8c09-2c7de3e99166",
   "metadata": {},
   "source": [
    "means"
   ]
  },
  {
   "cell_type": "code",
   "execution_count": 45,
   "id": "ef0ed368-2668-4596-b23c-a6cca0edae42",
   "metadata": {},
   "outputs": [
    {
     "name": "stdout",
     "output_type": "stream",
     "text": [
      "0.17575053417164346\n",
      "0.09908064767934274\n"
     ]
    }
   ],
   "source": [
    "print(sum(rdiffs)/len(rdiffs))\n",
    "print(sum(diffs)/len(diffs))"
   ]
  },
  {
   "cell_type": "code",
   "execution_count": 48,
   "id": "ebdfe4fb-fcfc-44b0-9867-3ab4fca6b65f",
   "metadata": {},
   "outputs": [
    {
     "data": {
      "text/plain": [
       "1.0407548456088356"
      ]
     },
     "execution_count": 48,
     "metadata": {},
     "output_type": "execute_result"
    }
   ],
   "source": [
    "sum(maxes)/len(maxes)"
   ]
  },
  {
   "cell_type": "code",
   "execution_count": 51,
   "id": "0bb6b14c-ea70-4712-8ac1-5822b98ced20",
   "metadata": {},
   "outputs": [
    {
     "data": {
      "text/plain": [
       "0.9416741979294929"
      ]
     },
     "execution_count": 51,
     "metadata": {},
     "output_type": "execute_result"
    }
   ],
   "source": [
    "sum(tpreds['cqeut'])/len(tpreds['cqeut'])"
   ]
  },
  {
   "cell_type": "code",
   "execution_count": 52,
   "id": "4fdac132-8fb7-4c2d-bdd7-dce5fad93134",
   "metadata": {},
   "outputs": [
    {
     "data": {
      "text/plain": [
       "0.8650043114371921"
      ]
     },
     "execution_count": 52,
     "metadata": {},
     "output_type": "execute_result"
    }
   ],
   "source": [
    "sum(randlist)/len(randlist)"
   ]
  },
  {
   "cell_type": "code",
   "execution_count": 53,
   "id": "b4b5166a-0ac0-4f17-94c7-a6817e9bd6b0",
   "metadata": {},
   "outputs": [
    {
     "data": {
      "text/plain": [
       "<matplotlib.collections.PathCollection at 0x7fd375da6e50>"
      ]
     },
     "execution_count": 53,
     "metadata": {},
     "output_type": "execute_result"
    },
    {
     "data": {
      "image/png": "[encoded data removed]",
      "text/plain": [
       "<Figure size 432x288 with 1 Axes>"
      ]
     },
     "metadata": {
      "needs_background": "light"
     },
     "output_type": "display_data"
    }
   ],
   "source": [
    "fig, ax = plt.subplots()\n",
    "ax.axline((0, 0), slope=1)\n",
    "ax.scatter(means, tpreds['cqeut'], color='r')\n",
    "ax.scatter(means, maxes, color='g')\n",
    "#ax.scatter(means, randlist, color='b')"
   ]
  },
  {
   "cell_type": "code",
   "execution_count": 67,
   "id": "59e9f45b-a763-4fe9-9d2b-bf03f100efcb",
   "metadata": {},
   "outputs": [
    {
     "data": {
      "text/plain": [
       "0.5750998928652782"
      ]
     },
     "execution_count": 67,
     "metadata": {},
     "output_type": "execute_result"
    }
   ],
   "source": [
    "mean(utbest)"
   ]
  },
  {
   "cell_type": "code",
   "execution_count": 32,
   "id": "fe230929-de4c-4e0f-8860-ed0211ad67c3",
   "metadata": {},
   "outputs": [
    {
     "data": {
      "text/plain": [
       "Unnamed: 0                                                      0\n",
       "Unnamed: 0.1                                                    0\n",
       "src             Après tout, en tant que journaliste d'investig...\n",
       "hyp             <s> Après tout, en tant que journaliste d'inve...\n",
       "ref             After all, as a campaigning investigative jour...\n",
       "ahyp             After all, as an investigative reporter in th...\n",
       "scos                                                     0.334722\n",
       "Name: 0, dtype: object"
      ]
     },
     "execution_count": 32,
     "metadata": {},
     "output_type": "execute_result"
    }
   ],
   "source": [
    "lpredsall.loc[0]"
   ]
  },
  {
   "cell_type": "code",
   "execution_count": 28,
   "id": "a86ddc7a-da73-46c1-b68f-7f56a909186a",
   "metadata": {},
   "outputs": [],
   "source": [
    "#hyps, cqe, posthoc, comet, cqeut =  generate_scores(\"fr-en\", 0)\n",
    "#with open('torchsaved/newbigreslattice.pickle', 'wb') as handle:\n",
    "#    pickle.dump(newbigres, handle)"
   ]
  },
  {
   "cell_type": "code",
   "execution_count": 8,
   "id": "5bc42278-213f-4c03-ab0f-7c4efc74e702",
   "metadata": {},
   "outputs": [],
   "source": [
    "# ahyps, cqe, posthoc, comet, cqeut, lens\n",
    "# bigres = genmany(\"fr-en\")\n",
    "# using loaded\n",
    "with open('torchsaved/newbigreslattice.pickle', 'rb') as handle:\n",
    "    bigres = pickle.load(handle)"
   ]
  },
  {
   "cell_type": "code",
   "execution_count": 27,
   "id": "1b4ad66e-698a-4442-a428-74ec73e57ded",
   "metadata": {},
   "outputs": [
    {
     "data": {
      "text/plain": [
       "' As Iran sought to extend its influence and advance its interests, as well as those of its Shi a allies, talks with the Security Council came to be closely linked to its region-wide ambition s.'"
      ]
     },
     "execution_count": 27,
     "metadata": {},
     "output_type": "execute_result"
    }
   ],
   "source": [
    "latvals1['hyps'][-1]"
   ]
  },
  {
   "cell_type": "code",
   "execution_count": null,
   "id": "7fb26e85-2d23-4587-9239-17f9ee688366",
   "metadata": {},
   "outputs": [],
   "source": [
    "#with open('bigreslattice.pickle', 'wb') as handle:\n",
    "#    pickle.dump(bigres, handle)"
   ]
  },
  {
   "cell_type": "code",
   "execution_count": 12,
   "id": "0b2efae8-e4fe-498f-8cc0-47f7cf3646bf",
   "metadata": {},
   "outputs": [
    {
     "data": {
      "text/plain": [
       "0.6277338862419128"
      ]
     },
     "execution_count": 12,
     "metadata": {},
     "output_type": "execute_result"
    }
   ],
   "source": [
    "cqeut[-1]"
   ]
  },
  {
   "cell_type": "code",
   "execution_count": 70,
   "id": "bf11c421-53d7-43e7-8138-8287595633f3",
   "metadata": {},
   "outputs": [
    {
     "data": {
      "text/plain": [
       "76"
      ]
     },
     "execution_count": 70,
     "metadata": {},
     "output_type": "execute_result"
    }
   ],
   "source": [
    "len(bigres[-1])"
   ]
  },
  {
   "cell_type": "code",
   "execution_count": 9,
   "id": "1dc3c3fa-10f0-4886-b5d4-f6d8ea0e61c3",
   "metadata": {},
   "outputs": [],
   "source": [
    "def rerank_distr(bgres, funct):\n",
    "    distr = []\n",
    "    for i in range(len(bgres[-1])):\n",
    "        ebi = extract_bg_ind(bgres, i)\n",
    "        rerind = funct(ebi)\n",
    "        tmp = {}\n",
    "        for k in ebi.keys():\n",
    "            if k==\"ref\" or k==\"src\":\n",
    "                continue\n",
    "            tmp[k] = ebi[k][rerind]\n",
    "        distr.append(tmp)\n",
    "    return distr\n",
    "\n",
    "def getfull_data(bgres):\n",
    "    hyps = []\n",
    "    refs = []\n",
    "    srcs = []\n",
    "    for i in range(len(bgres[-1])):\n",
    "        ebi = extract_bg_ind(bgres, i)\n",
    "        hyps.extend(ebi['hyps'])\n",
    "        refs.extend([ebi['ref']]*len(ebi['hyps']))\n",
    "        srcs.extend([ebi['src']]*len(ebi['hyps']))\n",
    "    return hyps, refs, srcs\n",
    "\n",
    "METRIC = \"comet\"\n",
    "def rerank_single(ebi):\n",
    "    return np.argmax(ebi[METRIC])\n",
    "\n",
    "def rerank_weighted(ebi):\n",
    "    newarr = []\n",
    "    for i in range(len(ebi['comet'])):\n",
    "        newarr.append( 1*ebi['cqeut'][i]-1.25*ebi['posthoc'][i])\n",
    "    #print(ebi['posthoc'])\n",
    "    #print(mean(newarr))\n",
    "    return np.argmax(newarr)\n",
    "\n",
    "def rerank_rand(ebi):\n",
    "    return random.choice(list(range(len(ebi['comet']))))"
   ]
  },
  {
   "cell_type": "code",
   "execution_count": 13,
   "id": "acf075cd-ca7a-4835-b97c-80c559dc8a85",
   "metadata": {},
   "outputs": [],
   "source": [
    "hy, re, sr = getfull_data(bigres)"
   ]
  },
  {
   "cell_type": "code",
   "execution_count": null,
   "id": "e0613b5d-1d56-4008-b076-6c28cd1a16e8",
   "metadata": {},
   "outputs": [],
   "source": [
    "posthoc = get_scores_auto(hy, re, sr, \"posthoc\", \"fr-en\")"
   ]
  },
  {
   "cell_type": "code",
   "execution_count": 34,
   "id": "30c4a41b-0a6e-473a-9740-33ea2e45817e",
   "metadata": {},
   "outputs": [],
   "source": [
    "import json\n",
    "import numpy as np"
   ]
  },
  {
   "cell_type": "code",
   "execution_count": 38,
   "id": "2c0d953b-e240-48d6-a8b0-c9ca3ee54174",
   "metadata": {},
   "outputs": [],
   "source": [
    "dictionary = {\n",
    "    \"pscores\": posthoc,\n",
    "}\n",
    " \n",
    "# Serializing json\n",
    "json_object = json.dumps(dictionary, indent=4)\n",
    " \n",
    "# Writing to sample.json\n",
    "with open(\"posthocdata.json\", \"w\") as outfile:\n",
    "    outfile.write(json_object)"
   ]
  },
  {
   "cell_type": "code",
   "execution_count": 26,
   "id": "d0936ea1-9df1-4e7c-b6ff-8ab41a383422",
   "metadata": {},
   "outputs": [
    {
     "ename": "TypeError",
     "evalue": "'tuple' object does not support item assignment",
     "output_type": "error",
     "traceback": [
      "\u001b[0;31m---------------------------------------------------------------------------\u001b[0m",
      "\u001b[0;31mTypeError\u001b[0m                                 Traceback (most recent call last)",
      "Input \u001b[0;32mIn [26]\u001b[0m, in \u001b[0;36m<module>\u001b[0;34m\u001b[0m\n\u001b[0;32m----> 1\u001b[0m bigres[\u001b[38;5;241m2\u001b[39m] \u001b[38;5;241m=\u001b[39m posthoc\n",
      "\u001b[0;31mTypeError\u001b[0m: 'tuple' object does not support item assignment"
     ]
    }
   ],
   "source": [
    "bigres[2] = posthoc"
   ]
  },
  {
   "cell_type": "code",
   "execution_count": 27,
   "id": "5198b158-a54d-4aca-8512-18677692ab48",
   "metadata": {},
   "outputs": [],
   "source": [
    "newbigres = bigres[0], bigres[1], posthoc, bigres[3], bigres[4], bigres[5]"
   ]
  },
  {
   "cell_type": "code",
   "execution_count": 12,
   "id": "ad951f54-1d5a-4cf1-a3c0-4136a185d3bb",
   "metadata": {},
   "outputs": [
    {
     "data": {
      "text/plain": [
       "0.8735709739358801"
      ]
     },
     "execution_count": 12,
     "metadata": {},
     "output_type": "execute_result"
    }
   ],
   "source": [
    "METRIC = \"comet\"\n",
    "commax = [r['cqeut'] for r in rerank_distr(bigres, rerank_single)]\n",
    "mean(commax)"
   ]
  },
  {
   "cell_type": "code",
   "execution_count": 150,
   "id": "00ce9e84-e28f-4fe9-8127-a32c8118592e",
   "metadata": {},
   "outputs": [],
   "source": [
    "ebi = extract_bg_ind(bigres, 0)"
   ]
  },
  {
   "cell_type": "code",
   "execution_count": 151,
   "id": "94680f1e-e116-43aa-a835-c5bebf457283",
   "metadata": {},
   "outputs": [
    {
     "data": {
      "text/plain": [
       "\"Après tout, en tant que journaliste d'investigation en campagne, elle a enragé beaucoup d'autres gens outre Poutine, parmi lesquels l'actuel Premier ministre tchétchène Ramzan Kadyrov n'est pas des moindres, qu'elle a accusé de mener une politique d'enlèvements contre rançons. \""
      ]
     },
     "execution_count": 151,
     "metadata": {},
     "output_type": "execute_result"
    }
   ],
   "source": [
    "ebi['src']"
   ]
  },
  {
   "cell_type": "code",
   "execution_count": 11,
   "id": "24578bba-a4c3-483b-a44d-e67ba5424493",
   "metadata": {},
   "outputs": [],
   "source": [
    "import numpy as np\n",
    "import random"
   ]
  },
  {
   "cell_type": "code",
   "execution_count": 103,
   "id": "be18a4c5-4b02-4210-90dd-73c393be5a7d",
   "metadata": {},
   "outputs": [
    {
     "data": {
      "text/plain": [
       "0.6795314723919881"
      ]
     },
     "execution_count": 103,
     "metadata": {},
     "output_type": "execute_result"
    }
   ],
   "source": [
    "mean(waddpreds['comet'][:76])"
   ]
  },
  {
   "cell_type": "code",
   "execution_count": null,
   "id": "b0b3022d-a90f-4a22-ba3a-7ee5b1a5fe4f",
   "metadata": {},
   "outputs": [],
   "source": []
  }
 ],
 "metadata": {
  "kernelspec": {
   "display_name": "Python 3 (ipykernel)",
   "language": "python",
   "name": "python3"
  },
  "language_info": {
   "codemirror_mode": {
    "name": "ipython",
    "version": 3
   },
   "file_extension": ".py",
   "mimetype": "text/x-python",
   "name": "python",
   "nbconvert_exporter": "python",
   "pygments_lexer": "ipython3",
   "version": "3.8.12"
  }
 },
 "nbformat": 4,
 "nbformat_minor": 5
}
