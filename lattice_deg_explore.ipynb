{
 "cells": [
  {
   "cell_type": "code",
   "execution_count": 1,
   "id": "954d53ab-1ea3-458b-adb9-efdeef550512",
   "metadata": {},
   "outputs": [
    {
     "name": "stderr",
     "output_type": "stream",
     "text": [
      "2022-11-04 12:31:49.014565: W tensorflow/stream_executor/platform/default/dso_loader.cc:64] Could not load dynamic library 'libcudart.so.11.0'; dlerror: libcudart.so.11.0: cannot open shared object file: No such file or directory\n",
      "2022-11-04 12:31:49.014584: I tensorflow/stream_executor/cuda/cudart_stub.cc:29] Ignore above cudart dlerror if you do not have a GPU set up on your machine.\n"
     ]
    }
   ],
   "source": [
    "from mt_scores import get_scores_auto\n",
    "import pandas as pd\n",
    "import pickle\n",
    "import matplotlib.pyplot as plt\n",
    "import random as rand"
   ]
  },
  {
   "cell_type": "code",
   "execution_count": 2,
   "id": "2692267f-3e1f-40ff-af6c-4cb168d7eab6",
   "metadata": {},
   "outputs": [],
   "source": [
    "def mean(listvals):\n",
    "    return sum(listvals)/len(listvals)"
   ]
  },
  {
   "cell_type": "code",
   "execution_count": 3,
   "id": "d8de34cd-c42c-43d5-a545-83474810cdc4",
   "metadata": {},
   "outputs": [],
   "source": [
    "# This is a notebook to examine errors in the selection process of our efficient lattice with CQEUT\n",
    "# We'll look at a couple of examples specifically to get our insights\n",
    "def get_pickle(fname):\n",
    "    f = open(fname, 'rb')\n",
    "    return pickle.load(f)\n",
    "\n",
    "# Load in necessary data for a given graph\n",
    "def init_data(lang, chosen):\n",
    "    gbase = \"detest_reversed/\"\n",
    "    lpbase = \"germanlatpreds\"\n",
    "    expldir = \"germantest_exploded/\"\n",
    "    if lang=='fr-en':\n",
    "        gbase = \"frtest_reversed/\"\n",
    "        lpbase = \"frenchlatpreds\"\n",
    "        expldir = \"frenchtest_exploded/\"\n",
    "        \n",
    "    graph = get_pickle(gbase+str(chosen))\n",
    "    lpredsall = pd.read_csv(lpbase)\n",
    "    # tuple in the format of scores, cands, ref, source\n",
    "    explvals = get_pickle(expldir+str(chosen))\n",
    "    # TODO this is probably wrong\n",
    "    return graph, lpredsall.loc[chosen], explvals\n",
    "\n",
    "CHOSEN = 0\n",
    "LANG = \"fr-en\"\n",
    "\n",
    "def gendata_scores(hyps, srcs, refs, mname, lang):\n",
    "    cqeut = get_scores_auto(hyps, srcs, refs, \"cqeut\", mname)\n",
    "    cqe = get_scores_auto(hyps, srcs, refs, \"cqe\", \"\")\n",
    "    posthoc = get_scores_auto(hyps, srcs, refs, \"posthoc\", lang)\n",
    "    comet = get_scores_auto(hyps, srcs, refs, \"comet\", \"\")\n",
    "    return cqe, posthoc, comet, cqeut\n",
    "\n",
    "    \n",
    "# Get all the appropriate scores based on the data that we got\n",
    "def generate_scores(lang, chosen):\n",
    "    g, lp, explode = init_data(lang, chosen)\n",
    "    # get inputs to pass into stuff, last index is one selected by lattice\n",
    "    hyps = explode[1]+[lp['ahyp']]\n",
    "    refs = [explode[2]]*len(hyps)\n",
    "    srcs = [explode[3]]*len(hyps)\n",
    "    if lang==\"fr-en\":\n",
    "        mname = \"./torchsaved/maskedcont4.pt\"\n",
    "    cqe, posthoc, comet, cqeut = gendata_scores(hyps, srcs, refs, mname, lang )\n",
    "    return hyps, cqe, posthoc, comet, cqeut"
   ]
  },
  {
   "cell_type": "code",
   "execution_count": 7,
   "id": "720d212e-033f-491b-92ba-a055fb055af5",
   "metadata": {},
   "outputs": [
    {
     "name": "stderr",
     "output_type": "stream",
     "text": [
      "wmt20-comet-da is already in cache.\n",
      "Some weights of the model checkpoint at xlm-roberta-large were not used when initializing XLMRobertaModel: ['lm_head.dense.bias', 'lm_head.layer_norm.bias', 'roberta.pooler.dense.bias', 'lm_head.layer_norm.weight', 'roberta.pooler.dense.weight', 'lm_head.bias', 'lm_head.decoder.weight', 'lm_head.dense.weight']\n",
      "- This IS expected if you are initializing XLMRobertaModel from the checkpoint of a model trained on another task or with another architecture (e.g. initializing a BertForSequenceClassification model from a BertForPreTraining model).\n",
      "- This IS NOT expected if you are initializing XLMRobertaModel from the checkpoint of a model that you expect to be exactly identical (initializing a BertForSequenceClassification model from a BertForSequenceClassification model).\n",
      "Encoder model frozen.\n",
      "GPU available: True, used: True\n",
      "TPU available: False, using: 0 TPU cores\n",
      "LOCAL_RANK: 0 - CUDA_VISIBLE_DEVICES: [0,1,2,3]\n",
      "Predicting: 0it [00:00, ?it/s]"
     ]
    },
    {
     "name": "stdout",
     "output_type": "stream",
     "text": [
      "huggingface/tokenizers: The current process just got forked, after parallelism has already been used. Disabling parallelism to avoid deadlocks...\n",
      "To disable this warning, you can either:\n",
      "\t- Avoid using `tokenizers` before the fork if possible\n",
      "\t- Explicitly set the environment variable TOKENIZERS_PARALLELISM=(true | false)\n",
      "huggingface/tokenizers: The current process just got forked, after parallelism has already been used. Disabling parallelism to avoid deadlocks...\n",
      "To disable this warning, you can either:\n",
      "\t- Avoid using `tokenizers` before the fork if possible\n",
      "\t- Explicitly set the environment variable TOKENIZERS_PARALLELISM=(true | false)\n",
      "huggingface/tokenizers: The current process just got forked, after parallelism has already been used. Disabling parallelism to avoid deadlocks...\n",
      "To disable this warning, you can either:\n",
      "\t- Avoid using `tokenizers` before the fork if possible\n",
      "\t- Explicitly set the environment variable TOKENIZERS_PARALLELISM=(true | false)\n",
      "huggingface/tokenizers: The current process just got forked, after parallelism has already been used. Disabling parallelism to avoid deadlocks...\n",
      "To disable this warning, you can either:\n",
      "\t- Avoid using `tokenizers` before the fork if possible\n",
      "\t- Explicitly set the environment variable TOKENIZERS_PARALLELISM=(true | false)\n",
      "huggingface/tokenizers: The current process just got forked, after parallelism has already been used. Disabling parallelism to avoid deadlocks...\n",
      "To disable this warning, you can either:\n",
      "\t- Avoid using `tokenizers` before the fork if possible\n",
      "\t- Explicitly set the environment variable TOKENIZERS_PARALLELISM=(true | false)\n",
      "huggingface/tokenizers: The current process just got forked, after parallelism has already been used. Disabling parallelism to avoid deadlocks...\n",
      "To disable this warning, you can either:\n",
      "\t- Avoid using `tokenizers` before the fork if possible\n",
      "\t- Explicitly set the environment variable TOKENIZERS_PARALLELISM=(true | false)\n",
      "huggingface/tokenizers: The current process just got forked, after parallelism has already been used. Disabling parallelism to avoid deadlocks...\n",
      "To disable this warning, you can either:\n",
      "\t- Avoid using `tokenizers` before the fork if possible\n",
      "\t- Explicitly set the environment variable TOKENIZERS_PARALLELISM=(true | false)\n",
      "huggingface/tokenizers: The current process just got forked, after parallelism has already been used. Disabling parallelism to avoid deadlocks...\n",
      "To disable this warning, you can either:\n",
      "\t- Avoid using `tokenizers` before the fork if possible\n",
      "\t- Explicitly set the environment variable TOKENIZERS_PARALLELISM=(true | false)\n",
      "huggingface/tokenizers: The current process just got forked, after parallelism has already been used. Disabling parallelism to avoid deadlocks...\n",
      "To disable this warning, you can either:\n",
      "\t- Avoid using `tokenizers` before the fork if possible\n",
      "\t- Explicitly set the environment variable TOKENIZERS_PARALLELISM=(true | false)\n",
      "huggingface/tokenizers: The current process just got forked, after parallelism has already been used. Disabling parallelism to avoid deadlocks...\n",
      "To disable this warning, you can either:\n",
      "\t- Avoid using `tokenizers` before the fork if possible\n",
      "\t- Explicitly set the environment variable TOKENIZERS_PARALLELISM=(true | false)\n",
      "huggingface/tokenizers: The current process just got forked, after parallelism has already been used. Disabling parallelism to avoid deadlocks...\n",
      "To disable this warning, you can either:\n",
      "\t- Avoid using `tokenizers` before the fork if possible\n",
      "\t- Explicitly set the environment variable TOKENIZERS_PARALLELISM=(true | false)\n",
      "huggingface/tokenizers: The current process just got forked, after parallelism has already been used. Disabling parallelism to avoid deadlocks...\n",
      "To disable this warning, you can either:\n",
      "\t- Avoid using `tokenizers` before the fork if possible\n",
      "\t- Explicitly set the environment variable TOKENIZERS_PARALLELISM=(true | false)\n"
     ]
    },
    {
     "name": "stderr",
     "output_type": "stream",
     "text": [
      "Predicting: 100%|█████████████████████████████████████████████████████████████████████████████████████████████████████████████████████████████████████| 15/15 [00:08<00:00,  1.73it/s]"
     ]
    },
    {
     "name": "stdout",
     "output_type": "stream",
     "text": [
      "To disable this warning, you can either:\n",
      "\t- Avoid using `tokenizers` before the fork if possible\n",
      "\t- Explicitly set the environment variable TOKENIZERS_PARALLELISM=(true | false)\n",
      "To disable this warning, you can either:\n",
      "\t- Avoid using `tokenizers` before the fork if possible\n",
      "\t- Explicitly set the environment variable TOKENIZERS_PARALLELISM=(true | false)\n",
      "To disable this warning, you can either:\n",
      "\t- Avoid using `tokenizers` before the fork if possible\n",
      "\t- Explicitly set the environment variable TOKENIZERS_PARALLELISM=(true | false)\n",
      "To disable this warning, you can either:\n",
      "\t- Avoid using `tokenizers` before the fork if possible\n",
      "\t- Explicitly set the environment variable TOKENIZERS_PARALLELISM=(true | false)\n"
     ]
    },
    {
     "name": "stderr",
     "output_type": "stream",
     "text": [
      "Predicting: 100%|█████████████████████████████████████████████████████████████████████████████████████████████████████████████████████████████████████| 15/15 [00:09<00:00,  1.66it/s]\n"
     ]
    }
   ],
   "source": [
    "comsco = get_scores_auto(lpreds['ahyp'], lpreds['src'], lpreds['ref'], \"comet\", \"\")"
   ]
  },
  {
   "cell_type": "code",
   "execution_count": 8,
   "id": "468ca9c3-da9d-4b62-b3bd-ed17754d2631",
   "metadata": {},
   "outputs": [
    {
     "data": {
      "text/plain": [
       "0.628337462774303"
      ]
     },
     "execution_count": 8,
     "metadata": {},
     "output_type": "execute_result"
    }
   ],
   "source": [
    "mean(comsco)"
   ]
  },
  {
   "cell_type": "code",
   "execution_count": null,
   "id": "da5dac4c-bbff-48f2-a530-689fa86b7270",
   "metadata": {},
   "outputs": [],
   "source": [
    "GFILE = 'frenchlatpreds3.csv'\n",
    "lpreds = pd.read_csv(GFILE)\n",
    "\n",
    "def get_act_hyps(hyplist, cutoff):\n",
    "    res = []\n",
    "    for h in hyplist:\n",
    "        cind = h[3:].index(cutoff)+len(cutoff)+3\n",
    "        res.append(h[cind:])\n",
    "    return res\n",
    "\n",
    "lpreds['ind'] = lpreds['Unnamed: 0']\n",
    "lpreds = lpreds.dropna()\n",
    "lpreds['ahyp'] = get_act_hyps(lpreds['hyp'], \"<s>\")\n",
    "frname = \"./torchsaved/maskedcont4.pt\"\n",
    "cqe, comet, posthoc, cqeut = gendata_scores(lpreds['ahyp'], lpreds['src'], lpreds['ref'], frname, \"fr-en\")"
   ]
  },
  {
   "cell_type": "code",
   "execution_count": 5,
   "id": "5f5fcd47-5f21-4697-9341-af58d0f2a9da",
   "metadata": {},
   "outputs": [],
   "source": [
    "#Slpreds.to_csv(\"torchsaved/lpreds1updated.csv\")"
   ]
  },
  {
   "cell_type": "code",
   "execution_count": 15,
   "id": "edf55b94-88c5-45cc-a238-031f6ef44f39",
   "metadata": {},
   "outputs": [],
   "source": [
    "lpreds['comet'] = comsco"
   ]
  },
  {
   "cell_type": "code",
   "execution_count": 6,
   "id": "39e3f3de-39e6-4576-8235-260d74c7857d",
   "metadata": {},
   "outputs": [],
   "source": [
    "lpreds['cqe'] = cqe\n",
    "lpreds['cqeut'] = cqeut\n",
    "lpreds['posthoc'] = posthoc\n",
    "lpreds['comet'] = comet"
   ]
  },
  {
   "cell_type": "code",
   "execution_count": 18,
   "id": "2cf93b0d-e904-43eb-b9ce-093fd41b82f9",
   "metadata": {},
   "outputs": [
    {
     "data": {
      "text/plain": [
       "0.9117810583114624"
      ]
     },
     "execution_count": 18,
     "metadata": {},
     "output_type": "execute_result"
    }
   ],
   "source": [
    "mean(tpreds['cqeut'])"
   ]
  },
  {
   "cell_type": "code",
   "execution_count": null,
   "id": "6bee34de-c094-4c8a-b2cc-634a61f3acbd",
   "metadata": {},
   "outputs": [],
   "source": []
  },
  {
   "cell_type": "code",
   "execution_count": 16,
   "id": "d578a2b9-dc07-4653-acac-d2b314795d46",
   "metadata": {},
   "outputs": [],
   "source": [
    "tpreds = lpreds[lpreds['ind']<75]\n",
    "tuns = tpreds['ind'].unique()"
   ]
  },
  {
   "cell_type": "code",
   "execution_count": 20,
   "id": "b327be7a-e540-455c-80c9-5b33c1c005f2",
   "metadata": {},
   "outputs": [],
   "source": [
    "# Get all the appropriate scores based on the data that we got\n",
    "def genmany(lang):\n",
    "    ahyps, arefs, asrcs = [], [], []\n",
    "    ind = 0\n",
    "    lens = []\n",
    "    while ind<76:\n",
    "        try:\n",
    "            g, lp, explode = init_data(lang, ind)\n",
    "            # get inputs to pass into stuff, last index is one selected by lattice\n",
    "            hyps = explode[1]+[lp['ahyp']]\n",
    "            refs = [explode[2]]*len(hyps)\n",
    "            srcs = [explode[3]]*len(hyps)\n",
    "            lens.append(len(hyps))\n",
    "            ahyps.extend(hyps)\n",
    "            arefs.extend(refs)\n",
    "            asrcs.extend(srcs)\n",
    "            ind+=1\n",
    "        except:\n",
    "            continue\n",
    "    if lang==\"fr-en\":\n",
    "        mname = \"./torchsaved/maskedcont4.pt\"\n",
    "    cqeut = get_scores_auto(ahyps, asrcs, arefs, \"cqeut\", mname)\n",
    "    with open('bigcqeut.pickle', 'wb') as handle:\n",
    "        pickle.dump(cqeut, handle)\n",
    "    cqe = get_scores_auto(ahyps, asrcs, arefs, \"cqe\", \"\")\n",
    "    with open('bigcqe.pickle', 'wb') as handle:\n",
    "        pickle.dump(cqe, handle)\n",
    "    posthoc = get_scores_auto(ahyps, asrcs, arefs, \"posthoc\", lang)\n",
    "    with open('bigposthoc.pickle', 'wb') as handle:\n",
    "        pickle.dump(posthoc, handle)\n",
    "    comet = get_scores_auto(ahyps, asrcs, arefs, \"comet\", \"\")\n",
    "    with open('bigcomet.pickle', 'wb') as handle:\n",
    "        pickle.dump(comet, handle)\n",
    "    return ahyps, cqe, posthoc, comet, cqeut, lens\n",
    "\n",
    "# get a specific ind from all the generated stuff\n",
    "def extract_bg_ind(bgres, ind, asdict=True):\n",
    "    ahyps, cqe, posthoc, comet, cqeut, lens = bigres\n",
    "    sind = sum(lens[:ind])\n",
    "    end = sind+lens[ind]\n",
    "    # TODO watch out this is kind of hardcoded\n",
    "    lp = lpredsall.loc[ind]\n",
    "    # consolidate as a dict\n",
    "    if asdict:\n",
    "        res = {\n",
    "            \"hyps\": ahyps[sind:end],\n",
    "            \"cqe\": cqe[sind:end],\n",
    "            \"posthoc\": posthoc[sind:end],\n",
    "            \"comet\": comet[sind:end],\n",
    "            \"cqeut\": cqeut[sind:end],\n",
    "            \"src\": lp[\"src\"],\n",
    "            \"ref\": lp[\"ref\"]\n",
    "        }\n",
    "        return res\n",
    "    return ahyps[sind:end], cqe[sind:end], posthoc[sind:end], comet[sind:end], cqeut[sind:end]\n",
    "\n",
    "# Compare what's selected by the algorithm vs what exploded paths have\n",
    "# TODO add in params\n",
    "# we can visualize where lattice is vs distrib of actual stuff, should run \n",
    "# whole pipeline for an entire lattice / generate stuff\n",
    "def compare_latselect(bgres, ind, terms, old=False):\n",
    "    lat = extract_bg_ind(bgres, ind)\n",
    "    res = {}\n",
    "    for t in terms:\n",
    "        res[t+\"mean\"] = sum(lat[t])/len(lat[t])\n",
    "        res[t+\"select\"] = lat[t][-1]\n",
    "        res[t+\"max\"] = max(lat[t])\n",
    "        res[t+\"random\"] = rand.choice(lat[t])\n",
    "    return res\n",
    "\n",
    "def rercompare(bgres, ind, terms):\n",
    "    lat = extract_bg_ind(bgres, ind)\n",
    "    res = {}\n",
    "    for t in terms:\n",
    "        ind = lat[t].index(max(lat[t]))\n",
    "        if t=='posthoc':\n",
    "            ind = lat[t].index(min(lat[t]))\n",
    "        res[t+\"rerank\"] = lat[\"comet\"][ind]\n",
    "        res[t+\"cand\"] = lat[\"hyps\"][ind]\n",
    "    res[\"effcand\"] = lat[\"hyps\"][-1]\n",
    "    return res\n",
    "\n",
    "def getrer_scatter(bgres, terms, xterm, yterm, lfilter=None, useinds = False):\n",
    "    allens = len(bgres[-1])\n",
    "    xres = []\n",
    "    yres = []\n",
    "    rang = range(0, allens)\n",
    "    if useinds:\n",
    "        rang = tuns\n",
    "    for a in rang:\n",
    "        if lfilter:\n",
    "            # function to ignore lengths that meet certain conditions\n",
    "            if lfilter(bgres[-1][a]):\n",
    "                continue\n",
    "        lstats = rercompare(bgres, a, terms)\n",
    "        xres.append(lstats[xterm])\n",
    "        yres.append(lstats[yterm])\n",
    "    return xres, yres\n",
    "\n",
    "def getcomp_scatter(bgres, terms, xterm, yterm, lfilter=None, useinds = False):\n",
    "    allens = len(bgres[-1])\n",
    "    xres = []\n",
    "    yres = []\n",
    "    rang = range(0, allens)\n",
    "    if useinds:\n",
    "        rang = tuns\n",
    "    for a in rang:\n",
    "        if lfilter:\n",
    "            # function to ignore lengths that meet certain conditions\n",
    "            if lfilter(bgres[-1][a]):\n",
    "                continue\n",
    "        lstats = compare_latselect(bgres, a, terms)\n",
    "        xres.append(lstats[xterm])\n",
    "        yres.append(lstats[yterm])\n",
    "    return xres, yres\n",
    "\n",
    "# TODO try above pipeline on like 50 lattices, get the data / vis for each of those\n",
    "# Answer questions or expand analysis\n",
    "lpredsall = pd.read_csv(\"torchsaved/frenchlatpreds\")"
   ]
  },
  {
   "cell_type": "code",
   "execution_count": 23,
   "id": "cc067d4e-745c-4749-a32a-03462fcd2249",
   "metadata": {},
   "outputs": [],
   "source": [
    "utbest, qebest = getrer_scatter(bigres, [\"cqeut\", \"cqe\"], \"cqeutrerank\", \"cqererank\")\n",
    "utbest, bbest = getrer_scatter(bigres, [\"cqeut\", \"cqe\", \"comet\"], \"cqeutrerank\", \"cometrerank\")"
   ]
  },
  {
   "cell_type": "code",
   "execution_count": 24,
   "id": "71391b1c-345b-4768-9edf-cf0901d46940",
   "metadata": {},
   "outputs": [],
   "source": [
    "utcands, effcands = getrer_scatter(bigres, [\"cqeut\", \"cqe\"], \"cqeutcand\", \"effcand\")"
   ]
  },
  {
   "cell_type": "code",
   "execution_count": 56,
   "id": "4293e37f-ad58-4d18-9153-a852839eadfa",
   "metadata": {},
   "outputs": [],
   "source": [
    "def mean(l):\n",
    "    return sum(l)/len(l)"
   ]
  },
  {
   "cell_type": "code",
   "execution_count": 25,
   "id": "c5af4ab0-304a-40a0-b43e-a1dbaea79c0c",
   "metadata": {},
   "outputs": [
    {
     "data": {
      "text/plain": [
       "0.6797885943302199"
      ]
     },
     "execution_count": 25,
     "metadata": {},
     "output_type": "execute_result"
    }
   ],
   "source": [
    "mean(qebest)"
   ]
  },
  {
   "cell_type": "code",
   "execution_count": 179,
   "id": "207fde64-105d-4874-bace-f83f7b3bba0c",
   "metadata": {},
   "outputs": [
    {
     "name": "stdout",
     "output_type": "stream",
     "text": [
      "Another variable is the degree to which other developed countries’ monetary policies will ease.\n",
      " The other variable is the extent to which other developed countries will ease their monetary policies.\n"
     ]
    }
   ],
   "source": [
    "def printdiff(ind, utc, effc):\n",
    "    print(utc[ind])\n",
    "    print(effc[ind])\n",
    "\n",
    "printdiff(2, utcands, effcands)"
   ]
  },
  {
   "cell_type": "code",
   "execution_count": 140,
   "id": "b5d82572-a380-4bc0-b577-41500d19fc6b",
   "metadata": {},
   "outputs": [],
   "source": [
    "# leaves only if len less than 1000\n",
    "def under1000(lenval):\n",
    "    #print(lenval)\n",
    "    return lenval>1000\n",
    "\n",
    "# leaves only if len ge than 1000\n",
    "def over1000(lenval):\n",
    "    return lenval<=1000"
   ]
  },
  {
   "cell_type": "code",
   "execution_count": 31,
   "id": "f2b1aea4-4222-409f-a6a3-999920856b29",
   "metadata": {},
   "outputs": [],
   "source": [
    "filt = None\n",
    "means, selected = getcomp_scatter(bigres, [\"cqeut\"], \"cqeutmean\", \"cqeutselect\", filt, True)\n",
    "means, randlist = getcomp_scatter(bigres, [\"cqeut\"], \"cqeutmean\", \"cqeutrandom\", filt, True)\n",
    "means, maxes = getcomp_scatter(bigres, [\"cqeut\"], \"cqeutmean\", \"cqeutmax\", filt, True)\n",
    "diffs = [maxes[i]-tpreds.iloc[i]['cqeut'] for i in range(len(maxes))]\n",
    "rdiffs = [maxes[i]-randlist[i] for i in range(len(maxes))]"
   ]
  },
  {
   "cell_type": "code",
   "execution_count": 35,
   "id": "ea33d760-64aa-4579-9d18-ca9a937e8c20",
   "metadata": {},
   "outputs": [
    {
     "data": {
      "text/plain": [
       "[0.816840410232544,\n",
       " 0.9729751348495483,\n",
       " 1.1208709478378296,\n",
       " 0.8822489976882935,\n",
       " 1.0366191864013672,\n",
       " 1.2628331184387207,\n",
       " 1.2351996898651123,\n",
       " 1.1398801803588867,\n",
       " 0.8183314800262451,\n",
       " 1.5196874141693115,\n",
       " 1.2325668334960938,\n",
       " 1.1653532981872559,\n",
       " 1.1745609045028687,\n",
       " 1.2024933099746704,\n",
       " 0.7652642726898193,\n",
       " 0.6443833112716675,\n",
       " 1.2501180171966553,\n",
       " 0.6707605123519897,\n",
       " 1.3296961784362793,\n",
       " 1.233210802078247,\n",
       " 1.127038598060608,\n",
       " 1.0943902730941772,\n",
       " 0.9024837017059326,\n",
       " 1.1244144439697266,\n",
       " 1.278916358947754,\n",
       " 0.19798210263252258,\n",
       " 1.0214943885803223,\n",
       " 1.064499855041504,\n",
       " 1.2555193901062012,\n",
       " 1.0909152030944824,\n",
       " 0.7324851751327515,\n",
       " 1.0603841543197632,\n",
       " 0.7721091508865356,\n",
       " 1.2491137981414795,\n",
       " 1.1255011558532715,\n",
       " 1.121659517288208,\n",
       " 1.018066644668579,\n",
       " 1.2563560009002686,\n",
       " 0.9303861856460571,\n",
       " 1.022241473197937,\n",
       " 1.075598955154419,\n",
       " 0.7905523777008057,\n",
       " 0.960492730140686,\n",
       " 1.2031536102294922,\n",
       " 1.4098764657974243,\n",
       " 1.2780531644821167,\n",
       " 1.1191295385360718,\n",
       " 1.124305248260498,\n",
       " 0.8215278387069702,\n",
       " 0.9939725399017334,\n",
       " 0.8979138731956482,\n",
       " 1.1757357120513916,\n",
       " 1.2650114297866821,\n",
       " 1.097086787223816,\n",
       " 1.116138219833374,\n",
       " 1.1286855936050415,\n",
       " 1.0807701349258423,\n",
       " 1.1836833953857422,\n",
       " 0.7726171016693115,\n",
       " 1.1451213359832764,\n",
       " 0.8790017366409302,\n",
       " 0.8900201916694641,\n",
       " 0.8212273120880127,\n",
       " 0.875802755355835,\n",
       " 0.5914558172225952,\n",
       " 1.116042971611023,\n",
       " 1.2608656883239746,\n",
       " 1.0192776918411255,\n",
       " 1.0041998624801636,\n",
       " 0.707513689994812,\n",
       " 0.7705543041229248,\n",
       " 0.9072146415710449,\n",
       " 1.1425368785858154,\n",
       " 1.1894727945327759,\n",
       " 0.42978501319885254]"
      ]
     },
     "execution_count": 35,
     "metadata": {},
     "output_type": "execute_result"
    }
   ],
   "source": [
    "maxes"
   ]
  },
  {
   "cell_type": "markdown",
   "id": "4ce8a045-3918-4e86-8c09-2c7de3e99166",
   "metadata": {},
   "source": [
    "means"
   ]
  },
  {
   "cell_type": "code",
   "execution_count": 45,
   "id": "ef0ed368-2668-4596-b23c-a6cca0edae42",
   "metadata": {},
   "outputs": [
    {
     "name": "stdout",
     "output_type": "stream",
     "text": [
      "0.17575053417164346\n",
      "0.09908064767934274\n"
     ]
    }
   ],
   "source": [
    "print(sum(rdiffs)/len(rdiffs))\n",
    "print(sum(diffs)/len(diffs))"
   ]
  },
  {
   "cell_type": "code",
   "execution_count": 48,
   "id": "ebdfe4fb-fcfc-44b0-9867-3ab4fca6b65f",
   "metadata": {},
   "outputs": [
    {
     "data": {
      "text/plain": [
       "1.0407548456088356"
      ]
     },
     "execution_count": 48,
     "metadata": {},
     "output_type": "execute_result"
    }
   ],
   "source": [
    "sum(maxes)/len(maxes)"
   ]
  },
  {
   "cell_type": "code",
   "execution_count": 51,
   "id": "0bb6b14c-ea70-4712-8ac1-5822b98ced20",
   "metadata": {},
   "outputs": [
    {
     "data": {
      "text/plain": [
       "0.9416741979294929"
      ]
     },
     "execution_count": 51,
     "metadata": {},
     "output_type": "execute_result"
    }
   ],
   "source": [
    "sum(tpreds['cqeut'])/len(tpreds['cqeut'])"
   ]
  },
  {
   "cell_type": "code",
   "execution_count": 52,
   "id": "4fdac132-8fb7-4c2d-bdd7-dce5fad93134",
   "metadata": {},
   "outputs": [
    {
     "data": {
      "text/plain": [
       "0.8650043114371921"
      ]
     },
     "execution_count": 52,
     "metadata": {},
     "output_type": "execute_result"
    }
   ],
   "source": [
    "sum(randlist)/len(randlist)"
   ]
  },
  {
   "cell_type": "code",
   "execution_count": 53,
   "id": "b4b5166a-0ac0-4f17-94c7-a6817e9bd6b0",
   "metadata": {},
   "outputs": [
    {
     "data": {
      "text/plain": [
       "<matplotlib.collections.PathCollection at 0x7fd375da6e50>"
      ]
     },
     "execution_count": 53,
     "metadata": {},
     "output_type": "execute_result"
    },
    {
     "data": {
      "image/png": "[encoded data removed]",
      "text/plain": [
       "<Figure size 432x288 with 1 Axes>"
      ]
     },
     "metadata": {
      "needs_background": "light"
     },
     "output_type": "display_data"
    }
   ],
   "source": [
    "fig, ax = plt.subplots()\n",
    "ax.axline((0, 0), slope=1)\n",
    "ax.scatter(means, tpreds['cqeut'], color='r')\n",
    "ax.scatter(means, maxes, color='g')\n",
    "#ax.scatter(means, randlist, color='b')"
   ]
  },
  {
   "cell_type": "code",
   "execution_count": 67,
   "id": "59e9f45b-a763-4fe9-9d2b-bf03f100efcb",
   "metadata": {},
   "outputs": [
    {
     "data": {
      "text/plain": [
       "0.5750998928652782"
      ]
     },
     "execution_count": 67,
     "metadata": {},
     "output_type": "execute_result"
    }
   ],
   "source": [
    "mean(utbest)"
   ]
  },
  {
   "cell_type": "code",
   "execution_count": 32,
   "id": "fe230929-de4c-4e0f-8860-ed0211ad67c3",
   "metadata": {},
   "outputs": [
    {
     "data": {
      "text/plain": [
       "Unnamed: 0                                                      0\n",
       "Unnamed: 0.1                                                    0\n",
       "src             Après tout, en tant que journaliste d'investig...\n",
       "hyp             <s> Après tout, en tant que journaliste d'inve...\n",
       "ref             After all, as a campaigning investigative jour...\n",
       "ahyp             After all, as an investigative reporter in th...\n",
       "scos                                                     0.334722\n",
       "Name: 0, dtype: object"
      ]
     },
     "execution_count": 32,
     "metadata": {},
     "output_type": "execute_result"
    }
   ],
   "source": [
    "lpredsall.loc[0]"
   ]
  },
  {
   "cell_type": "code",
   "execution_count": null,
   "id": "a86ddc7a-da73-46c1-b68f-7f56a909186a",
   "metadata": {},
   "outputs": [],
   "source": [
    "#hyps, cqe, posthoc, comet, cqeut =  generate_scores(\"fr-en\", 0)"
   ]
  },
  {
   "cell_type": "code",
   "execution_count": 22,
   "id": "5bc42278-213f-4c03-ab0f-7c4efc74e702",
   "metadata": {},
   "outputs": [],
   "source": [
    "# ahyps, cqe, posthoc, comet, cqeut, lens\n",
    "# bigres = genmany(\"fr-en\")\n",
    "# using loaded\n",
    "with open('torchsaved/bigreslattice.pickle', 'rb') as handle:\n",
    "    bigres = pickle.load(handle)"
   ]
  },
  {
   "cell_type": "code",
   "execution_count": 27,
   "id": "1b4ad66e-698a-4442-a428-74ec73e57ded",
   "metadata": {},
   "outputs": [
    {
     "data": {
      "text/plain": [
       "' As Iran sought to extend its influence and advance its interests, as well as those of its Shi a allies, talks with the Security Council came to be closely linked to its region-wide ambition s.'"
      ]
     },
     "execution_count": 27,
     "metadata": {},
     "output_type": "execute_result"
    }
   ],
   "source": [
    "latvals1['hyps'][-1]"
   ]
  },
  {
   "cell_type": "code",
   "execution_count": null,
   "id": "7fb26e85-2d23-4587-9239-17f9ee688366",
   "metadata": {},
   "outputs": [],
   "source": [
    "#with open('bigreslattice.pickle', 'wb') as handle:\n",
    "#    pickle.dump(bigres, handle)"
   ]
  },
  {
   "cell_type": "code",
   "execution_count": 12,
   "id": "0b2efae8-e4fe-498f-8cc0-47f7cf3646bf",
   "metadata": {},
   "outputs": [
    {
     "data": {
      "text/plain": [
       "0.6277338862419128"
      ]
     },
     "execution_count": 12,
     "metadata": {},
     "output_type": "execute_result"
    }
   ],
   "source": [
    "cqeut[-1]"
   ]
  },
  {
   "cell_type": "code",
   "execution_count": null,
   "id": "bf11c421-53d7-43e7-8138-8287595633f3",
   "metadata": {},
   "outputs": [],
   "source": []
  }
 ],
 "metadata": {
  "kernelspec": {
   "display_name": "Python 3 (ipykernel)",
   "language": "python",
   "name": "python3"
  },
  "language_info": {
   "codemirror_mode": {
    "name": "ipython",
    "version": 3
   },
   "file_extension": ".py",
   "mimetype": "text/x-python",
   "name": "python",
   "nbconvert_exporter": "python",
   "pygments_lexer": "ipython3",
   "version": "3.8.12"
  }
 },
 "nbformat": 4,
 "nbformat_minor": 5
}
