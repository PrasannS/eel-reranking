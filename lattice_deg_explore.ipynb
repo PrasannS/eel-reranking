{
 "cells": [
  {
   "cell_type": "code",
   "execution_count": 105,
   "id": "954d53ab-1ea3-458b-adb9-efdeef550512",
   "metadata": {},
   "outputs": [],
   "source": [
    "from mt_scores import get_scores_auto\n",
    "import pandas as pd\n",
    "import pickle\n",
    "import matplotlib.pyplot as plt\n",
    "import random as rand"
   ]
  },
  {
   "cell_type": "code",
   "execution_count": 166,
   "id": "593dad07-5f79-44d0-8ae5-4137e5c7c618",
   "metadata": {},
   "outputs": [],
   "source": [
    "# This is a notebook to examine errors in the selection process of our efficient lattice with CQEUT\n",
    "# We'll look at a couple of examples specifically to get our insights\n",
    "def get_pickle(fname):\n",
    "    f = open(fname, 'rb')\n",
    "    return pickle.load(f)\n",
    "\n",
    "# Load in necessary data for a given graph\n",
    "def init_data(lang, chosen):\n",
    "    gbase = \"detest_reversed/\"\n",
    "    lpbase = \"germanlatpreds\"\n",
    "    expldir = \"germantest_exploded/\"\n",
    "    if lang=='fr-en':\n",
    "        gbase = \"frtest_reversed/\"\n",
    "        lpbase = \"frenchlatpreds\"\n",
    "        expldir = \"frenchtest_exploded/\"\n",
    "        \n",
    "    graph = get_pickle(gbase+str(chosen))\n",
    "    lpredsall = pd.read_csv(lpbase)\n",
    "    # tuple in the format of scores, cands, ref, source\n",
    "    explvals = get_pickle(expldir+str(chosen))\n",
    "    # TODO this is probably wrong\n",
    "    return graph, lpredsall.loc[chosen], explvals\n",
    "\n",
    "CHOSEN = 0\n",
    "LANG = \"fr-en\"\n",
    "\n",
    "# Get all the appropriate scores based on the data that we got\n",
    "def generate_scores(lang, chosen):\n",
    "    g, lp, explode = init_data(lang, chosen)\n",
    "    # get inputs to pass into stuff, last index is one selected by lattice\n",
    "    hyps = explode[1]+[lp['ahyp']]\n",
    "    refs = [explode[2]]*len(hyps)\n",
    "    srcs = [explode[3]]*len(hyps)\n",
    "    if lang==\"fr-en\":\n",
    "        mname = \"./torchsaved/maskedcont4.pt\"\n",
    "    cqeut = get_scores_auto(hyps, srcs, refs, \"cqeut\", mname)\n",
    "    cqe = get_scores_auto(hyps, srcs, refs, \"cqe\", \"\")\n",
    "    posthoc = get_scores_auto(hyps, srcs, refs, \"posthoc\", lang)\n",
    "    comet = get_scores_auto(hyps, srcs, refs, \"comet\", \"\")\n",
    "    return hyps, cqe, posthoc, comet, cqeut\n",
    "\n",
    "# Get all the appropriate scores based on the data that we got\n",
    "def genmany(lang):\n",
    "    ahyps, arefs, asrcs = [], [], []\n",
    "    ind = 0\n",
    "    lens = []\n",
    "    while ind<76:\n",
    "        try:\n",
    "            g, lp, explode = init_data(lang, ind)\n",
    "            # get inputs to pass into stuff, last index is one selected by lattice\n",
    "            hyps = explode[1]+[lp['ahyp']]\n",
    "            refs = [explode[2]]*len(hyps)\n",
    "            srcs = [explode[3]]*len(hyps)\n",
    "            lens.append(len(hyps))\n",
    "            ahyps.extend(hyps)\n",
    "            arefs.extend(refs)\n",
    "            asrcs.extend(srcs)\n",
    "            ind+=1\n",
    "        except:\n",
    "            continue\n",
    "    if lang==\"fr-en\":\n",
    "        mname = \"./torchsaved/maskedcont4.pt\"\n",
    "    cqeut = get_scores_auto(ahyps, asrcs, arefs, \"cqeut\", mname)\n",
    "    with open('bigcqeut.pickle', 'wb') as handle:\n",
    "        pickle.dump(cqeut, handle)\n",
    "    cqe = get_scores_auto(ahyps, asrcs, arefs, \"cqe\", \"\")\n",
    "    with open('bigcqe.pickle', 'wb') as handle:\n",
    "        pickle.dump(cqe, handle)\n",
    "    posthoc = get_scores_auto(ahyps, asrcs, arefs, \"posthoc\", lang)\n",
    "    with open('bigposthoc.pickle', 'wb') as handle:\n",
    "        pickle.dump(posthoc, handle)\n",
    "    comet = get_scores_auto(ahyps, asrcs, arefs, \"comet\", \"\")\n",
    "    with open('bigcomet.pickle', 'wb') as handle:\n",
    "        pickle.dump(comet, handle)\n",
    "    return ahyps, cqe, posthoc, comet, cqeut, lens\n",
    "\n",
    "# get a specific ind from all the generated stuff\n",
    "def extract_bg_ind(bgres, ind, asdict=True):\n",
    "    ahyps, cqe, posthoc, comet, cqeut, lens = bigres\n",
    "    sind = sum(lens[:ind])\n",
    "    end = sind+lens[ind]\n",
    "    # TODO watch out this is kind of hardcoded\n",
    "    lp = lpredsall.loc[ind]\n",
    "    # consolidate as a dict\n",
    "    if asdict:\n",
    "        res = {\n",
    "            \"hyps\": ahyps[sind:end],\n",
    "            \"cqe\": cqe[sind:end],\n",
    "            \"posthoc\": posthoc[sind:end],\n",
    "            \"comet\": comet[sind:end],\n",
    "            \"cqeut\": cqeut[sind:end],\n",
    "            \"src\": lp[\"src\"],\n",
    "            \"ref\": lp[\"ref\"]\n",
    "        }\n",
    "        return res\n",
    "    return ahyps[sind:end], cqe[sind:end], posthoc[sind:end], comet[sind:end], cqeut[sind:end]\n",
    "\n",
    "# Compare what's selected by the algorithm vs what exploded paths have\n",
    "# TODO add in params\n",
    "# we can visualize where lattice is vs distrib of actual stuff, should run \n",
    "# whole pipeline for an entire lattice / generate stuff\n",
    "def compare_latselect(bgres, ind, terms):\n",
    "    lat = extract_bg_ind(bgres, ind)\n",
    "    res = {}\n",
    "    for t in terms:\n",
    "        res[t+\"mean\"] = sum(lat[t])/len(lat[t])\n",
    "        res[t+\"select\"] = lat[t][-1]\n",
    "        res[t+\"max\"] = max(lat[t])\n",
    "        res[t+\"random\"] = rand.choice(lat[t])\n",
    "    return res\n",
    "\n",
    "def rercompare(bgres, ind, terms):\n",
    "    lat = extract_bg_ind(bgres, ind)\n",
    "    res = {}\n",
    "    for t in terms:\n",
    "        ind = lat[t].index(max(lat[t]))\n",
    "        if t=='posthoc':\n",
    "            ind = lat[t].index(min(lat[t]))\n",
    "        res[t+\"rerank\"] = lat[\"comet\"][ind]\n",
    "        res[t+\"cand\"] = lat[\"hyps\"][ind]\n",
    "    res[\"effcand\"] = lat[\"hyps\"][-1]\n",
    "    return res\n",
    "\n",
    "def getrer_scatter(bgres, terms, xterm, yterm, lfilter=None):\n",
    "    allens = len(bgres[-1])\n",
    "    xres = []\n",
    "    yres = []\n",
    "    for a in range(0, allens):\n",
    "        if lfilter:\n",
    "            # function to ignore lengths that meet certain conditions\n",
    "            if lfilter(bgres[-1][a]):\n",
    "                continue\n",
    "        lstats = rercompare(bgres, a, terms)\n",
    "        xres.append(lstats[xterm])\n",
    "        yres.append(lstats[yterm])\n",
    "    return xres, yres\n",
    "\n",
    "def getcomp_scatter(bgres, terms, xterm, yterm, lfilter=None):\n",
    "    allens = len(bgres[-1])\n",
    "    xres = []\n",
    "    yres = []\n",
    "    for a in range(0, allens):\n",
    "        if lfilter:\n",
    "            # function to ignore lengths that meet certain conditions\n",
    "            if lfilter(bgres[-1][a]):\n",
    "                continue\n",
    "        lstats = compare_latselect(bgres, a, terms)\n",
    "        xres.append(lstats[xterm])\n",
    "        yres.append(lstats[yterm])\n",
    "    return xres, yres\n",
    "\n",
    "# TODO try above pipeline on like 50 lattices, get the data / vis for each of those\n",
    "# Answer questions or expand analysis\n",
    "lpredsall = pd.read_csv(\"frenchlatpreds\")"
   ]
  },
  {
   "cell_type": "code",
   "execution_count": 172,
   "id": "cc067d4e-745c-4749-a32a-03462fcd2249",
   "metadata": {},
   "outputs": [],
   "source": [
    "utbest, qebest = getrer_scatter(bigres, [\"cqeut\", \"cqe\"], \"cqeutrerank\", \"cqererank\")\n",
    "utbest, bbest = getrer_scatter(bigres, [\"cqeut\", \"cqe\", \"comet\"], \"cqeutrerank\", \"cometrerank\")"
   ]
  },
  {
   "cell_type": "code",
   "execution_count": 171,
   "id": "71391b1c-345b-4768-9edf-cf0901d46940",
   "metadata": {},
   "outputs": [],
   "source": [
    "utcands, effcands = getrer_scatter(bigres, [\"cqeut\", \"cqe\"], \"cqeutcand\", \"effcand\")"
   ]
  },
  {
   "cell_type": "code",
   "execution_count": 179,
   "id": "207fde64-105d-4874-bace-f83f7b3bba0c",
   "metadata": {},
   "outputs": [
    {
     "name": "stdout",
     "output_type": "stream",
     "text": [
      "Another variable is the degree to which other developed countries’ monetary policies will ease.\n",
      " The other variable is the extent to which other developed countries will ease their monetary policies.\n"
     ]
    }
   ],
   "source": [
    "def printdiff(ind, utc, effc):\n",
    "    print(utc[ind])\n",
    "    print(effc[ind])\n",
    "\n",
    "printdiff(2, utcands, effcands)"
   ]
  },
  {
   "cell_type": "code",
   "execution_count": 140,
   "id": "b5d82572-a380-4bc0-b577-41500d19fc6b",
   "metadata": {},
   "outputs": [],
   "source": [
    "# leaves only if len less than 1000\n",
    "def under1000(lenval):\n",
    "    #print(lenval)\n",
    "    return lenval>1000\n",
    "\n",
    "# leaves only if len ge than 1000\n",
    "def over1000(lenval):\n",
    "    return lenval<=1000"
   ]
  },
  {
   "cell_type": "code",
   "execution_count": 162,
   "id": "f2b1aea4-4222-409f-a6a3-999920856b29",
   "metadata": {},
   "outputs": [],
   "source": [
    "filt = over1000\n",
    "means, selected = getcomp_scatter(bigres, [\"cqeut\"], \"cqeutmean\", \"cqeutselect\", filt)\n",
    "means, randlist = getcomp_scatter(bigres, [\"cqeut\"], \"cqeutmean\", \"cqeutrandom\", filt)\n",
    "means, maxes = getcomp_scatter(bigres, [\"cqeut\"], \"cqeutmean\", \"cqeutmax\", filt)\n",
    "diffs = [maxes[i]-selected[i] for i in range(len(maxes))]\n",
    "rdiffs = [maxes[i]-randlist[i] for i in range(len(maxes))]"
   ]
  },
  {
   "cell_type": "code",
   "execution_count": 163,
   "id": "3c6a6aea-c27a-4e56-a0ac-54a560d14129",
   "metadata": {},
   "outputs": [
    {
     "data": {
      "text/plain": [
       "(array([ 9., 13., 10.,  4.,  3.,  4.,  0.,  0.,  1.,  1.]),\n",
       " array([0.01778781, 0.08811022, 0.15843263, 0.22875503, 0.29907744,\n",
       "        0.36939985, 0.43972225, 0.51004466, 0.58036706, 0.65068947,\n",
       "        0.72101188]),\n",
       " <BarContainer object of 10 artists>)"
      ]
     },
     "execution_count": 163,
     "metadata": {},
     "output_type": "execute_result"
    },
    {
     "data": {
      "image/png": "[encoded data removed]",
      "text/plain": [
       "<Figure size 432x288 with 1 Axes>"
      ]
     },
     "metadata": {
      "needs_background": "light"
     },
     "output_type": "display_data"
    }
   ],
   "source": [
    "plt.hist(diffs)"
   ]
  },
  {
   "cell_type": "code",
   "execution_count": 164,
   "id": "ef0ed368-2668-4596-b23c-a6cca0edae42",
   "metadata": {},
   "outputs": [
    {
     "name": "stdout",
     "output_type": "stream",
     "text": [
      "0.21618366175227696\n",
      "0.19947809444533454\n"
     ]
    }
   ],
   "source": [
    "print(sum(rdiffs)/len(rdiffs))\n",
    "print(sum(diffs)/len(diffs))"
   ]
  },
  {
   "cell_type": "code",
   "execution_count": 136,
   "id": "b4b5166a-0ac0-4f17-94c7-a6817e9bd6b0",
   "metadata": {},
   "outputs": [
    {
     "data": {
      "text/plain": [
       "<matplotlib.collections.PathCollection at 0x7f3cc511fcd0>"
      ]
     },
     "execution_count": 136,
     "metadata": {},
     "output_type": "execute_result"
    },
    {
     "data": {
      "image/png": "[encoded data removed]",
      "text/plain": [
       "<Figure size 432x288 with 1 Axes>"
      ]
     },
     "metadata": {
      "needs_background": "light"
     },
     "output_type": "display_data"
    }
   ],
   "source": [
    "fig, ax = plt.subplots()\n",
    "ax.axline((0, 0), slope=1)\n",
    "ax.scatter(means, selected, color='r')\n",
    "ax.scatter(means, maxes, color='g')\n",
    "ax.scatter(means, randlist, color='b')"
   ]
  },
  {
   "cell_type": "code",
   "execution_count": 98,
   "id": "59e9f45b-a763-4fe9-9d2b-bf03f100efcb",
   "metadata": {},
   "outputs": [
    {
     "data": {
      "text/plain": [
       "0.5750998928652782"
      ]
     },
     "execution_count": 98,
     "metadata": {},
     "output_type": "execute_result"
    }
   ],
   "source": [
    "sum(utbest)/len(utbest)"
   ]
  },
  {
   "cell_type": "code",
   "execution_count": 32,
   "id": "fe230929-de4c-4e0f-8860-ed0211ad67c3",
   "metadata": {},
   "outputs": [
    {
     "data": {
      "text/plain": [
       "Unnamed: 0                                                      0\n",
       "Unnamed: 0.1                                                    0\n",
       "src             Après tout, en tant que journaliste d'investig...\n",
       "hyp             <s> Après tout, en tant que journaliste d'inve...\n",
       "ref             After all, as a campaigning investigative jour...\n",
       "ahyp             After all, as an investigative reporter in th...\n",
       "scos                                                     0.334722\n",
       "Name: 0, dtype: object"
      ]
     },
     "execution_count": 32,
     "metadata": {},
     "output_type": "execute_result"
    }
   ],
   "source": [
    "lpredsall.loc[0]"
   ]
  },
  {
   "cell_type": "code",
   "execution_count": null,
   "id": "a86ddc7a-da73-46c1-b68f-7f56a909186a",
   "metadata": {},
   "outputs": [],
   "source": [
    "#hyps, cqe, posthoc, comet, cqeut =  generate_scores(\"fr-en\", 0)"
   ]
  },
  {
   "cell_type": "code",
   "execution_count": 6,
   "id": "5bc42278-213f-4c03-ab0f-7c4efc74e702",
   "metadata": {},
   "outputs": [],
   "source": [
    "# ahyps, cqe, posthoc, comet, cqeut, lens\n",
    "# bigres = genmany(\"fr-en\")\n",
    "# using loaded\n",
    "with open('bigreslattice.pickle', 'rb') as handle:\n",
    "    bigres = pickle.load(handle)"
   ]
  },
  {
   "cell_type": "code",
   "execution_count": 24,
   "id": "15f1c5a3-0669-4cff-8384-c8421fc0b7c1",
   "metadata": {},
   "outputs": [],
   "source": []
  },
  {
   "cell_type": "code",
   "execution_count": 27,
   "id": "1b4ad66e-698a-4442-a428-74ec73e57ded",
   "metadata": {},
   "outputs": [
    {
     "data": {
      "text/plain": [
       "' As Iran sought to extend its influence and advance its interests, as well as those of its Shi a allies, talks with the Security Council came to be closely linked to its region-wide ambition s.'"
      ]
     },
     "execution_count": 27,
     "metadata": {},
     "output_type": "execute_result"
    }
   ],
   "source": [
    "latvals1['hyps'][-1]"
   ]
  },
  {
   "cell_type": "code",
   "execution_count": null,
   "id": "7fb26e85-2d23-4587-9239-17f9ee688366",
   "metadata": {},
   "outputs": [],
   "source": [
    "#with open('bigreslattice.pickle', 'wb') as handle:\n",
    "#    pickle.dump(bigres, handle)"
   ]
  },
  {
   "cell_type": "code",
   "execution_count": 12,
   "id": "0b2efae8-e4fe-498f-8cc0-47f7cf3646bf",
   "metadata": {},
   "outputs": [
    {
     "data": {
      "text/plain": [
       "0.6277338862419128"
      ]
     },
     "execution_count": 12,
     "metadata": {},
     "output_type": "execute_result"
    }
   ],
   "source": [
    "cqeut[-1]"
   ]
  },
  {
   "cell_type": "code",
   "execution_count": null,
   "id": "bf11c421-53d7-43e7-8138-8287595633f3",
   "metadata": {},
   "outputs": [],
   "source": []
  }
 ],
 "metadata": {
  "kernelspec": {
   "display_name": "Python 3 (ipykernel)",
   "language": "python",
   "name": "python3"
  },
  "language_info": {
   "codemirror_mode": {
    "name": "ipython",
    "version": 3
   },
   "file_extension": ".py",
   "mimetype": "text/x-python",
   "name": "python",
   "nbconvert_exporter": "python",
   "pygments_lexer": "ipython3",
   "version": "3.8.12"
  }
 },
 "nbformat": 4,
 "nbformat_minor": 5
}
