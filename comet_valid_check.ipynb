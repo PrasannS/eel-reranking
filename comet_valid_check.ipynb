{
 "cells": [
  {
   "cell_type": "code",
   "execution_count": 1,
   "id": "ce151351-4c77-4827-8c5f-252e4e98f5f5",
   "metadata": {},
   "outputs": [
    {
     "name": "stderr",
     "output_type": "stream",
     "text": [
      "2022-12-03 18:12:13.471028: W tensorflow/stream_executor/platform/default/dso_loader.cc:64] Could not load dynamic library 'libcudart.so.11.0'; dlerror: libcudart.so.11.0: cannot open shared object file: No such file or directory\n",
      "2022-12-03 18:12:13.471050: I tensorflow/stream_executor/cuda/cudart_stub.cc:29] Ignore above cudart dlerror if you do not have a GPU set up on your machine.\n"
     ]
    }
   ],
   "source": [
    "from mt_scores import get_scores_auto\n",
    "import pandas as pd"
   ]
  },
  {
   "cell_type": "code",
   "execution_count": 2,
   "id": "4b8b938e-2db7-4a3a-8079-5d5424912fde",
   "metadata": {},
   "outputs": [],
   "source": [
    "vdata = pd.read_csv(\"COMET/data/2017-da.csv\")\n",
    "rrdata = pd.read_csv(\"COMET/data/2017-daRR.csv\")"
   ]
  },
  {
   "cell_type": "code",
   "execution_count": 20,
   "id": "440c3532-f601-40fb-ae4c-6b1d73ab63a1",
   "metadata": {},
   "outputs": [
    {
     "data": {
      "text/plain": [
       "4856"
      ]
     },
     "execution_count": 20,
     "metadata": {},
     "output_type": "execute_result"
    }
   ],
   "source": [
    "len(rrdata['src'].unique())"
   ]
  },
  {
   "cell_type": "code",
   "execution_count": 21,
   "id": "1ecf377b-77f2-4d66-bc81-e87c99e5ad76",
   "metadata": {},
   "outputs": [
    {
     "data": {
      "text/plain": [
       "43010"
      ]
     },
     "execution_count": 21,
     "metadata": {},
     "output_type": "execute_result"
    }
   ],
   "source": [
    "len(rrdata)"
   ]
  },
  {
   "cell_type": "code",
   "execution_count": 13,
   "id": "be65a628-1635-4d46-b254-bd5887674a98",
   "metadata": {},
   "outputs": [
    {
     "data": {
      "text/html": [
       "<div>\n",
       "<style scoped>\n",
       "    .dataframe tbody tr th:only-of-type {\n",
       "        vertical-align: middle;\n",
       "    }\n",
       "\n",
       "    .dataframe tbody tr th {\n",
       "        vertical-align: top;\n",
       "    }\n",
       "\n",
       "    .dataframe thead th {\n",
       "        text-align: right;\n",
       "    }\n",
       "</style>\n",
       "<table border=\"1\" class=\"dataframe\">\n",
       "  <thead>\n",
       "    <tr style=\"text-align: right;\">\n",
       "      <th></th>\n",
       "      <th>data</th>\n",
       "      <th>lp</th>\n",
       "      <th>src</th>\n",
       "      <th>ref</th>\n",
       "      <th>better</th>\n",
       "      <th>worse</th>\n",
       "      <th>better_z_score</th>\n",
       "      <th>worse_z_score</th>\n",
       "      <th>better.model</th>\n",
       "      <th>worse.model</th>\n",
       "      <th>bestmodel</th>\n",
       "    </tr>\n",
       "  </thead>\n",
       "  <tbody>\n",
       "    <tr>\n",
       "      <th>0</th>\n",
       "      <td>newstest2019</td>\n",
       "      <td>en-cs</td>\n",
       "      <td>\"It is great to be able to get back on the pod...</td>\n",
       "      <td>\"Být znovu na stupních vítězů a slyšet hymnu j...</td>\n",
       "      <td>\"Je skvělé dostat se zpátky na pódium a slyšet...</td>\n",
       "      <td>„Je skvělé, že se dá získat na pódiu a slyšet ...</td>\n",
       "      <td>0.511147</td>\n",
       "      <td>-0.172492</td>\n",
       "      <td>LIUM-FNMT.4852</td>\n",
       "      <td>tuning-task-afrl_4gb.sgm.0</td>\n",
       "      <td>LIUM-FNMT.4852</td>\n",
       "    </tr>\n",
       "    <tr>\n",
       "      <th>1</th>\n",
       "      <td>newstest2019</td>\n",
       "      <td>en-cs</td>\n",
       "      <td>\"It is great to be able to get back on the pod...</td>\n",
       "      <td>\"Být znovu na stupních vítězů a slyšet hymnu j...</td>\n",
       "      <td>„Je skvělé, že se dá získat na pódiu a slyšet ...</td>\n",
       "      <td>\"Je skvělé umět se vrátit na pódium a slyšet n...</td>\n",
       "      <td>-0.172492</td>\n",
       "      <td>-0.247783</td>\n",
       "      <td>tuning-task-afrl_4gb.sgm.0</td>\n",
       "      <td>LIUM-NMT.4947</td>\n",
       "      <td>tuning-task-afrl_4gb.sgm.0</td>\n",
       "    </tr>\n",
       "    <tr>\n",
       "      <th>2</th>\n",
       "      <td>newstest2019</td>\n",
       "      <td>en-cs</td>\n",
       "      <td>\"It is great to be able to get back on the pod...</td>\n",
       "      <td>\"Být znovu na stupních vítězů a slyšet hymnu j...</td>\n",
       "      <td>„Je skvělé, že se dá na pódium vrátit a slyšet...</td>\n",
       "      <td>\"Je skvělé umět se vrátit na pódium a slyšet n...</td>\n",
       "      <td>0.123960</td>\n",
       "      <td>-0.247783</td>\n",
       "      <td>tuning-task-ufal_4gb.sgm.0</td>\n",
       "      <td>LIUM-NMT.4947</td>\n",
       "      <td>tuning-task-ufal_4gb.sgm.0</td>\n",
       "    </tr>\n",
       "    <tr>\n",
       "      <th>3</th>\n",
       "      <td>newstest2019</td>\n",
       "      <td>en-cs</td>\n",
       "      <td>\"It is great to be able to get back on the pod...</td>\n",
       "      <td>\"Být znovu na stupních vítězů a slyšet hymnu j...</td>\n",
       "      <td>\"Je skvělé dostat se zpátky na pódium a slyšet...</td>\n",
       "      <td>„Je skvělé, že se může dostat na pódium a slyš...</td>\n",
       "      <td>0.511147</td>\n",
       "      <td>-0.538575</td>\n",
       "      <td>LIUM-FNMT.4852</td>\n",
       "      <td>tuning-task-afrl_8gb.sgm.0</td>\n",
       "      <td>LIUM-FNMT.4852</td>\n",
       "    </tr>\n",
       "    <tr>\n",
       "      <th>4</th>\n",
       "      <td>newstest2019</td>\n",
       "      <td>en-cs</td>\n",
       "      <td>\"It is great to be able to get back on the pod...</td>\n",
       "      <td>\"Být znovu na stupních vítězů a slyšet hymnu j...</td>\n",
       "      <td>\"Je skvělé dostat se zpátky na pódium a slyšet...</td>\n",
       "      <td>\"Je skvělé umět se vrátit na pódium a slyšet n...</td>\n",
       "      <td>0.511147</td>\n",
       "      <td>-0.247783</td>\n",
       "      <td>LIUM-FNMT.4852</td>\n",
       "      <td>LIUM-NMT.4947</td>\n",
       "      <td>LIUM-FNMT.4852</td>\n",
       "    </tr>\n",
       "    <tr>\n",
       "      <th>5</th>\n",
       "      <td>newstest2019</td>\n",
       "      <td>en-cs</td>\n",
       "      <td>\"It is great to be able to get back on the pod...</td>\n",
       "      <td>\"Být znovu na stupních vítězů a slyšet hymnu j...</td>\n",
       "      <td>„Je skvělé, že jsme se mohli vrátit na pódium ...</td>\n",
       "      <td>\"Je skvělé umět se vrátit na pódium a slyšet n...</td>\n",
       "      <td>0.417442</td>\n",
       "      <td>-0.247783</td>\n",
       "      <td>CU-Chimera.4886</td>\n",
       "      <td>LIUM-NMT.4947</td>\n",
       "      <td>CU-Chimera.4886</td>\n",
       "    </tr>\n",
       "    <tr>\n",
       "      <th>6</th>\n",
       "      <td>newstest2019</td>\n",
       "      <td>en-cs</td>\n",
       "      <td>\"It is great to be able to get back on the pod...</td>\n",
       "      <td>\"Být znovu na stupních vítězů a slyšet hymnu j...</td>\n",
       "      <td>„Je skvělé, že se zase podaří se vrátit na pód...</td>\n",
       "      <td>\"Je skvělé umět se vrátit na pódium a slyšet n...</td>\n",
       "      <td>0.258976</td>\n",
       "      <td>-0.247783</td>\n",
       "      <td>tuning-task-denisov_4gb.sgm.0</td>\n",
       "      <td>LIUM-NMT.4947</td>\n",
       "      <td>tuning-task-denisov_4gb.sgm.0</td>\n",
       "    </tr>\n",
       "    <tr>\n",
       "      <th>7</th>\n",
       "      <td>newstest2019</td>\n",
       "      <td>en-cs</td>\n",
       "      <td>\"It is great to be able to get back on the pod...</td>\n",
       "      <td>\"Být znovu na stupních vítězů a slyšet hymnu j...</td>\n",
       "      <td>„Je skvělé, že se k němu dostanu zpátky na pód...</td>\n",
       "      <td>\"Je skvělé umět se vrátit na pódium a slyšet n...</td>\n",
       "      <td>0.139810</td>\n",
       "      <td>-0.247783</td>\n",
       "      <td>tuning-task-baseline_8gb.sgm.0</td>\n",
       "      <td>LIUM-NMT.4947</td>\n",
       "      <td>tuning-task-baseline_8gb.sgm.0</td>\n",
       "    </tr>\n",
       "  </tbody>\n",
       "</table>\n",
       "</div>"
      ],
      "text/plain": [
       "           data     lp                                                src  \\\n",
       "0  newstest2019  en-cs  \"It is great to be able to get back on the pod...   \n",
       "1  newstest2019  en-cs  \"It is great to be able to get back on the pod...   \n",
       "2  newstest2019  en-cs  \"It is great to be able to get back on the pod...   \n",
       "3  newstest2019  en-cs  \"It is great to be able to get back on the pod...   \n",
       "4  newstest2019  en-cs  \"It is great to be able to get back on the pod...   \n",
       "5  newstest2019  en-cs  \"It is great to be able to get back on the pod...   \n",
       "6  newstest2019  en-cs  \"It is great to be able to get back on the pod...   \n",
       "7  newstest2019  en-cs  \"It is great to be able to get back on the pod...   \n",
       "\n",
       "                                                 ref  \\\n",
       "0  \"Být znovu na stupních vítězů a slyšet hymnu j...   \n",
       "1  \"Být znovu na stupních vítězů a slyšet hymnu j...   \n",
       "2  \"Být znovu na stupních vítězů a slyšet hymnu j...   \n",
       "3  \"Být znovu na stupních vítězů a slyšet hymnu j...   \n",
       "4  \"Být znovu na stupních vítězů a slyšet hymnu j...   \n",
       "5  \"Být znovu na stupních vítězů a slyšet hymnu j...   \n",
       "6  \"Být znovu na stupních vítězů a slyšet hymnu j...   \n",
       "7  \"Být znovu na stupních vítězů a slyšet hymnu j...   \n",
       "\n",
       "                                              better  \\\n",
       "0  \"Je skvělé dostat se zpátky na pódium a slyšet...   \n",
       "1  „Je skvělé, že se dá získat na pódiu a slyšet ...   \n",
       "2  „Je skvělé, že se dá na pódium vrátit a slyšet...   \n",
       "3  \"Je skvělé dostat se zpátky na pódium a slyšet...   \n",
       "4  \"Je skvělé dostat se zpátky na pódium a slyšet...   \n",
       "5  „Je skvělé, že jsme se mohli vrátit na pódium ...   \n",
       "6  „Je skvělé, že se zase podaří se vrátit na pód...   \n",
       "7  „Je skvělé, že se k němu dostanu zpátky na pód...   \n",
       "\n",
       "                                               worse  better_z_score  \\\n",
       "0  „Je skvělé, že se dá získat na pódiu a slyšet ...        0.511147   \n",
       "1  \"Je skvělé umět se vrátit na pódium a slyšet n...       -0.172492   \n",
       "2  \"Je skvělé umět se vrátit na pódium a slyšet n...        0.123960   \n",
       "3  „Je skvělé, že se může dostat na pódium a slyš...        0.511147   \n",
       "4  \"Je skvělé umět se vrátit na pódium a slyšet n...        0.511147   \n",
       "5  \"Je skvělé umět se vrátit na pódium a slyšet n...        0.417442   \n",
       "6  \"Je skvělé umět se vrátit na pódium a slyšet n...        0.258976   \n",
       "7  \"Je skvělé umět se vrátit na pódium a slyšet n...        0.139810   \n",
       "\n",
       "   worse_z_score                    better.model                 worse.model  \\\n",
       "0      -0.172492                  LIUM-FNMT.4852  tuning-task-afrl_4gb.sgm.0   \n",
       "1      -0.247783      tuning-task-afrl_4gb.sgm.0               LIUM-NMT.4947   \n",
       "2      -0.247783      tuning-task-ufal_4gb.sgm.0               LIUM-NMT.4947   \n",
       "3      -0.538575                  LIUM-FNMT.4852  tuning-task-afrl_8gb.sgm.0   \n",
       "4      -0.247783                  LIUM-FNMT.4852               LIUM-NMT.4947   \n",
       "5      -0.247783                 CU-Chimera.4886               LIUM-NMT.4947   \n",
       "6      -0.247783   tuning-task-denisov_4gb.sgm.0               LIUM-NMT.4947   \n",
       "7      -0.247783  tuning-task-baseline_8gb.sgm.0               LIUM-NMT.4947   \n",
       "\n",
       "                        bestmodel  \n",
       "0                  LIUM-FNMT.4852  \n",
       "1      tuning-task-afrl_4gb.sgm.0  \n",
       "2      tuning-task-ufal_4gb.sgm.0  \n",
       "3                  LIUM-FNMT.4852  \n",
       "4                  LIUM-FNMT.4852  \n",
       "5                 CU-Chimera.4886  \n",
       "6   tuning-task-denisov_4gb.sgm.0  \n",
       "7  tuning-task-baseline_8gb.sgm.0  "
      ]
     },
     "execution_count": 13,
     "metadata": {},
     "output_type": "execute_result"
    }
   ],
   "source": [
    "rrdata[rrdata['src']==t]"
   ]
  },
  {
   "cell_type": "code",
   "execution_count": 12,
   "id": "a7a5b55e-57a5-419a-aa67-8d452247f88c",
   "metadata": {},
   "outputs": [
    {
     "data": {
      "text/html": [
       "<div>\n",
       "<style scoped>\n",
       "    .dataframe tbody tr th:only-of-type {\n",
       "        vertical-align: middle;\n",
       "    }\n",
       "\n",
       "    .dataframe tbody tr th {\n",
       "        vertical-align: top;\n",
       "    }\n",
       "\n",
       "    .dataframe thead th {\n",
       "        text-align: right;\n",
       "    }\n",
       "</style>\n",
       "<table border=\"1\" class=\"dataframe\">\n",
       "  <thead>\n",
       "    <tr style=\"text-align: right;\">\n",
       "      <th></th>\n",
       "      <th>lp</th>\n",
       "      <th>src</th>\n",
       "      <th>mt</th>\n",
       "      <th>ref</th>\n",
       "      <th>score</th>\n",
       "      <th>raw_score</th>\n",
       "      <th>annotators</th>\n",
       "    </tr>\n",
       "  </thead>\n",
       "  <tbody>\n",
       "    <tr>\n",
       "      <th>5376</th>\n",
       "      <td>en-cs</td>\n",
       "      <td>\"It is great to be able to get back on the pod...</td>\n",
       "      <td>„Je skvělé, že se dá získat na pódiu a slyšet ...</td>\n",
       "      <td>\"Být znovu na stupních vítězů a slyšet hymnu j...</td>\n",
       "      <td>-0.172492</td>\n",
       "      <td>51.0</td>\n",
       "      <td>1</td>\n",
       "    </tr>\n",
       "    <tr>\n",
       "      <th>6050</th>\n",
       "      <td>en-cs</td>\n",
       "      <td>\"It is great to be able to get back on the pod...</td>\n",
       "      <td>\"Je skvělé dostat se zpátky na pódium a slyšet...</td>\n",
       "      <td>\"Být znovu na stupních vítězů a slyšet hymnu j...</td>\n",
       "      <td>0.511147</td>\n",
       "      <td>80.0</td>\n",
       "      <td>1</td>\n",
       "    </tr>\n",
       "    <tr>\n",
       "      <th>9955</th>\n",
       "      <td>en-cs</td>\n",
       "      <td>\"It is great to be able to get back on the pod...</td>\n",
       "      <td>„Je skvělé, že se může dostat na pódium a slyš...</td>\n",
       "      <td>\"Být znovu na stupních vítězů a slyšet hymnu j...</td>\n",
       "      <td>-0.538575</td>\n",
       "      <td>41.0</td>\n",
       "      <td>1</td>\n",
       "    </tr>\n",
       "    <tr>\n",
       "      <th>10888</th>\n",
       "      <td>en-cs</td>\n",
       "      <td>\"It is great to be able to get back on the pod...</td>\n",
       "      <td>\"Je skvělé umět se vrátit na pódium a slyšet n...</td>\n",
       "      <td>\"Být znovu na stupních vítězů a slyšet hymnu j...</td>\n",
       "      <td>-0.247783</td>\n",
       "      <td>23.0</td>\n",
       "      <td>1</td>\n",
       "    </tr>\n",
       "    <tr>\n",
       "      <th>11684</th>\n",
       "      <td>en-cs</td>\n",
       "      <td>\"It is great to be able to get back on the pod...</td>\n",
       "      <td>„Je skvělé, že se k němu dostanu zpátky na pód...</td>\n",
       "      <td>\"Být znovu na stupních vítězů a slyšet hymnu j...</td>\n",
       "      <td>0.139810</td>\n",
       "      <td>56.0</td>\n",
       "      <td>1</td>\n",
       "    </tr>\n",
       "    <tr>\n",
       "      <th>15087</th>\n",
       "      <td>en-cs</td>\n",
       "      <td>\"It is great to be able to get back on the pod...</td>\n",
       "      <td>„Je skvělé, že jsme se mohli vrátit na pódium ...</td>\n",
       "      <td>\"Být znovu na stupních vítězů a slyšet hymnu j...</td>\n",
       "      <td>0.417442</td>\n",
       "      <td>59.0</td>\n",
       "      <td>1</td>\n",
       "    </tr>\n",
       "    <tr>\n",
       "      <th>17421</th>\n",
       "      <td>en-cs</td>\n",
       "      <td>\"It is great to be able to get back on the pod...</td>\n",
       "      <td>„Je skvělé, že se zase podaří se vrátit na pód...</td>\n",
       "      <td>\"Být znovu na stupních vítězů a slyšet hymnu j...</td>\n",
       "      <td>0.258976</td>\n",
       "      <td>59.0</td>\n",
       "      <td>2</td>\n",
       "    </tr>\n",
       "    <tr>\n",
       "      <th>19784</th>\n",
       "      <td>en-cs</td>\n",
       "      <td>\"It is great to be able to get back on the pod...</td>\n",
       "      <td>„Je skvělé, že se dá na pódium vrátit a slyšet...</td>\n",
       "      <td>\"Být znovu na stupních vítězů a slyšet hymnu j...</td>\n",
       "      <td>0.123960</td>\n",
       "      <td>62.0</td>\n",
       "      <td>1</td>\n",
       "    </tr>\n",
       "  </tbody>\n",
       "</table>\n",
       "</div>"
      ],
      "text/plain": [
       "          lp                                                src  \\\n",
       "5376   en-cs  \"It is great to be able to get back on the pod...   \n",
       "6050   en-cs  \"It is great to be able to get back on the pod...   \n",
       "9955   en-cs  \"It is great to be able to get back on the pod...   \n",
       "10888  en-cs  \"It is great to be able to get back on the pod...   \n",
       "11684  en-cs  \"It is great to be able to get back on the pod...   \n",
       "15087  en-cs  \"It is great to be able to get back on the pod...   \n",
       "17421  en-cs  \"It is great to be able to get back on the pod...   \n",
       "19784  en-cs  \"It is great to be able to get back on the pod...   \n",
       "\n",
       "                                                      mt  \\\n",
       "5376   „Je skvělé, že se dá získat na pódiu a slyšet ...   \n",
       "6050   \"Je skvělé dostat se zpátky na pódium a slyšet...   \n",
       "9955   „Je skvělé, že se může dostat na pódium a slyš...   \n",
       "10888  \"Je skvělé umět se vrátit na pódium a slyšet n...   \n",
       "11684  „Je skvělé, že se k němu dostanu zpátky na pód...   \n",
       "15087  „Je skvělé, že jsme se mohli vrátit na pódium ...   \n",
       "17421  „Je skvělé, že se zase podaří se vrátit na pód...   \n",
       "19784  „Je skvělé, že se dá na pódium vrátit a slyšet...   \n",
       "\n",
       "                                                     ref     score  raw_score  \\\n",
       "5376   \"Být znovu na stupních vítězů a slyšet hymnu j... -0.172492       51.0   \n",
       "6050   \"Být znovu na stupních vítězů a slyšet hymnu j...  0.511147       80.0   \n",
       "9955   \"Být znovu na stupních vítězů a slyšet hymnu j... -0.538575       41.0   \n",
       "10888  \"Být znovu na stupních vítězů a slyšet hymnu j... -0.247783       23.0   \n",
       "11684  \"Být znovu na stupních vítězů a slyšet hymnu j...  0.139810       56.0   \n",
       "15087  \"Být znovu na stupních vítězů a slyšet hymnu j...  0.417442       59.0   \n",
       "17421  \"Být znovu na stupních vítězů a slyšet hymnu j...  0.258976       59.0   \n",
       "19784  \"Být znovu na stupních vítězů a slyšet hymnu j...  0.123960       62.0   \n",
       "\n",
       "       annotators  \n",
       "5376            1  \n",
       "6050            1  \n",
       "9955            1  \n",
       "10888           1  \n",
       "11684           1  \n",
       "15087           1  \n",
       "17421           2  \n",
       "19784           1  "
      ]
     },
     "execution_count": 12,
     "metadata": {},
     "output_type": "execute_result"
    }
   ],
   "source": [
    "vdata[vdata['src']==t]"
   ]
  },
  {
   "cell_type": "code",
   "execution_count": 7,
   "id": "1e9305db-7555-4416-b622-63bd228f8f99",
   "metadata": {},
   "outputs": [],
   "source": [
    "hyps, srcs, refs = list(vdata['mt']), list(vdata['src']), list(vdata['ref'])"
   ]
  },
  {
   "cell_type": "code",
   "execution_count": 8,
   "id": "0acaf0d4-b0cc-4143-9193-754a814ad1c2",
   "metadata": {},
   "outputs": [
    {
     "name": "stderr",
     "output_type": "stream",
     "text": [
      "wmt20-comet-qe-da is already in cache.\n",
      "Some weights of the model checkpoint at xlm-roberta-large were not used when initializing XLMRobertaModel: ['roberta.pooler.dense.bias', 'lm_head.layer_norm.weight', 'lm_head.layer_norm.bias', 'lm_head.decoder.weight', 'lm_head.dense.weight', 'roberta.pooler.dense.weight', 'lm_head.dense.bias', 'lm_head.bias']\n",
      "- This IS expected if you are initializing XLMRobertaModel from the checkpoint of a model trained on another task or with another architecture (e.g. initializing a BertForSequenceClassification model from a BertForPreTraining model).\n",
      "- This IS NOT expected if you are initializing XLMRobertaModel from the checkpoint of a model that you expect to be exactly identical (initializing a BertForSequenceClassification model from a BertForSequenceClassification model).\n",
      "Encoder model frozen.\n",
      "GPU available: True, used: True\n",
      "TPU available: False, using: 0 TPU cores\n",
      "IPU available: False, using: 0 IPUs\n",
      "HPU available: False, using: 0 HPUs\n",
      "LOCAL_RANK: 0 - CUDA_VISIBLE_DEVICES: [0,1,2,3]\n",
      "Predicting DataLoader 0: 100%|██████████████████████████████████████████████████████████████████| 2329/2329 [10:56<00:00,  3.55it/s]\n"
     ]
    },
    {
     "name": "stdout",
     "output_type": "stream",
     "text": [
      "TOOK TIME  660.12\n"
     ]
    }
   ],
   "source": [
    "cqepred = cqe = get_scores_auto(hyps, srcs, refs, \"cqe\", \"\")"
   ]
  },
  {
   "cell_type": "code",
   "execution_count": 9,
   "id": "4835c36f-1b98-4de5-9ac0-c1c8e0fb2f77",
   "metadata": {},
   "outputs": [],
   "source": [
    "#vdata['cqe20'] = cqepred\n",
    "#vdata.to_csv(\"COMET/data/FULLDAVALID.csv\")"
   ]
  },
  {
   "cell_type": "code",
   "execution_count": 16,
   "id": "67d5e035-9189-441d-961e-270877cfcdce",
   "metadata": {},
   "outputs": [],
   "source": [
    "from scipy.stats import pearsonr, spearmanr, kendalltau\n"
   ]
  },
  {
   "cell_type": "code",
   "execution_count": 17,
   "id": "8812aa57-3c08-41ea-8688-a18ecbd08748",
   "metadata": {},
   "outputs": [
    {
     "name": "stdout",
     "output_type": "stream",
     "text": [
      "PearsonRResult(statistic=0.4310995827623125, pvalue=0.0)\n"
     ]
    }
   ],
   "source": [
    "print(pearsonr(vdata['score'], vdata['cqe20']))"
   ]
  },
  {
   "cell_type": "code",
   "execution_count": 18,
   "id": "930fe258-859b-408d-9178-fbecf71e9ab1",
   "metadata": {},
   "outputs": [
    {
     "name": "stdout",
     "output_type": "stream",
     "text": [
      "SpearmanrResult(correlation=0.4789122774438084, pvalue=0.0)\n"
     ]
    }
   ],
   "source": [
    "print(spearmanr(vdata['score'], vdata['cqe20']))"
   ]
  },
  {
   "cell_type": "code",
   "execution_count": 19,
   "id": "f02f7ca7-8278-4bef-bc7f-da971e334577",
   "metadata": {},
   "outputs": [
    {
     "name": "stdout",
     "output_type": "stream",
     "text": [
      "KendalltauResult(correlation=0.333203824717352, pvalue=0.0)\n"
     ]
    }
   ],
   "source": [
    "print(kendalltau(vdata['score'], vdata['cqe20']))"
   ]
  },
  {
   "cell_type": "code",
   "execution_count": null,
   "id": "bdf21225-a707-4bef-ace5-a8048ce9c4a8",
   "metadata": {},
   "outputs": [],
   "source": [
    "# our model \n",
    "# - kendall .22\n",
    "# - spearman .33\n",
    "# - pearson .32"
   ]
  }
 ],
 "metadata": {
  "kernelspec": {
   "display_name": "Python 3 (ipykernel)",
   "language": "python",
   "name": "python3"
  },
  "language_info": {
   "codemirror_mode": {
    "name": "ipython",
    "version": 3
   },
   "file_extension": ".py",
   "mimetype": "text/x-python",
   "name": "python",
   "nbconvert_exporter": "python",
   "pygments_lexer": "ipython3",
   "version": "3.8.12"
  }
 },
 "nbformat": 4,
 "nbformat_minor": 5
}
