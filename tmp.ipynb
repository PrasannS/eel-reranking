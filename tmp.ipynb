{
 "cells": [
  {
   "cell_type": "code",
   "execution_count": 1,
   "id": "1dac14e6-157b-49f6-8042-8c41714734fd",
   "metadata": {},
   "outputs": [
    {
     "name": "stderr",
     "output_type": "stream",
     "text": [
      "2023-01-09 12:24:19.545653: W tensorflow/stream_executor/platform/default/dso_loader.cc:64] Could not load dynamic library 'libcudart.so.11.0'; dlerror: libcudart.so.11.0: cannot open shared object file: No such file or directory\n",
      "2023-01-09 12:24:19.545696: I tensorflow/stream_executor/cuda/cudart_stub.cc:29] Ignore above cudart dlerror if you do not have a GPU set up on your machine.\n"
     ]
    }
   ],
   "source": [
    "import pandas as pd\n",
    "from transformers import AutoModel, AutoTokenizer\n",
    "import torch\n",
    "from transformers import T5ForConditionalGeneration, AutoConfig\n",
    "from parent_explore.stagewise_finetune.src.finetune_t5 import SummarizationModule\n",
    "import pickle\n",
    "import argparse\n",
    "import pytorch_lightning as pl\n",
    "import os"
   ]
  },
  {
   "cell_type": "code",
   "execution_count": 2,
   "id": "ac0d2998-3138-4141-a2e1-866a8e02fa80",
   "metadata": {},
   "outputs": [],
   "source": [
    "parser = argparse.ArgumentParser()\n",
    "parser = pl.Trainer.add_argparse_args(parser)\n",
    "parser = SummarizationModule.add_model_specific_args(parser, os.getcwd())"
   ]
  },
  {
   "cell_type": "code",
   "execution_count": 6,
   "id": "c31a4aa1-fabd-4c67-bfdc-972848ef9240",
   "metadata": {},
   "outputs": [],
   "source": [
    "inpargs = \"\"\"\n",
    "--data_dir=/mnt/data1/prasann/latticegen/lattice-generation/parent_explore/stagewise_finetune/pos/traindata \n",
    "--gpus 1 \n",
    "--learning_rate=3e-5 \n",
    "--output_dir=/mnt/data1/prasann/latticegen/lattice-generation/parent_explore/stagewise_finetune/src/ignore_tmp\n",
    "--train_batch_size 3 --eval_batch_size 3 \n",
    "--max_source_length=120 \n",
    "--max_target_length=100 \n",
    "--val_max_target_length=100 \n",
    "--checkpoint=/mnt/data1/prasann/latticegen/lattice-generation/parent_explore/stagewise_finetune/src/final_model_results/val_avg_bleu=61.9200-step_count=0.ckpt \n",
    "--test_max_target_length=100 \n",
    "--eval_max_gen_length=100 \n",
    "--model_name_or_path /mnt/data1/prasann/latticegen/lattice-generation/parent_explore/stagewise_finetune/src/final_model_results/best_tfmr \n",
    "--task translation \n",
    "--early_stopping_patience 15 \n",
    "--warmup_steps 2 \n",
    "--do_predict \n",
    "--lr_scheduler cosine_w_restarts \n",
    "--eval_beams 16\n",
    "\"\"\".split()"
   ]
  },
  {
   "cell_type": "code",
   "execution_count": 7,
   "id": "1c8254c2-b3e1-408e-b7f0-6cd5bf16c834",
   "metadata": {},
   "outputs": [],
   "source": [
    "args = parser.parse_args(inpargs)"
   ]
  },
  {
   "cell_type": "code",
   "execution_count": 8,
   "id": "6733350f-84fd-4832-848b-ba739528d70d",
   "metadata": {},
   "outputs": [
    {
     "name": "stderr",
     "output_type": "stream",
     "text": [
      "We have added 0 tokens\n"
     ]
    }
   ],
   "source": [
    "model = SummarizationModule(args)"
   ]
  },
  {
   "cell_type": "code",
   "execution_count": 20,
   "id": "eaa7921d-8a62-40b5-8f20-d850939d7e25",
   "metadata": {},
   "outputs": [],
   "source": [
    "dl = model.get_dataloader(\"test\", batch_size=1, shuffle=False)"
   ]
  },
  {
   "cell_type": "code",
   "execution_count": 16,
   "id": "562f9fdd-8458-4e72-986d-e6bb9e8068e0",
   "metadata": {},
   "outputs": [
    {
     "data": {
      "text/plain": [
       "{'input_ids': tensor([[  391, 10665,    12,  1566,    10,     3,    71,   291, 11823,  5735,\n",
       "              3, 32101,   690,     3, 28060,     3,    71,   291, 11823, 18001,\n",
       "              3,     2,     1,     1,     1,     1,     1,     1,     1,     1,\n",
       "              1,     1,     1,     1,     1,     1,     1,     1,     1,     1,\n",
       "              1,     1,     1,     1,     1,     1,     1,     1,     1,     1,\n",
       "              1,     1,     1,     1,     1,     1,     1,     1,     1,     1,\n",
       "              1,     1,     1,     1,     1,     1,     1,     1,     1,     1,\n",
       "              1,     1,     1,     1,     1,     1,     1,     1,     1,     1,\n",
       "              1,     1,     1,     1,     1,     1,     1,     1,     1,     1,\n",
       "              1,     1,     1,     1,     1,     1,     1,     1,     1,     1,\n",
       "              1,     1,     1,     1,     1,     1,     1,     1,     1,     1,\n",
       "              1,     1,     1,     1,     1,     1,     1,     1,     1]]),\n",
       " 'attention_mask': tensor([[1, 1, 1, 1, 1, 1, 1, 1, 1, 1, 1, 1, 1, 1, 1, 1, 1, 1, 1, 1, 1, 1, 0, 0,\n",
       "          0, 0, 0, 0, 0, 0, 0, 0, 0, 0, 0, 0, 0, 0, 0, 0, 0, 0, 0, 0, 0, 0, 0, 0,\n",
       "          0, 0, 0, 0, 0, 0, 0, 0, 0, 0, 0, 0, 0, 0, 0, 0, 0, 0, 0, 0, 0, 0, 0, 0,\n",
       "          0, 0, 0, 0, 0, 0, 0, 0, 0, 0, 0, 0, 0, 0, 0, 0, 0, 0, 0, 0, 0, 0, 0, 0,\n",
       "          0, 0, 0, 0, 0, 0, 0, 0, 0, 0, 0, 0, 0, 0, 0, 0, 0, 0, 0, 0, 0, 0, 0]]),\n",
       " 'role_ids': tensor([[0, 0, 0, 0, 0, 0, 3, 3, 3, 3, 3, 4, 4, 4, 4, 4, 5, 5, 5, 5, 5, 2, 1, 1,\n",
       "          1, 1, 1, 1, 1, 1, 1, 1, 1, 1, 1, 1, 1, 1, 1, 1, 1, 1, 1, 1, 1, 1, 1, 1,\n",
       "          1, 1, 1, 1, 1, 1, 1, 1, 1, 1, 1, 1, 1, 1, 1, 1, 1, 1, 1, 1, 1, 1, 1, 1,\n",
       "          1, 1, 1, 1, 1, 1, 1, 1, 1, 1, 1, 1, 1, 1, 1, 1, 1, 1, 1, 1, 1, 1, 1, 1,\n",
       "          1, 1, 1, 1, 1, 1, 1, 1, 1, 1, 1, 1, 1, 1, 1, 1, 1, 1, 1, 1, 1, 1, 1]]),\n",
       " 'tree_ids': tensor([[0, 0, 0, 0, 0, 0, 3, 3, 3, 3, 3, 3, 3, 3, 3, 3, 3, 3, 3, 3, 3, 2, 1, 1,\n",
       "          1, 1, 1, 1, 1, 1, 1, 1, 1, 1, 1, 1, 1, 1, 1, 1, 1, 1, 1, 1, 1, 1, 1, 1,\n",
       "          1, 1, 1, 1, 1, 1, 1, 1, 1, 1, 1, 1, 1, 1, 1, 1, 1, 1, 1, 1, 1, 1, 1, 1,\n",
       "          1, 1, 1, 1, 1, 1, 1, 1, 1, 1, 1, 1, 1, 1, 1, 1, 1, 1, 1, 1, 1, 1, 1, 1,\n",
       "          1, 1, 1, 1, 1, 1, 1, 1, 1, 1, 1, 1, 1, 1, 1, 1, 1, 1, 1, 1, 1, 1, 1]]),\n",
       " 'labels': tensor([[   37,    71,   291, 11823,    19,     8,  3761,    13,    71,   291,\n",
       "          11823,     6, 18001,     5,     1]])}"
      ]
     },
     "execution_count": 16,
     "metadata": {},
     "output_type": "execute_result"
    }
   ],
   "source": [
    "it = iter(dl)\n",
    "next(it)"
   ]
  },
  {
   "cell_type": "code",
   "execution_count": 3,
   "id": "12dc3ff0-b020-49c9-a712-e84d8ba551b0",
   "metadata": {},
   "outputs": [],
   "source": [
    "t5modcheck = torch.load(\"parent_explore/Stage-wise-Fine-tuning/src/final_model_results/val_avg_bleu=61.9200-step_count=0.ckpt\")"
   ]
  },
  {
   "cell_type": "code",
   "execution_count": null,
   "id": "e6d4b60d-76bc-4146-959f-fc4ed8f74642",
   "metadata": {},
   "outputs": [],
   "source": [
    "t5modcheck['state_dict'].keys()"
   ]
  },
  {
   "cell_type": "code",
   "execution_count": 2,
   "id": "3b847fb9-20af-451b-826d-06c572f4be6b",
   "metadata": {},
   "outputs": [],
   "source": [
    "exs = pd.read_csv(\"COMET/data/parentqe_train.csv\")"
   ]
  },
  {
   "cell_type": "code",
   "execution_count": 9,
   "id": "04f6d51d-78ab-4271-8c58-22ff2961c46b",
   "metadata": {},
   "outputs": [
    {
     "name": "stdout",
     "output_type": "stream",
     "text": [
      "Source:  [[\"S| A.E Dimitra Efxeinoupolis \", \" P| number Of Members \", \"O| 1500 \", 3], [\"S| A.E Dimitra Efxeinoupolis \", \" P| fullname \", \"O| A.E Dimitra Efxeinoupolis \", 3], [\"S| A.E Dimitra Efxeinoupolis \", \" P| ground \", \"O| Efxeinoupoli \", 3], [\"S| A.E Dimitra Efxeinoupolis \", \" P| season \", \"O| 2014 \", 3]]\n",
      "Hypothesis:  The full name of A.E Dimitra Efxeinoupolis is \"A.E Dimitra Efxeinoupolis\". Their ground is located in Efxeinoupoli and they competed in the 2014 season.\n",
      "Reference:  A.E. Dimitra Efxeinoupolis has 1500 members, played in the 2014 season and are located in the town of Efxeinoupoli.\n",
      "Score:  0.4398795783235993\n"
     ]
    }
   ],
   "source": [
    "ind = 2\n",
    "print(\"Source: \", exs.loc[ind]['src'])\n",
    "print(\"Hypothesis: \", exs.loc[ind]['mt'])\n",
    "print(\"Reference: \", exs.loc[ind]['ref'])\n",
    "print(\"Score: \", exs.loc[ind]['score'])"
   ]
  },
  {
   "cell_type": "code",
   "execution_count": null,
   "id": "441f0cad-a878-4b45-9d39-d991fb419b59",
   "metadata": {},
   "outputs": [],
   "source": [
    "mod = AutoModel.from_pretrained(\"parent_explore/plms-graph2text/webnlg-bart-base.ckpt\")"
   ]
  },
  {
   "cell_type": "code",
   "execution_count": 1,
   "id": "e8244639-9333-45fe-8e03-008a0824a150",
   "metadata": {},
   "outputs": [],
   "source": [
    "# do a sanity check in case our model might actually be a good re-ranker? "
   ]
  },
  {
   "cell_type": "code",
   "execution_count": 2,
   "id": "a4857232-c1fb-433b-a1c6-f98600dde616",
   "metadata": {},
   "outputs": [],
   "source": [
    "from encode_utils.mt_scores import get_scores_auto"
   ]
  },
  {
   "cell_type": "code",
   "execution_count": 21,
   "id": "d5283846-afca-4c69-acf0-0e3b1576727b",
   "metadata": {},
   "outputs": [],
   "source": [
    "rerdf = pd.read_csv(\"parent_explore/Stage-wise-Fine-tuning/parent-master/wnlg_rerank_test.csv\")"
   ]
  },
  {
   "cell_type": "code",
   "execution_count": 4,
   "id": "141dc700-3ba6-43dd-b533-db062da7f722",
   "metadata": {},
   "outputs": [],
   "source": [
    "hyps, srcs, refs = list(rerdf['mt']), list(rerdf['src']), list(rerdf['reference'])"
   ]
  },
  {
   "cell_type": "code",
   "execution_count": 5,
   "id": "d5230cae-5792-4853-b4b5-501e2e48a7c1",
   "metadata": {},
   "outputs": [
    {
     "name": "stdout",
     "output_type": "stream",
     "text": [
      "USING TABLE->TEXT MODEL\n"
     ]
    },
    {
     "name": "stderr",
     "output_type": "stream",
     "text": [
      "Some weights of the model checkpoint at facebook/bart-base were not used when initializing BartModel: ['final_logits_bias']\n",
      "- This IS expected if you are initializing BartModel from the checkpoint of a model trained on another task or with another architecture (e.g. initializing a BertForSequenceClassification model from a BertForPreTraining model).\n",
      "- This IS NOT expected if you are initializing BartModel from the checkpoint of a model that you expect to be exactly identical (initializing a BertForSequenceClassification model from a BertForSequenceClassification model).\n",
      "Encoder model frozen.\n",
      "Loading weights from /mnt/data1/prasann/latticegen/lattice-generation/COMET/lightning_logs/version_57/checkpoints/epoch=1-step=50000.ckpt.\n"
     ]
    },
    {
     "name": "stdout",
     "output_type": "stream",
     "text": [
      "using correct weight adjustments\n",
      "using model  bart-base\n",
      "FREEZE BART SHARED EMBEDS\n",
      "freeze embeds\n"
     ]
    },
    {
     "name": "stderr",
     "output_type": "stream",
     "text": [
      "GPU available: True, used: True\n",
      "TPU available: False, using: 0 TPU cores\n",
      "IPU available: False, using: 0 IPUs\n",
      "HPU available: False, using: 0 HPUs\n",
      "LOCAL_RANK: 0 - CUDA_VISIBLE_DEVICES: [0,1,2,3]\n",
      "Predicting DataLoader 0: 100%|██████████████████████████████████████████████████████████████████████| 931/931 [00:39<00:00, 23.80it/s]\n"
     ]
    },
    {
     "name": "stdout",
     "output_type": "stream",
     "text": [
      "TOOK TIME  39.74\n"
     ]
    }
   ],
   "source": [
    "parenqe_scos = get_scores_auto(hyps, srcs, refs, 'parentqe', \"parentqe\")"
   ]
  },
  {
   "cell_type": "code",
   "execution_count": 22,
   "id": "75bddf3e-1e5a-42af-9cfc-b49ad9a6b380",
   "metadata": {},
   "outputs": [],
   "source": [
    "rerdf['parentqe'] = parenqe_scos"
   ]
  },
  {
   "cell_type": "code",
   "execution_count": 23,
   "id": "e0c35eae-1872-4bcc-b880-6da1ea4eda6b",
   "metadata": {},
   "outputs": [
    {
     "data": {
      "text/html": [
       "<div>\n",
       "<style scoped>\n",
       "    .dataframe tbody tr th:only-of-type {\n",
       "        vertical-align: middle;\n",
       "    }\n",
       "\n",
       "    .dataframe tbody tr th {\n",
       "        vertical-align: top;\n",
       "    }\n",
       "\n",
       "    .dataframe thead th {\n",
       "        text-align: right;\n",
       "    }\n",
       "</style>\n",
       "<table border=\"1\" class=\"dataframe\">\n",
       "  <thead>\n",
       "    <tr style=\"text-align: right;\">\n",
       "      <th></th>\n",
       "      <th>Unnamed: 0</th>\n",
       "      <th>prec</th>\n",
       "      <th>fsco</th>\n",
       "      <th>recall</th>\n",
       "      <th>reference</th>\n",
       "      <th>src</th>\n",
       "      <th>mt</th>\n",
       "      <th>parentqe</th>\n",
       "    </tr>\n",
       "  </thead>\n",
       "  <tbody>\n",
       "    <tr>\n",
       "      <th>0</th>\n",
       "      <td>0</td>\n",
       "      <td>0.849522</td>\n",
       "      <td>0.852833</td>\n",
       "      <td>0.856169</td>\n",
       "      <td>Abilene, Texas is served by the Abilene region...</td>\n",
       "      <td>&lt;H&gt; Abilene Regional Airport &lt;R&gt; city Served &lt;...</td>\n",
       "      <td>Abilene Regional Airport serves the city of Ab...</td>\n",
       "      <td>0.659078</td>\n",
       "    </tr>\n",
       "    <tr>\n",
       "      <th>1</th>\n",
       "      <td>1</td>\n",
       "      <td>0.738795</td>\n",
       "      <td>0.731484</td>\n",
       "      <td>0.724316</td>\n",
       "      <td>Abilene, Texas is served by the Abilene region...</td>\n",
       "      <td>&lt;H&gt; Abilene Regional Airport &lt;R&gt; city Served &lt;...</td>\n",
       "      <td>Abilene Regional Airport serves Abilene, Texas.</td>\n",
       "      <td>0.785484</td>\n",
       "    </tr>\n",
       "    <tr>\n",
       "      <th>2</th>\n",
       "      <td>2</td>\n",
       "      <td>0.572253</td>\n",
       "      <td>0.416227</td>\n",
       "      <td>0.327055</td>\n",
       "      <td>Abilene, Texas is served by the Abilene region...</td>\n",
       "      <td>&lt;H&gt; Abilene Regional Airport &lt;R&gt; city Served &lt;...</td>\n",
       "      <td>Abilene regional airport serves the city of Ab...</td>\n",
       "      <td>0.555692</td>\n",
       "    </tr>\n",
       "    <tr>\n",
       "      <th>3</th>\n",
       "      <td>3</td>\n",
       "      <td>1.000000</td>\n",
       "      <td>1.000000</td>\n",
       "      <td>1.000000</td>\n",
       "      <td>Abilene, Texas is served by the Abilene region...</td>\n",
       "      <td>&lt;H&gt; Abilene Regional Airport &lt;R&gt; city Served &lt;...</td>\n",
       "      <td>Abilene Regional Airport serves the city of Ab...</td>\n",
       "      <td>0.640657</td>\n",
       "    </tr>\n",
       "    <tr>\n",
       "      <th>4</th>\n",
       "      <td>4</td>\n",
       "      <td>0.818039</td>\n",
       "      <td>0.836670</td>\n",
       "      <td>0.856169</td>\n",
       "      <td>Abilene, Texas is served by the Abilene region...</td>\n",
       "      <td>&lt;H&gt; Abilene Regional Airport &lt;R&gt; city Served &lt;...</td>\n",
       "      <td>The Abilene Regional Airport serves the city o...</td>\n",
       "      <td>0.672085</td>\n",
       "    </tr>\n",
       "    <tr>\n",
       "      <th>...</th>\n",
       "      <td>...</td>\n",
       "      <td>...</td>\n",
       "      <td>...</td>\n",
       "      <td>...</td>\n",
       "      <td>...</td>\n",
       "      <td>...</td>\n",
       "      <td>...</td>\n",
       "      <td>...</td>\n",
       "    </tr>\n",
       "    <tr>\n",
       "      <th>29787</th>\n",
       "      <td>29787</td>\n",
       "      <td>0.770897</td>\n",
       "      <td>0.769829</td>\n",
       "      <td>0.768765</td>\n",
       "      <td>Alfredo Zitarrosa died in Montevideo, Uruguay....</td>\n",
       "      <td>&lt;H&gt; Uruguay &lt;R&gt; leader Name &lt;T&gt; Raul Fernando ...</td>\n",
       "      <td>Alfredo Zitarrosa died in Montevideo, Uruguay....</td>\n",
       "      <td>0.581019</td>\n",
       "    </tr>\n",
       "    <tr>\n",
       "      <th>29788</th>\n",
       "      <td>29788</td>\n",
       "      <td>0.553238</td>\n",
       "      <td>0.587324</td>\n",
       "      <td>0.625885</td>\n",
       "      <td>Alfredo Zitarrosa died in Montevideo, Uruguay....</td>\n",
       "      <td>&lt;H&gt; Uruguay &lt;R&gt; leader Name &lt;T&gt; Raul Fernando ...</td>\n",
       "      <td>Alfredo Zitarrosa died in Montevideo, Uruguay....</td>\n",
       "      <td>0.579860</td>\n",
       "    </tr>\n",
       "    <tr>\n",
       "      <th>29789</th>\n",
       "      <td>29789</td>\n",
       "      <td>0.685944</td>\n",
       "      <td>0.727197</td>\n",
       "      <td>0.773730</td>\n",
       "      <td>Alfredo Zitarrosa died in Montevideo, Uruguay....</td>\n",
       "      <td>&lt;H&gt; Uruguay &lt;R&gt; leader Name &lt;T&gt; Raul Fernando ...</td>\n",
       "      <td>Alfredo Zitarrosa died in Montevideo, Uruguay....</td>\n",
       "      <td>0.574105</td>\n",
       "    </tr>\n",
       "    <tr>\n",
       "      <th>29790</th>\n",
       "      <td>29790</td>\n",
       "      <td>0.740083</td>\n",
       "      <td>0.765308</td>\n",
       "      <td>0.792313</td>\n",
       "      <td>Alfredo Zitarrosa died in Montevideo, Uruguay....</td>\n",
       "      <td>&lt;H&gt; Uruguay &lt;R&gt; leader Name &lt;T&gt; Raul Fernando ...</td>\n",
       "      <td>Alfredo Zitarrosa died in Montevideo, Uruguay....</td>\n",
       "      <td>0.579175</td>\n",
       "    </tr>\n",
       "    <tr>\n",
       "      <th>29791</th>\n",
       "      <td>29791</td>\n",
       "      <td>0.747711</td>\n",
       "      <td>0.766841</td>\n",
       "      <td>0.786976</td>\n",
       "      <td>Alfredo Zitarrosa died in Montevideo, Uruguay....</td>\n",
       "      <td>&lt;H&gt; Uruguay &lt;R&gt; leader Name &lt;T&gt; Raul Fernando ...</td>\n",
       "      <td>Alfredo Zitarrosa died in Montevideo, Uruguay....</td>\n",
       "      <td>0.581117</td>\n",
       "    </tr>\n",
       "  </tbody>\n",
       "</table>\n",
       "<p>29792 rows × 8 columns</p>\n",
       "</div>"
      ],
      "text/plain": [
       "       Unnamed: 0      prec      fsco    recall  \\\n",
       "0               0  0.849522  0.852833  0.856169   \n",
       "1               1  0.738795  0.731484  0.724316   \n",
       "2               2  0.572253  0.416227  0.327055   \n",
       "3               3  1.000000  1.000000  1.000000   \n",
       "4               4  0.818039  0.836670  0.856169   \n",
       "...           ...       ...       ...       ...   \n",
       "29787       29787  0.770897  0.769829  0.768765   \n",
       "29788       29788  0.553238  0.587324  0.625885   \n",
       "29789       29789  0.685944  0.727197  0.773730   \n",
       "29790       29790  0.740083  0.765308  0.792313   \n",
       "29791       29791  0.747711  0.766841  0.786976   \n",
       "\n",
       "                                               reference  \\\n",
       "0      Abilene, Texas is served by the Abilene region...   \n",
       "1      Abilene, Texas is served by the Abilene region...   \n",
       "2      Abilene, Texas is served by the Abilene region...   \n",
       "3      Abilene, Texas is served by the Abilene region...   \n",
       "4      Abilene, Texas is served by the Abilene region...   \n",
       "...                                                  ...   \n",
       "29787  Alfredo Zitarrosa died in Montevideo, Uruguay....   \n",
       "29788  Alfredo Zitarrosa died in Montevideo, Uruguay....   \n",
       "29789  Alfredo Zitarrosa died in Montevideo, Uruguay....   \n",
       "29790  Alfredo Zitarrosa died in Montevideo, Uruguay....   \n",
       "29791  Alfredo Zitarrosa died in Montevideo, Uruguay....   \n",
       "\n",
       "                                                     src  \\\n",
       "0      <H> Abilene Regional Airport <R> city Served <...   \n",
       "1      <H> Abilene Regional Airport <R> city Served <...   \n",
       "2      <H> Abilene Regional Airport <R> city Served <...   \n",
       "3      <H> Abilene Regional Airport <R> city Served <...   \n",
       "4      <H> Abilene Regional Airport <R> city Served <...   \n",
       "...                                                  ...   \n",
       "29787  <H> Uruguay <R> leader Name <T> Raul Fernando ...   \n",
       "29788  <H> Uruguay <R> leader Name <T> Raul Fernando ...   \n",
       "29789  <H> Uruguay <R> leader Name <T> Raul Fernando ...   \n",
       "29790  <H> Uruguay <R> leader Name <T> Raul Fernando ...   \n",
       "29791  <H> Uruguay <R> leader Name <T> Raul Fernando ...   \n",
       "\n",
       "                                                      mt  parentqe  \n",
       "0      Abilene Regional Airport serves the city of Ab...  0.659078  \n",
       "1        Abilene Regional Airport serves Abilene, Texas.  0.785484  \n",
       "2      Abilene regional airport serves the city of Ab...  0.555692  \n",
       "3      Abilene Regional Airport serves the city of Ab...  0.640657  \n",
       "4      The Abilene Regional Airport serves the city o...  0.672085  \n",
       "...                                                  ...       ...  \n",
       "29787  Alfredo Zitarrosa died in Montevideo, Uruguay....  0.581019  \n",
       "29788  Alfredo Zitarrosa died in Montevideo, Uruguay....  0.579860  \n",
       "29789  Alfredo Zitarrosa died in Montevideo, Uruguay....  0.574105  \n",
       "29790  Alfredo Zitarrosa died in Montevideo, Uruguay....  0.579175  \n",
       "29791  Alfredo Zitarrosa died in Montevideo, Uruguay....  0.581117  \n",
       "\n",
       "[29792 rows x 8 columns]"
      ]
     },
     "execution_count": 23,
     "metadata": {},
     "output_type": "execute_result"
    }
   ],
   "source": [
    "rerdf"
   ]
  },
  {
   "cell_type": "code",
   "execution_count": 24,
   "id": "c0acd32a-5b76-4075-b1b3-b35f77f1413a",
   "metadata": {},
   "outputs": [],
   "source": [
    "rerdf['uid'] = list(range(len(rerdf)))\n",
    "rerdf['uid'] = (rerdf['uid']/16).round()"
   ]
  },
  {
   "cell_type": "code",
   "execution_count": 25,
   "id": "8827dec7-53d6-47a4-9f9f-81622d9b021e",
   "metadata": {},
   "outputs": [],
   "source": [
    "def rerank_byval(col):\n",
    "    N=1\n",
    "    fsort = rerdf.sort_values(by=['uid', col], ascending=[True, False]).groupby('uid', as_index=False).nth[:N]\n",
    "    return fsort"
   ]
  },
  {
   "cell_type": "code",
   "execution_count": 26,
   "id": "cc0ad653-0d93-4bb7-ae9a-8dd11ad90440",
   "metadata": {},
   "outputs": [],
   "source": [
    "rerd = rerank_byval(\"parentqe\")"
   ]
  },
  {
   "cell_type": "code",
   "execution_count": 46,
   "id": "f32b216b-69fa-462f-8c1f-22c45cd3ab64",
   "metadata": {},
   "outputs": [
    {
     "name": "stdout",
     "output_type": "stream",
     "text": [
      "F score 0.7015845281218941\n",
      "Recall  0.7100264901512193\n",
      "Precision  0.7325728287399632\n"
     ]
    }
   ],
   "source": [
    "print(\"F score\", rerd['fsco'].mean())\n",
    "print(\"Recall \", rerd['recall'].mean())\n",
    "print('Precision ', rerd['prec'].mean())"
   ]
  },
  {
   "cell_type": "code",
   "execution_count": 39,
   "id": "13011d5b-e4a8-43eb-84a6-e4c9ab2e0ee6",
   "metadata": {},
   "outputs": [
    {
     "data": {
      "text/plain": [
       "0.6093371023039469"
      ]
     },
     "execution_count": 39,
     "metadata": {},
     "output_type": "execute_result"
    }
   ],
   "source": [
    "rerdf['fsco'].mean()"
   ]
  },
  {
   "cell_type": "code",
   "execution_count": 82,
   "id": "4b952dfb-74ee-4db8-bae0-30a4c6e4ddd6",
   "metadata": {},
   "outputs": [],
   "source": [
    "tmp = rerdf[rerdf['fsco']>rerdf['prec']]\n",
    "tmp = tmp[tmp['fsco']>tmp['fsco']]"
   ]
  },
  {
   "cell_type": "code",
   "execution_count": 78,
   "id": "4bf67499-c377-4f7d-bb2f-b67c6e4e4f68",
   "metadata": {},
   "outputs": [
    {
     "name": "stdout",
     "output_type": "stream",
     "text": [
      "times fsco is less than both  0.05306\n",
      "recall is greatest  0.614\n",
      "precision is greatest  0.3713\n"
     ]
    }
   ],
   "source": [
    "print(\"times fsco is less than both \", 0.05306)\n",
    "print(\"recall is greatest \", .614)\n",
    "print(\"precision is greatest \", .3713)\n"
   ]
  },
  {
   "cell_type": "code",
   "execution_count": 18,
   "id": "b62df8a4-928f-494c-b083-561464ce3aae",
   "metadata": {},
   "outputs": [],
   "source": [
    "a = ['apple man', 'apple man', 'b', 'b', 'c']\n",
    "b = ['apple man', 'b']\n",
    "c = [1, 2]\n",
    "adf = pd.DataFrame()\n",
    "bdf = pd.DataFrame()\n",
    "adf['col1'] = a\n",
    "bdf['col1'] = b\n",
    "bdf['col2'] = c"
   ]
  },
  {
   "cell_type": "code",
   "execution_count": 19,
   "id": "a7d5a7bc-81c2-4604-aa38-03251c21c2f3",
   "metadata": {},
   "outputs": [],
   "source": [
    "merged = pd.merge(adf, bdf, on='col1')"
   ]
  },
  {
   "cell_type": "code",
   "execution_count": 20,
   "id": "3679531c-5bd3-4b21-a267-7c0ffa068811",
   "metadata": {},
   "outputs": [
    {
     "data": {
      "text/plain": [
       "0    (apple, man)\n",
       "1    (apple, man)\n",
       "2             (b)\n",
       "3             (b)\n",
       "dtype: object"
      ]
     },
     "execution_count": 20,
     "metadata": {},
     "output_type": "execute_result"
    }
   ],
   "source": [
    "merged.apply(lambda x: nlp(x.col1), 1)"
   ]
  },
  {
   "cell_type": "code",
   "execution_count": 14,
   "id": "0bb98a47-c7a0-433f-b734-89e78130f545",
   "metadata": {},
   "outputs": [],
   "source": [
    "import spacy"
   ]
  },
  {
   "cell_type": "code",
   "execution_count": 15,
   "id": "62c32890-f3c8-48a0-bbfa-a84589feda9b",
   "metadata": {},
   "outputs": [],
   "source": [
    "nlp = spacy.load('en_core_web_sm')"
   ]
  },
  {
   "cell_type": "code",
   "execution_count": 26,
   "id": "c7791823-cb1d-48a0-9181-ae516e5d9783",
   "metadata": {},
   "outputs": [
    {
     "data": {
      "text/plain": []
     },
     "execution_count": 26,
     "metadata": {},
     "output_type": "execute_result"
    }
   ],
   "source": [
    "nlp(\"\")"
   ]
  }
 ],
 "metadata": {
  "kernelspec": {
   "display_name": "Python 3 (ipykernel)",
   "language": "python",
   "name": "python3"
  },
  "language_info": {
   "codemirror_mode": {
    "name": "ipython",
    "version": 3
   },
   "file_extension": ".py",
   "mimetype": "text/x-python",
   "name": "python",
   "nbconvert_exporter": "python",
   "pygments_lexer": "ipython3",
   "version": "3.8.12"
  }
 },
 "nbformat": 4,
 "nbformat_minor": 5
}
